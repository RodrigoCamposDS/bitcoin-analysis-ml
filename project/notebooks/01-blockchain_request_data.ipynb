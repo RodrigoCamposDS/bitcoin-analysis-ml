{
 "cells": [
  {
   "cell_type": "code",
   "execution_count": 7,
   "metadata": {},
   "outputs": [],
   "source": [
    "from src.etl.etl_blockchain import executar_pipeline_blockchain\n",
    "# from src.ingest.ingest_bigquery import iniciar_ingestao_bigquery"
   ]
  },
  {
   "cell_type": "code",
   "execution_count": 2,
   "metadata": {},
   "outputs": [
    {
     "name": "stdout",
     "output_type": "stream",
     "text": [
      "\n",
      "-> Iniciando coleta do lote 1 de 5...\n",
      "[INFO] Buscando 100 blocos (modo=auto)...\n",
      "\n",
      "-> Blocos:\n",
      "100 Blocos salvos agora em --------------------------------------> /Users/rodrigocampos/Library/Mobile Documents/com~apple~CloudDocs/requests/blockchain_blocks_part\n",
      "100 Blocos acumulados no total em blockchain_blocks_part\n",
      "\n",
      "-> Transações:\n",
      "250411 Transações salvas agora em --------------------------------------------> /Users/rodrigocampos/Library/Mobile Documents/com~apple~CloudDocs/requests/blockchain_transactions_part\n",
      "\n",
      "-> Endereços:\n",
      "1277067 Endereços salvos agora em --------------------------------------------> /Users/rodrigocampos/Library/Mobile Documents/com~apple~CloudDocs/requests/blockchain_addresses_part\n",
      "\n",
      "-> Iniciando coleta do lote 2 de 5...\n",
      "[INFO] Buscando 100 blocos (modo=auto)...\n",
      "\n",
      "-> Blocos:\n",
      "0 Blocos salvos agora em --------------------------------------> /Users/rodrigocampos/Library/Mobile Documents/com~apple~CloudDocs/requests/blockchain_blocks_part\n",
      "100 Blocos acumulados no total em blockchain_blocks_part\n",
      "\n",
      "-> Transações:\n",
      "0 Transações salvas agora em --------------------------------------------> /Users/rodrigocampos/Library/Mobile Documents/com~apple~CloudDocs/requests/blockchain_transactions_part\n",
      "\n",
      "-> Endereços:\n",
      "0 Endereços salvos agora em --------------------------------------------> /Users/rodrigocampos/Library/Mobile Documents/com~apple~CloudDocs/requests/blockchain_addresses_part\n",
      "\n",
      "-> Iniciando coleta do lote 3 de 5...\n",
      "[INFO] Buscando 100 blocos (modo=auto)...\n",
      "\n",
      "-> Blocos:\n",
      "0 Blocos salvos agora em --------------------------------------> /Users/rodrigocampos/Library/Mobile Documents/com~apple~CloudDocs/requests/blockchain_blocks_part\n",
      "100 Blocos acumulados no total em blockchain_blocks_part\n",
      "\n",
      "-> Transações:\n",
      "0 Transações salvas agora em --------------------------------------------> /Users/rodrigocampos/Library/Mobile Documents/com~apple~CloudDocs/requests/blockchain_transactions_part\n",
      "\n",
      "-> Endereços:\n",
      "0 Endereços salvos agora em --------------------------------------------> /Users/rodrigocampos/Library/Mobile Documents/com~apple~CloudDocs/requests/blockchain_addresses_part\n",
      "\n",
      "-> Iniciando coleta do lote 4 de 5...\n",
      "[INFO] Buscando 100 blocos (modo=auto)...\n",
      "\n",
      "-> Blocos:\n",
      "0 Blocos salvos agora em --------------------------------------> /Users/rodrigocampos/Library/Mobile Documents/com~apple~CloudDocs/requests/blockchain_blocks_part\n",
      "100 Blocos acumulados no total em blockchain_blocks_part\n",
      "\n",
      "-> Transações:\n",
      "0 Transações salvas agora em --------------------------------------------> /Users/rodrigocampos/Library/Mobile Documents/com~apple~CloudDocs/requests/blockchain_transactions_part\n",
      "\n",
      "-> Endereços:\n",
      "0 Endereços salvos agora em --------------------------------------------> /Users/rodrigocampos/Library/Mobile Documents/com~apple~CloudDocs/requests/blockchain_addresses_part\n",
      "\n",
      "-> Iniciando coleta do lote 5 de 5...\n",
      "[INFO] Buscando 100 blocos (modo=auto)...\n",
      "\n",
      "-> Blocos:\n",
      "0 Blocos salvos agora em --------------------------------------> /Users/rodrigocampos/Library/Mobile Documents/com~apple~CloudDocs/requests/blockchain_blocks_part\n",
      "100 Blocos acumulados no total em blockchain_blocks_part\n",
      "\n",
      "-> Transações:\n",
      "0 Transações salvas agora em --------------------------------------------> /Users/rodrigocampos/Library/Mobile Documents/com~apple~CloudDocs/requests/blockchain_transactions_part\n",
      "\n",
      "-> Endereços:\n",
      "0 Endereços salvos agora em --------------------------------------------> /Users/rodrigocampos/Library/Mobile Documents/com~apple~CloudDocs/requests/blockchain_addresses_part\n",
      "\n",
      "-> Coleta concluída em 74.20 segundos.\n",
      "\n",
      "-> Execução finalizada!\n"
     ]
    }
   ],
   "source": [
    "await executar_pipeline_blockchain(total_blocos=500, tamanho_lote=100, modo=\"auto\")"
   ]
  },
  {
   "cell_type": "code",
   "execution_count": 10,
   "metadata": {},
   "outputs": [
    {
     "name": "stdout",
     "output_type": "stream",
     "text": [
      "\n",
      "-> Iniciando coleta do lote 1 de 1...\n",
      "[INFO] Buscando 5 blocos (modo=recente)...\n",
      "\n",
      "-> Blocos:\n",
      "5 Blocos salvos agora em --------------------------------------> /Users/rodrigocampos/Library/Mobile Documents/com~apple~CloudDocs/requests/blockchain_blocks_part\n",
      "505 Blocos acumulados no total em blockchain_blocks_part\n",
      "\n",
      "-> Transações:\n",
      "17576 Transações salvas agora em --------------------------------------------> /Users/rodrigocampos/Library/Mobile Documents/com~apple~CloudDocs/requests/blockchain_transactions_part\n",
      "\n",
      "-> Endereços:\n",
      "88547 Endereços salvos agora em --------------------------------------------> /Users/rodrigocampos/Library/Mobile Documents/com~apple~CloudDocs/requests/blockchain_addresses_part\n",
      "\n",
      "-> Iniciando coleta do lote 1 de 1...\n",
      "[INFO] Nenhum bloco válido disponível para baixar.\n",
      "[INFO] Nenhum bloco novo encontrado. Encerrando coleta.\n",
      "\n",
      "-> Coleta concluída em 6.98 segundos.\n",
      "\n",
      "-> Execução finalizada!\n"
     ]
    }
   ],
   "source": [
    "await executar_pipeline_blockchain(total_blocos=100, tamanho_lote=100, modo=\"recente\")"
   ]
  },
  {
   "cell_type": "code",
   "execution_count": 9,
   "metadata": {},
   "outputs": [
    {
     "name": "stdout",
     "output_type": "stream",
     "text": [
      "\n",
      "-> Iniciando coleta do lote 1 de 5...\n",
      "[INFO] Buscando 100 blocos (modo=antigo)...\n",
      "\n",
      "-> Blocos:\n",
      "100 Blocos salvos agora em --------------------------------------> /Users/rodrigocampos/Library/Mobile Documents/com~apple~CloudDocs/requests/blockchain_blocks_part\n",
      "100 Blocos acumulados no total em blockchain_blocks_part\n",
      "\n",
      "-> Transações:\n",
      "210604 Transações salvas agora em --------------------------------------------> /Users/rodrigocampos/Library/Mobile Documents/com~apple~CloudDocs/requests/blockchain_transactions_part\n",
      "\n",
      "-> Endereços:\n",
      "1497228 Endereços salvos agora em --------------------------------------------> /Users/rodrigocampos/Library/Mobile Documents/com~apple~CloudDocs/requests/blockchain_addresses_part\n",
      "\n",
      "-> Iniciando coleta do lote 2 de 5...\n",
      "[INFO] Buscando 100 blocos (modo=antigo)...\n",
      "\n",
      "-> Blocos:\n",
      "100 Blocos salvos agora em --------------------------------------> /Users/rodrigocampos/Library/Mobile Documents/com~apple~CloudDocs/requests/blockchain_blocks_part\n",
      "200 Blocos acumulados no total em blockchain_blocks_part\n",
      "\n",
      "-> Transações:\n",
      "228103 Transações salvas agora em --------------------------------------------> /Users/rodrigocampos/Library/Mobile Documents/com~apple~CloudDocs/requests/blockchain_transactions_part\n",
      "\n",
      "-> Endereços:\n",
      "1498810 Endereços salvos agora em --------------------------------------------> /Users/rodrigocampos/Library/Mobile Documents/com~apple~CloudDocs/requests/blockchain_addresses_part\n",
      "\n",
      "-> Iniciando coleta do lote 3 de 5...\n",
      "[INFO] Buscando 100 blocos (modo=antigo)...\n",
      "\n",
      "-> Blocos:\n",
      "100 Blocos salvos agora em --------------------------------------> /Users/rodrigocampos/Library/Mobile Documents/com~apple~CloudDocs/requests/blockchain_blocks_part\n",
      "300 Blocos acumulados no total em blockchain_blocks_part\n",
      "\n",
      "-> Transações:\n",
      "281608 Transações salvas agora em --------------------------------------------> /Users/rodrigocampos/Library/Mobile Documents/com~apple~CloudDocs/requests/blockchain_transactions_part\n",
      "\n",
      "-> Endereços:\n",
      "1436045 Endereços salvos agora em --------------------------------------------> /Users/rodrigocampos/Library/Mobile Documents/com~apple~CloudDocs/requests/blockchain_addresses_part\n",
      "\n",
      "-> Iniciando coleta do lote 4 de 5...\n",
      "[INFO] Buscando 100 blocos (modo=antigo)...\n",
      "\n",
      "-> Blocos:\n",
      "100 Blocos salvos agora em --------------------------------------> /Users/rodrigocampos/Library/Mobile Documents/com~apple~CloudDocs/requests/blockchain_blocks_part\n",
      "400 Blocos acumulados no total em blockchain_blocks_part\n",
      "\n",
      "-> Transações:\n",
      "292300 Transações salvas agora em --------------------------------------------> /Users/rodrigocampos/Library/Mobile Documents/com~apple~CloudDocs/requests/blockchain_transactions_part\n",
      "\n",
      "-> Endereços:\n",
      "1493111 Endereços salvos agora em --------------------------------------------> /Users/rodrigocampos/Library/Mobile Documents/com~apple~CloudDocs/requests/blockchain_addresses_part\n",
      "\n",
      "-> Iniciando coleta do lote 5 de 5...\n",
      "[INFO] Buscando 100 blocos (modo=antigo)...\n",
      "\n",
      "-> Blocos:\n",
      "100 Blocos salvos agora em --------------------------------------> /Users/rodrigocampos/Library/Mobile Documents/com~apple~CloudDocs/requests/blockchain_blocks_part\n",
      "500 Blocos acumulados no total em blockchain_blocks_part\n",
      "\n",
      "-> Transações:\n",
      "317183 Transações salvas agora em --------------------------------------------> /Users/rodrigocampos/Library/Mobile Documents/com~apple~CloudDocs/requests/blockchain_transactions_part\n",
      "\n",
      "-> Endereços:\n",
      "1524835 Endereços salvos agora em --------------------------------------------> /Users/rodrigocampos/Library/Mobile Documents/com~apple~CloudDocs/requests/blockchain_addresses_part\n",
      "\n",
      "-> Coleta concluída em 266.17 segundos.\n",
      "\n",
      "-> Execução finalizada!\n"
     ]
    }
   ],
   "source": [
    "await executar_pipeline_blockchain(total_blocos=500, tamanho_lote=100, modo=\"antigo\")"
   ]
  },
  {
   "cell_type": "code",
   "execution_count": null,
   "metadata": {},
   "outputs": [],
   "source": [
    "# await executar_pipeline_blockchain(total_blocos=1000, tamanho_lote=100, modo=\"manual\", bloco_inicio= 891386, bloco_fim=891386)"
   ]
  },
  {
   "cell_type": "code",
   "execution_count": null,
   "metadata": {},
   "outputs": [],
   "source": [
    "# iniciar_ingestao_bigquery()"
   ]
  }
 ],
 "metadata": {
  "kernelspec": {
   "display_name": "Python (venv)",
   "language": "python",
   "name": "venv"
  },
  "language_info": {
   "codemirror_mode": {
    "name": "ipython",
    "version": 3
   },
   "file_extension": ".py",
   "mimetype": "text/x-python",
   "name": "python",
   "nbconvert_exporter": "python",
   "pygments_lexer": "ipython3",
   "version": "3.13.2"
  }
 },
 "nbformat": 4,
 "nbformat_minor": 2
}
