{
 "cells": [
  {
   "cell_type": "code",
   "execution_count": 1,
   "metadata": {},
   "outputs": [],
   "source": [
    "import pandas as pd\n",
    "import numpy as np\n",
    "import plotly.express as px\n",
    "from src.data.data_processed.data_exploration import  executar_pipeline\n",
    "from pyspark.sql.window import Window\n",
    "from pyspark.sql.functions import col\n",
    "import matplotlib.pyplot as plt\n",
    "from pyspark.sql import functions as F\n",
    "from pyspark.sql import SparkSession\n",
    "from concurrent.futures import ThreadPoolExecutor\n",
    "import multiprocessing\n",
    "import psutil\n",
    "from src.visualizations.plot_btc import plot_transaction_fee_time_series, plot_btc_total_hourly, plot_btc_moved_hourly, plot_transaction_distribution, plot_btc_blocks_per_day\n"
   ]
  },
  {
   "cell_type": "code",
   "execution_count": 2,
   "metadata": {},
   "outputs": [
    {
     "name": "stdout",
     "output_type": "stream",
     "text": [
      "Número de partições ajustado para: 16\n"
     ]
    }
   ],
   "source": [
    "num_cores = psutil.cpu_count(logical=False)  \n",
    "# --> Obtém o número de núcleos físicos do processador / Gets the number of physical CPU cores <--\n",
    "\n",
    "NUM_PARTITIONS = max(num_cores * 2, 16)  \n",
    "# --> Ajusta o número de partições para o dobro dos núcleos físicos ou no mínimo 16, dependendo do maior valor / Adjusts the number of partitions to double the physical cores or at least 16, depending on which is greater <--\n",
    "\n",
    "print(f\"Número de partições ajustado para: {NUM_PARTITIONS}\")\n",
    "# --> Exibe o número de partições ajustado / Displays the adjusted number of partitions <--"
   ]
  },
  {
   "cell_type": "code",
   "execution_count": 3,
   "metadata": {},
   "outputs": [
    {
     "name": "stderr",
     "output_type": "stream",
     "text": [
      "25/04/08 16:32:59 WARN Utils: Your hostname, Mac.local resolves to a loopback address: 127.0.0.1; using 192.168.0.213 instead (on interface en0)\n",
      "25/04/08 16:32:59 WARN Utils: Set SPARK_LOCAL_IP if you need to bind to another address\n",
      "Setting default log level to \"WARN\".\n",
      "To adjust logging level use sc.setLogLevel(newLevel). For SparkR, use setLogLevel(newLevel).\n",
      "25/04/08 16:33:00 WARN NativeCodeLoader: Unable to load native-hadoop library for your platform... using builtin-java classes where applicable\n"
     ]
    },
    {
     "name": "stdout",
     "output_type": "stream",
     "text": [
      "\n",
      " SparkSession configurada com sucesso!\n"
     ]
    }
   ],
   "source": [
    "spark = SparkSession.builder \\\n",
    "    .appName(\"Corrigir_Parquet\") \\\n",
    "    .config(\"spark.sql.shuffle.partitions\", str(NUM_PARTITIONS)) \\\n",
    "    .config(\"spark.default.parallelism\", \"6\") \\\n",
    "    .config(\"spark.driver.memory\", \"4g\") \\\n",
    "    .config(\"spark.executor.memory\", \"4g\") \\\n",
    "    .config(\"spark.memory.fraction\", \"0.80\") \\\n",
    "    .config(\"spark.memory.storageFraction\", \"0.5\") \\\n",
    "    .config(\"spark.sql.files.maxPartitionBytes\", \"128MB\") \\\n",
    "    .config(\"spark.cleaner.referenceTracking.cleanCheckpoints\", \"false\") \\\n",
    "    .config(\"spark.executor.heartbeatInterval\", \"60000ms\") \\\n",
    "    .config(\"spark.task.cpus\", \"1\") \\\n",
    "    .config(\"spark.sql.execution.arrow.pyspark.enabled\", \"true\") \\\n",
    "    .master(\"local[*]\") \\\n",
    "    .getOrCreate()\n",
    "\n",
    "spark.sparkContext.setLogLevel(\"ERROR\")\n",
    "\n",
    "print(\"\\n SparkSession configurada com sucesso!\")\n"
   ]
  },
  {
   "cell_type": "code",
   "execution_count": 4,
   "metadata": {},
   "outputs": [
    {
     "name": "stdout",
     "output_type": "stream",
     "text": [
      "Buscando arquivos corrompidos ou ausentes...\n"
     ]
    },
    {
     "name": "stderr",
     "output_type": "stream",
     "text": [
      "Verificando arquivos:   0%|          | 0/505 [00:00<?, ?arquivo/s]"
     ]
    },
    {
     "name": "stderr",
     "output_type": "stream",
     "text": [
      "Verificando arquivos: 100%|██████████| 505/505 [00:02<00:00, 234.37arquivo/s]\n",
      "Verificando arquivos: 100%|██████████| 505/505 [00:01<00:00, 332.00arquivo/s]\n",
      "Verificando arquivos: 100%|██████████| 505/505 [00:04<00:00, 108.41arquivo/s]"
     ]
    },
    {
     "name": "stdout",
     "output_type": "stream",
     "text": [
      "Nenhum arquivo corrompido encontrado.\n"
     ]
    },
    {
     "name": "stderr",
     "output_type": "stream",
     "text": [
      "\n"
     ]
    }
   ],
   "source": [
    "await executar_pipeline()"
   ]
  },
  {
   "cell_type": "code",
   "execution_count": 5,
   "metadata": {},
   "outputs": [
    {
     "name": "stderr",
     "output_type": "stream",
     "text": [
      "                                                                                \r"
     ]
    }
   ],
   "source": [
    "PASTA_BLOCKS = \"/Users/rodrigocampos/Library/Mobile Documents/com~apple~CloudDocs/requests/blockchain_blocks_part\"\n",
    "df_blocks = spark.read.parquet(PASTA_BLOCKS)"
   ]
  },
  {
   "cell_type": "markdown",
   "metadata": {},
   "source": [
    "\n",
    "<img src=\"https://upload.wikimedia.org/wikipedia/commons/4/46/Bitcoin.svg\" alt=\"Logo do Bitcoin\" width=\"100\" style=\"margin-right: 30px;\">\n",
    "<font size=\"15\">₿locks</font>"
   ]
  },
  {
   "cell_type": "markdown",
   "metadata": {},
   "source": [
    "root  \n",
    " |-- block_height: long  ------------------------> Representa a altura do bloco na blockchain, ou seja, o número sequencial de cada bloco na cadeia.  \n",
    " |-- timestamp: timestamp_ntz  ----------------> A coluna timestamp registra o momento exato em que um bloco foi minerado e adicionado à blockchain.  \n",
    " |-- block_hash: string  ------------------------> Representa o identificador único do bloco, gerado a partir do hash criptográfico do bloco atual, garantindo a integridade e segurança da blockchain.  \n",
    " |-- num_transactions: long  -------------------> Indica quantas transações foram incluídas em cada bloco.   \n",
    " |-- total_btc_moved: double  -----------------> Representa a quantidade total de Bitcoin transacionada dentro de um bloco, ou seja, a soma de todos os valores de entrada e saída das transações contidas nesse bloco.  \n",
    " |-- block_reward: double  --------------------> Representa a recompensa que o minerador recebe ao minerar um bloco.  \n",
    " |-- total_fees: double  ------------------------> Representa o total de taxas pagas pelos usuários para incluir transações em um bloco.   \n",
    " |-- block_value_btc: double  -----------------> Representa o valor total gerado em um bloco, ou seja, a soma da recompensa do bloco (block_reward) e das taxas de transação (total_fees). "
   ]
  },
  {
   "cell_type": "markdown",
   "metadata": {},
   "source": [
    "\n",
    "\n",
    "##### 🔶 ₿ -----> block_height"
   ]
  },
  {
   "cell_type": "code",
   "execution_count": 6,
   "metadata": {},
   "outputs": [
    {
     "name": "stdout",
     "output_type": "stream",
     "text": [
      "+------------+-------------------+--------------------+----------------+---------------+------------+----------+---------------+\n",
      "|block_height|          timestamp|          block_hash|num_transactions|total_btc_moved|block_reward|total_fees|block_value_btc|\n",
      "+------------+-------------------+--------------------+----------------+---------------+------------+----------+---------------+\n",
      "|      889630|2025-03-27 06:43:16|00000000000000000...|            2357|  2340.73699632|       3.125| 0.0449114|      3.1699114|\n",
      "|      889748|2025-03-28 00:27:40|00000000000000000...|            1313|  1034.11962593|       3.125|0.01968745|     3.14468745|\n",
      "|      889884|2025-03-28 21:00:00|00000000000000000...|            1302|   469.19245157|       3.125|0.01831057|     3.14331057|\n",
      "|      889894|2025-03-28 22:57:06|00000000000000000...|            1418|  1735.61371099|       3.125|0.02688112|     3.15188112|\n",
      "|      889556|2025-03-26 19:06:16|00000000000000000...|            2831|  6921.03708655|       3.125|0.08038681|     3.20538681|\n",
      "+------------+-------------------+--------------------+----------------+---------------+------------+----------+---------------+\n",
      "only showing top 5 rows\n",
      "\n",
      "root\n",
      " |-- block_height: long (nullable = true)\n",
      " |-- timestamp: timestamp_ntz (nullable = true)\n",
      " |-- block_hash: string (nullable = true)\n",
      " |-- num_transactions: long (nullable = true)\n",
      " |-- total_btc_moved: double (nullable = true)\n",
      " |-- block_reward: double (nullable = true)\n",
      " |-- total_fees: double (nullable = true)\n",
      " |-- block_value_btc: double (nullable = true)\n",
      "\n"
     ]
    }
   ],
   "source": [
    "df_blocks.show(5)\n",
    "df_blocks.printSchema()"
   ]
  },
  {
   "cell_type": "code",
   "execution_count": 7,
   "metadata": {},
   "outputs": [],
   "source": [
    "# Ordenar os dados por block_height\n",
    "df_blocks = df_blocks.orderBy(\"block_height\")"
   ]
  },
  {
   "cell_type": "code",
   "execution_count": 8,
   "metadata": {},
   "outputs": [
    {
     "name": "stdout",
     "output_type": "stream",
     "text": [
      "Menor bloco salvo: 889527\n",
      "Maior bloco salvo: 891536\n"
     ]
    }
   ],
   "source": [
    "menor_bloco = df_blocks.select(\"block_height\").orderBy(\"block_height\").first()[0]\n",
    "# --> Seleciona o menor número de bloco presente no DataFrame / Selects the smallest block number in the DataFrame <--\n",
    "\n",
    "maior_bloco = df_blocks.select(\"block_height\").orderBy(F.desc(\"block_height\")).first()[0]\n",
    "# --> Seleciona o maior número de bloco presente no DataFrame / Selects the largest block number in the DataFrame <--\n",
    "\n",
    "print(f\"Menor bloco salvo: {menor_bloco}\")\n",
    "# --> Exibe o menor número de bloco salvo para fins de auditoria / Displays the lowest saved block number for auditing <--\n",
    "\n",
    "print(f\"Maior bloco salvo: {maior_bloco}\")\n",
    "# --> Exibe o maior número de bloco salvo para fins de auditoria / Displays the highest saved block number for auditing <--"
   ]
  },
  {
   "cell_type": "code",
   "execution_count": 9,
   "metadata": {},
   "outputs": [],
   "source": [
    "windowSpec = Window.orderBy(\"block_height\")\n",
    "# --> Define uma janela ordenada pela altura do bloco para operações entre linhas consecutivas / Defines a window ordered by block height for row-to-row operations <--\n",
    "\n",
    "df_blocks = df_blocks.withColumn(\"prev_block_height\", F.lag(\"block_height\").over(windowSpec))\n",
    "# --> Adiciona uma nova coluna com a altura do bloco anterior utilizando a função lag() / Adds a new column with the previous block height using lag() function <--"
   ]
  },
  {
   "cell_type": "markdown",
   "metadata": {},
   "source": [
    "Isso irá mostrar os blocos onde houve gaps:  \n",
    "\n",
    "+-----------------+-------------+  \n",
    "|prev_block_height|block_height|  \n",
    "+-----------------+-------------+  \n",
    "|-----875540-----|---875550---|   <-- Gap de 9 blocos  \n",
    "|-----875560-----|---875570---|   <-- Gap de 9 blocos  \n",
    "+-----------------+-------------+  "
   ]
  },
  {
   "cell_type": "code",
   "execution_count": 10,
   "metadata": {},
   "outputs": [
    {
     "name": "stdout",
     "output_type": "stream",
     "text": [
      "+-----------------+------------+\n",
      "|prev_block_height|block_height|\n",
      "+-----------------+------------+\n",
      "|           890026|      891532|\n",
      "+-----------------+------------+\n",
      "\n"
     ]
    }
   ],
   "source": [
    "df_blocks_filtered = df_blocks.select(\"block_height\", \"prev_block_height\")\n",
    "# --> Seleciona apenas as colunas de altura atual e anterior dos blocos / Selects only current and previous block height columns <--\n",
    "\n",
    "df_gaps = df_blocks_filtered.withColumn(\"gap_detected\", (col(\"block_height\") - col(\"prev_block_height\")) > 1)\n",
    "# --> Cria uma nova coluna indicando se há um intervalo (gap) entre blocos consecutivos / Creates a new column indicating if there's a gap between consecutive blocks <--\n",
    "\n",
    "df_gaps_filtered = df_gaps.filter(col(\"gap_detected\") == True)\n",
    "# --> Filtra apenas os casos onde um intervalo foi detectado / Filters only rows where a gap was detected <--\n",
    "\n",
    "df_gaps_filtered.select(\"prev_block_height\", \"block_height\").show()\n",
    "# --> Exibe os blocos onde há lacunas na sequência para auditoria / Displays blocks with gaps in the sequence for auditing <--"
   ]
  },
  {
   "cell_type": "code",
   "execution_count": 11,
   "metadata": {},
   "outputs": [],
   "source": [
    "image_path = \"/Users/rodrigocampos/Documents/Bitcoin/project/src/visualizations/BTC_black.png\""
   ]
  },
  {
   "cell_type": "code",
   "execution_count": 12,
   "metadata": {},
   "outputs": [
    {
     "data": {
      "application/vnd.plotly.v1+json": {
       "config": {
        "plotlyServerURL": "https://plot.ly"
       },
       "data": [
        {
         "fill": "tozeroy",
         "fillcolor": "rgba(229, 165, 0, 0.3)",
         "hovertemplate": "Data=%{x}<br>Número de Blocos=%{y}<extra></extra>",
         "legendgroup": "",
         "line": {
          "color": "#E57C1F",
          "dash": "solid",
          "width": 1.5
         },
         "marker": {
          "symbol": "circle"
         },
         "mode": "lines",
         "name": "",
         "orientation": "v",
         "showlegend": false,
         "type": "scatter",
         "x": [
          "2025-03-26",
          "2025-03-27",
          "2025-03-28",
          "2025-03-29",
          "2025-04-08"
         ],
         "xaxis": "x",
         "y": {
          "bdata": "RgCUAJoAgAAFAA==",
          "dtype": "i2"
         },
         "yaxis": "y"
        }
       ],
       "layout": {
        "height": 600,
        "images": [
         {
          "sizex": 0.15,
          "sizey": 0.15,
          "source": "/Users/rodrigocampos/Documents/Bitcoin/project/src/visualizations/BTC_black.png",
          "x": 0.008,
          "xanchor": "left",
          "xref": "paper",
          "y": 1.1,
          "yanchor": "top",
          "yref": "paper"
         }
        ],
        "legend": {
         "tracegroupgap": 0
        },
        "showlegend": false,
        "template": {
         "data": {
          "bar": [
           {
            "error_x": {
             "color": "#f2f5fa"
            },
            "error_y": {
             "color": "#f2f5fa"
            },
            "marker": {
             "line": {
              "color": "rgb(17,17,17)",
              "width": 0.5
             },
             "pattern": {
              "fillmode": "overlay",
              "size": 10,
              "solidity": 0.2
             }
            },
            "type": "bar"
           }
          ],
          "barpolar": [
           {
            "marker": {
             "line": {
              "color": "rgb(17,17,17)",
              "width": 0.5
             },
             "pattern": {
              "fillmode": "overlay",
              "size": 10,
              "solidity": 0.2
             }
            },
            "type": "barpolar"
           }
          ],
          "carpet": [
           {
            "aaxis": {
             "endlinecolor": "#A2B1C6",
             "gridcolor": "#506784",
             "linecolor": "#506784",
             "minorgridcolor": "#506784",
             "startlinecolor": "#A2B1C6"
            },
            "baxis": {
             "endlinecolor": "#A2B1C6",
             "gridcolor": "#506784",
             "linecolor": "#506784",
             "minorgridcolor": "#506784",
             "startlinecolor": "#A2B1C6"
            },
            "type": "carpet"
           }
          ],
          "choropleth": [
           {
            "colorbar": {
             "outlinewidth": 0,
             "ticks": ""
            },
            "type": "choropleth"
           }
          ],
          "contour": [
           {
            "colorbar": {
             "outlinewidth": 0,
             "ticks": ""
            },
            "colorscale": [
             [
              0,
              "#0d0887"
             ],
             [
              0.1111111111111111,
              "#46039f"
             ],
             [
              0.2222222222222222,
              "#7201a8"
             ],
             [
              0.3333333333333333,
              "#9c179e"
             ],
             [
              0.4444444444444444,
              "#bd3786"
             ],
             [
              0.5555555555555556,
              "#d8576b"
             ],
             [
              0.6666666666666666,
              "#ed7953"
             ],
             [
              0.7777777777777778,
              "#fb9f3a"
             ],
             [
              0.8888888888888888,
              "#fdca26"
             ],
             [
              1,
              "#f0f921"
             ]
            ],
            "type": "contour"
           }
          ],
          "contourcarpet": [
           {
            "colorbar": {
             "outlinewidth": 0,
             "ticks": ""
            },
            "type": "contourcarpet"
           }
          ],
          "heatmap": [
           {
            "colorbar": {
             "outlinewidth": 0,
             "ticks": ""
            },
            "colorscale": [
             [
              0,
              "#0d0887"
             ],
             [
              0.1111111111111111,
              "#46039f"
             ],
             [
              0.2222222222222222,
              "#7201a8"
             ],
             [
              0.3333333333333333,
              "#9c179e"
             ],
             [
              0.4444444444444444,
              "#bd3786"
             ],
             [
              0.5555555555555556,
              "#d8576b"
             ],
             [
              0.6666666666666666,
              "#ed7953"
             ],
             [
              0.7777777777777778,
              "#fb9f3a"
             ],
             [
              0.8888888888888888,
              "#fdca26"
             ],
             [
              1,
              "#f0f921"
             ]
            ],
            "type": "heatmap"
           }
          ],
          "histogram": [
           {
            "marker": {
             "pattern": {
              "fillmode": "overlay",
              "size": 10,
              "solidity": 0.2
             }
            },
            "type": "histogram"
           }
          ],
          "histogram2d": [
           {
            "colorbar": {
             "outlinewidth": 0,
             "ticks": ""
            },
            "colorscale": [
             [
              0,
              "#0d0887"
             ],
             [
              0.1111111111111111,
              "#46039f"
             ],
             [
              0.2222222222222222,
              "#7201a8"
             ],
             [
              0.3333333333333333,
              "#9c179e"
             ],
             [
              0.4444444444444444,
              "#bd3786"
             ],
             [
              0.5555555555555556,
              "#d8576b"
             ],
             [
              0.6666666666666666,
              "#ed7953"
             ],
             [
              0.7777777777777778,
              "#fb9f3a"
             ],
             [
              0.8888888888888888,
              "#fdca26"
             ],
             [
              1,
              "#f0f921"
             ]
            ],
            "type": "histogram2d"
           }
          ],
          "histogram2dcontour": [
           {
            "colorbar": {
             "outlinewidth": 0,
             "ticks": ""
            },
            "colorscale": [
             [
              0,
              "#0d0887"
             ],
             [
              0.1111111111111111,
              "#46039f"
             ],
             [
              0.2222222222222222,
              "#7201a8"
             ],
             [
              0.3333333333333333,
              "#9c179e"
             ],
             [
              0.4444444444444444,
              "#bd3786"
             ],
             [
              0.5555555555555556,
              "#d8576b"
             ],
             [
              0.6666666666666666,
              "#ed7953"
             ],
             [
              0.7777777777777778,
              "#fb9f3a"
             ],
             [
              0.8888888888888888,
              "#fdca26"
             ],
             [
              1,
              "#f0f921"
             ]
            ],
            "type": "histogram2dcontour"
           }
          ],
          "mesh3d": [
           {
            "colorbar": {
             "outlinewidth": 0,
             "ticks": ""
            },
            "type": "mesh3d"
           }
          ],
          "parcoords": [
           {
            "line": {
             "colorbar": {
              "outlinewidth": 0,
              "ticks": ""
             }
            },
            "type": "parcoords"
           }
          ],
          "pie": [
           {
            "automargin": true,
            "type": "pie"
           }
          ],
          "scatter": [
           {
            "marker": {
             "line": {
              "color": "#283442"
             }
            },
            "type": "scatter"
           }
          ],
          "scatter3d": [
           {
            "line": {
             "colorbar": {
              "outlinewidth": 0,
              "ticks": ""
             }
            },
            "marker": {
             "colorbar": {
              "outlinewidth": 0,
              "ticks": ""
             }
            },
            "type": "scatter3d"
           }
          ],
          "scattercarpet": [
           {
            "marker": {
             "colorbar": {
              "outlinewidth": 0,
              "ticks": ""
             }
            },
            "type": "scattercarpet"
           }
          ],
          "scattergeo": [
           {
            "marker": {
             "colorbar": {
              "outlinewidth": 0,
              "ticks": ""
             }
            },
            "type": "scattergeo"
           }
          ],
          "scattergl": [
           {
            "marker": {
             "line": {
              "color": "#283442"
             }
            },
            "type": "scattergl"
           }
          ],
          "scattermap": [
           {
            "marker": {
             "colorbar": {
              "outlinewidth": 0,
              "ticks": ""
             }
            },
            "type": "scattermap"
           }
          ],
          "scattermapbox": [
           {
            "marker": {
             "colorbar": {
              "outlinewidth": 0,
              "ticks": ""
             }
            },
            "type": "scattermapbox"
           }
          ],
          "scatterpolar": [
           {
            "marker": {
             "colorbar": {
              "outlinewidth": 0,
              "ticks": ""
             }
            },
            "type": "scatterpolar"
           }
          ],
          "scatterpolargl": [
           {
            "marker": {
             "colorbar": {
              "outlinewidth": 0,
              "ticks": ""
             }
            },
            "type": "scatterpolargl"
           }
          ],
          "scatterternary": [
           {
            "marker": {
             "colorbar": {
              "outlinewidth": 0,
              "ticks": ""
             }
            },
            "type": "scatterternary"
           }
          ],
          "surface": [
           {
            "colorbar": {
             "outlinewidth": 0,
             "ticks": ""
            },
            "colorscale": [
             [
              0,
              "#0d0887"
             ],
             [
              0.1111111111111111,
              "#46039f"
             ],
             [
              0.2222222222222222,
              "#7201a8"
             ],
             [
              0.3333333333333333,
              "#9c179e"
             ],
             [
              0.4444444444444444,
              "#bd3786"
             ],
             [
              0.5555555555555556,
              "#d8576b"
             ],
             [
              0.6666666666666666,
              "#ed7953"
             ],
             [
              0.7777777777777778,
              "#fb9f3a"
             ],
             [
              0.8888888888888888,
              "#fdca26"
             ],
             [
              1,
              "#f0f921"
             ]
            ],
            "type": "surface"
           }
          ],
          "table": [
           {
            "cells": {
             "fill": {
              "color": "#506784"
             },
             "line": {
              "color": "rgb(17,17,17)"
             }
            },
            "header": {
             "fill": {
              "color": "#2a3f5f"
             },
             "line": {
              "color": "rgb(17,17,17)"
             }
            },
            "type": "table"
           }
          ]
         },
         "layout": {
          "annotationdefaults": {
           "arrowcolor": "#f2f5fa",
           "arrowhead": 0,
           "arrowwidth": 1
          },
          "autotypenumbers": "strict",
          "coloraxis": {
           "colorbar": {
            "outlinewidth": 0,
            "ticks": ""
           }
          },
          "colorscale": {
           "diverging": [
            [
             0,
             "#8e0152"
            ],
            [
             0.1,
             "#c51b7d"
            ],
            [
             0.2,
             "#de77ae"
            ],
            [
             0.3,
             "#f1b6da"
            ],
            [
             0.4,
             "#fde0ef"
            ],
            [
             0.5,
             "#f7f7f7"
            ],
            [
             0.6,
             "#e6f5d0"
            ],
            [
             0.7,
             "#b8e186"
            ],
            [
             0.8,
             "#7fbc41"
            ],
            [
             0.9,
             "#4d9221"
            ],
            [
             1,
             "#276419"
            ]
           ],
           "sequential": [
            [
             0,
             "#0d0887"
            ],
            [
             0.1111111111111111,
             "#46039f"
            ],
            [
             0.2222222222222222,
             "#7201a8"
            ],
            [
             0.3333333333333333,
             "#9c179e"
            ],
            [
             0.4444444444444444,
             "#bd3786"
            ],
            [
             0.5555555555555556,
             "#d8576b"
            ],
            [
             0.6666666666666666,
             "#ed7953"
            ],
            [
             0.7777777777777778,
             "#fb9f3a"
            ],
            [
             0.8888888888888888,
             "#fdca26"
            ],
            [
             1,
             "#f0f921"
            ]
           ],
           "sequentialminus": [
            [
             0,
             "#0d0887"
            ],
            [
             0.1111111111111111,
             "#46039f"
            ],
            [
             0.2222222222222222,
             "#7201a8"
            ],
            [
             0.3333333333333333,
             "#9c179e"
            ],
            [
             0.4444444444444444,
             "#bd3786"
            ],
            [
             0.5555555555555556,
             "#d8576b"
            ],
            [
             0.6666666666666666,
             "#ed7953"
            ],
            [
             0.7777777777777778,
             "#fb9f3a"
            ],
            [
             0.8888888888888888,
             "#fdca26"
            ],
            [
             1,
             "#f0f921"
            ]
           ]
          },
          "colorway": [
           "#636efa",
           "#EF553B",
           "#00cc96",
           "#ab63fa",
           "#FFA15A",
           "#19d3f3",
           "#FF6692",
           "#B6E880",
           "#FF97FF",
           "#FECB52"
          ],
          "font": {
           "color": "#f2f5fa"
          },
          "geo": {
           "bgcolor": "rgb(17,17,17)",
           "lakecolor": "rgb(17,17,17)",
           "landcolor": "rgb(17,17,17)",
           "showlakes": true,
           "showland": true,
           "subunitcolor": "#506784"
          },
          "hoverlabel": {
           "align": "left"
          },
          "hovermode": "closest",
          "mapbox": {
           "style": "dark"
          },
          "paper_bgcolor": "rgb(17,17,17)",
          "plot_bgcolor": "rgb(17,17,17)",
          "polar": {
           "angularaxis": {
            "gridcolor": "#506784",
            "linecolor": "#506784",
            "ticks": ""
           },
           "bgcolor": "rgb(17,17,17)",
           "radialaxis": {
            "gridcolor": "#506784",
            "linecolor": "#506784",
            "ticks": ""
           }
          },
          "scene": {
           "xaxis": {
            "backgroundcolor": "rgb(17,17,17)",
            "gridcolor": "#506784",
            "gridwidth": 2,
            "linecolor": "#506784",
            "showbackground": true,
            "ticks": "",
            "zerolinecolor": "#C8D4E3"
           },
           "yaxis": {
            "backgroundcolor": "rgb(17,17,17)",
            "gridcolor": "#506784",
            "gridwidth": 2,
            "linecolor": "#506784",
            "showbackground": true,
            "ticks": "",
            "zerolinecolor": "#C8D4E3"
           },
           "zaxis": {
            "backgroundcolor": "rgb(17,17,17)",
            "gridcolor": "#506784",
            "gridwidth": 2,
            "linecolor": "#506784",
            "showbackground": true,
            "ticks": "",
            "zerolinecolor": "#C8D4E3"
           }
          },
          "shapedefaults": {
           "line": {
            "color": "#f2f5fa"
           }
          },
          "sliderdefaults": {
           "bgcolor": "#C8D4E3",
           "bordercolor": "rgb(17,17,17)",
           "borderwidth": 1,
           "tickwidth": 0
          },
          "ternary": {
           "aaxis": {
            "gridcolor": "#506784",
            "linecolor": "#506784",
            "ticks": ""
           },
           "baxis": {
            "gridcolor": "#506784",
            "linecolor": "#506784",
            "ticks": ""
           },
           "bgcolor": "rgb(17,17,17)",
           "caxis": {
            "gridcolor": "#506784",
            "linecolor": "#506784",
            "ticks": ""
           }
          },
          "title": {
           "x": 0.05
          },
          "updatemenudefaults": {
           "bgcolor": "#506784",
           "borderwidth": 0
          },
          "xaxis": {
           "automargin": true,
           "gridcolor": "#283442",
           "linecolor": "#506784",
           "ticks": "",
           "title": {
            "standoff": 15
           },
           "zerolinecolor": "#283442",
           "zerolinewidth": 2
          },
          "yaxis": {
           "automargin": true,
           "gridcolor": "#283442",
           "linecolor": "#506784",
           "ticks": "",
           "title": {
            "standoff": 15
           },
           "zerolinecolor": "#283442",
           "zerolinewidth": 2
          }
         }
        },
        "title": {
         "text": "<b><span style=\"font-size:22px;\">Frequência de Blocos Minerados por Dia</span></b>",
         "x": 0.5,
         "xanchor": "center",
         "y": 0.92,
         "yanchor": "top"
        },
        "xaxis": {
         "anchor": "y",
         "domain": [
          0,
          1
         ],
         "title": {
          "text": "Data"
         }
        },
        "yaxis": {
         "anchor": "x",
         "domain": [
          0,
          1
         ],
         "side": "right",
         "title": {
          "text": "Número de Blocos"
         }
        }
       }
      }
     },
     "metadata": {},
     "output_type": "display_data"
    }
   ],
   "source": [
    "plot_btc_blocks_per_day(df_blocks, image_path)"
   ]
  },
  {
   "cell_type": "markdown",
   "metadata": {},
   "source": [
    "##### 🔶 ₿ -----> timestamp"
   ]
  },
  {
   "cell_type": "code",
   "execution_count": 13,
   "metadata": {},
   "outputs": [
    {
     "name": "stdout",
     "output_type": "stream",
     "text": [
      "+-------------------+-------------------+\n",
      "|Min Timestamp      |Max Timestamp      |\n",
      "+-------------------+-------------------+\n",
      "|2025-03-26 12:37:41|2025-04-08 19:31:18|\n",
      "+-------------------+-------------------+\n",
      "\n"
     ]
    }
   ],
   "source": [
    "df_blocks.select(\n",
    "    F.min(\"timestamp\").alias(\"Min Timestamp\"),\n",
    "    F.max(\"timestamp\").alias(\"Max Timestamp\")\n",
    ").show(truncate=False)\n",
    "# --> Exibe o menor e o maior timestamp presentes no DataFrame para auditoria do intervalo temporal / Displays the minimum and maximum timestamps in the DataFrame for auditing the time range <--"
   ]
  },
  {
   "cell_type": "code",
   "execution_count": 14,
   "metadata": {},
   "outputs": [],
   "source": [
    "df_blocks = df_blocks.orderBy(\"timestamp\")\n",
    "# --> Ordena o DataFrame pela coluna de timestamp em ordem crescente / Sorts the DataFrame by the timestamp column in ascending order <--"
   ]
  },
  {
   "cell_type": "code",
   "execution_count": 15,
   "metadata": {},
   "outputs": [],
   "source": [
    "windowSpec = Window.orderBy(\"timestamp\")\n",
    "# --> Define uma janela ordenada por timestamp para acessar registros anteriores / Defines a window ordered by timestamp to access previous rows <--\n",
    "\n",
    "df_blocks = df_blocks.withColumn(\"prev_timestamp\", F.lag(\"timestamp\").over(windowSpec))\n",
    "# --> Adiciona uma nova coluna com o timestamp do bloco anterior usando função lag() / Adds a new column with the previous block's timestamp using lag() function <--"
   ]
  },
  {
   "cell_type": "code",
   "execution_count": 16,
   "metadata": {},
   "outputs": [],
   "source": [
    "df_blocks = df_blocks.withColumn(\"time_diff\", \n",
    "                                 F.unix_timestamp(\"timestamp\") - F.unix_timestamp(\"prev_timestamp\"))\n",
    "# --> Cria uma nova coluna com a diferença de tempo (em segundos) entre blocos consecutivos / Creates a new column with time difference (in seconds) between consecutive blocks <--"
   ]
  },
  {
   "cell_type": "markdown",
   "metadata": {},
   "source": [
    "Valores de time_diff que podem indicar anomalias:  \n",
    "  \n",
    "1.\tMuito pequeno (< 60 segundos)  \n",
    "2.\tAcima de 900-1200 segundos (15-20 minutos)  \n",
    "3.\tMaior que 1800 segundos (30 minutos)  \n",
    "4.\tExtremamente alto (> 3600 segundos, ou seja, mais de 1 hora)  \n"
   ]
  },
  {
   "cell_type": "code",
   "execution_count": 17,
   "metadata": {},
   "outputs": [
    {
     "name": "stdout",
     "output_type": "stream",
     "text": [
      "+-------------------+-------------------+---------+\n",
      "|     prev_timestamp|          timestamp|time_diff|\n",
      "+-------------------+-------------------+---------+\n",
      "|2025-03-26 13:13:44|2025-03-26 13:50:53|     2229|\n",
      "|2025-03-26 13:50:53|2025-03-26 14:22:18|     1885|\n",
      "|2025-03-26 14:32:51|2025-03-26 15:12:08|     2357|\n",
      "|2025-03-26 17:24:11|2025-03-26 18:01:28|     2237|\n",
      "|2025-03-26 23:49:42|2025-03-27 00:33:13|     2611|\n",
      "|2025-03-27 01:56:51|2025-03-27 02:30:51|     2040|\n",
      "|2025-03-27 04:24:34|2025-03-27 05:01:10|     2196|\n",
      "|2025-03-27 09:56:15|2025-03-27 10:27:41|     1886|\n",
      "|2025-03-27 12:14:46|2025-03-27 12:51:08|     2182|\n",
      "|2025-03-27 21:17:30|2025-03-27 21:49:33|     1923|\n",
      "+-------------------+-------------------+---------+\n",
      "only showing top 10 rows\n",
      "\n"
     ]
    }
   ],
   "source": [
    "df_blocks_filtered = df_blocks.select(\"prev_timestamp\", \"timestamp\", \"time_diff\")\n",
    "# --> Seleciona apenas as colunas relacionadas ao intervalo de tempo entre blocos / Selects only columns related to time gaps between blocks <--\n",
    "\n",
    "df_large_gaps = df_blocks_filtered.filter(col(\"time_diff\") > 1800)\n",
    "# --> Filtra os casos com lacunas de tempo maiores que 30 minutos (1800 segundos) / Filters cases with time gaps greater than 30 minutes (1800 seconds) <--\n",
    "\n",
    "df_small_gaps = df_blocks_filtered.filter(col(\"time_diff\") < 60)\n",
    "# --> Filtra os casos com intervalos de tempo menores que 1 minuto (60 segundos) / Filters cases with time gaps smaller than 1 minute (60 seconds) <--\n",
    "\n",
    "df_gaps = df_large_gaps.union(df_small_gaps)\n",
    "# --> Combina os casos de lacunas anômalas (muito grandes ou muito pequenas) / Combines anomalous gap cases (too large or too small) <--\n",
    "\n",
    "df_gaps.show(10)\n",
    "# --> Exibe os primeiros 10 registros de lacunas identificadas para auditoria / Displays first 10 identified gaps for auditing <--"
   ]
  },
  {
   "cell_type": "code",
   "execution_count": 18,
   "metadata": {},
   "outputs": [
    {
     "name": "stdout",
     "output_type": "stream",
     "text": [
      "+-----------------------+--------------------------+-----------------------+-----------------------+\n",
      "|avg_time_between_blocks|stddev_time_between_blocks|min_time_between_blocks|max_time_between_blocks|\n",
      "+-----------------------+--------------------------+-----------------------+-----------------------+\n",
      "|      2277.811507936508|         37948.27984857014|                      2|                 852433|\n",
      "+-----------------------+--------------------------+-----------------------+-----------------------+\n",
      "\n"
     ]
    }
   ],
   "source": [
    "windowSpec = Window.orderBy(\"timestamp\")\n",
    "# --> Define uma janela ordenada por timestamp para acessar registros anteriores / Defines a window ordered by timestamp to access previous rows <--\n",
    "\n",
    "df_blocks = df_blocks.withColumn(\"prev_timestamp\", F.lag(\"timestamp\").over(windowSpec))\n",
    "# --> Cria nova coluna com o timestamp do bloco anterior usando a função lag() / Adds a new column with the previous block's timestamp using lag() <--\n",
    "\n",
    "df_blocks = df_blocks.withColumn(\"time_diff\", F.unix_timestamp(\"timestamp\") - F.unix_timestamp(\"prev_timestamp\"))\n",
    "# --> Calcula a diferença de tempo entre blocos consecutivos em segundos / Computes time difference between consecutive blocks in seconds <--\n",
    "\n",
    "df_time_stats = df_blocks.select(\n",
    "    F.avg(\"time_diff\").alias(\"avg_time_between_blocks\"),\n",
    "    F.stddev(\"time_diff\").alias(\"stddev_time_between_blocks\"),\n",
    "    F.min(\"time_diff\").alias(\"min_time_between_blocks\"),\n",
    "    F.max(\"time_diff\").alias(\"max_time_between_blocks\")\n",
    ").show()\n",
    "# --> Calcula estatísticas descritivas do tempo entre blocos: média, desvio padrão, mínimo e máximo / Computes descriptive statistics of time between blocks: mean, stddev, min, and max <--"
   ]
  },
  {
   "cell_type": "markdown",
   "metadata": {},
   "source": [
    "##### 🔶 ₿ -----> num_transactions"
   ]
  },
  {
   "cell_type": "code",
   "execution_count": 19,
   "metadata": {},
   "outputs": [
    {
     "name": "stdout",
     "output_type": "stream",
     "text": [
      "+----------------+----------------+------------------+-------------------+\n",
      "|min_transactions|max_transactions|  avg_transactions|stddev_transactions|\n",
      "+----------------+----------------+------------------+-------------------+\n",
      "|               1|            6056|2668.0673267326733| 1192.7056274337292|\n",
      "+----------------+----------------+------------------+-------------------+\n",
      "\n"
     ]
    }
   ],
   "source": [
    "df_blocks.select(\n",
    "    F.min(\"num_transactions\").alias(\"min_transactions\"),\n",
    "    F.max(\"num_transactions\").alias(\"max_transactions\"),\n",
    "    F.avg(\"num_transactions\").alias(\"avg_transactions\"),\n",
    "    F.stddev(\"num_transactions\").alias(\"stddev_transactions\")\n",
    ").show()\n",
    "# --> Calcula estatísticas descritivas da quantidade de transações por bloco: mínimo, máximo, média e desvio padrão / Computes descriptive statistics for the number of transactions per block: min, max, mean, and standard deviation <--"
   ]
  },
  {
   "cell_type": "code",
   "execution_count": 20,
   "metadata": {},
   "outputs": [
    {
     "data": {
      "text/plain": [
       "0"
      ]
     },
     "execution_count": 20,
     "metadata": {},
     "output_type": "execute_result"
    }
   ],
   "source": [
    "df_empty_blocks = df_blocks.filter(F.col(\"num_transactions\") == 0)\n",
    "# --> Filtra os blocos que não contêm transações (blocos vazios) / Filters blocks with zero transactions (empty blocks) <--\n",
    "\n",
    "df_empty_blocks.count()\n",
    "# --> Conta quantos blocos vazios existem no DataFrame / Counts how many empty blocks exist in the DataFrame <--"
   ]
  },
  {
   "cell_type": "code",
   "execution_count": 21,
   "metadata": {},
   "outputs": [
    {
     "name": "stdout",
     "output_type": "stream",
     "text": [
      "+----------------+-----+\n",
      "|num_transactions|count|\n",
      "+----------------+-----+\n",
      "|               1|    1|\n",
      "|              76|    1|\n",
      "|              80|    1|\n",
      "|              86|    1|\n",
      "|             132|    1|\n",
      "+----------------+-----+\n",
      "only showing top 5 rows\n",
      "\n"
     ]
    }
   ],
   "source": [
    "df_blocks.groupBy(\"num_transactions\").count().orderBy(\"num_transactions\").show(5)\n",
    "# --> Agrupa os blocos pela quantidade de transações, conta quantos blocos possuem cada valor e exibe os 5 menores / Groups blocks by number of transactions, counts how many blocks have each value, and shows the 5 lowest values <--"
   ]
  },
  {
   "cell_type": "code",
   "execution_count": 22,
   "metadata": {},
   "outputs": [
    {
     "data": {
      "application/vnd.plotly.v1+json": {
       "config": {
        "plotlyServerURL": "https://plot.ly"
       },
       "data": [
        {
         "bingroup": "x",
         "hovertemplate": "Número de Transações por Bloco=%{x}<br>count=%{y}<extra></extra>",
         "legendgroup": "",
         "marker": {
          "color": "rgba(229, 165, 0, 0.7)",
          "line": {
           "color": "#E57C1F",
           "width": 1
          },
          "opacity": 0.85,
          "pattern": {
           "shape": ""
          }
         },
         "name": "",
         "nbinsx": 50,
         "orientation": "v",
         "showlegend": false,
         "type": "histogram",
         "x": {
          "bdata": "uA8zC6ANiAw3CsgPzQ/AD9oPXQ4DDCMKvQl9CTENJQ7qDJ8N4At9C04P1wo8EBkQ0gy3DAYDxAdRCw8Lfwn5CLwFwAY/CJAUvRKoF28XxgTOEiYO+wfKACAGpAXtCO4SNAzxCTwNQw5RBgwN0QwpDJEOSxU0DtsNNhOvDdUMqRFFE3UPtQayEWYN+RIbDhgLjAZaErMJLA1/DY4LOgt3DrcLsgkuBIUH4Aj+AfAIKBJmDxcKxQ45DQEM9AzRBx0JQw+gBWYNcw1TBJEK1wU1CQQKOQx2DzgLtwz7EaIL2gp/DioPSRNrEGYMEBPGAswNlA05BZkN8Q4XDogDCw59DLcJzA0vC2QNTAg/A2ER6wVhDjES7A65EO4Mkw9UCb8NUA4VBcgL2gSzErcQOQzRDyMMiwhWCwUFsw0UDJkNtgFOCCcECQofA4QOzAspCz8MrwbeBWwQZg7ZCsUOug0TDqoOFw0mD0YQTQ6RDYgNDAasDVAG7wKEDMMJMgkvEP4LJA63BEIFLAGOBE8PgAqZC3kKFwezDwUQ0g6EBVsMGhNzDbQNhA7oChENNwwxC+kK8Q09DqILORCVByEFngoxBi4FeQR4A6sDyQpKA9EA3wIuDHgJ4gXEApQEHAhhDyoMnQtvCiQHdgqDC0wQaQksBssL8Az9ChYLsgfNEIkLXg9dC+wPyRJmBaUCFwQgCF8IkwSmAC8O8AUxCtgN0Ax0ChgIjA7LDB0OUQ3SEGgOGRP1Eo0QIQ/xDPASxxPNEXoTtw+TDxsMLwXOCzYDTQvQCSUMkQmlB/YMsg28DoMNog2XDhAKyAyODZgLFwzoDYIIgATvAC4DJAKEAF0FqgHkAV8Htw3MCQ8HeAxFBnAOEAz9CHYH0gSpB8gKswX5DfUN/AyXDvcJZQYjDMoEGwX+Ca0DPgc1CXcKvQUuAZMR8AcCAn4GWQ51CdELFgW3C5UMKRAcDmEQLw4BB1oQigUSDLcLdQiYCDoKJQyZBuML9QyDAXwG0wn1Bl8EiAM2Bf4C3wdWBIsJfAqcDIoD3gpDBKMFFQuzAy0GDA0zBfQJngVgB24GKwwACccA6gvMCdgJWwV3CVgLhw5wCPgLIgv9BIQCgAqhAGsNTwx2CBoJbAmmBtQN1AVEDlQDMg0EAkwAjQaJCbYIoAJQAPcDmQo2BD8FPAhrBxEK9w0PDi0NUwdKBgANQwxsBlwILw2VBtAB5Ql6C4AIHAnKBhENWw5mDAYOwwoBAIIJnQUyB1YAWg2WARsL/QpfCtULtA2QDS4NowpfBNIErABPCy8CqQkeAd8FFgWjApUMLwLpAYgDogoPB1kOQwLmDOYMIA9PD0MMEA0=",
          "dtype": "i2"
         },
         "xaxis": "x",
         "yaxis": "y"
        }
       ],
       "layout": {
        "bargap": 0.05,
        "barmode": "relative",
        "font": {
         "color": "white"
        },
        "height": 800,
        "images": [
         {
          "sizex": 0.15,
          "sizey": 0.15,
          "source": "/Users/rodrigocampos/Documents/Bitcoin/project/src/visualizations/BTC_black.png",
          "x": 0.008,
          "xanchor": "left",
          "xref": "paper",
          "y": 1.1,
          "yanchor": "top",
          "yref": "paper"
         }
        ],
        "legend": {
         "tracegroupgap": 0
        },
        "paper_bgcolor": "black",
        "plot_bgcolor": "black",
        "template": {
         "data": {
          "bar": [
           {
            "error_x": {
             "color": "#f2f5fa"
            },
            "error_y": {
             "color": "#f2f5fa"
            },
            "marker": {
             "line": {
              "color": "rgb(17,17,17)",
              "width": 0.5
             },
             "pattern": {
              "fillmode": "overlay",
              "size": 10,
              "solidity": 0.2
             }
            },
            "type": "bar"
           }
          ],
          "barpolar": [
           {
            "marker": {
             "line": {
              "color": "rgb(17,17,17)",
              "width": 0.5
             },
             "pattern": {
              "fillmode": "overlay",
              "size": 10,
              "solidity": 0.2
             }
            },
            "type": "barpolar"
           }
          ],
          "carpet": [
           {
            "aaxis": {
             "endlinecolor": "#A2B1C6",
             "gridcolor": "#506784",
             "linecolor": "#506784",
             "minorgridcolor": "#506784",
             "startlinecolor": "#A2B1C6"
            },
            "baxis": {
             "endlinecolor": "#A2B1C6",
             "gridcolor": "#506784",
             "linecolor": "#506784",
             "minorgridcolor": "#506784",
             "startlinecolor": "#A2B1C6"
            },
            "type": "carpet"
           }
          ],
          "choropleth": [
           {
            "colorbar": {
             "outlinewidth": 0,
             "ticks": ""
            },
            "type": "choropleth"
           }
          ],
          "contour": [
           {
            "colorbar": {
             "outlinewidth": 0,
             "ticks": ""
            },
            "colorscale": [
             [
              0,
              "#0d0887"
             ],
             [
              0.1111111111111111,
              "#46039f"
             ],
             [
              0.2222222222222222,
              "#7201a8"
             ],
             [
              0.3333333333333333,
              "#9c179e"
             ],
             [
              0.4444444444444444,
              "#bd3786"
             ],
             [
              0.5555555555555556,
              "#d8576b"
             ],
             [
              0.6666666666666666,
              "#ed7953"
             ],
             [
              0.7777777777777778,
              "#fb9f3a"
             ],
             [
              0.8888888888888888,
              "#fdca26"
             ],
             [
              1,
              "#f0f921"
             ]
            ],
            "type": "contour"
           }
          ],
          "contourcarpet": [
           {
            "colorbar": {
             "outlinewidth": 0,
             "ticks": ""
            },
            "type": "contourcarpet"
           }
          ],
          "heatmap": [
           {
            "colorbar": {
             "outlinewidth": 0,
             "ticks": ""
            },
            "colorscale": [
             [
              0,
              "#0d0887"
             ],
             [
              0.1111111111111111,
              "#46039f"
             ],
             [
              0.2222222222222222,
              "#7201a8"
             ],
             [
              0.3333333333333333,
              "#9c179e"
             ],
             [
              0.4444444444444444,
              "#bd3786"
             ],
             [
              0.5555555555555556,
              "#d8576b"
             ],
             [
              0.6666666666666666,
              "#ed7953"
             ],
             [
              0.7777777777777778,
              "#fb9f3a"
             ],
             [
              0.8888888888888888,
              "#fdca26"
             ],
             [
              1,
              "#f0f921"
             ]
            ],
            "type": "heatmap"
           }
          ],
          "histogram": [
           {
            "marker": {
             "pattern": {
              "fillmode": "overlay",
              "size": 10,
              "solidity": 0.2
             }
            },
            "type": "histogram"
           }
          ],
          "histogram2d": [
           {
            "colorbar": {
             "outlinewidth": 0,
             "ticks": ""
            },
            "colorscale": [
             [
              0,
              "#0d0887"
             ],
             [
              0.1111111111111111,
              "#46039f"
             ],
             [
              0.2222222222222222,
              "#7201a8"
             ],
             [
              0.3333333333333333,
              "#9c179e"
             ],
             [
              0.4444444444444444,
              "#bd3786"
             ],
             [
              0.5555555555555556,
              "#d8576b"
             ],
             [
              0.6666666666666666,
              "#ed7953"
             ],
             [
              0.7777777777777778,
              "#fb9f3a"
             ],
             [
              0.8888888888888888,
              "#fdca26"
             ],
             [
              1,
              "#f0f921"
             ]
            ],
            "type": "histogram2d"
           }
          ],
          "histogram2dcontour": [
           {
            "colorbar": {
             "outlinewidth": 0,
             "ticks": ""
            },
            "colorscale": [
             [
              0,
              "#0d0887"
             ],
             [
              0.1111111111111111,
              "#46039f"
             ],
             [
              0.2222222222222222,
              "#7201a8"
             ],
             [
              0.3333333333333333,
              "#9c179e"
             ],
             [
              0.4444444444444444,
              "#bd3786"
             ],
             [
              0.5555555555555556,
              "#d8576b"
             ],
             [
              0.6666666666666666,
              "#ed7953"
             ],
             [
              0.7777777777777778,
              "#fb9f3a"
             ],
             [
              0.8888888888888888,
              "#fdca26"
             ],
             [
              1,
              "#f0f921"
             ]
            ],
            "type": "histogram2dcontour"
           }
          ],
          "mesh3d": [
           {
            "colorbar": {
             "outlinewidth": 0,
             "ticks": ""
            },
            "type": "mesh3d"
           }
          ],
          "parcoords": [
           {
            "line": {
             "colorbar": {
              "outlinewidth": 0,
              "ticks": ""
             }
            },
            "type": "parcoords"
           }
          ],
          "pie": [
           {
            "automargin": true,
            "type": "pie"
           }
          ],
          "scatter": [
           {
            "marker": {
             "line": {
              "color": "#283442"
             }
            },
            "type": "scatter"
           }
          ],
          "scatter3d": [
           {
            "line": {
             "colorbar": {
              "outlinewidth": 0,
              "ticks": ""
             }
            },
            "marker": {
             "colorbar": {
              "outlinewidth": 0,
              "ticks": ""
             }
            },
            "type": "scatter3d"
           }
          ],
          "scattercarpet": [
           {
            "marker": {
             "colorbar": {
              "outlinewidth": 0,
              "ticks": ""
             }
            },
            "type": "scattercarpet"
           }
          ],
          "scattergeo": [
           {
            "marker": {
             "colorbar": {
              "outlinewidth": 0,
              "ticks": ""
             }
            },
            "type": "scattergeo"
           }
          ],
          "scattergl": [
           {
            "marker": {
             "line": {
              "color": "#283442"
             }
            },
            "type": "scattergl"
           }
          ],
          "scattermap": [
           {
            "marker": {
             "colorbar": {
              "outlinewidth": 0,
              "ticks": ""
             }
            },
            "type": "scattermap"
           }
          ],
          "scattermapbox": [
           {
            "marker": {
             "colorbar": {
              "outlinewidth": 0,
              "ticks": ""
             }
            },
            "type": "scattermapbox"
           }
          ],
          "scatterpolar": [
           {
            "marker": {
             "colorbar": {
              "outlinewidth": 0,
              "ticks": ""
             }
            },
            "type": "scatterpolar"
           }
          ],
          "scatterpolargl": [
           {
            "marker": {
             "colorbar": {
              "outlinewidth": 0,
              "ticks": ""
             }
            },
            "type": "scatterpolargl"
           }
          ],
          "scatterternary": [
           {
            "marker": {
             "colorbar": {
              "outlinewidth": 0,
              "ticks": ""
             }
            },
            "type": "scatterternary"
           }
          ],
          "surface": [
           {
            "colorbar": {
             "outlinewidth": 0,
             "ticks": ""
            },
            "colorscale": [
             [
              0,
              "#0d0887"
             ],
             [
              0.1111111111111111,
              "#46039f"
             ],
             [
              0.2222222222222222,
              "#7201a8"
             ],
             [
              0.3333333333333333,
              "#9c179e"
             ],
             [
              0.4444444444444444,
              "#bd3786"
             ],
             [
              0.5555555555555556,
              "#d8576b"
             ],
             [
              0.6666666666666666,
              "#ed7953"
             ],
             [
              0.7777777777777778,
              "#fb9f3a"
             ],
             [
              0.8888888888888888,
              "#fdca26"
             ],
             [
              1,
              "#f0f921"
             ]
            ],
            "type": "surface"
           }
          ],
          "table": [
           {
            "cells": {
             "fill": {
              "color": "#506784"
             },
             "line": {
              "color": "rgb(17,17,17)"
             }
            },
            "header": {
             "fill": {
              "color": "#2a3f5f"
             },
             "line": {
              "color": "rgb(17,17,17)"
             }
            },
            "type": "table"
           }
          ]
         },
         "layout": {
          "annotationdefaults": {
           "arrowcolor": "#f2f5fa",
           "arrowhead": 0,
           "arrowwidth": 1
          },
          "autotypenumbers": "strict",
          "coloraxis": {
           "colorbar": {
            "outlinewidth": 0,
            "ticks": ""
           }
          },
          "colorscale": {
           "diverging": [
            [
             0,
             "#8e0152"
            ],
            [
             0.1,
             "#c51b7d"
            ],
            [
             0.2,
             "#de77ae"
            ],
            [
             0.3,
             "#f1b6da"
            ],
            [
             0.4,
             "#fde0ef"
            ],
            [
             0.5,
             "#f7f7f7"
            ],
            [
             0.6,
             "#e6f5d0"
            ],
            [
             0.7,
             "#b8e186"
            ],
            [
             0.8,
             "#7fbc41"
            ],
            [
             0.9,
             "#4d9221"
            ],
            [
             1,
             "#276419"
            ]
           ],
           "sequential": [
            [
             0,
             "#0d0887"
            ],
            [
             0.1111111111111111,
             "#46039f"
            ],
            [
             0.2222222222222222,
             "#7201a8"
            ],
            [
             0.3333333333333333,
             "#9c179e"
            ],
            [
             0.4444444444444444,
             "#bd3786"
            ],
            [
             0.5555555555555556,
             "#d8576b"
            ],
            [
             0.6666666666666666,
             "#ed7953"
            ],
            [
             0.7777777777777778,
             "#fb9f3a"
            ],
            [
             0.8888888888888888,
             "#fdca26"
            ],
            [
             1,
             "#f0f921"
            ]
           ],
           "sequentialminus": [
            [
             0,
             "#0d0887"
            ],
            [
             0.1111111111111111,
             "#46039f"
            ],
            [
             0.2222222222222222,
             "#7201a8"
            ],
            [
             0.3333333333333333,
             "#9c179e"
            ],
            [
             0.4444444444444444,
             "#bd3786"
            ],
            [
             0.5555555555555556,
             "#d8576b"
            ],
            [
             0.6666666666666666,
             "#ed7953"
            ],
            [
             0.7777777777777778,
             "#fb9f3a"
            ],
            [
             0.8888888888888888,
             "#fdca26"
            ],
            [
             1,
             "#f0f921"
            ]
           ]
          },
          "colorway": [
           "#636efa",
           "#EF553B",
           "#00cc96",
           "#ab63fa",
           "#FFA15A",
           "#19d3f3",
           "#FF6692",
           "#B6E880",
           "#FF97FF",
           "#FECB52"
          ],
          "font": {
           "color": "#f2f5fa"
          },
          "geo": {
           "bgcolor": "rgb(17,17,17)",
           "lakecolor": "rgb(17,17,17)",
           "landcolor": "rgb(17,17,17)",
           "showlakes": true,
           "showland": true,
           "subunitcolor": "#506784"
          },
          "hoverlabel": {
           "align": "left"
          },
          "hovermode": "closest",
          "mapbox": {
           "style": "dark"
          },
          "paper_bgcolor": "rgb(17,17,17)",
          "plot_bgcolor": "rgb(17,17,17)",
          "polar": {
           "angularaxis": {
            "gridcolor": "#506784",
            "linecolor": "#506784",
            "ticks": ""
           },
           "bgcolor": "rgb(17,17,17)",
           "radialaxis": {
            "gridcolor": "#506784",
            "linecolor": "#506784",
            "ticks": ""
           }
          },
          "scene": {
           "xaxis": {
            "backgroundcolor": "rgb(17,17,17)",
            "gridcolor": "#506784",
            "gridwidth": 2,
            "linecolor": "#506784",
            "showbackground": true,
            "ticks": "",
            "zerolinecolor": "#C8D4E3"
           },
           "yaxis": {
            "backgroundcolor": "rgb(17,17,17)",
            "gridcolor": "#506784",
            "gridwidth": 2,
            "linecolor": "#506784",
            "showbackground": true,
            "ticks": "",
            "zerolinecolor": "#C8D4E3"
           },
           "zaxis": {
            "backgroundcolor": "rgb(17,17,17)",
            "gridcolor": "#506784",
            "gridwidth": 2,
            "linecolor": "#506784",
            "showbackground": true,
            "ticks": "",
            "zerolinecolor": "#C8D4E3"
           }
          },
          "shapedefaults": {
           "line": {
            "color": "#f2f5fa"
           }
          },
          "sliderdefaults": {
           "bgcolor": "#C8D4E3",
           "bordercolor": "rgb(17,17,17)",
           "borderwidth": 1,
           "tickwidth": 0
          },
          "ternary": {
           "aaxis": {
            "gridcolor": "#506784",
            "linecolor": "#506784",
            "ticks": ""
           },
           "baxis": {
            "gridcolor": "#506784",
            "linecolor": "#506784",
            "ticks": ""
           },
           "bgcolor": "rgb(17,17,17)",
           "caxis": {
            "gridcolor": "#506784",
            "linecolor": "#506784",
            "ticks": ""
           }
          },
          "title": {
           "x": 0.05
          },
          "updatemenudefaults": {
           "bgcolor": "#506784",
           "borderwidth": 0
          },
          "xaxis": {
           "automargin": true,
           "gridcolor": "#283442",
           "linecolor": "#506784",
           "ticks": "",
           "title": {
            "standoff": 15
           },
           "zerolinecolor": "#283442",
           "zerolinewidth": 2
          },
          "yaxis": {
           "automargin": true,
           "gridcolor": "#283442",
           "linecolor": "#506784",
           "ticks": "",
           "title": {
            "standoff": 15
           },
           "zerolinecolor": "#283442",
           "zerolinewidth": 2
          }
         }
        },
        "title": {
         "text": "<b><span style=\"font-size:22px;\">Bitcoin BTC - Distribuição do Número de Transações por Bloco</span></b>",
         "x": 0.5,
         "xanchor": "center",
         "y": 0.92,
         "yanchor": "top"
        },
        "xaxis": {
         "anchor": "y",
         "domain": [
          0,
          1
         ],
         "title": {
          "text": "Número de Transações"
         }
        },
        "yaxis": {
         "anchor": "x",
         "domain": [
          0,
          1
         ],
         "side": "left",
         "title": {
          "text": "Frequência"
         }
        }
       }
      }
     },
     "metadata": {},
     "output_type": "display_data"
    }
   ],
   "source": [
    "plot_transaction_distribution(df_blocks, image_path)"
   ]
  },
  {
   "cell_type": "code",
   "execution_count": 23,
   "metadata": {},
   "outputs": [
    {
     "name": "stdout",
     "output_type": "stream",
     "text": [
      "+------------+-------------------+----------------+\n",
      "|block_height|          timestamp|num_transactions|\n",
      "+------------+-------------------+----------------+\n",
      "|      889527|2025-03-26 12:37:41|            4024|\n",
      "|      889529|2025-03-26 12:53:09|            3488|\n",
      "|      889530|2025-03-26 13:09:22|            3208|\n",
      "|      889532|2025-03-26 13:50:53|            4040|\n",
      "|      889533|2025-03-26 14:22:18|            4045|\n",
      "+------------+-------------------+----------------+\n",
      "only showing top 5 rows\n",
      "\n"
     ]
    }
   ],
   "source": [
    "df_anomalies = df_blocks.filter((F.col(\"num_transactions\") < 500) | (F.col(\"num_transactions\") > 3000))\n",
    "# --> Filtra os blocos com número anômalo de transações (muito baixo ou muito alto) / Filters blocks with anomalous number of transactions (too low or too high) <--\n",
    "\n",
    "df_anomalies.select(\"block_height\", \"timestamp\", \"num_transactions\").show(5)\n",
    "# --> Exibe os primeiros 5 blocos anômalos com altura, timestamp e número de transações / Displays the first 5 anomalous blocks with height, timestamp, and number of transactions <--"
   ]
  },
  {
   "cell_type": "markdown",
   "metadata": {},
   "source": [
    "##### 🔶 ₿ -----> total_btc_moved"
   ]
  },
  {
   "cell_type": "code",
   "execution_count": 24,
   "metadata": {},
   "outputs": [
    {
     "name": "stdout",
     "output_type": "stream",
     "text": [
      "+-------------+--------------+------------------+-----------------+\n",
      "|min_btc_moved| max_btc_moved|     avg_btc_moved| stddev_btc_moved|\n",
      "+-------------+--------------+------------------+-----------------+\n",
      "|        3.125|38096.14623375|3961.0496195619216|4313.424012771588|\n",
      "+-------------+--------------+------------------+-----------------+\n",
      "\n"
     ]
    }
   ],
   "source": [
    "df_blocks.select(\n",
    "    F.min(\"total_btc_moved\").alias(\"min_btc_moved\"),\n",
    "    F.max(\"total_btc_moved\").alias(\"max_btc_moved\"),\n",
    "    F.avg(\"total_btc_moved\").alias(\"avg_btc_moved\"),\n",
    "    F.stddev(\"total_btc_moved\").alias(\"stddev_btc_moved\")\n",
    ").show()\n",
    "# --> Calcula estatísticas descritivas sobre o total de BTC movimentado por bloco: mínimo, máximo, média e desvio padrão / Computes descriptive statistics for total BTC moved per block: min, max, mean, and standard deviation <--"
   ]
  },
  {
   "cell_type": "code",
   "execution_count": 25,
   "metadata": {},
   "outputs": [
    {
     "data": {
      "text/plain": [
       "0"
      ]
     },
     "execution_count": 25,
     "metadata": {},
     "output_type": "execute_result"
    }
   ],
   "source": [
    "df_zero_btc = df_blocks.filter(F.col(\"total_btc_moved\") == 0)\n",
    "# --> Filtra os blocos que não movimentaram nenhum BTC (valor total igual a zero) / Filters blocks with no BTC moved (total value equals zero) <--\n",
    "\n",
    "df_zero_btc.count()\n",
    "# --> Conta quantos blocos possuem valor total de BTC movimentado igual a zero / Counts how many blocks have zero total BTC moved <--"
   ]
  },
  {
   "cell_type": "code",
   "execution_count": 26,
   "metadata": {},
   "outputs": [
    {
     "name": "stdout",
     "output_type": "stream",
     "text": [
      "+------------+-------------------+---------------+\n",
      "|block_height|          timestamp|total_btc_moved|\n",
      "+------------+-------------------+---------------+\n",
      "|      889533|2025-03-26 14:22:18| 21632.03605909|\n",
      "|      889597|2025-03-27 00:33:13| 26308.29809185|\n",
      "|      889617|2025-03-27 04:24:34| 22990.09165076|\n",
      "|      889643|2025-03-27 08:21:01|  23459.0623564|\n",
      "|      889746|2025-03-28 00:19:47| 23114.64028112|\n",
      "+------------+-------------------+---------------+\n",
      "only showing top 5 rows\n",
      "\n"
     ]
    }
   ],
   "source": [
    "stats = df_blocks.select(\n",
    "    F.avg(\"total_btc_moved\").alias(\"mean\"),\n",
    "    F.stddev(\"total_btc_moved\").alias(\"stddev\")\n",
    ").collect()[0]\n",
    "# --> Calcula a média e o desvio padrão da quantidade total de BTC movimentado por bloco / Computes mean and standard deviation of total BTC moved per block <--\n",
    "\n",
    "mean_btc_moved = stats[\"mean\"]\n",
    "stddev_btc_moved = stats[\"stddev\"]\n",
    "# --> Armazena os valores de média e desvio padrão para uso posterior / Stores the mean and standard deviation values for later use <--\n",
    "\n",
    "df_anomalies = df_blocks.filter(col(\"total_btc_moved\") > mean_btc_moved + 3 * stddev_btc_moved)\n",
    "# --> Identifica blocos com valores anômalos (maiores que 3 desvios acima da média) / Identifies anomalous blocks (greater than 3 standard deviations above the mean) <--\n",
    "\n",
    "df_anomalies.select(\"block_height\", \"timestamp\", \"total_btc_moved\").show(5)\n",
    "# --> Exibe os primeiros 5 blocos com movimentação anômala de BTC / Displays the first 5 blocks with anomalous BTC movement <--"
   ]
  },
  {
   "cell_type": "code",
   "execution_count": 27,
   "metadata": {},
   "outputs": [
    {
     "name": "stdout",
     "output_type": "stream",
     "text": [
      "+----------+------------------+\n",
      "|      date|     avg_btc_moved|\n",
      "+----------+------------------+\n",
      "|2025-03-26|4417.2628608151435|\n",
      "|2025-03-27|3770.0934492475008|\n",
      "|2025-03-28| 4468.178632478766|\n",
      "|2025-03-29|3196.8919357507802|\n",
      "|2025-04-08|7169.2299910500005|\n",
      "+----------+------------------+\n",
      "\n"
     ]
    }
   ],
   "source": [
    "df_btc_time = df_blocks.groupBy(F.date_format(\"timestamp\", \"yyyy-MM-dd\").alias(\"date\")) \\\n",
    "    .agg(F.avg(\"total_btc_moved\").alias(\"avg_btc_moved\")) \\\n",
    "    .orderBy(\"date\")\n",
    "# --> Agrupa os blocos por data e calcula a média diária de BTC movimentado / Groups blocks by date and calculates the daily average BTC moved <--\n",
    "\n",
    "df_btc_time.show(5)\n",
    "# --> Exibe as 5 primeiras datas com suas respectivas médias de BTC movimentado / Displays the first 5 dates with their average BTC moved <--"
   ]
  },
  {
   "cell_type": "code",
   "execution_count": 28,
   "metadata": {},
   "outputs": [
    {
     "data": {
      "application/vnd.plotly.v1+json": {
       "config": {
        "plotlyServerURL": "https://plot.ly"
       },
       "data": [
        {
         "fill": "tozeroy",
         "fillcolor": "rgba(229, 165, 0, 0.3)",
         "hovertemplate": "Data=%{x}<br>BTC Movimentado=%{y}<extra></extra>",
         "legendgroup": "",
         "line": {
          "color": "#E57C1F",
          "dash": "solid",
          "width": 1.5
         },
         "marker": {
          "symbol": "circle"
         },
         "mode": "lines",
         "name": "",
         "orientation": "v",
         "showlegend": false,
         "type": "scatter",
         "x": [
          "2025-03-26 12",
          "2025-03-26 13",
          "2025-03-26 14",
          "2025-03-26 15",
          "2025-03-26 16",
          "2025-03-26 17",
          "2025-03-26 18",
          "2025-03-26 19",
          "2025-03-26 20",
          "2025-03-26 21",
          "2025-03-26 22",
          "2025-03-26 23",
          "2025-03-27 00",
          "2025-03-27 01",
          "2025-03-27 02",
          "2025-03-27 03",
          "2025-03-27 04",
          "2025-03-27 05",
          "2025-03-27 06",
          "2025-03-27 07",
          "2025-03-27 08",
          "2025-03-27 09",
          "2025-03-27 10",
          "2025-03-27 11",
          "2025-03-27 12",
          "2025-03-27 13",
          "2025-03-27 14",
          "2025-03-27 15",
          "2025-03-27 16",
          "2025-03-27 17",
          "2025-03-27 18",
          "2025-03-27 19",
          "2025-03-27 20",
          "2025-03-27 21",
          "2025-03-27 22",
          "2025-03-27 23",
          "2025-03-28 00",
          "2025-03-28 01",
          "2025-03-28 02",
          "2025-03-28 03",
          "2025-03-28 04",
          "2025-03-28 05",
          "2025-03-28 06",
          "2025-03-28 07",
          "2025-03-28 08",
          "2025-03-28 09",
          "2025-03-28 10",
          "2025-03-28 11",
          "2025-03-28 12",
          "2025-03-28 13",
          "2025-03-28 14",
          "2025-03-28 15",
          "2025-03-28 16",
          "2025-03-28 17",
          "2025-03-28 18",
          "2025-03-28 19",
          "2025-03-28 20",
          "2025-03-28 21",
          "2025-03-28 22",
          "2025-03-28 23",
          "2025-03-29 00",
          "2025-03-29 01",
          "2025-03-29 02",
          "2025-03-29 03",
          "2025-03-29 04",
          "2025-03-29 05",
          "2025-03-29 06",
          "2025-03-29 07",
          "2025-03-29 08",
          "2025-03-29 09",
          "2025-03-29 10",
          "2025-03-29 11",
          "2025-03-29 12",
          "2025-03-29 13",
          "2025-03-29 14",
          "2025-03-29 15",
          "2025-03-29 16",
          "2025-03-29 17",
          "2025-03-29 18",
          "2025-03-29 19",
          "2025-03-29 20",
          "2025-03-29 21",
          "2025-04-08 18",
          "2025-04-08 19"
         ],
         "xaxis": "x",
         "y": {
          "bdata": "enWGEGd200CIyaeJfMrSQOGYDb/IqtVAGWtF7PGL20DYmkXZCRLdQCGF/N1mM9pAgNaDWjPA3EDc11WLd+HdQGOVm9FTS95AsIqEKIKg2kCFAMebfIDYQHscphFIINhA5BqtLOSU10CJMSaEhRfWQFXA5T6YxtJAJMqk58IH0UBgdnAsTQnRQEc34McUVdNAqIeRc4YT0UBm2DNl+33QQFThfxFuNdRAE1lof0kg1UAjjngas73TQLONfoTFX9NAa1omG24C1UAzCiqXfXrYQNCbZv0nM9lAvMWfJKX53UBLjTsrk3XfQFR781frreBAiaPSZKUb4EAYDSeSyz/eQGv/f/MKEttA+znO9sm21kBVHDZPXuXUQMXlg983wNJAFfETLkOa1EAPC3CB5tnUQOsADFREvNRAaCWi/vcu00AxRRRO8mHXQCuNbJHxM9dA7Rh7M/2j1kDTk/PVdIbWQPt0nxCttdlAw9NtIcwd2kBE46IdeJbYQKmA064aL9lAcPn+HLwH2EAkM4AUqrbXQDxddPWd0tdAhQ+hgctf3UDrlH75xwreQKPxMQXUCeFA/VJuEO8/4kCsNni+kp/jQEsbvvvfzuNAC/7TuHuf4UDMT3ZEHUnhQARYCM8biN1Ar9Q6YjFn3UArdLm8AWbaQOp2vKpI19RAOQcvRn5700CR1fJDYczVQPY+PMgdkdRAF2TefaTnz0DLhlZjviTOQI9FwA7X0dNA3mkvGlzX00Cl9nI5HXbQQJoY8tToWNFAl2se2b700kA6VjS3eATUQH0Os+ilzdBAZaqEiyN7z0ClwbIy1xbQQFsl3x2usNJAUWsWn37r0UCXQNQ2XS/SQLVgm8sfedJAU3U/LULr0kBStL9F/UbRQEH7dqbyqc9A",
          "dtype": "f8"
         },
         "yaxis": "y"
        }
       ],
       "layout": {
        "height": 600,
        "images": [
         {
          "sizex": 0.15,
          "sizey": 0.15,
          "source": "/Users/rodrigocampos/Documents/Bitcoin/project/src/visualizations/BTC_black.png",
          "x": 0.008,
          "xanchor": "left",
          "xref": "paper",
          "y": 1.1,
          "yanchor": "top",
          "yref": "paper"
         }
        ],
        "legend": {
         "tracegroupgap": 0
        },
        "showlegend": false,
        "template": {
         "data": {
          "bar": [
           {
            "error_x": {
             "color": "#f2f5fa"
            },
            "error_y": {
             "color": "#f2f5fa"
            },
            "marker": {
             "line": {
              "color": "rgb(17,17,17)",
              "width": 0.5
             },
             "pattern": {
              "fillmode": "overlay",
              "size": 10,
              "solidity": 0.2
             }
            },
            "type": "bar"
           }
          ],
          "barpolar": [
           {
            "marker": {
             "line": {
              "color": "rgb(17,17,17)",
              "width": 0.5
             },
             "pattern": {
              "fillmode": "overlay",
              "size": 10,
              "solidity": 0.2
             }
            },
            "type": "barpolar"
           }
          ],
          "carpet": [
           {
            "aaxis": {
             "endlinecolor": "#A2B1C6",
             "gridcolor": "#506784",
             "linecolor": "#506784",
             "minorgridcolor": "#506784",
             "startlinecolor": "#A2B1C6"
            },
            "baxis": {
             "endlinecolor": "#A2B1C6",
             "gridcolor": "#506784",
             "linecolor": "#506784",
             "minorgridcolor": "#506784",
             "startlinecolor": "#A2B1C6"
            },
            "type": "carpet"
           }
          ],
          "choropleth": [
           {
            "colorbar": {
             "outlinewidth": 0,
             "ticks": ""
            },
            "type": "choropleth"
           }
          ],
          "contour": [
           {
            "colorbar": {
             "outlinewidth": 0,
             "ticks": ""
            },
            "colorscale": [
             [
              0,
              "#0d0887"
             ],
             [
              0.1111111111111111,
              "#46039f"
             ],
             [
              0.2222222222222222,
              "#7201a8"
             ],
             [
              0.3333333333333333,
              "#9c179e"
             ],
             [
              0.4444444444444444,
              "#bd3786"
             ],
             [
              0.5555555555555556,
              "#d8576b"
             ],
             [
              0.6666666666666666,
              "#ed7953"
             ],
             [
              0.7777777777777778,
              "#fb9f3a"
             ],
             [
              0.8888888888888888,
              "#fdca26"
             ],
             [
              1,
              "#f0f921"
             ]
            ],
            "type": "contour"
           }
          ],
          "contourcarpet": [
           {
            "colorbar": {
             "outlinewidth": 0,
             "ticks": ""
            },
            "type": "contourcarpet"
           }
          ],
          "heatmap": [
           {
            "colorbar": {
             "outlinewidth": 0,
             "ticks": ""
            },
            "colorscale": [
             [
              0,
              "#0d0887"
             ],
             [
              0.1111111111111111,
              "#46039f"
             ],
             [
              0.2222222222222222,
              "#7201a8"
             ],
             [
              0.3333333333333333,
              "#9c179e"
             ],
             [
              0.4444444444444444,
              "#bd3786"
             ],
             [
              0.5555555555555556,
              "#d8576b"
             ],
             [
              0.6666666666666666,
              "#ed7953"
             ],
             [
              0.7777777777777778,
              "#fb9f3a"
             ],
             [
              0.8888888888888888,
              "#fdca26"
             ],
             [
              1,
              "#f0f921"
             ]
            ],
            "type": "heatmap"
           }
          ],
          "histogram": [
           {
            "marker": {
             "pattern": {
              "fillmode": "overlay",
              "size": 10,
              "solidity": 0.2
             }
            },
            "type": "histogram"
           }
          ],
          "histogram2d": [
           {
            "colorbar": {
             "outlinewidth": 0,
             "ticks": ""
            },
            "colorscale": [
             [
              0,
              "#0d0887"
             ],
             [
              0.1111111111111111,
              "#46039f"
             ],
             [
              0.2222222222222222,
              "#7201a8"
             ],
             [
              0.3333333333333333,
              "#9c179e"
             ],
             [
              0.4444444444444444,
              "#bd3786"
             ],
             [
              0.5555555555555556,
              "#d8576b"
             ],
             [
              0.6666666666666666,
              "#ed7953"
             ],
             [
              0.7777777777777778,
              "#fb9f3a"
             ],
             [
              0.8888888888888888,
              "#fdca26"
             ],
             [
              1,
              "#f0f921"
             ]
            ],
            "type": "histogram2d"
           }
          ],
          "histogram2dcontour": [
           {
            "colorbar": {
             "outlinewidth": 0,
             "ticks": ""
            },
            "colorscale": [
             [
              0,
              "#0d0887"
             ],
             [
              0.1111111111111111,
              "#46039f"
             ],
             [
              0.2222222222222222,
              "#7201a8"
             ],
             [
              0.3333333333333333,
              "#9c179e"
             ],
             [
              0.4444444444444444,
              "#bd3786"
             ],
             [
              0.5555555555555556,
              "#d8576b"
             ],
             [
              0.6666666666666666,
              "#ed7953"
             ],
             [
              0.7777777777777778,
              "#fb9f3a"
             ],
             [
              0.8888888888888888,
              "#fdca26"
             ],
             [
              1,
              "#f0f921"
             ]
            ],
            "type": "histogram2dcontour"
           }
          ],
          "mesh3d": [
           {
            "colorbar": {
             "outlinewidth": 0,
             "ticks": ""
            },
            "type": "mesh3d"
           }
          ],
          "parcoords": [
           {
            "line": {
             "colorbar": {
              "outlinewidth": 0,
              "ticks": ""
             }
            },
            "type": "parcoords"
           }
          ],
          "pie": [
           {
            "automargin": true,
            "type": "pie"
           }
          ],
          "scatter": [
           {
            "marker": {
             "line": {
              "color": "#283442"
             }
            },
            "type": "scatter"
           }
          ],
          "scatter3d": [
           {
            "line": {
             "colorbar": {
              "outlinewidth": 0,
              "ticks": ""
             }
            },
            "marker": {
             "colorbar": {
              "outlinewidth": 0,
              "ticks": ""
             }
            },
            "type": "scatter3d"
           }
          ],
          "scattercarpet": [
           {
            "marker": {
             "colorbar": {
              "outlinewidth": 0,
              "ticks": ""
             }
            },
            "type": "scattercarpet"
           }
          ],
          "scattergeo": [
           {
            "marker": {
             "colorbar": {
              "outlinewidth": 0,
              "ticks": ""
             }
            },
            "type": "scattergeo"
           }
          ],
          "scattergl": [
           {
            "marker": {
             "line": {
              "color": "#283442"
             }
            },
            "type": "scattergl"
           }
          ],
          "scattermap": [
           {
            "marker": {
             "colorbar": {
              "outlinewidth": 0,
              "ticks": ""
             }
            },
            "type": "scattermap"
           }
          ],
          "scattermapbox": [
           {
            "marker": {
             "colorbar": {
              "outlinewidth": 0,
              "ticks": ""
             }
            },
            "type": "scattermapbox"
           }
          ],
          "scatterpolar": [
           {
            "marker": {
             "colorbar": {
              "outlinewidth": 0,
              "ticks": ""
             }
            },
            "type": "scatterpolar"
           }
          ],
          "scatterpolargl": [
           {
            "marker": {
             "colorbar": {
              "outlinewidth": 0,
              "ticks": ""
             }
            },
            "type": "scatterpolargl"
           }
          ],
          "scatterternary": [
           {
            "marker": {
             "colorbar": {
              "outlinewidth": 0,
              "ticks": ""
             }
            },
            "type": "scatterternary"
           }
          ],
          "surface": [
           {
            "colorbar": {
             "outlinewidth": 0,
             "ticks": ""
            },
            "colorscale": [
             [
              0,
              "#0d0887"
             ],
             [
              0.1111111111111111,
              "#46039f"
             ],
             [
              0.2222222222222222,
              "#7201a8"
             ],
             [
              0.3333333333333333,
              "#9c179e"
             ],
             [
              0.4444444444444444,
              "#bd3786"
             ],
             [
              0.5555555555555556,
              "#d8576b"
             ],
             [
              0.6666666666666666,
              "#ed7953"
             ],
             [
              0.7777777777777778,
              "#fb9f3a"
             ],
             [
              0.8888888888888888,
              "#fdca26"
             ],
             [
              1,
              "#f0f921"
             ]
            ],
            "type": "surface"
           }
          ],
          "table": [
           {
            "cells": {
             "fill": {
              "color": "#506784"
             },
             "line": {
              "color": "rgb(17,17,17)"
             }
            },
            "header": {
             "fill": {
              "color": "#2a3f5f"
             },
             "line": {
              "color": "rgb(17,17,17)"
             }
            },
            "type": "table"
           }
          ]
         },
         "layout": {
          "annotationdefaults": {
           "arrowcolor": "#f2f5fa",
           "arrowhead": 0,
           "arrowwidth": 1
          },
          "autotypenumbers": "strict",
          "coloraxis": {
           "colorbar": {
            "outlinewidth": 0,
            "ticks": ""
           }
          },
          "colorscale": {
           "diverging": [
            [
             0,
             "#8e0152"
            ],
            [
             0.1,
             "#c51b7d"
            ],
            [
             0.2,
             "#de77ae"
            ],
            [
             0.3,
             "#f1b6da"
            ],
            [
             0.4,
             "#fde0ef"
            ],
            [
             0.5,
             "#f7f7f7"
            ],
            [
             0.6,
             "#e6f5d0"
            ],
            [
             0.7,
             "#b8e186"
            ],
            [
             0.8,
             "#7fbc41"
            ],
            [
             0.9,
             "#4d9221"
            ],
            [
             1,
             "#276419"
            ]
           ],
           "sequential": [
            [
             0,
             "#0d0887"
            ],
            [
             0.1111111111111111,
             "#46039f"
            ],
            [
             0.2222222222222222,
             "#7201a8"
            ],
            [
             0.3333333333333333,
             "#9c179e"
            ],
            [
             0.4444444444444444,
             "#bd3786"
            ],
            [
             0.5555555555555556,
             "#d8576b"
            ],
            [
             0.6666666666666666,
             "#ed7953"
            ],
            [
             0.7777777777777778,
             "#fb9f3a"
            ],
            [
             0.8888888888888888,
             "#fdca26"
            ],
            [
             1,
             "#f0f921"
            ]
           ],
           "sequentialminus": [
            [
             0,
             "#0d0887"
            ],
            [
             0.1111111111111111,
             "#46039f"
            ],
            [
             0.2222222222222222,
             "#7201a8"
            ],
            [
             0.3333333333333333,
             "#9c179e"
            ],
            [
             0.4444444444444444,
             "#bd3786"
            ],
            [
             0.5555555555555556,
             "#d8576b"
            ],
            [
             0.6666666666666666,
             "#ed7953"
            ],
            [
             0.7777777777777778,
             "#fb9f3a"
            ],
            [
             0.8888888888888888,
             "#fdca26"
            ],
            [
             1,
             "#f0f921"
            ]
           ]
          },
          "colorway": [
           "#636efa",
           "#EF553B",
           "#00cc96",
           "#ab63fa",
           "#FFA15A",
           "#19d3f3",
           "#FF6692",
           "#B6E880",
           "#FF97FF",
           "#FECB52"
          ],
          "font": {
           "color": "#f2f5fa"
          },
          "geo": {
           "bgcolor": "rgb(17,17,17)",
           "lakecolor": "rgb(17,17,17)",
           "landcolor": "rgb(17,17,17)",
           "showlakes": true,
           "showland": true,
           "subunitcolor": "#506784"
          },
          "hoverlabel": {
           "align": "left"
          },
          "hovermode": "closest",
          "mapbox": {
           "style": "dark"
          },
          "paper_bgcolor": "rgb(17,17,17)",
          "plot_bgcolor": "rgb(17,17,17)",
          "polar": {
           "angularaxis": {
            "gridcolor": "#506784",
            "linecolor": "#506784",
            "ticks": ""
           },
           "bgcolor": "rgb(17,17,17)",
           "radialaxis": {
            "gridcolor": "#506784",
            "linecolor": "#506784",
            "ticks": ""
           }
          },
          "scene": {
           "xaxis": {
            "backgroundcolor": "rgb(17,17,17)",
            "gridcolor": "#506784",
            "gridwidth": 2,
            "linecolor": "#506784",
            "showbackground": true,
            "ticks": "",
            "zerolinecolor": "#C8D4E3"
           },
           "yaxis": {
            "backgroundcolor": "rgb(17,17,17)",
            "gridcolor": "#506784",
            "gridwidth": 2,
            "linecolor": "#506784",
            "showbackground": true,
            "ticks": "",
            "zerolinecolor": "#C8D4E3"
           },
           "zaxis": {
            "backgroundcolor": "rgb(17,17,17)",
            "gridcolor": "#506784",
            "gridwidth": 2,
            "linecolor": "#506784",
            "showbackground": true,
            "ticks": "",
            "zerolinecolor": "#C8D4E3"
           }
          },
          "shapedefaults": {
           "line": {
            "color": "#f2f5fa"
           }
          },
          "sliderdefaults": {
           "bgcolor": "#C8D4E3",
           "bordercolor": "rgb(17,17,17)",
           "borderwidth": 1,
           "tickwidth": 0
          },
          "ternary": {
           "aaxis": {
            "gridcolor": "#506784",
            "linecolor": "#506784",
            "ticks": ""
           },
           "baxis": {
            "gridcolor": "#506784",
            "linecolor": "#506784",
            "ticks": ""
           },
           "bgcolor": "rgb(17,17,17)",
           "caxis": {
            "gridcolor": "#506784",
            "linecolor": "#506784",
            "ticks": ""
           }
          },
          "title": {
           "x": 0.05
          },
          "updatemenudefaults": {
           "bgcolor": "#506784",
           "borderwidth": 0
          },
          "xaxis": {
           "automargin": true,
           "gridcolor": "#283442",
           "linecolor": "#506784",
           "ticks": "",
           "title": {
            "standoff": 15
           },
           "zerolinecolor": "#283442",
           "zerolinewidth": 2
          },
          "yaxis": {
           "automargin": true,
           "gridcolor": "#283442",
           "linecolor": "#506784",
           "ticks": "",
           "title": {
            "standoff": 15
           },
           "zerolinecolor": "#283442",
           "zerolinewidth": 2
          }
         }
        },
        "title": {
         "text": "<b><span style=\"font-size:22px;\">Bitcoin BTC - Valor Total Movimentado por Hora (₿ Média Móvel)</span></b>",
         "x": 0.5,
         "xanchor": "center",
         "y": 0.92,
         "yanchor": "top"
        },
        "xaxis": {
         "anchor": "y",
         "domain": [
          0,
          1
         ],
         "title": {
          "text": "Data"
         }
        },
        "yaxis": {
         "anchor": "x",
         "domain": [
          0,
          1
         ],
         "side": "right",
         "title": {
          "text": "BTC Movimentado (₿)"
         }
        }
       }
      }
     },
     "metadata": {},
     "output_type": "display_data"
    }
   ],
   "source": [
    "plot_btc_moved_hourly(df_blocks, image_path)"
   ]
  },
  {
   "cell_type": "markdown",
   "metadata": {},
   "source": [
    "##### 🔶 ₿ -----> block_reward"
   ]
  },
  {
   "cell_type": "code",
   "execution_count": 29,
   "metadata": {},
   "outputs": [
    {
     "data": {
      "text/plain": [
       "0"
      ]
     },
     "execution_count": 29,
     "metadata": {},
     "output_type": "execute_result"
    }
   ],
   "source": [
    "df_no_reward = df_blocks.filter(F.col(\"block_reward\") == 0)\n",
    "# --> Filtra os blocos que não geraram recompensa (recompensa igual a zero) / Filters blocks with no reward (reward equal to zero) <--\n",
    "\n",
    "df_no_reward.count()\n",
    "# --> Conta quantos blocos não tiveram recompensa associada / Counts how many blocks had no associated reward <--"
   ]
  },
  {
   "cell_type": "code",
   "execution_count": 30,
   "metadata": {},
   "outputs": [
    {
     "name": "stdout",
     "output_type": "stream",
     "text": [
      "+--------------+----------+\n",
      "|halving_period|avg_reward|\n",
      "+--------------+----------+\n",
      "|             4|     3.125|\n",
      "+--------------+----------+\n",
      "\n"
     ]
    }
   ],
   "source": [
    "df_blocks = df_blocks.withColumn(\n",
    "    \"halving_period\", \n",
    "    (F.col(\"block_height\") / 210000).cast(\"int\")\n",
    ")\n",
    "# --> Cria uma nova coluna indicando o período de halving com base na altura do bloco / Creates a new column indicating the halving period based on block height <--\n",
    "\n",
    "df_blocks.groupBy(\"halving_period\").agg(\n",
    "    F.avg(\"block_reward\").alias(\"avg_reward\")\n",
    ").orderBy(\"halving_period\").show()\n",
    "# --> Agrupa os blocos por período de halving e calcula a média da recompensa em cada um / Groups blocks by halving period and computes the average reward in each <--"
   ]
  },
  {
   "cell_type": "code",
   "execution_count": 31,
   "metadata": {},
   "outputs": [
    {
     "name": "stdout",
     "output_type": "stream",
     "text": [
      "+------------+---------+------------+\n",
      "|block_height|timestamp|block_reward|\n",
      "+------------+---------+------------+\n",
      "+------------+---------+------------+\n",
      "\n"
     ]
    }
   ],
   "source": [
    "valid_rewards = [50, 25, 12.5, 6.25, 3.125]\n",
    "# --> Define os valores válidos esperados de recompensa por bloco com base nos eventos de halving do Bitcoin / Defines valid block reward values based on Bitcoin halving events <--\n",
    "\n",
    "df_anomalies = df_blocks.filter(~F.col(\"block_reward\").isin(valid_rewards))\n",
    "# --> Filtra os blocos cuja recompensa não pertence à lista de valores esperados (possível anomalia) / Filters blocks whose reward is not in the list of expected values (potential anomaly) <--\n",
    "\n",
    "df_anomalies.select(\"block_height\", \"timestamp\", \"block_reward\").show()\n",
    "# --> Exibe os blocos com recompensas consideradas anômalas para investigação / Displays blocks with anomalous rewards for investigation <--"
   ]
  },
  {
   "cell_type": "markdown",
   "metadata": {},
   "source": [
    "##### 🔶 ₿ -----> total_fees"
   ]
  },
  {
   "cell_type": "code",
   "execution_count": 32,
   "metadata": {},
   "outputs": [
    {
     "name": "stdout",
     "output_type": "stream",
     "text": [
      "+--------+----------+-------------------+-------------------+\n",
      "|min_fees|  max_fees|           avg_fees|        stddev_fees|\n",
      "+--------+----------+-------------------+-------------------+\n",
      "|     0.0|0.31335154|0.03964745106930692|0.02909177320506851|\n",
      "+--------+----------+-------------------+-------------------+\n",
      "\n"
     ]
    }
   ],
   "source": [
    "df_blocks.select(\n",
    "    F.min(\"total_fees\").alias(\"min_fees\"),\n",
    "    F.max(\"total_fees\").alias(\"max_fees\"),\n",
    "    F.avg(\"total_fees\").alias(\"avg_fees\"),\n",
    "    F.stddev(\"total_fees\").alias(\"stddev_fees\")\n",
    ").show(5)\n",
    "# --> Calcula estatísticas descritivas sobre as taxas totais por bloco: mínimo, máximo, média e desvio padrão / Computes descriptive statistics for total fees per block: min, max, mean, and standard deviation <--"
   ]
  },
  {
   "cell_type": "code",
   "execution_count": 33,
   "metadata": {},
   "outputs": [
    {
     "data": {
      "text/plain": [
       "0.39262046249397375"
      ]
     },
     "execution_count": 33,
     "metadata": {},
     "output_type": "execute_result"
    }
   ],
   "source": [
    "df_blocks.select(F.col(\"total_fees\"), F.col(\"num_transactions\")).stat.corr(\"total_fees\", \"num_transactions\")\n",
    "# --> Calcula a correlação de Pearson entre as taxas totais e o número de transações por bloco / Computes the Pearson correlation between total fees and number of transactions per block <--"
   ]
  },
  {
   "cell_type": "code",
   "execution_count": 34,
   "metadata": {},
   "outputs": [
    {
     "name": "stdout",
     "output_type": "stream",
     "text": [
      "+------------+-------------------+----------+----------------+\n",
      "|block_height|          timestamp|total_fees|num_transactions|\n",
      "+------------+-------------------+----------+----------------+\n",
      "|      889527|2025-03-26 12:37:41|0.18994448|            4024|\n",
      "|      889532|2025-03-26 13:50:53|0.17270958|            4040|\n",
      "|      889533|2025-03-26 14:22:18|0.15549898|            4045|\n",
      "|      889535|2025-03-26 15:12:08|0.18514461|            4058|\n",
      "|      889549|2025-03-26 18:01:28|0.19116698|            4156|\n",
      "|      889938|2025-03-29 07:11:18|0.16476811|            3719|\n",
      "|      889988|2025-03-29 16:06:57|0.31335154|            3345|\n",
      "+------------+-------------------+----------+----------------+\n",
      "\n"
     ]
    }
   ],
   "source": [
    "stats = df_blocks.select(\n",
    "    F.avg(\"total_fees\").alias(\"mean\"),\n",
    "    F.stddev(\"total_fees\").alias(\"stddev\")\n",
    ").collect()[0]\n",
    "# --> Calcula a média e o desvio padrão das taxas totais por bloco / Computes the mean and standard deviation of total fees per block <--\n",
    "\n",
    "mean_fees = stats[\"mean\"]\n",
    "stddev_fees = stats[\"stddev\"]\n",
    "# --> Armazena os valores da média e do desvio padrão para uso posterior / Stores the mean and standard deviation values for later use <--\n",
    "\n",
    "df_anomalies = df_blocks.filter(F.col(\"total_fees\") > mean_fees + 3 * stddev_fees)\n",
    "# --> Filtra os blocos com taxas totais significativamente altas (acima de 3 desvios da média) / Filters blocks with significantly high total fees (above 3 standard deviations from the mean) <--\n",
    "\n",
    "df_anomalies.select(\"block_height\", \"timestamp\", \"total_fees\", \"num_transactions\").show()\n",
    "# --> Exibe os blocos anômalos com suas respectivas taxas, timestamps e número de transações / Displays the anomalous blocks with their fees, timestamps, and transaction counts <--"
   ]
  },
  {
   "cell_type": "code",
   "execution_count": 35,
   "metadata": {},
   "outputs": [
    {
     "name": "stdout",
     "output_type": "stream",
     "text": [
      "+----------+--------------------+\n",
      "|      date|      avg_total_fees|\n",
      "+----------+--------------------+\n",
      "|2025-03-26| 0.06319119642857145|\n",
      "|2025-03-27|0.035726873108108084|\n",
      "|2025-03-28| 0.03970823025974026|\n",
      "|2025-03-29|0.030549385703125004|\n",
      "|2025-04-08|0.057122598000000004|\n",
      "+----------+--------------------+\n",
      "\n"
     ]
    }
   ],
   "source": [
    "df_fees_time = df_blocks.groupBy(F.date_format(\"timestamp\", \"yyyy-MM-dd\").alias(\"date\")) \\\n",
    "    .agg(F.avg(\"total_fees\").alias(\"avg_total_fees\")) \\\n",
    "    .orderBy(\"date\")\n",
    "# --> Agrupa os blocos por data e calcula a média diária das taxas totais / Groups blocks by date and calculates the daily average of total fees <--\n",
    "\n",
    "df_fees_time.show(5)\n",
    "# --> Exibe as 5 primeiras datas com suas respectivas médias de taxas totais / Displays the first 5 dates with their average total fees <--"
   ]
  },
  {
   "cell_type": "markdown",
   "metadata": {},
   "source": [
    "##### 🔶 ₿ -----> block_value_btc"
   ]
  },
  {
   "cell_type": "code",
   "execution_count": 36,
   "metadata": {},
   "outputs": [
    {
     "name": "stdout",
     "output_type": "stream",
     "text": [
      "+------------+---------+------------+----------+---------------+----------------------+\n",
      "|block_height|timestamp|block_reward|total_fees|block_value_btc|calculated_block_value|\n",
      "+------------+---------+------------+----------+---------------+----------------------+\n",
      "+------------+---------+------------+----------+---------------+----------------------+\n",
      "\n"
     ]
    }
   ],
   "source": [
    "df_blocks = df_blocks.withColumn(\"calculated_block_value\", F.col(\"block_reward\") + F.col(\"total_fees\"))\n",
    "# --> Cria uma nova coluna com o valor total do bloco calculado (recompensa + taxas) / Creates a new column with the calculated total block value (reward + fees) <--\n",
    "\n",
    "df_mismatch = df_blocks.filter(F.col(\"block_value_btc\") != F.col(\"calculated_block_value\"))\n",
    "# --> Filtra os blocos onde o valor total registrado é diferente do valor calculado / Filters blocks where the recorded block value differs from the calculated value <--\n",
    "\n",
    "df_mismatch.select(\"block_height\", \"timestamp\", \"block_reward\", \"total_fees\", \"block_value_btc\", \"calculated_block_value\").show()\n",
    "# --> Exibe os blocos com discrepâncias entre valor registrado e valor calculado / Displays blocks with discrepancies between recorded and calculated block values <--"
   ]
  },
  {
   "cell_type": "code",
   "execution_count": 37,
   "metadata": {},
   "outputs": [
    {
     "name": "stdout",
     "output_type": "stream",
     "text": [
      "+---------------+---------------+------------------+--------------------+\n",
      "|min_block_value|max_block_value|   avg_block_value|  stddev_block_value|\n",
      "+---------------+---------------+------------------+--------------------+\n",
      "|          3.125|     3.43835154|3.1646474510693094|0.029091773205068144|\n",
      "+---------------+---------------+------------------+--------------------+\n",
      "\n"
     ]
    }
   ],
   "source": [
    "df_blocks.select(\n",
    "    F.min(\"block_value_btc\").alias(\"min_block_value\"),\n",
    "    F.max(\"block_value_btc\").alias(\"max_block_value\"),\n",
    "    F.avg(\"block_value_btc\").alias(\"avg_block_value\"),\n",
    "    F.stddev(\"block_value_btc\").alias(\"stddev_block_value\")\n",
    ").show()\n",
    "# --> Calcula estatísticas descritivas do valor total de BTC por bloco: mínimo, máximo, média e desvio padrão / Computes descriptive statistics for total BTC value per block: min, max, mean, and standard deviation <--"
   ]
  },
  {
   "cell_type": "code",
   "execution_count": 38,
   "metadata": {},
   "outputs": [
    {
     "data": {
      "application/vnd.plotly.v1+json": {
       "config": {
        "plotlyServerURL": "https://plot.ly"
       },
       "data": [
        {
         "fill": "tozeroy",
         "fillcolor": "rgba(229, 165, 0, 0.3)",
         "hovertemplate": "Data=%{x}<br>BTC=%{y}<extra></extra>",
         "legendgroup": "",
         "line": {
          "color": "#E57C1F",
          "dash": "solid",
          "width": 1.5
         },
         "marker": {
          "symbol": "circle"
         },
         "mode": "lines",
         "name": "",
         "orientation": "v",
         "showlegend": false,
         "type": "scatter",
         "x": [
          "2025-03-26 12",
          "2025-03-26 13",
          "2025-03-26 14",
          "2025-03-26 15",
          "2025-03-26 16",
          "2025-03-26 17",
          "2025-03-26 18",
          "2025-03-26 19",
          "2025-03-26 20",
          "2025-03-26 21",
          "2025-03-26 22",
          "2025-03-26 23",
          "2025-03-27 00",
          "2025-03-27 01",
          "2025-03-27 02",
          "2025-03-27 03",
          "2025-03-27 04",
          "2025-03-27 05",
          "2025-03-27 06",
          "2025-03-27 07",
          "2025-03-27 08",
          "2025-03-27 09",
          "2025-03-27 10",
          "2025-03-27 11",
          "2025-03-27 12",
          "2025-03-27 13",
          "2025-03-27 14",
          "2025-03-27 15",
          "2025-03-27 16",
          "2025-03-27 17",
          "2025-03-27 18",
          "2025-03-27 19",
          "2025-03-27 20",
          "2025-03-27 21",
          "2025-03-27 22",
          "2025-03-27 23",
          "2025-03-28 00",
          "2025-03-28 01",
          "2025-03-28 02",
          "2025-03-28 03",
          "2025-03-28 04",
          "2025-03-28 05",
          "2025-03-28 06",
          "2025-03-28 07",
          "2025-03-28 08",
          "2025-03-28 09",
          "2025-03-28 10",
          "2025-03-28 11",
          "2025-03-28 12",
          "2025-03-28 13",
          "2025-03-28 14",
          "2025-03-28 15",
          "2025-03-28 16",
          "2025-03-28 17",
          "2025-03-28 18",
          "2025-03-28 19",
          "2025-03-28 20",
          "2025-03-28 21",
          "2025-03-28 22",
          "2025-03-28 23",
          "2025-03-29 00",
          "2025-03-29 01",
          "2025-03-29 02",
          "2025-03-29 03",
          "2025-03-29 04",
          "2025-03-29 05",
          "2025-03-29 06",
          "2025-03-29 07",
          "2025-03-29 08",
          "2025-03-29 09",
          "2025-03-29 10",
          "2025-03-29 11",
          "2025-03-29 12",
          "2025-03-29 13",
          "2025-03-29 14",
          "2025-03-29 15",
          "2025-03-29 16",
          "2025-03-29 17",
          "2025-03-29 18",
          "2025-03-29 19",
          "2025-03-29 20",
          "2025-03-29 21",
          "2025-04-08 18",
          "2025-04-08 19"
         ],
         "xaxis": "x",
         "y": {
          "bdata": "XcKht3huI0B+9TyoWWIjQCwoLdgdQSFAR4zgd7omKECzunRKQr0pQC90Pp91mCdAY64JwV3YK0DZvfdj0IowQN0Us4IDRTVATXuftZy0NEBkufU0i8c2QFAXJqvVZTlARKHpFWRLOEDJCLazrC42QGOB099v9zFAMVr39RgCM0CXpTeHYJUtQJgZnN1lpC5AUHdyEO2yL0BYFXsTOPExQK+aHkvWCDRA45IzrmP+MkDbZehtpg40QI2hDdY6eDJABQIGRjYINEBJILEfWoAzQOkhAUChBjRAc1vPzvGTNUCYYrPImy84QKEJYSdTMThAVQYq7jkkN0CLmE/dLTw5QLBsi9dhszhAj4szT/cTNkAJ0DfqaXUzQJtxntou+zNAPEqIZtz5M0Bo6LWU02syQLMqM7spbDJAgt243plsMkAorfP+qYM0QKMtUE/3lzZA6ZLqapCmN0Ab0MTSw4k1QHTJjS1FETZAGCX+4+QVNkD9ROYSD6g2QJgXE6lSDzRAkKrRoCfrMEBNm8nqZMUvQNjrxIJOpStA3EhV6sQTM0DVBkiwSAIyQAHPaj8hDjNAKDTekCUdNEDI2qCm/NI4QEnRUd8U2DlAl0/aRHuTNED0D6ZRlhk1QImCd/XShDNAynJM9Wh0MkAr62lNFFkwQOdZKB3Vmy9A9a63VPblMUAt7vK7Uk0wQDHdNTJZ3TFAMe8DIlboMkBn1kfm4VsxQK/CjWBUaTJAe/wuBrrVMEDCJnGmI340QGTEquZe+DNAXd4nCE7tMkDZJMMafG0zQD+BoHEbYjJAuzGjdHTbMUD11kSPLWUxQK3HMDUr4DBAoEux0kJZMEBt00FbJvgyQB7vyyAPDzVAZZu9MPGJNEDP8GMkLkwwQG9MOaTxhC5A",
          "dtype": "f8"
         },
         "yaxis": "y"
        }
       ],
       "layout": {
        "height": 600,
        "images": [
         {
          "sizex": 0.15,
          "sizey": 0.15,
          "source": "/Users/rodrigocampos/Documents/Bitcoin/project/src/visualizations/BTC_black.png",
          "x": 0.008,
          "xanchor": "left",
          "xref": "paper",
          "y": 1.1,
          "yanchor": "top",
          "yref": "paper"
         }
        ],
        "legend": {
         "tracegroupgap": 0
        },
        "showlegend": false,
        "template": {
         "data": {
          "bar": [
           {
            "error_x": {
             "color": "#f2f5fa"
            },
            "error_y": {
             "color": "#f2f5fa"
            },
            "marker": {
             "line": {
              "color": "rgb(17,17,17)",
              "width": 0.5
             },
             "pattern": {
              "fillmode": "overlay",
              "size": 10,
              "solidity": 0.2
             }
            },
            "type": "bar"
           }
          ],
          "barpolar": [
           {
            "marker": {
             "line": {
              "color": "rgb(17,17,17)",
              "width": 0.5
             },
             "pattern": {
              "fillmode": "overlay",
              "size": 10,
              "solidity": 0.2
             }
            },
            "type": "barpolar"
           }
          ],
          "carpet": [
           {
            "aaxis": {
             "endlinecolor": "#A2B1C6",
             "gridcolor": "#506784",
             "linecolor": "#506784",
             "minorgridcolor": "#506784",
             "startlinecolor": "#A2B1C6"
            },
            "baxis": {
             "endlinecolor": "#A2B1C6",
             "gridcolor": "#506784",
             "linecolor": "#506784",
             "minorgridcolor": "#506784",
             "startlinecolor": "#A2B1C6"
            },
            "type": "carpet"
           }
          ],
          "choropleth": [
           {
            "colorbar": {
             "outlinewidth": 0,
             "ticks": ""
            },
            "type": "choropleth"
           }
          ],
          "contour": [
           {
            "colorbar": {
             "outlinewidth": 0,
             "ticks": ""
            },
            "colorscale": [
             [
              0,
              "#0d0887"
             ],
             [
              0.1111111111111111,
              "#46039f"
             ],
             [
              0.2222222222222222,
              "#7201a8"
             ],
             [
              0.3333333333333333,
              "#9c179e"
             ],
             [
              0.4444444444444444,
              "#bd3786"
             ],
             [
              0.5555555555555556,
              "#d8576b"
             ],
             [
              0.6666666666666666,
              "#ed7953"
             ],
             [
              0.7777777777777778,
              "#fb9f3a"
             ],
             [
              0.8888888888888888,
              "#fdca26"
             ],
             [
              1,
              "#f0f921"
             ]
            ],
            "type": "contour"
           }
          ],
          "contourcarpet": [
           {
            "colorbar": {
             "outlinewidth": 0,
             "ticks": ""
            },
            "type": "contourcarpet"
           }
          ],
          "heatmap": [
           {
            "colorbar": {
             "outlinewidth": 0,
             "ticks": ""
            },
            "colorscale": [
             [
              0,
              "#0d0887"
             ],
             [
              0.1111111111111111,
              "#46039f"
             ],
             [
              0.2222222222222222,
              "#7201a8"
             ],
             [
              0.3333333333333333,
              "#9c179e"
             ],
             [
              0.4444444444444444,
              "#bd3786"
             ],
             [
              0.5555555555555556,
              "#d8576b"
             ],
             [
              0.6666666666666666,
              "#ed7953"
             ],
             [
              0.7777777777777778,
              "#fb9f3a"
             ],
             [
              0.8888888888888888,
              "#fdca26"
             ],
             [
              1,
              "#f0f921"
             ]
            ],
            "type": "heatmap"
           }
          ],
          "histogram": [
           {
            "marker": {
             "pattern": {
              "fillmode": "overlay",
              "size": 10,
              "solidity": 0.2
             }
            },
            "type": "histogram"
           }
          ],
          "histogram2d": [
           {
            "colorbar": {
             "outlinewidth": 0,
             "ticks": ""
            },
            "colorscale": [
             [
              0,
              "#0d0887"
             ],
             [
              0.1111111111111111,
              "#46039f"
             ],
             [
              0.2222222222222222,
              "#7201a8"
             ],
             [
              0.3333333333333333,
              "#9c179e"
             ],
             [
              0.4444444444444444,
              "#bd3786"
             ],
             [
              0.5555555555555556,
              "#d8576b"
             ],
             [
              0.6666666666666666,
              "#ed7953"
             ],
             [
              0.7777777777777778,
              "#fb9f3a"
             ],
             [
              0.8888888888888888,
              "#fdca26"
             ],
             [
              1,
              "#f0f921"
             ]
            ],
            "type": "histogram2d"
           }
          ],
          "histogram2dcontour": [
           {
            "colorbar": {
             "outlinewidth": 0,
             "ticks": ""
            },
            "colorscale": [
             [
              0,
              "#0d0887"
             ],
             [
              0.1111111111111111,
              "#46039f"
             ],
             [
              0.2222222222222222,
              "#7201a8"
             ],
             [
              0.3333333333333333,
              "#9c179e"
             ],
             [
              0.4444444444444444,
              "#bd3786"
             ],
             [
              0.5555555555555556,
              "#d8576b"
             ],
             [
              0.6666666666666666,
              "#ed7953"
             ],
             [
              0.7777777777777778,
              "#fb9f3a"
             ],
             [
              0.8888888888888888,
              "#fdca26"
             ],
             [
              1,
              "#f0f921"
             ]
            ],
            "type": "histogram2dcontour"
           }
          ],
          "mesh3d": [
           {
            "colorbar": {
             "outlinewidth": 0,
             "ticks": ""
            },
            "type": "mesh3d"
           }
          ],
          "parcoords": [
           {
            "line": {
             "colorbar": {
              "outlinewidth": 0,
              "ticks": ""
             }
            },
            "type": "parcoords"
           }
          ],
          "pie": [
           {
            "automargin": true,
            "type": "pie"
           }
          ],
          "scatter": [
           {
            "marker": {
             "line": {
              "color": "#283442"
             }
            },
            "type": "scatter"
           }
          ],
          "scatter3d": [
           {
            "line": {
             "colorbar": {
              "outlinewidth": 0,
              "ticks": ""
             }
            },
            "marker": {
             "colorbar": {
              "outlinewidth": 0,
              "ticks": ""
             }
            },
            "type": "scatter3d"
           }
          ],
          "scattercarpet": [
           {
            "marker": {
             "colorbar": {
              "outlinewidth": 0,
              "ticks": ""
             }
            },
            "type": "scattercarpet"
           }
          ],
          "scattergeo": [
           {
            "marker": {
             "colorbar": {
              "outlinewidth": 0,
              "ticks": ""
             }
            },
            "type": "scattergeo"
           }
          ],
          "scattergl": [
           {
            "marker": {
             "line": {
              "color": "#283442"
             }
            },
            "type": "scattergl"
           }
          ],
          "scattermap": [
           {
            "marker": {
             "colorbar": {
              "outlinewidth": 0,
              "ticks": ""
             }
            },
            "type": "scattermap"
           }
          ],
          "scattermapbox": [
           {
            "marker": {
             "colorbar": {
              "outlinewidth": 0,
              "ticks": ""
             }
            },
            "type": "scattermapbox"
           }
          ],
          "scatterpolar": [
           {
            "marker": {
             "colorbar": {
              "outlinewidth": 0,
              "ticks": ""
             }
            },
            "type": "scatterpolar"
           }
          ],
          "scatterpolargl": [
           {
            "marker": {
             "colorbar": {
              "outlinewidth": 0,
              "ticks": ""
             }
            },
            "type": "scatterpolargl"
           }
          ],
          "scatterternary": [
           {
            "marker": {
             "colorbar": {
              "outlinewidth": 0,
              "ticks": ""
             }
            },
            "type": "scatterternary"
           }
          ],
          "surface": [
           {
            "colorbar": {
             "outlinewidth": 0,
             "ticks": ""
            },
            "colorscale": [
             [
              0,
              "#0d0887"
             ],
             [
              0.1111111111111111,
              "#46039f"
             ],
             [
              0.2222222222222222,
              "#7201a8"
             ],
             [
              0.3333333333333333,
              "#9c179e"
             ],
             [
              0.4444444444444444,
              "#bd3786"
             ],
             [
              0.5555555555555556,
              "#d8576b"
             ],
             [
              0.6666666666666666,
              "#ed7953"
             ],
             [
              0.7777777777777778,
              "#fb9f3a"
             ],
             [
              0.8888888888888888,
              "#fdca26"
             ],
             [
              1,
              "#f0f921"
             ]
            ],
            "type": "surface"
           }
          ],
          "table": [
           {
            "cells": {
             "fill": {
              "color": "#506784"
             },
             "line": {
              "color": "rgb(17,17,17)"
             }
            },
            "header": {
             "fill": {
              "color": "#2a3f5f"
             },
             "line": {
              "color": "rgb(17,17,17)"
             }
            },
            "type": "table"
           }
          ]
         },
         "layout": {
          "annotationdefaults": {
           "arrowcolor": "#f2f5fa",
           "arrowhead": 0,
           "arrowwidth": 1
          },
          "autotypenumbers": "strict",
          "coloraxis": {
           "colorbar": {
            "outlinewidth": 0,
            "ticks": ""
           }
          },
          "colorscale": {
           "diverging": [
            [
             0,
             "#8e0152"
            ],
            [
             0.1,
             "#c51b7d"
            ],
            [
             0.2,
             "#de77ae"
            ],
            [
             0.3,
             "#f1b6da"
            ],
            [
             0.4,
             "#fde0ef"
            ],
            [
             0.5,
             "#f7f7f7"
            ],
            [
             0.6,
             "#e6f5d0"
            ],
            [
             0.7,
             "#b8e186"
            ],
            [
             0.8,
             "#7fbc41"
            ],
            [
             0.9,
             "#4d9221"
            ],
            [
             1,
             "#276419"
            ]
           ],
           "sequential": [
            [
             0,
             "#0d0887"
            ],
            [
             0.1111111111111111,
             "#46039f"
            ],
            [
             0.2222222222222222,
             "#7201a8"
            ],
            [
             0.3333333333333333,
             "#9c179e"
            ],
            [
             0.4444444444444444,
             "#bd3786"
            ],
            [
             0.5555555555555556,
             "#d8576b"
            ],
            [
             0.6666666666666666,
             "#ed7953"
            ],
            [
             0.7777777777777778,
             "#fb9f3a"
            ],
            [
             0.8888888888888888,
             "#fdca26"
            ],
            [
             1,
             "#f0f921"
            ]
           ],
           "sequentialminus": [
            [
             0,
             "#0d0887"
            ],
            [
             0.1111111111111111,
             "#46039f"
            ],
            [
             0.2222222222222222,
             "#7201a8"
            ],
            [
             0.3333333333333333,
             "#9c179e"
            ],
            [
             0.4444444444444444,
             "#bd3786"
            ],
            [
             0.5555555555555556,
             "#d8576b"
            ],
            [
             0.6666666666666666,
             "#ed7953"
            ],
            [
             0.7777777777777778,
             "#fb9f3a"
            ],
            [
             0.8888888888888888,
             "#fdca26"
            ],
            [
             1,
             "#f0f921"
            ]
           ]
          },
          "colorway": [
           "#636efa",
           "#EF553B",
           "#00cc96",
           "#ab63fa",
           "#FFA15A",
           "#19d3f3",
           "#FF6692",
           "#B6E880",
           "#FF97FF",
           "#FECB52"
          ],
          "font": {
           "color": "#f2f5fa"
          },
          "geo": {
           "bgcolor": "rgb(17,17,17)",
           "lakecolor": "rgb(17,17,17)",
           "landcolor": "rgb(17,17,17)",
           "showlakes": true,
           "showland": true,
           "subunitcolor": "#506784"
          },
          "hoverlabel": {
           "align": "left"
          },
          "hovermode": "closest",
          "mapbox": {
           "style": "dark"
          },
          "paper_bgcolor": "rgb(17,17,17)",
          "plot_bgcolor": "rgb(17,17,17)",
          "polar": {
           "angularaxis": {
            "gridcolor": "#506784",
            "linecolor": "#506784",
            "ticks": ""
           },
           "bgcolor": "rgb(17,17,17)",
           "radialaxis": {
            "gridcolor": "#506784",
            "linecolor": "#506784",
            "ticks": ""
           }
          },
          "scene": {
           "xaxis": {
            "backgroundcolor": "rgb(17,17,17)",
            "gridcolor": "#506784",
            "gridwidth": 2,
            "linecolor": "#506784",
            "showbackground": true,
            "ticks": "",
            "zerolinecolor": "#C8D4E3"
           },
           "yaxis": {
            "backgroundcolor": "rgb(17,17,17)",
            "gridcolor": "#506784",
            "gridwidth": 2,
            "linecolor": "#506784",
            "showbackground": true,
            "ticks": "",
            "zerolinecolor": "#C8D4E3"
           },
           "zaxis": {
            "backgroundcolor": "rgb(17,17,17)",
            "gridcolor": "#506784",
            "gridwidth": 2,
            "linecolor": "#506784",
            "showbackground": true,
            "ticks": "",
            "zerolinecolor": "#C8D4E3"
           }
          },
          "shapedefaults": {
           "line": {
            "color": "#f2f5fa"
           }
          },
          "sliderdefaults": {
           "bgcolor": "#C8D4E3",
           "bordercolor": "rgb(17,17,17)",
           "borderwidth": 1,
           "tickwidth": 0
          },
          "ternary": {
           "aaxis": {
            "gridcolor": "#506784",
            "linecolor": "#506784",
            "ticks": ""
           },
           "baxis": {
            "gridcolor": "#506784",
            "linecolor": "#506784",
            "ticks": ""
           },
           "bgcolor": "rgb(17,17,17)",
           "caxis": {
            "gridcolor": "#506784",
            "linecolor": "#506784",
            "ticks": ""
           }
          },
          "title": {
           "x": 0.05
          },
          "updatemenudefaults": {
           "bgcolor": "#506784",
           "borderwidth": 0
          },
          "xaxis": {
           "automargin": true,
           "gridcolor": "#283442",
           "linecolor": "#506784",
           "ticks": "",
           "title": {
            "standoff": 15
           },
           "zerolinecolor": "#283442",
           "zerolinewidth": 2
          },
          "yaxis": {
           "automargin": true,
           "gridcolor": "#283442",
           "linecolor": "#506784",
           "ticks": "",
           "title": {
            "standoff": 15
           },
           "zerolinecolor": "#283442",
           "zerolinewidth": 2
          }
         }
        },
        "title": {
         "text": "<b><span style=\"font-size:22px;\">Bitcoin BTC - Valor Total por Hora (₿ Média Móvel)</span></b>",
         "x": 0.5,
         "xanchor": "center",
         "y": 0.92,
         "yanchor": "top"
        },
        "xaxis": {
         "anchor": "y",
         "domain": [
          0,
          1
         ],
         "title": {
          "text": "Data"
         }
        },
        "yaxis": {
         "anchor": "x",
         "domain": [
          0,
          1
         ],
         "side": "right",
         "title": {
          "text": "BTC Total(₿)"
         }
        }
       }
      }
     },
     "metadata": {},
     "output_type": "display_data"
    }
   ],
   "source": [
    "plot_btc_total_hourly(df_blocks, image_path)"
   ]
  },
  {
   "cell_type": "code",
   "execution_count": 39,
   "metadata": {},
   "outputs": [
    {
     "name": "stdout",
     "output_type": "stream",
     "text": [
      "+----------+------------------+\n",
      "|      date|   avg_block_value|\n",
      "+----------+------------------+\n",
      "|2025-03-26| 3.188191196428572|\n",
      "|2025-03-27| 3.160726873108108|\n",
      "|2025-03-28|3.1647082302597407|\n",
      "|2025-03-29| 3.155549385703127|\n",
      "|2025-04-08|3.1821225980000003|\n",
      "+----------+------------------+\n",
      "\n"
     ]
    }
   ],
   "source": [
    "df_block_time = df_blocks.groupBy(F.date_format(\"timestamp\", \"yyyy-MM-dd\").alias(\"date\")) \\\n",
    "    .agg(F.avg(\"block_value_btc\").alias(\"avg_block_value\")) \\\n",
    "    .orderBy(\"date\")\n",
    "# --> Agrupa os blocos por data e calcula a média diária do valor total dos blocos (recompensa + taxas) / Groups blocks by date and calculates the daily average block value (reward + fees) <--\n",
    "\n",
    "df_block_time.show(10)\n",
    "# --> Exibe as 10 primeiras datas com suas respectivas médias de valor de bloco em BTC / Displays the first 10 dates with their respective average block value in BTC <--"
   ]
  },
  {
   "cell_type": "code",
   "execution_count": 40,
   "metadata": {},
   "outputs": [],
   "source": [
    "stats = df_blocks.select(\n",
    "    F.avg(\"block_value_btc\").alias(\"mean\"),\n",
    "    F.stddev(\"block_value_btc\").alias(\"stddev\")\n",
    ").collect()[0]\n",
    "# --> Calcula a média e o desvio padrão do valor total dos blocos (em BTC) / Computes the mean and standard deviation of total block value (in BTC) <--\n",
    "\n",
    "mean_block_value = stats[\"mean\"]\n",
    "stddev_block_value = stats[\"stddev\"]\n",
    "# --> Armazena os valores da média e do desvio padrão para uso posterior / Stores mean and standard deviation values for later use <--\n",
    "\n",
    "df_anomalies = df_blocks.filter(F.col(\"block_value_btc\") > mean_block_value + 3 * stddev_block_value)\n",
    "# --> Filtra os blocos com valores totais anômalos (acima de 3 desvios padrão da média) / Filters blocks with anomalously high total values (above 3 standard deviations from the mean) <--"
   ]
  },
  {
   "cell_type": "markdown",
   "metadata": {},
   "source": [
    "##### 🔶 ₿ -----> Correlação"
   ]
  },
  {
   "cell_type": "code",
   "execution_count": 41,
   "metadata": {},
   "outputs": [
    {
     "name": "stdout",
     "output_type": "stream",
     "text": [
      "Correlação entre block_reward e block_height: nan\n",
      "Correlação entre total_fees e num_transactions: 0.39262046249397375\n",
      "Correlação entre block_value_btc e total_btc_moved: 0.4892216028229072\n",
      "+--------------------+-------------------+\n",
      "|           Variáveis|         Correlação|\n",
      "+--------------------+-------------------+\n",
      "|block_reward x bl...|                NaN|\n",
      "|total_fees x num_...|0.39262046249397375|\n",
      "|block_value_btc x...| 0.4892216028229072|\n",
      "+--------------------+-------------------+\n",
      "\n"
     ]
    }
   ],
   "source": [
    "correlation_reward_height = df_blocks.select(F.col(\"block_reward\"), F.col(\"block_height\")).stat.corr(\"block_reward\", \"block_height\")\n",
    "# --> Calcula a correlação de Pearson entre a recompensa do bloco e sua altura / Computes Pearson correlation between block reward and block height <--\n",
    "\n",
    "print(f\"Correlação entre block_reward e block_height: {correlation_reward_height}\")\n",
    "# --> Exibe o valor da correlação entre recompensa e altura do bloco / Prints the correlation between reward and block height <--\n",
    "\n",
    "correlation_fees_transactions = df_blocks.select(F.col(\"total_fees\"), F.col(\"num_transactions\")).stat.corr(\"total_fees\", \"num_transactions\")\n",
    "# --> Calcula a correlação entre as taxas totais e o número de transações por bloco / Computes the correlation between total fees and number of transactions per block <--\n",
    "\n",
    "print(f\"Correlação entre total_fees e num_transactions: {correlation_fees_transactions}\")\n",
    "# --> Exibe o valor da correlação entre taxas e número de transações / Prints the correlation between total fees and number of transactions <--\n",
    "\n",
    "correlation_value_moved = df_blocks.select(F.col(\"block_value_btc\"), F.col(\"total_btc_moved\")).stat.corr(\"block_value_btc\", \"total_btc_moved\")\n",
    "# --> Calcula a correlação entre o valor total do bloco e o total de BTC movimentado / Computes the correlation between total block value and total BTC moved <--\n",
    "\n",
    "print(f\"Correlação entre block_value_btc e total_btc_moved: {correlation_value_moved}\")\n",
    "# --> Exibe o valor da correlação entre valor do bloco e BTC movimentado / Prints the correlation between block value and BTC moved <--\n",
    "\n",
    "df_correlation = spark.createDataFrame([\n",
    "    (\"block_reward x block_height\", correlation_reward_height),\n",
    "    (\"total_fees x num_transactions\", correlation_fees_transactions),\n",
    "    (\"block_value_btc x total_btc_moved\", correlation_value_moved)\n",
    "], [\"Variáveis\", \"Correlação\"])\n",
    "# --> Cria um DataFrame com os pares de variáveis e seus respectivos coeficientes de correlação / Creates a DataFrame with variable pairs and their correlation coefficients <--\n",
    "\n",
    "df_correlation.show()\n",
    "# --> Exibe a tabela de correlação entre variáveis de interesse / Displays the correlation table between key variables <--"
   ]
  },
  {
   "cell_type": "code",
   "execution_count": 42,
   "metadata": {},
   "outputs": [
    {
     "name": "stdout",
     "output_type": "stream",
     "text": [
      "+------------+-------------------+--------------------+----------------+---------------+------------+----------+---------------+-----------------+-------------------+---------+--------------+----------------------+\n",
      "|block_height|          timestamp|          block_hash|num_transactions|total_btc_moved|block_reward|total_fees|block_value_btc|prev_block_height|     prev_timestamp|time_diff|halving_period|calculated_block_value|\n",
      "+------------+-------------------+--------------------+----------------+---------------+------------+----------+---------------+-----------------+-------------------+---------+--------------+----------------------+\n",
      "|      889527|2025-03-26 12:37:41|00000000000000000...|            4024| 12228.53033136|       3.125|0.18994448|     3.31494448|             NULL|               NULL|     NULL|             4|            3.31494448|\n",
      "|      889528|2025-03-26 12:41:58|00000000000000000...|            2867|   4971.2286109|       3.125|0.05680289|     3.18180289|           889527|2025-03-26 12:37:41|      257|             4|            3.18180289|\n",
      "|      889529|2025-03-26 12:53:09|00000000000000000...|            3488|  2729.85144136|       3.125|0.09401738|     3.21901738|           889528|2025-03-26 12:41:58|      671|             4|            3.21901738|\n",
      "|      889530|2025-03-26 13:09:22|00000000000000000...|            3208|  4372.56008987|       3.125|0.08532172|     3.21032172|           889529|2025-03-26 12:53:09|      973|             4|            3.21032172|\n",
      "|      889531|2025-03-26 13:13:44|00000000000000000...|            2615|  1583.56604335|       3.125|0.03538451|     3.16038451|           889530|2025-03-26 13:09:22|      262|             4|            3.16038451|\n",
      "+------------+-------------------+--------------------+----------------+---------------+------------+----------+---------------+-----------------+-------------------+---------+--------------+----------------------+\n",
      "only showing top 5 rows\n",
      "\n",
      "root\n",
      " |-- block_height: long (nullable = true)\n",
      " |-- timestamp: timestamp_ntz (nullable = true)\n",
      " |-- block_hash: string (nullable = true)\n",
      " |-- num_transactions: long (nullable = true)\n",
      " |-- total_btc_moved: double (nullable = true)\n",
      " |-- block_reward: double (nullable = true)\n",
      " |-- total_fees: double (nullable = true)\n",
      " |-- block_value_btc: double (nullable = true)\n",
      " |-- prev_block_height: long (nullable = true)\n",
      " |-- prev_timestamp: timestamp_ntz (nullable = true)\n",
      " |-- time_diff: long (nullable = true)\n",
      " |-- halving_period: integer (nullable = true)\n",
      " |-- calculated_block_value: double (nullable = true)\n",
      "\n"
     ]
    }
   ],
   "source": [
    "df_blocks.show(5)\n",
    "df_blocks.printSchema()"
   ]
  },
  {
   "cell_type": "markdown",
   "metadata": {},
   "source": [
    "<img src=\"https://upload.wikimedia.org/wikipedia/commons/4/46/Bitcoin.svg\" alt=\"Logo do Bitcoin\" width=\"100\" style=\"margin-right: 30px;\">\n",
    "<font size=\"15\">Transactions</font>"
   ]
  },
  {
   "cell_type": "markdown",
   "metadata": {},
   "source": [
    "  root   \n",
    " |-- tx_hash: string  ------------------------> Representa o identificador único da transação, gerado a partir do hash criptográfico da transação atual, garantindo a integridade e segurança da blockchain.  \n",
    " |-- block_height: long  ---------------------> Representa a altura do bloco na blockchain, ou seja, o número sequencial de cada bloco na cadeia.  \n",
    " |-- timestamp: timestamp_ntz  ------------> A coluna timestamp registra o momento exato em que um bloco foi minerado e adicionado à blockchain.  \n",
    " |-- address: string  ------------------------> O endereço da carteira envolvida na transação, identificando remetentes e destinatários.  \n",
    " |-- direction: string  -----------------------> Indica se a transação é de entrada (\"in\") ou saída (\"out\") para o endereço da carteira.  \n",
    " |-- input_count: long  ---------------------> Quantidade de inputs na transação, ou seja, quantas entradas foram usadas para compor a transação.  \n",
    " |-- output_count: long  --------------------> Quantidade de outputs na transação, ou seja, para quantos endereços os valores foram enviados.  \n",
    " |-- fee: double  ---------------------------> Representa a taxa de transação paga aos mineradores pela inclusão da transação no bloco.    \n",
    " |-- transaction_size: long  ----------------> O tamanho da transação em bytes, determinando o espaço que ela ocupa no bloco.  \n"
   ]
  },
  {
   "cell_type": "code",
   "execution_count": 43,
   "metadata": {},
   "outputs": [],
   "source": [
    "PASTA_TRANSACTIONS = \"/Users/rodrigocampos/Library/Mobile Documents/com~apple~CloudDocs/requests/blockchain_transactions_part\"\n",
    "\n",
    "df_transactions = spark.read.parquet(PASTA_TRANSACTIONS)"
   ]
  },
  {
   "cell_type": "code",
   "execution_count": 44,
   "metadata": {},
   "outputs": [
    {
     "name": "stdout",
     "output_type": "stream",
     "text": [
      "+--------------------+------------+-------------------+----------+-----------+-----------+------------+---------+----------------+\n",
      "|             tx_hash|block_height|          timestamp|num_inputs|num_outputs|total_input|total_output|      fee|transaction_size|\n",
      "+--------------------+------------+-------------------+----------+-----------+-----------+------------+---------+----------------+\n",
      "|2fa08a559b7faf443...|      889564|2025-03-26 20:00:56|         1|          6|        0.0|  3.23732655|      0.0|             421|\n",
      "|77ddf14fcf70aac01...|      889564|2025-03-26 20:00:56|         1|          4|   9.282E-5|    9.282E-5|      0.0|             292|\n",
      "|ba90b8af88040e2e4...|      889564|2025-03-26 20:00:56|         1|          2| 0.00131285|  0.00110135| 2.115E-4|             223|\n",
      "|63c40cfc7349f4480...|      889564|2025-03-26 20:00:56|         1|          1| 0.01343592|  0.01330272| 1.332E-4|             192|\n",
      "|e9b7bf44d6573c1c9...|      889564|2025-03-26 20:00:56|         1|          1| 0.00123138|  0.00111724|1.1414E-4|             192|\n",
      "+--------------------+------------+-------------------+----------+-----------+-----------+------------+---------+----------------+\n",
      "only showing top 5 rows\n",
      "\n",
      "root\n",
      " |-- tx_hash: string (nullable = true)\n",
      " |-- block_height: long (nullable = true)\n",
      " |-- timestamp: timestamp_ntz (nullable = true)\n",
      " |-- num_inputs: long (nullable = true)\n",
      " |-- num_outputs: long (nullable = true)\n",
      " |-- total_input: double (nullable = true)\n",
      " |-- total_output: double (nullable = true)\n",
      " |-- fee: double (nullable = true)\n",
      " |-- transaction_size: long (nullable = true)\n",
      "\n"
     ]
    }
   ],
   "source": [
    "df_transactions.show(5)\n",
    "df_transactions.printSchema()"
   ]
  },
  {
   "cell_type": "markdown",
   "metadata": {},
   "source": [
    "##### 🔶 ₿ -----> timestamp"
   ]
  },
  {
   "cell_type": "code",
   "execution_count": 45,
   "metadata": {},
   "outputs": [
    {
     "name": "stdout",
     "output_type": "stream",
     "text": [
      "+-------------------+-------------------+\n",
      "|Min Timestamp      |Max Timestamp      |\n",
      "+-------------------+-------------------+\n",
      "|2025-03-26 12:37:41|2025-04-08 19:31:18|\n",
      "+-------------------+-------------------+\n",
      "\n"
     ]
    },
    {
     "name": "stderr",
     "output_type": "stream",
     "text": [
      "                                                                                \r"
     ]
    }
   ],
   "source": [
    "df_transactions.select(\n",
    "    F.min(\"timestamp\").alias(\"Min Timestamp\"),\n",
    "    F.max(\"timestamp\").alias(\"Max Timestamp\")\n",
    ").show(truncate=False)\n",
    "# --> Exibe o menor e o maior timestamp presentes na tabela de transações para auditoria do intervalo temporal / Displays the minimum and maximum timestamps in the transactions table for auditing the time range <--"
   ]
  },
  {
   "cell_type": "code",
   "execution_count": 46,
   "metadata": {},
   "outputs": [],
   "source": [
    "df_transactions = df_transactions.orderBy(\"timestamp\")\n",
    "# --> Ordena o DataFrame de transações em ordem crescente de tempo / Sorts the transactions DataFrame in ascending order of time <--"
   ]
  },
  {
   "cell_type": "code",
   "execution_count": 47,
   "metadata": {},
   "outputs": [],
   "source": [
    "windowSpec = Window.orderBy(\"timestamp\")\n",
    "# --> Define uma janela ordenada por timestamp para acessar registros anteriores / Defines a window ordered by timestamp to access previous rows <--\n",
    "\n",
    "df_transactions = df_transactions.withColumn(\"prev_timestamp\", F.lag(\"timestamp\").over(windowSpec))\n",
    "# --> Cria nova coluna com o timestamp da transação anterior usando a função lag() / Adds a new column with the previous transaction's timestamp using the lag() function <--"
   ]
  },
  {
   "cell_type": "code",
   "execution_count": 48,
   "metadata": {},
   "outputs": [],
   "source": [
    "df_transactions = df_transactions.withColumn(\"time_diff\", \n",
    "                                 F.unix_timestamp(\"timestamp\") - F.unix_timestamp(\"prev_timestamp\"))\n",
    "# --> Calcula a diferença de tempo entre transações consecutivas em segundos / Computes the time difference between consecutive transactions in seconds <--"
   ]
  },
  {
   "cell_type": "markdown",
   "metadata": {},
   "source": [
    "##### 🔶 ₿ -----> fee"
   ]
  },
  {
   "cell_type": "code",
   "execution_count": 49,
   "metadata": {},
   "outputs": [
    {
     "name": "stdout",
     "output_type": "stream",
     "text": [
      "+-------+----------+\n",
      "|Min Fee|   Max Fee|\n",
      "+-------+----------+\n",
      "|    0.0|0.18116835|\n",
      "+-------+----------+\n",
      "\n"
     ]
    }
   ],
   "source": [
    "df_transactions.select(\n",
    "    F.min(\"fee\").alias(\"Min Fee\"),\n",
    "    F.max(\"fee\").alias(\"Max Fee\")\n",
    ").show()\n",
    "# --> Exibe a menor e a maior taxa de transação no DataFrame para análise de extremos / Displays the minimum and maximum transaction fees in the DataFrame for outlier analysis <--"
   ]
  },
  {
   "cell_type": "code",
   "execution_count": 50,
   "metadata": {},
   "outputs": [
    {
     "name": "stderr",
     "output_type": "stream",
     "text": [
      "[Stage 211:>                                                        (0 + 4) / 4]\r"
     ]
    },
    {
     "name": "stdout",
     "output_type": "stream",
     "text": [
      "+----------+---------------------+-------+--------+----------+-------+\n",
      "|date      |avg_fee              |q1_fee |q3_fee  |max_fee   |min_fee|\n",
      "+----------+---------------------+-------+--------+----------+-------+\n",
      "|2025-03-26|1.9174995123207012E-5|3.22E-6|1.692E-5|0.03033882|0.0    |\n",
      "|2025-03-27|1.208655382237548E-5 |2.34E-6|7.3E-6  |0.0069198 |0.0    |\n",
      "|2025-03-28|1.5376661075978945E-5|2.99E-6|1.0E-5  |0.01248766|0.0    |\n",
      "|2025-03-29|1.4814516919737892E-5|3.08E-6|8.45E-6 |0.18116835|0.0    |\n",
      "|2025-04-08|1.6250170118343273E-5|5.64E-6|1.153E-5|0.013716  |0.0    |\n",
      "+----------+---------------------+-------+--------+----------+-------+\n",
      "\n"
     ]
    },
    {
     "name": "stderr",
     "output_type": "stream",
     "text": [
      "                                                                                \r"
     ]
    }
   ],
   "source": [
    "df_fee_time = df_transactions.select(\n",
    "    F.date_format(\"timestamp\", \"yyyy-MM-dd\").alias(\"date\"),\n",
    "    F.col(\"fee\")\n",
    ").groupBy(\"date\").agg(\n",
    "    F.avg(\"fee\").alias(\"avg_fee\"),\n",
    "    F.percentile_approx(\"fee\", 0.25).alias(\"q1_fee\"),\n",
    "    F.percentile_approx(\"fee\", 0.75).alias(\"q3_fee\"),\n",
    "    F.max(\"fee\").alias(\"max_fee\"),\n",
    "    F.min(\"fee\").alias(\"min_fee\")\n",
    ").orderBy(\"date\")\n",
    "# --> Agrupa as transações por data e calcula estatísticas diárias sobre as taxas: média, quartis, máximo e mínimo / Groups transactions by date and computes daily statistics on fees: mean, quartiles, max, and min <--\n",
    "\n",
    "df_fee_time.show(5, truncate=False)\n",
    "# --> Exibe as 5 primeiras datas com estatísticas de taxas de transação / Displays the first 5 dates with transaction fee statistics <--"
   ]
  },
  {
   "cell_type": "code",
   "execution_count": 51,
   "metadata": {},
   "outputs": [
    {
     "name": "stdout",
     "output_type": "stream",
     "text": [
      "+-----------+------------+---+\n",
      "|total_input|total_output|fee|\n",
      "+-----------+------------+---+\n",
      "+-----------+------------+---+\n",
      "\n"
     ]
    }
   ],
   "source": [
    "df_transactions.filter(F.col(\"fee\") < 0).select(\"total_input\", \"total_output\", \"fee\").show(20, False)\n",
    "# --> Filtra e exibe transações com taxa negativa, indicando possíveis inconsistências nos dados / Filters and displays transactions with negative fees, indicating possible data inconsistencies <--"
   ]
  },
  {
   "cell_type": "code",
   "execution_count": 52,
   "metadata": {},
   "outputs": [
    {
     "name": "stdout",
     "output_type": "stream",
     "text": [
      "Correlação entre fee e transaction_size: 0.23013465009808504\n"
     ]
    }
   ],
   "source": [
    "df_fee_size_corr = df_transactions.stat.corr(\"fee\", \"transaction_size\")\n",
    "# --> Calcula a correlação de Pearson entre a taxa de transação e o tamanho da transação / Computes the Pearson correlation between transaction fee and transaction size <--\n",
    "\n",
    "print(f\"Correlação entre fee e transaction_size: {df_fee_size_corr}\")\n",
    "# --> Exibe o valor da correlação entre taxa e tamanho da transação / Prints the correlation value between fee and transaction size <--"
   ]
  },
  {
   "cell_type": "code",
   "execution_count": 53,
   "metadata": {},
   "outputs": [
    {
     "name": "stdout",
     "output_type": "stream",
     "text": [
      "+-------+------------------+------------------+\n",
      "|summary|        num_inputs|       num_outputs|\n",
      "+-------+------------------+------------------+\n",
      "|  count|           1347374|           1347374|\n",
      "|   mean|3.0014828844849313|2.8302030468155093|\n",
      "| stddev| 30.55836260845423| 12.26928723134035|\n",
      "|    min|                 1|                 1|\n",
      "|    max|              1702|              1992|\n",
      "+-------+------------------+------------------+\n",
      "\n"
     ]
    }
   ],
   "source": [
    "df_inputs_outputs = df_transactions.select(\"num_inputs\", \"num_outputs\")\\\n",
    "    .describe([\"num_inputs\", \"num_outputs\"])\n",
    "# --> Gera estatísticas descritivas (count, mean, stddev, min, max) para o número de entradas e saídas por transação / Generates descriptive statistics (count, mean, stddev, min, max) for the number of inputs and outputs per transaction <--\n",
    "\n",
    "df_inputs_outputs.show()\n",
    "# --> Exibe as estatísticas descritivas calculadas / Displays the computed descriptive statistics <--"
   ]
  },
  {
   "cell_type": "code",
   "execution_count": 54,
   "metadata": {},
   "outputs": [
    {
     "name": "stderr",
     "output_type": "stream",
     "text": [
      "[Stage 233:>                                                        (0 + 8) / 8]\r"
     ]
    },
    {
     "name": "stdout",
     "output_type": "stream",
     "text": [
      "+----------+------------------+------------------+------------------+------------------+\n",
      "|date      |avg_input         |avg_output        |sum_input         |sum_output        |\n",
      "+----------+------------------+------------------+------------------+------------------+\n",
      "|2025-03-26|1.3394440481915644|1.3403923109741456|308989.650257071  |309208.4002570708 |\n",
      "|2025-03-27|1.2743815214745717|1.2754387223265877|557511.3304886097 |557973.8304885463 |\n",
      "|2025-03-28|1.7290525400800494|1.7302626686991456|687618.2594017345 |688099.5094016197 |\n",
      "|2025-03-29|1.548774655149743 |1.550290082197078 |408802.16777608497|409202.1677760831 |\n",
      "|2025-04-08|2.0386051977270045|2.0394941940856692|35830.524955249835|35846.149955249726|\n",
      "+----------+------------------+------------------+------------------+------------------+\n",
      "\n"
     ]
    },
    {
     "name": "stderr",
     "output_type": "stream",
     "text": [
      "                                                                                \r"
     ]
    }
   ],
   "source": [
    "df_input_output = df_transactions.select(\n",
    "    F.date_format(\"timestamp\", \"yyyy-MM-dd\").alias(\"date\"),\n",
    "    \"total_input\",\n",
    "    \"total_output\"\n",
    ").groupBy(\"date\").agg(\n",
    "    F.avg(\"total_input\").alias(\"avg_input\"),\n",
    "    F.avg(\"total_output\").alias(\"avg_output\"),\n",
    "    F.sum(\"total_input\").alias(\"sum_input\"),\n",
    "    F.sum(\"total_output\").alias(\"sum_output\")\n",
    ").orderBy(\"date\")\n",
    "# --> Agrupa as transações por data e calcula estatísticas diárias sobre valores de entrada e saída: média e soma / Groups transactions by date and computes daily statistics for input and output values: average and sum <--\n",
    "\n",
    "df_input_output.show(10, truncate=False)\n",
    "# --> Exibe as 10 primeiras datas com médias e somas de valores de entrada e saída / Displays the first 10 dates with average and total values of inputs and outputs <--\n"
   ]
  },
  {
   "cell_type": "code",
   "execution_count": 55,
   "metadata": {},
   "outputs": [
    {
     "name": "stdout",
     "output_type": "stream",
     "text": [
      "+----------+----------------+\n",
      "|date      |num_transactions|\n",
      "+----------+----------------+\n",
      "|2025-03-26|230685          |\n",
      "|2025-03-27|437476          |\n",
      "|2025-03-28|397685          |\n",
      "|2025-03-29|263952          |\n",
      "|2025-04-08|17576           |\n",
      "+----------+----------------+\n",
      "\n"
     ]
    }
   ],
   "source": [
    "df_transactions_daily = df_transactions.select(\n",
    "    F.date_format(\"timestamp\", \"yyyy-MM-dd\").alias(\"date\")\n",
    ").groupBy(\"date\").agg(\n",
    "    F.count(\"*\").alias(\"num_transactions\")\n",
    ").orderBy(\"date\")\n",
    "# --> Agrupa as transações por data e conta quantas ocorreram por dia / Groups transactions by date and counts how many occurred per day <--\n",
    "\n",
    "df_transactions_daily.show(10, truncate=False)\n",
    "# --> Exibe as 10 primeiras datas com o número total de transações registradas / Displays the first 10 dates with the total number of transactions recorded <--\n"
   ]
  },
  {
   "cell_type": "code",
   "execution_count": 56,
   "metadata": {},
   "outputs": [
    {
     "name": "stdout",
     "output_type": "stream",
     "text": [
      "+----------+--------------------+\n",
      "|date      |avg_transaction_size|\n",
      "+----------+--------------------+\n",
      "|2025-03-26|476.7046405271257   |\n",
      "|2025-03-27|550.2796999149667   |\n",
      "|2025-03-28|602.7500006286382   |\n",
      "|2025-03-29|787.3491316603019   |\n",
      "|2025-04-08|453.61874146563497  |\n",
      "+----------+--------------------+\n",
      "\n"
     ]
    }
   ],
   "source": [
    "df_transaction_size_time = df_transactions.select(\n",
    "    F.date_format(\"timestamp\", \"yyyy-MM-dd\").alias(\"date\"),\n",
    "    \"transaction_size\"\n",
    ").groupBy(\"date\").agg(\n",
    "    F.avg(\"transaction_size\").alias(\"avg_transaction_size\")\n",
    ").orderBy(\"date\")\n",
    "# --> Agrupa as transações por data e calcula o tamanho médio das transações por dia / Groups transactions by date and calculates the average transaction size per day <--\n",
    "\n",
    "df_transaction_size_time.show(10, truncate=False)\n",
    "# --> Exibe as 10 primeiras datas com o tamanho médio diário das transações / Displays the first 10 dates with the average daily transaction size <--"
   ]
  },
  {
   "cell_type": "code",
   "execution_count": 57,
   "metadata": {},
   "outputs": [
    {
     "name": "stderr",
     "output_type": "stream",
     "text": [
      "[Stage 249:>                                                        (0 + 1) / 1]\r"
     ]
    },
    {
     "name": "stdout",
     "output_type": "stream",
     "text": [
      "+--------------------+------------+-------------------+----------+-----------+-----------+------------+---------+----------------+-------------------+---------+\n",
      "|             tx_hash|block_height|          timestamp|num_inputs|num_outputs|total_input|total_output|      fee|transaction_size|     prev_timestamp|time_diff|\n",
      "+--------------------+------------+-------------------+----------+-----------+-----------+------------+---------+----------------+-------------------+---------+\n",
      "|632c9890b1723f77a...|      889527|2025-03-26 12:37:41|         1|          2|        0.0|  3.31494448|      0.0|             267|               NULL|     NULL|\n",
      "|13cf14d88f122e70d...|      889527|2025-03-26 12:37:41|         2|          2| 0.00463432|  0.00293262|0.0017017|             382|2025-03-26 12:37:41|        0|\n",
      "|2a8ab3d3ee0d015c7...|      889527|2025-03-26 12:37:41|         1|          2| 0.12122852|  0.12022852|    0.001|             225|2025-03-26 12:37:41|        0|\n",
      "|f88e85dbb49b19b16...|      889527|2025-03-26 12:37:41|         2|          2| 0.00463432|  0.00293262|0.0017017|             383|2025-03-26 12:37:41|        0|\n",
      "|d04c89bf9bb8011b2...|      889527|2025-03-26 12:37:41|         1|          1|15.38243051| 15.38210051|   3.3E-4|             191|2025-03-26 12:37:41|        0|\n",
      "+--------------------+------------+-------------------+----------+-----------+-----------+------------+---------+----------------+-------------------+---------+\n",
      "only showing top 5 rows\n",
      "\n",
      "root\n",
      " |-- tx_hash: string (nullable = true)\n",
      " |-- block_height: long (nullable = true)\n",
      " |-- timestamp: timestamp_ntz (nullable = true)\n",
      " |-- num_inputs: long (nullable = true)\n",
      " |-- num_outputs: long (nullable = true)\n",
      " |-- total_input: double (nullable = true)\n",
      " |-- total_output: double (nullable = true)\n",
      " |-- fee: double (nullable = true)\n",
      " |-- transaction_size: long (nullable = true)\n",
      " |-- prev_timestamp: timestamp_ntz (nullable = true)\n",
      " |-- time_diff: long (nullable = true)\n",
      "\n"
     ]
    },
    {
     "name": "stderr",
     "output_type": "stream",
     "text": [
      "                                                                                \r"
     ]
    }
   ],
   "source": [
    "df_transactions.show(5)\n",
    "df_transactions.printSchema()"
   ]
  },
  {
   "cell_type": "code",
   "execution_count": 58,
   "metadata": {},
   "outputs": [
    {
     "data": {
      "application/vnd.plotly.v1+json": {
       "config": {
        "plotlyServerURL": "https://plot.ly"
       },
       "data": [
        {
         "fill": "tozeroy",
         "fillcolor": "rgba(229, 165, 0, 0.3)",
         "hovertemplate": "Data=%{x}<br>Taxa Média (BTC)=%{y}<extra></extra>",
         "legendgroup": "",
         "line": {
          "color": "#E57C1F",
          "dash": "solid",
          "width": 1.5
         },
         "marker": {
          "symbol": "circle"
         },
         "mode": "lines",
         "name": "",
         "orientation": "v",
         "showlegend": false,
         "type": "scatter",
         "x": [
          "2025-03-26 12",
          "2025-03-26 13",
          "2025-03-26 14",
          "2025-03-26 15",
          "2025-03-26 16",
          "2025-03-26 17",
          "2025-03-26 18",
          "2025-03-26 19",
          "2025-03-26 20",
          "2025-03-26 21",
          "2025-03-26 22",
          "2025-03-26 23",
          "2025-03-27 00",
          "2025-03-27 01",
          "2025-03-27 02",
          "2025-03-27 03",
          "2025-03-27 04",
          "2025-03-27 05",
          "2025-03-27 06",
          "2025-03-27 07",
          "2025-03-27 08",
          "2025-03-27 09",
          "2025-03-27 10",
          "2025-03-27 11",
          "2025-03-27 12",
          "2025-03-27 13",
          "2025-03-27 14",
          "2025-03-27 15",
          "2025-03-27 16",
          "2025-03-27 17",
          "2025-03-27 18",
          "2025-03-27 19",
          "2025-03-27 20",
          "2025-03-27 21",
          "2025-03-27 22",
          "2025-03-27 23",
          "2025-03-28 00",
          "2025-03-28 01",
          "2025-03-28 02",
          "2025-03-28 03",
          "2025-03-28 04",
          "2025-03-28 05",
          "2025-03-28 06",
          "2025-03-28 07",
          "2025-03-28 08",
          "2025-03-28 09",
          "2025-03-28 10",
          "2025-03-28 11",
          "2025-03-28 12",
          "2025-03-28 13",
          "2025-03-28 14",
          "2025-03-28 15",
          "2025-03-28 16",
          "2025-03-28 17",
          "2025-03-28 18",
          "2025-03-28 19",
          "2025-03-28 20",
          "2025-03-28 21",
          "2025-03-28 22",
          "2025-03-28 23",
          "2025-03-29 00",
          "2025-03-29 01",
          "2025-03-29 02",
          "2025-03-29 03",
          "2025-03-29 04",
          "2025-03-29 05",
          "2025-03-29 06",
          "2025-03-29 07",
          "2025-03-29 08",
          "2025-03-29 09",
          "2025-03-29 10",
          "2025-03-29 11",
          "2025-03-29 12",
          "2025-03-29 13",
          "2025-03-29 14",
          "2025-03-29 15",
          "2025-03-29 16",
          "2025-03-29 17",
          "2025-03-29 18",
          "2025-03-29 19",
          "2025-03-29 20",
          "2025-03-29 21",
          "2025-04-08 18",
          "2025-04-08 19"
         ],
         "xaxis": "x",
         "y": {
          "bdata": "GzI8o6c2AT8to8aguTH/Pqpt5At7DgA/INg1Ljlh+j6zlXPLkuf6Pls5/i48hP0+o1Q19Jcz/j6Mzu29OqvxPuX2sOju6e0+YELy4lAD8T7J/FKrUizmPp02oMppg+Q+QVfExxwg7j4U7alxzqrxPkkz3yig5fU+427rGl467z7r0PhPdzryPi7ot52Que0+CIDOsVFW9D5Za4e0NsLkPn6jcwtSUuQ+bk46BuFi8j4BEbgNcj72PrcX2sE6iuw+LeasG0lN4T5AS0+EyUbkPm10jbIWHug+zwZQdPrk5z6V/tFNSf/iPneiVERG8uc+bTu/E3kv6D6yqSC5HUjlPld2HHVOtOE+L7d+uqUQ4z4H+oqQSQrrPvIFOaE/Uug+XXlEFoYl5z5MeaQUBGH/PkkBsMU8Q+s+aUV4POBd6j6xA9MHNpLhPqpy70J5INw+zfMHCNl77z6N+Cir/5PpPkqpbWDY2t8+ntPBm0Dy7D4XSeOcHBrzPnwZyJP06vM+jw2LzSnx8D58Ybcz3nD9Pv9Ep3iypf0+AcKC5F0C+D4JKieiP330PuYQKBCX1fI+4wlIdcBT8z46h2zq5zjvPjVPG3Quw/I+kRx7QUvC6z75QGopxXHvPpQN5UDl9PA+Yma/sPqD8j5UhtxrQS7xPgtAXWh+2es+QmLMEUG17D6CKlV/NxXuPmwefUDH6Og+gymASfUb6j5GS54Z+Gj4Ptr4Hj5f5uk+j71kcnVj6D6JRb4H7xTpPuxvwwNdK+s+L63JhtUq6z5PW+CPTs7rPqsgE8cf6+4+eibH3IBq5z7kTw9ghOD5PtK0D9N2jOs+gjcqqJX+7z7XWmKt3PLsPiqVhG0Xy+0+N0sC7XDg7T7lyfEMp1PuPtUvMKReVfI+",
          "dtype": "f8"
         },
         "yaxis": "y"
        }
       ],
       "layout": {
        "height": 600,
        "images": [
         {
          "sizex": 0.15,
          "sizey": 0.15,
          "source": "/Users/rodrigocampos/Documents/Bitcoin/project/src/visualizations/BTC_black.png",
          "x": 0.008,
          "xanchor": "left",
          "xref": "paper",
          "y": 1.1,
          "yanchor": "top",
          "yref": "paper"
         }
        ],
        "legend": {
         "tracegroupgap": 0
        },
        "showlegend": false,
        "template": {
         "data": {
          "bar": [
           {
            "error_x": {
             "color": "#f2f5fa"
            },
            "error_y": {
             "color": "#f2f5fa"
            },
            "marker": {
             "line": {
              "color": "rgb(17,17,17)",
              "width": 0.5
             },
             "pattern": {
              "fillmode": "overlay",
              "size": 10,
              "solidity": 0.2
             }
            },
            "type": "bar"
           }
          ],
          "barpolar": [
           {
            "marker": {
             "line": {
              "color": "rgb(17,17,17)",
              "width": 0.5
             },
             "pattern": {
              "fillmode": "overlay",
              "size": 10,
              "solidity": 0.2
             }
            },
            "type": "barpolar"
           }
          ],
          "carpet": [
           {
            "aaxis": {
             "endlinecolor": "#A2B1C6",
             "gridcolor": "#506784",
             "linecolor": "#506784",
             "minorgridcolor": "#506784",
             "startlinecolor": "#A2B1C6"
            },
            "baxis": {
             "endlinecolor": "#A2B1C6",
             "gridcolor": "#506784",
             "linecolor": "#506784",
             "minorgridcolor": "#506784",
             "startlinecolor": "#A2B1C6"
            },
            "type": "carpet"
           }
          ],
          "choropleth": [
           {
            "colorbar": {
             "outlinewidth": 0,
             "ticks": ""
            },
            "type": "choropleth"
           }
          ],
          "contour": [
           {
            "colorbar": {
             "outlinewidth": 0,
             "ticks": ""
            },
            "colorscale": [
             [
              0,
              "#0d0887"
             ],
             [
              0.1111111111111111,
              "#46039f"
             ],
             [
              0.2222222222222222,
              "#7201a8"
             ],
             [
              0.3333333333333333,
              "#9c179e"
             ],
             [
              0.4444444444444444,
              "#bd3786"
             ],
             [
              0.5555555555555556,
              "#d8576b"
             ],
             [
              0.6666666666666666,
              "#ed7953"
             ],
             [
              0.7777777777777778,
              "#fb9f3a"
             ],
             [
              0.8888888888888888,
              "#fdca26"
             ],
             [
              1,
              "#f0f921"
             ]
            ],
            "type": "contour"
           }
          ],
          "contourcarpet": [
           {
            "colorbar": {
             "outlinewidth": 0,
             "ticks": ""
            },
            "type": "contourcarpet"
           }
          ],
          "heatmap": [
           {
            "colorbar": {
             "outlinewidth": 0,
             "ticks": ""
            },
            "colorscale": [
             [
              0,
              "#0d0887"
             ],
             [
              0.1111111111111111,
              "#46039f"
             ],
             [
              0.2222222222222222,
              "#7201a8"
             ],
             [
              0.3333333333333333,
              "#9c179e"
             ],
             [
              0.4444444444444444,
              "#bd3786"
             ],
             [
              0.5555555555555556,
              "#d8576b"
             ],
             [
              0.6666666666666666,
              "#ed7953"
             ],
             [
              0.7777777777777778,
              "#fb9f3a"
             ],
             [
              0.8888888888888888,
              "#fdca26"
             ],
             [
              1,
              "#f0f921"
             ]
            ],
            "type": "heatmap"
           }
          ],
          "histogram": [
           {
            "marker": {
             "pattern": {
              "fillmode": "overlay",
              "size": 10,
              "solidity": 0.2
             }
            },
            "type": "histogram"
           }
          ],
          "histogram2d": [
           {
            "colorbar": {
             "outlinewidth": 0,
             "ticks": ""
            },
            "colorscale": [
             [
              0,
              "#0d0887"
             ],
             [
              0.1111111111111111,
              "#46039f"
             ],
             [
              0.2222222222222222,
              "#7201a8"
             ],
             [
              0.3333333333333333,
              "#9c179e"
             ],
             [
              0.4444444444444444,
              "#bd3786"
             ],
             [
              0.5555555555555556,
              "#d8576b"
             ],
             [
              0.6666666666666666,
              "#ed7953"
             ],
             [
              0.7777777777777778,
              "#fb9f3a"
             ],
             [
              0.8888888888888888,
              "#fdca26"
             ],
             [
              1,
              "#f0f921"
             ]
            ],
            "type": "histogram2d"
           }
          ],
          "histogram2dcontour": [
           {
            "colorbar": {
             "outlinewidth": 0,
             "ticks": ""
            },
            "colorscale": [
             [
              0,
              "#0d0887"
             ],
             [
              0.1111111111111111,
              "#46039f"
             ],
             [
              0.2222222222222222,
              "#7201a8"
             ],
             [
              0.3333333333333333,
              "#9c179e"
             ],
             [
              0.4444444444444444,
              "#bd3786"
             ],
             [
              0.5555555555555556,
              "#d8576b"
             ],
             [
              0.6666666666666666,
              "#ed7953"
             ],
             [
              0.7777777777777778,
              "#fb9f3a"
             ],
             [
              0.8888888888888888,
              "#fdca26"
             ],
             [
              1,
              "#f0f921"
             ]
            ],
            "type": "histogram2dcontour"
           }
          ],
          "mesh3d": [
           {
            "colorbar": {
             "outlinewidth": 0,
             "ticks": ""
            },
            "type": "mesh3d"
           }
          ],
          "parcoords": [
           {
            "line": {
             "colorbar": {
              "outlinewidth": 0,
              "ticks": ""
             }
            },
            "type": "parcoords"
           }
          ],
          "pie": [
           {
            "automargin": true,
            "type": "pie"
           }
          ],
          "scatter": [
           {
            "marker": {
             "line": {
              "color": "#283442"
             }
            },
            "type": "scatter"
           }
          ],
          "scatter3d": [
           {
            "line": {
             "colorbar": {
              "outlinewidth": 0,
              "ticks": ""
             }
            },
            "marker": {
             "colorbar": {
              "outlinewidth": 0,
              "ticks": ""
             }
            },
            "type": "scatter3d"
           }
          ],
          "scattercarpet": [
           {
            "marker": {
             "colorbar": {
              "outlinewidth": 0,
              "ticks": ""
             }
            },
            "type": "scattercarpet"
           }
          ],
          "scattergeo": [
           {
            "marker": {
             "colorbar": {
              "outlinewidth": 0,
              "ticks": ""
             }
            },
            "type": "scattergeo"
           }
          ],
          "scattergl": [
           {
            "marker": {
             "line": {
              "color": "#283442"
             }
            },
            "type": "scattergl"
           }
          ],
          "scattermap": [
           {
            "marker": {
             "colorbar": {
              "outlinewidth": 0,
              "ticks": ""
             }
            },
            "type": "scattermap"
           }
          ],
          "scattermapbox": [
           {
            "marker": {
             "colorbar": {
              "outlinewidth": 0,
              "ticks": ""
             }
            },
            "type": "scattermapbox"
           }
          ],
          "scatterpolar": [
           {
            "marker": {
             "colorbar": {
              "outlinewidth": 0,
              "ticks": ""
             }
            },
            "type": "scatterpolar"
           }
          ],
          "scatterpolargl": [
           {
            "marker": {
             "colorbar": {
              "outlinewidth": 0,
              "ticks": ""
             }
            },
            "type": "scatterpolargl"
           }
          ],
          "scatterternary": [
           {
            "marker": {
             "colorbar": {
              "outlinewidth": 0,
              "ticks": ""
             }
            },
            "type": "scatterternary"
           }
          ],
          "surface": [
           {
            "colorbar": {
             "outlinewidth": 0,
             "ticks": ""
            },
            "colorscale": [
             [
              0,
              "#0d0887"
             ],
             [
              0.1111111111111111,
              "#46039f"
             ],
             [
              0.2222222222222222,
              "#7201a8"
             ],
             [
              0.3333333333333333,
              "#9c179e"
             ],
             [
              0.4444444444444444,
              "#bd3786"
             ],
             [
              0.5555555555555556,
              "#d8576b"
             ],
             [
              0.6666666666666666,
              "#ed7953"
             ],
             [
              0.7777777777777778,
              "#fb9f3a"
             ],
             [
              0.8888888888888888,
              "#fdca26"
             ],
             [
              1,
              "#f0f921"
             ]
            ],
            "type": "surface"
           }
          ],
          "table": [
           {
            "cells": {
             "fill": {
              "color": "#506784"
             },
             "line": {
              "color": "rgb(17,17,17)"
             }
            },
            "header": {
             "fill": {
              "color": "#2a3f5f"
             },
             "line": {
              "color": "rgb(17,17,17)"
             }
            },
            "type": "table"
           }
          ]
         },
         "layout": {
          "annotationdefaults": {
           "arrowcolor": "#f2f5fa",
           "arrowhead": 0,
           "arrowwidth": 1
          },
          "autotypenumbers": "strict",
          "coloraxis": {
           "colorbar": {
            "outlinewidth": 0,
            "ticks": ""
           }
          },
          "colorscale": {
           "diverging": [
            [
             0,
             "#8e0152"
            ],
            [
             0.1,
             "#c51b7d"
            ],
            [
             0.2,
             "#de77ae"
            ],
            [
             0.3,
             "#f1b6da"
            ],
            [
             0.4,
             "#fde0ef"
            ],
            [
             0.5,
             "#f7f7f7"
            ],
            [
             0.6,
             "#e6f5d0"
            ],
            [
             0.7,
             "#b8e186"
            ],
            [
             0.8,
             "#7fbc41"
            ],
            [
             0.9,
             "#4d9221"
            ],
            [
             1,
             "#276419"
            ]
           ],
           "sequential": [
            [
             0,
             "#0d0887"
            ],
            [
             0.1111111111111111,
             "#46039f"
            ],
            [
             0.2222222222222222,
             "#7201a8"
            ],
            [
             0.3333333333333333,
             "#9c179e"
            ],
            [
             0.4444444444444444,
             "#bd3786"
            ],
            [
             0.5555555555555556,
             "#d8576b"
            ],
            [
             0.6666666666666666,
             "#ed7953"
            ],
            [
             0.7777777777777778,
             "#fb9f3a"
            ],
            [
             0.8888888888888888,
             "#fdca26"
            ],
            [
             1,
             "#f0f921"
            ]
           ],
           "sequentialminus": [
            [
             0,
             "#0d0887"
            ],
            [
             0.1111111111111111,
             "#46039f"
            ],
            [
             0.2222222222222222,
             "#7201a8"
            ],
            [
             0.3333333333333333,
             "#9c179e"
            ],
            [
             0.4444444444444444,
             "#bd3786"
            ],
            [
             0.5555555555555556,
             "#d8576b"
            ],
            [
             0.6666666666666666,
             "#ed7953"
            ],
            [
             0.7777777777777778,
             "#fb9f3a"
            ],
            [
             0.8888888888888888,
             "#fdca26"
            ],
            [
             1,
             "#f0f921"
            ]
           ]
          },
          "colorway": [
           "#636efa",
           "#EF553B",
           "#00cc96",
           "#ab63fa",
           "#FFA15A",
           "#19d3f3",
           "#FF6692",
           "#B6E880",
           "#FF97FF",
           "#FECB52"
          ],
          "font": {
           "color": "#f2f5fa"
          },
          "geo": {
           "bgcolor": "rgb(17,17,17)",
           "lakecolor": "rgb(17,17,17)",
           "landcolor": "rgb(17,17,17)",
           "showlakes": true,
           "showland": true,
           "subunitcolor": "#506784"
          },
          "hoverlabel": {
           "align": "left"
          },
          "hovermode": "closest",
          "mapbox": {
           "style": "dark"
          },
          "paper_bgcolor": "rgb(17,17,17)",
          "plot_bgcolor": "rgb(17,17,17)",
          "polar": {
           "angularaxis": {
            "gridcolor": "#506784",
            "linecolor": "#506784",
            "ticks": ""
           },
           "bgcolor": "rgb(17,17,17)",
           "radialaxis": {
            "gridcolor": "#506784",
            "linecolor": "#506784",
            "ticks": ""
           }
          },
          "scene": {
           "xaxis": {
            "backgroundcolor": "rgb(17,17,17)",
            "gridcolor": "#506784",
            "gridwidth": 2,
            "linecolor": "#506784",
            "showbackground": true,
            "ticks": "",
            "zerolinecolor": "#C8D4E3"
           },
           "yaxis": {
            "backgroundcolor": "rgb(17,17,17)",
            "gridcolor": "#506784",
            "gridwidth": 2,
            "linecolor": "#506784",
            "showbackground": true,
            "ticks": "",
            "zerolinecolor": "#C8D4E3"
           },
           "zaxis": {
            "backgroundcolor": "rgb(17,17,17)",
            "gridcolor": "#506784",
            "gridwidth": 2,
            "linecolor": "#506784",
            "showbackground": true,
            "ticks": "",
            "zerolinecolor": "#C8D4E3"
           }
          },
          "shapedefaults": {
           "line": {
            "color": "#f2f5fa"
           }
          },
          "sliderdefaults": {
           "bgcolor": "#C8D4E3",
           "bordercolor": "rgb(17,17,17)",
           "borderwidth": 1,
           "tickwidth": 0
          },
          "ternary": {
           "aaxis": {
            "gridcolor": "#506784",
            "linecolor": "#506784",
            "ticks": ""
           },
           "baxis": {
            "gridcolor": "#506784",
            "linecolor": "#506784",
            "ticks": ""
           },
           "bgcolor": "rgb(17,17,17)",
           "caxis": {
            "gridcolor": "#506784",
            "linecolor": "#506784",
            "ticks": ""
           }
          },
          "title": {
           "x": 0.05
          },
          "updatemenudefaults": {
           "bgcolor": "#506784",
           "borderwidth": 0
          },
          "xaxis": {
           "automargin": true,
           "gridcolor": "#283442",
           "linecolor": "#506784",
           "ticks": "",
           "title": {
            "standoff": 15
           },
           "zerolinecolor": "#283442",
           "zerolinewidth": 2
          },
          "yaxis": {
           "automargin": true,
           "gridcolor": "#283442",
           "linecolor": "#506784",
           "ticks": "",
           "title": {
            "standoff": 15
           },
           "zerolinecolor": "#283442",
           "zerolinewidth": 2
          }
         }
        },
        "title": {
         "text": "<b><span style=\"font-size:22px;\">Média das Taxas de Transação ao Longo do Tempo (₿ Média Móvel)</span></b>",
         "x": 0.5,
         "xanchor": "center",
         "y": 0.92,
         "yanchor": "top"
        },
        "xaxis": {
         "anchor": "y",
         "domain": [
          0,
          1
         ],
         "title": {
          "text": "Data"
         }
        },
        "yaxis": {
         "anchor": "x",
         "domain": [
          0,
          1
         ],
         "side": "right",
         "title": {
          "text": "Média da Taxa (BTC)"
         }
        }
       }
      }
     },
     "metadata": {},
     "output_type": "display_data"
    }
   ],
   "source": [
    "plot_transaction_fee_time_series(df_transactions, image_path)"
   ]
  },
  {
   "cell_type": "markdown",
   "metadata": {},
   "source": [
    "<img src=\"https://upload.wikimedia.org/wikipedia/commons/4/46/Bitcoin.svg\" alt=\"Logo do Bitcoin\" width=\"100\" style=\"margin-right: 30px;\">\n",
    "<font size=\"15\">Addresses</font>"
   ]
  },
  {
   "cell_type": "markdown",
   "metadata": {},
   "source": [
    "root   \n",
    " |-- tx_hash: string   \n",
    " |-- block_height: long  ----------------> Representa a altura do bloco na blockchain, ou seja, o número sequencial de cada bloco na cadeia.   \n",
    " |-- timestamp: timestamp_ntz  ---------->  \n",
    " |-- address: string  ------------------->  \n",
    " |-- direction: string  ----------------->  \n",
    " |-- amount: double --------------------->   \n",
    " |-- balance_before: double  ------------>  \n",
    " |-- balance_after: double  ------------->  \n",
    " |-- wallet_type: string  --------------->  \n",
    " |-- is_zero: boolean  ------------------>  "
   ]
  },
  {
   "cell_type": "code",
   "execution_count": 59,
   "metadata": {},
   "outputs": [],
   "source": [
    "PASTA_ADDRESSES = \"/Users/rodrigocampos/Library/Mobile Documents/com~apple~CloudDocs/requests/blockchain_addresses_part\"\n",
    "\n",
    "df_addresses = spark.read.parquet(PASTA_ADDRESSES)"
   ]
  },
  {
   "cell_type": "code",
   "execution_count": 60,
   "metadata": {},
   "outputs": [
    {
     "name": "stdout",
     "output_type": "stream",
     "text": [
      "+--------------------+------------+-------------------+--------------------+---------+----------+------------------+-------------------+--------------------+-------+\n",
      "|             tx_hash|block_height|          timestamp|             address|direction|    amount|    balance_before|      balance_after|         wallet_type|is_zero|\n",
      "+--------------------+------------+-------------------+--------------------+---------+----------+------------------+-------------------+--------------------+-------+\n",
      "|3bce22c9095692929...|      889549|2025-03-26 18:01:28|1PuJjnF476W3zXfVY...|   output|3.31616698|3.6382640799999977|0.32209709999999747|      P2PKH (Legacy)|  false|\n",
      "|0620546020d9b2f76...|      889549|2025-03-26 18:01:28|bc1qqz623jyqdsh2w...|    input|1.47532993|0.6379084399999999|         2.11323837|Bech32 (SegWit Na...|  false|\n",
      "|0620546020d9b2f76...|      889549|2025-03-26 18:01:28|bc1qgtpfl0mtfk9wz...|   output|0.00780615|               0.0|                0.0|Bech32 (SegWit Na...|   true|\n",
      "|0620546020d9b2f76...|      889549|2025-03-26 18:01:28|bc1qqz623jyqdsh2w...|   output|1.46751255|        2.11323837|         0.64572582|Bech32 (SegWit Na...|  false|\n",
      "|fc76ea880a1a1e7c6...|      889549|2025-03-26 18:01:28|bc1qqz623jyqdsh2w...|    input|1.64100246|        0.64572582|         2.28672828|Bech32 (SegWit Na...|  false|\n",
      "+--------------------+------------+-------------------+--------------------+---------+----------+------------------+-------------------+--------------------+-------+\n",
      "only showing top 5 rows\n",
      "\n",
      "root\n",
      " |-- tx_hash: string (nullable = true)\n",
      " |-- block_height: long (nullable = true)\n",
      " |-- timestamp: timestamp_ntz (nullable = true)\n",
      " |-- address: string (nullable = true)\n",
      " |-- direction: string (nullable = true)\n",
      " |-- amount: double (nullable = true)\n",
      " |-- balance_before: double (nullable = true)\n",
      " |-- balance_after: double (nullable = true)\n",
      " |-- wallet_type: string (nullable = true)\n",
      " |-- is_zero: boolean (nullable = true)\n",
      "\n"
     ]
    }
   ],
   "source": [
    "df_addresses.show(5)\n",
    "df_addresses.printSchema()"
   ]
  },
  {
   "cell_type": "code",
   "execution_count": 61,
   "metadata": {},
   "outputs": [],
   "source": [
    "# df_amount_wallet = df_addresses.groupBy(\"wallet_type\") \\\n",
    "#     .agg(\n",
    "#         F.count(\"amount\").alias(\"num_transacoes\"),\n",
    "#         F.avg(\"amount\").alias(\"avg_amount\"),\n",
    "#         F.percentile_approx(\"amount\", 0.25).alias(\"q1_amount\"),\n",
    "#         F.percentile_approx(\"amount\", 0.75).alias(\"q3_amount\"),\n",
    "#         F.max(\"amount\").alias(\"max_amount\")\n",
    "#     ).orderBy(F.desc(\"num_transacoes\"))\n",
    "# # --> Agrupa os endereços por tipo de carteira e calcula estatísticas do valor transferido: contagem, média, quartis e valor máximo / Groups addresses by wallet type and computes statistics on transferred amount: count, mean, quartiles, and max value <--\n",
    "\n",
    "# df_amount_wallet.show(truncate=False)\n",
    "# # --> Exibe as estatísticas por tipo de carteira sem truncar os valores / Displays wallet type statistics without truncating values <--"
   ]
  },
  {
   "cell_type": "code",
   "execution_count": 62,
   "metadata": {},
   "outputs": [],
   "source": [
    "# df_balance_analysis = df_addresses.groupBy(\"address\") \\\n",
    "#     .agg(\n",
    "#         F.avg(\"balance_before\").alias(\"avg_balance_before\"),\n",
    "#         F.avg(\"balance_after\").alias(\"avg_balance_after\"),\n",
    "#         F.sum(\"amount\").alias(\"total_movimentado\")\n",
    "#     ).orderBy(F.desc(\"total_movimentado\"))\n",
    "# # --> Agrupa por endereço e calcula o saldo médio antes/depois e o total movimentado por endereço / Groups by address and computes average balance before/after and total moved amount per address <--\n",
    "\n",
    "# df_balance_analysis.show(truncate=False)\n",
    "# # --> Exibe os endereços com maiores movimentações, ordenados pelo valor total transferido / Displays addresses with highest transfers, ordered by total moved value <--"
   ]
  },
  {
   "cell_type": "code",
   "execution_count": 63,
   "metadata": {},
   "outputs": [
    {
     "name": "stderr",
     "output_type": "stream",
     "text": [
      "[Stage 266:==========================>                             (9 + 8) / 19]\r"
     ]
    },
    {
     "name": "stdout",
     "output_type": "stream",
     "text": [
      "+----------+------------------+------------------+\n",
      "|date      |total_input       |total_output      |\n",
      "+----------+------------------+------------------+\n",
      "|2025-03-26|308989.6502570544 |309208.3975402177 |\n",
      "|2025-03-27|557511.3304886125 |557973.8192717521 |\n",
      "|2025-03-28|687618.25940173   |688099.5003100522 |\n",
      "|2025-03-29|408802.16777602787|409202.156708051  |\n",
      "|2025-04-08|35830.52495525012 |35846.149892050074|\n",
      "+----------+------------------+------------------+\n",
      "\n"
     ]
    },
    {
     "name": "stderr",
     "output_type": "stream",
     "text": [
      "                                                                                \r"
     ]
    }
   ],
   "source": [
    "df_flow_time = df_addresses.groupBy(F.date_format(\"timestamp\", \"yyyy-MM-dd\").alias(\"date\")) \\\n",
    "    .agg(\n",
    "        F.sum(F.when(F.col(\"direction\") == \"input\", F.col(\"amount\"))).alias(\"total_input\"),\n",
    "        F.sum(F.when(F.col(\"direction\") == \"output\", F.col(\"amount\"))).alias(\"total_output\")\n",
    "    ).orderBy(\"date\")\n",
    "# --> Agrupa os dados por data e calcula os fluxos totais de entrada e saída de BTC / Groups data by date and calculates total BTC input and output flows <--\n",
    "\n",
    "df_flow_time.show(10, truncate=False)\n",
    "# --> Exibe as 10 primeiras datas com os respectivos totais de entrada e saída de BTC / Displays the first 10 dates with total BTC input and output values <--"
   ]
  },
  {
   "cell_type": "code",
   "execution_count": 64,
   "metadata": {},
   "outputs": [
    {
     "name": "stdout",
     "output_type": "stream",
     "text": [
      "+--------------------------------+--------------+\n",
      "|wallet_type                     |num_transacoes|\n",
      "+--------------------------------+--------------+\n",
      "|Bech32 (SegWit Nativo)          |2929704       |\n",
      "|Taproot                         |1315438       |\n",
      "|Multisig                        |1195434       |\n",
      "|P2PKH (Legacy)                  |1009736       |\n",
      "|Carteira Pessoal                |554680        |\n",
      "|P2SH (Multisig ou SegWit Antigo)|367488        |\n",
      "|Exchange                        |150640        |\n",
      "|Whale (Grande Investidor)       |15454         |\n",
      "|Desconhecido                    |2             |\n",
      "+--------------------------------+--------------+\n",
      "\n"
     ]
    }
   ],
   "source": [
    "df_wallet_trend = df_addresses.groupBy(\"wallet_type\") \\\n",
    "    .agg(F.count(\"*\").alias(\"num_transacoes\")) \\\n",
    "    .orderBy(F.desc(\"num_transacoes\"))\n",
    "# --> Agrupa os registros por tipo de carteira e conta o número total de transações associadas a cada tipo / Groups records by wallet type and counts the total number of transactions per type <--\n",
    "\n",
    "df_wallet_trend.show(truncate=False)\n",
    "# --> Exibe a quantidade de transações por tipo de carteira, ordenadas da maior para a menor / Displays the number of transactions per wallet type, ordered from highest to lowest <--"
   ]
  },
  {
   "cell_type": "code",
   "execution_count": 65,
   "metadata": {},
   "outputs": [
    {
     "name": "stdout",
     "output_type": "stream",
     "text": [
      "+--------------------------------+---------------------+\n",
      "|wallet_type                     |num_enderecos_zerados|\n",
      "+--------------------------------+---------------------+\n",
      "|Bech32 (SegWit Nativo)          |1787088              |\n",
      "|Taproot                         |513999               |\n",
      "|P2PKH (Legacy)                  |412292               |\n",
      "|Multisig                        |398527               |\n",
      "|Carteira Pessoal                |364311               |\n",
      "|P2SH (Multisig ou SegWit Antigo)|258701               |\n",
      "|Exchange                        |95857                |\n",
      "|Whale (Grande Investidor)       |9297                 |\n",
      "|Desconhecido                    |2                    |\n",
      "+--------------------------------+---------------------+\n",
      "\n"
     ]
    }
   ],
   "source": [
    "df_zero_balance = df_addresses.filter(F.col(\"is_zero\") == True) \\\n",
    "    .groupBy(\"wallet_type\") \\\n",
    "    .agg(F.count(\"*\").alias(\"num_enderecos_zerados\")) \\\n",
    "    .orderBy(F.desc(\"num_enderecos_zerados\"))\n",
    "# --> Filtra os endereços com saldo zerado, agrupa por tipo de carteira e conta quantos existem em cada tipo / Filters addresses with zero balance, groups by wallet type, and counts how many exist per type <--\n",
    "\n",
    "df_zero_balance.show(truncate=False)\n",
    "# --> Exibe o número de endereços zerados por tipo de carteira, ordenados em ordem decrescente / Displays the number of zero-balance addresses by wallet type, ordered descending <--"
   ]
  },
  {
   "cell_type": "code",
   "execution_count": 66,
   "metadata": {},
   "outputs": [
    {
     "name": "stdout",
     "output_type": "stream",
     "text": [
      "+-------+------------+---------+-------+---------+------+--------------+-------------+-----------+-------+\n",
      "|tx_hash|block_height|timestamp|address|direction|amount|balance_before|balance_after|wallet_type|is_zero|\n",
      "+-------+------------+---------+-------+---------+------+--------------+-------------+-----------+-------+\n",
      "+-------+------------+---------+-------+---------+------+--------------+-------------+-----------+-------+\n",
      "\n"
     ]
    }
   ],
   "source": [
    "df_exchanges_zerados = df_addresses.filter((F.col(\"is_zero\") == True) & (F.col(\"wallet_type\") == \"exchange\"))\n",
    "# --> Filtra os endereços com saldo zerado e tipo de carteira 'exchange' / Filters zero balance addresses with wallet type 'exchange' <--\n",
    "\n",
    "df_exchanges_zerados.show(10, truncate=False)\n",
    "# --> Exibe os 10 primeiros endereços zerados do tipo 'exchange' / Displays the first 10 zero-balance addresses with wallet type 'exchange' <--"
   ]
  },
  {
   "cell_type": "code",
   "execution_count": 67,
   "metadata": {},
   "outputs": [],
   "source": [
    "df_addresses_sorted = df_addresses.orderBy(\"address\", \"timestamp\")\n",
    "# --> Ordena os endereços por 'address' e 'timestamp' em ordem crescente / Sorts the addresses by 'address' and 'timestamp' in ascending order <--"
   ]
  },
  {
   "cell_type": "code",
   "execution_count": 68,
   "metadata": {},
   "outputs": [
    {
     "name": "stdout",
     "output_type": "stream",
     "text": [
      "+------------------+-----------------+\n",
      "| Min balance_after|Max balance_after|\n",
      "+------------------+-----------------+\n",
      "|-6747.691313480002|   18753.37913886|\n",
      "+------------------+-----------------+\n",
      "\n"
     ]
    }
   ],
   "source": [
    "df_addresses.select(\n",
    "    F.min(\"balance_after\").alias(\"Min balance_after\"),\n",
    "    F.max(\"balance_after\").alias(\"Max balance_after\")\n",
    ").show()\n",
    "# --> Calcula o menor e o maior saldo registrado após as transações / Computes the minimum and maximum balance after transactions <--"
   ]
  },
  {
   "cell_type": "code",
   "execution_count": 69,
   "metadata": {},
   "outputs": [
    {
     "name": "stdout",
     "output_type": "stream",
     "text": [
      "+----------------------------------------------------------------+------------+-------------------+--------------------------------------------------------------+---------+----------+----------------------+-----------------------+----------------------+-------+\n",
      "|tx_hash                                                         |block_height|timestamp          |address                                                       |direction|amount    |balance_before        |balance_after          |wallet_type           |is_zero|\n",
      "+----------------------------------------------------------------+------------+-------------------+--------------------------------------------------------------+---------+----------+----------------------+-----------------------+----------------------+-------+\n",
      "|b6a368df0eb0d57609054e16526abbb2d5285972ad30c6afa72b554fdcf28cdf|889549      |2025-03-26 18:01:28|14j278TaNEhLzSEfEuBiXBq5yt7UzrCpEQ                            |input    |7.1495E-4 |-0.0010410999999999992|-3.261499999999992E-4  |P2PKH (Legacy)        |false  |\n",
      "|b6a368df0eb0d57609054e16526abbb2d5285972ad30c6afa72b554fdcf28cdf|889549      |2025-03-26 18:01:28|1BwJdnKw6qYLqgM3HpTh869fn3QEDo3SvR                            |input    |2.8565E-4 |-2.8828E-4            |-2.6300000000000477E-6 |P2PKH (Legacy)        |false  |\n",
      "|052700168306c3dca75a59a12689136c43f4edd803cb016737709504a45f1b28|889549      |2025-03-26 18:01:28|bc1qwqdg6squsna38e46795at95yu9atm8azzmyvckulcc7kytlcckxswvvzej|input    |0.0229966 |-5.804226479999995    |-5.781229879999995     |Bech32 (SegWit Nativo)|false  |\n",
      "|dbc7e01146d3fe953e426d4ff118993f18a351aa36134389151728fb1bbd057a|889549      |2025-03-26 18:01:28|bc1qc0lk6mupxhd0f8qyghpdvwrx2ucl3medr2ucm5                    |input    |0.00222111|-0.04433181           |-0.0421107             |Bech32 (SegWit Nativo)|false  |\n",
      "|6b9ec7f1906995019836cd9266c58150ec04063d552182210c77af77d0b232cd|889549      |2025-03-26 18:01:28|bc1qa5zzv4yn3v4zmdvwnuekz88kh8ff7ywwksfksd                    |input    |2.88E-4   |-6.34E-4              |-3.46E-4               |Bech32 (SegWit Nativo)|false  |\n",
      "|7020c2754889ec353d58b900e3ed44452b038125b2a1343bc3d2faabc3735d68|889549      |2025-03-26 18:01:28|bc1qa7svlf34d8l94yv3vmywj50z4kszdfa77pu8ce                    |input    |0.04833603|-0.09077798000000001  |-0.042441950000000006  |Bech32 (SegWit Nativo)|false  |\n",
      "|7020c2754889ec353d58b900e3ed44452b038125b2a1343bc3d2faabc3735d68|889549      |2025-03-26 18:01:28|bc1qa7svlf34d8l94yv3vmywj50z4kszdfa77pu8ce                    |input    |0.04244195|-0.042441950000000006 |-6.938893903907228E-18 |Bech32 (SegWit Nativo)|false  |\n",
      "|9e87bd2c71248ba78b2b64ffeb1d8e869db9a214700dc3a7f283eacc2dfc26de|889549      |2025-03-26 18:01:28|bc1q5f3n7tq7h4h3ezzd6nfcv6mcs5njg0xnv66x5z                    |input    |0.00522   |-0.01043              |-0.00521               |Bech32 (SegWit Nativo)|false  |\n",
      "|ce2650466471781b24e0d8eddb7c3e80b747007ff82fdefff634505b199b32a1|889549      |2025-03-26 18:01:28|bc1qkgkc8kqw8v50nfsz6mmlhwn6hlgn58yfkvuh62                    |input    |21.285    |-21.2851053           |-1.0530000000130713E-4 |Bech32 (SegWit Nativo)|false  |\n",
      "|ce2650466471781b24e0d8eddb7c3e80b747007ff82fdefff634505b199b32a1|889549      |2025-03-26 18:01:28|bc1qkgkc8kqw8v50nfsz6mmlhwn6hlgn58yfkvuh62                    |input    |1.053E-4  |-1.0530000000130713E-4|-1.3071276916756802E-15|Bech32 (SegWit Nativo)|false  |\n",
      "+----------------------------------------------------------------+------------+-------------------+--------------------------------------------------------------+---------+----------+----------------------+-----------------------+----------------------+-------+\n",
      "only showing top 10 rows\n",
      "\n"
     ]
    }
   ],
   "source": [
    "df_negative_balances = df_addresses.filter(F.col(\"balance_after\") < 0)\n",
    "# --> Filtra os endereços com saldo negativo após a transação / Filters addresses with negative balance after the transaction <--\n",
    "\n",
    "df_negative_balances.show(10, truncate=False)\n",
    "# --> Exibe os 10 primeiros endereços com saldo negativo / Displays the first 10 addresses with negative balance <--"
   ]
  },
  {
   "cell_type": "code",
   "execution_count": 70,
   "metadata": {},
   "outputs": [
    {
     "name": "stdout",
     "output_type": "stream",
     "text": [
      "+----------------------------------------------------------------+------------+-------------------+------------------------------------------+---------+----------+---------------------+-------------------+--------------------------------+-------+\n",
      "|tx_hash                                                         |block_height|timestamp          |address                                   |direction|amount    |balance_before       |balance_after      |wallet_type                     |is_zero|\n",
      "+----------------------------------------------------------------+------------+-------------------+------------------------------------------+---------+----------+---------------------+-------------------+--------------------------------+-------+\n",
      "|98f8ae54ddbb2ffab402f0cef95a8af9568a07784492032da592a6223c2ff855|889549      |2025-03-26 18:01:28|bc1qsuc4er5d6da49kj6lcg8qxe5c4r32y7r3d06pm|input    |6.57685607|-6.57685607          |0.0                |Bech32 (SegWit Nativo)          |true   |\n",
      "|2cbcdc1ec23be0d9fa05133c9a2f7a1c6f0dfdb755c29c010082dc61721926d9|889549      |2025-03-26 18:01:28|bc1q4hwpzgllepq37c3avkulntvmd4j53l2n3ztprf|input    |0.02248855|-0.004396190000000109|0.01809235999999989|Bech32 (SegWit Nativo)          |false  |\n",
      "|63e5f5ca813fa7d35734ad826e88aab755eb3f0ad07177693007356fd87cd217|889549      |2025-03-26 18:01:28|bc1q8sse2pm24833aujhh32msxjmyza2er7hycc9hk|input    |0.004288  |-0.004288            |0.0                |Bech32 (SegWit Nativo)          |true   |\n",
      "|a457406f4a722c3cfd2a29a86def6c761b17552301f21d35b5cfbefde1ce3c6c|889549      |2025-03-26 18:01:28|17QWbvSCu7HPhk59UpwCYm9E2nbqp8VGcQ        |input    |1.46549248|-1.46549248          |0.0                |P2PKH (Legacy)                  |true   |\n",
      "|e323c7896051a924a933f6ae228f4a10956189d88a1fbd8cb02adeb0748587c7|889549      |2025-03-26 18:01:28|3E5pdQ8SB2dzFCt47gE6RZRaVj4AEvLTGE        |output   |0.11529475|-0.34593381          |0.0                |P2SH (Multisig ou SegWit Antigo)|true   |\n",
      "|ced5121c1b0e6efb55bb20e897faa13d312297914006b0bd7c4a23282e5fcf3f|889549      |2025-03-26 18:01:28|1ENabYPH1YGXWc1YJPRccox4HumVJksxy3        |input    |0.90827912|-0.90827912          |0.0                |P2PKH (Legacy)                  |true   |\n",
      "|2d09eee8b5d85db1d9b2950124b1bef14f93008b28987154bbd52cd1e2a4387c|889549      |2025-03-26 18:01:28|1PDkbds3Q4gk2sNReeJUc4K6v9KpD36vU9        |input    |0.12876597|-0.12876597          |0.0                |P2PKH (Legacy)                  |true   |\n",
      "|3d8dad74f80bc911376feadaba26f7c06c6691b47fbd5c500365b704316db67d|889549      |2025-03-26 18:01:28|1GLp2HhE8nakVHahbG4fnuFLwBGuhmXwyf        |input    |2.71198976|-2.71198976          |0.0                |P2PKH (Legacy)                  |true   |\n",
      "|3d8dad74f80bc911376feadaba26f7c06c6691b47fbd5c500365b704316db67d|889549      |2025-03-26 18:01:28|bc1qhw60t8468ae67s9yc942tjvh7wpc9sdc4l3ync|output   |3.0E-4    |-0.0017              |0.0                |Bech32 (SegWit Nativo)          |true   |\n",
      "|f87c87c043a084bda498ce2a788c93992955de689e9f97b73da78f3ec148f30c|889549      |2025-03-26 18:01:28|1Ku6bQoQrYgGvWjs9LGDDaG54A3xy4HUgX        |output   |2.028521  |-4.603339            |0.0                |Multisig                        |true   |\n",
      "+----------------------------------------------------------------+------------+-------------------+------------------------------------------+---------+----------+---------------------+-------------------+--------------------------------+-------+\n",
      "only showing top 10 rows\n",
      "\n"
     ]
    }
   ],
   "source": [
    "df_negative_balances = df_addresses.filter(F.col(\"balance_before\") < 0)\n",
    "# --> Filtra os endereços com saldo negativo antes da transação / Filters addresses with negative balance before the transaction <--\n",
    "\n",
    "df_negative_balances.show(10, truncate=False)\n",
    "# --> Exibe os 10 primeiros endereços com saldo negativo antes da transação / Displays the first 10 addresses with negative balance before the transaction <--"
   ]
  },
  {
   "cell_type": "code",
   "execution_count": 71,
   "metadata": {},
   "outputs": [
    {
     "name": "stderr",
     "output_type": "stream",
     "text": [
      "[Stage 285:>                                                        (0 + 8) / 8]\r"
     ]
    },
    {
     "name": "stdout",
     "output_type": "stream",
     "text": [
      "+--------------------------------------------------------------+------+\n",
      "|address                                                       |count |\n",
      "+--------------------------------------------------------------+------+\n",
      "|bc1q3k0swnar7s4w3lcp4u3vys826z8vc2f2t87hu5                    |131127|\n",
      "|bc1ptzcpa5gh4jkj3zpl3w8d2ckp4x0ehz5cnm35vdn3t6rgwfkjr30sjl7t0t|119150|\n",
      "|bc1q7nx7nhzu45p5mxjdvzamaymee6cjq6q4resys9                    |118196|\n",
      "|bc1plaspyt3w9d7mmzkjhatqxqjkm4nuc9qus5pve330g75d9sdmhp3qvp8cv0|106562|\n",
      "|bc1pxwnrh4347e793lu4pwyhrrurf4ltzxfx4akeg59g52um27r37kcqnm2qg8|66401 |\n",
      "|bc1qe7pslj3p0cjr5s0gzy6p03xg9g5ng0mwlyxrcd                    |59755 |\n",
      "|bc1qxxew9jta6pgh7y9p7pwy6kwpv5v7wl6d4c9cns                    |57130 |\n",
      "|bc1pt5k5fhlh4tqkxdmrzkh586vp8ryfv9lng3mp0glvqryaxc3z6q2s9g7ndz|57076 |\n",
      "|1FWQiwK27EnGXb6BiBMRLJvunJQZZPMcGd                            |37631 |\n",
      "|bc1p4y3c2e726mspq8dlaae59squ5zkcnyxry30f2lrua94qqarsz9jqtzjeks|32651 |\n",
      "+--------------------------------------------------------------+------+\n",
      "only showing top 10 rows\n",
      "\n"
     ]
    },
    {
     "name": "stderr",
     "output_type": "stream",
     "text": [
      "                                                                                \r"
     ]
    }
   ],
   "source": [
    "df_addresses.groupBy(\"address\").count().orderBy(F.desc(\"count\")).show(10, truncate=False)\n",
    "# --> Agrupa os endereços e conta o número de transações por endereço, ordenando pela quantidade de transações / Groups addresses and counts the number of transactions per address, ordering by transaction count <--"
   ]
  },
  {
   "cell_type": "code",
   "execution_count": 72,
   "metadata": {},
   "outputs": [
    {
     "name": "stdout",
     "output_type": "stream",
     "text": [
      "+----------------------------------------------------------------+------------+-------------------+--------------------------------------------------------------+---------+----------+----------------------+-----------------------+----------------------+-------+\n",
      "|tx_hash                                                         |block_height|timestamp          |address                                                       |direction|amount    |balance_before        |balance_after          |wallet_type           |is_zero|\n",
      "+----------------------------------------------------------------+------------+-------------------+--------------------------------------------------------------+---------+----------+----------------------+-----------------------+----------------------+-------+\n",
      "|b6a368df0eb0d57609054e16526abbb2d5285972ad30c6afa72b554fdcf28cdf|889549      |2025-03-26 18:01:28|14j278TaNEhLzSEfEuBiXBq5yt7UzrCpEQ                            |input    |7.1495E-4 |-0.0010410999999999992|-3.261499999999992E-4  |P2PKH (Legacy)        |false  |\n",
      "|b6a368df0eb0d57609054e16526abbb2d5285972ad30c6afa72b554fdcf28cdf|889549      |2025-03-26 18:01:28|1BwJdnKw6qYLqgM3HpTh869fn3QEDo3SvR                            |input    |2.8565E-4 |-2.8828E-4            |-2.6300000000000477E-6 |P2PKH (Legacy)        |false  |\n",
      "|052700168306c3dca75a59a12689136c43f4edd803cb016737709504a45f1b28|889549      |2025-03-26 18:01:28|bc1qwqdg6squsna38e46795at95yu9atm8azzmyvckulcc7kytlcckxswvvzej|input    |0.0229966 |-5.804226479999995    |-5.781229879999995     |Bech32 (SegWit Nativo)|false  |\n",
      "|dbc7e01146d3fe953e426d4ff118993f18a351aa36134389151728fb1bbd057a|889549      |2025-03-26 18:01:28|bc1qc0lk6mupxhd0f8qyghpdvwrx2ucl3medr2ucm5                    |input    |0.00222111|-0.04433181           |-0.0421107             |Bech32 (SegWit Nativo)|false  |\n",
      "|6b9ec7f1906995019836cd9266c58150ec04063d552182210c77af77d0b232cd|889549      |2025-03-26 18:01:28|bc1qa5zzv4yn3v4zmdvwnuekz88kh8ff7ywwksfksd                    |input    |2.88E-4   |-6.34E-4              |-3.46E-4               |Bech32 (SegWit Nativo)|false  |\n",
      "|7020c2754889ec353d58b900e3ed44452b038125b2a1343bc3d2faabc3735d68|889549      |2025-03-26 18:01:28|bc1qa7svlf34d8l94yv3vmywj50z4kszdfa77pu8ce                    |input    |0.04833603|-0.09077798000000001  |-0.042441950000000006  |Bech32 (SegWit Nativo)|false  |\n",
      "|7020c2754889ec353d58b900e3ed44452b038125b2a1343bc3d2faabc3735d68|889549      |2025-03-26 18:01:28|bc1qa7svlf34d8l94yv3vmywj50z4kszdfa77pu8ce                    |input    |0.04244195|-0.042441950000000006 |-6.938893903907228E-18 |Bech32 (SegWit Nativo)|false  |\n",
      "|9e87bd2c71248ba78b2b64ffeb1d8e869db9a214700dc3a7f283eacc2dfc26de|889549      |2025-03-26 18:01:28|bc1q5f3n7tq7h4h3ezzd6nfcv6mcs5njg0xnv66x5z                    |input    |0.00522   |-0.01043              |-0.00521               |Bech32 (SegWit Nativo)|false  |\n",
      "|ce2650466471781b24e0d8eddb7c3e80b747007ff82fdefff634505b199b32a1|889549      |2025-03-26 18:01:28|bc1qkgkc8kqw8v50nfsz6mmlhwn6hlgn58yfkvuh62                    |input    |21.285    |-21.2851053           |-1.0530000000130713E-4 |Bech32 (SegWit Nativo)|false  |\n",
      "|ce2650466471781b24e0d8eddb7c3e80b747007ff82fdefff634505b199b32a1|889549      |2025-03-26 18:01:28|bc1qkgkc8kqw8v50nfsz6mmlhwn6hlgn58yfkvuh62                    |input    |1.053E-4  |-1.0530000000130713E-4|-1.3071276916756802E-15|Bech32 (SegWit Nativo)|false  |\n",
      "+----------------------------------------------------------------+------------+-------------------+--------------------------------------------------------------+---------+----------+----------------------+-----------------------+----------------------+-------+\n",
      "only showing top 10 rows\n",
      "\n"
     ]
    }
   ],
   "source": [
    "df_addresses.filter(F.col(\"balance_after\") < 0).show(10, truncate=False)\n",
    "# --> Filtra os endereços com saldo negativo após a transação / Filters addresses with negative balance after the transaction <--"
   ]
  },
  {
   "cell_type": "code",
   "execution_count": 73,
   "metadata": {},
   "outputs": [
    {
     "name": "stdout",
     "output_type": "stream",
     "text": [
      "+----------------------------------------------------------------+------------+-------------------+------------------------------------------+---------+----------+------------------+-------------------+----------------------+-------+\n",
      "|tx_hash                                                         |block_height|timestamp          |address                                   |direction|amount    |balance_before    |balance_after      |wallet_type           |is_zero|\n",
      "+----------------------------------------------------------------+------------+-------------------+------------------------------------------+---------+----------+------------------+-------------------+----------------------+-------+\n",
      "|3bce22c90956929292bd79bfeeed1453d1b82dd82553b55928232734031c71cc|889549      |2025-03-26 18:01:28|1PuJjnF476W3zXfVYmJfGnouzFDAXakkL4        |output   |3.31616698|3.6382640799999977|0.32209709999999747|P2PKH (Legacy)        |false  |\n",
      "|0620546020d9b2f767bd9a57d7ef8eb6c7807790528735590bb79d99308e9367|889549      |2025-03-26 18:01:28|bc1qqz623jyqdsh2w5y5kdmzk2ws6mzr2mt2etv5gx|input    |1.47532993|0.6379084399999999|2.11323837         |Bech32 (SegWit Nativo)|false  |\n",
      "|0620546020d9b2f767bd9a57d7ef8eb6c7807790528735590bb79d99308e9367|889549      |2025-03-26 18:01:28|bc1qqz623jyqdsh2w5y5kdmzk2ws6mzr2mt2etv5gx|output   |1.46751255|2.11323837        |0.64572582         |Bech32 (SegWit Nativo)|false  |\n",
      "|fc76ea880a1a1e7c616d42da7c691603978473a7f48454fdbba5a63dc3b4f3a3|889549      |2025-03-26 18:01:28|bc1qqz623jyqdsh2w5y5kdmzk2ws6mzr2mt2etv5gx|input    |1.64100246|0.64572582        |2.28672828         |Bech32 (SegWit Nativo)|false  |\n",
      "|fc76ea880a1a1e7c616d42da7c691603978473a7f48454fdbba5a63dc3b4f3a3|889549      |2025-03-26 18:01:28|bc1qqz623jyqdsh2w5y5kdmzk2ws6mzr2mt2etv5gx|output   |1.63883337|2.28672828        |0.6478949100000002 |Bech32 (SegWit Nativo)|false  |\n",
      "|575cc2dbd564ce12791233f7b97001b39de52b4f2d957a8f8c555f266383eb3b|889549      |2025-03-26 18:01:28|bc1qje6kqj0zj8pwmfe02hkm3maakh2hvwu45e60m2|input    |9.7356E-4 |0.0               |9.7356E-4          |Bech32 (SegWit Nativo)|false  |\n",
      "|f4a5ebacb2f9841be0ba92eccd3382fe08dd9af8a85af2d99b1f127085485c8f|889549      |2025-03-26 18:01:28|bc1qlttweljdl2eq6d3vpe04pnxl6fglu2mw9ds8mq|input    |3.2929E-4 |0.0               |3.2929E-4          |Bech32 (SegWit Nativo)|false  |\n",
      "|7a9de5c8ca0705c1f7a45ae5925ac7ee6cc0f7d1f24fbd4e526d798ed8dd4d2d|889549      |2025-03-26 18:01:28|bc1qqz623jyqdsh2w5y5kdmzk2ws6mzr2mt2etv5gx|input    |2.8203943 |0.6478949100000002|3.46828921         |Bech32 (SegWit Nativo)|false  |\n",
      "|7a9de5c8ca0705c1f7a45ae5925ac7ee6cc0f7d1f24fbd4e526d798ed8dd4d2d|889549      |2025-03-26 18:01:28|bc1qqz623jyqdsh2w5y5kdmzk2ws6mzr2mt2etv5gx|output   |2.81622358|3.46828921        |0.6520656300000001 |Bech32 (SegWit Nativo)|false  |\n",
      "|85888e63cfb37ea6b170087569d1880663e48f0207a754a5a08d841d30b3c46d|889549      |2025-03-26 18:01:28|bc1qqz623jyqdsh2w5y5kdmzk2ws6mzr2mt2etv5gx|input    |0.27062565|0.6520656300000001|0.92269128         |Bech32 (SegWit Nativo)|false  |\n",
      "+----------------------------------------------------------------+------------+-------------------+------------------------------------------+---------+----------+------------------+-------------------+----------------------+-------+\n",
      "only showing top 10 rows\n",
      "\n"
     ]
    }
   ],
   "source": [
    "df_addresses.filter(F.col(\"balance_after\") > 0).show(10, truncate=False)\n",
    "# --> Filtra os endereços com saldo positivo após a transação / Filters addresses with positive balance after the transaction <--"
   ]
  },
  {
   "cell_type": "code",
   "execution_count": 74,
   "metadata": {},
   "outputs": [],
   "source": [
    "# window_spec = Window.partitionBy(\"address\").orderBy(\"timestamp\")\n",
    "# --> Define a janela de cálculo para cada endereço, ordenando por timestamp / Defines the window for calculation for each address, ordered by timestamp <--\n",
    "\n",
    "# df_corrected_balance = df_addresses.withColumn(\n",
    "#     \"balance_acumulado\", \n",
    "#     F.sum(\"amount\").over(window_spec)\n",
    "# )\n",
    "# --> Cria uma nova coluna 'balance_acumulado' com o saldo acumulado por endereço e ordenado por timestamp / Creates a new column 'balance_acumulado' with the cumulative balance per address, ordered by timestamp <--\n",
    "\n",
    "# df_corrected_balance.show(10, truncate=False)\n",
    "# --> Exibe os 10 primeiros registros com o saldo acumulado corrigido / Displays the first 10 records with the corrected cumulative balance <--"
   ]
  },
  {
   "cell_type": "code",
   "execution_count": 75,
   "metadata": {},
   "outputs": [
    {
     "data": {
      "text/plain": [
       "0"
      ]
     },
     "execution_count": 75,
     "metadata": {},
     "output_type": "execute_result"
    }
   ],
   "source": [
    "df_addresses.filter((F.col(\"balance_after\") < 0) & (F.col(\"direction\") == \"output\")).count()\n",
    "# --> Conta os endereços com saldo negativo após a transação e direção de saída / Counts addresses with negative balance after the transaction and output direction <--"
   ]
  },
  {
   "cell_type": "code",
   "execution_count": 76,
   "metadata": {},
   "outputs": [
    {
     "name": "stdout",
     "output_type": "stream",
     "text": [
      "+-------+------------+---------+-------+---------+------+--------------+-------------+-----------+-------+\n",
      "|tx_hash|block_height|timestamp|address|direction|amount|balance_before|balance_after|wallet_type|is_zero|\n",
      "+-------+------------+---------+-------+---------+------+--------------+-------------+-----------+-------+\n",
      "+-------+------------+---------+-------+---------+------+--------------+-------------+-----------+-------+\n",
      "\n"
     ]
    }
   ],
   "source": [
    "df_addresses.filter((F.col(\"address\") == \"xxx\")).show()\n",
    "# --> Filtra os endereços com o valor específico \"xxx\" e exibe as transações associadas / Filters addresses with the specific value \"xxx\" and displays the associated transactions <--"
   ]
  },
  {
   "cell_type": "markdown",
   "metadata": {},
   "source": [
    "##### 🔶 ₿ -----> timestamp"
   ]
  },
  {
   "cell_type": "code",
   "execution_count": 77,
   "metadata": {},
   "outputs": [
    {
     "name": "stdout",
     "output_type": "stream",
     "text": [
      "+-------------------+-------------------+\n",
      "|Min Timestamp      |Max Timestamp      |\n",
      "+-------------------+-------------------+\n",
      "|2025-03-26 12:37:41|2025-04-08 19:31:18|\n",
      "+-------------------+-------------------+\n",
      "\n"
     ]
    }
   ],
   "source": [
    "\n",
    "df_addresses.select(\n",
    "    F.min(\"timestamp\").alias(\"Min Timestamp\"),\n",
    "    F.max(\"timestamp\").alias(\"Max Timestamp\")\n",
    ").show(truncate=False)"
   ]
  },
  {
   "cell_type": "code",
   "execution_count": 78,
   "metadata": {},
   "outputs": [
    {
     "name": "stdout",
     "output_type": "stream",
     "text": [
      "+-------------------+-------------------+\n",
      "|Min Timestamp      |Max Timestamp      |\n",
      "+-------------------+-------------------+\n",
      "|2025-03-26 12:37:41|2025-04-08 19:31:18|\n",
      "+-------------------+-------------------+\n",
      "\n"
     ]
    }
   ],
   "source": [
    "df_addresses.select(\n",
    "    F.min(\"timestamp\").alias(\"Min Timestamp\"),\n",
    "    F.max(\"timestamp\").alias(\"Max Timestamp\")\n",
    ").show(truncate=False)\n",
    "# --> Exibe o menor e o maior timestamp presentes na tabela de endereços / Displays the minimum and maximum timestamps in the addresses table <--"
   ]
  },
  {
   "cell_type": "code",
   "execution_count": 79,
   "metadata": {},
   "outputs": [],
   "source": [
    "windowSpec = Window.orderBy(\"timestamp\")\n",
    "# --> Define uma janela ordenada por timestamp para acessar o valor anterior / Defines a window ordered by timestamp to access the previous value <--\n",
    "\n",
    "df_addresses = df_addresses.withColumn(\"prev_timestamp\", F.lag(\"timestamp\").over(windowSpec))\n",
    "# --> Cria uma nova coluna com o timestamp anterior para cada endereço usando a função lag() / Creates a new column with the previous timestamp for each address using the lag() function <--"
   ]
  },
  {
   "cell_type": "code",
   "execution_count": 80,
   "metadata": {},
   "outputs": [],
   "source": [
    "df_addresses = df_addresses.withColumn(\"time_diff\", \n",
    "                                 F.unix_timestamp(\"timestamp\") - F.unix_timestamp(\"prev_timestamp\"))\n",
    "# --> Cria uma nova coluna 'time_diff' com a diferença de tempo entre o timestamp atual e o anterior, em segundos / Creates a new column 'time_diff' with the time difference between current and previous timestamp, in seconds <--"
   ]
  },
  {
   "cell_type": "code",
   "execution_count": 81,
   "metadata": {},
   "outputs": [
    {
     "name": "stdout",
     "output_type": "stream",
     "text": [
      "Primeiro bloco salvo: 889527\n",
      "Último bloco salvo: 891536\n"
     ]
    }
   ],
   "source": [
    "primeiro_bloco = df_blocks.select(\"block_height\").orderBy(\"block_height\").first()[0]\n",
    "# --> Seleciona o primeiro bloco (menor valor de block_height) / Selects the first block (lowest block_height value) <--\n",
    "\n",
    "ultimo_bloco = df_blocks.select(\"block_height\").orderBy(F.desc(\"block_height\")).first()[0]\n",
    "# --> Seleciona o último bloco (maior valor de block_height) / Selects the last block (highest block_height value) <--\n",
    "\n",
    "print(f\"Primeiro bloco salvo: {primeiro_bloco}\")\n",
    "# --> Exibe o primeiro bloco salvo / Displays the first saved block <--\n",
    "\n",
    "print(f\"Último bloco salvo: {ultimo_bloco}\")\n",
    "# --> Exibe o último bloco salvo / Displays the last saved block <--"
   ]
  },
  {
   "cell_type": "code",
   "execution_count": 82,
   "metadata": {},
   "outputs": [
    {
     "name": "stdout",
     "output_type": "stream",
     "text": [
      "root\n",
      " |-- block_height: long (nullable = true)\n",
      " |-- timestamp: timestamp_ntz (nullable = true)\n",
      " |-- block_hash: string (nullable = true)\n",
      " |-- num_transactions: long (nullable = true)\n",
      " |-- total_btc_moved: double (nullable = true)\n",
      " |-- block_reward: double (nullable = true)\n",
      " |-- total_fees: double (nullable = true)\n",
      " |-- block_value_btc: double (nullable = true)\n",
      " |-- prev_block_height: long (nullable = true)\n",
      " |-- prev_timestamp: timestamp_ntz (nullable = true)\n",
      " |-- time_diff: long (nullable = true)\n",
      " |-- halving_period: integer (nullable = true)\n",
      " |-- calculated_block_value: double (nullable = true)\n",
      "\n"
     ]
    }
   ],
   "source": [
    "df_blocks.printSchema()"
   ]
  },
  {
   "cell_type": "code",
   "execution_count": null,
   "metadata": {},
   "outputs": [
    {
     "name": "stdout",
     "output_type": "stream",
     "text": [
      "[INFO] Iniciando persistência dos dados...\n",
      "[INFO] Salvando blocos...\n",
      "[INFO] Salvando transações...\n"
     ]
    },
    {
     "name": "stderr",
     "output_type": "stream",
     "text": [
      "                                                                                \r"
     ]
    },
    {
     "name": "stdout",
     "output_type": "stream",
     "text": [
      "[INFO] Salvando endereços...\n"
     ]
    },
    {
     "name": "stderr",
     "output_type": "stream",
     "text": [
      "                                                                                \r"
     ]
    },
    {
     "name": "stdout",
     "output_type": "stream",
     "text": [
      "[SUCESSO] Blocos fora do intervalo salvos: 505\n",
      "[SUCESSO] Novo intervalo salvo: 889527 - 891536\n"
     ]
    }
   ],
   "source": [
    "import os\n",
    "from pyspark.sql import functions as F\n",
    "from pyspark import StorageLevel\n",
    "\n",
    "# ==========================================================\n",
    "# Caminhos dos dados / Data paths\n",
    "# ==========================================================\n",
    "SAVE_PATH_BLOCKS = \"/Users/rodrigocampos/.../processed_data/blockchain_blocks_part\"\n",
    "SAVE_PATH_TRANSACTIONS = \"/Users/rodrigocampos/.../processed_data/blockchain_transactions_part\"\n",
    "SAVE_PATH_ADDRESSES = \"/Users/rodrigocampos/.../processed_data/blockchain_addresses_part\"\n",
    "\n",
    "FEATURE_PATH_BLOCKS = \"/Users/rodrigocampos/.../bitcoin_features/blockchain_blocks_part\"\n",
    "FEATURE_PATH_TRANSACTIONS = \"/Users/rodrigocampos/.../bitcoin_features/blockchain_transactions_part\"\n",
    "FEATURE_PATH_ADDRESSES = \"/Users/rodrigocampos/.../bitcoin_features/blockchain_addresses_part\"\n",
    "\n",
    "METADATA_PATH = \"/Users/rodrigocampos/.../processed_data/metadata.txt\"\n",
    "\n",
    "# ==========================================================\n",
    "# Função para obter o intervalo salvo (com fallback no Parquet)\n",
    "# / Retrieves the last saved block range from metadata.txt\n",
    "# ==========================================================\n",
    "def get_saved_block_range():\n",
    "    if os.path.exists(METADATA_PATH):\n",
    "        with open(METADATA_PATH, \"r\") as f:\n",
    "            lines = [line.strip() for line in f.readlines() if line.strip()]\n",
    "            first_block = int(lines[0]) if len(lines) > 0 else 0\n",
    "            last_block = int(lines[1]) if len(lines) > 1 else 0\n",
    "            return first_block, last_block\n",
    "        # --> Reads and parses the block range from metadata.txt / Lê e interpreta o intervalo de blocos do metadata <--\n",
    "    else:\n",
    "        return 0, 0\n",
    "        # --> Default when metadata does not exist / Valor padrão se metadata não for encontrado <--\n",
    "\n",
    "# ==========================================================\n",
    "# Atualiza o metadata.txt com os novos blocos salvos\n",
    "# / Updates the metadata file with the new block range\n",
    "# ==========================================================\n",
    "def update_metadata(first_block, last_block):\n",
    "    with open(METADATA_PATH, \"w\") as f:\n",
    "        f.write(f\"{first_block}\\n{last_block}\")\n",
    "    # --> Writes updated block range to metadata file / Escreve novo intervalo de blocos no metadata <--\n",
    "\n",
    "# ==========================================================\n",
    "# Garante o nome correto da coluna de timestamp\n",
    "# / Ensures the timestamp column is standardized\n",
    "# ==========================================================\n",
    "if \"block_timestamp\" not in df_blocks.columns:\n",
    "    df_blocks = df_blocks.withColumnRenamed(\"timestamp\", \"block_timestamp\")\n",
    "    # --> Renames 'timestamp' to 'block_timestamp' if needed / Renomeia se necessário <--\n",
    "\n",
    "# ==========================================================\n",
    "# Lê intervalo salvo e extrai intervalo novo dos dados\n",
    "# / Reads saved block range and extracts new range from DataFrame\n",
    "# ==========================================================\n",
    "first_saved_block, last_saved_block = get_saved_block_range()\n",
    "# --> Retrieves the previously saved block interval / Recupera o intervalo de blocos salvo anteriormente <--\n",
    "\n",
    "agg_values = df_blocks.select(\"block_height\").agg(\n",
    "    F.min(\"block_height\").alias(\"min_block\"),\n",
    "    F.max(\"block_height\").alias(\"max_block\")\n",
    ").first()\n",
    "# --> Extracts min and max block from current data / Extrai o menor e maior bloco dos dados atuais <--\n",
    "\n",
    "new_first_block = agg_values[\"min_block\"] if agg_values[\"min_block\"] is not None else 0\n",
    "new_last_block = agg_values[\"max_block\"] if agg_values[\"max_block\"] is not None else 0\n",
    "# --> Handles None values for safe initialization / Garante valores válidos mesmo que None <--\n",
    "\n",
    "# ==========================================================\n",
    "# Proteção extra caso os blocos estejam invertidos\n",
    "# / Extra safety to handle inverted metadata ranges\n",
    "# ==========================================================\n",
    "min_ref = min(first_saved_block, last_saved_block)\n",
    "max_ref = max(first_saved_block, last_saved_block)\n",
    "# --> Ensures consistent min/max even if metadata is malformed / Garante min e max válidos mesmo que invertidos <--\n",
    "\n",
    "# ==========================================================\n",
    "# Filtra blocos que estão fora do intervalo já salvo\n",
    "# / Filters out blocks already saved, keeping only new ones\n",
    "# ==========================================================\n",
    "df_blocks_to_save = df_blocks.filter((F.col(\"block_height\") < min_ref) | (F.col(\"block_height\") > max_ref))\n",
    "df_transactions_to_save = df_transactions.filter((F.col(\"block_height\") < min_ref) | (F.col(\"block_height\") > max_ref))\n",
    "df_addresses_to_save = df_addresses.filter((F.col(\"block_height\") < min_ref) | (F.col(\"block_height\") > max_ref))\n",
    "# --> Keeps only blocks outside the saved range / Mantém apenas blocos ainda não salvos <--\n",
    "\n",
    "# ==========================================================\n",
    "# Executa salvamento de forma segura e eficiente\n",
    "# / Safely saves partitioned data and updates metadata\n",
    "# ==========================================================\n",
    "try:\n",
    "    if not df_blocks_to_save.rdd.isEmpty():\n",
    "        print(\"[INFO] Iniciando persistência dos dados...\")\n",
    "\n",
    "        df_blocks_to_save = df_blocks_to_save.withColumn(\"block_timestamp\", F.col(\"block_timestamp\").cast(\"timestamp\")) \\\n",
    "                                             .withColumn(\"year\", F.year(\"block_timestamp\")) \\\n",
    "                                             .withColumn(\"month\", F.month(\"block_timestamp\")) \\\n",
    "                                             .repartition(\"year\", \"month\") \\\n",
    "                                             .persist(StorageLevel.MEMORY_AND_DISK)\n",
    "        # --> Prepares blocks DataFrame for partitioned saving / Prepara o DataFrame de blocos para particionamento <--\n",
    "\n",
    "        df_transactions_to_save = df_transactions_to_save.withColumn(\"timestamp\", F.col(\"timestamp\").cast(\"timestamp\")) \\\n",
    "                                                         .withColumn(\"year\", F.year(\"timestamp\")) \\\n",
    "                                                         .withColumn(\"month\", F.month(\"timestamp\")) \\\n",
    "                                                         .repartition(\"year\", \"month\") \\\n",
    "                                                         .persist(StorageLevel.MEMORY_AND_DISK)\n",
    "        # --> Prepares transactions DataFrame / Prepara o DataFrame de transações <--\n",
    "\n",
    "        df_addresses_to_save = df_addresses_to_save.withColumn(\"timestamp\", F.col(\"timestamp\").cast(\"timestamp\")) \\\n",
    "                                                   .withColumn(\"year\", F.year(\"timestamp\")) \\\n",
    "                                                   .withColumn(\"month\", F.month(\"timestamp\")) \\\n",
    "                                                   .repartition(\"year\", \"month\") \\\n",
    "                                                   .persist(StorageLevel.MEMORY_AND_DISK)\n",
    "        # --> Prepares addresses DataFrame / Prepara o DataFrame de endereços <--\n",
    "\n",
    "        print(\"[INFO] Salvando blocos...\")\n",
    "        df_blocks_to_save.write.mode(\"append\").partitionBy(\"year\", \"month\").parquet(SAVE_PATH_BLOCKS)\n",
    "        df_blocks_to_save.write.mode(\"overwrite\").partitionBy(\"year\", \"month\").parquet(FEATURE_PATH_BLOCKS)\n",
    "        # --> Saves blocks both incrementally and for features / Salva blocos incrementalmente e para features <--\n",
    "\n",
    "        print(\"[INFO] Salvando transações...\")\n",
    "        df_transactions_to_save.write.mode(\"append\").partitionBy(\"year\", \"month\").parquet(SAVE_PATH_TRANSACTIONS)\n",
    "        df_transactions_to_save.write.mode(\"overwrite\").partitionBy(\"year\", \"month\").parquet(FEATURE_PATH_TRANSACTIONS)\n",
    "\n",
    "        print(\"[INFO] Salvando endereços...\")\n",
    "        df_addresses_to_save.write.mode(\"append\").partitionBy(\"year\", \"month\").parquet(SAVE_PATH_ADDRESSES)\n",
    "        df_addresses_to_save.write.mode(\"overwrite\").partitionBy(\"year\", \"month\").parquet(FEATURE_PATH_ADDRESSES)\n",
    "\n",
    "        # ==========================================================\n",
    "        # Atualiza intervalo salvo com base nos blocos efetivamente salvos\n",
    "        # / Updates the metadata range with actual saved data\n",
    "        # ==========================================================\n",
    "        saved_min = df_blocks_to_save.select(F.min(\"block_height\")).first()[0]\n",
    "        saved_max = df_blocks_to_save.select(F.max(\"block_height\")).first()[0]\n",
    "\n",
    "        updated_first = min(min_ref, saved_min) if min_ref != 0 else saved_min\n",
    "        updated_last = max(max_ref, saved_max) if max_ref != 0 else saved_max\n",
    "        # --> Ensures metadata covers all saved data / Garante que o metadata cubra todos os blocos salvos <--\n",
    "\n",
    "        update_metadata(updated_first, updated_last)\n",
    "        # --> Persists updated range to metadata.txt / Atualiza o metadata com novo intervalo <--\n",
    "\n",
    "        total_saved = df_blocks_to_save.select(\"block_height\").distinct().count()\n",
    "        print(f\"[SUCESSO] Blocos fora do intervalo salvos: {total_saved}\")\n",
    "        print(f\"[SUCESSO] Novo intervalo salvo: {updated_first} - {updated_last}\")\n",
    "\n",
    "        df_blocks_to_save.unpersist()\n",
    "        df_transactions_to_save.unpersist()\n",
    "        df_addresses_to_save.unpersist()\n",
    "        # --> Releases memory from persisted DataFrames / Libera memória dos DataFrames persistidos <--\n",
    "\n",
    "    else:\n",
    "        print(\"[INFO] Nenhum bloco novo ou retroativo para salvar.\")\n",
    "        # --> No new data found to persist / Nenhum dado novo foi identificado para salvar <--\n",
    "\n",
    "except Exception as e:\n",
    "    print(f\"[ERRO] Falha ao salvar dados: {e}\")\n",
    "    # --> Logs error if write fails / Exibe erro caso falhe ao salvar <--\n"
   ]
  },
  {
   "cell_type": "code",
   "execution_count": 85,
   "metadata": {},
   "outputs": [],
   "source": [
    "# from pyspark.sql import SparkSession\n",
    "# import os\n",
    "# import shutil\n",
    "\n",
    "# PASTA_BLOCKS = \"/Users/rodrigocampos/Library/Mobile Documents/com~apple~CloudDocs/requests/blockchain_blocks_part\"\n",
    "# PASTA_TRANSACTIONS = \"/Users/rodrigocampos/Library/Mobile Documents/com~apple~CloudDocs/requests/blockchain_transactions_part\"\n",
    "# PASTA_ADDRESSES = \"/Users/rodrigocampos/Library/Mobile Documents/com~apple~CloudDocs/requests/blockchain_addresses_part\"\n",
    "\n",
    "# SAVE_PATH_BLOCKS = \"/Users/rodrigocampos/Library/Mobile Documents/com~apple~CloudDocs/processed_data/blockchain_blocks_part\"\n",
    "# SAVE_PATH_TRANSACTIONS = \"/Users/rodrigocampos/Library/Mobile Documents/com~apple~CloudDocs/processed_data/blockchain_transactions_part\"\n",
    "# SAVE_PATH_ADDRESSES = \"/Users/rodrigocampos/Library/Mobile Documents/com~apple~CloudDocs/processed_data/blockchain_addresses_part\"\n",
    "\n",
    "\n",
    "# def verificar_e_excluir(origem, destino):\n",
    "#     \"\"\"\n",
    "#     Verifica se os arquivos em 'processed_data' são iguais aos de 'requests'.\n",
    "#     Se forem iguais em range de blocos, quantidade de linhas e identidade dos blocos, exclui os arquivos de 'requests'.\n",
    "#     / Checks if files in 'processed_data' match those in 'requests'. \n",
    "#     If they match in block range, number of rows, and block identity, delete the files from 'requests'.\n",
    "#     \"\"\"\n",
    "#     # Lendo os dados das duas pastas\n",
    "#     df_orig = spark.read.parquet(origem)\n",
    "#     df_proc = spark.read.parquet(destino)\n",
    "  \n",
    " \n",
    "#     # num_linhas_orig = df_orig.count()\n",
    "#     # num_linhas_proc = df_proc.count()\n",
    "\n",
    "#     # if num_linhas_orig != num_linhas_proc:\n",
    "#     # --> Checks if the number of rows in both datasets are different / Verifica se o número de linhas nos dois datasets é diferente <--\n",
    "\n",
    "#     min_block_orig, max_block_orig = df_orig.agg(F.min(\"block_height\"), F.max(\"block_height\")).collect()[0]\n",
    "#     min_block_proc, max_block_proc = df_proc.agg(F.min(\"block_height\"), F.max(\"block_height\")).collect()[0]\n",
    "#     # --> Obtains the first and last block saved in each dataset / Obtém o primeiro e último bloco salvo em cada dataset <--\n",
    "\n",
    "#     if min_block_orig != min_block_proc or max_block_orig > max_block_proc:\n",
    "#         print(f\" Erro: Faixa de blocos diferente! Origem ({min_block_orig}--{max_block_orig}) vs Processado({min_block_proc}--{max_block_proc})\")\n",
    "#         # --> Checks if the block range in both datasets is the same / Verifica se o intervalo de blocos nos dois datasets é o mesmo <--\n",
    "#         return False\n",
    "\n",
    "#     # if \"block_height\" in df_orig.columns and \"block_height\" in df_proc.columns:\n",
    "#     #     hash_diff = df_orig.select(\"block_height\").subtract(df_proc.select(\"block_height\")).count()\n",
    "#     #     if hash_diff > 0:\n",
    "#     #         print(f\" Erro: Diferença nos hashes dos blocos! {hash_diff} blocos não coincidem\")\n",
    "#     #         return False\n",
    "\n",
    "   \n",
    "#     print(f\" Dados correspondem! Excluindo arquivos de {origem}...\")\n",
    "#     shutil.rmtree(origem)\n",
    "#     os.makedirs(origem)  \n",
    "#     # --> Deletes files from the 'requests' folder if data matches / Exclui arquivos da pasta 'requests' se os dados coincidirem <--\n",
    "#     return True\n",
    "\n",
    "\n",
    "\n",
    "# print(\"\\nVerificando e removendo arquivos de requests...\")\n",
    "\n",
    "# verificar_e_excluir(PASTA_BLOCKS, SAVE_PATH_BLOCKS)\n",
    "# verificar_e_excluir(PASTA_TRANSACTIONS, SAVE_PATH_TRANSACTIONS)\n",
    "# verificar_e_excluir(PASTA_ADDRESSES, SAVE_PATH_ADDRESSES)\n",
    "\n",
    "# print(\"\\nProcesso concluído!\")\n",
    "# # --> Executes the check and delete process for each data folder / Executa o processo de verificação e exclusão para cada pasta de dados <--"
   ]
  },
  {
   "cell_type": "markdown",
   "metadata": {},
   "source": [
    "<img src=\"https://upload.wikimedia.org/wikipedia/commons/4/46/Bitcoin.svg\" alt=\"Logo do Bitcoin\" width=\"100\" style=\"margin-right: 30px;\">\n",
    "<font size=\"15\">Relação entre Tabelas</font>"
   ]
  },
  {
   "cell_type": "code",
   "execution_count": 86,
   "metadata": {},
   "outputs": [],
   "source": [
    "# --> Joins addresses with transactions to map wallet behavior / Junta endereços com transações para mapear o comportamento das carteiras <--\n",
    "\n",
    "# df_addresses_transactions = df_addresses.join(\n",
    "#     df_transactions,\n",
    "#     on=\"tx_hash\",\n",
    "#     how=\"inner\"\n",
    "# )\n",
    "# --> Faz o join entre os DataFrames de endereços e transações usando a chave 'tx_hash' / Joins the addresses and transactions DataFrames on 'tx_hash' <--\n",
    "\n",
    "# df_addresses_transactions.select(\n",
    "#     \"tx_hash\", \"address\", \"direction\", \"amount\", \"balance_before\", \"balance_after\", \"num_inputs\", \"num_outputs\"\n",
    "# ).orderBy(F.desc(\"amount\")).show(10, truncate=False)\n",
    "# --> Exibe os 10 primeiros registros de transações ordenados pela quantidade de 'amount', incluindo dados como direção da transação, saldo antes e depois, número de entradas e saídas / Displays the first 10 transaction records ordered by 'amount', including direction, balance before and after, and number of inputs and outputs <--"
   ]
  },
  {
   "cell_type": "code",
   "execution_count": 87,
   "metadata": {},
   "outputs": [],
   "source": [
    "\n",
    "\n",
    "# df_blocks = df_blocks.withColumnRenamed(\"timestamp\", \"block_timestamp\")\n",
    "# --> Renomeia a coluna 'timestamp' para 'block_timestamp' para evitar ambiguidade / Renames the 'timestamp' column to 'block_timestamp' to avoid ambiguity <--\n",
    "\n",
    "# df_addresses_blocks = df_addresses.join(\n",
    "#     df_blocks,\n",
    "#     on=\"block_height\",\n",
    "#     how=\"inner\"\n",
    "# )\n",
    "# --> Faz o join entre os DataFrames de endereços e blocos usando 'block_height' como chave / Joins the addresses and blocks DataFrames on 'block_height' <--\n",
    "\n",
    "# df_addresses_blocks.select(\n",
    "#     \"block_height\", \n",
    "#     \"block_timestamp\",  # Nome modificado para evitar ambiguidade\n",
    "#     \"address\", \n",
    "#     \"amount\", \n",
    "#     \"wallet_type\"\n",
    "# ).orderBy(F.desc(\"amount\")).show(10, truncate=False)\n",
    "# --> Exibe os 10 primeiros registros de transações por bloco, ordenados por 'amount', incluindo informações sobre o endereço e tipo de carteira / Displays the first 10 transaction records by block, ordered by 'amount', including address and wallet type <--"
   ]
  },
  {
   "cell_type": "code",
   "execution_count": 88,
   "metadata": {},
   "outputs": [],
   "source": [
    "# --> Groups addresses by wallet type to identify exchanges and institutional movement / Agrupa endereços por tipo de carteira para identificar exchanges e movimentação institucional <--\n",
    "\n",
    "# df_wallet_type = df_addresses.groupBy(\"wallet_type\").agg(\n",
    "#     F.countDistinct(\"address\").alias(\"num_addresses\"),\n",
    "#     F.sum(\"amount\").alias(\"total_moved\")\n",
    "# ).orderBy(F.desc(\"total_moved\"))\n",
    "# --> Conta o número de endereços distintos e soma o total movimentado por cada tipo de carteira / Counts distinct addresses and sums the total moved for each wallet type <--\n",
    "\n",
    "# df_wallet_type.show(10, truncate=False)\n",
    "# --> Exibe os 10 tipos de carteiras com maior movimentação total / Displays the top 10 wallet types with the highest total movement <--"
   ]
  },
  {
   "cell_type": "code",
   "execution_count": 89,
   "metadata": {},
   "outputs": [],
   "source": [
    "# --> Relates transactions to fees to detect network congestion / Relaciona transações a taxas para detectar congestionamento da rede <--\n",
    "\n",
    "# df_transactions_fees = df_transactions.select(\n",
    "#     \"timestamp\", \"num_inputs\", \"num_outputs\", \"fee\", \"transaction_size\"\n",
    "# ).orderBy(F.desc(\"fee\"))\n",
    "# --> Seleciona as colunas de transações relevantes (timestamp, entradas, saídas, taxa e tamanho da transação) e ordena pela taxa / Selects relevant transaction columns (timestamp, inputs, outputs, fee, transaction size) and orders by fee <--\n",
    "\n",
    "# df_transactions_fees.show(10, truncate=False)\n",
    "# --> Exibe as 10 transações com maior taxa, para identificar possíveis congestionamentos / Displays the top 10 transactions with the highest fee to identify potential congestion <--"
   ]
  },
  {
   "cell_type": "code",
   "execution_count": 90,
   "metadata": {},
   "outputs": [],
   "source": [
    "# --> Creates a cumulative balance table to track Bitcoin adoption / Cria uma tabela de saldos acumulados para rastrear a adoção do BTC <--\n",
    "\n",
    "# window_spec = Window.partitionBy(\"address\").orderBy(\"timestamp\")\n",
    "# --> Define uma janela para calcular o saldo acumulado por endereço, ordenando por timestamp / Defines a window to calculate cumulative balance by address, ordered by timestamp <--\n",
    "\n",
    "# df_saldos = df_addresses.withColumn(\n",
    "#     \"saldo_acumulado\", F.sum(\"amount\").over(window_spec)\n",
    "# )\n",
    "# --> Cria a coluna 'saldo_acumulado' com a soma dos valores de 'amount' para cada endereço / Creates the 'saldo_acumulado' column with the sum of 'amount' values for each address <--\n",
    "\n",
    "# df_saldos.show(10, truncate=False)\n",
    "# --> Exibe os 10 primeiros endereços com saldo acumulado / Displays the first 10 addresses with cumulative balance <--"
   ]
  }
 ],
 "metadata": {
  "kernelspec": {
   "display_name": "Python (venv)",
   "language": "python",
   "name": "venv"
  },
  "language_info": {
   "codemirror_mode": {
    "name": "ipython",
    "version": 3
   },
   "file_extension": ".py",
   "mimetype": "text/x-python",
   "name": "python",
   "nbconvert_exporter": "python",
   "pygments_lexer": "ipython3",
   "version": "3.13.2"
  }
 },
 "nbformat": 4,
 "nbformat_minor": 2
}
