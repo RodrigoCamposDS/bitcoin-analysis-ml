{
 "cells": [
  {
   "cell_type": "markdown",
   "metadata": {},
   "source": [
    "### Sumário Técnico — Previsão do Preço do Bitcoin\n",
    "\n",
    "##### 1. Setup Inicial\n",
    "- [1.1 Importação das Bibliotecas](#11-Importacao-das-Bibliotecas)\n",
    "- [1.2 Inicialização da Sessão Spark](#12-inicializacao-da-sessao-spark) \n",
    "- [1.3 Carregamento dos Dados](#13-carregamento-dos-dados)\n",
    "\n",
    "\n",
    "##### 2. Auditoria e Validação da Série Temporal\n",
    "- [2.1 Análise Estrutural do DataFrame](#21-analise-estrutural-do-dataframe)\n",
    "- [2.2 Análise Temporal de Integridade](#22-analise-temporal-de-integridade)\n",
    "\n",
    "##### 3. Análise Exploratória da Série Temporal (EDA)\n",
    "- [3.1 Transformação Temporal](#31-transformação-temporal)\n",
    "- [3.2 Visualizações Temporais](#32-visualizações-temporais)\n",
    "\n",
    "##### 4. Engenharia de Features Temporais\n",
    "- [4.1 Retornos e Volatilidade](#41-retornos-e-volatilidade)\n",
    "- [4.2 Decomposição Estrutural da Série (STL)](#42-decomposicao-estrutural-da-serie-stl)\n",
    "- [4.3 Análise Espectral (FFT)](#43-análise-espectral-fft)\n",
    "- [4.4 Detecção de Padrões Cíclicos](#44-detecção-de-padrões-cíclicos)\n",
    "- [4.5 Estrutura e Persistência Temporal](#45-estrutura-e-persistencia-temporal)\n",
    "\n",
    "##### 5. Análise de Estacionariedade e Transformações\n",
    "- [5.1 Transformações da Série](#51-transformações-da-série)\n",
    "- [5.2 Diagnóstico de Estacionariedade](#52-diagnóstico-de-estacionariedade)\n",
    "\n",
    "##### 6. Pré-Modelagem e Ajustes Estatísticos\n",
    "- [6.1 Modelos Lineares de Benchmark (ARIMA)](#61-modelos-lineares-de-benchmark-arima)\n",
    "- [6.2 Diagnósticos de Resíduos](#62-diagnósticos-de-resíduos)\n",
    "\n",
    "##### 7. Consolidação das Features Temporais\n",
    "- [Features STL](#features-stl)\n",
    "- [Features de Retorno](#features-de-retorno)\n",
    "- [Features de Volatilidade](#features-de-volatilidade)\n",
    "- [Features ACF/PACF](#features-acfpacf)\n",
    "- [Features de Frequência (FFT)](#features-de-frequência-fft)\n",
    "- [Features de Regime](#features-de-regime)\n",
    "- [Features Cíclicas](#features-cíclicas)"
   ]
  },
  {
   "cell_type": "markdown",
   "metadata": {},
   "source": [
    "### 1. Setup Inicial\n",
    "#### 1.1 Importacao das Bibliotecas"
   ]
  },
  {
   "cell_type": "code",
   "execution_count": 1,
   "metadata": {},
   "outputs": [],
   "source": [
    "import pandas as pd\n",
    "import numpy as np\n",
    "import statsmodels.formula.api as smf\n",
    "import plotly.express as px\n",
    "from pyspark.sql.window import Window\n",
    "import matplotlib.pyplot as plt\n",
    "from pyspark.sql import functions as F\n",
    "from pyspark.sql import SparkSession\n",
    "from plotly.subplots import make_subplots\n",
    "from pyspark.sql.functions import col, unix_timestamp\n",
    "from statsmodels.tsa.seasonal import STL\n",
    "from scipy.signal import find_peaks, detrend\n",
    "from scipy.fft import fft, fftfreq\n",
    "from statsmodels.tsa.stattools import adfuller\n",
    "import warnings\n",
    "from statsmodels.tsa.stattools import kpss\n",
    "from statsmodels.tsa.stattools import acf, pacf\n",
    "import plotly.graph_objects as go\n",
    "from statsmodels.tsa.arima.model import ARIMA\n",
    "from statsmodels.stats.diagnostic import acorr_ljungbox\n",
    "import scipy.stats as stats\n",
    "from statsmodels.tsa.seasonal import STL\n",
    "from src.visualizations.plot_btc import plot_btc_price_timeseries,plot_transformed_series, plot_seasonal_weekly_line, plot_rolling_diagnostics_overlay, plot_btc_boxplot_by_week_comparison, plot_btc_boxplot_by_week, plot_btc_boxplot_by_month_comparison, plot_bitcoin_seasonal_patterns, plot_intraday_price_by_hour,  plot_weekly_seasonality_all_years, plot_seasonal_daily_line, plot_stl_decomposition, plot_fft_spectrum, plot_btc_boxplot_by_dayofyear, plot_histogram_variacao_btc, plot_series_comparativa, plot_acf_diferenciada,plot_rolling_mean_std, plot_btc_boxplot_by_month, plot_acf_pacf, plot_arima_layers, plot_acf_residuos, plot_volatility_rolling,plot_residuos_analysis, plot_btc_candlestick_ohlc, plot_acf_pacf_returns, plot_btc_boxplot_by_hour, plot_log_return_analysis\n",
    "from src.features.stl_features import extract_stl_features\n",
    "from src.features.arima_features import extract_arima_features\n",
    "from src.features.regime_features import extract_regime_features\n",
    "from src.features.fft_features import extract_fft_features, extract_peak_features, extract_cycle_features, reconstruct_fft, extract_cyclic_features\n",
    "from scipy.stats import normaltest\n",
    "from statsmodels.tsa.seasonal import STL\n",
    "import pandas as pd\n",
    "from scipy.signal import find_peaks\n",
    "import numpy as np\n",
    "from hurst import compute_Hc\n",
    "from scipy.stats import median_abs_deviation\n",
    "import numpy as np\n",
    "from hurst import compute_Hc\n",
    "import numpy as np\n",
    "import pandas as pd\n",
    "from statsmodels.stats.diagnostic import het_arch\n",
    "import numpy as np\n",
    "import pandas as pd\n",
    "from scipy.stats import entropy\n"
   ]
  },
  {
   "cell_type": "markdown",
   "metadata": {},
   "source": [
    "#### 1.2 Inicializacao da Sessao Spark"
   ]
  },
  {
   "cell_type": "code",
   "execution_count": 2,
   "metadata": {},
   "outputs": [
    {
     "name": "stderr",
     "output_type": "stream",
     "text": [
      "25/04/09 12:34:21 WARN Utils: Your hostname, Mac.local resolves to a loopback address: 127.0.0.1; using 192.168.0.213 instead (on interface en0)\n",
      "25/04/09 12:34:21 WARN Utils: Set SPARK_LOCAL_IP if you need to bind to another address\n",
      "Setting default log level to \"WARN\".\n",
      "To adjust logging level use sc.setLogLevel(newLevel). For SparkR, use setLogLevel(newLevel).\n",
      "25/04/09 12:34:22 WARN NativeCodeLoader: Unable to load native-hadoop library for your platform... using builtin-java classes where applicable\n"
     ]
    },
    {
     "name": "stdout",
     "output_type": "stream",
     "text": [
      "\n",
      " SparkSession configurada com sucesso!\n"
     ]
    }
   ],
   "source": [
    "# INICIAR SESSÃO SPARK COM OTIMIZAÇÕES PARA O MAC M2 (8GB RAM)\n",
    "spark = SparkSession.builder \\\n",
    "    .appName(\"Bitcoin_Forecasting\") \\\n",
    "    .config(\"spark.sql.shuffle.partitions\", \"200\") \\\n",
    "    .config(\"spark.default.parallelism\", \"8\") \\\n",
    "    .config(\"spark.driver.memory\", \"6g\") \\\n",
    "    .config(\"spark.executor.memory\", \"5g\") \\\n",
    "    .config(\"spark.memory.fraction\", \"0.85\") \\\n",
    "    .config(\"spark.sql.files.maxPartitionBytes\", \"128MB\") \\\n",
    "    .config(\"spark.cleaner.referenceTracking.cleanCheckpoints\", \"false\") \\\n",
    "    .config(\"spark.executor.heartbeatInterval\", \"60000ms\") \\\n",
    "    .config(\"spark.task.cpus\", \"2\") \\\n",
    "    .config(\"spark.sql.execution.arrow.pyspark.enabled\", \"true\") \\\n",
    "    .master(\"local[*]\") \\\n",
    "    .getOrCreate()\n",
    "\n",
    "# REDUZIR LOGS PARA EVITAR POLUIÇÃO NO CONSOLE\n",
    "spark.sparkContext.setLogLevel(\"ERROR\")\n",
    "\n",
    "print(\"\\n SparkSession configurada com sucesso!\")"
   ]
  },
  {
   "cell_type": "markdown",
   "metadata": {},
   "source": [
    "#### 1.3 Carregamento dos Dados"
   ]
  },
  {
   "cell_type": "code",
   "execution_count": 3,
   "metadata": {},
   "outputs": [
    {
     "name": "stderr",
     "output_type": "stream",
     "text": [
      "                                                                                \r"
     ]
    }
   ],
   "source": [
    "PASTA_FEATURES = \"/Users/rodrigocampos/Library/Mobile Documents/com~apple~CloudDocs/bitcoin_features/features_temp/df_bitcoin_features.parquet\"\n",
    "df_features_temp = spark.read.parquet(PASTA_FEATURES)"
   ]
  },
  {
   "cell_type": "markdown",
   "metadata": {},
   "source": [
    "### 2. Auditoria e Validação da Série Temporal"
   ]
  },
  {
   "cell_type": "markdown",
   "metadata": {},
   "source": [
    "#### 2.1 Análise Estrutural do DataFrame\n"
   ]
  },
  {
   "cell_type": "markdown",
   "metadata": {},
   "source": [
    "##### 🔶 ₿ -----> Tipos de Dados"
   ]
  },
  {
   "cell_type": "code",
   "execution_count": 4,
   "metadata": {},
   "outputs": [
    {
     "name": "stdout",
     "output_type": "stream",
     "text": [
      "root\n",
      " |-- block_height: long (nullable = true)\n",
      " |-- block_timestamp: timestamp (nullable = true)\n",
      " |-- total_btc_moved_blocks: double (nullable = true)\n",
      " |-- num_transactions: long (nullable = true)\n",
      " |-- total_fees_tx: double (nullable = true)\n",
      " |-- avg_fee_per_tx: double (nullable = true)\n",
      " |-- avg_input_per_tx: double (nullable = true)\n",
      " |-- avg_output_per_tx: double (nullable = true)\n",
      " |-- avg_tx_size: double (nullable = true)\n",
      " |-- total_input_btc_addr: double (nullable = true)\n",
      " |-- total_output_btc_addr: double (nullable = true)\n",
      " |-- unique_addresses: long (nullable = true)\n",
      " |-- zero_balance_addresses: long (nullable = true)\n",
      " |-- multisig_wallets: long (nullable = true)\n",
      " |-- btc_price_usd: double (nullable = true)\n",
      " |-- year_block: integer (nullable = true)\n",
      " |-- month_block: integer (nullable = true)\n",
      "\n"
     ]
    }
   ],
   "source": [
    "df_features_temp.printSchema(  \n",
    ")"
   ]
  },
  {
   "cell_type": "markdown",
   "metadata": {},
   "source": [
    "##### 🔶 ₿ -----> Contagem de Linhas e Colunas"
   ]
  },
  {
   "cell_type": "code",
   "execution_count": 5,
   "metadata": {},
   "outputs": [
    {
     "name": "stdout",
     "output_type": "stream",
     "text": [
      "df_features_temp possui 1207 linhas e 17 colunas.\n"
     ]
    }
   ],
   "source": [
    "num_linhas = df_features_temp.count()  \n",
    "# --> Counts the total number of rows in the DataFrame / Conta o número total de linhas no DataFrame <--\n",
    "\n",
    "num_colunas = len(df_features_temp.columns)  \n",
    "# --> Counts the total number of columns in the DataFrame / Conta o número total de colunas no DataFrame <--\n",
    "\n",
    "print(f\"df_features_temp possui {num_linhas} linhas e {num_colunas} colunas.\")  \n",
    "# --> Prints the shape of the DataFrame / Imprime a forma (dimensão) do DataFrame <--"
   ]
  },
  {
   "cell_type": "markdown",
   "metadata": {},
   "source": [
    "##### 🔶 ₿ -----> Verificação de Valores Ausentes"
   ]
  },
  {
   "cell_type": "code",
   "execution_count": 6,
   "metadata": {},
   "outputs": [
    {
     "name": "stdout",
     "output_type": "stream",
     "text": [
      "+------------+---------------+\n",
      "|block_height|block_timestamp|\n",
      "+------------+---------------+\n",
      "+------------+---------------+\n",
      "\n",
      "Total de blocos com preço nulo: 0\n"
     ]
    }
   ],
   "source": [
    "nulos = df_features_temp.filter(df_features_temp[\"btc_price_usd\"].isNull())\n",
    "# --> Filters rows where 'btc_price_usd' is null / Filtra as linhas onde 'btc_price_usd' está nulo <--\n",
    "\n",
    "nulos.select(\"block_height\", \"block_timestamp\").show(truncate=False)\n",
    "# --> Shows block height and timestamp for null-price rows / Mostra a altura do bloco e o timestamp para os preços nulos <--\n",
    "\n",
    "print(\"Total de blocos com preço nulo:\", nulos.count())\n",
    "# --> Counts how many rows have missing prices / Conta quantas linhas têm preços ausentes <--"
   ]
  },
  {
   "cell_type": "markdown",
   "metadata": {},
   "source": [
    "##### 🔶 ₿ -----> Vizualização do Dataframe"
   ]
  },
  {
   "cell_type": "markdown",
   "metadata": {},
   "source": [
    "#### 2.2 Analise Temporal de Integridade"
   ]
  },
  {
   "cell_type": "markdown",
   "metadata": {},
   "source": [
    "##### 🔶 ₿ -----> Primeira e Última Data (block_timestamp)"
   ]
  },
  {
   "cell_type": "code",
   "execution_count": 7,
   "metadata": {},
   "outputs": [
    {
     "name": "stdout",
     "output_type": "stream",
     "text": [
      "+-------------------+-------------------+\n",
      "|Min block_timestamp|Max block_timestamp|\n",
      "+-------------------+-------------------+\n",
      "|2025-04-01 00:07:27|2025-04-08 18:29:21|\n",
      "+-------------------+-------------------+\n",
      "\n"
     ]
    }
   ],
   "source": [
    "# Calcular o timestamp mínimo e máximo\n",
    "df_features_temp.select(\n",
    "    F.min(\"block_timestamp\").alias(\"Min block_timestamp\"),\n",
    "    F.max(\"block_timestamp\").alias(\"Max block_timestamp\")\n",
    ").show(truncate=False)\n",
    "# --> Selects and displays the minimum and maximum timestamps in the 'block_timestamp' column / \n",
    "# --> Seleciona e exibe os timestamps mínimo e máximo da coluna 'block_timestamp' <--"
   ]
  },
  {
   "cell_type": "markdown",
   "metadata": {},
   "source": [
    "##### 🔶 ₿ -----> Primeiro e Último Bloco (block_number)"
   ]
  },
  {
   "cell_type": "code",
   "execution_count": 8,
   "metadata": {},
   "outputs": [
    {
     "name": "stdout",
     "output_type": "stream",
     "text": [
      "Primeiro bloco salvo: 890325\n",
      "Último bloco salvo: 891531\n",
      "1207\n"
     ]
    }
   ],
   "source": [
    "primeiro_bloco = df_features_temp.select(\"block_height\").orderBy(\"block_height\").first()[0]\n",
    "# --> Gets the smallest block height (first block) from the DataFrame / \n",
    "# --> Obtém a menor altura de bloco (primeiro bloco) do DataFrame <--\n",
    "\n",
    "ultimo_bloco = df_features_temp.select(\"block_height\").orderBy(F.desc(\"block_height\")).first()[0]\n",
    "# --> Gets the largest block height (last block) from the DataFrame / \n",
    "# --> Obtém a maior altura de bloco (último bloco) do DataFrame <--\n",
    "\n",
    "print(f\"Primeiro bloco salvo: {primeiro_bloco}\")\n",
    "print(f\"Último bloco salvo: {ultimo_bloco}\")\n",
    "# --> Prints the range of saved blocks / Imprime o intervalo de blocos salvos <--\n",
    "\n",
    "print(df_features_temp.select(\"block_height\").distinct().count())\n",
    "# --> Counts the number of distinct block heights in the DataFrame / \n",
    "# --> Conta o número de alturas de blocos distintas no DataFrame <--"
   ]
  },
  {
   "cell_type": "markdown",
   "metadata": {},
   "source": [
    "##### 🔶 ₿ -----> Gaps de Blocos"
   ]
  },
  {
   "cell_type": "code",
   "execution_count": 9,
   "metadata": {},
   "outputs": [
    {
     "name": "stdout",
     "output_type": "stream",
     "text": [
      "+-----------------+------------+\n",
      "|prev_block_height|block_height|\n",
      "+-----------------+------------+\n",
      "+-----------------+------------+\n",
      "\n"
     ]
    }
   ],
   "source": [
    "# Comparar cada bloco com o anterior\n",
    "\n",
    "windowSpec = Window.orderBy(\"block_height\")\n",
    "# --> Define a window sorted by block height / Define uma janela ordenada pela altura dos blocos <--\n",
    "\n",
    "df_blocks = df_features_temp.withColumn(\"prev_block_height\", F.lag(\"block_height\").over(windowSpec))\n",
    "# --> Creates a column with the previous block height / Cria uma coluna com a altura do bloco anterior <--\n",
    "\n",
    "df_blocks_filtered = df_blocks.select(\"block_height\", \"prev_block_height\")\n",
    "# --> Select only relevant columns before checking for gaps / Seleciona apenas as colunas relevantes antes de verificar gaps <--\n",
    "\n",
    "df_gaps = df_blocks_filtered.withColumn(\"gap_detected\", (col(\"block_height\") - col(\"prev_block_height\")) > 1)\n",
    "# --> Creates a boolean column that marks if a gap exists between blocks / Cria uma coluna booleana que marca se há gap entre os blocos <--\n",
    "\n",
    "df_gaps_filtered = df_gaps.filter(col(\"gap_detected\") == True)\n",
    "# --> Filters only the rows where a gap was detected / Filtra apenas as linhas onde um gap foi detectado <--\n",
    "\n",
    "df_gaps_filtered.select(\"prev_block_height\", \"block_height\").show()\n",
    "# --> Displays the previous and current block height where a gap occurred / Mostra os blocos com gaps detectados <--"
   ]
  },
  {
   "cell_type": "markdown",
   "metadata": {},
   "source": [
    "##### 🔶 ₿ -----> Gaps de Tempo"
   ]
  },
  {
   "cell_type": "code",
   "execution_count": 10,
   "metadata": {},
   "outputs": [
    {
     "name": "stdout",
     "output_type": "stream",
     "text": [
      "+--------------+---------------+--------+------------+\n",
      "|prev_timestamp|block_timestamp|gap_days|block_height|\n",
      "+--------------+---------------+--------+------------+\n",
      "+--------------+---------------+--------+------------+\n",
      "\n"
     ]
    }
   ],
   "source": [
    "# Janela ordenada por block_height\n",
    "windowSpec = Window.orderBy(\"block_height\")\n",
    "# --> Define a window ordered by block height / Define uma janela ordenada pela altura dos blocos <--\n",
    "\n",
    "df_with_prev_ts = df_features_temp.withColumn(\n",
    "    \"prev_timestamp\", F.lag(\"block_timestamp\").over(windowSpec)\n",
    ")\n",
    "# --> Creates a new column with the previous block's timestamp / Cria uma nova coluna com o timestamp do bloco anterior <--\n",
    "\n",
    "df_with_diff_days = df_with_prev_ts.withColumn(\n",
    "    \"gap_days\",\n",
    "    (F.unix_timestamp(\"block_timestamp\") - F.unix_timestamp(\"prev_timestamp\")) / (60 * 60 * 24)\n",
    ")\n",
    "# --> Calculates the time difference in days between consecutive blocks / Calcula a diferença em dias entre blocos consecutivos <--\n",
    "\n",
    "df_with_day_gaps = df_with_diff_days.withColumn(\n",
    "    \"gap_detected_days\", col(\"gap_days\") > 1\n",
    ")\n",
    "# --> Creates a boolean column to flag gaps greater than 1 day / Cria uma coluna booleana para marcar gaps maiores que 1 dia <--\n",
    "\n",
    "df_day_gaps = df_with_day_gaps.filter(col(\"gap_detected_days\") == True)\n",
    "# --> Filters only rows with time gaps larger than 1 day / Filtra apenas as linhas com gaps de tempo maiores que 1 dia <--\n",
    "\n",
    "df_day_gaps.select(\"prev_timestamp\", \"block_timestamp\", \"gap_days\", \"block_height\").show(truncate=False)\n",
    "# --> Displays previous and current timestamps, gap in days, and block height / Exibe timestamps anterior e atual, gap em dias e altura do bloco <--"
   ]
  },
  {
   "cell_type": "markdown",
   "metadata": {},
   "source": [
    "### 3. Análise Exploratória da Série Temporal (EDA)"
   ]
  },
  {
   "cell_type": "markdown",
   "metadata": {},
   "source": [
    "#### 3.1 Transformacao Temporal"
   ]
  },
  {
   "cell_type": "markdown",
   "metadata": {},
   "source": [
    "##### 🔶 ₿ -----> Conversão de Timestamps"
   ]
  },
  {
   "cell_type": "code",
   "execution_count": 11,
   "metadata": {},
   "outputs": [],
   "source": [
    "df_time = df_features_temp.toPandas()\n",
    "# --> Converte o DataFrame PySpark para Pandas / Converts PySpark DataFrame to Pandas <--\n",
    "\n",
    "df_time[\"block_timestamp\"] = pd.to_datetime(df_time[\"block_timestamp\"])\n",
    "# --> Garante que o campo de tempo seja do tipo datetime / Ensures timestamp field is datetime type <--"
   ]
  },
  {
   "cell_type": "markdown",
   "metadata": {},
   "source": [
    "##### 🔶 ₿ -----> Definição de Índice Temporal"
   ]
  },
  {
   "cell_type": "code",
   "execution_count": 12,
   "metadata": {},
   "outputs": [
    {
     "name": "stdout",
     "output_type": "stream",
     "text": [
      "DatetimeIndex(['2025-04-01 00:07:27', '2025-04-01 00:11:52',\n",
      "               '2025-04-01 00:14:51', '2025-04-01 00:26:49',\n",
      "               '2025-04-01 00:48:10', '2025-04-01 00:59:44',\n",
      "               '2025-04-01 01:33:37', '2025-04-01 01:43:28',\n",
      "               '2025-04-01 01:54:43', '2025-04-01 02:03:08',\n",
      "               ...\n",
      "               '2025-04-08 16:55:48', '2025-04-08 16:56:03',\n",
      "               '2025-04-08 16:57:07', '2025-04-08 17:00:28',\n",
      "               '2025-04-08 17:20:35', '2025-04-08 17:49:02',\n",
      "               '2025-04-08 17:50:08', '2025-04-08 17:50:29',\n",
      "               '2025-04-08 17:52:13', '2025-04-08 18:29:21'],\n",
      "              dtype='datetime64[us]', name='block_timestamp', length=1207, freq=None)\n"
     ]
    }
   ],
   "source": [
    "df_time_index = df_time.sort_values(\"block_timestamp\")\n",
    "# --> Ordena o DataFrame pelo tempo / Sorts the DataFrame by timestamp <--\n",
    "\n",
    "df_time_index.set_index('block_timestamp', inplace=True)\n",
    "# --> Define o índice como timestamp (necessário para o resample) / Sets timestamp as index (needed for resample) <--\n",
    "\n",
    "print(df_time_index.index)\n",
    "# --> Mostra o novo índice temporal / Displays new datetime index <--"
   ]
  },
  {
   "cell_type": "code",
   "execution_count": 13,
   "metadata": {},
   "outputs": [
    {
     "data": {
      "text/plain": [
       "block_timestamp\n",
       "0 days 00:00:40    6\n",
       "0 days 00:05:05    5\n",
       "0 days 00:00:24    5\n",
       "0 days 00:09:24    5\n",
       "0 days 00:09:19    5\n",
       "                  ..\n",
       "0 days 00:12:33    1\n",
       "0 days 00:30:06    1\n",
       "0 days 00:41:14    1\n",
       "0 days 00:21:33    1\n",
       "0 days 00:37:08    1\n",
       "Name: count, Length: 771, dtype: int64"
      ]
     },
     "execution_count": 13,
     "metadata": {},
     "output_type": "execute_result"
    }
   ],
   "source": [
    "df_time_index.index.to_series().diff().value_counts()\n",
    "# --> Calcula a diferença entre índices consecutivos e conta a frequência de cada intervalo /\n",
    "# --> Computes the difference between consecutive index entries and counts frequency of each interval <--"
   ]
  },
  {
   "cell_type": "markdown",
   "metadata": {},
   "source": [
    "##### 🔶 ₿ -----> Resampling"
   ]
  },
  {
   "cell_type": "code",
   "execution_count": 14,
   "metadata": {},
   "outputs": [],
   "source": [
    "df_time_index = df_time_index.resample('h').mean()\n",
    "# --> Reamostra os dados com frequência horária, calculando a média por hora / Resamples data to hourly frequency, taking the mean per hour <--"
   ]
  },
  {
   "cell_type": "markdown",
   "metadata": {},
   "source": [
    "### 3.2 Visualizações Temporais"
   ]
  },
  {
   "cell_type": "markdown",
   "metadata": {},
   "source": [
    "##### 🔶 ₿ -----> Série Temporal do Preço (USD)"
   ]
  },
  {
   "cell_type": "code",
   "execution_count": 15,
   "metadata": {},
   "outputs": [],
   "source": [
    "image_path = \"/Users/rodrigocampos/Documents/crypto_btc/src/visualizations/BTC_black.png\""
   ]
  },
  {
   "cell_type": "code",
   "execution_count": 16,
   "metadata": {},
   "outputs": [
    {
     "data": {
      "application/vnd.plotly.v1+json": {
       "config": {
        "plotlyServerURL": "https://plot.ly"
       },
       "data": [
        {
         "fill": "tozeroy",
         "fillcolor": "rgba(229, 165, 0, 0.1)",
         "hovertemplate": "%{x|%d/%m/%Y %H:%M}<br>Preço BTC: %{y:$,.2f}<extra></extra>",
         "legendgroup": "",
         "line": {
          "color": "#E57C1F",
          "dash": "solid",
          "width": 1.5
         },
         "marker": {
          "symbol": "circle"
         },
         "mode": "lines",
         "name": "",
         "orientation": "v",
         "showlegend": false,
         "type": "scatter",
         "x": [
          "2025-04-01T00:00:00.000000",
          "2025-04-01T01:00:00.000000",
          "2025-04-01T02:00:00.000000",
          "2025-04-01T03:00:00.000000",
          "2025-04-01T04:00:00.000000",
          "2025-04-01T05:00:00.000000",
          "2025-04-01T06:00:00.000000",
          "2025-04-01T07:00:00.000000",
          "2025-04-01T08:00:00.000000",
          "2025-04-01T09:00:00.000000",
          "2025-04-01T10:00:00.000000",
          "2025-04-01T11:00:00.000000",
          "2025-04-01T12:00:00.000000",
          "2025-04-01T13:00:00.000000",
          "2025-04-01T14:00:00.000000",
          "2025-04-01T15:00:00.000000",
          "2025-04-01T16:00:00.000000",
          "2025-04-01T17:00:00.000000",
          "2025-04-01T18:00:00.000000",
          "2025-04-01T19:00:00.000000",
          "2025-04-01T20:00:00.000000",
          "2025-04-01T21:00:00.000000",
          "2025-04-01T22:00:00.000000",
          "2025-04-01T23:00:00.000000",
          "2025-04-02T00:00:00.000000",
          "2025-04-02T01:00:00.000000",
          "2025-04-02T02:00:00.000000",
          "2025-04-02T03:00:00.000000",
          "2025-04-02T04:00:00.000000",
          "2025-04-02T05:00:00.000000",
          "2025-04-02T06:00:00.000000",
          "2025-04-02T07:00:00.000000",
          "2025-04-02T08:00:00.000000",
          "2025-04-02T09:00:00.000000",
          "2025-04-02T10:00:00.000000",
          "2025-04-02T11:00:00.000000",
          "2025-04-02T12:00:00.000000",
          "2025-04-02T13:00:00.000000",
          "2025-04-02T14:00:00.000000",
          "2025-04-02T15:00:00.000000",
          "2025-04-02T16:00:00.000000",
          "2025-04-02T17:00:00.000000",
          "2025-04-02T18:00:00.000000",
          "2025-04-02T19:00:00.000000",
          "2025-04-02T20:00:00.000000",
          "2025-04-02T21:00:00.000000",
          "2025-04-02T22:00:00.000000",
          "2025-04-02T23:00:00.000000",
          "2025-04-03T00:00:00.000000",
          "2025-04-03T01:00:00.000000",
          "2025-04-03T02:00:00.000000",
          "2025-04-03T03:00:00.000000",
          "2025-04-03T04:00:00.000000",
          "2025-04-03T05:00:00.000000",
          "2025-04-03T06:00:00.000000",
          "2025-04-03T07:00:00.000000",
          "2025-04-03T08:00:00.000000",
          "2025-04-03T09:00:00.000000",
          "2025-04-03T10:00:00.000000",
          "2025-04-03T11:00:00.000000",
          "2025-04-03T12:00:00.000000",
          "2025-04-03T13:00:00.000000",
          "2025-04-03T14:00:00.000000",
          "2025-04-03T15:00:00.000000",
          "2025-04-03T16:00:00.000000",
          "2025-04-03T17:00:00.000000",
          "2025-04-03T18:00:00.000000",
          "2025-04-03T19:00:00.000000",
          "2025-04-03T20:00:00.000000",
          "2025-04-03T21:00:00.000000",
          "2025-04-03T22:00:00.000000",
          "2025-04-03T23:00:00.000000",
          "2025-04-04T00:00:00.000000",
          "2025-04-04T01:00:00.000000",
          "2025-04-04T02:00:00.000000",
          "2025-04-04T03:00:00.000000",
          "2025-04-04T04:00:00.000000",
          "2025-04-04T05:00:00.000000",
          "2025-04-04T06:00:00.000000",
          "2025-04-04T07:00:00.000000",
          "2025-04-04T08:00:00.000000",
          "2025-04-04T09:00:00.000000",
          "2025-04-04T10:00:00.000000",
          "2025-04-04T11:00:00.000000",
          "2025-04-04T12:00:00.000000",
          "2025-04-04T13:00:00.000000",
          "2025-04-04T14:00:00.000000",
          "2025-04-04T15:00:00.000000",
          "2025-04-04T16:00:00.000000",
          "2025-04-04T17:00:00.000000",
          "2025-04-04T18:00:00.000000",
          "2025-04-04T19:00:00.000000",
          "2025-04-04T20:00:00.000000",
          "2025-04-04T21:00:00.000000",
          "2025-04-04T22:00:00.000000",
          "2025-04-04T23:00:00.000000",
          "2025-04-05T00:00:00.000000",
          "2025-04-05T01:00:00.000000",
          "2025-04-05T02:00:00.000000",
          "2025-04-05T03:00:00.000000",
          "2025-04-05T04:00:00.000000",
          "2025-04-05T05:00:00.000000",
          "2025-04-05T06:00:00.000000",
          "2025-04-05T07:00:00.000000",
          "2025-04-05T08:00:00.000000",
          "2025-04-05T09:00:00.000000",
          "2025-04-05T10:00:00.000000",
          "2025-04-05T11:00:00.000000",
          "2025-04-05T12:00:00.000000",
          "2025-04-05T13:00:00.000000",
          "2025-04-05T14:00:00.000000",
          "2025-04-05T15:00:00.000000",
          "2025-04-05T16:00:00.000000",
          "2025-04-05T17:00:00.000000",
          "2025-04-05T18:00:00.000000",
          "2025-04-05T19:00:00.000000",
          "2025-04-05T20:00:00.000000",
          "2025-04-05T21:00:00.000000",
          "2025-04-05T22:00:00.000000",
          "2025-04-05T23:00:00.000000",
          "2025-04-06T00:00:00.000000",
          "2025-04-06T01:00:00.000000",
          "2025-04-06T02:00:00.000000",
          "2025-04-06T03:00:00.000000",
          "2025-04-06T04:00:00.000000",
          "2025-04-06T05:00:00.000000",
          "2025-04-06T06:00:00.000000",
          "2025-04-06T07:00:00.000000",
          "2025-04-06T08:00:00.000000",
          "2025-04-06T09:00:00.000000",
          "2025-04-06T10:00:00.000000",
          "2025-04-06T11:00:00.000000",
          "2025-04-06T12:00:00.000000",
          "2025-04-06T13:00:00.000000",
          "2025-04-06T14:00:00.000000",
          "2025-04-06T15:00:00.000000",
          "2025-04-06T16:00:00.000000",
          "2025-04-06T17:00:00.000000",
          "2025-04-06T18:00:00.000000",
          "2025-04-06T19:00:00.000000",
          "2025-04-06T20:00:00.000000",
          "2025-04-06T21:00:00.000000",
          "2025-04-06T22:00:00.000000",
          "2025-04-06T23:00:00.000000",
          "2025-04-07T00:00:00.000000",
          "2025-04-07T01:00:00.000000",
          "2025-04-07T02:00:00.000000",
          "2025-04-07T03:00:00.000000",
          "2025-04-07T04:00:00.000000",
          "2025-04-07T05:00:00.000000",
          "2025-04-07T06:00:00.000000",
          "2025-04-07T07:00:00.000000",
          "2025-04-07T08:00:00.000000",
          "2025-04-07T09:00:00.000000",
          "2025-04-07T10:00:00.000000",
          "2025-04-07T11:00:00.000000",
          "2025-04-07T12:00:00.000000",
          "2025-04-07T13:00:00.000000",
          "2025-04-07T14:00:00.000000",
          "2025-04-07T15:00:00.000000",
          "2025-04-07T16:00:00.000000",
          "2025-04-07T17:00:00.000000",
          "2025-04-07T18:00:00.000000",
          "2025-04-07T19:00:00.000000",
          "2025-04-07T20:00:00.000000",
          "2025-04-07T21:00:00.000000",
          "2025-04-07T22:00:00.000000",
          "2025-04-07T23:00:00.000000",
          "2025-04-08T00:00:00.000000",
          "2025-04-08T01:00:00.000000",
          "2025-04-08T02:00:00.000000",
          "2025-04-08T03:00:00.000000",
          "2025-04-08T04:00:00.000000",
          "2025-04-08T05:00:00.000000",
          "2025-04-08T06:00:00.000000",
          "2025-04-08T07:00:00.000000",
          "2025-04-08T08:00:00.000000",
          "2025-04-08T09:00:00.000000",
          "2025-04-08T10:00:00.000000",
          "2025-04-08T11:00:00.000000",
          "2025-04-08T12:00:00.000000",
          "2025-04-08T13:00:00.000000",
          "2025-04-08T14:00:00.000000",
          "2025-04-08T15:00:00.000000",
          "2025-04-08T16:00:00.000000",
          "2025-04-08T17:00:00.000000",
          "2025-04-08T18:00:00.000000"
         ],
         "xaxis": "x",
         "y": {
          "bdata": "hetRuO4s9EB7FK5HHTD0QEjhehSWSPRAXI/C9YBA9EAAAAAAFEf0QFK4HoU/Q/RACtejcM1f9EC4HoXrIWD0QPYoXI/+iPRAuB6F6+GX9ECF61G4Zo30QB+F61EcffRA9ihcj8Jp9ECuR+F6kG30QK5H4XpYjvRASOF6FIrS9EAAAAAAQMj0QArXo3AVyPRAj8L1KPjH9EAK16Nwsb30QAAAAADYz/RAKVyPwgXO9EApXI/Cxcb0QMP1KFxvy/RAFK5H4Wq+9EAK16NwXcr0QAAAAABEr/RA7FG4HrGk9EB7FK5HDaj0QI/C9SjciPRAw/UoXE+K9EAzMzMzt5z0QJqZmZkVrPRAH4XrUeDB9ECPwvUozLf0QOxRuB5NpfRA4XoUrq/D9EBI4XoUdtD0QJqZmZlF9/RA16NwPZ4v9UB7FK5HSUH1QNejcD36JfVA4XoUrvsQ9UBSuB6F2zj1QB+F61HM6PRASOF6FPa29EDhehSunzb0QHsUrkepI/RArkfhemBQ9EBmZmZmznL0QBSuR+HWcvRA9ihcj2ph9EAK16NwVWb0QGZmZmaeWPRAPQrXo7BG9EBxPQrXA2D0QHsUrkd1bvRACtejcBVh9ECuR+F6aFH0QArXo3DxR/RA7FG4HnEA9ED2KFyPihn0QHE9CtcX5fNAexSuR4UF9EBxPQrX8/fzQM3MzMxE+PNA4XoUrn8I9EBI4XoUcgH0QFK4HoXfGPRAmpmZmRkw9EBxPQrX2zD0QM3MzMxsTfRAPQrXozxE9EApXI/CqS70QKRwPQrXO/RAw/UoXHM29EDhehSubzD0QFK4HoUnTvRAw/UoXCtF9ECamZmZ6YD0QB+F61GEm/RA4XoUrhOm9EDNzMzM5Cf0QJqZmZl5LvRAj8L1KJA59EBcj8L1mFf0QJqZmZk9JvRA4XoUroM49EDNzMzMYFn0QLgehevZnPRAZmZmZsZ+9EC4HoXrhYD0QAAAAAAYivRA4XoUrquL9EDNzMzM8IP0QMP1KFxDefRAw/UoXP9y9EB7FK5HCX/0QClcj8JdfvRAPQrXo2Bp9EBSuB6Fp2z0QDMzMzMXbfRAj8L1KGhf9ECuR+F6NGL0QEjhehRGYvRAH4XrUdx19EAAAAAAUGr0QI/C9Si4XvRAj8L1KFRT9ECkcD0KgzL0QHE9CtfHPPRAcT0K17Mp9EAUrkfhwjH0QDMzMzPPOfRAUrgehYNE9EC4HoXrzTj0QMP1KFyDRvRAmpmZmc089EDD9Shcl030QLgehev1YvRAXI/C9XBi9EBSuB6FC130QJqZmZmZVPRA9ihcjyZX9EAzMzMzB2H0QD0K16PwXfRACtejcIFJ9EB7FK5HYUP0QKRwPQrzQvRAAAAAAFxF9ECF61G4cjj0QPYoXI9KN/RAH4XrUfQt9EAzMzMz9xX0QHsUrkdFLPRAFa5H4b4l9EAAAAAA2AH0QOF6FK6DuPNASOF6FK5L80BxPQrXy23zQFK4HoUHPvNAAAAAAHhD80DsUbgesQnzQOtRuB7ZIfNAW4/C9Rwc80DXo3A9pk/zQJqZmZlhI/NAAAAAAMz18kDNzMzMpMfyQI/C9SjgxPJASOF6FB4+8kCamZmZHVLyQB+F61HYmvJA9ihcj4ac8kBxPQrXK8nyQFyPwvUYtvJAj8L1KNTd8kCF61G4Sh7zQFyPwvWkSfNAw/UoXJMm80Bcj8L1uOTyQJqZmZl5S/NA61G4Hlkn80DXo3A9ChDzQLgehetJRPNAZmZmZt5V80D2KFyPFoTzQFyPwvVwUvNAuB6F611J80B7FK5HIazzQJqZmZn1gvNAhetRuPqA80AzMzMzh5nzQArXo3B5fvNAPQrXo4Bk80DD9Shcl2bzQArXo3AVUvNAPQrXo1BC80AK16NwaUjzQJqZmZk9hfNA7FG4HhF880BSuB6F03/zQOF6FK7fJvNAw/UoXFMo80AAAAAA/OLyQI/C9SiQv/JApHA9CjvW8kA=",
          "dtype": "f8"
         },
         "yaxis": "y"
        }
       ],
       "layout": {
        "height": 600,
        "images": [
         {
          "sizex": 0.15,
          "sizey": 0.15,
          "source": "/Users/rodrigocampos/Documents/crypto_btc/src/visualizations/BTC_black.png",
          "x": 0.008,
          "xanchor": "left",
          "xref": "paper",
          "y": 1.1,
          "yanchor": "top",
          "yref": "paper"
         }
        ],
        "legend": {
         "tracegroupgap": 0
        },
        "margin": {
         "t": 60
        },
        "showlegend": false,
        "template": {
         "data": {
          "bar": [
           {
            "error_x": {
             "color": "#f2f5fa"
            },
            "error_y": {
             "color": "#f2f5fa"
            },
            "marker": {
             "line": {
              "color": "rgb(17,17,17)",
              "width": 0.5
             },
             "pattern": {
              "fillmode": "overlay",
              "size": 10,
              "solidity": 0.2
             }
            },
            "type": "bar"
           }
          ],
          "barpolar": [
           {
            "marker": {
             "line": {
              "color": "rgb(17,17,17)",
              "width": 0.5
             },
             "pattern": {
              "fillmode": "overlay",
              "size": 10,
              "solidity": 0.2
             }
            },
            "type": "barpolar"
           }
          ],
          "carpet": [
           {
            "aaxis": {
             "endlinecolor": "#A2B1C6",
             "gridcolor": "#506784",
             "linecolor": "#506784",
             "minorgridcolor": "#506784",
             "startlinecolor": "#A2B1C6"
            },
            "baxis": {
             "endlinecolor": "#A2B1C6",
             "gridcolor": "#506784",
             "linecolor": "#506784",
             "minorgridcolor": "#506784",
             "startlinecolor": "#A2B1C6"
            },
            "type": "carpet"
           }
          ],
          "choropleth": [
           {
            "colorbar": {
             "outlinewidth": 0,
             "ticks": ""
            },
            "type": "choropleth"
           }
          ],
          "contour": [
           {
            "colorbar": {
             "outlinewidth": 0,
             "ticks": ""
            },
            "colorscale": [
             [
              0,
              "#0d0887"
             ],
             [
              0.1111111111111111,
              "#46039f"
             ],
             [
              0.2222222222222222,
              "#7201a8"
             ],
             [
              0.3333333333333333,
              "#9c179e"
             ],
             [
              0.4444444444444444,
              "#bd3786"
             ],
             [
              0.5555555555555556,
              "#d8576b"
             ],
             [
              0.6666666666666666,
              "#ed7953"
             ],
             [
              0.7777777777777778,
              "#fb9f3a"
             ],
             [
              0.8888888888888888,
              "#fdca26"
             ],
             [
              1,
              "#f0f921"
             ]
            ],
            "type": "contour"
           }
          ],
          "contourcarpet": [
           {
            "colorbar": {
             "outlinewidth": 0,
             "ticks": ""
            },
            "type": "contourcarpet"
           }
          ],
          "heatmap": [
           {
            "colorbar": {
             "outlinewidth": 0,
             "ticks": ""
            },
            "colorscale": [
             [
              0,
              "#0d0887"
             ],
             [
              0.1111111111111111,
              "#46039f"
             ],
             [
              0.2222222222222222,
              "#7201a8"
             ],
             [
              0.3333333333333333,
              "#9c179e"
             ],
             [
              0.4444444444444444,
              "#bd3786"
             ],
             [
              0.5555555555555556,
              "#d8576b"
             ],
             [
              0.6666666666666666,
              "#ed7953"
             ],
             [
              0.7777777777777778,
              "#fb9f3a"
             ],
             [
              0.8888888888888888,
              "#fdca26"
             ],
             [
              1,
              "#f0f921"
             ]
            ],
            "type": "heatmap"
           }
          ],
          "histogram": [
           {
            "marker": {
             "pattern": {
              "fillmode": "overlay",
              "size": 10,
              "solidity": 0.2
             }
            },
            "type": "histogram"
           }
          ],
          "histogram2d": [
           {
            "colorbar": {
             "outlinewidth": 0,
             "ticks": ""
            },
            "colorscale": [
             [
              0,
              "#0d0887"
             ],
             [
              0.1111111111111111,
              "#46039f"
             ],
             [
              0.2222222222222222,
              "#7201a8"
             ],
             [
              0.3333333333333333,
              "#9c179e"
             ],
             [
              0.4444444444444444,
              "#bd3786"
             ],
             [
              0.5555555555555556,
              "#d8576b"
             ],
             [
              0.6666666666666666,
              "#ed7953"
             ],
             [
              0.7777777777777778,
              "#fb9f3a"
             ],
             [
              0.8888888888888888,
              "#fdca26"
             ],
             [
              1,
              "#f0f921"
             ]
            ],
            "type": "histogram2d"
           }
          ],
          "histogram2dcontour": [
           {
            "colorbar": {
             "outlinewidth": 0,
             "ticks": ""
            },
            "colorscale": [
             [
              0,
              "#0d0887"
             ],
             [
              0.1111111111111111,
              "#46039f"
             ],
             [
              0.2222222222222222,
              "#7201a8"
             ],
             [
              0.3333333333333333,
              "#9c179e"
             ],
             [
              0.4444444444444444,
              "#bd3786"
             ],
             [
              0.5555555555555556,
              "#d8576b"
             ],
             [
              0.6666666666666666,
              "#ed7953"
             ],
             [
              0.7777777777777778,
              "#fb9f3a"
             ],
             [
              0.8888888888888888,
              "#fdca26"
             ],
             [
              1,
              "#f0f921"
             ]
            ],
            "type": "histogram2dcontour"
           }
          ],
          "mesh3d": [
           {
            "colorbar": {
             "outlinewidth": 0,
             "ticks": ""
            },
            "type": "mesh3d"
           }
          ],
          "parcoords": [
           {
            "line": {
             "colorbar": {
              "outlinewidth": 0,
              "ticks": ""
             }
            },
            "type": "parcoords"
           }
          ],
          "pie": [
           {
            "automargin": true,
            "type": "pie"
           }
          ],
          "scatter": [
           {
            "marker": {
             "line": {
              "color": "#283442"
             }
            },
            "type": "scatter"
           }
          ],
          "scatter3d": [
           {
            "line": {
             "colorbar": {
              "outlinewidth": 0,
              "ticks": ""
             }
            },
            "marker": {
             "colorbar": {
              "outlinewidth": 0,
              "ticks": ""
             }
            },
            "type": "scatter3d"
           }
          ],
          "scattercarpet": [
           {
            "marker": {
             "colorbar": {
              "outlinewidth": 0,
              "ticks": ""
             }
            },
            "type": "scattercarpet"
           }
          ],
          "scattergeo": [
           {
            "marker": {
             "colorbar": {
              "outlinewidth": 0,
              "ticks": ""
             }
            },
            "type": "scattergeo"
           }
          ],
          "scattergl": [
           {
            "marker": {
             "line": {
              "color": "#283442"
             }
            },
            "type": "scattergl"
           }
          ],
          "scattermap": [
           {
            "marker": {
             "colorbar": {
              "outlinewidth": 0,
              "ticks": ""
             }
            },
            "type": "scattermap"
           }
          ],
          "scattermapbox": [
           {
            "marker": {
             "colorbar": {
              "outlinewidth": 0,
              "ticks": ""
             }
            },
            "type": "scattermapbox"
           }
          ],
          "scatterpolar": [
           {
            "marker": {
             "colorbar": {
              "outlinewidth": 0,
              "ticks": ""
             }
            },
            "type": "scatterpolar"
           }
          ],
          "scatterpolargl": [
           {
            "marker": {
             "colorbar": {
              "outlinewidth": 0,
              "ticks": ""
             }
            },
            "type": "scatterpolargl"
           }
          ],
          "scatterternary": [
           {
            "marker": {
             "colorbar": {
              "outlinewidth": 0,
              "ticks": ""
             }
            },
            "type": "scatterternary"
           }
          ],
          "surface": [
           {
            "colorbar": {
             "outlinewidth": 0,
             "ticks": ""
            },
            "colorscale": [
             [
              0,
              "#0d0887"
             ],
             [
              0.1111111111111111,
              "#46039f"
             ],
             [
              0.2222222222222222,
              "#7201a8"
             ],
             [
              0.3333333333333333,
              "#9c179e"
             ],
             [
              0.4444444444444444,
              "#bd3786"
             ],
             [
              0.5555555555555556,
              "#d8576b"
             ],
             [
              0.6666666666666666,
              "#ed7953"
             ],
             [
              0.7777777777777778,
              "#fb9f3a"
             ],
             [
              0.8888888888888888,
              "#fdca26"
             ],
             [
              1,
              "#f0f921"
             ]
            ],
            "type": "surface"
           }
          ],
          "table": [
           {
            "cells": {
             "fill": {
              "color": "#506784"
             },
             "line": {
              "color": "rgb(17,17,17)"
             }
            },
            "header": {
             "fill": {
              "color": "#2a3f5f"
             },
             "line": {
              "color": "rgb(17,17,17)"
             }
            },
            "type": "table"
           }
          ]
         },
         "layout": {
          "annotationdefaults": {
           "arrowcolor": "#f2f5fa",
           "arrowhead": 0,
           "arrowwidth": 1
          },
          "autotypenumbers": "strict",
          "coloraxis": {
           "colorbar": {
            "outlinewidth": 0,
            "ticks": ""
           }
          },
          "colorscale": {
           "diverging": [
            [
             0,
             "#8e0152"
            ],
            [
             0.1,
             "#c51b7d"
            ],
            [
             0.2,
             "#de77ae"
            ],
            [
             0.3,
             "#f1b6da"
            ],
            [
             0.4,
             "#fde0ef"
            ],
            [
             0.5,
             "#f7f7f7"
            ],
            [
             0.6,
             "#e6f5d0"
            ],
            [
             0.7,
             "#b8e186"
            ],
            [
             0.8,
             "#7fbc41"
            ],
            [
             0.9,
             "#4d9221"
            ],
            [
             1,
             "#276419"
            ]
           ],
           "sequential": [
            [
             0,
             "#0d0887"
            ],
            [
             0.1111111111111111,
             "#46039f"
            ],
            [
             0.2222222222222222,
             "#7201a8"
            ],
            [
             0.3333333333333333,
             "#9c179e"
            ],
            [
             0.4444444444444444,
             "#bd3786"
            ],
            [
             0.5555555555555556,
             "#d8576b"
            ],
            [
             0.6666666666666666,
             "#ed7953"
            ],
            [
             0.7777777777777778,
             "#fb9f3a"
            ],
            [
             0.8888888888888888,
             "#fdca26"
            ],
            [
             1,
             "#f0f921"
            ]
           ],
           "sequentialminus": [
            [
             0,
             "#0d0887"
            ],
            [
             0.1111111111111111,
             "#46039f"
            ],
            [
             0.2222222222222222,
             "#7201a8"
            ],
            [
             0.3333333333333333,
             "#9c179e"
            ],
            [
             0.4444444444444444,
             "#bd3786"
            ],
            [
             0.5555555555555556,
             "#d8576b"
            ],
            [
             0.6666666666666666,
             "#ed7953"
            ],
            [
             0.7777777777777778,
             "#fb9f3a"
            ],
            [
             0.8888888888888888,
             "#fdca26"
            ],
            [
             1,
             "#f0f921"
            ]
           ]
          },
          "colorway": [
           "#636efa",
           "#EF553B",
           "#00cc96",
           "#ab63fa",
           "#FFA15A",
           "#19d3f3",
           "#FF6692",
           "#B6E880",
           "#FF97FF",
           "#FECB52"
          ],
          "font": {
           "color": "#f2f5fa"
          },
          "geo": {
           "bgcolor": "rgb(17,17,17)",
           "lakecolor": "rgb(17,17,17)",
           "landcolor": "rgb(17,17,17)",
           "showlakes": true,
           "showland": true,
           "subunitcolor": "#506784"
          },
          "hoverlabel": {
           "align": "left"
          },
          "hovermode": "closest",
          "mapbox": {
           "style": "dark"
          },
          "paper_bgcolor": "rgb(17,17,17)",
          "plot_bgcolor": "rgb(17,17,17)",
          "polar": {
           "angularaxis": {
            "gridcolor": "#506784",
            "linecolor": "#506784",
            "ticks": ""
           },
           "bgcolor": "rgb(17,17,17)",
           "radialaxis": {
            "gridcolor": "#506784",
            "linecolor": "#506784",
            "ticks": ""
           }
          },
          "scene": {
           "xaxis": {
            "backgroundcolor": "rgb(17,17,17)",
            "gridcolor": "#506784",
            "gridwidth": 2,
            "linecolor": "#506784",
            "showbackground": true,
            "ticks": "",
            "zerolinecolor": "#C8D4E3"
           },
           "yaxis": {
            "backgroundcolor": "rgb(17,17,17)",
            "gridcolor": "#506784",
            "gridwidth": 2,
            "linecolor": "#506784",
            "showbackground": true,
            "ticks": "",
            "zerolinecolor": "#C8D4E3"
           },
           "zaxis": {
            "backgroundcolor": "rgb(17,17,17)",
            "gridcolor": "#506784",
            "gridwidth": 2,
            "linecolor": "#506784",
            "showbackground": true,
            "ticks": "",
            "zerolinecolor": "#C8D4E3"
           }
          },
          "shapedefaults": {
           "line": {
            "color": "#f2f5fa"
           }
          },
          "sliderdefaults": {
           "bgcolor": "#C8D4E3",
           "bordercolor": "rgb(17,17,17)",
           "borderwidth": 1,
           "tickwidth": 0
          },
          "ternary": {
           "aaxis": {
            "gridcolor": "#506784",
            "linecolor": "#506784",
            "ticks": ""
           },
           "baxis": {
            "gridcolor": "#506784",
            "linecolor": "#506784",
            "ticks": ""
           },
           "bgcolor": "rgb(17,17,17)",
           "caxis": {
            "gridcolor": "#506784",
            "linecolor": "#506784",
            "ticks": ""
           }
          },
          "title": {
           "x": 0.05
          },
          "updatemenudefaults": {
           "bgcolor": "#506784",
           "borderwidth": 0
          },
          "xaxis": {
           "automargin": true,
           "gridcolor": "#283442",
           "linecolor": "#506784",
           "ticks": "",
           "title": {
            "standoff": 15
           },
           "zerolinecolor": "#283442",
           "zerolinewidth": 2
          },
          "yaxis": {
           "automargin": true,
           "gridcolor": "#283442",
           "linecolor": "#506784",
           "ticks": "",
           "title": {
            "standoff": 15
           },
           "zerolinecolor": "#283442",
           "zerolinewidth": 2
          }
         }
        },
        "title": {
         "text": "<b><span style=\"font-size:22px;\">Série Temporal do Preço do Bitcoin</span></b>",
         "x": 0.5,
         "xanchor": "center",
         "y": 0.94,
         "yanchor": "top"
        },
        "xaxis": {
         "anchor": "y",
         "domain": [
          0,
          1
         ],
         "tickformat": "%d/%m\n%H:%M",
         "title": {
          "text": "Data"
         }
        },
        "yaxis": {
         "anchor": "x",
         "domain": [
          0,
          1
         ],
         "range": [
          73227.4424,
          88801.7916
         ],
         "side": "left",
         "title": {
          "text": "Valor do Bitcoin - USD"
         }
        }
       }
      }
     },
     "metadata": {},
     "output_type": "display_data"
    }
   ],
   "source": [
    "plot_btc_price_timeseries(df_time_index, image_path, resample='1h')"
   ]
  },
  {
   "cell_type": "markdown",
   "metadata": {},
   "source": [
    "##### 🔶 ₿ -----> Gráfico de Abertura vs. Fechamento"
   ]
  },
  {
   "cell_type": "code",
   "execution_count": 17,
   "metadata": {},
   "outputs": [
    {
     "data": {
      "application/vnd.plotly.v1+json": {
       "config": {
        "plotlyServerURL": "https://plot.ly"
       },
       "data": [
        {
         "close": {
          "bdata": "w/UoXG/L9EB7FK5HqSP0QM3MzMxsTfRAw/UoXEN59EC4HoXr9WL0QOtRuB7ZIfNAXI/C9XBS80CkcD0KO9byQA==",
          "dtype": "f8"
         },
         "decreasing": {
          "line": {
           "color": "gray"
          }
         },
         "high": {
          "bdata": "SOF6FIrS9EB7FK5HSUH1QBSuR+HWcvRA4XoUrhOm9EB7FK5HCX/0QFyPwvVwYvRA9ihcjxaE80B7FK5HIazzQA==",
          "dtype": "f8"
         },
         "increasing": {
          "line": {
           "color": "#E57C1F"
          }
         },
         "low": {
          "bdata": "hetRuO4s9EB7FK5HqSP0QHE9CtcX5fNAmpmZmT0m9EBxPQrXsyn0QOxRuB6xCfNASOF6FB4+8kCPwvUokL/yQA==",
          "dtype": "f8"
         },
         "open": {
          "bdata": "hetRuO4s9EAUrkfhar70QK5H4XpgUPRAPQrXozxE9EDD9Shc/3L0QFyPwvVwYvRAW4/C9Rwc80C4HoXrXUnzQA==",
          "dtype": "f8"
         },
         "type": "candlestick",
         "x": [
          "2025-04-01T00:00:00.000000",
          "2025-04-02T00:00:00.000000",
          "2025-04-03T00:00:00.000000",
          "2025-04-04T00:00:00.000000",
          "2025-04-05T00:00:00.000000",
          "2025-04-06T00:00:00.000000",
          "2025-04-07T00:00:00.000000",
          "2025-04-08T00:00:00.000000"
         ]
        }
       ],
       "layout": {
        "images": [
         {
          "sizex": 0.15,
          "sizey": 0.15,
          "source": "/Users/rodrigocampos/Documents/crypto_btc/src/visualizations/BTC_black.png",
          "x": 0.008,
          "xanchor": "left",
          "xref": "paper",
          "y": 1.1,
          "yanchor": "top",
          "yref": "paper"
         }
        ],
        "template": {
         "data": {
          "bar": [
           {
            "error_x": {
             "color": "#f2f5fa"
            },
            "error_y": {
             "color": "#f2f5fa"
            },
            "marker": {
             "line": {
              "color": "rgb(17,17,17)",
              "width": 0.5
             },
             "pattern": {
              "fillmode": "overlay",
              "size": 10,
              "solidity": 0.2
             }
            },
            "type": "bar"
           }
          ],
          "barpolar": [
           {
            "marker": {
             "line": {
              "color": "rgb(17,17,17)",
              "width": 0.5
             },
             "pattern": {
              "fillmode": "overlay",
              "size": 10,
              "solidity": 0.2
             }
            },
            "type": "barpolar"
           }
          ],
          "carpet": [
           {
            "aaxis": {
             "endlinecolor": "#A2B1C6",
             "gridcolor": "#506784",
             "linecolor": "#506784",
             "minorgridcolor": "#506784",
             "startlinecolor": "#A2B1C6"
            },
            "baxis": {
             "endlinecolor": "#A2B1C6",
             "gridcolor": "#506784",
             "linecolor": "#506784",
             "minorgridcolor": "#506784",
             "startlinecolor": "#A2B1C6"
            },
            "type": "carpet"
           }
          ],
          "choropleth": [
           {
            "colorbar": {
             "outlinewidth": 0,
             "ticks": ""
            },
            "type": "choropleth"
           }
          ],
          "contour": [
           {
            "colorbar": {
             "outlinewidth": 0,
             "ticks": ""
            },
            "colorscale": [
             [
              0,
              "#0d0887"
             ],
             [
              0.1111111111111111,
              "#46039f"
             ],
             [
              0.2222222222222222,
              "#7201a8"
             ],
             [
              0.3333333333333333,
              "#9c179e"
             ],
             [
              0.4444444444444444,
              "#bd3786"
             ],
             [
              0.5555555555555556,
              "#d8576b"
             ],
             [
              0.6666666666666666,
              "#ed7953"
             ],
             [
              0.7777777777777778,
              "#fb9f3a"
             ],
             [
              0.8888888888888888,
              "#fdca26"
             ],
             [
              1,
              "#f0f921"
             ]
            ],
            "type": "contour"
           }
          ],
          "contourcarpet": [
           {
            "colorbar": {
             "outlinewidth": 0,
             "ticks": ""
            },
            "type": "contourcarpet"
           }
          ],
          "heatmap": [
           {
            "colorbar": {
             "outlinewidth": 0,
             "ticks": ""
            },
            "colorscale": [
             [
              0,
              "#0d0887"
             ],
             [
              0.1111111111111111,
              "#46039f"
             ],
             [
              0.2222222222222222,
              "#7201a8"
             ],
             [
              0.3333333333333333,
              "#9c179e"
             ],
             [
              0.4444444444444444,
              "#bd3786"
             ],
             [
              0.5555555555555556,
              "#d8576b"
             ],
             [
              0.6666666666666666,
              "#ed7953"
             ],
             [
              0.7777777777777778,
              "#fb9f3a"
             ],
             [
              0.8888888888888888,
              "#fdca26"
             ],
             [
              1,
              "#f0f921"
             ]
            ],
            "type": "heatmap"
           }
          ],
          "histogram": [
           {
            "marker": {
             "pattern": {
              "fillmode": "overlay",
              "size": 10,
              "solidity": 0.2
             }
            },
            "type": "histogram"
           }
          ],
          "histogram2d": [
           {
            "colorbar": {
             "outlinewidth": 0,
             "ticks": ""
            },
            "colorscale": [
             [
              0,
              "#0d0887"
             ],
             [
              0.1111111111111111,
              "#46039f"
             ],
             [
              0.2222222222222222,
              "#7201a8"
             ],
             [
              0.3333333333333333,
              "#9c179e"
             ],
             [
              0.4444444444444444,
              "#bd3786"
             ],
             [
              0.5555555555555556,
              "#d8576b"
             ],
             [
              0.6666666666666666,
              "#ed7953"
             ],
             [
              0.7777777777777778,
              "#fb9f3a"
             ],
             [
              0.8888888888888888,
              "#fdca26"
             ],
             [
              1,
              "#f0f921"
             ]
            ],
            "type": "histogram2d"
           }
          ],
          "histogram2dcontour": [
           {
            "colorbar": {
             "outlinewidth": 0,
             "ticks": ""
            },
            "colorscale": [
             [
              0,
              "#0d0887"
             ],
             [
              0.1111111111111111,
              "#46039f"
             ],
             [
              0.2222222222222222,
              "#7201a8"
             ],
             [
              0.3333333333333333,
              "#9c179e"
             ],
             [
              0.4444444444444444,
              "#bd3786"
             ],
             [
              0.5555555555555556,
              "#d8576b"
             ],
             [
              0.6666666666666666,
              "#ed7953"
             ],
             [
              0.7777777777777778,
              "#fb9f3a"
             ],
             [
              0.8888888888888888,
              "#fdca26"
             ],
             [
              1,
              "#f0f921"
             ]
            ],
            "type": "histogram2dcontour"
           }
          ],
          "mesh3d": [
           {
            "colorbar": {
             "outlinewidth": 0,
             "ticks": ""
            },
            "type": "mesh3d"
           }
          ],
          "parcoords": [
           {
            "line": {
             "colorbar": {
              "outlinewidth": 0,
              "ticks": ""
             }
            },
            "type": "parcoords"
           }
          ],
          "pie": [
           {
            "automargin": true,
            "type": "pie"
           }
          ],
          "scatter": [
           {
            "marker": {
             "line": {
              "color": "#283442"
             }
            },
            "type": "scatter"
           }
          ],
          "scatter3d": [
           {
            "line": {
             "colorbar": {
              "outlinewidth": 0,
              "ticks": ""
             }
            },
            "marker": {
             "colorbar": {
              "outlinewidth": 0,
              "ticks": ""
             }
            },
            "type": "scatter3d"
           }
          ],
          "scattercarpet": [
           {
            "marker": {
             "colorbar": {
              "outlinewidth": 0,
              "ticks": ""
             }
            },
            "type": "scattercarpet"
           }
          ],
          "scattergeo": [
           {
            "marker": {
             "colorbar": {
              "outlinewidth": 0,
              "ticks": ""
             }
            },
            "type": "scattergeo"
           }
          ],
          "scattergl": [
           {
            "marker": {
             "line": {
              "color": "#283442"
             }
            },
            "type": "scattergl"
           }
          ],
          "scattermap": [
           {
            "marker": {
             "colorbar": {
              "outlinewidth": 0,
              "ticks": ""
             }
            },
            "type": "scattermap"
           }
          ],
          "scattermapbox": [
           {
            "marker": {
             "colorbar": {
              "outlinewidth": 0,
              "ticks": ""
             }
            },
            "type": "scattermapbox"
           }
          ],
          "scatterpolar": [
           {
            "marker": {
             "colorbar": {
              "outlinewidth": 0,
              "ticks": ""
             }
            },
            "type": "scatterpolar"
           }
          ],
          "scatterpolargl": [
           {
            "marker": {
             "colorbar": {
              "outlinewidth": 0,
              "ticks": ""
             }
            },
            "type": "scatterpolargl"
           }
          ],
          "scatterternary": [
           {
            "marker": {
             "colorbar": {
              "outlinewidth": 0,
              "ticks": ""
             }
            },
            "type": "scatterternary"
           }
          ],
          "surface": [
           {
            "colorbar": {
             "outlinewidth": 0,
             "ticks": ""
            },
            "colorscale": [
             [
              0,
              "#0d0887"
             ],
             [
              0.1111111111111111,
              "#46039f"
             ],
             [
              0.2222222222222222,
              "#7201a8"
             ],
             [
              0.3333333333333333,
              "#9c179e"
             ],
             [
              0.4444444444444444,
              "#bd3786"
             ],
             [
              0.5555555555555556,
              "#d8576b"
             ],
             [
              0.6666666666666666,
              "#ed7953"
             ],
             [
              0.7777777777777778,
              "#fb9f3a"
             ],
             [
              0.8888888888888888,
              "#fdca26"
             ],
             [
              1,
              "#f0f921"
             ]
            ],
            "type": "surface"
           }
          ],
          "table": [
           {
            "cells": {
             "fill": {
              "color": "#506784"
             },
             "line": {
              "color": "rgb(17,17,17)"
             }
            },
            "header": {
             "fill": {
              "color": "#2a3f5f"
             },
             "line": {
              "color": "rgb(17,17,17)"
             }
            },
            "type": "table"
           }
          ]
         },
         "layout": {
          "annotationdefaults": {
           "arrowcolor": "#f2f5fa",
           "arrowhead": 0,
           "arrowwidth": 1
          },
          "autotypenumbers": "strict",
          "coloraxis": {
           "colorbar": {
            "outlinewidth": 0,
            "ticks": ""
           }
          },
          "colorscale": {
           "diverging": [
            [
             0,
             "#8e0152"
            ],
            [
             0.1,
             "#c51b7d"
            ],
            [
             0.2,
             "#de77ae"
            ],
            [
             0.3,
             "#f1b6da"
            ],
            [
             0.4,
             "#fde0ef"
            ],
            [
             0.5,
             "#f7f7f7"
            ],
            [
             0.6,
             "#e6f5d0"
            ],
            [
             0.7,
             "#b8e186"
            ],
            [
             0.8,
             "#7fbc41"
            ],
            [
             0.9,
             "#4d9221"
            ],
            [
             1,
             "#276419"
            ]
           ],
           "sequential": [
            [
             0,
             "#0d0887"
            ],
            [
             0.1111111111111111,
             "#46039f"
            ],
            [
             0.2222222222222222,
             "#7201a8"
            ],
            [
             0.3333333333333333,
             "#9c179e"
            ],
            [
             0.4444444444444444,
             "#bd3786"
            ],
            [
             0.5555555555555556,
             "#d8576b"
            ],
            [
             0.6666666666666666,
             "#ed7953"
            ],
            [
             0.7777777777777778,
             "#fb9f3a"
            ],
            [
             0.8888888888888888,
             "#fdca26"
            ],
            [
             1,
             "#f0f921"
            ]
           ],
           "sequentialminus": [
            [
             0,
             "#0d0887"
            ],
            [
             0.1111111111111111,
             "#46039f"
            ],
            [
             0.2222222222222222,
             "#7201a8"
            ],
            [
             0.3333333333333333,
             "#9c179e"
            ],
            [
             0.4444444444444444,
             "#bd3786"
            ],
            [
             0.5555555555555556,
             "#d8576b"
            ],
            [
             0.6666666666666666,
             "#ed7953"
            ],
            [
             0.7777777777777778,
             "#fb9f3a"
            ],
            [
             0.8888888888888888,
             "#fdca26"
            ],
            [
             1,
             "#f0f921"
            ]
           ]
          },
          "colorway": [
           "#636efa",
           "#EF553B",
           "#00cc96",
           "#ab63fa",
           "#FFA15A",
           "#19d3f3",
           "#FF6692",
           "#B6E880",
           "#FF97FF",
           "#FECB52"
          ],
          "font": {
           "color": "#f2f5fa"
          },
          "geo": {
           "bgcolor": "rgb(17,17,17)",
           "lakecolor": "rgb(17,17,17)",
           "landcolor": "rgb(17,17,17)",
           "showlakes": true,
           "showland": true,
           "subunitcolor": "#506784"
          },
          "hoverlabel": {
           "align": "left"
          },
          "hovermode": "closest",
          "mapbox": {
           "style": "dark"
          },
          "paper_bgcolor": "rgb(17,17,17)",
          "plot_bgcolor": "rgb(17,17,17)",
          "polar": {
           "angularaxis": {
            "gridcolor": "#506784",
            "linecolor": "#506784",
            "ticks": ""
           },
           "bgcolor": "rgb(17,17,17)",
           "radialaxis": {
            "gridcolor": "#506784",
            "linecolor": "#506784",
            "ticks": ""
           }
          },
          "scene": {
           "xaxis": {
            "backgroundcolor": "rgb(17,17,17)",
            "gridcolor": "#506784",
            "gridwidth": 2,
            "linecolor": "#506784",
            "showbackground": true,
            "ticks": "",
            "zerolinecolor": "#C8D4E3"
           },
           "yaxis": {
            "backgroundcolor": "rgb(17,17,17)",
            "gridcolor": "#506784",
            "gridwidth": 2,
            "linecolor": "#506784",
            "showbackground": true,
            "ticks": "",
            "zerolinecolor": "#C8D4E3"
           },
           "zaxis": {
            "backgroundcolor": "rgb(17,17,17)",
            "gridcolor": "#506784",
            "gridwidth": 2,
            "linecolor": "#506784",
            "showbackground": true,
            "ticks": "",
            "zerolinecolor": "#C8D4E3"
           }
          },
          "shapedefaults": {
           "line": {
            "color": "#f2f5fa"
           }
          },
          "sliderdefaults": {
           "bgcolor": "#C8D4E3",
           "bordercolor": "rgb(17,17,17)",
           "borderwidth": 1,
           "tickwidth": 0
          },
          "ternary": {
           "aaxis": {
            "gridcolor": "#506784",
            "linecolor": "#506784",
            "ticks": ""
           },
           "baxis": {
            "gridcolor": "#506784",
            "linecolor": "#506784",
            "ticks": ""
           },
           "bgcolor": "rgb(17,17,17)",
           "caxis": {
            "gridcolor": "#506784",
            "linecolor": "#506784",
            "ticks": ""
           }
          },
          "title": {
           "x": 0.05
          },
          "updatemenudefaults": {
           "bgcolor": "#506784",
           "borderwidth": 0
          },
          "xaxis": {
           "automargin": true,
           "gridcolor": "#283442",
           "linecolor": "#506784",
           "ticks": "",
           "title": {
            "standoff": 15
           },
           "zerolinecolor": "#283442",
           "zerolinewidth": 2
          },
          "yaxis": {
           "automargin": true,
           "gridcolor": "#283442",
           "linecolor": "#506784",
           "ticks": "",
           "title": {
            "standoff": 15
           },
           "zerolinecolor": "#283442",
           "zerolinewidth": 2
          }
         }
        },
        "title": {
         "text": "Gráfico de Candlesticks do Bitcoin"
        },
        "xaxis": {
         "rangeslider": {
          "visible": false
         },
         "title": {
          "text": "Data"
         }
        },
        "yaxis": {
         "title": {
          "text": "Preço BTC (USD)"
         }
        }
       }
      }
     },
     "metadata": {},
     "output_type": "display_data"
    }
   ],
   "source": [
    "plot_btc_candlestick_ohlc(df_time_index, image_path, resample='h')"
   ]
  },
  {
   "cell_type": "markdown",
   "metadata": {},
   "source": [
    "##### 🔶 ₿ -----> Boxplot por Janela Temporal"
   ]
  },
  {
   "cell_type": "code",
   "execution_count": 18,
   "metadata": {},
   "outputs": [
    {
     "data": {
      "application/vnd.plotly.v1+json": {
       "config": {
        "plotlyServerURL": "https://plot.ly"
       },
       "data": [
        {
         "alignmentgroup": "True",
         "hovertemplate": "Hora do Dia=%{x}<br>Preço BTC=%{y}<extra></extra>",
         "legendgroup": "",
         "line": {
          "color": "#E57C1F"
         },
         "marker": {
          "color": "#E57C1F"
         },
         "name": "",
         "notched": false,
         "offsetgroup": "",
         "orientation": "v",
         "showlegend": false,
         "type": "box",
         "x": {
          "bdata": "AAAAAAEAAAACAAAAAwAAAAQAAAAFAAAABgAAAAcAAAAIAAAACQAAAAoAAAALAAAADAAAAA0AAAAOAAAADwAAABAAAAARAAAAEgAAABMAAAAUAAAAFQAAABYAAAAXAAAAAAAAAAEAAAACAAAAAwAAAAQAAAAFAAAABgAAAAcAAAAIAAAACQAAAAoAAAALAAAADAAAAA0AAAAOAAAADwAAABAAAAARAAAAEgAAABMAAAAUAAAAFQAAABYAAAAXAAAAAAAAAAEAAAACAAAAAwAAAAQAAAAFAAAABgAAAAcAAAAIAAAACQAAAAoAAAALAAAADAAAAA0AAAAOAAAADwAAABAAAAARAAAAEgAAABMAAAAUAAAAFQAAABYAAAAXAAAAAAAAAAEAAAACAAAAAwAAAAQAAAAFAAAABgAAAAcAAAAIAAAACQAAAAoAAAALAAAADAAAAA0AAAAOAAAADwAAABAAAAARAAAAEgAAABMAAAAUAAAAFQAAABYAAAAXAAAAAAAAAAEAAAACAAAAAwAAAAQAAAAFAAAABgAAAAcAAAAIAAAACQAAAAoAAAALAAAADAAAAA0AAAAOAAAADwAAABAAAAARAAAAEgAAABMAAAAUAAAAFQAAABYAAAAXAAAAAAAAAAEAAAACAAAAAwAAAAQAAAAFAAAABgAAAAcAAAAIAAAACQAAAAoAAAALAAAADAAAAA0AAAAOAAAADwAAABAAAAARAAAAEgAAABMAAAAUAAAAFQAAABYAAAAXAAAAAAAAAAEAAAACAAAAAwAAAAQAAAAFAAAABgAAAAcAAAAIAAAACQAAAAoAAAALAAAADAAAAA0AAAAOAAAADwAAABAAAAARAAAAEgAAABMAAAAUAAAAFQAAABYAAAAXAAAAAAAAAAEAAAACAAAAAwAAAAQAAAAFAAAABgAAAAcAAAAIAAAACQAAAAoAAAALAAAADAAAAA0AAAAOAAAADwAAABAAAAARAAAAEgAAAA==",
          "dtype": "i4"
         },
         "x0": " ",
         "xaxis": "x",
         "y": {
          "bdata": "hetRuO4s9EB7FK5HHTD0QEjhehSWSPRAXI/C9YBA9EAAAAAAFEf0QFK4HoU/Q/RACtejcM1f9EC4HoXrIWD0QPYoXI/+iPRAuB6F6+GX9ECF61G4Zo30QB+F61EcffRA9ihcj8Jp9ECuR+F6kG30QK5H4XpYjvRASOF6FIrS9EAAAAAAQMj0QArXo3AVyPRAj8L1KPjH9EAK16Nwsb30QAAAAADYz/RAKVyPwgXO9EApXI/Cxcb0QMP1KFxvy/RAFK5H4Wq+9EAK16NwXcr0QAAAAABEr/RA7FG4HrGk9EB7FK5HDaj0QI/C9SjciPRAw/UoXE+K9EAzMzMzt5z0QJqZmZkVrPRAH4XrUeDB9ECPwvUozLf0QOxRuB5NpfRA4XoUrq/D9EBI4XoUdtD0QJqZmZlF9/RA16NwPZ4v9UB7FK5HSUH1QNejcD36JfVA4XoUrvsQ9UBSuB6F2zj1QB+F61HM6PRASOF6FPa29EDhehSunzb0QHsUrkepI/RArkfhemBQ9EBmZmZmznL0QBSuR+HWcvRA9ihcj2ph9EAK16NwVWb0QGZmZmaeWPRAPQrXo7BG9EBxPQrXA2D0QHsUrkd1bvRACtejcBVh9ECuR+F6aFH0QArXo3DxR/RA7FG4HnEA9ED2KFyPihn0QHE9CtcX5fNAexSuR4UF9EBxPQrX8/fzQM3MzMxE+PNA4XoUrn8I9EBI4XoUcgH0QFK4HoXfGPRAmpmZmRkw9EBxPQrX2zD0QM3MzMxsTfRAPQrXozxE9EApXI/CqS70QKRwPQrXO/RAw/UoXHM29EDhehSubzD0QFK4HoUnTvRAw/UoXCtF9ECamZmZ6YD0QB+F61GEm/RA4XoUrhOm9EDNzMzM5Cf0QJqZmZl5LvRAj8L1KJA59EBcj8L1mFf0QJqZmZk9JvRA4XoUroM49EDNzMzMYFn0QLgehevZnPRAZmZmZsZ+9EC4HoXrhYD0QAAAAAAYivRA4XoUrquL9EDNzMzM8IP0QMP1KFxDefRAw/UoXP9y9EB7FK5HCX/0QClcj8JdfvRAPQrXo2Bp9EBSuB6Fp2z0QDMzMzMXbfRAj8L1KGhf9ECuR+F6NGL0QEjhehRGYvRAH4XrUdx19EAAAAAAUGr0QI/C9Si4XvRAj8L1KFRT9ECkcD0KgzL0QHE9CtfHPPRAcT0K17Mp9EAUrkfhwjH0QDMzMzPPOfRAUrgehYNE9EC4HoXrzTj0QMP1KFyDRvRAmpmZmc089EDD9Shcl030QLgehev1YvRAXI/C9XBi9EBSuB6FC130QJqZmZmZVPRA9ihcjyZX9EAzMzMzB2H0QD0K16PwXfRACtejcIFJ9EB7FK5HYUP0QKRwPQrzQvRAAAAAAFxF9ECF61G4cjj0QPYoXI9KN/RAH4XrUfQt9EAzMzMz9xX0QHsUrkdFLPRAFa5H4b4l9EAAAAAA2AH0QOF6FK6DuPNASOF6FK5L80BxPQrXy23zQFK4HoUHPvNAAAAAAHhD80DsUbgesQnzQOtRuB7ZIfNAW4/C9Rwc80DXo3A9pk/zQJqZmZlhI/NAAAAAAMz18kDNzMzMpMfyQI/C9SjgxPJASOF6FB4+8kCamZmZHVLyQB+F61HYmvJA9ihcj4ac8kBxPQrXK8nyQFyPwvUYtvJAj8L1KNTd8kCF61G4Sh7zQFyPwvWkSfNAw/UoXJMm80Bcj8L1uOTyQJqZmZl5S/NA61G4Hlkn80DXo3A9ChDzQLgehetJRPNAZmZmZt5V80D2KFyPFoTzQFyPwvVwUvNAuB6F611J80B7FK5HIazzQJqZmZn1gvNAhetRuPqA80AzMzMzh5nzQArXo3B5fvNAPQrXo4Bk80DD9Shcl2bzQArXo3AVUvNAPQrXo1BC80AK16NwaUjzQJqZmZk9hfNA7FG4HhF880BSuB6F03/zQOF6FK7fJvNAw/UoXFMo80AAAAAA/OLyQI/C9SiQv/JApHA9CjvW8kA=",
          "dtype": "f8"
         },
         "y0": " ",
         "yaxis": "y"
        }
       ],
       "layout": {
        "boxmode": "group",
        "height": 600,
        "images": [
         {
          "sizex": 0.1,
          "sizey": 0.1,
          "source": "/Users/rodrigocampos/Documents/crypto_btc/src/visualizations/BTC_black.png",
          "x": 0.008,
          "xanchor": "left",
          "xref": "paper",
          "y": 1.1,
          "yanchor": "top",
          "yref": "paper"
         }
        ],
        "legend": {
         "tracegroupgap": 0
        },
        "margin": {
         "t": 60
        },
        "showlegend": false,
        "template": {
         "data": {
          "bar": [
           {
            "error_x": {
             "color": "#f2f5fa"
            },
            "error_y": {
             "color": "#f2f5fa"
            },
            "marker": {
             "line": {
              "color": "rgb(17,17,17)",
              "width": 0.5
             },
             "pattern": {
              "fillmode": "overlay",
              "size": 10,
              "solidity": 0.2
             }
            },
            "type": "bar"
           }
          ],
          "barpolar": [
           {
            "marker": {
             "line": {
              "color": "rgb(17,17,17)",
              "width": 0.5
             },
             "pattern": {
              "fillmode": "overlay",
              "size": 10,
              "solidity": 0.2
             }
            },
            "type": "barpolar"
           }
          ],
          "carpet": [
           {
            "aaxis": {
             "endlinecolor": "#A2B1C6",
             "gridcolor": "#506784",
             "linecolor": "#506784",
             "minorgridcolor": "#506784",
             "startlinecolor": "#A2B1C6"
            },
            "baxis": {
             "endlinecolor": "#A2B1C6",
             "gridcolor": "#506784",
             "linecolor": "#506784",
             "minorgridcolor": "#506784",
             "startlinecolor": "#A2B1C6"
            },
            "type": "carpet"
           }
          ],
          "choropleth": [
           {
            "colorbar": {
             "outlinewidth": 0,
             "ticks": ""
            },
            "type": "choropleth"
           }
          ],
          "contour": [
           {
            "colorbar": {
             "outlinewidth": 0,
             "ticks": ""
            },
            "colorscale": [
             [
              0,
              "#0d0887"
             ],
             [
              0.1111111111111111,
              "#46039f"
             ],
             [
              0.2222222222222222,
              "#7201a8"
             ],
             [
              0.3333333333333333,
              "#9c179e"
             ],
             [
              0.4444444444444444,
              "#bd3786"
             ],
             [
              0.5555555555555556,
              "#d8576b"
             ],
             [
              0.6666666666666666,
              "#ed7953"
             ],
             [
              0.7777777777777778,
              "#fb9f3a"
             ],
             [
              0.8888888888888888,
              "#fdca26"
             ],
             [
              1,
              "#f0f921"
             ]
            ],
            "type": "contour"
           }
          ],
          "contourcarpet": [
           {
            "colorbar": {
             "outlinewidth": 0,
             "ticks": ""
            },
            "type": "contourcarpet"
           }
          ],
          "heatmap": [
           {
            "colorbar": {
             "outlinewidth": 0,
             "ticks": ""
            },
            "colorscale": [
             [
              0,
              "#0d0887"
             ],
             [
              0.1111111111111111,
              "#46039f"
             ],
             [
              0.2222222222222222,
              "#7201a8"
             ],
             [
              0.3333333333333333,
              "#9c179e"
             ],
             [
              0.4444444444444444,
              "#bd3786"
             ],
             [
              0.5555555555555556,
              "#d8576b"
             ],
             [
              0.6666666666666666,
              "#ed7953"
             ],
             [
              0.7777777777777778,
              "#fb9f3a"
             ],
             [
              0.8888888888888888,
              "#fdca26"
             ],
             [
              1,
              "#f0f921"
             ]
            ],
            "type": "heatmap"
           }
          ],
          "histogram": [
           {
            "marker": {
             "pattern": {
              "fillmode": "overlay",
              "size": 10,
              "solidity": 0.2
             }
            },
            "type": "histogram"
           }
          ],
          "histogram2d": [
           {
            "colorbar": {
             "outlinewidth": 0,
             "ticks": ""
            },
            "colorscale": [
             [
              0,
              "#0d0887"
             ],
             [
              0.1111111111111111,
              "#46039f"
             ],
             [
              0.2222222222222222,
              "#7201a8"
             ],
             [
              0.3333333333333333,
              "#9c179e"
             ],
             [
              0.4444444444444444,
              "#bd3786"
             ],
             [
              0.5555555555555556,
              "#d8576b"
             ],
             [
              0.6666666666666666,
              "#ed7953"
             ],
             [
              0.7777777777777778,
              "#fb9f3a"
             ],
             [
              0.8888888888888888,
              "#fdca26"
             ],
             [
              1,
              "#f0f921"
             ]
            ],
            "type": "histogram2d"
           }
          ],
          "histogram2dcontour": [
           {
            "colorbar": {
             "outlinewidth": 0,
             "ticks": ""
            },
            "colorscale": [
             [
              0,
              "#0d0887"
             ],
             [
              0.1111111111111111,
              "#46039f"
             ],
             [
              0.2222222222222222,
              "#7201a8"
             ],
             [
              0.3333333333333333,
              "#9c179e"
             ],
             [
              0.4444444444444444,
              "#bd3786"
             ],
             [
              0.5555555555555556,
              "#d8576b"
             ],
             [
              0.6666666666666666,
              "#ed7953"
             ],
             [
              0.7777777777777778,
              "#fb9f3a"
             ],
             [
              0.8888888888888888,
              "#fdca26"
             ],
             [
              1,
              "#f0f921"
             ]
            ],
            "type": "histogram2dcontour"
           }
          ],
          "mesh3d": [
           {
            "colorbar": {
             "outlinewidth": 0,
             "ticks": ""
            },
            "type": "mesh3d"
           }
          ],
          "parcoords": [
           {
            "line": {
             "colorbar": {
              "outlinewidth": 0,
              "ticks": ""
             }
            },
            "type": "parcoords"
           }
          ],
          "pie": [
           {
            "automargin": true,
            "type": "pie"
           }
          ],
          "scatter": [
           {
            "marker": {
             "line": {
              "color": "#283442"
             }
            },
            "type": "scatter"
           }
          ],
          "scatter3d": [
           {
            "line": {
             "colorbar": {
              "outlinewidth": 0,
              "ticks": ""
             }
            },
            "marker": {
             "colorbar": {
              "outlinewidth": 0,
              "ticks": ""
             }
            },
            "type": "scatter3d"
           }
          ],
          "scattercarpet": [
           {
            "marker": {
             "colorbar": {
              "outlinewidth": 0,
              "ticks": ""
             }
            },
            "type": "scattercarpet"
           }
          ],
          "scattergeo": [
           {
            "marker": {
             "colorbar": {
              "outlinewidth": 0,
              "ticks": ""
             }
            },
            "type": "scattergeo"
           }
          ],
          "scattergl": [
           {
            "marker": {
             "line": {
              "color": "#283442"
             }
            },
            "type": "scattergl"
           }
          ],
          "scattermap": [
           {
            "marker": {
             "colorbar": {
              "outlinewidth": 0,
              "ticks": ""
             }
            },
            "type": "scattermap"
           }
          ],
          "scattermapbox": [
           {
            "marker": {
             "colorbar": {
              "outlinewidth": 0,
              "ticks": ""
             }
            },
            "type": "scattermapbox"
           }
          ],
          "scatterpolar": [
           {
            "marker": {
             "colorbar": {
              "outlinewidth": 0,
              "ticks": ""
             }
            },
            "type": "scatterpolar"
           }
          ],
          "scatterpolargl": [
           {
            "marker": {
             "colorbar": {
              "outlinewidth": 0,
              "ticks": ""
             }
            },
            "type": "scatterpolargl"
           }
          ],
          "scatterternary": [
           {
            "marker": {
             "colorbar": {
              "outlinewidth": 0,
              "ticks": ""
             }
            },
            "type": "scatterternary"
           }
          ],
          "surface": [
           {
            "colorbar": {
             "outlinewidth": 0,
             "ticks": ""
            },
            "colorscale": [
             [
              0,
              "#0d0887"
             ],
             [
              0.1111111111111111,
              "#46039f"
             ],
             [
              0.2222222222222222,
              "#7201a8"
             ],
             [
              0.3333333333333333,
              "#9c179e"
             ],
             [
              0.4444444444444444,
              "#bd3786"
             ],
             [
              0.5555555555555556,
              "#d8576b"
             ],
             [
              0.6666666666666666,
              "#ed7953"
             ],
             [
              0.7777777777777778,
              "#fb9f3a"
             ],
             [
              0.8888888888888888,
              "#fdca26"
             ],
             [
              1,
              "#f0f921"
             ]
            ],
            "type": "surface"
           }
          ],
          "table": [
           {
            "cells": {
             "fill": {
              "color": "#506784"
             },
             "line": {
              "color": "rgb(17,17,17)"
             }
            },
            "header": {
             "fill": {
              "color": "#2a3f5f"
             },
             "line": {
              "color": "rgb(17,17,17)"
             }
            },
            "type": "table"
           }
          ]
         },
         "layout": {
          "annotationdefaults": {
           "arrowcolor": "#f2f5fa",
           "arrowhead": 0,
           "arrowwidth": 1
          },
          "autotypenumbers": "strict",
          "coloraxis": {
           "colorbar": {
            "outlinewidth": 0,
            "ticks": ""
           }
          },
          "colorscale": {
           "diverging": [
            [
             0,
             "#8e0152"
            ],
            [
             0.1,
             "#c51b7d"
            ],
            [
             0.2,
             "#de77ae"
            ],
            [
             0.3,
             "#f1b6da"
            ],
            [
             0.4,
             "#fde0ef"
            ],
            [
             0.5,
             "#f7f7f7"
            ],
            [
             0.6,
             "#e6f5d0"
            ],
            [
             0.7,
             "#b8e186"
            ],
            [
             0.8,
             "#7fbc41"
            ],
            [
             0.9,
             "#4d9221"
            ],
            [
             1,
             "#276419"
            ]
           ],
           "sequential": [
            [
             0,
             "#0d0887"
            ],
            [
             0.1111111111111111,
             "#46039f"
            ],
            [
             0.2222222222222222,
             "#7201a8"
            ],
            [
             0.3333333333333333,
             "#9c179e"
            ],
            [
             0.4444444444444444,
             "#bd3786"
            ],
            [
             0.5555555555555556,
             "#d8576b"
            ],
            [
             0.6666666666666666,
             "#ed7953"
            ],
            [
             0.7777777777777778,
             "#fb9f3a"
            ],
            [
             0.8888888888888888,
             "#fdca26"
            ],
            [
             1,
             "#f0f921"
            ]
           ],
           "sequentialminus": [
            [
             0,
             "#0d0887"
            ],
            [
             0.1111111111111111,
             "#46039f"
            ],
            [
             0.2222222222222222,
             "#7201a8"
            ],
            [
             0.3333333333333333,
             "#9c179e"
            ],
            [
             0.4444444444444444,
             "#bd3786"
            ],
            [
             0.5555555555555556,
             "#d8576b"
            ],
            [
             0.6666666666666666,
             "#ed7953"
            ],
            [
             0.7777777777777778,
             "#fb9f3a"
            ],
            [
             0.8888888888888888,
             "#fdca26"
            ],
            [
             1,
             "#f0f921"
            ]
           ]
          },
          "colorway": [
           "#636efa",
           "#EF553B",
           "#00cc96",
           "#ab63fa",
           "#FFA15A",
           "#19d3f3",
           "#FF6692",
           "#B6E880",
           "#FF97FF",
           "#FECB52"
          ],
          "font": {
           "color": "#f2f5fa"
          },
          "geo": {
           "bgcolor": "rgb(17,17,17)",
           "lakecolor": "rgb(17,17,17)",
           "landcolor": "rgb(17,17,17)",
           "showlakes": true,
           "showland": true,
           "subunitcolor": "#506784"
          },
          "hoverlabel": {
           "align": "left"
          },
          "hovermode": "closest",
          "mapbox": {
           "style": "dark"
          },
          "paper_bgcolor": "rgb(17,17,17)",
          "plot_bgcolor": "rgb(17,17,17)",
          "polar": {
           "angularaxis": {
            "gridcolor": "#506784",
            "linecolor": "#506784",
            "ticks": ""
           },
           "bgcolor": "rgb(17,17,17)",
           "radialaxis": {
            "gridcolor": "#506784",
            "linecolor": "#506784",
            "ticks": ""
           }
          },
          "scene": {
           "xaxis": {
            "backgroundcolor": "rgb(17,17,17)",
            "gridcolor": "#506784",
            "gridwidth": 2,
            "linecolor": "#506784",
            "showbackground": true,
            "ticks": "",
            "zerolinecolor": "#C8D4E3"
           },
           "yaxis": {
            "backgroundcolor": "rgb(17,17,17)",
            "gridcolor": "#506784",
            "gridwidth": 2,
            "linecolor": "#506784",
            "showbackground": true,
            "ticks": "",
            "zerolinecolor": "#C8D4E3"
           },
           "zaxis": {
            "backgroundcolor": "rgb(17,17,17)",
            "gridcolor": "#506784",
            "gridwidth": 2,
            "linecolor": "#506784",
            "showbackground": true,
            "ticks": "",
            "zerolinecolor": "#C8D4E3"
           }
          },
          "shapedefaults": {
           "line": {
            "color": "#f2f5fa"
           }
          },
          "sliderdefaults": {
           "bgcolor": "#C8D4E3",
           "bordercolor": "rgb(17,17,17)",
           "borderwidth": 1,
           "tickwidth": 0
          },
          "ternary": {
           "aaxis": {
            "gridcolor": "#506784",
            "linecolor": "#506784",
            "ticks": ""
           },
           "baxis": {
            "gridcolor": "#506784",
            "linecolor": "#506784",
            "ticks": ""
           },
           "bgcolor": "rgb(17,17,17)",
           "caxis": {
            "gridcolor": "#506784",
            "linecolor": "#506784",
            "ticks": ""
           }
          },
          "title": {
           "x": 0.05
          },
          "updatemenudefaults": {
           "bgcolor": "#506784",
           "borderwidth": 0
          },
          "xaxis": {
           "automargin": true,
           "gridcolor": "#283442",
           "linecolor": "#506784",
           "ticks": "",
           "title": {
            "standoff": 15
           },
           "zerolinecolor": "#283442",
           "zerolinewidth": 2
          },
          "yaxis": {
           "automargin": true,
           "gridcolor": "#283442",
           "linecolor": "#506784",
           "ticks": "",
           "title": {
            "standoff": 15
           },
           "zerolinecolor": "#283442",
           "zerolinewidth": 2
          }
         }
        },
        "title": {
         "text": "<b><span style=\"font-size:22px;\">Sazonalidade por Hora do Dia</span></b>",
         "x": 0.5,
         "xanchor": "center",
         "y": 0.94,
         "yanchor": "top"
        },
        "xaxis": {
         "anchor": "y",
         "domain": [
          0,
          1
         ],
         "title": {
          "text": "Hora do Dia"
         }
        },
        "yaxis": {
         "anchor": "x",
         "domain": [
          0,
          1
         ],
         "range": [
          73227.4424,
          88801.7916
         ],
         "side": "left",
         "title": {
          "text": "Valor do Bitcoin - USD"
         }
        }
       }
      }
     },
     "metadata": {},
     "output_type": "display_data"
    },
    {
     "data": {
      "application/vnd.plotly.v1+json": {
       "config": {
        "plotlyServerURL": "https://plot.ly"
       },
       "data": [
        {
         "alignmentgroup": "True",
         "hovertemplate": "Dia do Ano (MM-DD)=%{x}<br>Preço BTC=%{y}<extra></extra>",
         "legendgroup": "",
         "line": {
          "color": "#E57C1F"
         },
         "marker": {
          "color": "#E57C1F"
         },
         "name": "",
         "notched": false,
         "offsetgroup": "",
         "orientation": "v",
         "showlegend": false,
         "type": "box",
         "x": [
          "04-01",
          "04-01",
          "04-01",
          "04-01",
          "04-01",
          "04-01",
          "04-01",
          "04-01",
          "04-01",
          "04-01",
          "04-01",
          "04-01",
          "04-01",
          "04-01",
          "04-01",
          "04-01",
          "04-01",
          "04-01",
          "04-01",
          "04-01",
          "04-01",
          "04-01",
          "04-01",
          "04-01",
          "04-02",
          "04-02",
          "04-02",
          "04-02",
          "04-02",
          "04-02",
          "04-02",
          "04-02",
          "04-02",
          "04-02",
          "04-02",
          "04-02",
          "04-02",
          "04-02",
          "04-02",
          "04-02",
          "04-02",
          "04-02",
          "04-02",
          "04-02",
          "04-02",
          "04-02",
          "04-02",
          "04-02",
          "04-03",
          "04-03",
          "04-03",
          "04-03",
          "04-03",
          "04-03",
          "04-03",
          "04-03",
          "04-03",
          "04-03",
          "04-03",
          "04-03",
          "04-03",
          "04-03",
          "04-03",
          "04-03",
          "04-03",
          "04-03",
          "04-03",
          "04-03",
          "04-03",
          "04-03",
          "04-03",
          "04-03",
          "04-04",
          "04-04",
          "04-04",
          "04-04",
          "04-04",
          "04-04",
          "04-04",
          "04-04",
          "04-04",
          "04-04",
          "04-04",
          "04-04",
          "04-04",
          "04-04",
          "04-04",
          "04-04",
          "04-04",
          "04-04",
          "04-04",
          "04-04",
          "04-04",
          "04-04",
          "04-04",
          "04-04",
          "04-05",
          "04-05",
          "04-05",
          "04-05",
          "04-05",
          "04-05",
          "04-05",
          "04-05",
          "04-05",
          "04-05",
          "04-05",
          "04-05",
          "04-05",
          "04-05",
          "04-05",
          "04-05",
          "04-05",
          "04-05",
          "04-05",
          "04-05",
          "04-05",
          "04-05",
          "04-05",
          "04-05",
          "04-06",
          "04-06",
          "04-06",
          "04-06",
          "04-06",
          "04-06",
          "04-06",
          "04-06",
          "04-06",
          "04-06",
          "04-06",
          "04-06",
          "04-06",
          "04-06",
          "04-06",
          "04-06",
          "04-06",
          "04-06",
          "04-06",
          "04-06",
          "04-06",
          "04-06",
          "04-06",
          "04-06",
          "04-07",
          "04-07",
          "04-07",
          "04-07",
          "04-07",
          "04-07",
          "04-07",
          "04-07",
          "04-07",
          "04-07",
          "04-07",
          "04-07",
          "04-07",
          "04-07",
          "04-07",
          "04-07",
          "04-07",
          "04-07",
          "04-07",
          "04-07",
          "04-07",
          "04-07",
          "04-07",
          "04-07",
          "04-08",
          "04-08",
          "04-08",
          "04-08",
          "04-08",
          "04-08",
          "04-08",
          "04-08",
          "04-08",
          "04-08",
          "04-08",
          "04-08",
          "04-08",
          "04-08",
          "04-08",
          "04-08",
          "04-08",
          "04-08",
          "04-08"
         ],
         "x0": " ",
         "xaxis": "x",
         "y": {
          "bdata": "hetRuO4s9EDD9Shcb8v0QClcj8LFxvRAKVyPwgXO9EAAAAAA2M/0QArXo3CxvfRAj8L1KPjH9EAAAAAAQMj0QEjhehSK0vRArkfheliO9ECuR+F6kG30QPYoXI/CafRACtejcBXI9ECF61G4Zo30QB+F61EcffRASOF6FJZI9EBcj8L1gED0QAAAAAAUR/RAUrgehT9D9EB7FK5HHTD0QLgeheshYPRA9ihcj/6I9EC4HoXr4Zf0QArXo3DNX/RASOF6FHbQ9EB7FK5HqSP0QOF6FK6fNvRASOF6FPa29EAfhetRzOj0QFK4HoXbOPVA4XoUrvsQ9UB7FK5HSUH1QNejcD2eL/VAmpmZmUX39EDhehSur8P0QNejcD36JfVAj8L1KMy39EAK16NwXcr0QAAAAABEr/RA7FG4HrGk9EB7FK5HDaj0QI/C9SjciPRAFK5H4Wq+9EDD9ShcT4r0QB+F61HgwfRA7FG4Hk2l9EAzMzMzt5z0QJqZmZkVrPRA7FG4HnEA9EBxPQrX2zD0QJqZmZkZMPRAUrgehd8Y9EDNzMzMbE30QOF6FK5/CPRAzczMzET480BxPQrX8/fzQHsUrkeFBfRAcT0K1xfl80D2KFyPihn0QEjhehRyAfRACtejcPFH9EAK16NwFWH0QHsUrkd1bvRAcT0K1wNg9EA9CtejsEb0QGZmZmaeWPRACtejcFVm9ED2KFyPamH0QBSuR+HWcvRAZmZmZs5y9ECuR+F6YFD0QK5H4XpoUfRAmpmZmT0m9EDhehSugzj0QM3MzMxgWfRAuB6F69mc9EBcj8L1mFf0QLgeheuFgPRAAAAAABiK9EDNzMzM8IP0QMP1KFxDefRAZmZmZsZ+9ECPwvUokDn0QOF6FK6ri/RAzczMzOQn9EApXI/CqS70QJqZmZl5LvRApHA9Ctc79EDD9Shcczb0QOF6FK5vMPRAPQrXozxE9EDD9ShcK0X0QJqZmZnpgPRAH4XrUYSb9EDhehSuE6b0QFK4HoUnTvRAcT0K18c89EBxPQrXsyn0QBSuR+HCMfRAMzMzM8859EBSuB6Fg0T0QMP1KFyDRvRAmpmZmc089EDD9Shcl030QLgehev1YvRApHA9CoMy9EC4HoXrzTj0QI/C9ShUU/RAj8L1KLhe9EAAAAAAUGr0QHsUrkcJf/RAKVyPwl1+9EA9CtejYGn0QFK4HoWnbPRAw/UoXP9y9ECPwvUoaF/0QK5H4Xo0YvRASOF6FEZi9EAfhetR3HX0QDMzMzMXbfRAMzMzM/cV9EDsUbgesQnzQAAAAAB4Q/NAUrgehQc+80BxPQrXy23zQEjhehSuS/NA4XoUroO480AAAAAA2AH0QOtRuB7ZIfNAexSuR0Us9EAfhetR9C30QBWuR+G+JfRAhetRuHI49EAAAAAAXEX0QKRwPQrzQvRAexSuR2FD9EAK16NwgUn0QD0K16PwXfRAMzMzMwdh9ED2KFyPJlf0QJqZmZmZVPRAUrgehQtd9EBcj8L1cGL0QPYoXI9KN/RAXI/C9aRJ80Bcj8L1uOTyQJqZmZl5S/NA61G4Hlkn80Bcj8L1cFLzQLgehetJRPNAZmZmZt5V80D2KFyPFoTzQIXrUbhKHvNA16NwPQoQ80CPwvUo1N3yQMP1KFyTJvNAcT0K1yvJ8kBcj8L1GLbyQFuPwvUcHPNAmpmZmWEj80AAAAAAzPXyQM3MzMykx/JA16NwPaZP80BI4XoUHj7yQJqZmZkdUvJAH4XrUdia8kD2KFyPhpzyQI/C9SjgxPJACtejcGlI80AAAAAA/OLyQMP1KFxTKPNA4XoUrt8m80BSuB6F03/zQOxRuB4RfPNAmpmZmT2F80A9CtejUELzQIXrUbj6gPNAw/UoXJdm80A9CtejgGTzQArXo3B5fvNAMzMzM4eZ80CamZmZ9YLzQHsUrkchrPNAuB6F611J80CPwvUokL/yQArXo3AVUvNApHA9CjvW8kA=",
          "dtype": "f8"
         },
         "y0": " ",
         "yaxis": "y"
        }
       ],
       "layout": {
        "boxmode": "group",
        "height": 600,
        "images": [
         {
          "sizex": 0.1,
          "sizey": 0.1,
          "source": "/Users/rodrigocampos/Documents/crypto_btc/src/visualizations/BTC_black.png",
          "x": 0.008,
          "xanchor": "left",
          "xref": "paper",
          "y": 1.1,
          "yanchor": "top",
          "yref": "paper"
         }
        ],
        "legend": {
         "tracegroupgap": 0
        },
        "margin": {
         "t": 60
        },
        "showlegend": false,
        "template": {
         "data": {
          "bar": [
           {
            "error_x": {
             "color": "#f2f5fa"
            },
            "error_y": {
             "color": "#f2f5fa"
            },
            "marker": {
             "line": {
              "color": "rgb(17,17,17)",
              "width": 0.5
             },
             "pattern": {
              "fillmode": "overlay",
              "size": 10,
              "solidity": 0.2
             }
            },
            "type": "bar"
           }
          ],
          "barpolar": [
           {
            "marker": {
             "line": {
              "color": "rgb(17,17,17)",
              "width": 0.5
             },
             "pattern": {
              "fillmode": "overlay",
              "size": 10,
              "solidity": 0.2
             }
            },
            "type": "barpolar"
           }
          ],
          "carpet": [
           {
            "aaxis": {
             "endlinecolor": "#A2B1C6",
             "gridcolor": "#506784",
             "linecolor": "#506784",
             "minorgridcolor": "#506784",
             "startlinecolor": "#A2B1C6"
            },
            "baxis": {
             "endlinecolor": "#A2B1C6",
             "gridcolor": "#506784",
             "linecolor": "#506784",
             "minorgridcolor": "#506784",
             "startlinecolor": "#A2B1C6"
            },
            "type": "carpet"
           }
          ],
          "choropleth": [
           {
            "colorbar": {
             "outlinewidth": 0,
             "ticks": ""
            },
            "type": "choropleth"
           }
          ],
          "contour": [
           {
            "colorbar": {
             "outlinewidth": 0,
             "ticks": ""
            },
            "colorscale": [
             [
              0,
              "#0d0887"
             ],
             [
              0.1111111111111111,
              "#46039f"
             ],
             [
              0.2222222222222222,
              "#7201a8"
             ],
             [
              0.3333333333333333,
              "#9c179e"
             ],
             [
              0.4444444444444444,
              "#bd3786"
             ],
             [
              0.5555555555555556,
              "#d8576b"
             ],
             [
              0.6666666666666666,
              "#ed7953"
             ],
             [
              0.7777777777777778,
              "#fb9f3a"
             ],
             [
              0.8888888888888888,
              "#fdca26"
             ],
             [
              1,
              "#f0f921"
             ]
            ],
            "type": "contour"
           }
          ],
          "contourcarpet": [
           {
            "colorbar": {
             "outlinewidth": 0,
             "ticks": ""
            },
            "type": "contourcarpet"
           }
          ],
          "heatmap": [
           {
            "colorbar": {
             "outlinewidth": 0,
             "ticks": ""
            },
            "colorscale": [
             [
              0,
              "#0d0887"
             ],
             [
              0.1111111111111111,
              "#46039f"
             ],
             [
              0.2222222222222222,
              "#7201a8"
             ],
             [
              0.3333333333333333,
              "#9c179e"
             ],
             [
              0.4444444444444444,
              "#bd3786"
             ],
             [
              0.5555555555555556,
              "#d8576b"
             ],
             [
              0.6666666666666666,
              "#ed7953"
             ],
             [
              0.7777777777777778,
              "#fb9f3a"
             ],
             [
              0.8888888888888888,
              "#fdca26"
             ],
             [
              1,
              "#f0f921"
             ]
            ],
            "type": "heatmap"
           }
          ],
          "histogram": [
           {
            "marker": {
             "pattern": {
              "fillmode": "overlay",
              "size": 10,
              "solidity": 0.2
             }
            },
            "type": "histogram"
           }
          ],
          "histogram2d": [
           {
            "colorbar": {
             "outlinewidth": 0,
             "ticks": ""
            },
            "colorscale": [
             [
              0,
              "#0d0887"
             ],
             [
              0.1111111111111111,
              "#46039f"
             ],
             [
              0.2222222222222222,
              "#7201a8"
             ],
             [
              0.3333333333333333,
              "#9c179e"
             ],
             [
              0.4444444444444444,
              "#bd3786"
             ],
             [
              0.5555555555555556,
              "#d8576b"
             ],
             [
              0.6666666666666666,
              "#ed7953"
             ],
             [
              0.7777777777777778,
              "#fb9f3a"
             ],
             [
              0.8888888888888888,
              "#fdca26"
             ],
             [
              1,
              "#f0f921"
             ]
            ],
            "type": "histogram2d"
           }
          ],
          "histogram2dcontour": [
           {
            "colorbar": {
             "outlinewidth": 0,
             "ticks": ""
            },
            "colorscale": [
             [
              0,
              "#0d0887"
             ],
             [
              0.1111111111111111,
              "#46039f"
             ],
             [
              0.2222222222222222,
              "#7201a8"
             ],
             [
              0.3333333333333333,
              "#9c179e"
             ],
             [
              0.4444444444444444,
              "#bd3786"
             ],
             [
              0.5555555555555556,
              "#d8576b"
             ],
             [
              0.6666666666666666,
              "#ed7953"
             ],
             [
              0.7777777777777778,
              "#fb9f3a"
             ],
             [
              0.8888888888888888,
              "#fdca26"
             ],
             [
              1,
              "#f0f921"
             ]
            ],
            "type": "histogram2dcontour"
           }
          ],
          "mesh3d": [
           {
            "colorbar": {
             "outlinewidth": 0,
             "ticks": ""
            },
            "type": "mesh3d"
           }
          ],
          "parcoords": [
           {
            "line": {
             "colorbar": {
              "outlinewidth": 0,
              "ticks": ""
             }
            },
            "type": "parcoords"
           }
          ],
          "pie": [
           {
            "automargin": true,
            "type": "pie"
           }
          ],
          "scatter": [
           {
            "marker": {
             "line": {
              "color": "#283442"
             }
            },
            "type": "scatter"
           }
          ],
          "scatter3d": [
           {
            "line": {
             "colorbar": {
              "outlinewidth": 0,
              "ticks": ""
             }
            },
            "marker": {
             "colorbar": {
              "outlinewidth": 0,
              "ticks": ""
             }
            },
            "type": "scatter3d"
           }
          ],
          "scattercarpet": [
           {
            "marker": {
             "colorbar": {
              "outlinewidth": 0,
              "ticks": ""
             }
            },
            "type": "scattercarpet"
           }
          ],
          "scattergeo": [
           {
            "marker": {
             "colorbar": {
              "outlinewidth": 0,
              "ticks": ""
             }
            },
            "type": "scattergeo"
           }
          ],
          "scattergl": [
           {
            "marker": {
             "line": {
              "color": "#283442"
             }
            },
            "type": "scattergl"
           }
          ],
          "scattermap": [
           {
            "marker": {
             "colorbar": {
              "outlinewidth": 0,
              "ticks": ""
             }
            },
            "type": "scattermap"
           }
          ],
          "scattermapbox": [
           {
            "marker": {
             "colorbar": {
              "outlinewidth": 0,
              "ticks": ""
             }
            },
            "type": "scattermapbox"
           }
          ],
          "scatterpolar": [
           {
            "marker": {
             "colorbar": {
              "outlinewidth": 0,
              "ticks": ""
             }
            },
            "type": "scatterpolar"
           }
          ],
          "scatterpolargl": [
           {
            "marker": {
             "colorbar": {
              "outlinewidth": 0,
              "ticks": ""
             }
            },
            "type": "scatterpolargl"
           }
          ],
          "scatterternary": [
           {
            "marker": {
             "colorbar": {
              "outlinewidth": 0,
              "ticks": ""
             }
            },
            "type": "scatterternary"
           }
          ],
          "surface": [
           {
            "colorbar": {
             "outlinewidth": 0,
             "ticks": ""
            },
            "colorscale": [
             [
              0,
              "#0d0887"
             ],
             [
              0.1111111111111111,
              "#46039f"
             ],
             [
              0.2222222222222222,
              "#7201a8"
             ],
             [
              0.3333333333333333,
              "#9c179e"
             ],
             [
              0.4444444444444444,
              "#bd3786"
             ],
             [
              0.5555555555555556,
              "#d8576b"
             ],
             [
              0.6666666666666666,
              "#ed7953"
             ],
             [
              0.7777777777777778,
              "#fb9f3a"
             ],
             [
              0.8888888888888888,
              "#fdca26"
             ],
             [
              1,
              "#f0f921"
             ]
            ],
            "type": "surface"
           }
          ],
          "table": [
           {
            "cells": {
             "fill": {
              "color": "#506784"
             },
             "line": {
              "color": "rgb(17,17,17)"
             }
            },
            "header": {
             "fill": {
              "color": "#2a3f5f"
             },
             "line": {
              "color": "rgb(17,17,17)"
             }
            },
            "type": "table"
           }
          ]
         },
         "layout": {
          "annotationdefaults": {
           "arrowcolor": "#f2f5fa",
           "arrowhead": 0,
           "arrowwidth": 1
          },
          "autotypenumbers": "strict",
          "coloraxis": {
           "colorbar": {
            "outlinewidth": 0,
            "ticks": ""
           }
          },
          "colorscale": {
           "diverging": [
            [
             0,
             "#8e0152"
            ],
            [
             0.1,
             "#c51b7d"
            ],
            [
             0.2,
             "#de77ae"
            ],
            [
             0.3,
             "#f1b6da"
            ],
            [
             0.4,
             "#fde0ef"
            ],
            [
             0.5,
             "#f7f7f7"
            ],
            [
             0.6,
             "#e6f5d0"
            ],
            [
             0.7,
             "#b8e186"
            ],
            [
             0.8,
             "#7fbc41"
            ],
            [
             0.9,
             "#4d9221"
            ],
            [
             1,
             "#276419"
            ]
           ],
           "sequential": [
            [
             0,
             "#0d0887"
            ],
            [
             0.1111111111111111,
             "#46039f"
            ],
            [
             0.2222222222222222,
             "#7201a8"
            ],
            [
             0.3333333333333333,
             "#9c179e"
            ],
            [
             0.4444444444444444,
             "#bd3786"
            ],
            [
             0.5555555555555556,
             "#d8576b"
            ],
            [
             0.6666666666666666,
             "#ed7953"
            ],
            [
             0.7777777777777778,
             "#fb9f3a"
            ],
            [
             0.8888888888888888,
             "#fdca26"
            ],
            [
             1,
             "#f0f921"
            ]
           ],
           "sequentialminus": [
            [
             0,
             "#0d0887"
            ],
            [
             0.1111111111111111,
             "#46039f"
            ],
            [
             0.2222222222222222,
             "#7201a8"
            ],
            [
             0.3333333333333333,
             "#9c179e"
            ],
            [
             0.4444444444444444,
             "#bd3786"
            ],
            [
             0.5555555555555556,
             "#d8576b"
            ],
            [
             0.6666666666666666,
             "#ed7953"
            ],
            [
             0.7777777777777778,
             "#fb9f3a"
            ],
            [
             0.8888888888888888,
             "#fdca26"
            ],
            [
             1,
             "#f0f921"
            ]
           ]
          },
          "colorway": [
           "#636efa",
           "#EF553B",
           "#00cc96",
           "#ab63fa",
           "#FFA15A",
           "#19d3f3",
           "#FF6692",
           "#B6E880",
           "#FF97FF",
           "#FECB52"
          ],
          "font": {
           "color": "#f2f5fa"
          },
          "geo": {
           "bgcolor": "rgb(17,17,17)",
           "lakecolor": "rgb(17,17,17)",
           "landcolor": "rgb(17,17,17)",
           "showlakes": true,
           "showland": true,
           "subunitcolor": "#506784"
          },
          "hoverlabel": {
           "align": "left"
          },
          "hovermode": "closest",
          "mapbox": {
           "style": "dark"
          },
          "paper_bgcolor": "rgb(17,17,17)",
          "plot_bgcolor": "rgb(17,17,17)",
          "polar": {
           "angularaxis": {
            "gridcolor": "#506784",
            "linecolor": "#506784",
            "ticks": ""
           },
           "bgcolor": "rgb(17,17,17)",
           "radialaxis": {
            "gridcolor": "#506784",
            "linecolor": "#506784",
            "ticks": ""
           }
          },
          "scene": {
           "xaxis": {
            "backgroundcolor": "rgb(17,17,17)",
            "gridcolor": "#506784",
            "gridwidth": 2,
            "linecolor": "#506784",
            "showbackground": true,
            "ticks": "",
            "zerolinecolor": "#C8D4E3"
           },
           "yaxis": {
            "backgroundcolor": "rgb(17,17,17)",
            "gridcolor": "#506784",
            "gridwidth": 2,
            "linecolor": "#506784",
            "showbackground": true,
            "ticks": "",
            "zerolinecolor": "#C8D4E3"
           },
           "zaxis": {
            "backgroundcolor": "rgb(17,17,17)",
            "gridcolor": "#506784",
            "gridwidth": 2,
            "linecolor": "#506784",
            "showbackground": true,
            "ticks": "",
            "zerolinecolor": "#C8D4E3"
           }
          },
          "shapedefaults": {
           "line": {
            "color": "#f2f5fa"
           }
          },
          "sliderdefaults": {
           "bgcolor": "#C8D4E3",
           "bordercolor": "rgb(17,17,17)",
           "borderwidth": 1,
           "tickwidth": 0
          },
          "ternary": {
           "aaxis": {
            "gridcolor": "#506784",
            "linecolor": "#506784",
            "ticks": ""
           },
           "baxis": {
            "gridcolor": "#506784",
            "linecolor": "#506784",
            "ticks": ""
           },
           "bgcolor": "rgb(17,17,17)",
           "caxis": {
            "gridcolor": "#506784",
            "linecolor": "#506784",
            "ticks": ""
           }
          },
          "title": {
           "x": 0.05
          },
          "updatemenudefaults": {
           "bgcolor": "#506784",
           "borderwidth": 0
          },
          "xaxis": {
           "automargin": true,
           "gridcolor": "#283442",
           "linecolor": "#506784",
           "ticks": "",
           "title": {
            "standoff": 15
           },
           "zerolinecolor": "#283442",
           "zerolinewidth": 2
          },
          "yaxis": {
           "automargin": true,
           "gridcolor": "#283442",
           "linecolor": "#506784",
           "ticks": "",
           "title": {
            "standoff": 15
           },
           "zerolinecolor": "#283442",
           "zerolinewidth": 2
          }
         }
        },
        "title": {
         "text": "<b><span style=\"font-size:22px;\">Sazonalidade por Dia do Ano</span></b>",
         "x": 0.5,
         "xanchor": "center",
         "y": 0.94,
         "yanchor": "top"
        },
        "xaxis": {
         "anchor": "y",
         "domain": [
          0,
          1
         ],
         "showticklabels": false,
         "tickangle": 45,
         "title": {
          "text": "Dia do Ano (MM-DD)"
         }
        },
        "yaxis": {
         "anchor": "x",
         "domain": [
          0,
          1
         ],
         "range": [
          73227.4424,
          88801.7916
         ],
         "side": "left",
         "title": {
          "text": "Valor do Bitcoin - USD"
         }
        }
       }
      }
     },
     "metadata": {},
     "output_type": "display_data"
    },
    {
     "data": {
      "application/vnd.plotly.v1+json": {
       "config": {
        "plotlyServerURL": "https://plot.ly"
       },
       "data": [
        {
         "alignmentgroup": "True",
         "hovertemplate": "Semana do Ano=%{x}<br>Preço BTC=%{y}<extra></extra>",
         "legendgroup": "",
         "line": {
          "color": "#E57C1F"
         },
         "marker": {
          "color": "#E57C1F"
         },
         "name": "",
         "notched": false,
         "offsetgroup": "",
         "orientation": "v",
         "showlegend": false,
         "type": "box",
         "x": [
          "2025-W13",
          "2025-W13",
          "2025-W13",
          "2025-W13",
          "2025-W13",
          "2025-W13",
          "2025-W13",
          "2025-W13",
          "2025-W13",
          "2025-W13",
          "2025-W13",
          "2025-W13",
          "2025-W13",
          "2025-W13",
          "2025-W13",
          "2025-W13",
          "2025-W13",
          "2025-W13",
          "2025-W13",
          "2025-W13",
          "2025-W13",
          "2025-W13",
          "2025-W13",
          "2025-W13",
          "2025-W13",
          "2025-W13",
          "2025-W13",
          "2025-W13",
          "2025-W13",
          "2025-W13",
          "2025-W13",
          "2025-W13",
          "2025-W13",
          "2025-W13",
          "2025-W13",
          "2025-W13",
          "2025-W13",
          "2025-W13",
          "2025-W13",
          "2025-W13",
          "2025-W13",
          "2025-W13",
          "2025-W13",
          "2025-W13",
          "2025-W13",
          "2025-W13",
          "2025-W13",
          "2025-W13",
          "2025-W13",
          "2025-W13",
          "2025-W13",
          "2025-W13",
          "2025-W13",
          "2025-W13",
          "2025-W13",
          "2025-W13",
          "2025-W13",
          "2025-W13",
          "2025-W13",
          "2025-W13",
          "2025-W13",
          "2025-W13",
          "2025-W13",
          "2025-W13",
          "2025-W13",
          "2025-W13",
          "2025-W13",
          "2025-W13",
          "2025-W13",
          "2025-W13",
          "2025-W13",
          "2025-W13",
          "2025-W13",
          "2025-W13",
          "2025-W13",
          "2025-W13",
          "2025-W13",
          "2025-W13",
          "2025-W13",
          "2025-W13",
          "2025-W13",
          "2025-W13",
          "2025-W13",
          "2025-W13",
          "2025-W13",
          "2025-W13",
          "2025-W13",
          "2025-W13",
          "2025-W13",
          "2025-W13",
          "2025-W13",
          "2025-W13",
          "2025-W13",
          "2025-W13",
          "2025-W13",
          "2025-W13",
          "2025-W13",
          "2025-W13",
          "2025-W13",
          "2025-W13",
          "2025-W13",
          "2025-W13",
          "2025-W13",
          "2025-W13",
          "2025-W13",
          "2025-W13",
          "2025-W13",
          "2025-W13",
          "2025-W13",
          "2025-W13",
          "2025-W13",
          "2025-W13",
          "2025-W13",
          "2025-W13",
          "2025-W13",
          "2025-W13",
          "2025-W13",
          "2025-W13",
          "2025-W13",
          "2025-W13",
          "2025-W14",
          "2025-W14",
          "2025-W14",
          "2025-W14",
          "2025-W14",
          "2025-W14",
          "2025-W14",
          "2025-W14",
          "2025-W14",
          "2025-W14",
          "2025-W14",
          "2025-W14",
          "2025-W14",
          "2025-W14",
          "2025-W14",
          "2025-W14",
          "2025-W14",
          "2025-W14",
          "2025-W14",
          "2025-W14",
          "2025-W14",
          "2025-W14",
          "2025-W14",
          "2025-W14",
          "2025-W14",
          "2025-W14",
          "2025-W14",
          "2025-W14",
          "2025-W14",
          "2025-W14",
          "2025-W14",
          "2025-W14",
          "2025-W14",
          "2025-W14",
          "2025-W14",
          "2025-W14",
          "2025-W14",
          "2025-W14",
          "2025-W14",
          "2025-W14",
          "2025-W14",
          "2025-W14",
          "2025-W14",
          "2025-W14",
          "2025-W14",
          "2025-W14",
          "2025-W14",
          "2025-W14",
          "2025-W14",
          "2025-W14",
          "2025-W14",
          "2025-W14",
          "2025-W14",
          "2025-W14",
          "2025-W14",
          "2025-W14",
          "2025-W14",
          "2025-W14",
          "2025-W14",
          "2025-W14",
          "2025-W14",
          "2025-W14",
          "2025-W14",
          "2025-W14",
          "2025-W14",
          "2025-W14",
          "2025-W14"
         ],
         "x0": " ",
         "xaxis": "x",
         "y": {
          "bdata": "hetRuO4s9EDhehSugzj0QJqZmZk9JvRAXI/C9ZhX9ECPwvUokDn0QJqZmZl5LvRAzczMzOQn9EDhehSuE6b0QB+F61GEm/RAmpmZmemA9EDD9ShcK0X0QFK4HoUnTvRA4XoUrm8w9EDNzMzMYFn0QMP1KFxzNvRAKVyPwqku9EA9CtejPET0QM3MzMxsTfRAcT0K19sw9ECamZmZGTD0QFK4HoXfGPRASOF6FHIB9EDhehSufwj0QM3MzMxE+PNAcT0K1/P380B7FK5HhQX0QHE9CtcX5fNApHA9Ctc79EC4HoXr2Zz0QGZmZmbGfvRAuB6F64WA9EC4HoXr9WL0QMP1KFyXTfRAmpmZmc089EDD9Shcg0b0QLgehevNOPRAUrgehYNE9EAzMzMzzzn0QBSuR+HCMfRAcT0K17Mp9EBxPQrXxzz0QKRwPQqDMvRAj8L1KFRT9ECPwvUouF70QAAAAABQavRAH4XrUdx19EBI4XoURmL0QK5H4Xo0YvRAj8L1KGhf9EAzMzMzF230QFK4HoWnbPRAPQrXo2Bp9EApXI/CXX70QHsUrkcJf/RAw/UoXP9y9EDD9ShcQ3n0QM3MzMzwg/RAAAAAABiK9ED2KFyPihn0QOxRuB5xAPRA4XoUrquL9ECuR+F6aFH0QAAAAABEr/RACtejcF3K9EAUrkfhar70QMP1KFxvy/RAKVyPwsXG9EApXI/CBc70QAAAAADYz/RACtejcLG99ECPwvUo+Mf0QArXo3AVyPRAAAAAAEDI9EBI4XoUitL0QOxRuB6xpPRArkfhepBt9EAfhetRHH30QIXrUbhmjfRAuB6F6+GX9ED2KFyP/oj0QLgeheshYPRACtejcM1f9EBSuB6FP0P0QAAAAAAUR/RAXI/C9YBA9EBI4XoUlkj0QHsUrkcdMPRACtejcPFH9ED2KFyPwmn0QHsUrkcNqPRArkfheliO9EDD9ShcT4r0QArXo3AVYfRAj8L1KNyI9EB7FK5HdW70QHE9CtcDYPRAPQrXo7BG9EBmZmZmnlj0QArXo3BVZvRA9ihcj2ph9EAUrkfh1nL0QK5H4XpgUPRAexSuR6kj9EDhehSunzb0QEjhehT2tvRAH4XrUczo9EBmZmZmznL0QFK4HoXbOPVAMzMzM7ec9ECamZmZFaz0QB+F61HgwfRAj8L1KMy39EDhehSur8P0QEjhehR20PRA7FG4Hk2l9EDXo3A9ni/1QHsUrkdJQfVA16NwPfol9UDhehSu+xD1QJqZmZlF9/RAXI/C9XBS80DXo3A9ChDzQPYoXI8WhPNAZmZmZt5V80C4HoXrSUTzQOtRuB5ZJ/NAhetRuEoe80Bcj8L1uOTyQMP1KFyTJvNAXI/C9aRJ80Bcj8L1GLbyQI/C9SjU3fJAuB6F611J80CamZmZeUvzQHsUrkchrPNA4XoUrt8m80CF61G4+oDzQDMzMzOHmfNACtejcHl+80A9CtejgGTzQMP1KFyXZvNACtejcBVS80A9CtejUELzQArXo3BpSPNAmpmZmT2F80DsUbgeEXzzQFK4HoXTf/NAw/UoXFMo80BxPQrXK8nyQAAAAAD84vJAmpmZmfWC80D2KFyPhpzyQPYoXI8mV/RAmpmZmR1S8kCPwvUokL/yQFyPwvVwYvRAUrgehQtd9ECamZmZmVT0QDMzMzMHYfRAPQrXo/Bd9EAK16NwgUn0QHsUrkdhQ/RApHA9CvNC9EAAAAAAXEX0QIXrUbhyOPRA9ihcj0o39EAfhetR9C30QDMzMzP3FfRAexSuR0Us9EAVrkfhviX0QAAAAADYAfRASOF6FB4+8kCPwvUo4MTyQM3MzMykx/JAAAAAAMz18kCamZmZYSPzQNejcD2mT/NAH4XrUdia8kBbj8L1HBzzQOxRuB6xCfNAAAAAAHhD80BSuB6FBz7zQHE9CtfLbfNASOF6FK5L80DhehSug7jzQOtRuB7ZIfNApHA9CjvW8kA=",
          "dtype": "f8"
         },
         "y0": " ",
         "yaxis": "y"
        }
       ],
       "layout": {
        "boxmode": "group",
        "height": 600,
        "images": [
         {
          "sizex": 0.1,
          "sizey": 0.1,
          "source": "/Users/rodrigocampos/Documents/crypto_btc/src/visualizations/BTC_black.png",
          "x": 0.008,
          "xanchor": "left",
          "xref": "paper",
          "y": 1.1,
          "yanchor": "top",
          "yref": "paper"
         }
        ],
        "legend": {
         "tracegroupgap": 0
        },
        "margin": {
         "t": 60
        },
        "showlegend": false,
        "template": {
         "data": {
          "bar": [
           {
            "error_x": {
             "color": "#f2f5fa"
            },
            "error_y": {
             "color": "#f2f5fa"
            },
            "marker": {
             "line": {
              "color": "rgb(17,17,17)",
              "width": 0.5
             },
             "pattern": {
              "fillmode": "overlay",
              "size": 10,
              "solidity": 0.2
             }
            },
            "type": "bar"
           }
          ],
          "barpolar": [
           {
            "marker": {
             "line": {
              "color": "rgb(17,17,17)",
              "width": 0.5
             },
             "pattern": {
              "fillmode": "overlay",
              "size": 10,
              "solidity": 0.2
             }
            },
            "type": "barpolar"
           }
          ],
          "carpet": [
           {
            "aaxis": {
             "endlinecolor": "#A2B1C6",
             "gridcolor": "#506784",
             "linecolor": "#506784",
             "minorgridcolor": "#506784",
             "startlinecolor": "#A2B1C6"
            },
            "baxis": {
             "endlinecolor": "#A2B1C6",
             "gridcolor": "#506784",
             "linecolor": "#506784",
             "minorgridcolor": "#506784",
             "startlinecolor": "#A2B1C6"
            },
            "type": "carpet"
           }
          ],
          "choropleth": [
           {
            "colorbar": {
             "outlinewidth": 0,
             "ticks": ""
            },
            "type": "choropleth"
           }
          ],
          "contour": [
           {
            "colorbar": {
             "outlinewidth": 0,
             "ticks": ""
            },
            "colorscale": [
             [
              0,
              "#0d0887"
             ],
             [
              0.1111111111111111,
              "#46039f"
             ],
             [
              0.2222222222222222,
              "#7201a8"
             ],
             [
              0.3333333333333333,
              "#9c179e"
             ],
             [
              0.4444444444444444,
              "#bd3786"
             ],
             [
              0.5555555555555556,
              "#d8576b"
             ],
             [
              0.6666666666666666,
              "#ed7953"
             ],
             [
              0.7777777777777778,
              "#fb9f3a"
             ],
             [
              0.8888888888888888,
              "#fdca26"
             ],
             [
              1,
              "#f0f921"
             ]
            ],
            "type": "contour"
           }
          ],
          "contourcarpet": [
           {
            "colorbar": {
             "outlinewidth": 0,
             "ticks": ""
            },
            "type": "contourcarpet"
           }
          ],
          "heatmap": [
           {
            "colorbar": {
             "outlinewidth": 0,
             "ticks": ""
            },
            "colorscale": [
             [
              0,
              "#0d0887"
             ],
             [
              0.1111111111111111,
              "#46039f"
             ],
             [
              0.2222222222222222,
              "#7201a8"
             ],
             [
              0.3333333333333333,
              "#9c179e"
             ],
             [
              0.4444444444444444,
              "#bd3786"
             ],
             [
              0.5555555555555556,
              "#d8576b"
             ],
             [
              0.6666666666666666,
              "#ed7953"
             ],
             [
              0.7777777777777778,
              "#fb9f3a"
             ],
             [
              0.8888888888888888,
              "#fdca26"
             ],
             [
              1,
              "#f0f921"
             ]
            ],
            "type": "heatmap"
           }
          ],
          "histogram": [
           {
            "marker": {
             "pattern": {
              "fillmode": "overlay",
              "size": 10,
              "solidity": 0.2
             }
            },
            "type": "histogram"
           }
          ],
          "histogram2d": [
           {
            "colorbar": {
             "outlinewidth": 0,
             "ticks": ""
            },
            "colorscale": [
             [
              0,
              "#0d0887"
             ],
             [
              0.1111111111111111,
              "#46039f"
             ],
             [
              0.2222222222222222,
              "#7201a8"
             ],
             [
              0.3333333333333333,
              "#9c179e"
             ],
             [
              0.4444444444444444,
              "#bd3786"
             ],
             [
              0.5555555555555556,
              "#d8576b"
             ],
             [
              0.6666666666666666,
              "#ed7953"
             ],
             [
              0.7777777777777778,
              "#fb9f3a"
             ],
             [
              0.8888888888888888,
              "#fdca26"
             ],
             [
              1,
              "#f0f921"
             ]
            ],
            "type": "histogram2d"
           }
          ],
          "histogram2dcontour": [
           {
            "colorbar": {
             "outlinewidth": 0,
             "ticks": ""
            },
            "colorscale": [
             [
              0,
              "#0d0887"
             ],
             [
              0.1111111111111111,
              "#46039f"
             ],
             [
              0.2222222222222222,
              "#7201a8"
             ],
             [
              0.3333333333333333,
              "#9c179e"
             ],
             [
              0.4444444444444444,
              "#bd3786"
             ],
             [
              0.5555555555555556,
              "#d8576b"
             ],
             [
              0.6666666666666666,
              "#ed7953"
             ],
             [
              0.7777777777777778,
              "#fb9f3a"
             ],
             [
              0.8888888888888888,
              "#fdca26"
             ],
             [
              1,
              "#f0f921"
             ]
            ],
            "type": "histogram2dcontour"
           }
          ],
          "mesh3d": [
           {
            "colorbar": {
             "outlinewidth": 0,
             "ticks": ""
            },
            "type": "mesh3d"
           }
          ],
          "parcoords": [
           {
            "line": {
             "colorbar": {
              "outlinewidth": 0,
              "ticks": ""
             }
            },
            "type": "parcoords"
           }
          ],
          "pie": [
           {
            "automargin": true,
            "type": "pie"
           }
          ],
          "scatter": [
           {
            "marker": {
             "line": {
              "color": "#283442"
             }
            },
            "type": "scatter"
           }
          ],
          "scatter3d": [
           {
            "line": {
             "colorbar": {
              "outlinewidth": 0,
              "ticks": ""
             }
            },
            "marker": {
             "colorbar": {
              "outlinewidth": 0,
              "ticks": ""
             }
            },
            "type": "scatter3d"
           }
          ],
          "scattercarpet": [
           {
            "marker": {
             "colorbar": {
              "outlinewidth": 0,
              "ticks": ""
             }
            },
            "type": "scattercarpet"
           }
          ],
          "scattergeo": [
           {
            "marker": {
             "colorbar": {
              "outlinewidth": 0,
              "ticks": ""
             }
            },
            "type": "scattergeo"
           }
          ],
          "scattergl": [
           {
            "marker": {
             "line": {
              "color": "#283442"
             }
            },
            "type": "scattergl"
           }
          ],
          "scattermap": [
           {
            "marker": {
             "colorbar": {
              "outlinewidth": 0,
              "ticks": ""
             }
            },
            "type": "scattermap"
           }
          ],
          "scattermapbox": [
           {
            "marker": {
             "colorbar": {
              "outlinewidth": 0,
              "ticks": ""
             }
            },
            "type": "scattermapbox"
           }
          ],
          "scatterpolar": [
           {
            "marker": {
             "colorbar": {
              "outlinewidth": 0,
              "ticks": ""
             }
            },
            "type": "scatterpolar"
           }
          ],
          "scatterpolargl": [
           {
            "marker": {
             "colorbar": {
              "outlinewidth": 0,
              "ticks": ""
             }
            },
            "type": "scatterpolargl"
           }
          ],
          "scatterternary": [
           {
            "marker": {
             "colorbar": {
              "outlinewidth": 0,
              "ticks": ""
             }
            },
            "type": "scatterternary"
           }
          ],
          "surface": [
           {
            "colorbar": {
             "outlinewidth": 0,
             "ticks": ""
            },
            "colorscale": [
             [
              0,
              "#0d0887"
             ],
             [
              0.1111111111111111,
              "#46039f"
             ],
             [
              0.2222222222222222,
              "#7201a8"
             ],
             [
              0.3333333333333333,
              "#9c179e"
             ],
             [
              0.4444444444444444,
              "#bd3786"
             ],
             [
              0.5555555555555556,
              "#d8576b"
             ],
             [
              0.6666666666666666,
              "#ed7953"
             ],
             [
              0.7777777777777778,
              "#fb9f3a"
             ],
             [
              0.8888888888888888,
              "#fdca26"
             ],
             [
              1,
              "#f0f921"
             ]
            ],
            "type": "surface"
           }
          ],
          "table": [
           {
            "cells": {
             "fill": {
              "color": "#506784"
             },
             "line": {
              "color": "rgb(17,17,17)"
             }
            },
            "header": {
             "fill": {
              "color": "#2a3f5f"
             },
             "line": {
              "color": "rgb(17,17,17)"
             }
            },
            "type": "table"
           }
          ]
         },
         "layout": {
          "annotationdefaults": {
           "arrowcolor": "#f2f5fa",
           "arrowhead": 0,
           "arrowwidth": 1
          },
          "autotypenumbers": "strict",
          "coloraxis": {
           "colorbar": {
            "outlinewidth": 0,
            "ticks": ""
           }
          },
          "colorscale": {
           "diverging": [
            [
             0,
             "#8e0152"
            ],
            [
             0.1,
             "#c51b7d"
            ],
            [
             0.2,
             "#de77ae"
            ],
            [
             0.3,
             "#f1b6da"
            ],
            [
             0.4,
             "#fde0ef"
            ],
            [
             0.5,
             "#f7f7f7"
            ],
            [
             0.6,
             "#e6f5d0"
            ],
            [
             0.7,
             "#b8e186"
            ],
            [
             0.8,
             "#7fbc41"
            ],
            [
             0.9,
             "#4d9221"
            ],
            [
             1,
             "#276419"
            ]
           ],
           "sequential": [
            [
             0,
             "#0d0887"
            ],
            [
             0.1111111111111111,
             "#46039f"
            ],
            [
             0.2222222222222222,
             "#7201a8"
            ],
            [
             0.3333333333333333,
             "#9c179e"
            ],
            [
             0.4444444444444444,
             "#bd3786"
            ],
            [
             0.5555555555555556,
             "#d8576b"
            ],
            [
             0.6666666666666666,
             "#ed7953"
            ],
            [
             0.7777777777777778,
             "#fb9f3a"
            ],
            [
             0.8888888888888888,
             "#fdca26"
            ],
            [
             1,
             "#f0f921"
            ]
           ],
           "sequentialminus": [
            [
             0,
             "#0d0887"
            ],
            [
             0.1111111111111111,
             "#46039f"
            ],
            [
             0.2222222222222222,
             "#7201a8"
            ],
            [
             0.3333333333333333,
             "#9c179e"
            ],
            [
             0.4444444444444444,
             "#bd3786"
            ],
            [
             0.5555555555555556,
             "#d8576b"
            ],
            [
             0.6666666666666666,
             "#ed7953"
            ],
            [
             0.7777777777777778,
             "#fb9f3a"
            ],
            [
             0.8888888888888888,
             "#fdca26"
            ],
            [
             1,
             "#f0f921"
            ]
           ]
          },
          "colorway": [
           "#636efa",
           "#EF553B",
           "#00cc96",
           "#ab63fa",
           "#FFA15A",
           "#19d3f3",
           "#FF6692",
           "#B6E880",
           "#FF97FF",
           "#FECB52"
          ],
          "font": {
           "color": "#f2f5fa"
          },
          "geo": {
           "bgcolor": "rgb(17,17,17)",
           "lakecolor": "rgb(17,17,17)",
           "landcolor": "rgb(17,17,17)",
           "showlakes": true,
           "showland": true,
           "subunitcolor": "#506784"
          },
          "hoverlabel": {
           "align": "left"
          },
          "hovermode": "closest",
          "mapbox": {
           "style": "dark"
          },
          "paper_bgcolor": "rgb(17,17,17)",
          "plot_bgcolor": "rgb(17,17,17)",
          "polar": {
           "angularaxis": {
            "gridcolor": "#506784",
            "linecolor": "#506784",
            "ticks": ""
           },
           "bgcolor": "rgb(17,17,17)",
           "radialaxis": {
            "gridcolor": "#506784",
            "linecolor": "#506784",
            "ticks": ""
           }
          },
          "scene": {
           "xaxis": {
            "backgroundcolor": "rgb(17,17,17)",
            "gridcolor": "#506784",
            "gridwidth": 2,
            "linecolor": "#506784",
            "showbackground": true,
            "ticks": "",
            "zerolinecolor": "#C8D4E3"
           },
           "yaxis": {
            "backgroundcolor": "rgb(17,17,17)",
            "gridcolor": "#506784",
            "gridwidth": 2,
            "linecolor": "#506784",
            "showbackground": true,
            "ticks": "",
            "zerolinecolor": "#C8D4E3"
           },
           "zaxis": {
            "backgroundcolor": "rgb(17,17,17)",
            "gridcolor": "#506784",
            "gridwidth": 2,
            "linecolor": "#506784",
            "showbackground": true,
            "ticks": "",
            "zerolinecolor": "#C8D4E3"
           }
          },
          "shapedefaults": {
           "line": {
            "color": "#f2f5fa"
           }
          },
          "sliderdefaults": {
           "bgcolor": "#C8D4E3",
           "bordercolor": "rgb(17,17,17)",
           "borderwidth": 1,
           "tickwidth": 0
          },
          "ternary": {
           "aaxis": {
            "gridcolor": "#506784",
            "linecolor": "#506784",
            "ticks": ""
           },
           "baxis": {
            "gridcolor": "#506784",
            "linecolor": "#506784",
            "ticks": ""
           },
           "bgcolor": "rgb(17,17,17)",
           "caxis": {
            "gridcolor": "#506784",
            "linecolor": "#506784",
            "ticks": ""
           }
          },
          "title": {
           "x": 0.05
          },
          "updatemenudefaults": {
           "bgcolor": "#506784",
           "borderwidth": 0
          },
          "xaxis": {
           "automargin": true,
           "gridcolor": "#283442",
           "linecolor": "#506784",
           "ticks": "",
           "title": {
            "standoff": 15
           },
           "zerolinecolor": "#283442",
           "zerolinewidth": 2
          },
          "yaxis": {
           "automargin": true,
           "gridcolor": "#283442",
           "linecolor": "#506784",
           "ticks": "",
           "title": {
            "standoff": 15
           },
           "zerolinecolor": "#283442",
           "zerolinewidth": 2
          }
         }
        },
        "title": {
         "text": "<b><span style=\"font-size:22px;\">Sazonalidade Semanal do Preço do Bitcoin</span></b>",
         "x": 0.5,
         "xanchor": "center",
         "y": 0.94,
         "yanchor": "top"
        },
        "xaxis": {
         "anchor": "y",
         "domain": [
          0,
          1
         ],
         "tickangle": 45,
         "title": {
          "text": "Semana do Ano (YYYY-WW)"
         }
        },
        "yaxis": {
         "anchor": "x",
         "domain": [
          0,
          1
         ],
         "range": [
          73227.4424,
          88801.7916
         ],
         "side": "left",
         "title": {
          "text": "Valor do Bitcoin - USD"
         }
        }
       }
      }
     },
     "metadata": {},
     "output_type": "display_data"
    },
    {
     "data": {
      "application/vnd.plotly.v1+json": {
       "config": {
        "plotlyServerURL": "https://plot.ly"
       },
       "data": [
        {
         "alignmentgroup": "True",
         "hovertemplate": "Ano-Mês=%{x}<br>Preço BTC=%{y}<extra></extra>",
         "legendgroup": "",
         "line": {
          "color": "#E57C1F"
         },
         "marker": {
          "color": "#E57C1F"
         },
         "name": "",
         "notched": false,
         "offsetgroup": "",
         "orientation": "v",
         "showlegend": false,
         "type": "box",
         "x": [
          "2025-04",
          "2025-04",
          "2025-04",
          "2025-04",
          "2025-04",
          "2025-04",
          "2025-04",
          "2025-04",
          "2025-04",
          "2025-04",
          "2025-04",
          "2025-04",
          "2025-04",
          "2025-04",
          "2025-04",
          "2025-04",
          "2025-04",
          "2025-04",
          "2025-04",
          "2025-04",
          "2025-04",
          "2025-04",
          "2025-04",
          "2025-04",
          "2025-04",
          "2025-04",
          "2025-04",
          "2025-04",
          "2025-04",
          "2025-04",
          "2025-04",
          "2025-04",
          "2025-04",
          "2025-04",
          "2025-04",
          "2025-04",
          "2025-04",
          "2025-04",
          "2025-04",
          "2025-04",
          "2025-04",
          "2025-04",
          "2025-04",
          "2025-04",
          "2025-04",
          "2025-04",
          "2025-04",
          "2025-04",
          "2025-04",
          "2025-04",
          "2025-04",
          "2025-04",
          "2025-04",
          "2025-04",
          "2025-04",
          "2025-04",
          "2025-04",
          "2025-04",
          "2025-04",
          "2025-04",
          "2025-04",
          "2025-04",
          "2025-04",
          "2025-04",
          "2025-04",
          "2025-04",
          "2025-04",
          "2025-04",
          "2025-04",
          "2025-04",
          "2025-04",
          "2025-04",
          "2025-04",
          "2025-04",
          "2025-04",
          "2025-04",
          "2025-04",
          "2025-04",
          "2025-04",
          "2025-04",
          "2025-04",
          "2025-04",
          "2025-04",
          "2025-04",
          "2025-04",
          "2025-04",
          "2025-04",
          "2025-04",
          "2025-04",
          "2025-04",
          "2025-04",
          "2025-04",
          "2025-04",
          "2025-04",
          "2025-04",
          "2025-04",
          "2025-04",
          "2025-04",
          "2025-04",
          "2025-04",
          "2025-04",
          "2025-04",
          "2025-04",
          "2025-04",
          "2025-04",
          "2025-04",
          "2025-04",
          "2025-04",
          "2025-04",
          "2025-04",
          "2025-04",
          "2025-04",
          "2025-04",
          "2025-04",
          "2025-04",
          "2025-04",
          "2025-04",
          "2025-04",
          "2025-04",
          "2025-04",
          "2025-04",
          "2025-04",
          "2025-04",
          "2025-04",
          "2025-04",
          "2025-04",
          "2025-04",
          "2025-04",
          "2025-04",
          "2025-04",
          "2025-04",
          "2025-04",
          "2025-04",
          "2025-04",
          "2025-04",
          "2025-04",
          "2025-04",
          "2025-04",
          "2025-04",
          "2025-04",
          "2025-04",
          "2025-04",
          "2025-04",
          "2025-04",
          "2025-04",
          "2025-04",
          "2025-04",
          "2025-04",
          "2025-04",
          "2025-04",
          "2025-04",
          "2025-04",
          "2025-04",
          "2025-04",
          "2025-04",
          "2025-04",
          "2025-04",
          "2025-04",
          "2025-04",
          "2025-04",
          "2025-04",
          "2025-04",
          "2025-04",
          "2025-04",
          "2025-04",
          "2025-04",
          "2025-04",
          "2025-04",
          "2025-04",
          "2025-04",
          "2025-04",
          "2025-04",
          "2025-04",
          "2025-04",
          "2025-04",
          "2025-04",
          "2025-04",
          "2025-04",
          "2025-04",
          "2025-04",
          "2025-04",
          "2025-04",
          "2025-04",
          "2025-04",
          "2025-04",
          "2025-04",
          "2025-04"
         ],
         "x0": " ",
         "xaxis": "x",
         "y": {
          "bdata": "hetRuO4s9EC4HoXr9WL0QFyPwvVwYvRAUrgehQtd9ECamZmZmVT0QPYoXI8mV/RAMzMzMwdh9EA9Ctej8F30QArXo3CBSfRAexSuR2FD9ECkcD0K80L0QAAAAABcRfRAhetRuHI49ED2KFyPSjf0QB+F61H0LfRAMzMzM/cV9EB7FK5HRSz0QBWuR+G+JfRAAAAAANgB9EDhehSug7jzQMP1KFyXTfRAmpmZmc089EDD9Shcg0b0QLgehevNOPRAw/UoXEN59EDD9Shc/3L0QHsUrkcJf/RAKVyPwl1+9EA9CtejYGn0QFK4HoWnbPRAMzMzMxdt9ECPwvUoaF/0QK5H4Xo0YvRASOF6FK5L80BI4XoURmL0QAAAAABQavRAj8L1KLhe9ECPwvUoVFP0QKRwPQqDMvRAcT0K18c89EBxPQrXsyn0QBSuR+HCMfRAMzMzM8859EBSuB6Fg0T0QB+F61HcdfRAzczMzPCD9EBxPQrXy23zQAAAAAB4Q/NA9ihcjxaE80Bcj8L1cFLzQLgehetdSfNAexSuRyGs80CamZmZ9YLzQIXrUbj6gPNAMzMzM4eZ80AK16NweX7zQD0K16OAZPNAw/UoXJdm80AK16NwFVLzQD0K16NQQvNACtejcGlI80CamZmZPYXzQOxRuB4RfPNAUrgehdN/80DhehSu3ybzQMP1KFxTKPNAAAAAAPzi8kBmZmZm3lXzQLgehetJRPNA16NwPQoQ80DrUbgeWSfzQOxRuB6xCfNA61G4Htkh80Bbj8L1HBzzQNejcD2mT/NAmpmZmWEj80AAAAAAzPXyQM3MzMykx/JAj8L1KODE8kBI4XoUHj7yQFK4HoUHPvNAmpmZmR1S8kD2KFyPhpzyQHE9CtcryfJAXI/C9Ri28kCPwvUo1N3yQIXrUbhKHvNAXI/C9aRJ80DD9ShckybzQFyPwvW45PJAmpmZmXlL80AfhetR2JryQI/C9SiQv/JA4XoUrquL9EC4HoXrhYD0QArXo3BdyvRAAAAAAESv9EDsUbgesaT0QHsUrkcNqPRAj8L1KNyI9EDD9ShcT4r0QDMzMzO3nPRAmpmZmRWs9EAfhetR4MH0QI/C9SjMt/RA7FG4Hk2l9EDhehSur8P0QEjhehR20PRAmpmZmUX39EDXo3A9ni/1QHsUrkdJQfVA16NwPfol9UDhehSu+xD1QFK4HoXbOPVAFK5H4Wq+9EDD9Shcb8v0QClcj8LFxvRAKVyPwgXO9EB7FK5HHTD0QEjhehSWSPRAXI/C9YBA9EAAAAAAFEf0QFK4HoU/Q/RACtejcM1f9EC4HoXrIWD0QPYoXI/+iPRAuB6F6+GX9EAfhetRzOj0QIXrUbhmjfRA9ihcj8Jp9ECuR+F6kG30QK5H4XpYjvRASOF6FIrS9EAAAAAAQMj0QArXo3AVyPRAj8L1KPjH9EAK16Nwsb30QAAAAADYz/RAH4XrURx99EAAAAAAGIr0QEjhehT2tvRAexSuR6kj9EA9CtejPET0QClcj8KpLvRApHA9Ctc79EDD9Shcczb0QOF6FK5vMPRAUrgehSdO9EDD9ShcK0X0QJqZmZnpgPRAH4XrUYSb9EDhehSuE6b0QM3MzMzkJ/RAmpmZmXku9ECPwvUokDn0QFyPwvWYV/RAmpmZmT0m9EDhehSugzj0QM3MzMxgWfRAuB6F69mc9EBmZmZmxn70QM3MzMxsTfRAcT0K19sw9ECamZmZGTD0QFK4HoXfGPRArkfhemBQ9EBmZmZmznL0QBSuR+HWcvRA9ihcj2ph9EAK16NwVWb0QGZmZmaeWPRAPQrXo7BG9EBxPQrXA2D0QHsUrkd1bvRA4XoUrp829EAK16NwFWH0QArXo3DxR/RA7FG4HnEA9ED2KFyPihn0QHE9CtcX5fNAexSuR4UF9EBxPQrX8/fzQM3MzMxE+PNA4XoUrn8I9EBI4XoUcgH0QK5H4XpoUfRApHA9CjvW8kA=",
          "dtype": "f8"
         },
         "y0": " ",
         "yaxis": "y"
        }
       ],
       "layout": {
        "boxmode": "group",
        "height": 600,
        "images": [
         {
          "sizex": 0.1,
          "sizey": 0.1,
          "source": "/Users/rodrigocampos/Documents/crypto_btc/src/visualizations/BTC_black.png",
          "x": 0.008,
          "xanchor": "left",
          "xref": "paper",
          "y": 1.1,
          "yanchor": "top",
          "yref": "paper"
         }
        ],
        "legend": {
         "tracegroupgap": 0
        },
        "margin": {
         "t": 60
        },
        "showlegend": false,
        "template": {
         "data": {
          "bar": [
           {
            "error_x": {
             "color": "#f2f5fa"
            },
            "error_y": {
             "color": "#f2f5fa"
            },
            "marker": {
             "line": {
              "color": "rgb(17,17,17)",
              "width": 0.5
             },
             "pattern": {
              "fillmode": "overlay",
              "size": 10,
              "solidity": 0.2
             }
            },
            "type": "bar"
           }
          ],
          "barpolar": [
           {
            "marker": {
             "line": {
              "color": "rgb(17,17,17)",
              "width": 0.5
             },
             "pattern": {
              "fillmode": "overlay",
              "size": 10,
              "solidity": 0.2
             }
            },
            "type": "barpolar"
           }
          ],
          "carpet": [
           {
            "aaxis": {
             "endlinecolor": "#A2B1C6",
             "gridcolor": "#506784",
             "linecolor": "#506784",
             "minorgridcolor": "#506784",
             "startlinecolor": "#A2B1C6"
            },
            "baxis": {
             "endlinecolor": "#A2B1C6",
             "gridcolor": "#506784",
             "linecolor": "#506784",
             "minorgridcolor": "#506784",
             "startlinecolor": "#A2B1C6"
            },
            "type": "carpet"
           }
          ],
          "choropleth": [
           {
            "colorbar": {
             "outlinewidth": 0,
             "ticks": ""
            },
            "type": "choropleth"
           }
          ],
          "contour": [
           {
            "colorbar": {
             "outlinewidth": 0,
             "ticks": ""
            },
            "colorscale": [
             [
              0,
              "#0d0887"
             ],
             [
              0.1111111111111111,
              "#46039f"
             ],
             [
              0.2222222222222222,
              "#7201a8"
             ],
             [
              0.3333333333333333,
              "#9c179e"
             ],
             [
              0.4444444444444444,
              "#bd3786"
             ],
             [
              0.5555555555555556,
              "#d8576b"
             ],
             [
              0.6666666666666666,
              "#ed7953"
             ],
             [
              0.7777777777777778,
              "#fb9f3a"
             ],
             [
              0.8888888888888888,
              "#fdca26"
             ],
             [
              1,
              "#f0f921"
             ]
            ],
            "type": "contour"
           }
          ],
          "contourcarpet": [
           {
            "colorbar": {
             "outlinewidth": 0,
             "ticks": ""
            },
            "type": "contourcarpet"
           }
          ],
          "heatmap": [
           {
            "colorbar": {
             "outlinewidth": 0,
             "ticks": ""
            },
            "colorscale": [
             [
              0,
              "#0d0887"
             ],
             [
              0.1111111111111111,
              "#46039f"
             ],
             [
              0.2222222222222222,
              "#7201a8"
             ],
             [
              0.3333333333333333,
              "#9c179e"
             ],
             [
              0.4444444444444444,
              "#bd3786"
             ],
             [
              0.5555555555555556,
              "#d8576b"
             ],
             [
              0.6666666666666666,
              "#ed7953"
             ],
             [
              0.7777777777777778,
              "#fb9f3a"
             ],
             [
              0.8888888888888888,
              "#fdca26"
             ],
             [
              1,
              "#f0f921"
             ]
            ],
            "type": "heatmap"
           }
          ],
          "histogram": [
           {
            "marker": {
             "pattern": {
              "fillmode": "overlay",
              "size": 10,
              "solidity": 0.2
             }
            },
            "type": "histogram"
           }
          ],
          "histogram2d": [
           {
            "colorbar": {
             "outlinewidth": 0,
             "ticks": ""
            },
            "colorscale": [
             [
              0,
              "#0d0887"
             ],
             [
              0.1111111111111111,
              "#46039f"
             ],
             [
              0.2222222222222222,
              "#7201a8"
             ],
             [
              0.3333333333333333,
              "#9c179e"
             ],
             [
              0.4444444444444444,
              "#bd3786"
             ],
             [
              0.5555555555555556,
              "#d8576b"
             ],
             [
              0.6666666666666666,
              "#ed7953"
             ],
             [
              0.7777777777777778,
              "#fb9f3a"
             ],
             [
              0.8888888888888888,
              "#fdca26"
             ],
             [
              1,
              "#f0f921"
             ]
            ],
            "type": "histogram2d"
           }
          ],
          "histogram2dcontour": [
           {
            "colorbar": {
             "outlinewidth": 0,
             "ticks": ""
            },
            "colorscale": [
             [
              0,
              "#0d0887"
             ],
             [
              0.1111111111111111,
              "#46039f"
             ],
             [
              0.2222222222222222,
              "#7201a8"
             ],
             [
              0.3333333333333333,
              "#9c179e"
             ],
             [
              0.4444444444444444,
              "#bd3786"
             ],
             [
              0.5555555555555556,
              "#d8576b"
             ],
             [
              0.6666666666666666,
              "#ed7953"
             ],
             [
              0.7777777777777778,
              "#fb9f3a"
             ],
             [
              0.8888888888888888,
              "#fdca26"
             ],
             [
              1,
              "#f0f921"
             ]
            ],
            "type": "histogram2dcontour"
           }
          ],
          "mesh3d": [
           {
            "colorbar": {
             "outlinewidth": 0,
             "ticks": ""
            },
            "type": "mesh3d"
           }
          ],
          "parcoords": [
           {
            "line": {
             "colorbar": {
              "outlinewidth": 0,
              "ticks": ""
             }
            },
            "type": "parcoords"
           }
          ],
          "pie": [
           {
            "automargin": true,
            "type": "pie"
           }
          ],
          "scatter": [
           {
            "marker": {
             "line": {
              "color": "#283442"
             }
            },
            "type": "scatter"
           }
          ],
          "scatter3d": [
           {
            "line": {
             "colorbar": {
              "outlinewidth": 0,
              "ticks": ""
             }
            },
            "marker": {
             "colorbar": {
              "outlinewidth": 0,
              "ticks": ""
             }
            },
            "type": "scatter3d"
           }
          ],
          "scattercarpet": [
           {
            "marker": {
             "colorbar": {
              "outlinewidth": 0,
              "ticks": ""
             }
            },
            "type": "scattercarpet"
           }
          ],
          "scattergeo": [
           {
            "marker": {
             "colorbar": {
              "outlinewidth": 0,
              "ticks": ""
             }
            },
            "type": "scattergeo"
           }
          ],
          "scattergl": [
           {
            "marker": {
             "line": {
              "color": "#283442"
             }
            },
            "type": "scattergl"
           }
          ],
          "scattermap": [
           {
            "marker": {
             "colorbar": {
              "outlinewidth": 0,
              "ticks": ""
             }
            },
            "type": "scattermap"
           }
          ],
          "scattermapbox": [
           {
            "marker": {
             "colorbar": {
              "outlinewidth": 0,
              "ticks": ""
             }
            },
            "type": "scattermapbox"
           }
          ],
          "scatterpolar": [
           {
            "marker": {
             "colorbar": {
              "outlinewidth": 0,
              "ticks": ""
             }
            },
            "type": "scatterpolar"
           }
          ],
          "scatterpolargl": [
           {
            "marker": {
             "colorbar": {
              "outlinewidth": 0,
              "ticks": ""
             }
            },
            "type": "scatterpolargl"
           }
          ],
          "scatterternary": [
           {
            "marker": {
             "colorbar": {
              "outlinewidth": 0,
              "ticks": ""
             }
            },
            "type": "scatterternary"
           }
          ],
          "surface": [
           {
            "colorbar": {
             "outlinewidth": 0,
             "ticks": ""
            },
            "colorscale": [
             [
              0,
              "#0d0887"
             ],
             [
              0.1111111111111111,
              "#46039f"
             ],
             [
              0.2222222222222222,
              "#7201a8"
             ],
             [
              0.3333333333333333,
              "#9c179e"
             ],
             [
              0.4444444444444444,
              "#bd3786"
             ],
             [
              0.5555555555555556,
              "#d8576b"
             ],
             [
              0.6666666666666666,
              "#ed7953"
             ],
             [
              0.7777777777777778,
              "#fb9f3a"
             ],
             [
              0.8888888888888888,
              "#fdca26"
             ],
             [
              1,
              "#f0f921"
             ]
            ],
            "type": "surface"
           }
          ],
          "table": [
           {
            "cells": {
             "fill": {
              "color": "#506784"
             },
             "line": {
              "color": "rgb(17,17,17)"
             }
            },
            "header": {
             "fill": {
              "color": "#2a3f5f"
             },
             "line": {
              "color": "rgb(17,17,17)"
             }
            },
            "type": "table"
           }
          ]
         },
         "layout": {
          "annotationdefaults": {
           "arrowcolor": "#f2f5fa",
           "arrowhead": 0,
           "arrowwidth": 1
          },
          "autotypenumbers": "strict",
          "coloraxis": {
           "colorbar": {
            "outlinewidth": 0,
            "ticks": ""
           }
          },
          "colorscale": {
           "diverging": [
            [
             0,
             "#8e0152"
            ],
            [
             0.1,
             "#c51b7d"
            ],
            [
             0.2,
             "#de77ae"
            ],
            [
             0.3,
             "#f1b6da"
            ],
            [
             0.4,
             "#fde0ef"
            ],
            [
             0.5,
             "#f7f7f7"
            ],
            [
             0.6,
             "#e6f5d0"
            ],
            [
             0.7,
             "#b8e186"
            ],
            [
             0.8,
             "#7fbc41"
            ],
            [
             0.9,
             "#4d9221"
            ],
            [
             1,
             "#276419"
            ]
           ],
           "sequential": [
            [
             0,
             "#0d0887"
            ],
            [
             0.1111111111111111,
             "#46039f"
            ],
            [
             0.2222222222222222,
             "#7201a8"
            ],
            [
             0.3333333333333333,
             "#9c179e"
            ],
            [
             0.4444444444444444,
             "#bd3786"
            ],
            [
             0.5555555555555556,
             "#d8576b"
            ],
            [
             0.6666666666666666,
             "#ed7953"
            ],
            [
             0.7777777777777778,
             "#fb9f3a"
            ],
            [
             0.8888888888888888,
             "#fdca26"
            ],
            [
             1,
             "#f0f921"
            ]
           ],
           "sequentialminus": [
            [
             0,
             "#0d0887"
            ],
            [
             0.1111111111111111,
             "#46039f"
            ],
            [
             0.2222222222222222,
             "#7201a8"
            ],
            [
             0.3333333333333333,
             "#9c179e"
            ],
            [
             0.4444444444444444,
             "#bd3786"
            ],
            [
             0.5555555555555556,
             "#d8576b"
            ],
            [
             0.6666666666666666,
             "#ed7953"
            ],
            [
             0.7777777777777778,
             "#fb9f3a"
            ],
            [
             0.8888888888888888,
             "#fdca26"
            ],
            [
             1,
             "#f0f921"
            ]
           ]
          },
          "colorway": [
           "#636efa",
           "#EF553B",
           "#00cc96",
           "#ab63fa",
           "#FFA15A",
           "#19d3f3",
           "#FF6692",
           "#B6E880",
           "#FF97FF",
           "#FECB52"
          ],
          "font": {
           "color": "#f2f5fa"
          },
          "geo": {
           "bgcolor": "rgb(17,17,17)",
           "lakecolor": "rgb(17,17,17)",
           "landcolor": "rgb(17,17,17)",
           "showlakes": true,
           "showland": true,
           "subunitcolor": "#506784"
          },
          "hoverlabel": {
           "align": "left"
          },
          "hovermode": "closest",
          "mapbox": {
           "style": "dark"
          },
          "paper_bgcolor": "rgb(17,17,17)",
          "plot_bgcolor": "rgb(17,17,17)",
          "polar": {
           "angularaxis": {
            "gridcolor": "#506784",
            "linecolor": "#506784",
            "ticks": ""
           },
           "bgcolor": "rgb(17,17,17)",
           "radialaxis": {
            "gridcolor": "#506784",
            "linecolor": "#506784",
            "ticks": ""
           }
          },
          "scene": {
           "xaxis": {
            "backgroundcolor": "rgb(17,17,17)",
            "gridcolor": "#506784",
            "gridwidth": 2,
            "linecolor": "#506784",
            "showbackground": true,
            "ticks": "",
            "zerolinecolor": "#C8D4E3"
           },
           "yaxis": {
            "backgroundcolor": "rgb(17,17,17)",
            "gridcolor": "#506784",
            "gridwidth": 2,
            "linecolor": "#506784",
            "showbackground": true,
            "ticks": "",
            "zerolinecolor": "#C8D4E3"
           },
           "zaxis": {
            "backgroundcolor": "rgb(17,17,17)",
            "gridcolor": "#506784",
            "gridwidth": 2,
            "linecolor": "#506784",
            "showbackground": true,
            "ticks": "",
            "zerolinecolor": "#C8D4E3"
           }
          },
          "shapedefaults": {
           "line": {
            "color": "#f2f5fa"
           }
          },
          "sliderdefaults": {
           "bgcolor": "#C8D4E3",
           "bordercolor": "rgb(17,17,17)",
           "borderwidth": 1,
           "tickwidth": 0
          },
          "ternary": {
           "aaxis": {
            "gridcolor": "#506784",
            "linecolor": "#506784",
            "ticks": ""
           },
           "baxis": {
            "gridcolor": "#506784",
            "linecolor": "#506784",
            "ticks": ""
           },
           "bgcolor": "rgb(17,17,17)",
           "caxis": {
            "gridcolor": "#506784",
            "linecolor": "#506784",
            "ticks": ""
           }
          },
          "title": {
           "x": 0.05
          },
          "updatemenudefaults": {
           "bgcolor": "#506784",
           "borderwidth": 0
          },
          "xaxis": {
           "automargin": true,
           "gridcolor": "#283442",
           "linecolor": "#506784",
           "ticks": "",
           "title": {
            "standoff": 15
           },
           "zerolinecolor": "#283442",
           "zerolinewidth": 2
          },
          "yaxis": {
           "automargin": true,
           "gridcolor": "#283442",
           "linecolor": "#506784",
           "ticks": "",
           "title": {
            "standoff": 15
           },
           "zerolinecolor": "#283442",
           "zerolinewidth": 2
          }
         }
        },
        "title": {
         "text": "<b><span style=\"font-size:22px;\">Sazonalidade do Preço do Bitcoin por Mês</span></b>",
         "x": 0.5,
         "xanchor": "center",
         "y": 0.94,
         "yanchor": "top"
        },
        "xaxis": {
         "anchor": "y",
         "domain": [
          0,
          1
         ],
         "tickangle": 45,
         "title": {
          "text": "Ano-Mês"
         }
        },
        "yaxis": {
         "anchor": "x",
         "domain": [
          0,
          1
         ],
         "range": [
          73227.4424,
          88801.7916
         ],
         "side": "left",
         "title": {
          "text": "Valor do Bitcoin - USD"
         }
        }
       }
      }
     },
     "metadata": {},
     "output_type": "display_data"
    }
   ],
   "source": [
    "plot_btc_boxplot_by_hour(df_time_index, image_path)\n",
    "plot_btc_boxplot_by_dayofyear(df_time_index, image_path)\n",
    "plot_btc_boxplot_by_week(df_time_index, image_path)\n",
    "plot_btc_boxplot_by_month(df_time_index, image_path)"
   ]
  },
  {
   "cell_type": "markdown",
   "metadata": {},
   "source": [
    "##### 🔶 ₿ -----> Distribuição e Histograma da Variação Percentual"
   ]
  },
  {
   "cell_type": "code",
   "execution_count": 19,
   "metadata": {},
   "outputs": [
    {
     "data": {
      "application/vnd.plotly.v1+json": {
       "config": {
        "plotlyServerURL": "https://plot.ly"
       },
       "data": [
        {
         "bingroup": "x",
         "hovertemplate": "Variação Percentual=%{x}<br>count=%{y}<extra></extra>",
         "legendgroup": "",
         "marker": {
          "color": "rgba(229, 165, 0, 0.2)",
          "line": {
           "color": "#E57C1F",
           "width": 1
          },
          "pattern": {
           "shape": ""
          }
         },
         "name": "",
         "nbinsx": 50,
         "orientation": "v",
         "showlegend": false,
         "type": "histogram",
         "x": {
          "bdata": "hetRuO4s9EB7FK5HHTD0QEjhehSWSPRAXI/C9YBA9EAAAAAAFEf0QFK4HoU/Q/RACtejcM1f9EC4HoXrIWD0QPYoXI/+iPRAuB6F6+GX9ECF61G4Zo30QB+F61EcffRA9ihcj8Jp9ECuR+F6kG30QK5H4XpYjvRASOF6FIrS9EAAAAAAQMj0QArXo3AVyPRAj8L1KPjH9EAK16Nwsb30QAAAAADYz/RAKVyPwgXO9EApXI/Cxcb0QMP1KFxvy/RAFK5H4Wq+9EAK16NwXcr0QAAAAABEr/RA7FG4HrGk9EB7FK5HDaj0QI/C9SjciPRAw/UoXE+K9EAzMzMzt5z0QJqZmZkVrPRAH4XrUeDB9ECPwvUozLf0QOxRuB5NpfRA4XoUrq/D9EBI4XoUdtD0QJqZmZlF9/RA16NwPZ4v9UB7FK5HSUH1QNejcD36JfVA4XoUrvsQ9UBSuB6F2zj1QB+F61HM6PRASOF6FPa29EDhehSunzb0QHsUrkepI/RArkfhemBQ9EBmZmZmznL0QBSuR+HWcvRA9ihcj2ph9EAK16NwVWb0QGZmZmaeWPRAPQrXo7BG9EBxPQrXA2D0QHsUrkd1bvRACtejcBVh9ECuR+F6aFH0QArXo3DxR/RA7FG4HnEA9ED2KFyPihn0QHE9CtcX5fNAexSuR4UF9EBxPQrX8/fzQM3MzMxE+PNA4XoUrn8I9EBI4XoUcgH0QFK4HoXfGPRAmpmZmRkw9EBxPQrX2zD0QM3MzMxsTfRAPQrXozxE9EApXI/CqS70QKRwPQrXO/RAw/UoXHM29EDhehSubzD0QFK4HoUnTvRAw/UoXCtF9ECamZmZ6YD0QB+F61GEm/RA4XoUrhOm9EDNzMzM5Cf0QJqZmZl5LvRAj8L1KJA59EBcj8L1mFf0QJqZmZk9JvRA4XoUroM49EDNzMzMYFn0QLgehevZnPRAZmZmZsZ+9EC4HoXrhYD0QAAAAAAYivRA4XoUrquL9EDNzMzM8IP0QMP1KFxDefRAw/UoXP9y9EB7FK5HCX/0QClcj8JdfvRAPQrXo2Bp9EBSuB6Fp2z0QDMzMzMXbfRAj8L1KGhf9ECuR+F6NGL0QEjhehRGYvRAH4XrUdx19EAAAAAAUGr0QI/C9Si4XvRAj8L1KFRT9ECkcD0KgzL0QHE9CtfHPPRAcT0K17Mp9EAUrkfhwjH0QDMzMzPPOfRAUrgehYNE9EC4HoXrzTj0QMP1KFyDRvRAmpmZmc089EDD9Shcl030QLgehev1YvRAXI/C9XBi9EBSuB6FC130QJqZmZmZVPRA9ihcjyZX9EAzMzMzB2H0QD0K16PwXfRACtejcIFJ9EB7FK5HYUP0QKRwPQrzQvRAAAAAAFxF9ECF61G4cjj0QPYoXI9KN/RAH4XrUfQt9EAzMzMz9xX0QHsUrkdFLPRAFa5H4b4l9EAAAAAA2AH0QOF6FK6DuPNASOF6FK5L80BxPQrXy23zQFK4HoUHPvNAAAAAAHhD80DsUbgesQnzQOtRuB7ZIfNAW4/C9Rwc80DXo3A9pk/zQJqZmZlhI/NAAAAAAMz18kDNzMzMpMfyQI/C9SjgxPJASOF6FB4+8kCamZmZHVLyQB+F61HYmvJA9ihcj4ac8kBxPQrXK8nyQFyPwvUYtvJAj8L1KNTd8kCF61G4Sh7zQFyPwvWkSfNAw/UoXJMm80Bcj8L1uOTyQJqZmZl5S/NA61G4Hlkn80DXo3A9ChDzQLgehetJRPNAZmZmZt5V80D2KFyPFoTzQFyPwvVwUvNAuB6F611J80B7FK5HIazzQJqZmZn1gvNAhetRuPqA80AzMzMzh5nzQArXo3B5fvNAPQrXo4Bk80DD9Shcl2bzQArXo3AVUvNAPQrXo1BC80AK16NwaUjzQJqZmZk9hfNA7FG4HhF880BSuB6F03/zQOF6FK7fJvNAw/UoXFMo80AAAAAA/OLyQI/C9SiQv/JApHA9CjvW8kA=",
          "dtype": "f8"
         },
         "xaxis": "x",
         "yaxis": "y"
        }
       ],
       "layout": {
        "bargap": 0.05,
        "barmode": "relative",
        "font": {
         "color": "white"
        },
        "height": 800,
        "images": [
         {
          "sizex": 0.15,
          "sizey": 0.15,
          "source": "/Users/rodrigocampos/Documents/crypto_btc/src/visualizations/BTC_black.png",
          "x": 0.008,
          "xanchor": "left",
          "xref": "paper",
          "y": 1.15,
          "yanchor": "top",
          "yref": "paper"
         }
        ],
        "legend": {
         "tracegroupgap": 0
        },
        "paper_bgcolor": "black",
        "plot_bgcolor": "black",
        "template": {
         "data": {
          "bar": [
           {
            "error_x": {
             "color": "#f2f5fa"
            },
            "error_y": {
             "color": "#f2f5fa"
            },
            "marker": {
             "line": {
              "color": "rgb(17,17,17)",
              "width": 0.5
             },
             "pattern": {
              "fillmode": "overlay",
              "size": 10,
              "solidity": 0.2
             }
            },
            "type": "bar"
           }
          ],
          "barpolar": [
           {
            "marker": {
             "line": {
              "color": "rgb(17,17,17)",
              "width": 0.5
             },
             "pattern": {
              "fillmode": "overlay",
              "size": 10,
              "solidity": 0.2
             }
            },
            "type": "barpolar"
           }
          ],
          "carpet": [
           {
            "aaxis": {
             "endlinecolor": "#A2B1C6",
             "gridcolor": "#506784",
             "linecolor": "#506784",
             "minorgridcolor": "#506784",
             "startlinecolor": "#A2B1C6"
            },
            "baxis": {
             "endlinecolor": "#A2B1C6",
             "gridcolor": "#506784",
             "linecolor": "#506784",
             "minorgridcolor": "#506784",
             "startlinecolor": "#A2B1C6"
            },
            "type": "carpet"
           }
          ],
          "choropleth": [
           {
            "colorbar": {
             "outlinewidth": 0,
             "ticks": ""
            },
            "type": "choropleth"
           }
          ],
          "contour": [
           {
            "colorbar": {
             "outlinewidth": 0,
             "ticks": ""
            },
            "colorscale": [
             [
              0,
              "#0d0887"
             ],
             [
              0.1111111111111111,
              "#46039f"
             ],
             [
              0.2222222222222222,
              "#7201a8"
             ],
             [
              0.3333333333333333,
              "#9c179e"
             ],
             [
              0.4444444444444444,
              "#bd3786"
             ],
             [
              0.5555555555555556,
              "#d8576b"
             ],
             [
              0.6666666666666666,
              "#ed7953"
             ],
             [
              0.7777777777777778,
              "#fb9f3a"
             ],
             [
              0.8888888888888888,
              "#fdca26"
             ],
             [
              1,
              "#f0f921"
             ]
            ],
            "type": "contour"
           }
          ],
          "contourcarpet": [
           {
            "colorbar": {
             "outlinewidth": 0,
             "ticks": ""
            },
            "type": "contourcarpet"
           }
          ],
          "heatmap": [
           {
            "colorbar": {
             "outlinewidth": 0,
             "ticks": ""
            },
            "colorscale": [
             [
              0,
              "#0d0887"
             ],
             [
              0.1111111111111111,
              "#46039f"
             ],
             [
              0.2222222222222222,
              "#7201a8"
             ],
             [
              0.3333333333333333,
              "#9c179e"
             ],
             [
              0.4444444444444444,
              "#bd3786"
             ],
             [
              0.5555555555555556,
              "#d8576b"
             ],
             [
              0.6666666666666666,
              "#ed7953"
             ],
             [
              0.7777777777777778,
              "#fb9f3a"
             ],
             [
              0.8888888888888888,
              "#fdca26"
             ],
             [
              1,
              "#f0f921"
             ]
            ],
            "type": "heatmap"
           }
          ],
          "histogram": [
           {
            "marker": {
             "pattern": {
              "fillmode": "overlay",
              "size": 10,
              "solidity": 0.2
             }
            },
            "type": "histogram"
           }
          ],
          "histogram2d": [
           {
            "colorbar": {
             "outlinewidth": 0,
             "ticks": ""
            },
            "colorscale": [
             [
              0,
              "#0d0887"
             ],
             [
              0.1111111111111111,
              "#46039f"
             ],
             [
              0.2222222222222222,
              "#7201a8"
             ],
             [
              0.3333333333333333,
              "#9c179e"
             ],
             [
              0.4444444444444444,
              "#bd3786"
             ],
             [
              0.5555555555555556,
              "#d8576b"
             ],
             [
              0.6666666666666666,
              "#ed7953"
             ],
             [
              0.7777777777777778,
              "#fb9f3a"
             ],
             [
              0.8888888888888888,
              "#fdca26"
             ],
             [
              1,
              "#f0f921"
             ]
            ],
            "type": "histogram2d"
           }
          ],
          "histogram2dcontour": [
           {
            "colorbar": {
             "outlinewidth": 0,
             "ticks": ""
            },
            "colorscale": [
             [
              0,
              "#0d0887"
             ],
             [
              0.1111111111111111,
              "#46039f"
             ],
             [
              0.2222222222222222,
              "#7201a8"
             ],
             [
              0.3333333333333333,
              "#9c179e"
             ],
             [
              0.4444444444444444,
              "#bd3786"
             ],
             [
              0.5555555555555556,
              "#d8576b"
             ],
             [
              0.6666666666666666,
              "#ed7953"
             ],
             [
              0.7777777777777778,
              "#fb9f3a"
             ],
             [
              0.8888888888888888,
              "#fdca26"
             ],
             [
              1,
              "#f0f921"
             ]
            ],
            "type": "histogram2dcontour"
           }
          ],
          "mesh3d": [
           {
            "colorbar": {
             "outlinewidth": 0,
             "ticks": ""
            },
            "type": "mesh3d"
           }
          ],
          "parcoords": [
           {
            "line": {
             "colorbar": {
              "outlinewidth": 0,
              "ticks": ""
             }
            },
            "type": "parcoords"
           }
          ],
          "pie": [
           {
            "automargin": true,
            "type": "pie"
           }
          ],
          "scatter": [
           {
            "marker": {
             "line": {
              "color": "#283442"
             }
            },
            "type": "scatter"
           }
          ],
          "scatter3d": [
           {
            "line": {
             "colorbar": {
              "outlinewidth": 0,
              "ticks": ""
             }
            },
            "marker": {
             "colorbar": {
              "outlinewidth": 0,
              "ticks": ""
             }
            },
            "type": "scatter3d"
           }
          ],
          "scattercarpet": [
           {
            "marker": {
             "colorbar": {
              "outlinewidth": 0,
              "ticks": ""
             }
            },
            "type": "scattercarpet"
           }
          ],
          "scattergeo": [
           {
            "marker": {
             "colorbar": {
              "outlinewidth": 0,
              "ticks": ""
             }
            },
            "type": "scattergeo"
           }
          ],
          "scattergl": [
           {
            "marker": {
             "line": {
              "color": "#283442"
             }
            },
            "type": "scattergl"
           }
          ],
          "scattermap": [
           {
            "marker": {
             "colorbar": {
              "outlinewidth": 0,
              "ticks": ""
             }
            },
            "type": "scattermap"
           }
          ],
          "scattermapbox": [
           {
            "marker": {
             "colorbar": {
              "outlinewidth": 0,
              "ticks": ""
             }
            },
            "type": "scattermapbox"
           }
          ],
          "scatterpolar": [
           {
            "marker": {
             "colorbar": {
              "outlinewidth": 0,
              "ticks": ""
             }
            },
            "type": "scatterpolar"
           }
          ],
          "scatterpolargl": [
           {
            "marker": {
             "colorbar": {
              "outlinewidth": 0,
              "ticks": ""
             }
            },
            "type": "scatterpolargl"
           }
          ],
          "scatterternary": [
           {
            "marker": {
             "colorbar": {
              "outlinewidth": 0,
              "ticks": ""
             }
            },
            "type": "scatterternary"
           }
          ],
          "surface": [
           {
            "colorbar": {
             "outlinewidth": 0,
             "ticks": ""
            },
            "colorscale": [
             [
              0,
              "#0d0887"
             ],
             [
              0.1111111111111111,
              "#46039f"
             ],
             [
              0.2222222222222222,
              "#7201a8"
             ],
             [
              0.3333333333333333,
              "#9c179e"
             ],
             [
              0.4444444444444444,
              "#bd3786"
             ],
             [
              0.5555555555555556,
              "#d8576b"
             ],
             [
              0.6666666666666666,
              "#ed7953"
             ],
             [
              0.7777777777777778,
              "#fb9f3a"
             ],
             [
              0.8888888888888888,
              "#fdca26"
             ],
             [
              1,
              "#f0f921"
             ]
            ],
            "type": "surface"
           }
          ],
          "table": [
           {
            "cells": {
             "fill": {
              "color": "#506784"
             },
             "line": {
              "color": "rgb(17,17,17)"
             }
            },
            "header": {
             "fill": {
              "color": "#2a3f5f"
             },
             "line": {
              "color": "rgb(17,17,17)"
             }
            },
            "type": "table"
           }
          ]
         },
         "layout": {
          "annotationdefaults": {
           "arrowcolor": "#f2f5fa",
           "arrowhead": 0,
           "arrowwidth": 1
          },
          "autotypenumbers": "strict",
          "coloraxis": {
           "colorbar": {
            "outlinewidth": 0,
            "ticks": ""
           }
          },
          "colorscale": {
           "diverging": [
            [
             0,
             "#8e0152"
            ],
            [
             0.1,
             "#c51b7d"
            ],
            [
             0.2,
             "#de77ae"
            ],
            [
             0.3,
             "#f1b6da"
            ],
            [
             0.4,
             "#fde0ef"
            ],
            [
             0.5,
             "#f7f7f7"
            ],
            [
             0.6,
             "#e6f5d0"
            ],
            [
             0.7,
             "#b8e186"
            ],
            [
             0.8,
             "#7fbc41"
            ],
            [
             0.9,
             "#4d9221"
            ],
            [
             1,
             "#276419"
            ]
           ],
           "sequential": [
            [
             0,
             "#0d0887"
            ],
            [
             0.1111111111111111,
             "#46039f"
            ],
            [
             0.2222222222222222,
             "#7201a8"
            ],
            [
             0.3333333333333333,
             "#9c179e"
            ],
            [
             0.4444444444444444,
             "#bd3786"
            ],
            [
             0.5555555555555556,
             "#d8576b"
            ],
            [
             0.6666666666666666,
             "#ed7953"
            ],
            [
             0.7777777777777778,
             "#fb9f3a"
            ],
            [
             0.8888888888888888,
             "#fdca26"
            ],
            [
             1,
             "#f0f921"
            ]
           ],
           "sequentialminus": [
            [
             0,
             "#0d0887"
            ],
            [
             0.1111111111111111,
             "#46039f"
            ],
            [
             0.2222222222222222,
             "#7201a8"
            ],
            [
             0.3333333333333333,
             "#9c179e"
            ],
            [
             0.4444444444444444,
             "#bd3786"
            ],
            [
             0.5555555555555556,
             "#d8576b"
            ],
            [
             0.6666666666666666,
             "#ed7953"
            ],
            [
             0.7777777777777778,
             "#fb9f3a"
            ],
            [
             0.8888888888888888,
             "#fdca26"
            ],
            [
             1,
             "#f0f921"
            ]
           ]
          },
          "colorway": [
           "#636efa",
           "#EF553B",
           "#00cc96",
           "#ab63fa",
           "#FFA15A",
           "#19d3f3",
           "#FF6692",
           "#B6E880",
           "#FF97FF",
           "#FECB52"
          ],
          "font": {
           "color": "#f2f5fa"
          },
          "geo": {
           "bgcolor": "rgb(17,17,17)",
           "lakecolor": "rgb(17,17,17)",
           "landcolor": "rgb(17,17,17)",
           "showlakes": true,
           "showland": true,
           "subunitcolor": "#506784"
          },
          "hoverlabel": {
           "align": "left"
          },
          "hovermode": "closest",
          "mapbox": {
           "style": "dark"
          },
          "paper_bgcolor": "rgb(17,17,17)",
          "plot_bgcolor": "rgb(17,17,17)",
          "polar": {
           "angularaxis": {
            "gridcolor": "#506784",
            "linecolor": "#506784",
            "ticks": ""
           },
           "bgcolor": "rgb(17,17,17)",
           "radialaxis": {
            "gridcolor": "#506784",
            "linecolor": "#506784",
            "ticks": ""
           }
          },
          "scene": {
           "xaxis": {
            "backgroundcolor": "rgb(17,17,17)",
            "gridcolor": "#506784",
            "gridwidth": 2,
            "linecolor": "#506784",
            "showbackground": true,
            "ticks": "",
            "zerolinecolor": "#C8D4E3"
           },
           "yaxis": {
            "backgroundcolor": "rgb(17,17,17)",
            "gridcolor": "#506784",
            "gridwidth": 2,
            "linecolor": "#506784",
            "showbackground": true,
            "ticks": "",
            "zerolinecolor": "#C8D4E3"
           },
           "zaxis": {
            "backgroundcolor": "rgb(17,17,17)",
            "gridcolor": "#506784",
            "gridwidth": 2,
            "linecolor": "#506784",
            "showbackground": true,
            "ticks": "",
            "zerolinecolor": "#C8D4E3"
           }
          },
          "shapedefaults": {
           "line": {
            "color": "#f2f5fa"
           }
          },
          "sliderdefaults": {
           "bgcolor": "#C8D4E3",
           "bordercolor": "rgb(17,17,17)",
           "borderwidth": 1,
           "tickwidth": 0
          },
          "ternary": {
           "aaxis": {
            "gridcolor": "#506784",
            "linecolor": "#506784",
            "ticks": ""
           },
           "baxis": {
            "gridcolor": "#506784",
            "linecolor": "#506784",
            "ticks": ""
           },
           "bgcolor": "rgb(17,17,17)",
           "caxis": {
            "gridcolor": "#506784",
            "linecolor": "#506784",
            "ticks": ""
           }
          },
          "title": {
           "x": 0.05
          },
          "updatemenudefaults": {
           "bgcolor": "#506784",
           "borderwidth": 0
          },
          "xaxis": {
           "automargin": true,
           "gridcolor": "#283442",
           "linecolor": "#506784",
           "ticks": "",
           "title": {
            "standoff": 15
           },
           "zerolinecolor": "#283442",
           "zerolinewidth": 2
          },
          "yaxis": {
           "automargin": true,
           "gridcolor": "#283442",
           "linecolor": "#506784",
           "ticks": "",
           "title": {
            "standoff": 15
           },
           "zerolinecolor": "#283442",
           "zerolinewidth": 2
          }
         }
        },
        "title": {
         "text": "<b><span style=\"font-size:22px;\">Bitcoin BTC - Distribuição da Variação Percentual do BTC</span></b>",
         "x": 0.5,
         "xanchor": "center",
         "y": 0.95,
         "yanchor": "top"
        },
        "xaxis": {
         "anchor": "y",
         "domain": [
          0,
          1
         ],
         "title": {
          "text": "Preço do Bitcoin - USD"
         }
        },
        "yaxis": {
         "anchor": "x",
         "domain": [
          0,
          1
         ],
         "side": "left",
         "title": {
          "text": "Variação Percentual"
         }
        }
       }
      }
     },
     "metadata": {},
     "output_type": "display_data"
    }
   ],
   "source": [
    "plot_histogram_variacao_btc(df_time_index, image_path)"
   ]
  },
  {
   "cell_type": "markdown",
   "metadata": {},
   "source": [
    "### 4. Engenharia de Features Temporais"
   ]
  },
  {
   "cell_type": "markdown",
   "metadata": {},
   "source": [
    "#### 4.1 Retornos e Volatilidade"
   ]
  },
  {
   "cell_type": "markdown",
   "metadata": {},
   "source": [
    "---\n",
    "\n",
    "Retornos e Volatilidade\n",
    "\n",
    "Retornos Logarítmicos\n",
    "\n",
    "Dado o preço de um ativo $ P_t $ no tempo $ t $, o **retorno logarítmico** é definido como:\n",
    "\n",
    "$\n",
    "r_t = \\ln\\left(\\frac{P_t}{P_{t-1}}\\right)\n",
    "$\n",
    "\n",
    "Onde:\n",
    "\n",
    "- $ r_t $: retorno no instante $ t $\n",
    "- $ \\ln $: logaritmo natural\n",
    "- $ P_t $: preço do ativo no tempo $ t $\n",
    "- $ P_{t-1} $: preço do ativo no tempo anterior\n",
    "\n",
    "Este tipo de retorno é amplamente utilizado por possuir propriedades aditivas no tempo, o que facilita a modelagem estatística.\n",
    "\n",
    "---\n",
    "\n",
    "Volatilidade Histórica\n",
    "\n",
    "A **volatilidade histórica** representa a dispersão dos retornos e é calculada como o desvio padrão $ \\sigma $ dos retornos $ r_t $:\n",
    "\n",
    "$\n",
    "\\sigma = \\sqrt{\\frac{1}{N - 1} \\sum_{t=1}^{N} (r_t - \\bar{r})^2}\n",
    "$\n",
    "\n",
    "Onde:\n",
    "\n",
    "- $ sigma $: volatilidade (desvio padrão dos retornos)\n",
    "- $ N $: número de observações\n",
    "- $ \\bar{r} $: média dos retornos\n",
    "\n",
    "---\n",
    "\n",
    "Interpretação:\n",
    "\n",
    "- **Retornos positivos** indicam valorização do ativo.\n",
    "- **Volatilidade alta** sugere maior risco (grandes variações nos preços).\n",
    "- Pode-se utilizar janelas móveis para calcular **volatilidade dinâmica** ao longo do tempo.\n",
    "\n",
    "---\n",
    "\n",
    ">Observações adicionais:\n",
    "- A volatilidade anualizada pode ser obtida multiplicando a volatilidade diária por $ \\sqrt{252} $, assumindo 252 pregões por ano:\n",
    "  $\n",
    "  \\sigma_{\\text{anual}} = \\sigma_{\\text{diária}} \\cdot \\sqrt{252}\n",
    "$\n",
    "\n",
    "---"
   ]
  },
  {
   "cell_type": "code",
   "execution_count": 20,
   "metadata": {},
   "outputs": [
    {
     "name": "stdout",
     "output_type": "stream",
     "text": [
      "DatetimeIndex(['2025-04-01', '2025-04-02', '2025-04-03', '2025-04-04',\n",
      "               '2025-04-05', '2025-04-06', '2025-04-07', '2025-04-08'],\n",
      "              dtype='datetime64[us]', name='block_timestamp', freq='D')\n"
     ]
    }
   ],
   "source": [
    "df_return = df_features_temp.toPandas()\n",
    "# --> Converte o DataFrame PySpark para Pandas / Converts PySpark DataFrame to Pandas <--\n",
    "\n",
    "df_return[\"block_timestamp\"] = pd.to_datetime(df_return[\"block_timestamp\"])\n",
    "# --> Garante que o campo de tempo seja do tipo datetime / Ensures timestamp field is datetime type <--\n",
    "\n",
    "df_return = df_return.sort_values(\"block_timestamp\")\n",
    "# --> Ordena o DataFrame pelo tempo / Sorts the DataFrame by timestamp <--\n",
    "\n",
    "df_return.set_index('block_timestamp', inplace=True)\n",
    "# --> Define o índice como timestamp (necessário para o resample) / Sets timestamp as index (needed for resample) <--\n",
    "\n",
    "df_return = df_return.resample('d').mean()\n",
    "# --> Reamostra os dados com frequência horária, calculando a média por hora / Resamples data to hourly frequency, taking the mean per hour <--\n",
    "\n",
    "print(df_return.index)\n",
    "# --> Mostra o novo índice temporal / Displays new datetime index <--"
   ]
  },
  {
   "cell_type": "code",
   "execution_count": 21,
   "metadata": {},
   "outputs": [
    {
     "name": "stdout",
     "output_type": "stream",
     "text": [
      "Index(['block_height', 'total_btc_moved_blocks', 'num_transactions',\n",
      "       'total_fees_tx', 'avg_fee_per_tx', 'avg_input_per_tx',\n",
      "       'avg_output_per_tx', 'avg_tx_size', 'total_input_btc_addr',\n",
      "       'total_output_btc_addr', 'unique_addresses', 'zero_balance_addresses',\n",
      "       'multisig_wallets', 'btc_price_usd', 'year_block', 'month_block'],\n",
      "      dtype='object')\n"
     ]
    }
   ],
   "source": [
    "print(df_return.columns)"
   ]
  },
  {
   "cell_type": "code",
   "execution_count": 22,
   "metadata": {},
   "outputs": [],
   "source": [
    "\n",
    "# ================================================================\n",
    "# EXTRAÇÃO DE RETORNOS E TARGETS / RETURN & TARGET FEATURE ENGINEERING\n",
    "# ================================================================\n",
    "def extract_return_features(\n",
    "    price_series: pd.Series,\n",
    "    block_height: pd.Series,\n",
    "    block_timestamp: pd.Series\n",
    ") -> pd.DataFrame:\n",
    "    \"\"\"\n",
    "    Extrai o retorno logarítmico e targets para modelagem preditiva.\n",
    "    / Extracts log returns and targets for predictive modeling.\n",
    "\n",
    "    Parâmetros / Parameters:\n",
    "    - price_series: pd.Series\n",
    "        Série temporal de preços / Time series of prices.\n",
    "    - block_height: pd.Series\n",
    "        Altura do bloco para manter rastreabilidade / Block height for traceability.\n",
    "    - block_timestamp: pd.Series\n",
    "        Carimbo de tempo do bloco / Block timestamp.\n",
    "\n",
    "    Retorna / Returns:\n",
    "    - pd.DataFrame com colunas: block_height, block_timestamp, log_return, target_direction, target_return\n",
    "      / DataFrame with features: block_height, timestamp, log return, binary and continuous targets.\n",
    "    \"\"\"\n",
    "\n",
    "    # ================================\n",
    "    # BASE TEMPORAL / BASE SETUP\n",
    "    # ================================\n",
    "    df = pd.DataFrame({\n",
    "        \"price\": price_series.values,\n",
    "        \"block_height\": block_height.values,\n",
    "        \"block_timestamp\": block_timestamp.values\n",
    "    })\n",
    "    # --> Cria DataFrame base com os metadados essenciais / Creates base DataFrame with essential metadata <--\n",
    "\n",
    "    # ================================\n",
    "    # ENGENHARIA DE RETORNOS / RETURN FEATURES\n",
    "    # ================================\n",
    "    df[\"log_return\"] = np.log(df[\"price\"] / df[\"price\"].shift(1))\n",
    "    # --> Calcula retorno logarítmico entre períodos / Calculates log return between periods <--\n",
    "\n",
    "    df[\"target_direction\"] = (df[\"log_return\"].shift(-1) > 0).astype(int)\n",
    "    # --> Define 1 se o próximo retorno for positivo, 0 caso contrário / Binary target: 1 if next return is positive <--\n",
    "\n",
    "    df[\"target_return\"] = df[\"log_return\"].shift(-1)\n",
    "    # --> Define o retorno futuro como variável contínua / Continuous target: next log return <--\n",
    "\n",
    "    # ================================\n",
    "    # LIMPEZA FINAL / CLEANUP\n",
    "    # ================================\n",
    "    df = df.dropna(subset=[\"log_return\", \"target_direction\", \"target_return\"])\n",
    "    # --> Remove valores nulos gerados pelos shifts / Drop NaNs caused by shifting <--\n",
    "\n",
    "    # ================================\n",
    "    # SAÍDA FINAL / FINAL OUTPUT\n",
    "    # ================================\n",
    "    return df[[\"block_height\", \"block_timestamp\", \"log_return\", \"target_direction\", \"target_return\"]]\n",
    "    # --> Retorna DataFrame final com colunas relevantes / Returns final DataFrame with relevant columns <--"
   ]
  },
  {
   "cell_type": "code",
   "execution_count": 23,
   "metadata": {},
   "outputs": [
    {
     "name": "stdout",
     "output_type": "stream",
     "text": [
      "DataFrame de Retornos e Targets:\n"
     ]
    },
    {
     "data": {
      "application/vnd.microsoft.datawrangler.viewer.v0+json": {
       "columns": [
        {
         "name": "index",
         "rawType": "int64",
         "type": "integer"
        },
        {
         "name": "block_height",
         "rawType": "float64",
         "type": "float"
        },
        {
         "name": "block_timestamp",
         "rawType": "datetime64[us]",
         "type": "unknown"
        },
        {
         "name": "log_return",
         "rawType": "float64",
         "type": "float"
        },
        {
         "name": "target_direction",
         "rawType": "int64",
         "type": "integer"
        },
        {
         "name": "target_return",
         "rawType": "float64",
         "type": "float"
        }
       ],
       "conversionMethod": "pd.DataFrame",
       "ref": "cbc0c8b6-93d1-44c2-91bd-b151c60a847d",
       "rows": [
        [
         "1",
         "890545.5",
         "2025-04-02 00:00:00",
         "0.01199949494230419",
         "0",
         "-0.027930646022391002"
        ],
        [
         "2",
         "890707.5",
         "2025-04-03 00:00:00",
         "-0.027930646022391002",
         "1",
         "0.006903690839306733"
        ],
        [
         "3",
         "890873.5",
         "2025-04-04 00:00:00",
         "0.006903690839306733",
         "0",
         "-0.00048194752676442324"
        ],
        [
         "4",
         "891045.5",
         "2025-04-05 00:00:00",
         "-0.00048194752676442324",
         "0",
         "-0.023409177479826012"
        ],
        [
         "5",
         "891200.0",
         "2025-04-06 00:00:00",
         "-0.023409177479826012",
         "0",
         "-0.04331314828757157"
        ]
       ],
       "shape": {
        "columns": 5,
        "rows": 5
       }
      },
      "text/html": [
       "<div>\n",
       "<style scoped>\n",
       "    .dataframe tbody tr th:only-of-type {\n",
       "        vertical-align: middle;\n",
       "    }\n",
       "\n",
       "    .dataframe tbody tr th {\n",
       "        vertical-align: top;\n",
       "    }\n",
       "\n",
       "    .dataframe thead th {\n",
       "        text-align: right;\n",
       "    }\n",
       "</style>\n",
       "<table border=\"1\" class=\"dataframe\">\n",
       "  <thead>\n",
       "    <tr style=\"text-align: right;\">\n",
       "      <th></th>\n",
       "      <th>block_height</th>\n",
       "      <th>block_timestamp</th>\n",
       "      <th>log_return</th>\n",
       "      <th>target_direction</th>\n",
       "      <th>target_return</th>\n",
       "    </tr>\n",
       "  </thead>\n",
       "  <tbody>\n",
       "    <tr>\n",
       "      <th>1</th>\n",
       "      <td>890545.5</td>\n",
       "      <td>2025-04-02</td>\n",
       "      <td>0.011999</td>\n",
       "      <td>0</td>\n",
       "      <td>-0.027931</td>\n",
       "    </tr>\n",
       "    <tr>\n",
       "      <th>2</th>\n",
       "      <td>890707.5</td>\n",
       "      <td>2025-04-03</td>\n",
       "      <td>-0.027931</td>\n",
       "      <td>1</td>\n",
       "      <td>0.006904</td>\n",
       "    </tr>\n",
       "    <tr>\n",
       "      <th>3</th>\n",
       "      <td>890873.5</td>\n",
       "      <td>2025-04-04</td>\n",
       "      <td>0.006904</td>\n",
       "      <td>0</td>\n",
       "      <td>-0.000482</td>\n",
       "    </tr>\n",
       "    <tr>\n",
       "      <th>4</th>\n",
       "      <td>891045.5</td>\n",
       "      <td>2025-04-05</td>\n",
       "      <td>-0.000482</td>\n",
       "      <td>0</td>\n",
       "      <td>-0.023409</td>\n",
       "    </tr>\n",
       "    <tr>\n",
       "      <th>5</th>\n",
       "      <td>891200.0</td>\n",
       "      <td>2025-04-06</td>\n",
       "      <td>-0.023409</td>\n",
       "      <td>0</td>\n",
       "      <td>-0.043313</td>\n",
       "    </tr>\n",
       "  </tbody>\n",
       "</table>\n",
       "</div>"
      ],
      "text/plain": [
       "   block_height block_timestamp  log_return  target_direction  target_return\n",
       "1      890545.5      2025-04-02    0.011999                 0      -0.027931\n",
       "2      890707.5      2025-04-03   -0.027931                 1       0.006904\n",
       "3      890873.5      2025-04-04    0.006904                 0      -0.000482\n",
       "4      891045.5      2025-04-05   -0.000482                 0      -0.023409\n",
       "5      891200.0      2025-04-06   -0.023409                 0      -0.043313"
      ]
     },
     "metadata": {},
     "output_type": "display_data"
    }
   ],
   "source": [
    "df_return = df_return.reset_index()\n",
    "\n",
    "df_returns = extract_return_features(\n",
    "    price_series=df_return[\"btc_price_usd\"],\n",
    "    block_height=df_return[\"block_height\"],\n",
    "    block_timestamp=df_return[\"block_timestamp\"]\n",
    ")\n",
    "\n",
    "# Visualizando o resultado\n",
    "print(\"DataFrame de Retornos e Targets:\")\n",
    "display(df_returns.head())"
   ]
  },
  {
   "cell_type": "code",
   "execution_count": 24,
   "metadata": {},
   "outputs": [
    {
     "name": "stdout",
     "output_type": "stream",
     "text": [
      "count    6.000000\n",
      "mean    -0.012705\n",
      "std      0.022034\n",
      "min     -0.043313\n",
      "25%     -0.026800\n",
      "50%     -0.011946\n",
      "75%      0.005057\n",
      "max      0.011999\n",
      "Name: log_return, dtype: float64\n",
      "\n",
      "Skew: -0.25201517725302325\n",
      "\n",
      "Kurt: -1.8332799123878223\n"
     ]
    }
   ],
   "source": [
    "# --> Estatísticas descritivas dos retornos / Descriptive statistics of returns <--\n",
    "print(df_returns[\"log_return\"].describe())\n",
    "\n",
    "# --> Assimetria (skewness) da distribuição / Skewness of the distribution <--\n",
    "print(f\"\\nSkew: {df_returns['log_return'].skew()}\")\n",
    "\n",
    "# --> Curtose (kurtosis) da distribuição / Kurtosis of the distribution <--\n",
    "print(f\"\\nKurt: {df_returns['log_return'].kurt()}\")"
   ]
  },
  {
   "cell_type": "code",
   "execution_count": 25,
   "metadata": {},
   "outputs": [
    {
     "data": {
      "application/vnd.plotly.v1+json": {
       "config": {
        "plotlyServerURL": "https://plot.ly"
       },
       "data": [
        {
         "histnorm": "probability density",
         "marker": {
          "color": "rgba(229, 165, 0, 0.6)",
          "line": {
           "color": "#E57C1F",
           "width": 1.2
          }
         },
         "name": "Resíduos",
         "nbinsx": 50,
         "type": "histogram",
         "x": {
          "bdata": "pwXE8jCTiD9WqOPs2Zmcv+k2BmYLR3w/OMan3byVP7+P9s5Ok/iXv8yKwxYkLaa/",
          "dtype": "f8"
         }
        },
        {
         "line": {
          "color": "white",
          "width": 2
         },
         "name": "Distribuição Normal",
         "type": "scatter",
         "x": {
          "bdata": "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",
          "dtype": "f8"
         },
         "y": {
          "bdata": "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",
          "dtype": "f8"
         }
        }
       ],
       "layout": {
        "height": 500,
        "template": {
         "data": {
          "bar": [
           {
            "error_x": {
             "color": "#f2f5fa"
            },
            "error_y": {
             "color": "#f2f5fa"
            },
            "marker": {
             "line": {
              "color": "rgb(17,17,17)",
              "width": 0.5
             },
             "pattern": {
              "fillmode": "overlay",
              "size": 10,
              "solidity": 0.2
             }
            },
            "type": "bar"
           }
          ],
          "barpolar": [
           {
            "marker": {
             "line": {
              "color": "rgb(17,17,17)",
              "width": 0.5
             },
             "pattern": {
              "fillmode": "overlay",
              "size": 10,
              "solidity": 0.2
             }
            },
            "type": "barpolar"
           }
          ],
          "carpet": [
           {
            "aaxis": {
             "endlinecolor": "#A2B1C6",
             "gridcolor": "#506784",
             "linecolor": "#506784",
             "minorgridcolor": "#506784",
             "startlinecolor": "#A2B1C6"
            },
            "baxis": {
             "endlinecolor": "#A2B1C6",
             "gridcolor": "#506784",
             "linecolor": "#506784",
             "minorgridcolor": "#506784",
             "startlinecolor": "#A2B1C6"
            },
            "type": "carpet"
           }
          ],
          "choropleth": [
           {
            "colorbar": {
             "outlinewidth": 0,
             "ticks": ""
            },
            "type": "choropleth"
           }
          ],
          "contour": [
           {
            "colorbar": {
             "outlinewidth": 0,
             "ticks": ""
            },
            "colorscale": [
             [
              0,
              "#0d0887"
             ],
             [
              0.1111111111111111,
              "#46039f"
             ],
             [
              0.2222222222222222,
              "#7201a8"
             ],
             [
              0.3333333333333333,
              "#9c179e"
             ],
             [
              0.4444444444444444,
              "#bd3786"
             ],
             [
              0.5555555555555556,
              "#d8576b"
             ],
             [
              0.6666666666666666,
              "#ed7953"
             ],
             [
              0.7777777777777778,
              "#fb9f3a"
             ],
             [
              0.8888888888888888,
              "#fdca26"
             ],
             [
              1,
              "#f0f921"
             ]
            ],
            "type": "contour"
           }
          ],
          "contourcarpet": [
           {
            "colorbar": {
             "outlinewidth": 0,
             "ticks": ""
            },
            "type": "contourcarpet"
           }
          ],
          "heatmap": [
           {
            "colorbar": {
             "outlinewidth": 0,
             "ticks": ""
            },
            "colorscale": [
             [
              0,
              "#0d0887"
             ],
             [
              0.1111111111111111,
              "#46039f"
             ],
             [
              0.2222222222222222,
              "#7201a8"
             ],
             [
              0.3333333333333333,
              "#9c179e"
             ],
             [
              0.4444444444444444,
              "#bd3786"
             ],
             [
              0.5555555555555556,
              "#d8576b"
             ],
             [
              0.6666666666666666,
              "#ed7953"
             ],
             [
              0.7777777777777778,
              "#fb9f3a"
             ],
             [
              0.8888888888888888,
              "#fdca26"
             ],
             [
              1,
              "#f0f921"
             ]
            ],
            "type": "heatmap"
           }
          ],
          "histogram": [
           {
            "marker": {
             "pattern": {
              "fillmode": "overlay",
              "size": 10,
              "solidity": 0.2
             }
            },
            "type": "histogram"
           }
          ],
          "histogram2d": [
           {
            "colorbar": {
             "outlinewidth": 0,
             "ticks": ""
            },
            "colorscale": [
             [
              0,
              "#0d0887"
             ],
             [
              0.1111111111111111,
              "#46039f"
             ],
             [
              0.2222222222222222,
              "#7201a8"
             ],
             [
              0.3333333333333333,
              "#9c179e"
             ],
             [
              0.4444444444444444,
              "#bd3786"
             ],
             [
              0.5555555555555556,
              "#d8576b"
             ],
             [
              0.6666666666666666,
              "#ed7953"
             ],
             [
              0.7777777777777778,
              "#fb9f3a"
             ],
             [
              0.8888888888888888,
              "#fdca26"
             ],
             [
              1,
              "#f0f921"
             ]
            ],
            "type": "histogram2d"
           }
          ],
          "histogram2dcontour": [
           {
            "colorbar": {
             "outlinewidth": 0,
             "ticks": ""
            },
            "colorscale": [
             [
              0,
              "#0d0887"
             ],
             [
              0.1111111111111111,
              "#46039f"
             ],
             [
              0.2222222222222222,
              "#7201a8"
             ],
             [
              0.3333333333333333,
              "#9c179e"
             ],
             [
              0.4444444444444444,
              "#bd3786"
             ],
             [
              0.5555555555555556,
              "#d8576b"
             ],
             [
              0.6666666666666666,
              "#ed7953"
             ],
             [
              0.7777777777777778,
              "#fb9f3a"
             ],
             [
              0.8888888888888888,
              "#fdca26"
             ],
             [
              1,
              "#f0f921"
             ]
            ],
            "type": "histogram2dcontour"
           }
          ],
          "mesh3d": [
           {
            "colorbar": {
             "outlinewidth": 0,
             "ticks": ""
            },
            "type": "mesh3d"
           }
          ],
          "parcoords": [
           {
            "line": {
             "colorbar": {
              "outlinewidth": 0,
              "ticks": ""
             }
            },
            "type": "parcoords"
           }
          ],
          "pie": [
           {
            "automargin": true,
            "type": "pie"
           }
          ],
          "scatter": [
           {
            "marker": {
             "line": {
              "color": "#283442"
             }
            },
            "type": "scatter"
           }
          ],
          "scatter3d": [
           {
            "line": {
             "colorbar": {
              "outlinewidth": 0,
              "ticks": ""
             }
            },
            "marker": {
             "colorbar": {
              "outlinewidth": 0,
              "ticks": ""
             }
            },
            "type": "scatter3d"
           }
          ],
          "scattercarpet": [
           {
            "marker": {
             "colorbar": {
              "outlinewidth": 0,
              "ticks": ""
             }
            },
            "type": "scattercarpet"
           }
          ],
          "scattergeo": [
           {
            "marker": {
             "colorbar": {
              "outlinewidth": 0,
              "ticks": ""
             }
            },
            "type": "scattergeo"
           }
          ],
          "scattergl": [
           {
            "marker": {
             "line": {
              "color": "#283442"
             }
            },
            "type": "scattergl"
           }
          ],
          "scattermap": [
           {
            "marker": {
             "colorbar": {
              "outlinewidth": 0,
              "ticks": ""
             }
            },
            "type": "scattermap"
           }
          ],
          "scattermapbox": [
           {
            "marker": {
             "colorbar": {
              "outlinewidth": 0,
              "ticks": ""
             }
            },
            "type": "scattermapbox"
           }
          ],
          "scatterpolar": [
           {
            "marker": {
             "colorbar": {
              "outlinewidth": 0,
              "ticks": ""
             }
            },
            "type": "scatterpolar"
           }
          ],
          "scatterpolargl": [
           {
            "marker": {
             "colorbar": {
              "outlinewidth": 0,
              "ticks": ""
             }
            },
            "type": "scatterpolargl"
           }
          ],
          "scatterternary": [
           {
            "marker": {
             "colorbar": {
              "outlinewidth": 0,
              "ticks": ""
             }
            },
            "type": "scatterternary"
           }
          ],
          "surface": [
           {
            "colorbar": {
             "outlinewidth": 0,
             "ticks": ""
            },
            "colorscale": [
             [
              0,
              "#0d0887"
             ],
             [
              0.1111111111111111,
              "#46039f"
             ],
             [
              0.2222222222222222,
              "#7201a8"
             ],
             [
              0.3333333333333333,
              "#9c179e"
             ],
             [
              0.4444444444444444,
              "#bd3786"
             ],
             [
              0.5555555555555556,
              "#d8576b"
             ],
             [
              0.6666666666666666,
              "#ed7953"
             ],
             [
              0.7777777777777778,
              "#fb9f3a"
             ],
             [
              0.8888888888888888,
              "#fdca26"
             ],
             [
              1,
              "#f0f921"
             ]
            ],
            "type": "surface"
           }
          ],
          "table": [
           {
            "cells": {
             "fill": {
              "color": "#506784"
             },
             "line": {
              "color": "rgb(17,17,17)"
             }
            },
            "header": {
             "fill": {
              "color": "#2a3f5f"
             },
             "line": {
              "color": "rgb(17,17,17)"
             }
            },
            "type": "table"
           }
          ]
         },
         "layout": {
          "annotationdefaults": {
           "arrowcolor": "#f2f5fa",
           "arrowhead": 0,
           "arrowwidth": 1
          },
          "autotypenumbers": "strict",
          "coloraxis": {
           "colorbar": {
            "outlinewidth": 0,
            "ticks": ""
           }
          },
          "colorscale": {
           "diverging": [
            [
             0,
             "#8e0152"
            ],
            [
             0.1,
             "#c51b7d"
            ],
            [
             0.2,
             "#de77ae"
            ],
            [
             0.3,
             "#f1b6da"
            ],
            [
             0.4,
             "#fde0ef"
            ],
            [
             0.5,
             "#f7f7f7"
            ],
            [
             0.6,
             "#e6f5d0"
            ],
            [
             0.7,
             "#b8e186"
            ],
            [
             0.8,
             "#7fbc41"
            ],
            [
             0.9,
             "#4d9221"
            ],
            [
             1,
             "#276419"
            ]
           ],
           "sequential": [
            [
             0,
             "#0d0887"
            ],
            [
             0.1111111111111111,
             "#46039f"
            ],
            [
             0.2222222222222222,
             "#7201a8"
            ],
            [
             0.3333333333333333,
             "#9c179e"
            ],
            [
             0.4444444444444444,
             "#bd3786"
            ],
            [
             0.5555555555555556,
             "#d8576b"
            ],
            [
             0.6666666666666666,
             "#ed7953"
            ],
            [
             0.7777777777777778,
             "#fb9f3a"
            ],
            [
             0.8888888888888888,
             "#fdca26"
            ],
            [
             1,
             "#f0f921"
            ]
           ],
           "sequentialminus": [
            [
             0,
             "#0d0887"
            ],
            [
             0.1111111111111111,
             "#46039f"
            ],
            [
             0.2222222222222222,
             "#7201a8"
            ],
            [
             0.3333333333333333,
             "#9c179e"
            ],
            [
             0.4444444444444444,
             "#bd3786"
            ],
            [
             0.5555555555555556,
             "#d8576b"
            ],
            [
             0.6666666666666666,
             "#ed7953"
            ],
            [
             0.7777777777777778,
             "#fb9f3a"
            ],
            [
             0.8888888888888888,
             "#fdca26"
            ],
            [
             1,
             "#f0f921"
            ]
           ]
          },
          "colorway": [
           "#636efa",
           "#EF553B",
           "#00cc96",
           "#ab63fa",
           "#FFA15A",
           "#19d3f3",
           "#FF6692",
           "#B6E880",
           "#FF97FF",
           "#FECB52"
          ],
          "font": {
           "color": "#f2f5fa"
          },
          "geo": {
           "bgcolor": "rgb(17,17,17)",
           "lakecolor": "rgb(17,17,17)",
           "landcolor": "rgb(17,17,17)",
           "showlakes": true,
           "showland": true,
           "subunitcolor": "#506784"
          },
          "hoverlabel": {
           "align": "left"
          },
          "hovermode": "closest",
          "mapbox": {
           "style": "dark"
          },
          "paper_bgcolor": "rgb(17,17,17)",
          "plot_bgcolor": "rgb(17,17,17)",
          "polar": {
           "angularaxis": {
            "gridcolor": "#506784",
            "linecolor": "#506784",
            "ticks": ""
           },
           "bgcolor": "rgb(17,17,17)",
           "radialaxis": {
            "gridcolor": "#506784",
            "linecolor": "#506784",
            "ticks": ""
           }
          },
          "scene": {
           "xaxis": {
            "backgroundcolor": "rgb(17,17,17)",
            "gridcolor": "#506784",
            "gridwidth": 2,
            "linecolor": "#506784",
            "showbackground": true,
            "ticks": "",
            "zerolinecolor": "#C8D4E3"
           },
           "yaxis": {
            "backgroundcolor": "rgb(17,17,17)",
            "gridcolor": "#506784",
            "gridwidth": 2,
            "linecolor": "#506784",
            "showbackground": true,
            "ticks": "",
            "zerolinecolor": "#C8D4E3"
           },
           "zaxis": {
            "backgroundcolor": "rgb(17,17,17)",
            "gridcolor": "#506784",
            "gridwidth": 2,
            "linecolor": "#506784",
            "showbackground": true,
            "ticks": "",
            "zerolinecolor": "#C8D4E3"
           }
          },
          "shapedefaults": {
           "line": {
            "color": "#f2f5fa"
           }
          },
          "sliderdefaults": {
           "bgcolor": "#C8D4E3",
           "bordercolor": "rgb(17,17,17)",
           "borderwidth": 1,
           "tickwidth": 0
          },
          "ternary": {
           "aaxis": {
            "gridcolor": "#506784",
            "linecolor": "#506784",
            "ticks": ""
           },
           "baxis": {
            "gridcolor": "#506784",
            "linecolor": "#506784",
            "ticks": ""
           },
           "bgcolor": "rgb(17,17,17)",
           "caxis": {
            "gridcolor": "#506784",
            "linecolor": "#506784",
            "ticks": ""
           }
          },
          "title": {
           "x": 0.05
          },
          "updatemenudefaults": {
           "bgcolor": "#506784",
           "borderwidth": 0
          },
          "xaxis": {
           "automargin": true,
           "gridcolor": "#283442",
           "linecolor": "#506784",
           "ticks": "",
           "title": {
            "standoff": 15
           },
           "zerolinecolor": "#283442",
           "zerolinewidth": 2
          },
          "yaxis": {
           "automargin": true,
           "gridcolor": "#283442",
           "linecolor": "#506784",
           "ticks": "",
           "title": {
            "standoff": 15
           },
           "zerolinecolor": "#283442",
           "zerolinewidth": 2
          }
         }
        },
        "title": {
         "text": "Distribuição dos Retornos Logarítmicos vs Normal"
        },
        "xaxis": {
         "title": {
          "text": "Retorno Logarítmico"
         }
        },
        "yaxis": {
         "title": {
          "text": "Densidade"
         }
        }
       }
      }
     },
     "metadata": {},
     "output_type": "display_data"
    },
    {
     "data": {
      "application/vnd.plotly.v1+json": {
       "config": {
        "plotlyServerURL": "https://plot.ly"
       },
       "data": [
        {
         "line": {
          "color": "#E57C1F"
         },
         "mode": "lines",
         "name": "Log Retorno",
         "type": "scatter",
         "x": {
          "bdata": "AQIDBAUG",
          "dtype": "i1"
         },
         "y": {
          "bdata": "pwXE8jCTiD9WqOPs2Zmcv+k2BmYLR3w/OMan3byVP7+P9s5Ok/iXv8yKwxYkLaa/",
          "dtype": "f8"
         }
        }
       ],
       "layout": {
        "height": 500,
        "shapes": [
         {
          "line": {
           "color": "white",
           "dash": "dash"
          },
          "type": "line",
          "x0": 1,
          "x1": 6,
          "y0": 0,
          "y1": 0
         }
        ],
        "template": {
         "data": {
          "bar": [
           {
            "error_x": {
             "color": "#f2f5fa"
            },
            "error_y": {
             "color": "#f2f5fa"
            },
            "marker": {
             "line": {
              "color": "rgb(17,17,17)",
              "width": 0.5
             },
             "pattern": {
              "fillmode": "overlay",
              "size": 10,
              "solidity": 0.2
             }
            },
            "type": "bar"
           }
          ],
          "barpolar": [
           {
            "marker": {
             "line": {
              "color": "rgb(17,17,17)",
              "width": 0.5
             },
             "pattern": {
              "fillmode": "overlay",
              "size": 10,
              "solidity": 0.2
             }
            },
            "type": "barpolar"
           }
          ],
          "carpet": [
           {
            "aaxis": {
             "endlinecolor": "#A2B1C6",
             "gridcolor": "#506784",
             "linecolor": "#506784",
             "minorgridcolor": "#506784",
             "startlinecolor": "#A2B1C6"
            },
            "baxis": {
             "endlinecolor": "#A2B1C6",
             "gridcolor": "#506784",
             "linecolor": "#506784",
             "minorgridcolor": "#506784",
             "startlinecolor": "#A2B1C6"
            },
            "type": "carpet"
           }
          ],
          "choropleth": [
           {
            "colorbar": {
             "outlinewidth": 0,
             "ticks": ""
            },
            "type": "choropleth"
           }
          ],
          "contour": [
           {
            "colorbar": {
             "outlinewidth": 0,
             "ticks": ""
            },
            "colorscale": [
             [
              0,
              "#0d0887"
             ],
             [
              0.1111111111111111,
              "#46039f"
             ],
             [
              0.2222222222222222,
              "#7201a8"
             ],
             [
              0.3333333333333333,
              "#9c179e"
             ],
             [
              0.4444444444444444,
              "#bd3786"
             ],
             [
              0.5555555555555556,
              "#d8576b"
             ],
             [
              0.6666666666666666,
              "#ed7953"
             ],
             [
              0.7777777777777778,
              "#fb9f3a"
             ],
             [
              0.8888888888888888,
              "#fdca26"
             ],
             [
              1,
              "#f0f921"
             ]
            ],
            "type": "contour"
           }
          ],
          "contourcarpet": [
           {
            "colorbar": {
             "outlinewidth": 0,
             "ticks": ""
            },
            "type": "contourcarpet"
           }
          ],
          "heatmap": [
           {
            "colorbar": {
             "outlinewidth": 0,
             "ticks": ""
            },
            "colorscale": [
             [
              0,
              "#0d0887"
             ],
             [
              0.1111111111111111,
              "#46039f"
             ],
             [
              0.2222222222222222,
              "#7201a8"
             ],
             [
              0.3333333333333333,
              "#9c179e"
             ],
             [
              0.4444444444444444,
              "#bd3786"
             ],
             [
              0.5555555555555556,
              "#d8576b"
             ],
             [
              0.6666666666666666,
              "#ed7953"
             ],
             [
              0.7777777777777778,
              "#fb9f3a"
             ],
             [
              0.8888888888888888,
              "#fdca26"
             ],
             [
              1,
              "#f0f921"
             ]
            ],
            "type": "heatmap"
           }
          ],
          "histogram": [
           {
            "marker": {
             "pattern": {
              "fillmode": "overlay",
              "size": 10,
              "solidity": 0.2
             }
            },
            "type": "histogram"
           }
          ],
          "histogram2d": [
           {
            "colorbar": {
             "outlinewidth": 0,
             "ticks": ""
            },
            "colorscale": [
             [
              0,
              "#0d0887"
             ],
             [
              0.1111111111111111,
              "#46039f"
             ],
             [
              0.2222222222222222,
              "#7201a8"
             ],
             [
              0.3333333333333333,
              "#9c179e"
             ],
             [
              0.4444444444444444,
              "#bd3786"
             ],
             [
              0.5555555555555556,
              "#d8576b"
             ],
             [
              0.6666666666666666,
              "#ed7953"
             ],
             [
              0.7777777777777778,
              "#fb9f3a"
             ],
             [
              0.8888888888888888,
              "#fdca26"
             ],
             [
              1,
              "#f0f921"
             ]
            ],
            "type": "histogram2d"
           }
          ],
          "histogram2dcontour": [
           {
            "colorbar": {
             "outlinewidth": 0,
             "ticks": ""
            },
            "colorscale": [
             [
              0,
              "#0d0887"
             ],
             [
              0.1111111111111111,
              "#46039f"
             ],
             [
              0.2222222222222222,
              "#7201a8"
             ],
             [
              0.3333333333333333,
              "#9c179e"
             ],
             [
              0.4444444444444444,
              "#bd3786"
             ],
             [
              0.5555555555555556,
              "#d8576b"
             ],
             [
              0.6666666666666666,
              "#ed7953"
             ],
             [
              0.7777777777777778,
              "#fb9f3a"
             ],
             [
              0.8888888888888888,
              "#fdca26"
             ],
             [
              1,
              "#f0f921"
             ]
            ],
            "type": "histogram2dcontour"
           }
          ],
          "mesh3d": [
           {
            "colorbar": {
             "outlinewidth": 0,
             "ticks": ""
            },
            "type": "mesh3d"
           }
          ],
          "parcoords": [
           {
            "line": {
             "colorbar": {
              "outlinewidth": 0,
              "ticks": ""
             }
            },
            "type": "parcoords"
           }
          ],
          "pie": [
           {
            "automargin": true,
            "type": "pie"
           }
          ],
          "scatter": [
           {
            "marker": {
             "line": {
              "color": "#283442"
             }
            },
            "type": "scatter"
           }
          ],
          "scatter3d": [
           {
            "line": {
             "colorbar": {
              "outlinewidth": 0,
              "ticks": ""
             }
            },
            "marker": {
             "colorbar": {
              "outlinewidth": 0,
              "ticks": ""
             }
            },
            "type": "scatter3d"
           }
          ],
          "scattercarpet": [
           {
            "marker": {
             "colorbar": {
              "outlinewidth": 0,
              "ticks": ""
             }
            },
            "type": "scattercarpet"
           }
          ],
          "scattergeo": [
           {
            "marker": {
             "colorbar": {
              "outlinewidth": 0,
              "ticks": ""
             }
            },
            "type": "scattergeo"
           }
          ],
          "scattergl": [
           {
            "marker": {
             "line": {
              "color": "#283442"
             }
            },
            "type": "scattergl"
           }
          ],
          "scattermap": [
           {
            "marker": {
             "colorbar": {
              "outlinewidth": 0,
              "ticks": ""
             }
            },
            "type": "scattermap"
           }
          ],
          "scattermapbox": [
           {
            "marker": {
             "colorbar": {
              "outlinewidth": 0,
              "ticks": ""
             }
            },
            "type": "scattermapbox"
           }
          ],
          "scatterpolar": [
           {
            "marker": {
             "colorbar": {
              "outlinewidth": 0,
              "ticks": ""
             }
            },
            "type": "scatterpolar"
           }
          ],
          "scatterpolargl": [
           {
            "marker": {
             "colorbar": {
              "outlinewidth": 0,
              "ticks": ""
             }
            },
            "type": "scatterpolargl"
           }
          ],
          "scatterternary": [
           {
            "marker": {
             "colorbar": {
              "outlinewidth": 0,
              "ticks": ""
             }
            },
            "type": "scatterternary"
           }
          ],
          "surface": [
           {
            "colorbar": {
             "outlinewidth": 0,
             "ticks": ""
            },
            "colorscale": [
             [
              0,
              "#0d0887"
             ],
             [
              0.1111111111111111,
              "#46039f"
             ],
             [
              0.2222222222222222,
              "#7201a8"
             ],
             [
              0.3333333333333333,
              "#9c179e"
             ],
             [
              0.4444444444444444,
              "#bd3786"
             ],
             [
              0.5555555555555556,
              "#d8576b"
             ],
             [
              0.6666666666666666,
              "#ed7953"
             ],
             [
              0.7777777777777778,
              "#fb9f3a"
             ],
             [
              0.8888888888888888,
              "#fdca26"
             ],
             [
              1,
              "#f0f921"
             ]
            ],
            "type": "surface"
           }
          ],
          "table": [
           {
            "cells": {
             "fill": {
              "color": "#506784"
             },
             "line": {
              "color": "rgb(17,17,17)"
             }
            },
            "header": {
             "fill": {
              "color": "#2a3f5f"
             },
             "line": {
              "color": "rgb(17,17,17)"
             }
            },
            "type": "table"
           }
          ]
         },
         "layout": {
          "annotationdefaults": {
           "arrowcolor": "#f2f5fa",
           "arrowhead": 0,
           "arrowwidth": 1
          },
          "autotypenumbers": "strict",
          "coloraxis": {
           "colorbar": {
            "outlinewidth": 0,
            "ticks": ""
           }
          },
          "colorscale": {
           "diverging": [
            [
             0,
             "#8e0152"
            ],
            [
             0.1,
             "#c51b7d"
            ],
            [
             0.2,
             "#de77ae"
            ],
            [
             0.3,
             "#f1b6da"
            ],
            [
             0.4,
             "#fde0ef"
            ],
            [
             0.5,
             "#f7f7f7"
            ],
            [
             0.6,
             "#e6f5d0"
            ],
            [
             0.7,
             "#b8e186"
            ],
            [
             0.8,
             "#7fbc41"
            ],
            [
             0.9,
             "#4d9221"
            ],
            [
             1,
             "#276419"
            ]
           ],
           "sequential": [
            [
             0,
             "#0d0887"
            ],
            [
             0.1111111111111111,
             "#46039f"
            ],
            [
             0.2222222222222222,
             "#7201a8"
            ],
            [
             0.3333333333333333,
             "#9c179e"
            ],
            [
             0.4444444444444444,
             "#bd3786"
            ],
            [
             0.5555555555555556,
             "#d8576b"
            ],
            [
             0.6666666666666666,
             "#ed7953"
            ],
            [
             0.7777777777777778,
             "#fb9f3a"
            ],
            [
             0.8888888888888888,
             "#fdca26"
            ],
            [
             1,
             "#f0f921"
            ]
           ],
           "sequentialminus": [
            [
             0,
             "#0d0887"
            ],
            [
             0.1111111111111111,
             "#46039f"
            ],
            [
             0.2222222222222222,
             "#7201a8"
            ],
            [
             0.3333333333333333,
             "#9c179e"
            ],
            [
             0.4444444444444444,
             "#bd3786"
            ],
            [
             0.5555555555555556,
             "#d8576b"
            ],
            [
             0.6666666666666666,
             "#ed7953"
            ],
            [
             0.7777777777777778,
             "#fb9f3a"
            ],
            [
             0.8888888888888888,
             "#fdca26"
            ],
            [
             1,
             "#f0f921"
            ]
           ]
          },
          "colorway": [
           "#636efa",
           "#EF553B",
           "#00cc96",
           "#ab63fa",
           "#FFA15A",
           "#19d3f3",
           "#FF6692",
           "#B6E880",
           "#FF97FF",
           "#FECB52"
          ],
          "font": {
           "color": "#f2f5fa"
          },
          "geo": {
           "bgcolor": "rgb(17,17,17)",
           "lakecolor": "rgb(17,17,17)",
           "landcolor": "rgb(17,17,17)",
           "showlakes": true,
           "showland": true,
           "subunitcolor": "#506784"
          },
          "hoverlabel": {
           "align": "left"
          },
          "hovermode": "closest",
          "mapbox": {
           "style": "dark"
          },
          "paper_bgcolor": "rgb(17,17,17)",
          "plot_bgcolor": "rgb(17,17,17)",
          "polar": {
           "angularaxis": {
            "gridcolor": "#506784",
            "linecolor": "#506784",
            "ticks": ""
           },
           "bgcolor": "rgb(17,17,17)",
           "radialaxis": {
            "gridcolor": "#506784",
            "linecolor": "#506784",
            "ticks": ""
           }
          },
          "scene": {
           "xaxis": {
            "backgroundcolor": "rgb(17,17,17)",
            "gridcolor": "#506784",
            "gridwidth": 2,
            "linecolor": "#506784",
            "showbackground": true,
            "ticks": "",
            "zerolinecolor": "#C8D4E3"
           },
           "yaxis": {
            "backgroundcolor": "rgb(17,17,17)",
            "gridcolor": "#506784",
            "gridwidth": 2,
            "linecolor": "#506784",
            "showbackground": true,
            "ticks": "",
            "zerolinecolor": "#C8D4E3"
           },
           "zaxis": {
            "backgroundcolor": "rgb(17,17,17)",
            "gridcolor": "#506784",
            "gridwidth": 2,
            "linecolor": "#506784",
            "showbackground": true,
            "ticks": "",
            "zerolinecolor": "#C8D4E3"
           }
          },
          "shapedefaults": {
           "line": {
            "color": "#f2f5fa"
           }
          },
          "sliderdefaults": {
           "bgcolor": "#C8D4E3",
           "bordercolor": "rgb(17,17,17)",
           "borderwidth": 1,
           "tickwidth": 0
          },
          "ternary": {
           "aaxis": {
            "gridcolor": "#506784",
            "linecolor": "#506784",
            "ticks": ""
           },
           "baxis": {
            "gridcolor": "#506784",
            "linecolor": "#506784",
            "ticks": ""
           },
           "bgcolor": "rgb(17,17,17)",
           "caxis": {
            "gridcolor": "#506784",
            "linecolor": "#506784",
            "ticks": ""
           }
          },
          "title": {
           "x": 0.05
          },
          "updatemenudefaults": {
           "bgcolor": "#506784",
           "borderwidth": 0
          },
          "xaxis": {
           "automargin": true,
           "gridcolor": "#283442",
           "linecolor": "#506784",
           "ticks": "",
           "title": {
            "standoff": 15
           },
           "zerolinecolor": "#283442",
           "zerolinewidth": 2
          },
          "yaxis": {
           "automargin": true,
           "gridcolor": "#283442",
           "linecolor": "#506784",
           "ticks": "",
           "title": {
            "standoff": 15
           },
           "zerolinecolor": "#283442",
           "zerolinewidth": 2
          }
         }
        },
        "title": {
         "text": "Retornos Logarítmicos ao Longo do Tempo"
        },
        "xaxis": {
         "title": {
          "text": "Data"
         }
        },
        "yaxis": {
         "title": {
          "text": "Log Retorno"
         }
        }
       }
      }
     },
     "metadata": {},
     "output_type": "display_data"
    }
   ],
   "source": [
    "plot_log_return_analysis(df_returns[\"log_return\"])"
   ]
  },
  {
   "cell_type": "code",
   "execution_count": 26,
   "metadata": {},
   "outputs": [
    {
     "name": "stdout",
     "output_type": "stream",
     "text": [
      "[ERRO] Falha ao gerar ACF/PACF: Can only compute partial correlations for lags up to 50% of the sample size. The requested nlags 5 must be < 3.\n"
     ]
    }
   ],
   "source": [
    "plot_acf_pacf_returns(df_returns[\"log_return\"], 24)"
   ]
  },
  {
   "cell_type": "code",
   "execution_count": 27,
   "metadata": {},
   "outputs": [
    {
     "name": "stdout",
     "output_type": "stream",
     "text": [
      "[AVISO] Série insuficiente para calcular volatilidade com janela 30.\n"
     ]
    }
   ],
   "source": [
    "plot_volatility_rolling(df_returns, window=30)"
   ]
  },
  {
   "cell_type": "code",
   "execution_count": 28,
   "metadata": {},
   "outputs": [
    {
     "name": "stdout",
     "output_type": "stream",
     "text": [
      "p-valor do teste de normalidade: nan\n"
     ]
    },
    {
     "name": "stderr",
     "output_type": "stream",
     "text": [
      "/var/folders/q4/msgggjcn0c9448__nbm848r00000gn/T/ipykernel_66353/312035379.py:1: SmallSampleWarning:\n",
      "\n",
      "One or more sample arguments is too small; all returned values will be NaN. See documentation for sample size requirements.\n",
      "\n"
     ]
    }
   ],
   "source": [
    "\n",
    "stat, p = normaltest(df_returns[\"log_return\"].dropna())\n",
    "print(f\"p-valor do teste de normalidade: {p}\")"
   ]
  },
  {
   "cell_type": "code",
   "execution_count": 29,
   "metadata": {},
   "outputs": [],
   "source": [
    "\n",
    "\n",
    "# ================================================================\n",
    "# EXTRAÇÃO DE FEATURES DE VOLATILIDADE / VOLATILITY FEATURE EXTRACTION\n",
    "# ================================================================\n",
    "def extract_volatility_features(\n",
    "    df: pd.DataFrame,\n",
    "    return_col: str = \"log_return\",\n",
    "    block_height_col: str = \"block_height\",\n",
    "    block_timestamp_col: str = \"block_timestamp\",\n",
    "    window: int = 24\n",
    ") -> pd.DataFrame:\n",
    "    \"\"\"\n",
    "    Extrai features de volatilidade com base na série de retornos.\n",
    "    / Extracts volatility features based on the return series.\n",
    "\n",
    "    Parâmetros / Parameters:\n",
    "    - df: pd.DataFrame\n",
    "        DataFrame contendo a coluna de retornos e metadados / DataFrame with return column and metadata.\n",
    "    - return_col: str\n",
    "        Nome da coluna de retornos logarítmicos / Name of log return column.\n",
    "    - block_height_col: str\n",
    "        Nome da coluna de altura do bloco / Name of block height column.\n",
    "    - block_timestamp_col: str\n",
    "        Nome da coluna de timestamp / Name of timestamp column.\n",
    "    - window: int\n",
    "        Tamanho da janela para cálculo da rolling volatility / Rolling window size.\n",
    "\n",
    "    Retorna / Returns:\n",
    "    - pd.DataFrame com colunas: block_height, block_timestamp, volatility_rolling, volatility_zscore, volatility_jump_flag\n",
    "    / DataFrame with volatility features and metadata.\n",
    "    \"\"\"\n",
    "\n",
    "    # ================================\n",
    "    # PREPARAÇÃO DA BASE\n",
    "    # ================================\n",
    "    df = df[[return_col, block_height_col, block_timestamp_col]].copy()\n",
    "    # --> Seleciona apenas as colunas necessárias / Keep only relevant columns <--\n",
    "\n",
    "    # ================================\n",
    "    # CÁLCULO DAS FEATURES DE VOLATILIDADE\n",
    "    # ================================\n",
    "    df[\"volatility_rolling\"] = df[return_col].rolling(window).std()\n",
    "    # --> Desvio padrão móvel como proxy de volatilidade / Rolling standard deviation <--\n",
    "\n",
    "    df[\"volatility_zscore\"] = (\n",
    "        df[\"volatility_rolling\"] - df[\"volatility_rolling\"].rolling(window).mean()\n",
    "    ) / df[\"volatility_rolling\"].rolling(window).std()\n",
    "    # --> Z-score da volatilidade em relação à média histórica local / Local z-score of volatility <--\n",
    "\n",
    "    df[\"volatility_jump_flag\"] = (df[\"volatility_zscore\"].abs() > 2).astype(int)\n",
    "    # --> Flag binária para detectar picos de volatilidade (|z| > 2) / Binary flag for extreme volatility <--\n",
    "\n",
    "    # ================================\n",
    "    # RETORNO FINAL\n",
    "    # ================================\n",
    "    return df[[block_height_col, block_timestamp_col, \"volatility_rolling\", \"volatility_zscore\", \"volatility_jump_flag\"]]\n",
    "    # --> Retorna apenas colunas úteis para junção / Return only relevant feature columns <--"
   ]
  },
  {
   "cell_type": "code",
   "execution_count": 30,
   "metadata": {},
   "outputs": [
    {
     "data": {
      "application/vnd.microsoft.datawrangler.viewer.v0+json": {
       "columns": [
        {
         "name": "index",
         "rawType": "int64",
         "type": "integer"
        },
        {
         "name": "block_height",
         "rawType": "float64",
         "type": "float"
        },
        {
         "name": "block_timestamp",
         "rawType": "datetime64[us]",
         "type": "unknown"
        },
        {
         "name": "volatility_rolling",
         "rawType": "float64",
         "type": "float"
        },
        {
         "name": "volatility_zscore",
         "rawType": "float64",
         "type": "float"
        },
        {
         "name": "volatility_jump_flag",
         "rawType": "int64",
         "type": "integer"
        }
       ],
       "conversionMethod": "pd.DataFrame",
       "ref": "385c35da-d3ab-46fa-8893-d7ef1fe9b99d",
       "rows": [
        [
         "2",
         "890707.5",
         "2025-04-03 00:00:00",
         null,
         null,
         "0"
        ],
        [
         "3",
         "890873.5",
         "2025-04-04 00:00:00",
         null,
         null,
         "0"
        ],
        [
         "4",
         "891045.5",
         "2025-04-05 00:00:00",
         null,
         null,
         "0"
        ],
        [
         "5",
         "891200.0",
         "2025-04-06 00:00:00",
         null,
         null,
         "0"
        ],
        [
         "6",
         "891345.0",
         "2025-04-07 00:00:00",
         null,
         null,
         "0"
        ]
       ],
       "shape": {
        "columns": 5,
        "rows": 5
       }
      },
      "text/html": [
       "<div>\n",
       "<style scoped>\n",
       "    .dataframe tbody tr th:only-of-type {\n",
       "        vertical-align: middle;\n",
       "    }\n",
       "\n",
       "    .dataframe tbody tr th {\n",
       "        vertical-align: top;\n",
       "    }\n",
       "\n",
       "    .dataframe thead th {\n",
       "        text-align: right;\n",
       "    }\n",
       "</style>\n",
       "<table border=\"1\" class=\"dataframe\">\n",
       "  <thead>\n",
       "    <tr style=\"text-align: right;\">\n",
       "      <th></th>\n",
       "      <th>block_height</th>\n",
       "      <th>block_timestamp</th>\n",
       "      <th>volatility_rolling</th>\n",
       "      <th>volatility_zscore</th>\n",
       "      <th>volatility_jump_flag</th>\n",
       "    </tr>\n",
       "  </thead>\n",
       "  <tbody>\n",
       "    <tr>\n",
       "      <th>2</th>\n",
       "      <td>890707.5</td>\n",
       "      <td>2025-04-03</td>\n",
       "      <td>NaN</td>\n",
       "      <td>NaN</td>\n",
       "      <td>0</td>\n",
       "    </tr>\n",
       "    <tr>\n",
       "      <th>3</th>\n",
       "      <td>890873.5</td>\n",
       "      <td>2025-04-04</td>\n",
       "      <td>NaN</td>\n",
       "      <td>NaN</td>\n",
       "      <td>0</td>\n",
       "    </tr>\n",
       "    <tr>\n",
       "      <th>4</th>\n",
       "      <td>891045.5</td>\n",
       "      <td>2025-04-05</td>\n",
       "      <td>NaN</td>\n",
       "      <td>NaN</td>\n",
       "      <td>0</td>\n",
       "    </tr>\n",
       "    <tr>\n",
       "      <th>5</th>\n",
       "      <td>891200.0</td>\n",
       "      <td>2025-04-06</td>\n",
       "      <td>NaN</td>\n",
       "      <td>NaN</td>\n",
       "      <td>0</td>\n",
       "    </tr>\n",
       "    <tr>\n",
       "      <th>6</th>\n",
       "      <td>891345.0</td>\n",
       "      <td>2025-04-07</td>\n",
       "      <td>NaN</td>\n",
       "      <td>NaN</td>\n",
       "      <td>0</td>\n",
       "    </tr>\n",
       "  </tbody>\n",
       "</table>\n",
       "</div>"
      ],
      "text/plain": [
       "   block_height block_timestamp  volatility_rolling  volatility_zscore  \\\n",
       "2      890707.5      2025-04-03                 NaN                NaN   \n",
       "3      890873.5      2025-04-04                 NaN                NaN   \n",
       "4      891045.5      2025-04-05                 NaN                NaN   \n",
       "5      891200.0      2025-04-06                 NaN                NaN   \n",
       "6      891345.0      2025-04-07                 NaN                NaN   \n",
       "\n",
       "   volatility_jump_flag  \n",
       "2                     0  \n",
       "3                     0  \n",
       "4                     0  \n",
       "5                     0  \n",
       "6                     0  "
      ]
     },
     "metadata": {},
     "output_type": "display_data"
    }
   ],
   "source": [
    "df_volatility = extract_volatility_features(df_returns)\n",
    "display(df_volatility.tail())"
   ]
  },
  {
   "cell_type": "markdown",
   "metadata": {},
   "source": [
    "#### 4.2 Decomposicao Estrutural da Serie (STL)"
   ]
  },
  {
   "cell_type": "markdown",
   "metadata": {},
   "source": [
    "---\n",
    "\n",
    "Modelo Aditivo de Séries Temporais\n",
    "\n",
    "A decomposição STL (Seasonal-Trend decomposition using Loess) separa uma série temporal $ Y_t $ em três componentes principais:\n",
    "\n",
    "$\n",
    "Y_t = T_t + S_t + R_t\n",
    "$\n",
    "\n",
    "Onde:\n",
    "\n",
    "- $ T_t $: tendência (trend) — representa a variação de longo prazo  \n",
    "- $ S_t $: sazonalidade (seasonal) — padrões que se repetem em ciclos regulares  \n",
    "- $ R_t $: resíduo (residual) — ruído ou componente aleatório\n",
    "\n",
    "---\n",
    "\n",
    "STL – *Seasonal and Trend decomposition using Loess*\n",
    "\n",
    "STL é uma técnica robusta que utiliza regressão local (LOESS) para suavizar e estimar cada componente separadamente. Seu diferencial:\n",
    "\n",
    "- Permite **sazonalidade variável no tempo**\n",
    "- Suporta **dados com outliers**\n",
    "- É parametrizável com escolha do período e robustez\n",
    "\n",
    "---\n",
    "\n",
    "Interpretação prática:\n",
    "\n",
    "- A **tendência** $ T_t $ permite identificar a direção geral do fenômeno (ex: crescimento do preço).\n",
    "- A **sazonalidade** $ S_t $ revela padrões periódicos (ex: ciclos mensais ou semanais).\n",
    "- O **resíduo** $ R_t $ pode ser analisado para investigar anomalias, choques ou ruído puro.\n",
    "\n",
    "---\n",
    "\n",
    "Aplicação:\n",
    "\n",
    "Essa decomposição é útil para:\n",
    "\n",
    "- **Pré-processamento** de séries para modelos preditivos\n",
    "- **Detecção de anomalias** (com base nos resíduos)\n",
    "- **Análise exploratória** de comportamento estrutural da série\n",
    "\n",
    "---\n",
    "\n",
    "Reversibilidade do modelo:\n",
    "\n",
    "Como se trata de uma decomposição aditiva, podemos sempre reconstruir a série original somando os componentes:\n",
    "\n",
    "$\n",
    "Y_t = T_t + S_t + R_t\n",
    "$\n",
    "\n",
    "---"
   ]
  },
  {
   "cell_type": "markdown",
   "metadata": {},
   "source": [
    "##### 🔶 ₿ -----> Tendência, Sazonalidade e Resíduo"
   ]
  },
  {
   "cell_type": "code",
   "execution_count": 31,
   "metadata": {},
   "outputs": [],
   "source": [
    "df_stl = df_time_index.resample('h').mean()\n",
    "# --> Reamostra os dados com frequência horária, calculando a média por hora / Resamples data to hourly frequency, taking the mean per hour <--\n",
    "\n",
    "df_stl[\"btc_price_usd\"] = df_stl[\"btc_price_usd\"].interpolate()\n",
    "# --> Interpola valores ausentes no preço do Bitcoin / Interpolates missing Bitcoin price values <--\n",
    "\n",
    "df_stl = df_stl[df_stl[\"btc_price_usd\"].notna()]\n",
    "# --> Remove qualquer linha restante com valores ausentes / Drops any remaining rows with missing values <--"
   ]
  },
  {
   "cell_type": "code",
   "execution_count": 32,
   "metadata": {},
   "outputs": [],
   "source": [
    "# ================================================================\n",
    "# APLICAÇÃO DA DECOMPOSIÇÃO STL / STL DECOMPOSITION APPLICATION\n",
    "# ================================================================\n",
    "def apply_stl_decomposition(\n",
    "    df: pd.DataFrame,\n",
    "    target_col: str,\n",
    "    block_height_col: str = \"block_height\",\n",
    "    block_timestamp_col: str = \"block_timestamp\",\n",
    "    period: int = 48\n",
    ") -> pd.DataFrame:\n",
    "    \"\"\"\n",
    "    Aplica a decomposição STL em uma coluna de série temporal e retorna os componentes.\n",
    "    / Applies STL decomposition to a time series column and returns its components.\n",
    "\n",
    "    Parâmetros / Parameters:\n",
    "    - df: pd.DataFrame\n",
    "        DataFrame com colunas de preço, timestamp e altura do bloco /\n",
    "        DataFrame containing price, timestamp and block height.\n",
    "    - target_col: str\n",
    "        Nome da coluna alvo para decomposição / Name of the column to decompose.\n",
    "    - block_height_col: str\n",
    "        Nome da coluna de altura do bloco / Name of the block height column.\n",
    "    - block_timestamp_col: str\n",
    "        Nome da coluna de timestamp / Name of the timestamp column.\n",
    "    - period: int\n",
    "        Periodicidade da série para sazonalidade / Seasonality period.\n",
    "\n",
    "    Retorna / Returns:\n",
    "    - pd.DataFrame com colunas: block_height, block_timestamp, trend, seasonal, resid /\n",
    "      DataFrame with STL components and metadata.\n",
    "    \"\"\"\n",
    "    \n",
    "    # ================================\n",
    "    # PREPARAÇÃO DA SÉRIE\n",
    "    # ================================\n",
    "    df = df[[target_col, block_height_col, block_timestamp_col]].dropna().copy()\n",
    "    # --> Seleciona e limpa colunas necessárias / Select and clean necessary columns <--\n",
    "\n",
    "    stl = STL(df[target_col], period=period, robust=True)\n",
    "    # --> Configura a decomposição STL / Configures STL decomposition <--\n",
    "\n",
    "    result = stl.fit()\n",
    "    # --> Executa o ajuste da decomposição / Fits the STL decomposition <--\n",
    "\n",
    "    df_stl = pd.DataFrame({\n",
    "        block_height_col: df[block_height_col].values,\n",
    "        block_timestamp_col: df[block_timestamp_col].values,\n",
    "        \"trend\": result.trend,\n",
    "        \"seasonal\": result.seasonal,\n",
    "        \"resid\": result.resid\n",
    "    }, index=df.index)\n",
    "    # --> Cria DataFrame com componentes STL e metadados / Creates DataFrame with STL components <--\n",
    "\n",
    "    return df_stl\n",
    "    # --> Retorna apenas colunas úteis para merge / Returns aligned components with metadata <--"
   ]
  },
  {
   "cell_type": "code",
   "execution_count": 33,
   "metadata": {},
   "outputs": [],
   "source": [
    "# Série de preço limpa e com índice reiniciado\n",
    "btc_price_clean = df_stl[\"btc_price_usd\"].dropna().reset_index(drop=True)\n",
    "\n",
    "# Aplica a decomposição STL com essa série\n",
    "from statsmodels.tsa.seasonal import STL\n",
    "result = STL(btc_price_clean, period=48, robust=True).fit()\n",
    "\n",
    "# Monta o DataFrame decomposto com mesmo índice\n",
    "df_stl_dec = pd.DataFrame({\n",
    "    \"trend\": result.trend,\n",
    "    \"seasonal\": result.seasonal,\n",
    "    \"resid\": result.resid\n",
    "}, index=btc_price_clean.index)"
   ]
  },
  {
   "cell_type": "markdown",
   "metadata": {},
   "source": [
    "##### 🔶 ₿ -----> Tendência, Sazonalidade e Resíduo - Análise Gráfica"
   ]
  },
  {
   "cell_type": "code",
   "execution_count": 34,
   "metadata": {},
   "outputs": [
    {
     "data": {
      "application/vnd.plotly.v1+json": {
       "config": {
        "plotlyServerURL": "https://plot.ly"
       },
       "data": [
        {
         "fill": "tozeroy",
         "fillcolor": "rgba(229, 165, 0, 0.1)",
         "line": {
          "color": "#E57C1F",
          "width": 1.5
         },
         "mode": "lines",
         "name": "Original",
         "type": "scatter",
         "x": {
          "bdata": "AAABAAIAAwAEAAUABgAHAAgACQAKAAsADAANAA4ADwAQABEAEgATABQAFQAWABcAGAAZABoAGwAcAB0AHgAfACAAIQAiACMAJAAlACYAJwAoACkAKgArACwALQAuAC8AMAAxADIAMwA0ADUANgA3ADgAOQA6ADsAPAA9AD4APwBAAEEAQgBDAEQARQBGAEcASABJAEoASwBMAE0ATgBPAFAAUQBSAFMAVABVAFYAVwBYAFkAWgBbAFwAXQBeAF8AYABhAGIAYwBkAGUAZgBnAGgAaQBqAGsAbABtAG4AbwBwAHEAcgBzAHQAdQB2AHcAeAB5AHoAewB8AH0AfgB/AIAAgQCCAIMAhACFAIYAhwCIAIkAigCLAIwAjQCOAI8AkACRAJIAkwCUAJUAlgCXAJgAmQCaAJsAnACdAJ4AnwCgAKEAogCjAKQApQCmAKcAqACpAKoAqwCsAK0ArgCvALAAsQCyALMAtAC1ALYAtwC4ALkAugA=",
          "dtype": "i2"
         },
         "xaxis": "x",
         "y": {
          "bdata": "hetRuO4s9EB7FK5HHTD0QEjhehSWSPRAXI/C9YBA9EAAAAAAFEf0QFK4HoU/Q/RACtejcM1f9EC4HoXrIWD0QPYoXI/+iPRAuB6F6+GX9ECF61G4Zo30QB+F61EcffRA9ihcj8Jp9ECuR+F6kG30QK5H4XpYjvRASOF6FIrS9EAAAAAAQMj0QArXo3AVyPRAj8L1KPjH9EAK16Nwsb30QAAAAADYz/RAKVyPwgXO9EApXI/Cxcb0QMP1KFxvy/RAFK5H4Wq+9EAK16NwXcr0QAAAAABEr/RA7FG4HrGk9EB7FK5HDaj0QI/C9SjciPRAw/UoXE+K9EAzMzMzt5z0QJqZmZkVrPRAH4XrUeDB9ECPwvUozLf0QOxRuB5NpfRA4XoUrq/D9EBI4XoUdtD0QJqZmZlF9/RA16NwPZ4v9UB7FK5HSUH1QNejcD36JfVA4XoUrvsQ9UBSuB6F2zj1QB+F61HM6PRASOF6FPa29EDhehSunzb0QHsUrkepI/RArkfhemBQ9EBmZmZmznL0QBSuR+HWcvRA9ihcj2ph9EAK16NwVWb0QGZmZmaeWPRAPQrXo7BG9EBxPQrXA2D0QHsUrkd1bvRACtejcBVh9ECuR+F6aFH0QArXo3DxR/RA7FG4HnEA9ED2KFyPihn0QHE9CtcX5fNAexSuR4UF9EBxPQrX8/fzQM3MzMxE+PNA4XoUrn8I9EBI4XoUcgH0QFK4HoXfGPRAmpmZmRkw9EBxPQrX2zD0QM3MzMxsTfRAPQrXozxE9EApXI/CqS70QKRwPQrXO/RAw/UoXHM29EDhehSubzD0QFK4HoUnTvRAw/UoXCtF9ECamZmZ6YD0QB+F61GEm/RA4XoUrhOm9EDNzMzM5Cf0QJqZmZl5LvRAj8L1KJA59EBcj8L1mFf0QJqZmZk9JvRA4XoUroM49EDNzMzMYFn0QLgehevZnPRAZmZmZsZ+9EC4HoXrhYD0QAAAAAAYivRA4XoUrquL9EDNzMzM8IP0QMP1KFxDefRAw/UoXP9y9EB7FK5HCX/0QClcj8JdfvRAPQrXo2Bp9EBSuB6Fp2z0QDMzMzMXbfRAj8L1KGhf9ECuR+F6NGL0QEjhehRGYvRAH4XrUdx19EAAAAAAUGr0QI/C9Si4XvRAj8L1KFRT9ECkcD0KgzL0QHE9CtfHPPRAcT0K17Mp9EAUrkfhwjH0QDMzMzPPOfRAUrgehYNE9EC4HoXrzTj0QMP1KFyDRvRAmpmZmc089EDD9Shcl030QLgehev1YvRAXI/C9XBi9EBSuB6FC130QJqZmZmZVPRA9ihcjyZX9EAzMzMzB2H0QD0K16PwXfRACtejcIFJ9EB7FK5HYUP0QKRwPQrzQvRAAAAAAFxF9ECF61G4cjj0QPYoXI9KN/RAH4XrUfQt9EAzMzMz9xX0QHsUrkdFLPRAFa5H4b4l9EAAAAAA2AH0QOF6FK6DuPNASOF6FK5L80BxPQrXy23zQFK4HoUHPvNAAAAAAHhD80DsUbgesQnzQOtRuB7ZIfNAW4/C9Rwc80DXo3A9pk/zQJqZmZlhI/NAAAAAAMz18kDNzMzMpMfyQI/C9SjgxPJASOF6FB4+8kCamZmZHVLyQB+F61HYmvJA9ihcj4ac8kBxPQrXK8nyQFyPwvUYtvJAj8L1KNTd8kCF61G4Sh7zQFyPwvWkSfNAw/UoXJMm80Bcj8L1uOTyQJqZmZl5S/NA61G4Hlkn80DXo3A9ChDzQLgehetJRPNAZmZmZt5V80D2KFyPFoTzQFyPwvVwUvNAuB6F611J80B7FK5HIazzQJqZmZn1gvNAhetRuPqA80AzMzMzh5nzQArXo3B5fvNAPQrXo4Bk80DD9Shcl2bzQArXo3AVUvNAPQrXo1BC80AK16NwaUjzQJqZmZk9hfNA7FG4HhF880BSuB6F03/zQOF6FK7fJvNAw/UoXFMo80AAAAAA/OLyQI/C9SiQv/JApHA9CjvW8kA=",
          "dtype": "f8"
         },
         "yaxis": "y"
        },
        {
         "line": {
          "color": "#E57C1F",
          "width": 1.5
         },
         "mode": "lines",
         "name": "Tendência",
         "type": "scatter",
         "x": {
          "bdata": "AAABAAIAAwAEAAUABgAHAAgACQAKAAsADAANAA4ADwAQABEAEgATABQAFQAWABcAGAAZABoAGwAcAB0AHgAfACAAIQAiACMAJAAlACYAJwAoACkAKgArACwALQAuAC8AMAAxADIAMwA0ADUANgA3ADgAOQA6ADsAPAA9AD4APwBAAEEAQgBDAEQARQBGAEcASABJAEoASwBMAE0ATgBPAFAAUQBSAFMAVABVAFYAVwBYAFkAWgBbAFwAXQBeAF8AYABhAGIAYwBkAGUAZgBnAGgAaQBqAGsAbABtAG4AbwBwAHEAcgBzAHQAdQB2AHcAeAB5AHoAewB8AH0AfgB/AIAAgQCCAIMAhACFAIYAhwCIAIkAigCLAIwAjQCOAI8AkACRAJIAkwCUAJUAlgCXAJgAmQCaAJsAnACdAJ4AnwCgAKEAogCjAKQApQCmAKcAqACpAKoAqwCsAK0ArgCvALAAsQCyALMAtAC1ALYAtwC4ALkAugA=",
          "dtype": "i2"
         },
         "xaxis": "x2",
         "y": {
          "bdata": "FUjgy9Tb9ECjI7kFotn0QMIowUZv1/RAL1AhjzzV9EC2S/neCdP0QCgrYDbX0PRAKAVllaTO9ECIow/8ccz0QCU1YWo/yvRAywZV4AzI9EDXQ+Fd2sX0QLbA9+Knw/RAT8+Gb3XB9EASoH8DQ7/0QJQr7Z4QvfRA5x31Qd669ECO8MPsq7j0QPCwiJ95tvRAqRZ2Wke09EAAt8MdFbL0QDFcr+nir/RA9Yl+vrCt9EB39Yacfqv0QBiQUIRMqfRAguaedhqn9EAieyN06KT0QBSsUX22ovRAR1apkoSg9EABLfq0Up70QH94cOUgnPRAaT2OJe+Z9ECnFFd2vZf0QIViO9iLlfRAynugTFqT9EB9033VKJH0QFbiQ3X3jvRAoHU0L8aM9EBhPREHlYr0QElJywBkiPRAWk7WIDOG9ECiLXxsAoT0QH+p+OjRgfRAP5/KmqF/9EAXhISEcX30QMEYUKFBe/RA1HSk5BF59EAD5Ww74nb0QLf2xIq2dPRATBC92o1y9EDGuBqaaHD0QNbb/PxGbvRA2P6rAyls9EDtrUmFDmr0QBXaGjz3Z/RApUlh0eJl9ECVGlzn0GP0QBmkxSDBYfRAVUXBJbNf9EC/qo2mpl30QCqw8VybW/RAgQQfDpFZ9ECjSRKKh1f0QCvJrKd+VfRACPNzQ3ZT9EDuxydAblH0QJ+byYVmT/RAdCpbAF9N9EA8ctaeV0v0QNtwpFJQSfRACTqPEElH9EBee6zRQUX0QLfJIJI6Q/RAG2vyZjNB9EBvTVLiLD/0QO/UUikoPfRAKzJaUCY79EDiZDgzKDn0QK9krnkuN/RAxzawATo19EAfHFGcSzP0QIsnbNVjMfRATBb7KIIv9EA3OdkzpS30QAU4oDfLK/RAL+V6aPIp9ECfJuuGGSj0QMXvP6U/JvRAyf0rX2Ik9ECWXe6sfiL0QDfi9/6SIPRAIIulF54e9EDkYvPBnRz0QOSA3SyQGvRAjrrh/HUY9EAfMJc0URb0QHHHKu8iFPRAsmDTl+sR9ECeFBF6qw/0QLIZrQtjDfRALdSO/hIL9EBLXMwuvAj0QKH/xIBfBvRAtNqUwv0D9EBabemilwH0QL4488wt//NAto6/NsH880CQcS+vU/rzQP7uZGXo9/NAgmcq94L180BywUVJJvPzQDAmgePU8PNAni78DpHu80D+lmmmXOzzQFrgxtI46vNAGz5esyXo80AllOD3IebzQE5Fd34q5PNAw+DQFzri80Ceu316SeDzQKRG0OVO3vNAkXROKj7c80Cg+79FC9rzQN4/Pmmt1/NAn5yM5iHV80DtMCu1bNLzQBE1EPKPz/NApP63nofM80AE84Y6TMnzQC86jwrXxfNAyNX1qyPC80AHo+noML7zQO+pkzABuvNAaIWIWJq180D0pzsiBbHzQGeXJXdMrPNAhN1CYXyn80DV6QZPoKLzQGZYAf2+nfNAarbSatqY80Dbwwzy8pPzQCvGf8AIj/NA4kLFPBeK80AebOFZIoXzQIJS08MqgPNAZ3lxGzF780CseGbnNXbzQDaXgY85cfNA2BazXzxs80Du6cKNPmfzQJB9/j5AYvNAJhHhjEFd80Db+JWIQljzQLargT1DU/NA2RoNs0NO80D4h+ftQ0nzQPn95vBDRPNA5YakvUM/80A6XOpUQzrzQIrwBLdCNfNAuaL040Ew80CN5InbQCvzQNPne50/JvNAoNp4KT4h80AMYjB/PBzzQH0MWp46F/NAQvi4hjgS80CkwzE4Ng3zQF0qJrMzCPNAWzKQ+DAD80AEem4JLv7yQMlsn+Yq+fJAy/glkSf08kBNg5kKJO/yQF9JBVUg6vJAO176chzl8kDoCedmGODyQLikHTMU2/JAK82I2g/W8kBieRpgC9HyQPuKvsYGzPJAjr68EQLH8kD4POpD/cHyQHAVNF/4vPJADpVbZfO38kAQIJlY7rLyQADO3zrprfJAlNbhDeSo8kA=",
          "dtype": "f8"
         },
         "yaxis": "y2"
        },
        {
         "line": {
          "color": "#E57C1F",
          "width": 1.5
         },
         "mode": "lines",
         "name": "Sazonalidade",
         "type": "scatter",
         "x": {
          "bdata": "AAABAAIAAwAEAAUABgAHAAgACQAKAAsADAANAA4ADwAQABEAEgATABQAFQAWABcAGAAZABoAGwAcAB0AHgAfACAAIQAiACMAJAAlACYAJwAoACkAKgArACwALQAuAC8AMAAxADIAMwA0ADUANgA3ADgAOQA6ADsAPAA9AD4APwBAAEEAQgBDAEQARQBGAEcASABJAEoASwBMAE0ATgBPAFAAUQBSAFMAVABVAFYAVwBYAFkAWgBbAFwAXQBeAF8AYABhAGIAYwBkAGUAZgBnAGgAaQBqAGsAbABtAG4AbwBwAHEAcgBzAHQAdQB2AHcAeAB5AHoAewB8AH0AfgB/AIAAgQCCAIMAhACFAIYAhwCIAIkAigCLAIwAjQCOAI8AkACRAJIAkwCUAJUAlgCXAJgAmQCaAJsAnACdAJ4AnwCgAKEAogCjAKQApQCmAKcAqACpAKoAqwCsAK0ArgCvALAAsQCyALMAtAC1ALYAtwC4ALkAugA=",
          "dtype": "i2"
         },
         "xaxis": "x3",
         "y": {
          "bdata": "vG+LkjbjpcCVPjP9wTalwFxkXbwG4aHA0Wap9gmdosDjeskjCYShwOL5jwz6t6HA5t+/iz6/m8ArpLlr5xybwAAZLluIWJDADl0oFfskiMA15jXYMUiMwOzWi3uDqZHA6124nh2/lcCXmHzrOz+UwF/+lGH1ZYfAfsuXM0Oad0DxE349cAlvQLdMY6mmjnFAz7iT0tClc0DSM31e+yZnQLfKj/Fk7n9ACmYKYmuvgECFaAurtdF8QBmkj4TAVIBANmcXU89ldEAzSz1UfNSCQJzxHgD3cGxAEdQd63ohVEBi1tCKZNxmQNFqbA6LaHfA71Knwip4dMDE9SUq51NoQKV1RIT8nHZAEuaVReFMh0C/lcRM5BqEQIL/zMQC53VApz5lGHjOikBM/Vdo9X6RQE84KBDQHJxAmeG8lJchpUAXVqgUNqunQD0jXeCG4qRA9b+D5RaRoUDR1Hx2HdCnQF+SnISWa5tA8LPU0kIEj0DRZqT5bgeQwL5RP61dOpTAfJ1BVoehosAxVQ17YaefwNlbNqIPe57A5CDlQ95rocDv9BHRkGeiwCrHSdttcqLAycw+gE1KpcA62cudjAmkwPTMhjlGa5rAUtoLG1kDl8DmM/6mPUGUwFDT24NTxpfAZobdeYiflsCa1YltQayPwOhJQZ0IAnnAwOPgqnbPZ0A/DycYmIdrwMNSyewghHdAk4Tlgu0TbUDy3DDRwntIQLKT6LMO3IFAqw8x3OHNh0BXcN0J0dWPQLxpf3aDh4ZAC9IGw95SgUDEMYgpKMuUQDk601YvQY5AMyulG8YqikB7YIOuX2qRQGEVVwSZU35Akb8SgaHYeECCAMASEMyOQEwtzRhYHYtAKQNyDiiokEB0RbeBDMiRQGggYH/sfpJA8Uq0se+XlkCHRL/RB1ybQOaDceMxuJxALE1PsAR/okC+pU5UcrOhQEU4sjU0s51ANkYYipU6mkBW2j9qilmTQAnz02KHKGtArPO3sv0vVMAeXfV5nKGXwAsSr7CzFpbA+XE3dOyynsC5/nAGFNSUwB4eGL1/JpnAUQIGH7YzoMD87+vX6EOjwI0WBBx/JaPASDc6q2atrMDviMV43nyqwJ7tBqcJN6LARYmRY/HxoMClcNVGsU2awN9i/28V0p3AMuft8VuSl8A5qAQqIf2GwC6ckxuhfkfAtBBC+VWyH0C3GjYHw2CFwA0Dyz6JxX1AKfLxgTp2Y0DdSdjLMJpUwI6DK+Zh6INACVKGAQrDjUC2I9SzLuGXQFtaa/i7IY1AMJthtpUmiUBraF/oZRSgQG7ZMcHZ0JlAKazvZ895mECtQ9hFIx2fQIyYH/s1zJVAxmna32lskkAY116nuDWaQJJiFc5oipVAo2DuaQ2/lUBirIaCTLOYQK8dKOQV3Z9A7DVSSJVUoEAN6xEBFqeiQPw5C29mn5xAIgBWg0EGoEDofitgaJKXQIDOKzMtPZFAalW803YzkkCb+Cp5BTuCwDChWtACjZTAa8zaFM3zkcAbrzS6lCefwI67Hgf03pfAMTtdvtQOmMCYZ1Vy49mDwF3oQ/Y7vpPAZuICOonjncDTnbwciBakwPlHhCvozqPAyHk2DHQDssCF/bNrVHOwwIvmKK74LqfAZyTqT85YpsC3DAmruSOgwMMb9Hah5aHA79gUBdWNmMBe+q9vZr18wFtbgZ92a3NAbosm6ttCZcCQvX1Ptt2RwDWRPWCGJ4JAjW/p62/QVECwgzoHbClqwLmncEuqGIZAGgk3IROTkUB6/h9b+/yeQMqCkSk1PZJAupvqbBkgkUCeojZPWbylQOgp391U46FANXBQVVnXoUA9BaFicv6lQE6elFjPUaJAZ41s9nlcn0BhrUC4r7GhQFa0J4all51AVlvoqbXnmkCXsA/xPAefQJoKwvmu0qZAjKgzFzLUpUBflQr+6qinQFlosqCeu5tA9z2gd2V+m0CGl0Fg7q6HQChDJ6V65nFA0YoM5iPPhUA=",
          "dtype": "f8"
         },
         "yaxis": "y3"
        },
        {
         "line": {
          "color": "#E57C1F",
          "width": 1.2
         },
         "mode": "lines",
         "name": "Resíduo",
         "type": "scatter",
         "x": {
          "bdata": "AAABAAIAAwAEAAUABgAHAAgACQAKAAsADAANAA4ADwAQABEAEgATABQAFQAWABcAGAAZABoAGwAcAB0AHgAfACAAIQAiACMAJAAlACYAJwAoACkAKgArACwALQAuAC8AMAAxADIAMwA0ADUANgA3ADgAOQA6ADsAPAA9AD4APwBAAEEAQgBDAEQARQBGAEcASABJAEoASwBMAE0ATgBPAFAAUQBSAFMAVABVAFYAVwBYAFkAWgBbAFwAXQBeAF8AYABhAGIAYwBkAGUAZgBnAGgAaQBqAGsAbABtAG4AbwBwAHEAcgBzAHQAdQB2AHcAeAB5AHoAewB8AH0AfgB/AIAAgQCCAIMAhACFAIYAhwCIAIkAigCLAIwAjQCOAI8AkACRAJIAkwCUAJUAlgCXAJgAmQCaAJsAnACdAJ4AnwCgAKEAogCjAKQApQCmAKcAqACpAKoAqwCsAK0ArgCvALAAsQCyALMAtAC1ALYAtwC4ALkAugA=",
          "dtype": "i2"
         },
         "xaxis": "x4",
         "y": {
          "bdata": "AAB3/4LQCUAAgGZF76gIQACA1FHOgQdAAAAyRStbBkAAgBCAEjUFQACAfIaRDwRAAACx6LbqAkAAgOAwksYBQACAGtYzowBAAACnaFoB/z8AAHoTIb78PwAAxfPhfPo/ACCc+DXNJsAAQMAMHrMmwAAAF0a3xvM/AACWK1KP8T8AANCgOrbuPwAAmoXjVOo/AABaMFr75T8AAODCYarhPwAAEFB8xdo/AIApNCudMMAAcEsq+qg4wAAwZvRslTdAAFiBrdpUR0AAAFcPFP4JwADQuBuNrzrAAAB6eVV6K8AAEA8Y+Tk7wADs2U46j1BAALR+dYVhU0AAvNHj2sBcwAAAYQ0mO/O/AAB3IkC9878AkKEZUic5wACApeirqRtAAECs8+rINEAAAA68N8j6vwAACSV3GjnAAACcG/2XF0AAANhbc9XyvwAQdlcUX0fAAIj2dnBFU0AAYJPNWLdIwACA9YK71AHAAAB6nucqAsAAgEPsuGgCwACAevIw5gHAgBORtba3nECgXvxGaiCgQEDr6rQIn59AoGTquQ8UoECAGFc8bvChQEBRuyRTh6BAwN/2zgdkoUDANJCT6o+jQIDlovNPmJ1AgEew0+tbl0DAb+W7sjGRQECLZXDY25JAAFA4DCjjNUAA4C9Pgrg1QACcUgEy2ZXAwL/Txi12lsBAvV1Ep+2SwEAJZnp2qZvAQJUIQlLalMAAxG2tQD2TwABsYrs6CpXAgKOAq86ykcCAM34tZwSVwIDefSBmboHAAIJuoYCcf8BAg0Qa8OuYwIBfheG+6Y7AAF9DNECEjMDA4H33gJiTwADIDVA2al3AAIinEI7OYcAAev0i3QVwQICc4Sbm8olAAETOb3L4iUAAYNJEJjiTwEC7BwFU05HAAPP8kn+wksCAKso3WPiOwMAOB820uJzAQFR/prX1n8DAfQGxXK6VwACAztlu6FVAAKYLzw6EYcAAa7zo/4F2QIBIRdzjfJhAAJTbJ2wQnkBARK5DwYSpQEBTHXhnr6dAIFvOxO57q0AAe9i2w1WoQOBd1LqWsqpAYMQMyGr9q0DgcDeiU8GvQMCIyml1/K9AUJmru1kNtECwaeC7PEizQOD++5cSmq5AMCuIZKoKsEBghny9YiarQIAjGioDw6tAQFViMlSDp0CAIO7SwFWbQEBtIuuxuJNAgOUUW/9RjUDA0iA78AmcQADrw5Zr6IhAgE/gH62olEBAKeD1n/SVQAC3rPIMRI1AADOsxW0Nf0AALNO3TZJrQMBXAHHjmJJAQOXVAWj5lEAAeAvegOhCQABWklbJqHVAANPml7UOgEAAN6Hw8CVyQABlK+3sl4tAgF83NhWkiUAAG6aJKj5xQIB18DoueYNAgFo4MQ8ehkAAzC1enXR3QACAC0HGV0HAAPAjv2GVZMCADIKITyOIwABYoJht9mpAAAD3XcH4PsAA4AUN78EtQIBfxtwBGIXAAM/YNEa/osAAkAcDARE7wADAygX+LDNAAACF4nj/MkAAoIj7e9EyQABwpRewojJAABCuqNRyMkAAoF/tzkEyQABQIBGfDzJAACBLT1PcMUAA4Hz8/qcxQADwcza1cjFAAOB704U8MUAAcAnuewUxQADQCbKdzTBAAAD05eyUMEAA8N2vZ1swQAAQJDMJITBAAMDhsez3KEAAoOjnOpkoQADgrsMD2S5AAADKLMVcLkAAoDjUbt4tQACg1KbrXS1AAOCdjyjbLEAAoOF7iE4sQACAHYYSvytAAABwu2YzRcAAoGoIWU5UwABA72HfhjRAAOAeFNTIOkAAAGLlxXPwPwD4MdPPP1XAAIAM6Td6PsAAEGHtqUFWwACQi54NqjxAAMCcL5AkP0AAQGYAIjpcwAAgcLLtVCRAAKB001Q+JEAAaITrjPtSwABQ8mfYCkVAAGjYB/G1WUAA4NWEKN0hQADAkImuHFTAAOj9dgczQ0AAIJjLVPklQAAAWplHxg/AAKAP+EiLO0A=",
          "dtype": "f8"
         },
         "yaxis": "y4"
        }
       ],
       "layout": {
        "annotations": [
         {
          "font": {
           "size": 16
          },
          "showarrow": false,
          "text": "Série Original",
          "x": 0.5,
          "xanchor": "center",
          "xref": "paper",
          "y": 1,
          "yanchor": "bottom",
          "yref": "paper"
         },
         {
          "font": {
           "size": 16
          },
          "showarrow": false,
          "text": "Tendência",
          "x": 0.5,
          "xanchor": "center",
          "xref": "paper",
          "y": 0.7350000000000001,
          "yanchor": "bottom",
          "yref": "paper"
         },
         {
          "font": {
           "size": 16
          },
          "showarrow": false,
          "text": "Sazonalidade",
          "x": 0.5,
          "xanchor": "center",
          "xref": "paper",
          "y": 0.47000000000000003,
          "yanchor": "bottom",
          "yref": "paper"
         },
         {
          "font": {
           "size": 16
          },
          "showarrow": false,
          "text": "Resíduo",
          "x": 0.5,
          "xanchor": "center",
          "xref": "paper",
          "y": 0.20500000000000002,
          "yanchor": "bottom",
          "yref": "paper"
         }
        ],
        "height": 900,
        "showlegend": false,
        "template": {
         "data": {
          "bar": [
           {
            "error_x": {
             "color": "#f2f5fa"
            },
            "error_y": {
             "color": "#f2f5fa"
            },
            "marker": {
             "line": {
              "color": "rgb(17,17,17)",
              "width": 0.5
             },
             "pattern": {
              "fillmode": "overlay",
              "size": 10,
              "solidity": 0.2
             }
            },
            "type": "bar"
           }
          ],
          "barpolar": [
           {
            "marker": {
             "line": {
              "color": "rgb(17,17,17)",
              "width": 0.5
             },
             "pattern": {
              "fillmode": "overlay",
              "size": 10,
              "solidity": 0.2
             }
            },
            "type": "barpolar"
           }
          ],
          "carpet": [
           {
            "aaxis": {
             "endlinecolor": "#A2B1C6",
             "gridcolor": "#506784",
             "linecolor": "#506784",
             "minorgridcolor": "#506784",
             "startlinecolor": "#A2B1C6"
            },
            "baxis": {
             "endlinecolor": "#A2B1C6",
             "gridcolor": "#506784",
             "linecolor": "#506784",
             "minorgridcolor": "#506784",
             "startlinecolor": "#A2B1C6"
            },
            "type": "carpet"
           }
          ],
          "choropleth": [
           {
            "colorbar": {
             "outlinewidth": 0,
             "ticks": ""
            },
            "type": "choropleth"
           }
          ],
          "contour": [
           {
            "colorbar": {
             "outlinewidth": 0,
             "ticks": ""
            },
            "colorscale": [
             [
              0,
              "#0d0887"
             ],
             [
              0.1111111111111111,
              "#46039f"
             ],
             [
              0.2222222222222222,
              "#7201a8"
             ],
             [
              0.3333333333333333,
              "#9c179e"
             ],
             [
              0.4444444444444444,
              "#bd3786"
             ],
             [
              0.5555555555555556,
              "#d8576b"
             ],
             [
              0.6666666666666666,
              "#ed7953"
             ],
             [
              0.7777777777777778,
              "#fb9f3a"
             ],
             [
              0.8888888888888888,
              "#fdca26"
             ],
             [
              1,
              "#f0f921"
             ]
            ],
            "type": "contour"
           }
          ],
          "contourcarpet": [
           {
            "colorbar": {
             "outlinewidth": 0,
             "ticks": ""
            },
            "type": "contourcarpet"
           }
          ],
          "heatmap": [
           {
            "colorbar": {
             "outlinewidth": 0,
             "ticks": ""
            },
            "colorscale": [
             [
              0,
              "#0d0887"
             ],
             [
              0.1111111111111111,
              "#46039f"
             ],
             [
              0.2222222222222222,
              "#7201a8"
             ],
             [
              0.3333333333333333,
              "#9c179e"
             ],
             [
              0.4444444444444444,
              "#bd3786"
             ],
             [
              0.5555555555555556,
              "#d8576b"
             ],
             [
              0.6666666666666666,
              "#ed7953"
             ],
             [
              0.7777777777777778,
              "#fb9f3a"
             ],
             [
              0.8888888888888888,
              "#fdca26"
             ],
             [
              1,
              "#f0f921"
             ]
            ],
            "type": "heatmap"
           }
          ],
          "histogram": [
           {
            "marker": {
             "pattern": {
              "fillmode": "overlay",
              "size": 10,
              "solidity": 0.2
             }
            },
            "type": "histogram"
           }
          ],
          "histogram2d": [
           {
            "colorbar": {
             "outlinewidth": 0,
             "ticks": ""
            },
            "colorscale": [
             [
              0,
              "#0d0887"
             ],
             [
              0.1111111111111111,
              "#46039f"
             ],
             [
              0.2222222222222222,
              "#7201a8"
             ],
             [
              0.3333333333333333,
              "#9c179e"
             ],
             [
              0.4444444444444444,
              "#bd3786"
             ],
             [
              0.5555555555555556,
              "#d8576b"
             ],
             [
              0.6666666666666666,
              "#ed7953"
             ],
             [
              0.7777777777777778,
              "#fb9f3a"
             ],
             [
              0.8888888888888888,
              "#fdca26"
             ],
             [
              1,
              "#f0f921"
             ]
            ],
            "type": "histogram2d"
           }
          ],
          "histogram2dcontour": [
           {
            "colorbar": {
             "outlinewidth": 0,
             "ticks": ""
            },
            "colorscale": [
             [
              0,
              "#0d0887"
             ],
             [
              0.1111111111111111,
              "#46039f"
             ],
             [
              0.2222222222222222,
              "#7201a8"
             ],
             [
              0.3333333333333333,
              "#9c179e"
             ],
             [
              0.4444444444444444,
              "#bd3786"
             ],
             [
              0.5555555555555556,
              "#d8576b"
             ],
             [
              0.6666666666666666,
              "#ed7953"
             ],
             [
              0.7777777777777778,
              "#fb9f3a"
             ],
             [
              0.8888888888888888,
              "#fdca26"
             ],
             [
              1,
              "#f0f921"
             ]
            ],
            "type": "histogram2dcontour"
           }
          ],
          "mesh3d": [
           {
            "colorbar": {
             "outlinewidth": 0,
             "ticks": ""
            },
            "type": "mesh3d"
           }
          ],
          "parcoords": [
           {
            "line": {
             "colorbar": {
              "outlinewidth": 0,
              "ticks": ""
             }
            },
            "type": "parcoords"
           }
          ],
          "pie": [
           {
            "automargin": true,
            "type": "pie"
           }
          ],
          "scatter": [
           {
            "marker": {
             "line": {
              "color": "#283442"
             }
            },
            "type": "scatter"
           }
          ],
          "scatter3d": [
           {
            "line": {
             "colorbar": {
              "outlinewidth": 0,
              "ticks": ""
             }
            },
            "marker": {
             "colorbar": {
              "outlinewidth": 0,
              "ticks": ""
             }
            },
            "type": "scatter3d"
           }
          ],
          "scattercarpet": [
           {
            "marker": {
             "colorbar": {
              "outlinewidth": 0,
              "ticks": ""
             }
            },
            "type": "scattercarpet"
           }
          ],
          "scattergeo": [
           {
            "marker": {
             "colorbar": {
              "outlinewidth": 0,
              "ticks": ""
             }
            },
            "type": "scattergeo"
           }
          ],
          "scattergl": [
           {
            "marker": {
             "line": {
              "color": "#283442"
             }
            },
            "type": "scattergl"
           }
          ],
          "scattermap": [
           {
            "marker": {
             "colorbar": {
              "outlinewidth": 0,
              "ticks": ""
             }
            },
            "type": "scattermap"
           }
          ],
          "scattermapbox": [
           {
            "marker": {
             "colorbar": {
              "outlinewidth": 0,
              "ticks": ""
             }
            },
            "type": "scattermapbox"
           }
          ],
          "scatterpolar": [
           {
            "marker": {
             "colorbar": {
              "outlinewidth": 0,
              "ticks": ""
             }
            },
            "type": "scatterpolar"
           }
          ],
          "scatterpolargl": [
           {
            "marker": {
             "colorbar": {
              "outlinewidth": 0,
              "ticks": ""
             }
            },
            "type": "scatterpolargl"
           }
          ],
          "scatterternary": [
           {
            "marker": {
             "colorbar": {
              "outlinewidth": 0,
              "ticks": ""
             }
            },
            "type": "scatterternary"
           }
          ],
          "surface": [
           {
            "colorbar": {
             "outlinewidth": 0,
             "ticks": ""
            },
            "colorscale": [
             [
              0,
              "#0d0887"
             ],
             [
              0.1111111111111111,
              "#46039f"
             ],
             [
              0.2222222222222222,
              "#7201a8"
             ],
             [
              0.3333333333333333,
              "#9c179e"
             ],
             [
              0.4444444444444444,
              "#bd3786"
             ],
             [
              0.5555555555555556,
              "#d8576b"
             ],
             [
              0.6666666666666666,
              "#ed7953"
             ],
             [
              0.7777777777777778,
              "#fb9f3a"
             ],
             [
              0.8888888888888888,
              "#fdca26"
             ],
             [
              1,
              "#f0f921"
             ]
            ],
            "type": "surface"
           }
          ],
          "table": [
           {
            "cells": {
             "fill": {
              "color": "#506784"
             },
             "line": {
              "color": "rgb(17,17,17)"
             }
            },
            "header": {
             "fill": {
              "color": "#2a3f5f"
             },
             "line": {
              "color": "rgb(17,17,17)"
             }
            },
            "type": "table"
           }
          ]
         },
         "layout": {
          "annotationdefaults": {
           "arrowcolor": "#f2f5fa",
           "arrowhead": 0,
           "arrowwidth": 1
          },
          "autotypenumbers": "strict",
          "coloraxis": {
           "colorbar": {
            "outlinewidth": 0,
            "ticks": ""
           }
          },
          "colorscale": {
           "diverging": [
            [
             0,
             "#8e0152"
            ],
            [
             0.1,
             "#c51b7d"
            ],
            [
             0.2,
             "#de77ae"
            ],
            [
             0.3,
             "#f1b6da"
            ],
            [
             0.4,
             "#fde0ef"
            ],
            [
             0.5,
             "#f7f7f7"
            ],
            [
             0.6,
             "#e6f5d0"
            ],
            [
             0.7,
             "#b8e186"
            ],
            [
             0.8,
             "#7fbc41"
            ],
            [
             0.9,
             "#4d9221"
            ],
            [
             1,
             "#276419"
            ]
           ],
           "sequential": [
            [
             0,
             "#0d0887"
            ],
            [
             0.1111111111111111,
             "#46039f"
            ],
            [
             0.2222222222222222,
             "#7201a8"
            ],
            [
             0.3333333333333333,
             "#9c179e"
            ],
            [
             0.4444444444444444,
             "#bd3786"
            ],
            [
             0.5555555555555556,
             "#d8576b"
            ],
            [
             0.6666666666666666,
             "#ed7953"
            ],
            [
             0.7777777777777778,
             "#fb9f3a"
            ],
            [
             0.8888888888888888,
             "#fdca26"
            ],
            [
             1,
             "#f0f921"
            ]
           ],
           "sequentialminus": [
            [
             0,
             "#0d0887"
            ],
            [
             0.1111111111111111,
             "#46039f"
            ],
            [
             0.2222222222222222,
             "#7201a8"
            ],
            [
             0.3333333333333333,
             "#9c179e"
            ],
            [
             0.4444444444444444,
             "#bd3786"
            ],
            [
             0.5555555555555556,
             "#d8576b"
            ],
            [
             0.6666666666666666,
             "#ed7953"
            ],
            [
             0.7777777777777778,
             "#fb9f3a"
            ],
            [
             0.8888888888888888,
             "#fdca26"
            ],
            [
             1,
             "#f0f921"
            ]
           ]
          },
          "colorway": [
           "#636efa",
           "#EF553B",
           "#00cc96",
           "#ab63fa",
           "#FFA15A",
           "#19d3f3",
           "#FF6692",
           "#B6E880",
           "#FF97FF",
           "#FECB52"
          ],
          "font": {
           "color": "#f2f5fa"
          },
          "geo": {
           "bgcolor": "rgb(17,17,17)",
           "lakecolor": "rgb(17,17,17)",
           "landcolor": "rgb(17,17,17)",
           "showlakes": true,
           "showland": true,
           "subunitcolor": "#506784"
          },
          "hoverlabel": {
           "align": "left"
          },
          "hovermode": "closest",
          "mapbox": {
           "style": "dark"
          },
          "paper_bgcolor": "rgb(17,17,17)",
          "plot_bgcolor": "rgb(17,17,17)",
          "polar": {
           "angularaxis": {
            "gridcolor": "#506784",
            "linecolor": "#506784",
            "ticks": ""
           },
           "bgcolor": "rgb(17,17,17)",
           "radialaxis": {
            "gridcolor": "#506784",
            "linecolor": "#506784",
            "ticks": ""
           }
          },
          "scene": {
           "xaxis": {
            "backgroundcolor": "rgb(17,17,17)",
            "gridcolor": "#506784",
            "gridwidth": 2,
            "linecolor": "#506784",
            "showbackground": true,
            "ticks": "",
            "zerolinecolor": "#C8D4E3"
           },
           "yaxis": {
            "backgroundcolor": "rgb(17,17,17)",
            "gridcolor": "#506784",
            "gridwidth": 2,
            "linecolor": "#506784",
            "showbackground": true,
            "ticks": "",
            "zerolinecolor": "#C8D4E3"
           },
           "zaxis": {
            "backgroundcolor": "rgb(17,17,17)",
            "gridcolor": "#506784",
            "gridwidth": 2,
            "linecolor": "#506784",
            "showbackground": true,
            "ticks": "",
            "zerolinecolor": "#C8D4E3"
           }
          },
          "shapedefaults": {
           "line": {
            "color": "#f2f5fa"
           }
          },
          "sliderdefaults": {
           "bgcolor": "#C8D4E3",
           "bordercolor": "rgb(17,17,17)",
           "borderwidth": 1,
           "tickwidth": 0
          },
          "ternary": {
           "aaxis": {
            "gridcolor": "#506784",
            "linecolor": "#506784",
            "ticks": ""
           },
           "baxis": {
            "gridcolor": "#506784",
            "linecolor": "#506784",
            "ticks": ""
           },
           "bgcolor": "rgb(17,17,17)",
           "caxis": {
            "gridcolor": "#506784",
            "linecolor": "#506784",
            "ticks": ""
           }
          },
          "title": {
           "x": 0.05
          },
          "updatemenudefaults": {
           "bgcolor": "#506784",
           "borderwidth": 0
          },
          "xaxis": {
           "automargin": true,
           "gridcolor": "#283442",
           "linecolor": "#506784",
           "ticks": "",
           "title": {
            "standoff": 15
           },
           "zerolinecolor": "#283442",
           "zerolinewidth": 2
          },
          "yaxis": {
           "automargin": true,
           "gridcolor": "#283442",
           "linecolor": "#506784",
           "ticks": "",
           "title": {
            "standoff": 15
           },
           "zerolinecolor": "#283442",
           "zerolinewidth": 2
          }
         }
        },
        "title": {
         "text": "<b><span style='font-size:22px;'>Decomposição STL do Preço do Bitcoin</span></b>",
         "x": 0.5,
         "xanchor": "center",
         "y": 0.97
        },
        "xaxis": {
         "anchor": "y",
         "domain": [
          0,
          1
         ],
         "matches": "x4",
         "showticklabels": false
        },
        "xaxis2": {
         "anchor": "y2",
         "domain": [
          0,
          1
         ],
         "matches": "x4",
         "showticklabels": false
        },
        "xaxis3": {
         "anchor": "y3",
         "domain": [
          0,
          1
         ],
         "matches": "x4",
         "showticklabels": false
        },
        "xaxis4": {
         "anchor": "y4",
         "domain": [
          0,
          1
         ],
         "title": {
          "text": "Data"
         }
        },
        "yaxis": {
         "anchor": "x",
         "domain": [
          0.7949999999999999,
          1
         ],
         "range": [
          73227.4424,
          88801.7916
         ],
         "title": {
          "text": "Preço BTC (USD)"
         }
        },
        "yaxis2": {
         "anchor": "x2",
         "domain": [
          0.53,
          0.7350000000000001
         ],
         "title": {
          "text": "Tendência"
         }
        },
        "yaxis3": {
         "anchor": "x3",
         "domain": [
          0.265,
          0.47000000000000003
         ],
         "title": {
          "text": "Sazonal"
         }
        },
        "yaxis4": {
         "anchor": "x4",
         "domain": [
          0,
          0.20500000000000002
         ],
         "title": {
          "text": "Resíduo"
         }
        }
       }
      }
     },
     "metadata": {},
     "output_type": "display_data"
    }
   ],
   "source": [
    "plot_stl_decomposition(\n",
    "    df_stl=df_stl_dec,\n",
    "    price_series=df_stl[\"btc_price_usd\"]\n",
    ")"
   ]
  },
  {
   "cell_type": "markdown",
   "metadata": {},
   "source": [
    "##### 🔶 ₿ -----> Extração de Features Estruturais (spikiness, curvature, linearity, etc.)"
   ]
  },
  {
   "cell_type": "code",
   "execution_count": 35,
   "metadata": {},
   "outputs": [
    {
     "data": {
      "application/vnd.microsoft.datawrangler.viewer.v0+json": {
       "columns": [
        {
         "name": "index",
         "rawType": "int64",
         "type": "integer"
        },
        {
         "name": "block_height",
         "rawType": "float64",
         "type": "float"
        },
        {
         "name": "block_timestamp",
         "rawType": "datetime64[ns]",
         "type": "datetime"
        },
        {
         "name": "seasonal_peak_month",
         "rawType": "int32",
         "type": "integer"
        },
        {
         "name": "seasonal_trough_month",
         "rawType": "int32",
         "type": "integer"
        },
        {
         "name": "stl_spikiness",
         "rawType": "float64",
         "type": "float"
        },
        {
         "name": "stl_trend_linearity",
         "rawType": "float64",
         "type": "float"
        },
        {
         "name": "stl_trend_curvature",
         "rawType": "float64",
         "type": "float"
        },
        {
         "name": "stl_e_acf1",
         "rawType": "float64",
         "type": "float"
        },
        {
         "name": "stl_e_acf10",
         "rawType": "float64",
         "type": "float"
        }
       ],
       "conversionMethod": "pd.DataFrame",
       "ref": "96c374bc-433d-4ef9-aa24-2ca7bace245f",
       "rows": [
        [
         "0",
         "891531.0",
         "2025-04-08 18:00:00",
         "1",
         "1",
         "101176749.12204762",
         "-78.35704941724197",
         "0.5470037278721883",
         "0.503834567650285",
         "0.4582190381197378"
        ]
       ],
       "shape": {
        "columns": 9,
        "rows": 1
       }
      },
      "text/html": [
       "<div>\n",
       "<style scoped>\n",
       "    .dataframe tbody tr th:only-of-type {\n",
       "        vertical-align: middle;\n",
       "    }\n",
       "\n",
       "    .dataframe tbody tr th {\n",
       "        vertical-align: top;\n",
       "    }\n",
       "\n",
       "    .dataframe thead th {\n",
       "        text-align: right;\n",
       "    }\n",
       "</style>\n",
       "<table border=\"1\" class=\"dataframe\">\n",
       "  <thead>\n",
       "    <tr style=\"text-align: right;\">\n",
       "      <th></th>\n",
       "      <th>block_height</th>\n",
       "      <th>block_timestamp</th>\n",
       "      <th>seasonal_peak_month</th>\n",
       "      <th>seasonal_trough_month</th>\n",
       "      <th>stl_spikiness</th>\n",
       "      <th>stl_trend_linearity</th>\n",
       "      <th>stl_trend_curvature</th>\n",
       "      <th>stl_e_acf1</th>\n",
       "      <th>stl_e_acf10</th>\n",
       "    </tr>\n",
       "  </thead>\n",
       "  <tbody>\n",
       "    <tr>\n",
       "      <th>0</th>\n",
       "      <td>891531.0</td>\n",
       "      <td>2025-04-08 18:00:00</td>\n",
       "      <td>1</td>\n",
       "      <td>1</td>\n",
       "      <td>1.011767e+08</td>\n",
       "      <td>-78.357049</td>\n",
       "      <td>0.547004</td>\n",
       "      <td>0.503835</td>\n",
       "      <td>0.458219</td>\n",
       "    </tr>\n",
       "  </tbody>\n",
       "</table>\n",
       "</div>"
      ],
      "text/plain": [
       "   block_height     block_timestamp  seasonal_peak_month  \\\n",
       "0      891531.0 2025-04-08 18:00:00                    1   \n",
       "\n",
       "   seasonal_trough_month  stl_spikiness  stl_trend_linearity  \\\n",
       "0                      1   1.011767e+08           -78.357049   \n",
       "\n",
       "   stl_trend_curvature  stl_e_acf1  stl_e_acf10  \n",
       "0             0.547004    0.503835     0.458219  "
      ]
     },
     "metadata": {},
     "output_type": "display_data"
    }
   ],
   "source": [
    "df_stl = df_stl.reset_index()\n",
    "\n",
    "# Define a janela da série (por exemplo, 2 dias)\n",
    "window = df_stl[\"btc_price_usd\"].iloc[-96:]  # 48 * 2 períodos de 30 minutos\n",
    "\n",
    "features_stl = extract_stl_features(\n",
    "    series=window,\n",
    "    block_height=df_stl[\"block_height\"].iloc[-1],\n",
    "    block_timestamp=df_stl[\"block_timestamp\"].iloc[-1],\n",
    "    period=5\n",
    ")\n",
    "\n",
    "display(features_stl)"
   ]
  },
  {
   "cell_type": "markdown",
   "metadata": {},
   "source": [
    "##### 🔶 ₿ -----> Análise dos Componentes em Subplots"
   ]
  },
  {
   "cell_type": "code",
   "execution_count": 36,
   "metadata": {},
   "outputs": [],
   "source": [
    "# Para df_seasonal\n",
    "df_seasonal = df_features_temp.toPandas()  # Se precisar de ordenação aqui, pode usar:\n",
    "df_seasonal = df_seasonal.sort_values(\"block_timestamp\")  # Ordena pelo timestamp"
   ]
  },
  {
   "cell_type": "code",
   "execution_count": 37,
   "metadata": {},
   "outputs": [
    {
     "data": {
      "application/vnd.plotly.v1+json": {
       "config": {
        "plotlyServerURL": "https://plot.ly"
       },
       "data": [],
       "layout": {
        "height": 600,
        "legend": {
         "title": {
          "text": "Mês"
         },
         "tracegroupgap": 0
        },
        "template": {
         "data": {
          "bar": [
           {
            "error_x": {
             "color": "#f2f5fa"
            },
            "error_y": {
             "color": "#f2f5fa"
            },
            "marker": {
             "line": {
              "color": "rgb(17,17,17)",
              "width": 0.5
             },
             "pattern": {
              "fillmode": "overlay",
              "size": 10,
              "solidity": 0.2
             }
            },
            "type": "bar"
           }
          ],
          "barpolar": [
           {
            "marker": {
             "line": {
              "color": "rgb(17,17,17)",
              "width": 0.5
             },
             "pattern": {
              "fillmode": "overlay",
              "size": 10,
              "solidity": 0.2
             }
            },
            "type": "barpolar"
           }
          ],
          "carpet": [
           {
            "aaxis": {
             "endlinecolor": "#A2B1C6",
             "gridcolor": "#506784",
             "linecolor": "#506784",
             "minorgridcolor": "#506784",
             "startlinecolor": "#A2B1C6"
            },
            "baxis": {
             "endlinecolor": "#A2B1C6",
             "gridcolor": "#506784",
             "linecolor": "#506784",
             "minorgridcolor": "#506784",
             "startlinecolor": "#A2B1C6"
            },
            "type": "carpet"
           }
          ],
          "choropleth": [
           {
            "colorbar": {
             "outlinewidth": 0,
             "ticks": ""
            },
            "type": "choropleth"
           }
          ],
          "contour": [
           {
            "colorbar": {
             "outlinewidth": 0,
             "ticks": ""
            },
            "colorscale": [
             [
              0,
              "#0d0887"
             ],
             [
              0.1111111111111111,
              "#46039f"
             ],
             [
              0.2222222222222222,
              "#7201a8"
             ],
             [
              0.3333333333333333,
              "#9c179e"
             ],
             [
              0.4444444444444444,
              "#bd3786"
             ],
             [
              0.5555555555555556,
              "#d8576b"
             ],
             [
              0.6666666666666666,
              "#ed7953"
             ],
             [
              0.7777777777777778,
              "#fb9f3a"
             ],
             [
              0.8888888888888888,
              "#fdca26"
             ],
             [
              1,
              "#f0f921"
             ]
            ],
            "type": "contour"
           }
          ],
          "contourcarpet": [
           {
            "colorbar": {
             "outlinewidth": 0,
             "ticks": ""
            },
            "type": "contourcarpet"
           }
          ],
          "heatmap": [
           {
            "colorbar": {
             "outlinewidth": 0,
             "ticks": ""
            },
            "colorscale": [
             [
              0,
              "#0d0887"
             ],
             [
              0.1111111111111111,
              "#46039f"
             ],
             [
              0.2222222222222222,
              "#7201a8"
             ],
             [
              0.3333333333333333,
              "#9c179e"
             ],
             [
              0.4444444444444444,
              "#bd3786"
             ],
             [
              0.5555555555555556,
              "#d8576b"
             ],
             [
              0.6666666666666666,
              "#ed7953"
             ],
             [
              0.7777777777777778,
              "#fb9f3a"
             ],
             [
              0.8888888888888888,
              "#fdca26"
             ],
             [
              1,
              "#f0f921"
             ]
            ],
            "type": "heatmap"
           }
          ],
          "histogram": [
           {
            "marker": {
             "pattern": {
              "fillmode": "overlay",
              "size": 10,
              "solidity": 0.2
             }
            },
            "type": "histogram"
           }
          ],
          "histogram2d": [
           {
            "colorbar": {
             "outlinewidth": 0,
             "ticks": ""
            },
            "colorscale": [
             [
              0,
              "#0d0887"
             ],
             [
              0.1111111111111111,
              "#46039f"
             ],
             [
              0.2222222222222222,
              "#7201a8"
             ],
             [
              0.3333333333333333,
              "#9c179e"
             ],
             [
              0.4444444444444444,
              "#bd3786"
             ],
             [
              0.5555555555555556,
              "#d8576b"
             ],
             [
              0.6666666666666666,
              "#ed7953"
             ],
             [
              0.7777777777777778,
              "#fb9f3a"
             ],
             [
              0.8888888888888888,
              "#fdca26"
             ],
             [
              1,
              "#f0f921"
             ]
            ],
            "type": "histogram2d"
           }
          ],
          "histogram2dcontour": [
           {
            "colorbar": {
             "outlinewidth": 0,
             "ticks": ""
            },
            "colorscale": [
             [
              0,
              "#0d0887"
             ],
             [
              0.1111111111111111,
              "#46039f"
             ],
             [
              0.2222222222222222,
              "#7201a8"
             ],
             [
              0.3333333333333333,
              "#9c179e"
             ],
             [
              0.4444444444444444,
              "#bd3786"
             ],
             [
              0.5555555555555556,
              "#d8576b"
             ],
             [
              0.6666666666666666,
              "#ed7953"
             ],
             [
              0.7777777777777778,
              "#fb9f3a"
             ],
             [
              0.8888888888888888,
              "#fdca26"
             ],
             [
              1,
              "#f0f921"
             ]
            ],
            "type": "histogram2dcontour"
           }
          ],
          "mesh3d": [
           {
            "colorbar": {
             "outlinewidth": 0,
             "ticks": ""
            },
            "type": "mesh3d"
           }
          ],
          "parcoords": [
           {
            "line": {
             "colorbar": {
              "outlinewidth": 0,
              "ticks": ""
             }
            },
            "type": "parcoords"
           }
          ],
          "pie": [
           {
            "automargin": true,
            "type": "pie"
           }
          ],
          "scatter": [
           {
            "marker": {
             "line": {
              "color": "#283442"
             }
            },
            "type": "scatter"
           }
          ],
          "scatter3d": [
           {
            "line": {
             "colorbar": {
              "outlinewidth": 0,
              "ticks": ""
             }
            },
            "marker": {
             "colorbar": {
              "outlinewidth": 0,
              "ticks": ""
             }
            },
            "type": "scatter3d"
           }
          ],
          "scattercarpet": [
           {
            "marker": {
             "colorbar": {
              "outlinewidth": 0,
              "ticks": ""
             }
            },
            "type": "scattercarpet"
           }
          ],
          "scattergeo": [
           {
            "marker": {
             "colorbar": {
              "outlinewidth": 0,
              "ticks": ""
             }
            },
            "type": "scattergeo"
           }
          ],
          "scattergl": [
           {
            "marker": {
             "line": {
              "color": "#283442"
             }
            },
            "type": "scattergl"
           }
          ],
          "scattermap": [
           {
            "marker": {
             "colorbar": {
              "outlinewidth": 0,
              "ticks": ""
             }
            },
            "type": "scattermap"
           }
          ],
          "scattermapbox": [
           {
            "marker": {
             "colorbar": {
              "outlinewidth": 0,
              "ticks": ""
             }
            },
            "type": "scattermapbox"
           }
          ],
          "scatterpolar": [
           {
            "marker": {
             "colorbar": {
              "outlinewidth": 0,
              "ticks": ""
             }
            },
            "type": "scatterpolar"
           }
          ],
          "scatterpolargl": [
           {
            "marker": {
             "colorbar": {
              "outlinewidth": 0,
              "ticks": ""
             }
            },
            "type": "scatterpolargl"
           }
          ],
          "scatterternary": [
           {
            "marker": {
             "colorbar": {
              "outlinewidth": 0,
              "ticks": ""
             }
            },
            "type": "scatterternary"
           }
          ],
          "surface": [
           {
            "colorbar": {
             "outlinewidth": 0,
             "ticks": ""
            },
            "colorscale": [
             [
              0,
              "#0d0887"
             ],
             [
              0.1111111111111111,
              "#46039f"
             ],
             [
              0.2222222222222222,
              "#7201a8"
             ],
             [
              0.3333333333333333,
              "#9c179e"
             ],
             [
              0.4444444444444444,
              "#bd3786"
             ],
             [
              0.5555555555555556,
              "#d8576b"
             ],
             [
              0.6666666666666666,
              "#ed7953"
             ],
             [
              0.7777777777777778,
              "#fb9f3a"
             ],
             [
              0.8888888888888888,
              "#fdca26"
             ],
             [
              1,
              "#f0f921"
             ]
            ],
            "type": "surface"
           }
          ],
          "table": [
           {
            "cells": {
             "fill": {
              "color": "#506784"
             },
             "line": {
              "color": "rgb(17,17,17)"
             }
            },
            "header": {
             "fill": {
              "color": "#2a3f5f"
             },
             "line": {
              "color": "rgb(17,17,17)"
             }
            },
            "type": "table"
           }
          ]
         },
         "layout": {
          "annotationdefaults": {
           "arrowcolor": "#f2f5fa",
           "arrowhead": 0,
           "arrowwidth": 1
          },
          "autotypenumbers": "strict",
          "coloraxis": {
           "colorbar": {
            "outlinewidth": 0,
            "ticks": ""
           }
          },
          "colorscale": {
           "diverging": [
            [
             0,
             "#8e0152"
            ],
            [
             0.1,
             "#c51b7d"
            ],
            [
             0.2,
             "#de77ae"
            ],
            [
             0.3,
             "#f1b6da"
            ],
            [
             0.4,
             "#fde0ef"
            ],
            [
             0.5,
             "#f7f7f7"
            ],
            [
             0.6,
             "#e6f5d0"
            ],
            [
             0.7,
             "#b8e186"
            ],
            [
             0.8,
             "#7fbc41"
            ],
            [
             0.9,
             "#4d9221"
            ],
            [
             1,
             "#276419"
            ]
           ],
           "sequential": [
            [
             0,
             "#0d0887"
            ],
            [
             0.1111111111111111,
             "#46039f"
            ],
            [
             0.2222222222222222,
             "#7201a8"
            ],
            [
             0.3333333333333333,
             "#9c179e"
            ],
            [
             0.4444444444444444,
             "#bd3786"
            ],
            [
             0.5555555555555556,
             "#d8576b"
            ],
            [
             0.6666666666666666,
             "#ed7953"
            ],
            [
             0.7777777777777778,
             "#fb9f3a"
            ],
            [
             0.8888888888888888,
             "#fdca26"
            ],
            [
             1,
             "#f0f921"
            ]
           ],
           "sequentialminus": [
            [
             0,
             "#0d0887"
            ],
            [
             0.1111111111111111,
             "#46039f"
            ],
            [
             0.2222222222222222,
             "#7201a8"
            ],
            [
             0.3333333333333333,
             "#9c179e"
            ],
            [
             0.4444444444444444,
             "#bd3786"
            ],
            [
             0.5555555555555556,
             "#d8576b"
            ],
            [
             0.6666666666666666,
             "#ed7953"
            ],
            [
             0.7777777777777778,
             "#fb9f3a"
            ],
            [
             0.8888888888888888,
             "#fdca26"
            ],
            [
             1,
             "#f0f921"
            ]
           ]
          },
          "colorway": [
           "#636efa",
           "#EF553B",
           "#00cc96",
           "#ab63fa",
           "#FFA15A",
           "#19d3f3",
           "#FF6692",
           "#B6E880",
           "#FF97FF",
           "#FECB52"
          ],
          "font": {
           "color": "#f2f5fa"
          },
          "geo": {
           "bgcolor": "rgb(17,17,17)",
           "lakecolor": "rgb(17,17,17)",
           "landcolor": "rgb(17,17,17)",
           "showlakes": true,
           "showland": true,
           "subunitcolor": "#506784"
          },
          "hoverlabel": {
           "align": "left"
          },
          "hovermode": "closest",
          "mapbox": {
           "style": "dark"
          },
          "paper_bgcolor": "rgb(17,17,17)",
          "plot_bgcolor": "rgb(17,17,17)",
          "polar": {
           "angularaxis": {
            "gridcolor": "#506784",
            "linecolor": "#506784",
            "ticks": ""
           },
           "bgcolor": "rgb(17,17,17)",
           "radialaxis": {
            "gridcolor": "#506784",
            "linecolor": "#506784",
            "ticks": ""
           }
          },
          "scene": {
           "xaxis": {
            "backgroundcolor": "rgb(17,17,17)",
            "gridcolor": "#506784",
            "gridwidth": 2,
            "linecolor": "#506784",
            "showbackground": true,
            "ticks": "",
            "zerolinecolor": "#C8D4E3"
           },
           "yaxis": {
            "backgroundcolor": "rgb(17,17,17)",
            "gridcolor": "#506784",
            "gridwidth": 2,
            "linecolor": "#506784",
            "showbackground": true,
            "ticks": "",
            "zerolinecolor": "#C8D4E3"
           },
           "zaxis": {
            "backgroundcolor": "rgb(17,17,17)",
            "gridcolor": "#506784",
            "gridwidth": 2,
            "linecolor": "#506784",
            "showbackground": true,
            "ticks": "",
            "zerolinecolor": "#C8D4E3"
           }
          },
          "shapedefaults": {
           "line": {
            "color": "#f2f5fa"
           }
          },
          "sliderdefaults": {
           "bgcolor": "#C8D4E3",
           "bordercolor": "rgb(17,17,17)",
           "borderwidth": 1,
           "tickwidth": 0
          },
          "ternary": {
           "aaxis": {
            "gridcolor": "#506784",
            "linecolor": "#506784",
            "ticks": ""
           },
           "baxis": {
            "gridcolor": "#506784",
            "linecolor": "#506784",
            "ticks": ""
           },
           "bgcolor": "rgb(17,17,17)",
           "caxis": {
            "gridcolor": "#506784",
            "linecolor": "#506784",
            "ticks": ""
           }
          },
          "title": {
           "x": 0.05
          },
          "updatemenudefaults": {
           "bgcolor": "#506784",
           "borderwidth": 0
          },
          "xaxis": {
           "automargin": true,
           "gridcolor": "#283442",
           "linecolor": "#506784",
           "ticks": "",
           "title": {
            "standoff": 15
           },
           "zerolinecolor": "#283442",
           "zerolinewidth": 2
          },
          "yaxis": {
           "automargin": true,
           "gridcolor": "#283442",
           "linecolor": "#506784",
           "ticks": "",
           "title": {
            "standoff": 15
           },
           "zerolinecolor": "#283442",
           "zerolinewidth": 2
          }
         }
        },
        "title": {
         "text": "Gráfico Sazonal Diário: Preço Médio do Bitcoin por Dia do Mês"
        },
        "xaxis": {
         "anchor": "y",
         "domain": [
          0,
          1
         ],
         "title": {
          "text": "Dia do Mês"
         }
        },
        "yaxis": {
         "anchor": "x",
         "domain": [
          0,
          1
         ],
         "title": {
          "text": "Preço Médio (USD)"
         }
        }
       }
      }
     },
     "metadata": {},
     "output_type": "display_data"
    }
   ],
   "source": [
    "plot_seasonal_daily_line(df_seasonal, timestamp_col=\"block_timestamp\", price_col=\"btc_price_usd\", ano_alvo=2024)"
   ]
  },
  {
   "cell_type": "code",
   "execution_count": 38,
   "metadata": {},
   "outputs": [
    {
     "data": {
      "application/vnd.plotly.v1+json": {
       "config": {
        "plotlyServerURL": "https://plot.ly"
       },
       "data": [
        {
         "hovertemplate": "Semana=14<br>Dia da Semana=%{x}<br>Preço Médio (USD)=%{y}<extra></extra>",
         "legendgroup": "14",
         "line": {
          "color": "#636efa",
          "dash": "solid"
         },
         "marker": {
          "symbol": "circle"
         },
         "mode": "lines",
         "name": "14",
         "orientation": "v",
         "showlegend": true,
         "type": "scatter",
         "x": [
          "Seg",
          "Ter",
          "Qua",
          "Qui",
          "Sex",
          "Sáb",
          "Dom"
         ],
         "xaxis": "x",
         "y": {
          "bdata": "AAAAAAAA+H9q+NsUB4n0QO6D0kR9yPRA2Vcn1fA19EA/omubyFn0QMjfgPxFV/RAhMwwhcre80A=",
          "dtype": "f8"
         },
         "yaxis": "y"
        },
        {
         "hovertemplate": "Semana=15<br>Dia da Semana=%{x}<br>Preço Médio (USD)=%{y}<extra></extra>",
         "legendgroup": "15",
         "line": {
          "color": "#EF553B",
          "dash": "solid"
         },
         "marker": {
          "symbol": "circle"
         },
         "mode": "lines",
         "name": "15",
         "orientation": "v",
         "showlegend": true,
         "type": "scatter",
         "x": [
          "Seg",
          "Ter",
          "Qua",
          "Qui",
          "Sex",
          "Sáb",
          "Dom"
         ],
         "xaxis": "x",
         "y": {
          "bdata": "GHvJYysH80AIQTay5k/zQAAAAAAAAPh/AAAAAAAA+H8AAAAAAAD4fwAAAAAAAPh/AAAAAAAA+H8=",
          "dtype": "f8"
         },
         "yaxis": "y"
        }
       ],
       "layout": {
        "bargap": 0.05,
        "font": {
         "color": "white"
        },
        "height": 800,
        "images": [
         {
          "sizex": 0.1,
          "sizey": 0.1,
          "source": "/Users/rodrigocampos/Documents/crypto_btc/src/visualizations/BTC_black.png",
          "x": 0.008,
          "xanchor": "left",
          "xref": "paper",
          "y": 1.06,
          "yanchor": "top",
          "yref": "paper"
         }
        ],
        "legend": {
         "title": {
          "text": "Semana do Ano"
         },
         "tracegroupgap": 0
        },
        "margin": {
         "t": 60
        },
        "paper_bgcolor": "black",
        "plot_bgcolor": "black",
        "showlegend": true,
        "template": {
         "data": {
          "bar": [
           {
            "error_x": {
             "color": "#f2f5fa"
            },
            "error_y": {
             "color": "#f2f5fa"
            },
            "marker": {
             "line": {
              "color": "rgb(17,17,17)",
              "width": 0.5
             },
             "pattern": {
              "fillmode": "overlay",
              "size": 10,
              "solidity": 0.2
             }
            },
            "type": "bar"
           }
          ],
          "barpolar": [
           {
            "marker": {
             "line": {
              "color": "rgb(17,17,17)",
              "width": 0.5
             },
             "pattern": {
              "fillmode": "overlay",
              "size": 10,
              "solidity": 0.2
             }
            },
            "type": "barpolar"
           }
          ],
          "carpet": [
           {
            "aaxis": {
             "endlinecolor": "#A2B1C6",
             "gridcolor": "#506784",
             "linecolor": "#506784",
             "minorgridcolor": "#506784",
             "startlinecolor": "#A2B1C6"
            },
            "baxis": {
             "endlinecolor": "#A2B1C6",
             "gridcolor": "#506784",
             "linecolor": "#506784",
             "minorgridcolor": "#506784",
             "startlinecolor": "#A2B1C6"
            },
            "type": "carpet"
           }
          ],
          "choropleth": [
           {
            "colorbar": {
             "outlinewidth": 0,
             "ticks": ""
            },
            "type": "choropleth"
           }
          ],
          "contour": [
           {
            "colorbar": {
             "outlinewidth": 0,
             "ticks": ""
            },
            "colorscale": [
             [
              0,
              "#0d0887"
             ],
             [
              0.1111111111111111,
              "#46039f"
             ],
             [
              0.2222222222222222,
              "#7201a8"
             ],
             [
              0.3333333333333333,
              "#9c179e"
             ],
             [
              0.4444444444444444,
              "#bd3786"
             ],
             [
              0.5555555555555556,
              "#d8576b"
             ],
             [
              0.6666666666666666,
              "#ed7953"
             ],
             [
              0.7777777777777778,
              "#fb9f3a"
             ],
             [
              0.8888888888888888,
              "#fdca26"
             ],
             [
              1,
              "#f0f921"
             ]
            ],
            "type": "contour"
           }
          ],
          "contourcarpet": [
           {
            "colorbar": {
             "outlinewidth": 0,
             "ticks": ""
            },
            "type": "contourcarpet"
           }
          ],
          "heatmap": [
           {
            "colorbar": {
             "outlinewidth": 0,
             "ticks": ""
            },
            "colorscale": [
             [
              0,
              "#0d0887"
             ],
             [
              0.1111111111111111,
              "#46039f"
             ],
             [
              0.2222222222222222,
              "#7201a8"
             ],
             [
              0.3333333333333333,
              "#9c179e"
             ],
             [
              0.4444444444444444,
              "#bd3786"
             ],
             [
              0.5555555555555556,
              "#d8576b"
             ],
             [
              0.6666666666666666,
              "#ed7953"
             ],
             [
              0.7777777777777778,
              "#fb9f3a"
             ],
             [
              0.8888888888888888,
              "#fdca26"
             ],
             [
              1,
              "#f0f921"
             ]
            ],
            "type": "heatmap"
           }
          ],
          "histogram": [
           {
            "marker": {
             "pattern": {
              "fillmode": "overlay",
              "size": 10,
              "solidity": 0.2
             }
            },
            "type": "histogram"
           }
          ],
          "histogram2d": [
           {
            "colorbar": {
             "outlinewidth": 0,
             "ticks": ""
            },
            "colorscale": [
             [
              0,
              "#0d0887"
             ],
             [
              0.1111111111111111,
              "#46039f"
             ],
             [
              0.2222222222222222,
              "#7201a8"
             ],
             [
              0.3333333333333333,
              "#9c179e"
             ],
             [
              0.4444444444444444,
              "#bd3786"
             ],
             [
              0.5555555555555556,
              "#d8576b"
             ],
             [
              0.6666666666666666,
              "#ed7953"
             ],
             [
              0.7777777777777778,
              "#fb9f3a"
             ],
             [
              0.8888888888888888,
              "#fdca26"
             ],
             [
              1,
              "#f0f921"
             ]
            ],
            "type": "histogram2d"
           }
          ],
          "histogram2dcontour": [
           {
            "colorbar": {
             "outlinewidth": 0,
             "ticks": ""
            },
            "colorscale": [
             [
              0,
              "#0d0887"
             ],
             [
              0.1111111111111111,
              "#46039f"
             ],
             [
              0.2222222222222222,
              "#7201a8"
             ],
             [
              0.3333333333333333,
              "#9c179e"
             ],
             [
              0.4444444444444444,
              "#bd3786"
             ],
             [
              0.5555555555555556,
              "#d8576b"
             ],
             [
              0.6666666666666666,
              "#ed7953"
             ],
             [
              0.7777777777777778,
              "#fb9f3a"
             ],
             [
              0.8888888888888888,
              "#fdca26"
             ],
             [
              1,
              "#f0f921"
             ]
            ],
            "type": "histogram2dcontour"
           }
          ],
          "mesh3d": [
           {
            "colorbar": {
             "outlinewidth": 0,
             "ticks": ""
            },
            "type": "mesh3d"
           }
          ],
          "parcoords": [
           {
            "line": {
             "colorbar": {
              "outlinewidth": 0,
              "ticks": ""
             }
            },
            "type": "parcoords"
           }
          ],
          "pie": [
           {
            "automargin": true,
            "type": "pie"
           }
          ],
          "scatter": [
           {
            "marker": {
             "line": {
              "color": "#283442"
             }
            },
            "type": "scatter"
           }
          ],
          "scatter3d": [
           {
            "line": {
             "colorbar": {
              "outlinewidth": 0,
              "ticks": ""
             }
            },
            "marker": {
             "colorbar": {
              "outlinewidth": 0,
              "ticks": ""
             }
            },
            "type": "scatter3d"
           }
          ],
          "scattercarpet": [
           {
            "marker": {
             "colorbar": {
              "outlinewidth": 0,
              "ticks": ""
             }
            },
            "type": "scattercarpet"
           }
          ],
          "scattergeo": [
           {
            "marker": {
             "colorbar": {
              "outlinewidth": 0,
              "ticks": ""
             }
            },
            "type": "scattergeo"
           }
          ],
          "scattergl": [
           {
            "marker": {
             "line": {
              "color": "#283442"
             }
            },
            "type": "scattergl"
           }
          ],
          "scattermap": [
           {
            "marker": {
             "colorbar": {
              "outlinewidth": 0,
              "ticks": ""
             }
            },
            "type": "scattermap"
           }
          ],
          "scattermapbox": [
           {
            "marker": {
             "colorbar": {
              "outlinewidth": 0,
              "ticks": ""
             }
            },
            "type": "scattermapbox"
           }
          ],
          "scatterpolar": [
           {
            "marker": {
             "colorbar": {
              "outlinewidth": 0,
              "ticks": ""
             }
            },
            "type": "scatterpolar"
           }
          ],
          "scatterpolargl": [
           {
            "marker": {
             "colorbar": {
              "outlinewidth": 0,
              "ticks": ""
             }
            },
            "type": "scatterpolargl"
           }
          ],
          "scatterternary": [
           {
            "marker": {
             "colorbar": {
              "outlinewidth": 0,
              "ticks": ""
             }
            },
            "type": "scatterternary"
           }
          ],
          "surface": [
           {
            "colorbar": {
             "outlinewidth": 0,
             "ticks": ""
            },
            "colorscale": [
             [
              0,
              "#0d0887"
             ],
             [
              0.1111111111111111,
              "#46039f"
             ],
             [
              0.2222222222222222,
              "#7201a8"
             ],
             [
              0.3333333333333333,
              "#9c179e"
             ],
             [
              0.4444444444444444,
              "#bd3786"
             ],
             [
              0.5555555555555556,
              "#d8576b"
             ],
             [
              0.6666666666666666,
              "#ed7953"
             ],
             [
              0.7777777777777778,
              "#fb9f3a"
             ],
             [
              0.8888888888888888,
              "#fdca26"
             ],
             [
              1,
              "#f0f921"
             ]
            ],
            "type": "surface"
           }
          ],
          "table": [
           {
            "cells": {
             "fill": {
              "color": "#506784"
             },
             "line": {
              "color": "rgb(17,17,17)"
             }
            },
            "header": {
             "fill": {
              "color": "#2a3f5f"
             },
             "line": {
              "color": "rgb(17,17,17)"
             }
            },
            "type": "table"
           }
          ]
         },
         "layout": {
          "annotationdefaults": {
           "arrowcolor": "#f2f5fa",
           "arrowhead": 0,
           "arrowwidth": 1
          },
          "autotypenumbers": "strict",
          "coloraxis": {
           "colorbar": {
            "outlinewidth": 0,
            "ticks": ""
           }
          },
          "colorscale": {
           "diverging": [
            [
             0,
             "#8e0152"
            ],
            [
             0.1,
             "#c51b7d"
            ],
            [
             0.2,
             "#de77ae"
            ],
            [
             0.3,
             "#f1b6da"
            ],
            [
             0.4,
             "#fde0ef"
            ],
            [
             0.5,
             "#f7f7f7"
            ],
            [
             0.6,
             "#e6f5d0"
            ],
            [
             0.7,
             "#b8e186"
            ],
            [
             0.8,
             "#7fbc41"
            ],
            [
             0.9,
             "#4d9221"
            ],
            [
             1,
             "#276419"
            ]
           ],
           "sequential": [
            [
             0,
             "#0d0887"
            ],
            [
             0.1111111111111111,
             "#46039f"
            ],
            [
             0.2222222222222222,
             "#7201a8"
            ],
            [
             0.3333333333333333,
             "#9c179e"
            ],
            [
             0.4444444444444444,
             "#bd3786"
            ],
            [
             0.5555555555555556,
             "#d8576b"
            ],
            [
             0.6666666666666666,
             "#ed7953"
            ],
            [
             0.7777777777777778,
             "#fb9f3a"
            ],
            [
             0.8888888888888888,
             "#fdca26"
            ],
            [
             1,
             "#f0f921"
            ]
           ],
           "sequentialminus": [
            [
             0,
             "#0d0887"
            ],
            [
             0.1111111111111111,
             "#46039f"
            ],
            [
             0.2222222222222222,
             "#7201a8"
            ],
            [
             0.3333333333333333,
             "#9c179e"
            ],
            [
             0.4444444444444444,
             "#bd3786"
            ],
            [
             0.5555555555555556,
             "#d8576b"
            ],
            [
             0.6666666666666666,
             "#ed7953"
            ],
            [
             0.7777777777777778,
             "#fb9f3a"
            ],
            [
             0.8888888888888888,
             "#fdca26"
            ],
            [
             1,
             "#f0f921"
            ]
           ]
          },
          "colorway": [
           "#636efa",
           "#EF553B",
           "#00cc96",
           "#ab63fa",
           "#FFA15A",
           "#19d3f3",
           "#FF6692",
           "#B6E880",
           "#FF97FF",
           "#FECB52"
          ],
          "font": {
           "color": "#f2f5fa"
          },
          "geo": {
           "bgcolor": "rgb(17,17,17)",
           "lakecolor": "rgb(17,17,17)",
           "landcolor": "rgb(17,17,17)",
           "showlakes": true,
           "showland": true,
           "subunitcolor": "#506784"
          },
          "hoverlabel": {
           "align": "left"
          },
          "hovermode": "closest",
          "mapbox": {
           "style": "dark"
          },
          "paper_bgcolor": "rgb(17,17,17)",
          "plot_bgcolor": "rgb(17,17,17)",
          "polar": {
           "angularaxis": {
            "gridcolor": "#506784",
            "linecolor": "#506784",
            "ticks": ""
           },
           "bgcolor": "rgb(17,17,17)",
           "radialaxis": {
            "gridcolor": "#506784",
            "linecolor": "#506784",
            "ticks": ""
           }
          },
          "scene": {
           "xaxis": {
            "backgroundcolor": "rgb(17,17,17)",
            "gridcolor": "#506784",
            "gridwidth": 2,
            "linecolor": "#506784",
            "showbackground": true,
            "ticks": "",
            "zerolinecolor": "#C8D4E3"
           },
           "yaxis": {
            "backgroundcolor": "rgb(17,17,17)",
            "gridcolor": "#506784",
            "gridwidth": 2,
            "linecolor": "#506784",
            "showbackground": true,
            "ticks": "",
            "zerolinecolor": "#C8D4E3"
           },
           "zaxis": {
            "backgroundcolor": "rgb(17,17,17)",
            "gridcolor": "#506784",
            "gridwidth": 2,
            "linecolor": "#506784",
            "showbackground": true,
            "ticks": "",
            "zerolinecolor": "#C8D4E3"
           }
          },
          "shapedefaults": {
           "line": {
            "color": "#f2f5fa"
           }
          },
          "sliderdefaults": {
           "bgcolor": "#C8D4E3",
           "bordercolor": "rgb(17,17,17)",
           "borderwidth": 1,
           "tickwidth": 0
          },
          "ternary": {
           "aaxis": {
            "gridcolor": "#506784",
            "linecolor": "#506784",
            "ticks": ""
           },
           "baxis": {
            "gridcolor": "#506784",
            "linecolor": "#506784",
            "ticks": ""
           },
           "bgcolor": "rgb(17,17,17)",
           "caxis": {
            "gridcolor": "#506784",
            "linecolor": "#506784",
            "ticks": ""
           }
          },
          "title": {
           "x": 0.05
          },
          "updatemenudefaults": {
           "bgcolor": "#506784",
           "borderwidth": 0
          },
          "xaxis": {
           "automargin": true,
           "gridcolor": "#283442",
           "linecolor": "#506784",
           "ticks": "",
           "title": {
            "standoff": 15
           },
           "zerolinecolor": "#283442",
           "zerolinewidth": 2
          },
          "yaxis": {
           "automargin": true,
           "gridcolor": "#283442",
           "linecolor": "#506784",
           "ticks": "",
           "title": {
            "standoff": 15
           },
           "zerolinecolor": "#283442",
           "zerolinewidth": 2
          }
         }
        },
        "title": {
         "text": "<b><span style='font-size:22px;'>Gráfico Sazonal Semanal: Preço Médio do Bitcoin por Dia da Semana</span></b>",
         "x": 0.5,
         "xanchor": "center",
         "y": 0.95,
         "yanchor": "top"
        },
        "xaxis": {
         "anchor": "y",
         "domain": [
          0,
          1
         ],
         "title": {
          "text": "Dias da Semana"
         }
        },
        "yaxis": {
         "anchor": "x",
         "domain": [
          0,
          1
         ],
         "side": "left",
         "title": {
          "text": "Preço do Bitcoin - USD"
         }
        }
       }
      }
     },
     "metadata": {},
     "output_type": "display_data"
    }
   ],
   "source": [
    "plot_seasonal_weekly_line(df_seasonal, timestamp_col=\"block_timestamp\", price_col=\"btc_price_usd\", ano_alvo=2025, image_path=image_path)"
   ]
  },
  {
   "cell_type": "code",
   "execution_count": 39,
   "metadata": {},
   "outputs": [
    {
     "data": {
      "application/vnd.plotly.v1+json": {
       "config": {
        "plotlyServerURL": "https://plot.ly"
       },
       "data": [
        {
         "hovertemplate": "Semana=14<br>Ano=2025<br>Dia da Semana=%{x}<br>Preço Médio (USD)=%{y}<extra></extra>",
         "legendgroup": "14",
         "line": {
          "color": "#636efa",
          "dash": "solid"
         },
         "marker": {
          "symbol": "circle"
         },
         "mode": "lines",
         "name": "14",
         "orientation": "v",
         "showlegend": true,
         "type": "scatter",
         "x": [
          "Seg",
          "Ter",
          "Qua",
          "Qui",
          "Sex",
          "Sáb",
          "Dom"
         ],
         "xaxis": "x",
         "y": {
          "bdata": "AAAAAAAA+H9q+NsUB4n0QO6D0kR9yPRA2Vcn1fA19EA/omubyFn0QMjfgPxFV/RAhMwwhcre80A=",
          "dtype": "f8"
         },
         "yaxis": "y"
        },
        {
         "hovertemplate": "Semana=15<br>Ano=2025<br>Dia da Semana=%{x}<br>Preço Médio (USD)=%{y}<extra></extra>",
         "legendgroup": "15",
         "line": {
          "color": "#EF553B",
          "dash": "solid"
         },
         "marker": {
          "symbol": "circle"
         },
         "mode": "lines",
         "name": "15",
         "orientation": "v",
         "showlegend": true,
         "type": "scatter",
         "x": [
          "Seg",
          "Ter",
          "Qua",
          "Qui",
          "Sex",
          "Sáb",
          "Dom"
         ],
         "xaxis": "x",
         "y": {
          "bdata": "GHvJYysH80AIQTay5k/zQAAAAAAAAPh/AAAAAAAA+H8AAAAAAAD4fwAAAAAAAPh/AAAAAAAA+H8=",
          "dtype": "f8"
         },
         "yaxis": "y"
        }
       ],
       "layout": {
        "annotations": [
         {
          "font": {},
          "showarrow": false,
          "text": "Ano=2025",
          "x": 0.5,
          "xanchor": "center",
          "xref": "paper",
          "y": 1,
          "yanchor": "bottom",
          "yref": "paper"
         }
        ],
        "height": 700,
        "legend": {
         "title": {
          "text": "Semana do Ano"
         },
         "tracegroupgap": 0
        },
        "showlegend": true,
        "template": {
         "data": {
          "bar": [
           {
            "error_x": {
             "color": "#f2f5fa"
            },
            "error_y": {
             "color": "#f2f5fa"
            },
            "marker": {
             "line": {
              "color": "rgb(17,17,17)",
              "width": 0.5
             },
             "pattern": {
              "fillmode": "overlay",
              "size": 10,
              "solidity": 0.2
             }
            },
            "type": "bar"
           }
          ],
          "barpolar": [
           {
            "marker": {
             "line": {
              "color": "rgb(17,17,17)",
              "width": 0.5
             },
             "pattern": {
              "fillmode": "overlay",
              "size": 10,
              "solidity": 0.2
             }
            },
            "type": "barpolar"
           }
          ],
          "carpet": [
           {
            "aaxis": {
             "endlinecolor": "#A2B1C6",
             "gridcolor": "#506784",
             "linecolor": "#506784",
             "minorgridcolor": "#506784",
             "startlinecolor": "#A2B1C6"
            },
            "baxis": {
             "endlinecolor": "#A2B1C6",
             "gridcolor": "#506784",
             "linecolor": "#506784",
             "minorgridcolor": "#506784",
             "startlinecolor": "#A2B1C6"
            },
            "type": "carpet"
           }
          ],
          "choropleth": [
           {
            "colorbar": {
             "outlinewidth": 0,
             "ticks": ""
            },
            "type": "choropleth"
           }
          ],
          "contour": [
           {
            "colorbar": {
             "outlinewidth": 0,
             "ticks": ""
            },
            "colorscale": [
             [
              0,
              "#0d0887"
             ],
             [
              0.1111111111111111,
              "#46039f"
             ],
             [
              0.2222222222222222,
              "#7201a8"
             ],
             [
              0.3333333333333333,
              "#9c179e"
             ],
             [
              0.4444444444444444,
              "#bd3786"
             ],
             [
              0.5555555555555556,
              "#d8576b"
             ],
             [
              0.6666666666666666,
              "#ed7953"
             ],
             [
              0.7777777777777778,
              "#fb9f3a"
             ],
             [
              0.8888888888888888,
              "#fdca26"
             ],
             [
              1,
              "#f0f921"
             ]
            ],
            "type": "contour"
           }
          ],
          "contourcarpet": [
           {
            "colorbar": {
             "outlinewidth": 0,
             "ticks": ""
            },
            "type": "contourcarpet"
           }
          ],
          "heatmap": [
           {
            "colorbar": {
             "outlinewidth": 0,
             "ticks": ""
            },
            "colorscale": [
             [
              0,
              "#0d0887"
             ],
             [
              0.1111111111111111,
              "#46039f"
             ],
             [
              0.2222222222222222,
              "#7201a8"
             ],
             [
              0.3333333333333333,
              "#9c179e"
             ],
             [
              0.4444444444444444,
              "#bd3786"
             ],
             [
              0.5555555555555556,
              "#d8576b"
             ],
             [
              0.6666666666666666,
              "#ed7953"
             ],
             [
              0.7777777777777778,
              "#fb9f3a"
             ],
             [
              0.8888888888888888,
              "#fdca26"
             ],
             [
              1,
              "#f0f921"
             ]
            ],
            "type": "heatmap"
           }
          ],
          "histogram": [
           {
            "marker": {
             "pattern": {
              "fillmode": "overlay",
              "size": 10,
              "solidity": 0.2
             }
            },
            "type": "histogram"
           }
          ],
          "histogram2d": [
           {
            "colorbar": {
             "outlinewidth": 0,
             "ticks": ""
            },
            "colorscale": [
             [
              0,
              "#0d0887"
             ],
             [
              0.1111111111111111,
              "#46039f"
             ],
             [
              0.2222222222222222,
              "#7201a8"
             ],
             [
              0.3333333333333333,
              "#9c179e"
             ],
             [
              0.4444444444444444,
              "#bd3786"
             ],
             [
              0.5555555555555556,
              "#d8576b"
             ],
             [
              0.6666666666666666,
              "#ed7953"
             ],
             [
              0.7777777777777778,
              "#fb9f3a"
             ],
             [
              0.8888888888888888,
              "#fdca26"
             ],
             [
              1,
              "#f0f921"
             ]
            ],
            "type": "histogram2d"
           }
          ],
          "histogram2dcontour": [
           {
            "colorbar": {
             "outlinewidth": 0,
             "ticks": ""
            },
            "colorscale": [
             [
              0,
              "#0d0887"
             ],
             [
              0.1111111111111111,
              "#46039f"
             ],
             [
              0.2222222222222222,
              "#7201a8"
             ],
             [
              0.3333333333333333,
              "#9c179e"
             ],
             [
              0.4444444444444444,
              "#bd3786"
             ],
             [
              0.5555555555555556,
              "#d8576b"
             ],
             [
              0.6666666666666666,
              "#ed7953"
             ],
             [
              0.7777777777777778,
              "#fb9f3a"
             ],
             [
              0.8888888888888888,
              "#fdca26"
             ],
             [
              1,
              "#f0f921"
             ]
            ],
            "type": "histogram2dcontour"
           }
          ],
          "mesh3d": [
           {
            "colorbar": {
             "outlinewidth": 0,
             "ticks": ""
            },
            "type": "mesh3d"
           }
          ],
          "parcoords": [
           {
            "line": {
             "colorbar": {
              "outlinewidth": 0,
              "ticks": ""
             }
            },
            "type": "parcoords"
           }
          ],
          "pie": [
           {
            "automargin": true,
            "type": "pie"
           }
          ],
          "scatter": [
           {
            "marker": {
             "line": {
              "color": "#283442"
             }
            },
            "type": "scatter"
           }
          ],
          "scatter3d": [
           {
            "line": {
             "colorbar": {
              "outlinewidth": 0,
              "ticks": ""
             }
            },
            "marker": {
             "colorbar": {
              "outlinewidth": 0,
              "ticks": ""
             }
            },
            "type": "scatter3d"
           }
          ],
          "scattercarpet": [
           {
            "marker": {
             "colorbar": {
              "outlinewidth": 0,
              "ticks": ""
             }
            },
            "type": "scattercarpet"
           }
          ],
          "scattergeo": [
           {
            "marker": {
             "colorbar": {
              "outlinewidth": 0,
              "ticks": ""
             }
            },
            "type": "scattergeo"
           }
          ],
          "scattergl": [
           {
            "marker": {
             "line": {
              "color": "#283442"
             }
            },
            "type": "scattergl"
           }
          ],
          "scattermap": [
           {
            "marker": {
             "colorbar": {
              "outlinewidth": 0,
              "ticks": ""
             }
            },
            "type": "scattermap"
           }
          ],
          "scattermapbox": [
           {
            "marker": {
             "colorbar": {
              "outlinewidth": 0,
              "ticks": ""
             }
            },
            "type": "scattermapbox"
           }
          ],
          "scatterpolar": [
           {
            "marker": {
             "colorbar": {
              "outlinewidth": 0,
              "ticks": ""
             }
            },
            "type": "scatterpolar"
           }
          ],
          "scatterpolargl": [
           {
            "marker": {
             "colorbar": {
              "outlinewidth": 0,
              "ticks": ""
             }
            },
            "type": "scatterpolargl"
           }
          ],
          "scatterternary": [
           {
            "marker": {
             "colorbar": {
              "outlinewidth": 0,
              "ticks": ""
             }
            },
            "type": "scatterternary"
           }
          ],
          "surface": [
           {
            "colorbar": {
             "outlinewidth": 0,
             "ticks": ""
            },
            "colorscale": [
             [
              0,
              "#0d0887"
             ],
             [
              0.1111111111111111,
              "#46039f"
             ],
             [
              0.2222222222222222,
              "#7201a8"
             ],
             [
              0.3333333333333333,
              "#9c179e"
             ],
             [
              0.4444444444444444,
              "#bd3786"
             ],
             [
              0.5555555555555556,
              "#d8576b"
             ],
             [
              0.6666666666666666,
              "#ed7953"
             ],
             [
              0.7777777777777778,
              "#fb9f3a"
             ],
             [
              0.8888888888888888,
              "#fdca26"
             ],
             [
              1,
              "#f0f921"
             ]
            ],
            "type": "surface"
           }
          ],
          "table": [
           {
            "cells": {
             "fill": {
              "color": "#506784"
             },
             "line": {
              "color": "rgb(17,17,17)"
             }
            },
            "header": {
             "fill": {
              "color": "#2a3f5f"
             },
             "line": {
              "color": "rgb(17,17,17)"
             }
            },
            "type": "table"
           }
          ]
         },
         "layout": {
          "annotationdefaults": {
           "arrowcolor": "#f2f5fa",
           "arrowhead": 0,
           "arrowwidth": 1
          },
          "autotypenumbers": "strict",
          "coloraxis": {
           "colorbar": {
            "outlinewidth": 0,
            "ticks": ""
           }
          },
          "colorscale": {
           "diverging": [
            [
             0,
             "#8e0152"
            ],
            [
             0.1,
             "#c51b7d"
            ],
            [
             0.2,
             "#de77ae"
            ],
            [
             0.3,
             "#f1b6da"
            ],
            [
             0.4,
             "#fde0ef"
            ],
            [
             0.5,
             "#f7f7f7"
            ],
            [
             0.6,
             "#e6f5d0"
            ],
            [
             0.7,
             "#b8e186"
            ],
            [
             0.8,
             "#7fbc41"
            ],
            [
             0.9,
             "#4d9221"
            ],
            [
             1,
             "#276419"
            ]
           ],
           "sequential": [
            [
             0,
             "#0d0887"
            ],
            [
             0.1111111111111111,
             "#46039f"
            ],
            [
             0.2222222222222222,
             "#7201a8"
            ],
            [
             0.3333333333333333,
             "#9c179e"
            ],
            [
             0.4444444444444444,
             "#bd3786"
            ],
            [
             0.5555555555555556,
             "#d8576b"
            ],
            [
             0.6666666666666666,
             "#ed7953"
            ],
            [
             0.7777777777777778,
             "#fb9f3a"
            ],
            [
             0.8888888888888888,
             "#fdca26"
            ],
            [
             1,
             "#f0f921"
            ]
           ],
           "sequentialminus": [
            [
             0,
             "#0d0887"
            ],
            [
             0.1111111111111111,
             "#46039f"
            ],
            [
             0.2222222222222222,
             "#7201a8"
            ],
            [
             0.3333333333333333,
             "#9c179e"
            ],
            [
             0.4444444444444444,
             "#bd3786"
            ],
            [
             0.5555555555555556,
             "#d8576b"
            ],
            [
             0.6666666666666666,
             "#ed7953"
            ],
            [
             0.7777777777777778,
             "#fb9f3a"
            ],
            [
             0.8888888888888888,
             "#fdca26"
            ],
            [
             1,
             "#f0f921"
            ]
           ]
          },
          "colorway": [
           "#636efa",
           "#EF553B",
           "#00cc96",
           "#ab63fa",
           "#FFA15A",
           "#19d3f3",
           "#FF6692",
           "#B6E880",
           "#FF97FF",
           "#FECB52"
          ],
          "font": {
           "color": "#f2f5fa"
          },
          "geo": {
           "bgcolor": "rgb(17,17,17)",
           "lakecolor": "rgb(17,17,17)",
           "landcolor": "rgb(17,17,17)",
           "showlakes": true,
           "showland": true,
           "subunitcolor": "#506784"
          },
          "hoverlabel": {
           "align": "left"
          },
          "hovermode": "closest",
          "mapbox": {
           "style": "dark"
          },
          "paper_bgcolor": "rgb(17,17,17)",
          "plot_bgcolor": "rgb(17,17,17)",
          "polar": {
           "angularaxis": {
            "gridcolor": "#506784",
            "linecolor": "#506784",
            "ticks": ""
           },
           "bgcolor": "rgb(17,17,17)",
           "radialaxis": {
            "gridcolor": "#506784",
            "linecolor": "#506784",
            "ticks": ""
           }
          },
          "scene": {
           "xaxis": {
            "backgroundcolor": "rgb(17,17,17)",
            "gridcolor": "#506784",
            "gridwidth": 2,
            "linecolor": "#506784",
            "showbackground": true,
            "ticks": "",
            "zerolinecolor": "#C8D4E3"
           },
           "yaxis": {
            "backgroundcolor": "rgb(17,17,17)",
            "gridcolor": "#506784",
            "gridwidth": 2,
            "linecolor": "#506784",
            "showbackground": true,
            "ticks": "",
            "zerolinecolor": "#C8D4E3"
           },
           "zaxis": {
            "backgroundcolor": "rgb(17,17,17)",
            "gridcolor": "#506784",
            "gridwidth": 2,
            "linecolor": "#506784",
            "showbackground": true,
            "ticks": "",
            "zerolinecolor": "#C8D4E3"
           }
          },
          "shapedefaults": {
           "line": {
            "color": "#f2f5fa"
           }
          },
          "sliderdefaults": {
           "bgcolor": "#C8D4E3",
           "bordercolor": "rgb(17,17,17)",
           "borderwidth": 1,
           "tickwidth": 0
          },
          "ternary": {
           "aaxis": {
            "gridcolor": "#506784",
            "linecolor": "#506784",
            "ticks": ""
           },
           "baxis": {
            "gridcolor": "#506784",
            "linecolor": "#506784",
            "ticks": ""
           },
           "bgcolor": "rgb(17,17,17)",
           "caxis": {
            "gridcolor": "#506784",
            "linecolor": "#506784",
            "ticks": ""
           }
          },
          "title": {
           "x": 0.05
          },
          "updatemenudefaults": {
           "bgcolor": "#506784",
           "borderwidth": 0
          },
          "xaxis": {
           "automargin": true,
           "gridcolor": "#283442",
           "linecolor": "#506784",
           "ticks": "",
           "title": {
            "standoff": 15
           },
           "zerolinecolor": "#283442",
           "zerolinewidth": 2
          },
          "yaxis": {
           "automargin": true,
           "gridcolor": "#283442",
           "linecolor": "#506784",
           "ticks": "",
           "title": {
            "standoff": 15
           },
           "zerolinecolor": "#283442",
           "zerolinewidth": 2
          }
         }
        },
        "title": {
         "text": "Gráfico Sazonal Semanal: Preço Médio do Bitcoin por Dia da Semana (Todos os Anos)"
        },
        "xaxis": {
         "anchor": "y",
         "domain": [
          0,
          1
         ],
         "title": {
          "text": "Dia da Semana"
         }
        },
        "yaxis": {
         "anchor": "x",
         "domain": [
          0,
          1
         ],
         "title": {
          "text": "Preço Médio (USD)"
         }
        }
       }
      }
     },
     "metadata": {},
     "output_type": "display_data"
    }
   ],
   "source": [
    "plot_weekly_seasonality_all_years(df_seasonal)"
   ]
  },
  {
   "cell_type": "code",
   "execution_count": 40,
   "metadata": {},
   "outputs": [
    {
     "data": {
      "application/vnd.plotly.v1+json": {
       "config": {
        "plotlyServerURL": "https://plot.ly"
       },
       "data": [
        {
         "hovertemplate": "Data / Date=2025-04-01<br>Hora do Dia / Hour of Day=%{x}<br>Preço Médio (USD) / Avg. Price (USD)=%{y}<extra></extra>",
         "legendgroup": "2025-04-01",
         "line": {
          "color": "#636efa",
          "dash": "solid"
         },
         "marker": {
          "symbol": "circle"
         },
         "mode": "lines",
         "name": "2025-04-01",
         "orientation": "v",
         "showlegend": true,
         "type": "scatter",
         "x": {
          "bdata": "AAAAAAEAAAACAAAAAwAAAAQAAAAFAAAABgAAAAcAAAAIAAAACQAAAAoAAAALAAAADAAAAA0AAAAOAAAADwAAABAAAAARAAAAEgAAABMAAAAUAAAAFQAAABYAAAAXAAAA",
          "dtype": "i4"
         },
         "xaxis": "x",
         "y": {
          "bdata": "hetRuO4s9EB7FK5HHTD0QEjhehSWSPRAXI/C9YBA9EAAAAAAFEf0QFK4HoU/Q/RACtejcM1f9EC4HoXrIWD0QPYoXI/+iPRAuB6F6+GX9ECF61G4Zo30QB+F61EcffRA9ihcj8Jp9ECuR+F6kG30QK5H4XpYjvRASOF6FIrS9EAAAAAAQMj0QArXo3AVyPRAj8L1KPjH9EAK16Nwsb30QAAAAADYz/RAKVyPwgXO9EApXI/Cxcb0QMP1KFxvy/RA",
          "dtype": "f8"
         },
         "yaxis": "y"
        },
        {
         "hovertemplate": "Data / Date=2025-04-02<br>Hora do Dia / Hour of Day=%{x}<br>Preço Médio (USD) / Avg. Price (USD)=%{y}<extra></extra>",
         "legendgroup": "2025-04-02",
         "line": {
          "color": "#EF553B",
          "dash": "solid"
         },
         "marker": {
          "symbol": "circle"
         },
         "mode": "lines",
         "name": "2025-04-02",
         "orientation": "v",
         "showlegend": true,
         "type": "scatter",
         "x": {
          "bdata": "AAAAAAEAAAACAAAAAwAAAAQAAAAFAAAABgAAAAcAAAAIAAAACQAAAAoAAAALAAAADAAAAA0AAAAOAAAADwAAABAAAAARAAAAEgAAABMAAAAUAAAAFQAAABYAAAAXAAAA",
          "dtype": "i4"
         },
         "xaxis": "x",
         "y": {
          "bdata": "FK5H4Wq+9EAK16NwXcr0QAAAAABEr/RA7FG4HrGk9EB7FK5HDaj0QI/C9SjciPRAw/UoXE+K9EAzMzMzt5z0QJqZmZkVrPRAH4XrUeDB9ECPwvUozLf0QOxRuB5NpfRA4XoUrq/D9EBI4XoUdtD0QJqZmZlF9/RA16NwPZ4v9UB7FK5HSUH1QNejcD36JfVA4XoUrvsQ9UBSuB6F2zj1QB+F61HM6PRASOF6FPa29EDhehSunzb0QHsUrkepI/RA",
          "dtype": "f8"
         },
         "yaxis": "y"
        },
        {
         "hovertemplate": "Data / Date=2025-04-03<br>Hora do Dia / Hour of Day=%{x}<br>Preço Médio (USD) / Avg. Price (USD)=%{y}<extra></extra>",
         "legendgroup": "2025-04-03",
         "line": {
          "color": "#00cc96",
          "dash": "solid"
         },
         "marker": {
          "symbol": "circle"
         },
         "mode": "lines",
         "name": "2025-04-03",
         "orientation": "v",
         "showlegend": true,
         "type": "scatter",
         "x": {
          "bdata": "AAAAAAEAAAACAAAAAwAAAAQAAAAFAAAABgAAAAcAAAAIAAAACQAAAAoAAAALAAAADAAAAA0AAAAOAAAADwAAABAAAAARAAAAEgAAABMAAAAUAAAAFQAAABYAAAAXAAAA",
          "dtype": "i4"
         },
         "xaxis": "x",
         "y": {
          "bdata": "rkfhemBQ9EBmZmZmznL0QBSuR+HWcvRA9ihcj2ph9EAK16NwVWb0QGZmZmaeWPRAPQrXo7BG9EBxPQrXA2D0QHsUrkd1bvRACtejcBVh9ECuR+F6aFH0QArXo3DxR/RA7FG4HnEA9ED2KFyPihn0QHE9CtcX5fNAexSuR4UF9EBxPQrX8/fzQM3MzMxE+PNA4XoUrn8I9EBI4XoUcgH0QFK4HoXfGPRAmpmZmRkw9EBxPQrX2zD0QM3MzMxsTfRA",
          "dtype": "f8"
         },
         "yaxis": "y"
        },
        {
         "hovertemplate": "Data / Date=2025-04-04<br>Hora do Dia / Hour of Day=%{x}<br>Preço Médio (USD) / Avg. Price (USD)=%{y}<extra></extra>",
         "legendgroup": "2025-04-04",
         "line": {
          "color": "#ab63fa",
          "dash": "solid"
         },
         "marker": {
          "symbol": "circle"
         },
         "mode": "lines",
         "name": "2025-04-04",
         "orientation": "v",
         "showlegend": true,
         "type": "scatter",
         "x": {
          "bdata": "AAAAAAEAAAACAAAAAwAAAAQAAAAFAAAABgAAAAcAAAAIAAAACQAAAAoAAAALAAAADAAAAA0AAAAOAAAADwAAABAAAAARAAAAEgAAABMAAAAUAAAAFQAAABYAAAAXAAAA",
          "dtype": "i4"
         },
         "xaxis": "x",
         "y": {
          "bdata": "PQrXozxE9EApXI/CqS70QKRwPQrXO/RAw/UoXHM29EDhehSubzD0QFK4HoUnTvRAw/UoXCtF9ECamZmZ6YD0QB+F61GEm/RA4XoUrhOm9EDNzMzM5Cf0QJqZmZl5LvRAj8L1KJA59EBcj8L1mFf0QJqZmZk9JvRA4XoUroM49EDNzMzMYFn0QLgehevZnPRAZmZmZsZ+9EC4HoXrhYD0QAAAAAAYivRA4XoUrquL9EDNzMzM8IP0QMP1KFxDefRA",
          "dtype": "f8"
         },
         "yaxis": "y"
        },
        {
         "hovertemplate": "Data / Date=2025-04-05<br>Hora do Dia / Hour of Day=%{x}<br>Preço Médio (USD) / Avg. Price (USD)=%{y}<extra></extra>",
         "legendgroup": "2025-04-05",
         "line": {
          "color": "#FFA15A",
          "dash": "solid"
         },
         "marker": {
          "symbol": "circle"
         },
         "mode": "lines",
         "name": "2025-04-05",
         "orientation": "v",
         "showlegend": true,
         "type": "scatter",
         "x": {
          "bdata": "AAAAAAEAAAACAAAAAwAAAAQAAAAFAAAABgAAAAcAAAAIAAAACQAAAAoAAAALAAAADAAAAA0AAAAOAAAADwAAABAAAAARAAAAEgAAABMAAAAUAAAAFQAAABYAAAAXAAAA",
          "dtype": "i4"
         },
         "xaxis": "x",
         "y": {
          "bdata": "w/UoXP9y9EB7FK5HCX/0QClcj8JdfvRAPQrXo2Bp9EBSuB6Fp2z0QDMzMzMXbfRAj8L1KGhf9ECuR+F6NGL0QEjhehRGYvRAH4XrUdx19EAAAAAAUGr0QI/C9Si4XvRAj8L1KFRT9ECkcD0KgzL0QHE9CtfHPPRAcT0K17Mp9EAUrkfhwjH0QDMzMzPPOfRAUrgehYNE9EC4HoXrzTj0QMP1KFyDRvRAmpmZmc089EDD9Shcl030QLgehev1YvRA",
          "dtype": "f8"
         },
         "yaxis": "y"
        },
        {
         "hovertemplate": "Data / Date=2025-04-06<br>Hora do Dia / Hour of Day=%{x}<br>Preço Médio (USD) / Avg. Price (USD)=%{y}<extra></extra>",
         "legendgroup": "2025-04-06",
         "line": {
          "color": "#19d3f3",
          "dash": "solid"
         },
         "marker": {
          "symbol": "circle"
         },
         "mode": "lines",
         "name": "2025-04-06",
         "orientation": "v",
         "showlegend": true,
         "type": "scatter",
         "x": {
          "bdata": "AAAAAAEAAAACAAAAAwAAAAQAAAAFAAAABgAAAAcAAAAIAAAACQAAAAoAAAALAAAADAAAAA0AAAAOAAAADwAAABAAAAARAAAAEgAAABMAAAAUAAAAFQAAABYAAAAXAAAA",
          "dtype": "i4"
         },
         "xaxis": "x",
         "y": {
          "bdata": "XI/C9XBi9EBSuB6FC130QJqZmZmZVPRA9ihcjyZX9EAzMzMzB2H0QD0K16PwXfRACtejcIFJ9EB7FK5HYUP0QKRwPQrzQvRAAAAAAFxF9ECF61G4cjj0QPYoXI9KN/RAH4XrUfQt9EAzMzMz9xX0QHsUrkdFLPRAFa5H4b4l9EAAAAAA2AH0QOF6FK6DuPNASOF6FK5L80BxPQrXy23zQFK4HoUHPvNAAAAAAHhD80DsUbgesQnzQOtRuB7ZIfNA",
          "dtype": "f8"
         },
         "yaxis": "y"
        },
        {
         "hovertemplate": "Data / Date=2025-04-07<br>Hora do Dia / Hour of Day=%{x}<br>Preço Médio (USD) / Avg. Price (USD)=%{y}<extra></extra>",
         "legendgroup": "2025-04-07",
         "line": {
          "color": "#FF6692",
          "dash": "solid"
         },
         "marker": {
          "symbol": "circle"
         },
         "mode": "lines",
         "name": "2025-04-07",
         "orientation": "v",
         "showlegend": true,
         "type": "scatter",
         "x": {
          "bdata": "AAAAAAEAAAACAAAAAwAAAAQAAAAFAAAABgAAAAcAAAAIAAAACQAAAAoAAAALAAAADAAAAA0AAAAOAAAADwAAABAAAAARAAAAEgAAABMAAAAUAAAAFQAAABYAAAAXAAAA",
          "dtype": "i4"
         },
         "xaxis": "x",
         "y": {
          "bdata": "W4/C9Rwc80DXo3A9pk/zQJqZmZlhI/NAAAAAAMz18kDNzMzMpMfyQI/C9SjgxPJASOF6FB4+8kCamZmZHVLyQB+F61HYmvJA9ihcj4ac8kBxPQrXK8nyQFyPwvUYtvJAj8L1KNTd8kCF61G4Sh7zQFyPwvWkSfNAw/UoXJMm80Bcj8L1uOTyQJqZmZl5S/NA61G4Hlkn80DXo3A9ChDzQLgehetJRPNAZmZmZt5V80D2KFyPFoTzQFyPwvVwUvNA",
          "dtype": "f8"
         },
         "yaxis": "y"
        },
        {
         "hovertemplate": "Data / Date=2025-04-08<br>Hora do Dia / Hour of Day=%{x}<br>Preço Médio (USD) / Avg. Price (USD)=%{y}<extra></extra>",
         "legendgroup": "2025-04-08",
         "line": {
          "color": "#B6E880",
          "dash": "solid"
         },
         "marker": {
          "symbol": "circle"
         },
         "mode": "lines",
         "name": "2025-04-08",
         "orientation": "v",
         "showlegend": true,
         "type": "scatter",
         "x": {
          "bdata": "AAAAAAEAAAACAAAAAwAAAAQAAAAFAAAABgAAAAcAAAAIAAAACQAAAAoAAAALAAAADAAAAA0AAAAOAAAADwAAABAAAAARAAAAEgAAAA==",
          "dtype": "i4"
         },
         "xaxis": "x",
         "y": {
          "bdata": "uB6F611J80B7FK5HIazzQJqZmZn1gvNAhetRuPqA80AzMzMzh5nzQArXo3B5fvNAPQrXo4Bk80DD9Shcl2bzQArXo3AVUvNAPQrXo1BC80AK16NwaUjzQJqZmZk9hfNA7FG4HhF880BSuB6F03/zQOF6FK7fJvNAw/UoXFMo80AAAAAA/OLyQI/C9SiQv/JApHA9CjvW8kA=",
          "dtype": "f8"
         },
         "yaxis": "y"
        }
       ],
       "layout": {
        "font": {
         "color": "white"
        },
        "height": 800,
        "images": [
         {
          "sizex": 0.08,
          "sizey": 0.08,
          "source": "/Users/rodrigocampos/Documents/Bitcoin/project/src/visualizations/BTC_black.png",
          "x": 0.008,
          "xanchor": "left",
          "xref": "paper",
          "y": 1.06,
          "yanchor": "top",
          "yref": "paper"
         }
        ],
        "legend": {
         "title": {
          "text": "Data"
         },
         "tracegroupgap": 0
        },
        "paper_bgcolor": "black",
        "plot_bgcolor": "black",
        "template": {
         "data": {
          "bar": [
           {
            "error_x": {
             "color": "#f2f5fa"
            },
            "error_y": {
             "color": "#f2f5fa"
            },
            "marker": {
             "line": {
              "color": "rgb(17,17,17)",
              "width": 0.5
             },
             "pattern": {
              "fillmode": "overlay",
              "size": 10,
              "solidity": 0.2
             }
            },
            "type": "bar"
           }
          ],
          "barpolar": [
           {
            "marker": {
             "line": {
              "color": "rgb(17,17,17)",
              "width": 0.5
             },
             "pattern": {
              "fillmode": "overlay",
              "size": 10,
              "solidity": 0.2
             }
            },
            "type": "barpolar"
           }
          ],
          "carpet": [
           {
            "aaxis": {
             "endlinecolor": "#A2B1C6",
             "gridcolor": "#506784",
             "linecolor": "#506784",
             "minorgridcolor": "#506784",
             "startlinecolor": "#A2B1C6"
            },
            "baxis": {
             "endlinecolor": "#A2B1C6",
             "gridcolor": "#506784",
             "linecolor": "#506784",
             "minorgridcolor": "#506784",
             "startlinecolor": "#A2B1C6"
            },
            "type": "carpet"
           }
          ],
          "choropleth": [
           {
            "colorbar": {
             "outlinewidth": 0,
             "ticks": ""
            },
            "type": "choropleth"
           }
          ],
          "contour": [
           {
            "colorbar": {
             "outlinewidth": 0,
             "ticks": ""
            },
            "colorscale": [
             [
              0,
              "#0d0887"
             ],
             [
              0.1111111111111111,
              "#46039f"
             ],
             [
              0.2222222222222222,
              "#7201a8"
             ],
             [
              0.3333333333333333,
              "#9c179e"
             ],
             [
              0.4444444444444444,
              "#bd3786"
             ],
             [
              0.5555555555555556,
              "#d8576b"
             ],
             [
              0.6666666666666666,
              "#ed7953"
             ],
             [
              0.7777777777777778,
              "#fb9f3a"
             ],
             [
              0.8888888888888888,
              "#fdca26"
             ],
             [
              1,
              "#f0f921"
             ]
            ],
            "type": "contour"
           }
          ],
          "contourcarpet": [
           {
            "colorbar": {
             "outlinewidth": 0,
             "ticks": ""
            },
            "type": "contourcarpet"
           }
          ],
          "heatmap": [
           {
            "colorbar": {
             "outlinewidth": 0,
             "ticks": ""
            },
            "colorscale": [
             [
              0,
              "#0d0887"
             ],
             [
              0.1111111111111111,
              "#46039f"
             ],
             [
              0.2222222222222222,
              "#7201a8"
             ],
             [
              0.3333333333333333,
              "#9c179e"
             ],
             [
              0.4444444444444444,
              "#bd3786"
             ],
             [
              0.5555555555555556,
              "#d8576b"
             ],
             [
              0.6666666666666666,
              "#ed7953"
             ],
             [
              0.7777777777777778,
              "#fb9f3a"
             ],
             [
              0.8888888888888888,
              "#fdca26"
             ],
             [
              1,
              "#f0f921"
             ]
            ],
            "type": "heatmap"
           }
          ],
          "histogram": [
           {
            "marker": {
             "pattern": {
              "fillmode": "overlay",
              "size": 10,
              "solidity": 0.2
             }
            },
            "type": "histogram"
           }
          ],
          "histogram2d": [
           {
            "colorbar": {
             "outlinewidth": 0,
             "ticks": ""
            },
            "colorscale": [
             [
              0,
              "#0d0887"
             ],
             [
              0.1111111111111111,
              "#46039f"
             ],
             [
              0.2222222222222222,
              "#7201a8"
             ],
             [
              0.3333333333333333,
              "#9c179e"
             ],
             [
              0.4444444444444444,
              "#bd3786"
             ],
             [
              0.5555555555555556,
              "#d8576b"
             ],
             [
              0.6666666666666666,
              "#ed7953"
             ],
             [
              0.7777777777777778,
              "#fb9f3a"
             ],
             [
              0.8888888888888888,
              "#fdca26"
             ],
             [
              1,
              "#f0f921"
             ]
            ],
            "type": "histogram2d"
           }
          ],
          "histogram2dcontour": [
           {
            "colorbar": {
             "outlinewidth": 0,
             "ticks": ""
            },
            "colorscale": [
             [
              0,
              "#0d0887"
             ],
             [
              0.1111111111111111,
              "#46039f"
             ],
             [
              0.2222222222222222,
              "#7201a8"
             ],
             [
              0.3333333333333333,
              "#9c179e"
             ],
             [
              0.4444444444444444,
              "#bd3786"
             ],
             [
              0.5555555555555556,
              "#d8576b"
             ],
             [
              0.6666666666666666,
              "#ed7953"
             ],
             [
              0.7777777777777778,
              "#fb9f3a"
             ],
             [
              0.8888888888888888,
              "#fdca26"
             ],
             [
              1,
              "#f0f921"
             ]
            ],
            "type": "histogram2dcontour"
           }
          ],
          "mesh3d": [
           {
            "colorbar": {
             "outlinewidth": 0,
             "ticks": ""
            },
            "type": "mesh3d"
           }
          ],
          "parcoords": [
           {
            "line": {
             "colorbar": {
              "outlinewidth": 0,
              "ticks": ""
             }
            },
            "type": "parcoords"
           }
          ],
          "pie": [
           {
            "automargin": true,
            "type": "pie"
           }
          ],
          "scatter": [
           {
            "marker": {
             "line": {
              "color": "#283442"
             }
            },
            "type": "scatter"
           }
          ],
          "scatter3d": [
           {
            "line": {
             "colorbar": {
              "outlinewidth": 0,
              "ticks": ""
             }
            },
            "marker": {
             "colorbar": {
              "outlinewidth": 0,
              "ticks": ""
             }
            },
            "type": "scatter3d"
           }
          ],
          "scattercarpet": [
           {
            "marker": {
             "colorbar": {
              "outlinewidth": 0,
              "ticks": ""
             }
            },
            "type": "scattercarpet"
           }
          ],
          "scattergeo": [
           {
            "marker": {
             "colorbar": {
              "outlinewidth": 0,
              "ticks": ""
             }
            },
            "type": "scattergeo"
           }
          ],
          "scattergl": [
           {
            "marker": {
             "line": {
              "color": "#283442"
             }
            },
            "type": "scattergl"
           }
          ],
          "scattermap": [
           {
            "marker": {
             "colorbar": {
              "outlinewidth": 0,
              "ticks": ""
             }
            },
            "type": "scattermap"
           }
          ],
          "scattermapbox": [
           {
            "marker": {
             "colorbar": {
              "outlinewidth": 0,
              "ticks": ""
             }
            },
            "type": "scattermapbox"
           }
          ],
          "scatterpolar": [
           {
            "marker": {
             "colorbar": {
              "outlinewidth": 0,
              "ticks": ""
             }
            },
            "type": "scatterpolar"
           }
          ],
          "scatterpolargl": [
           {
            "marker": {
             "colorbar": {
              "outlinewidth": 0,
              "ticks": ""
             }
            },
            "type": "scatterpolargl"
           }
          ],
          "scatterternary": [
           {
            "marker": {
             "colorbar": {
              "outlinewidth": 0,
              "ticks": ""
             }
            },
            "type": "scatterternary"
           }
          ],
          "surface": [
           {
            "colorbar": {
             "outlinewidth": 0,
             "ticks": ""
            },
            "colorscale": [
             [
              0,
              "#0d0887"
             ],
             [
              0.1111111111111111,
              "#46039f"
             ],
             [
              0.2222222222222222,
              "#7201a8"
             ],
             [
              0.3333333333333333,
              "#9c179e"
             ],
             [
              0.4444444444444444,
              "#bd3786"
             ],
             [
              0.5555555555555556,
              "#d8576b"
             ],
             [
              0.6666666666666666,
              "#ed7953"
             ],
             [
              0.7777777777777778,
              "#fb9f3a"
             ],
             [
              0.8888888888888888,
              "#fdca26"
             ],
             [
              1,
              "#f0f921"
             ]
            ],
            "type": "surface"
           }
          ],
          "table": [
           {
            "cells": {
             "fill": {
              "color": "#506784"
             },
             "line": {
              "color": "rgb(17,17,17)"
             }
            },
            "header": {
             "fill": {
              "color": "#2a3f5f"
             },
             "line": {
              "color": "rgb(17,17,17)"
             }
            },
            "type": "table"
           }
          ]
         },
         "layout": {
          "annotationdefaults": {
           "arrowcolor": "#f2f5fa",
           "arrowhead": 0,
           "arrowwidth": 1
          },
          "autotypenumbers": "strict",
          "coloraxis": {
           "colorbar": {
            "outlinewidth": 0,
            "ticks": ""
           }
          },
          "colorscale": {
           "diverging": [
            [
             0,
             "#8e0152"
            ],
            [
             0.1,
             "#c51b7d"
            ],
            [
             0.2,
             "#de77ae"
            ],
            [
             0.3,
             "#f1b6da"
            ],
            [
             0.4,
             "#fde0ef"
            ],
            [
             0.5,
             "#f7f7f7"
            ],
            [
             0.6,
             "#e6f5d0"
            ],
            [
             0.7,
             "#b8e186"
            ],
            [
             0.8,
             "#7fbc41"
            ],
            [
             0.9,
             "#4d9221"
            ],
            [
             1,
             "#276419"
            ]
           ],
           "sequential": [
            [
             0,
             "#0d0887"
            ],
            [
             0.1111111111111111,
             "#46039f"
            ],
            [
             0.2222222222222222,
             "#7201a8"
            ],
            [
             0.3333333333333333,
             "#9c179e"
            ],
            [
             0.4444444444444444,
             "#bd3786"
            ],
            [
             0.5555555555555556,
             "#d8576b"
            ],
            [
             0.6666666666666666,
             "#ed7953"
            ],
            [
             0.7777777777777778,
             "#fb9f3a"
            ],
            [
             0.8888888888888888,
             "#fdca26"
            ],
            [
             1,
             "#f0f921"
            ]
           ],
           "sequentialminus": [
            [
             0,
             "#0d0887"
            ],
            [
             0.1111111111111111,
             "#46039f"
            ],
            [
             0.2222222222222222,
             "#7201a8"
            ],
            [
             0.3333333333333333,
             "#9c179e"
            ],
            [
             0.4444444444444444,
             "#bd3786"
            ],
            [
             0.5555555555555556,
             "#d8576b"
            ],
            [
             0.6666666666666666,
             "#ed7953"
            ],
            [
             0.7777777777777778,
             "#fb9f3a"
            ],
            [
             0.8888888888888888,
             "#fdca26"
            ],
            [
             1,
             "#f0f921"
            ]
           ]
          },
          "colorway": [
           "#636efa",
           "#EF553B",
           "#00cc96",
           "#ab63fa",
           "#FFA15A",
           "#19d3f3",
           "#FF6692",
           "#B6E880",
           "#FF97FF",
           "#FECB52"
          ],
          "font": {
           "color": "#f2f5fa"
          },
          "geo": {
           "bgcolor": "rgb(17,17,17)",
           "lakecolor": "rgb(17,17,17)",
           "landcolor": "rgb(17,17,17)",
           "showlakes": true,
           "showland": true,
           "subunitcolor": "#506784"
          },
          "hoverlabel": {
           "align": "left"
          },
          "hovermode": "closest",
          "mapbox": {
           "style": "dark"
          },
          "paper_bgcolor": "rgb(17,17,17)",
          "plot_bgcolor": "rgb(17,17,17)",
          "polar": {
           "angularaxis": {
            "gridcolor": "#506784",
            "linecolor": "#506784",
            "ticks": ""
           },
           "bgcolor": "rgb(17,17,17)",
           "radialaxis": {
            "gridcolor": "#506784",
            "linecolor": "#506784",
            "ticks": ""
           }
          },
          "scene": {
           "xaxis": {
            "backgroundcolor": "rgb(17,17,17)",
            "gridcolor": "#506784",
            "gridwidth": 2,
            "linecolor": "#506784",
            "showbackground": true,
            "ticks": "",
            "zerolinecolor": "#C8D4E3"
           },
           "yaxis": {
            "backgroundcolor": "rgb(17,17,17)",
            "gridcolor": "#506784",
            "gridwidth": 2,
            "linecolor": "#506784",
            "showbackground": true,
            "ticks": "",
            "zerolinecolor": "#C8D4E3"
           },
           "zaxis": {
            "backgroundcolor": "rgb(17,17,17)",
            "gridcolor": "#506784",
            "gridwidth": 2,
            "linecolor": "#506784",
            "showbackground": true,
            "ticks": "",
            "zerolinecolor": "#C8D4E3"
           }
          },
          "shapedefaults": {
           "line": {
            "color": "#f2f5fa"
           }
          },
          "sliderdefaults": {
           "bgcolor": "#C8D4E3",
           "bordercolor": "rgb(17,17,17)",
           "borderwidth": 1,
           "tickwidth": 0
          },
          "ternary": {
           "aaxis": {
            "gridcolor": "#506784",
            "linecolor": "#506784",
            "ticks": ""
           },
           "baxis": {
            "gridcolor": "#506784",
            "linecolor": "#506784",
            "ticks": ""
           },
           "bgcolor": "rgb(17,17,17)",
           "caxis": {
            "gridcolor": "#506784",
            "linecolor": "#506784",
            "ticks": ""
           }
          },
          "title": {
           "x": 0.05
          },
          "updatemenudefaults": {
           "bgcolor": "#506784",
           "borderwidth": 0
          },
          "xaxis": {
           "automargin": true,
           "gridcolor": "#283442",
           "linecolor": "#506784",
           "ticks": "",
           "title": {
            "standoff": 15
           },
           "zerolinecolor": "#283442",
           "zerolinewidth": 2
          },
          "yaxis": {
           "automargin": true,
           "gridcolor": "#283442",
           "linecolor": "#506784",
           "ticks": "",
           "title": {
            "standoff": 15
           },
           "zerolinecolor": "#283442",
           "zerolinewidth": 2
          }
         }
        },
        "title": {
         "text": "<b><span style='font-size:22px;'>Análise Intra-Diária: Preço Médio por Hora (2025)</span></b>",
         "x": 0.5,
         "xanchor": "center",
         "y": 0.95,
         "yanchor": "top"
        },
        "xaxis": {
         "anchor": "y",
         "domain": [
          0,
          1
         ],
         "dtick": 1,
         "title": {
          "text": "Hora do Dia / Hour of Day"
         }
        },
        "yaxis": {
         "anchor": "x",
         "domain": [
          0,
          1
         ],
         "title": {
          "text": "Preço do Bitcoin - USD / Bitcoin Price - USD"
         }
        }
       }
      }
     },
     "metadata": {},
     "output_type": "display_data"
    }
   ],
   "source": [
    "plot_intraday_price_by_hour(\n",
    "    df=df_seasonal,\n",
    "    year_filter=2025,\n",
    "    image_path=\"/Users/rodrigocampos/Documents/Bitcoin/project/src/visualizations/BTC_black.png\"\n",
    ")"
   ]
  },
  {
   "cell_type": "code",
   "execution_count": 41,
   "metadata": {},
   "outputs": [
    {
     "data": {
      "application/vnd.plotly.v1+json": {
       "config": {
        "plotlyServerURL": "https://plot.ly"
       },
       "data": [
        {
         "hovertemplate": "Trimestre=%{x}<br>Preço Médio (USD)=%{y}<extra></extra>",
         "legendgroup": "",
         "line": {
          "color": "#636efa",
          "dash": "solid"
         },
         "marker": {
          "symbol": "circle"
         },
         "mode": "lines",
         "name": "",
         "orientation": "v",
         "showlegend": false,
         "type": "scatter",
         "x": [
          "2025-04-01T00:00:00.000000000"
         ],
         "xaxis": "x",
         "y": {
          "bdata": "acVFIGwZ9EA=",
          "dtype": "f8"
         },
         "yaxis": "y"
        }
       ],
       "layout": {
        "legend": {
         "tracegroupgap": 0
        },
        "template": {
         "data": {
          "bar": [
           {
            "error_x": {
             "color": "#f2f5fa"
            },
            "error_y": {
             "color": "#f2f5fa"
            },
            "marker": {
             "line": {
              "color": "rgb(17,17,17)",
              "width": 0.5
             },
             "pattern": {
              "fillmode": "overlay",
              "size": 10,
              "solidity": 0.2
             }
            },
            "type": "bar"
           }
          ],
          "barpolar": [
           {
            "marker": {
             "line": {
              "color": "rgb(17,17,17)",
              "width": 0.5
             },
             "pattern": {
              "fillmode": "overlay",
              "size": 10,
              "solidity": 0.2
             }
            },
            "type": "barpolar"
           }
          ],
          "carpet": [
           {
            "aaxis": {
             "endlinecolor": "#A2B1C6",
             "gridcolor": "#506784",
             "linecolor": "#506784",
             "minorgridcolor": "#506784",
             "startlinecolor": "#A2B1C6"
            },
            "baxis": {
             "endlinecolor": "#A2B1C6",
             "gridcolor": "#506784",
             "linecolor": "#506784",
             "minorgridcolor": "#506784",
             "startlinecolor": "#A2B1C6"
            },
            "type": "carpet"
           }
          ],
          "choropleth": [
           {
            "colorbar": {
             "outlinewidth": 0,
             "ticks": ""
            },
            "type": "choropleth"
           }
          ],
          "contour": [
           {
            "colorbar": {
             "outlinewidth": 0,
             "ticks": ""
            },
            "colorscale": [
             [
              0,
              "#0d0887"
             ],
             [
              0.1111111111111111,
              "#46039f"
             ],
             [
              0.2222222222222222,
              "#7201a8"
             ],
             [
              0.3333333333333333,
              "#9c179e"
             ],
             [
              0.4444444444444444,
              "#bd3786"
             ],
             [
              0.5555555555555556,
              "#d8576b"
             ],
             [
              0.6666666666666666,
              "#ed7953"
             ],
             [
              0.7777777777777778,
              "#fb9f3a"
             ],
             [
              0.8888888888888888,
              "#fdca26"
             ],
             [
              1,
              "#f0f921"
             ]
            ],
            "type": "contour"
           }
          ],
          "contourcarpet": [
           {
            "colorbar": {
             "outlinewidth": 0,
             "ticks": ""
            },
            "type": "contourcarpet"
           }
          ],
          "heatmap": [
           {
            "colorbar": {
             "outlinewidth": 0,
             "ticks": ""
            },
            "colorscale": [
             [
              0,
              "#0d0887"
             ],
             [
              0.1111111111111111,
              "#46039f"
             ],
             [
              0.2222222222222222,
              "#7201a8"
             ],
             [
              0.3333333333333333,
              "#9c179e"
             ],
             [
              0.4444444444444444,
              "#bd3786"
             ],
             [
              0.5555555555555556,
              "#d8576b"
             ],
             [
              0.6666666666666666,
              "#ed7953"
             ],
             [
              0.7777777777777778,
              "#fb9f3a"
             ],
             [
              0.8888888888888888,
              "#fdca26"
             ],
             [
              1,
              "#f0f921"
             ]
            ],
            "type": "heatmap"
           }
          ],
          "histogram": [
           {
            "marker": {
             "pattern": {
              "fillmode": "overlay",
              "size": 10,
              "solidity": 0.2
             }
            },
            "type": "histogram"
           }
          ],
          "histogram2d": [
           {
            "colorbar": {
             "outlinewidth": 0,
             "ticks": ""
            },
            "colorscale": [
             [
              0,
              "#0d0887"
             ],
             [
              0.1111111111111111,
              "#46039f"
             ],
             [
              0.2222222222222222,
              "#7201a8"
             ],
             [
              0.3333333333333333,
              "#9c179e"
             ],
             [
              0.4444444444444444,
              "#bd3786"
             ],
             [
              0.5555555555555556,
              "#d8576b"
             ],
             [
              0.6666666666666666,
              "#ed7953"
             ],
             [
              0.7777777777777778,
              "#fb9f3a"
             ],
             [
              0.8888888888888888,
              "#fdca26"
             ],
             [
              1,
              "#f0f921"
             ]
            ],
            "type": "histogram2d"
           }
          ],
          "histogram2dcontour": [
           {
            "colorbar": {
             "outlinewidth": 0,
             "ticks": ""
            },
            "colorscale": [
             [
              0,
              "#0d0887"
             ],
             [
              0.1111111111111111,
              "#46039f"
             ],
             [
              0.2222222222222222,
              "#7201a8"
             ],
             [
              0.3333333333333333,
              "#9c179e"
             ],
             [
              0.4444444444444444,
              "#bd3786"
             ],
             [
              0.5555555555555556,
              "#d8576b"
             ],
             [
              0.6666666666666666,
              "#ed7953"
             ],
             [
              0.7777777777777778,
              "#fb9f3a"
             ],
             [
              0.8888888888888888,
              "#fdca26"
             ],
             [
              1,
              "#f0f921"
             ]
            ],
            "type": "histogram2dcontour"
           }
          ],
          "mesh3d": [
           {
            "colorbar": {
             "outlinewidth": 0,
             "ticks": ""
            },
            "type": "mesh3d"
           }
          ],
          "parcoords": [
           {
            "line": {
             "colorbar": {
              "outlinewidth": 0,
              "ticks": ""
             }
            },
            "type": "parcoords"
           }
          ],
          "pie": [
           {
            "automargin": true,
            "type": "pie"
           }
          ],
          "scatter": [
           {
            "marker": {
             "line": {
              "color": "#283442"
             }
            },
            "type": "scatter"
           }
          ],
          "scatter3d": [
           {
            "line": {
             "colorbar": {
              "outlinewidth": 0,
              "ticks": ""
             }
            },
            "marker": {
             "colorbar": {
              "outlinewidth": 0,
              "ticks": ""
             }
            },
            "type": "scatter3d"
           }
          ],
          "scattercarpet": [
           {
            "marker": {
             "colorbar": {
              "outlinewidth": 0,
              "ticks": ""
             }
            },
            "type": "scattercarpet"
           }
          ],
          "scattergeo": [
           {
            "marker": {
             "colorbar": {
              "outlinewidth": 0,
              "ticks": ""
             }
            },
            "type": "scattergeo"
           }
          ],
          "scattergl": [
           {
            "marker": {
             "line": {
              "color": "#283442"
             }
            },
            "type": "scattergl"
           }
          ],
          "scattermap": [
           {
            "marker": {
             "colorbar": {
              "outlinewidth": 0,
              "ticks": ""
             }
            },
            "type": "scattermap"
           }
          ],
          "scattermapbox": [
           {
            "marker": {
             "colorbar": {
              "outlinewidth": 0,
              "ticks": ""
             }
            },
            "type": "scattermapbox"
           }
          ],
          "scatterpolar": [
           {
            "marker": {
             "colorbar": {
              "outlinewidth": 0,
              "ticks": ""
             }
            },
            "type": "scatterpolar"
           }
          ],
          "scatterpolargl": [
           {
            "marker": {
             "colorbar": {
              "outlinewidth": 0,
              "ticks": ""
             }
            },
            "type": "scatterpolargl"
           }
          ],
          "scatterternary": [
           {
            "marker": {
             "colorbar": {
              "outlinewidth": 0,
              "ticks": ""
             }
            },
            "type": "scatterternary"
           }
          ],
          "surface": [
           {
            "colorbar": {
             "outlinewidth": 0,
             "ticks": ""
            },
            "colorscale": [
             [
              0,
              "#0d0887"
             ],
             [
              0.1111111111111111,
              "#46039f"
             ],
             [
              0.2222222222222222,
              "#7201a8"
             ],
             [
              0.3333333333333333,
              "#9c179e"
             ],
             [
              0.4444444444444444,
              "#bd3786"
             ],
             [
              0.5555555555555556,
              "#d8576b"
             ],
             [
              0.6666666666666666,
              "#ed7953"
             ],
             [
              0.7777777777777778,
              "#fb9f3a"
             ],
             [
              0.8888888888888888,
              "#fdca26"
             ],
             [
              1,
              "#f0f921"
             ]
            ],
            "type": "surface"
           }
          ],
          "table": [
           {
            "cells": {
             "fill": {
              "color": "#506784"
             },
             "line": {
              "color": "rgb(17,17,17)"
             }
            },
            "header": {
             "fill": {
              "color": "#2a3f5f"
             },
             "line": {
              "color": "rgb(17,17,17)"
             }
            },
            "type": "table"
           }
          ]
         },
         "layout": {
          "annotationdefaults": {
           "arrowcolor": "#f2f5fa",
           "arrowhead": 0,
           "arrowwidth": 1
          },
          "autotypenumbers": "strict",
          "coloraxis": {
           "colorbar": {
            "outlinewidth": 0,
            "ticks": ""
           }
          },
          "colorscale": {
           "diverging": [
            [
             0,
             "#8e0152"
            ],
            [
             0.1,
             "#c51b7d"
            ],
            [
             0.2,
             "#de77ae"
            ],
            [
             0.3,
             "#f1b6da"
            ],
            [
             0.4,
             "#fde0ef"
            ],
            [
             0.5,
             "#f7f7f7"
            ],
            [
             0.6,
             "#e6f5d0"
            ],
            [
             0.7,
             "#b8e186"
            ],
            [
             0.8,
             "#7fbc41"
            ],
            [
             0.9,
             "#4d9221"
            ],
            [
             1,
             "#276419"
            ]
           ],
           "sequential": [
            [
             0,
             "#0d0887"
            ],
            [
             0.1111111111111111,
             "#46039f"
            ],
            [
             0.2222222222222222,
             "#7201a8"
            ],
            [
             0.3333333333333333,
             "#9c179e"
            ],
            [
             0.4444444444444444,
             "#bd3786"
            ],
            [
             0.5555555555555556,
             "#d8576b"
            ],
            [
             0.6666666666666666,
             "#ed7953"
            ],
            [
             0.7777777777777778,
             "#fb9f3a"
            ],
            [
             0.8888888888888888,
             "#fdca26"
            ],
            [
             1,
             "#f0f921"
            ]
           ],
           "sequentialminus": [
            [
             0,
             "#0d0887"
            ],
            [
             0.1111111111111111,
             "#46039f"
            ],
            [
             0.2222222222222222,
             "#7201a8"
            ],
            [
             0.3333333333333333,
             "#9c179e"
            ],
            [
             0.4444444444444444,
             "#bd3786"
            ],
            [
             0.5555555555555556,
             "#d8576b"
            ],
            [
             0.6666666666666666,
             "#ed7953"
            ],
            [
             0.7777777777777778,
             "#fb9f3a"
            ],
            [
             0.8888888888888888,
             "#fdca26"
            ],
            [
             1,
             "#f0f921"
            ]
           ]
          },
          "colorway": [
           "#636efa",
           "#EF553B",
           "#00cc96",
           "#ab63fa",
           "#FFA15A",
           "#19d3f3",
           "#FF6692",
           "#B6E880",
           "#FF97FF",
           "#FECB52"
          ],
          "font": {
           "color": "#f2f5fa"
          },
          "geo": {
           "bgcolor": "rgb(17,17,17)",
           "lakecolor": "rgb(17,17,17)",
           "landcolor": "rgb(17,17,17)",
           "showlakes": true,
           "showland": true,
           "subunitcolor": "#506784"
          },
          "hoverlabel": {
           "align": "left"
          },
          "hovermode": "closest",
          "mapbox": {
           "style": "dark"
          },
          "paper_bgcolor": "rgb(17,17,17)",
          "plot_bgcolor": "rgb(17,17,17)",
          "polar": {
           "angularaxis": {
            "gridcolor": "#506784",
            "linecolor": "#506784",
            "ticks": ""
           },
           "bgcolor": "rgb(17,17,17)",
           "radialaxis": {
            "gridcolor": "#506784",
            "linecolor": "#506784",
            "ticks": ""
           }
          },
          "scene": {
           "xaxis": {
            "backgroundcolor": "rgb(17,17,17)",
            "gridcolor": "#506784",
            "gridwidth": 2,
            "linecolor": "#506784",
            "showbackground": true,
            "ticks": "",
            "zerolinecolor": "#C8D4E3"
           },
           "yaxis": {
            "backgroundcolor": "rgb(17,17,17)",
            "gridcolor": "#506784",
            "gridwidth": 2,
            "linecolor": "#506784",
            "showbackground": true,
            "ticks": "",
            "zerolinecolor": "#C8D4E3"
           },
           "zaxis": {
            "backgroundcolor": "rgb(17,17,17)",
            "gridcolor": "#506784",
            "gridwidth": 2,
            "linecolor": "#506784",
            "showbackground": true,
            "ticks": "",
            "zerolinecolor": "#C8D4E3"
           }
          },
          "shapedefaults": {
           "line": {
            "color": "#f2f5fa"
           }
          },
          "sliderdefaults": {
           "bgcolor": "#C8D4E3",
           "bordercolor": "rgb(17,17,17)",
           "borderwidth": 1,
           "tickwidth": 0
          },
          "ternary": {
           "aaxis": {
            "gridcolor": "#506784",
            "linecolor": "#506784",
            "ticks": ""
           },
           "baxis": {
            "gridcolor": "#506784",
            "linecolor": "#506784",
            "ticks": ""
           },
           "bgcolor": "rgb(17,17,17)",
           "caxis": {
            "gridcolor": "#506784",
            "linecolor": "#506784",
            "ticks": ""
           }
          },
          "title": {
           "x": 0.05
          },
          "updatemenudefaults": {
           "bgcolor": "#506784",
           "borderwidth": 0
          },
          "xaxis": {
           "automargin": true,
           "gridcolor": "#283442",
           "linecolor": "#506784",
           "ticks": "",
           "title": {
            "standoff": 15
           },
           "zerolinecolor": "#283442",
           "zerolinewidth": 2
          },
          "yaxis": {
           "automargin": true,
           "gridcolor": "#283442",
           "linecolor": "#506784",
           "ticks": "",
           "title": {
            "standoff": 15
           },
           "zerolinecolor": "#283442",
           "zerolinewidth": 2
          }
         }
        },
        "title": {
         "text": "<b>Preço Médio do Bitcoin por Trimestre</b>"
        },
        "xaxis": {
         "anchor": "y",
         "domain": [
          0,
          1
         ],
         "title": {
          "text": "Trimestre"
         }
        },
        "yaxis": {
         "anchor": "x",
         "domain": [
          0,
          1
         ],
         "title": {
          "text": "Preço Médio (USD)"
         }
        }
       }
      }
     },
     "metadata": {},
     "output_type": "display_data"
    },
    {
     "data": {
      "application/vnd.plotly.v1+json": {
       "config": {
        "plotlyServerURL": "https://plot.ly"
       },
       "data": [
        {
         "hovertemplate": "Ano=2025<br>Trimestre=%{x}<br>Preço Médio (USD)=%{y}<extra></extra>",
         "legendgroup": "2025",
         "line": {
          "color": "#636efa",
          "dash": "solid"
         },
         "marker": {
          "symbol": "circle"
         },
         "mode": "lines",
         "name": "2025",
         "orientation": "v",
         "showlegend": true,
         "type": "scatter",
         "x": {
          "bdata": "AgAAAA==",
          "dtype": "i4"
         },
         "xaxis": "x",
         "y": {
          "bdata": "acVFIGwZ9EA=",
          "dtype": "f8"
         },
         "yaxis": "y"
        }
       ],
       "layout": {
        "legend": {
         "title": {
          "text": "Ano"
         },
         "tracegroupgap": 0
        },
        "template": {
         "data": {
          "bar": [
           {
            "error_x": {
             "color": "#f2f5fa"
            },
            "error_y": {
             "color": "#f2f5fa"
            },
            "marker": {
             "line": {
              "color": "rgb(17,17,17)",
              "width": 0.5
             },
             "pattern": {
              "fillmode": "overlay",
              "size": 10,
              "solidity": 0.2
             }
            },
            "type": "bar"
           }
          ],
          "barpolar": [
           {
            "marker": {
             "line": {
              "color": "rgb(17,17,17)",
              "width": 0.5
             },
             "pattern": {
              "fillmode": "overlay",
              "size": 10,
              "solidity": 0.2
             }
            },
            "type": "barpolar"
           }
          ],
          "carpet": [
           {
            "aaxis": {
             "endlinecolor": "#A2B1C6",
             "gridcolor": "#506784",
             "linecolor": "#506784",
             "minorgridcolor": "#506784",
             "startlinecolor": "#A2B1C6"
            },
            "baxis": {
             "endlinecolor": "#A2B1C6",
             "gridcolor": "#506784",
             "linecolor": "#506784",
             "minorgridcolor": "#506784",
             "startlinecolor": "#A2B1C6"
            },
            "type": "carpet"
           }
          ],
          "choropleth": [
           {
            "colorbar": {
             "outlinewidth": 0,
             "ticks": ""
            },
            "type": "choropleth"
           }
          ],
          "contour": [
           {
            "colorbar": {
             "outlinewidth": 0,
             "ticks": ""
            },
            "colorscale": [
             [
              0,
              "#0d0887"
             ],
             [
              0.1111111111111111,
              "#46039f"
             ],
             [
              0.2222222222222222,
              "#7201a8"
             ],
             [
              0.3333333333333333,
              "#9c179e"
             ],
             [
              0.4444444444444444,
              "#bd3786"
             ],
             [
              0.5555555555555556,
              "#d8576b"
             ],
             [
              0.6666666666666666,
              "#ed7953"
             ],
             [
              0.7777777777777778,
              "#fb9f3a"
             ],
             [
              0.8888888888888888,
              "#fdca26"
             ],
             [
              1,
              "#f0f921"
             ]
            ],
            "type": "contour"
           }
          ],
          "contourcarpet": [
           {
            "colorbar": {
             "outlinewidth": 0,
             "ticks": ""
            },
            "type": "contourcarpet"
           }
          ],
          "heatmap": [
           {
            "colorbar": {
             "outlinewidth": 0,
             "ticks": ""
            },
            "colorscale": [
             [
              0,
              "#0d0887"
             ],
             [
              0.1111111111111111,
              "#46039f"
             ],
             [
              0.2222222222222222,
              "#7201a8"
             ],
             [
              0.3333333333333333,
              "#9c179e"
             ],
             [
              0.4444444444444444,
              "#bd3786"
             ],
             [
              0.5555555555555556,
              "#d8576b"
             ],
             [
              0.6666666666666666,
              "#ed7953"
             ],
             [
              0.7777777777777778,
              "#fb9f3a"
             ],
             [
              0.8888888888888888,
              "#fdca26"
             ],
             [
              1,
              "#f0f921"
             ]
            ],
            "type": "heatmap"
           }
          ],
          "histogram": [
           {
            "marker": {
             "pattern": {
              "fillmode": "overlay",
              "size": 10,
              "solidity": 0.2
             }
            },
            "type": "histogram"
           }
          ],
          "histogram2d": [
           {
            "colorbar": {
             "outlinewidth": 0,
             "ticks": ""
            },
            "colorscale": [
             [
              0,
              "#0d0887"
             ],
             [
              0.1111111111111111,
              "#46039f"
             ],
             [
              0.2222222222222222,
              "#7201a8"
             ],
             [
              0.3333333333333333,
              "#9c179e"
             ],
             [
              0.4444444444444444,
              "#bd3786"
             ],
             [
              0.5555555555555556,
              "#d8576b"
             ],
             [
              0.6666666666666666,
              "#ed7953"
             ],
             [
              0.7777777777777778,
              "#fb9f3a"
             ],
             [
              0.8888888888888888,
              "#fdca26"
             ],
             [
              1,
              "#f0f921"
             ]
            ],
            "type": "histogram2d"
           }
          ],
          "histogram2dcontour": [
           {
            "colorbar": {
             "outlinewidth": 0,
             "ticks": ""
            },
            "colorscale": [
             [
              0,
              "#0d0887"
             ],
             [
              0.1111111111111111,
              "#46039f"
             ],
             [
              0.2222222222222222,
              "#7201a8"
             ],
             [
              0.3333333333333333,
              "#9c179e"
             ],
             [
              0.4444444444444444,
              "#bd3786"
             ],
             [
              0.5555555555555556,
              "#d8576b"
             ],
             [
              0.6666666666666666,
              "#ed7953"
             ],
             [
              0.7777777777777778,
              "#fb9f3a"
             ],
             [
              0.8888888888888888,
              "#fdca26"
             ],
             [
              1,
              "#f0f921"
             ]
            ],
            "type": "histogram2dcontour"
           }
          ],
          "mesh3d": [
           {
            "colorbar": {
             "outlinewidth": 0,
             "ticks": ""
            },
            "type": "mesh3d"
           }
          ],
          "parcoords": [
           {
            "line": {
             "colorbar": {
              "outlinewidth": 0,
              "ticks": ""
             }
            },
            "type": "parcoords"
           }
          ],
          "pie": [
           {
            "automargin": true,
            "type": "pie"
           }
          ],
          "scatter": [
           {
            "marker": {
             "line": {
              "color": "#283442"
             }
            },
            "type": "scatter"
           }
          ],
          "scatter3d": [
           {
            "line": {
             "colorbar": {
              "outlinewidth": 0,
              "ticks": ""
             }
            },
            "marker": {
             "colorbar": {
              "outlinewidth": 0,
              "ticks": ""
             }
            },
            "type": "scatter3d"
           }
          ],
          "scattercarpet": [
           {
            "marker": {
             "colorbar": {
              "outlinewidth": 0,
              "ticks": ""
             }
            },
            "type": "scattercarpet"
           }
          ],
          "scattergeo": [
           {
            "marker": {
             "colorbar": {
              "outlinewidth": 0,
              "ticks": ""
             }
            },
            "type": "scattergeo"
           }
          ],
          "scattergl": [
           {
            "marker": {
             "line": {
              "color": "#283442"
             }
            },
            "type": "scattergl"
           }
          ],
          "scattermap": [
           {
            "marker": {
             "colorbar": {
              "outlinewidth": 0,
              "ticks": ""
             }
            },
            "type": "scattermap"
           }
          ],
          "scattermapbox": [
           {
            "marker": {
             "colorbar": {
              "outlinewidth": 0,
              "ticks": ""
             }
            },
            "type": "scattermapbox"
           }
          ],
          "scatterpolar": [
           {
            "marker": {
             "colorbar": {
              "outlinewidth": 0,
              "ticks": ""
             }
            },
            "type": "scatterpolar"
           }
          ],
          "scatterpolargl": [
           {
            "marker": {
             "colorbar": {
              "outlinewidth": 0,
              "ticks": ""
             }
            },
            "type": "scatterpolargl"
           }
          ],
          "scatterternary": [
           {
            "marker": {
             "colorbar": {
              "outlinewidth": 0,
              "ticks": ""
             }
            },
            "type": "scatterternary"
           }
          ],
          "surface": [
           {
            "colorbar": {
             "outlinewidth": 0,
             "ticks": ""
            },
            "colorscale": [
             [
              0,
              "#0d0887"
             ],
             [
              0.1111111111111111,
              "#46039f"
             ],
             [
              0.2222222222222222,
              "#7201a8"
             ],
             [
              0.3333333333333333,
              "#9c179e"
             ],
             [
              0.4444444444444444,
              "#bd3786"
             ],
             [
              0.5555555555555556,
              "#d8576b"
             ],
             [
              0.6666666666666666,
              "#ed7953"
             ],
             [
              0.7777777777777778,
              "#fb9f3a"
             ],
             [
              0.8888888888888888,
              "#fdca26"
             ],
             [
              1,
              "#f0f921"
             ]
            ],
            "type": "surface"
           }
          ],
          "table": [
           {
            "cells": {
             "fill": {
              "color": "#506784"
             },
             "line": {
              "color": "rgb(17,17,17)"
             }
            },
            "header": {
             "fill": {
              "color": "#2a3f5f"
             },
             "line": {
              "color": "rgb(17,17,17)"
             }
            },
            "type": "table"
           }
          ]
         },
         "layout": {
          "annotationdefaults": {
           "arrowcolor": "#f2f5fa",
           "arrowhead": 0,
           "arrowwidth": 1
          },
          "autotypenumbers": "strict",
          "coloraxis": {
           "colorbar": {
            "outlinewidth": 0,
            "ticks": ""
           }
          },
          "colorscale": {
           "diverging": [
            [
             0,
             "#8e0152"
            ],
            [
             0.1,
             "#c51b7d"
            ],
            [
             0.2,
             "#de77ae"
            ],
            [
             0.3,
             "#f1b6da"
            ],
            [
             0.4,
             "#fde0ef"
            ],
            [
             0.5,
             "#f7f7f7"
            ],
            [
             0.6,
             "#e6f5d0"
            ],
            [
             0.7,
             "#b8e186"
            ],
            [
             0.8,
             "#7fbc41"
            ],
            [
             0.9,
             "#4d9221"
            ],
            [
             1,
             "#276419"
            ]
           ],
           "sequential": [
            [
             0,
             "#0d0887"
            ],
            [
             0.1111111111111111,
             "#46039f"
            ],
            [
             0.2222222222222222,
             "#7201a8"
            ],
            [
             0.3333333333333333,
             "#9c179e"
            ],
            [
             0.4444444444444444,
             "#bd3786"
            ],
            [
             0.5555555555555556,
             "#d8576b"
            ],
            [
             0.6666666666666666,
             "#ed7953"
            ],
            [
             0.7777777777777778,
             "#fb9f3a"
            ],
            [
             0.8888888888888888,
             "#fdca26"
            ],
            [
             1,
             "#f0f921"
            ]
           ],
           "sequentialminus": [
            [
             0,
             "#0d0887"
            ],
            [
             0.1111111111111111,
             "#46039f"
            ],
            [
             0.2222222222222222,
             "#7201a8"
            ],
            [
             0.3333333333333333,
             "#9c179e"
            ],
            [
             0.4444444444444444,
             "#bd3786"
            ],
            [
             0.5555555555555556,
             "#d8576b"
            ],
            [
             0.6666666666666666,
             "#ed7953"
            ],
            [
             0.7777777777777778,
             "#fb9f3a"
            ],
            [
             0.8888888888888888,
             "#fdca26"
            ],
            [
             1,
             "#f0f921"
            ]
           ]
          },
          "colorway": [
           "#636efa",
           "#EF553B",
           "#00cc96",
           "#ab63fa",
           "#FFA15A",
           "#19d3f3",
           "#FF6692",
           "#B6E880",
           "#FF97FF",
           "#FECB52"
          ],
          "font": {
           "color": "#f2f5fa"
          },
          "geo": {
           "bgcolor": "rgb(17,17,17)",
           "lakecolor": "rgb(17,17,17)",
           "landcolor": "rgb(17,17,17)",
           "showlakes": true,
           "showland": true,
           "subunitcolor": "#506784"
          },
          "hoverlabel": {
           "align": "left"
          },
          "hovermode": "closest",
          "mapbox": {
           "style": "dark"
          },
          "paper_bgcolor": "rgb(17,17,17)",
          "plot_bgcolor": "rgb(17,17,17)",
          "polar": {
           "angularaxis": {
            "gridcolor": "#506784",
            "linecolor": "#506784",
            "ticks": ""
           },
           "bgcolor": "rgb(17,17,17)",
           "radialaxis": {
            "gridcolor": "#506784",
            "linecolor": "#506784",
            "ticks": ""
           }
          },
          "scene": {
           "xaxis": {
            "backgroundcolor": "rgb(17,17,17)",
            "gridcolor": "#506784",
            "gridwidth": 2,
            "linecolor": "#506784",
            "showbackground": true,
            "ticks": "",
            "zerolinecolor": "#C8D4E3"
           },
           "yaxis": {
            "backgroundcolor": "rgb(17,17,17)",
            "gridcolor": "#506784",
            "gridwidth": 2,
            "linecolor": "#506784",
            "showbackground": true,
            "ticks": "",
            "zerolinecolor": "#C8D4E3"
           },
           "zaxis": {
            "backgroundcolor": "rgb(17,17,17)",
            "gridcolor": "#506784",
            "gridwidth": 2,
            "linecolor": "#506784",
            "showbackground": true,
            "ticks": "",
            "zerolinecolor": "#C8D4E3"
           }
          },
          "shapedefaults": {
           "line": {
            "color": "#f2f5fa"
           }
          },
          "sliderdefaults": {
           "bgcolor": "#C8D4E3",
           "bordercolor": "rgb(17,17,17)",
           "borderwidth": 1,
           "tickwidth": 0
          },
          "ternary": {
           "aaxis": {
            "gridcolor": "#506784",
            "linecolor": "#506784",
            "ticks": ""
           },
           "baxis": {
            "gridcolor": "#506784",
            "linecolor": "#506784",
            "ticks": ""
           },
           "bgcolor": "rgb(17,17,17)",
           "caxis": {
            "gridcolor": "#506784",
            "linecolor": "#506784",
            "ticks": ""
           }
          },
          "title": {
           "x": 0.05
          },
          "updatemenudefaults": {
           "bgcolor": "#506784",
           "borderwidth": 0
          },
          "xaxis": {
           "automargin": true,
           "gridcolor": "#283442",
           "linecolor": "#506784",
           "ticks": "",
           "title": {
            "standoff": 15
           },
           "zerolinecolor": "#283442",
           "zerolinewidth": 2
          },
          "yaxis": {
           "automargin": true,
           "gridcolor": "#283442",
           "linecolor": "#506784",
           "ticks": "",
           "title": {
            "standoff": 15
           },
           "zerolinecolor": "#283442",
           "zerolinewidth": 2
          }
         }
        },
        "title": {
         "text": "<b>Padrões Sazonais Trimestrais do Bitcoin</b>"
        },
        "xaxis": {
         "anchor": "y",
         "domain": [
          0,
          1
         ],
         "title": {
          "text": "Trimestre"
         }
        },
        "yaxis": {
         "anchor": "x",
         "domain": [
          0,
          1
         ],
         "title": {
          "text": "Preço Médio (USD)"
         }
        }
       }
      }
     },
     "metadata": {},
     "output_type": "display_data"
    },
    {
     "data": {
      "application/vnd.plotly.v1+json": {
       "config": {
        "plotlyServerURL": "https://plot.ly"
       },
       "data": [
        {
         "hovertemplate": "Mês=Jan<br>Ano=%{x}<br>Preço Médio (USD)=%{y}<extra></extra>",
         "legendgroup": "",
         "line": {
          "color": "#636efa",
          "dash": "solid"
         },
         "marker": {
          "symbol": "circle"
         },
         "mode": "lines",
         "name": "",
         "orientation": "v",
         "showlegend": false,
         "type": "scatter",
         "x": {
          "bdata": "6QcAAA==",
          "dtype": "i4"
         },
         "xaxis": "x9",
         "y": {
          "bdata": "AAAAAAAA+H8=",
          "dtype": "f8"
         },
         "yaxis": "y9"
        },
        {
         "hovertemplate": "Mês=Feb<br>Ano=%{x}<br>Preço Médio (USD)=%{y}<extra></extra>",
         "legendgroup": "",
         "line": {
          "color": "#636efa",
          "dash": "solid"
         },
         "marker": {
          "symbol": "circle"
         },
         "mode": "lines",
         "name": "",
         "orientation": "v",
         "showlegend": false,
         "type": "scatter",
         "x": {
          "bdata": "6QcAAA==",
          "dtype": "i4"
         },
         "xaxis": "x10",
         "y": {
          "bdata": "AAAAAAAA+H8=",
          "dtype": "f8"
         },
         "yaxis": "y10"
        },
        {
         "hovertemplate": "Mês=Mar<br>Ano=%{x}<br>Preço Médio (USD)=%{y}<extra></extra>",
         "legendgroup": "",
         "line": {
          "color": "#636efa",
          "dash": "solid"
         },
         "marker": {
          "symbol": "circle"
         },
         "mode": "lines",
         "name": "",
         "orientation": "v",
         "showlegend": false,
         "type": "scatter",
         "x": {
          "bdata": "6QcAAA==",
          "dtype": "i4"
         },
         "xaxis": "x11",
         "y": {
          "bdata": "AAAAAAAA+H8=",
          "dtype": "f8"
         },
         "yaxis": "y11"
        },
        {
         "hovertemplate": "Mês=Apr<br>Ano=%{x}<br>Preço Médio (USD)=%{y}<extra></extra>",
         "legendgroup": "",
         "line": {
          "color": "#636efa",
          "dash": "solid"
         },
         "marker": {
          "symbol": "circle"
         },
         "mode": "lines",
         "name": "",
         "orientation": "v",
         "showlegend": false,
         "type": "scatter",
         "x": {
          "bdata": "6QcAAA==",
          "dtype": "i4"
         },
         "xaxis": "x12",
         "y": {
          "bdata": "acVFIGwZ9EA=",
          "dtype": "f8"
         },
         "yaxis": "y12"
        },
        {
         "hovertemplate": "Mês=May<br>Ano=%{x}<br>Preço Médio (USD)=%{y}<extra></extra>",
         "legendgroup": "",
         "line": {
          "color": "#636efa",
          "dash": "solid"
         },
         "marker": {
          "symbol": "circle"
         },
         "mode": "lines",
         "name": "",
         "orientation": "v",
         "showlegend": false,
         "type": "scatter",
         "x": {
          "bdata": "6QcAAA==",
          "dtype": "i4"
         },
         "xaxis": "x5",
         "y": {
          "bdata": "AAAAAAAA+H8=",
          "dtype": "f8"
         },
         "yaxis": "y5"
        },
        {
         "hovertemplate": "Mês=Jun<br>Ano=%{x}<br>Preço Médio (USD)=%{y}<extra></extra>",
         "legendgroup": "",
         "line": {
          "color": "#636efa",
          "dash": "solid"
         },
         "marker": {
          "symbol": "circle"
         },
         "mode": "lines",
         "name": "",
         "orientation": "v",
         "showlegend": false,
         "type": "scatter",
         "x": {
          "bdata": "6QcAAA==",
          "dtype": "i4"
         },
         "xaxis": "x6",
         "y": {
          "bdata": "AAAAAAAA+H8=",
          "dtype": "f8"
         },
         "yaxis": "y6"
        },
        {
         "hovertemplate": "Mês=Jul<br>Ano=%{x}<br>Preço Médio (USD)=%{y}<extra></extra>",
         "legendgroup": "",
         "line": {
          "color": "#636efa",
          "dash": "solid"
         },
         "marker": {
          "symbol": "circle"
         },
         "mode": "lines",
         "name": "",
         "orientation": "v",
         "showlegend": false,
         "type": "scatter",
         "x": {
          "bdata": "6QcAAA==",
          "dtype": "i4"
         },
         "xaxis": "x7",
         "y": {
          "bdata": "AAAAAAAA+H8=",
          "dtype": "f8"
         },
         "yaxis": "y7"
        },
        {
         "hovertemplate": "Mês=Aug<br>Ano=%{x}<br>Preço Médio (USD)=%{y}<extra></extra>",
         "legendgroup": "",
         "line": {
          "color": "#636efa",
          "dash": "solid"
         },
         "marker": {
          "symbol": "circle"
         },
         "mode": "lines",
         "name": "",
         "orientation": "v",
         "showlegend": false,
         "type": "scatter",
         "x": {
          "bdata": "6QcAAA==",
          "dtype": "i4"
         },
         "xaxis": "x8",
         "y": {
          "bdata": "AAAAAAAA+H8=",
          "dtype": "f8"
         },
         "yaxis": "y8"
        },
        {
         "hovertemplate": "Mês=Sep<br>Ano=%{x}<br>Preço Médio (USD)=%{y}<extra></extra>",
         "legendgroup": "",
         "line": {
          "color": "#636efa",
          "dash": "solid"
         },
         "marker": {
          "symbol": "circle"
         },
         "mode": "lines",
         "name": "",
         "orientation": "v",
         "showlegend": false,
         "type": "scatter",
         "x": {
          "bdata": "6QcAAA==",
          "dtype": "i4"
         },
         "xaxis": "x",
         "y": {
          "bdata": "AAAAAAAA+H8=",
          "dtype": "f8"
         },
         "yaxis": "y"
        },
        {
         "hovertemplate": "Mês=Oct<br>Ano=%{x}<br>Preço Médio (USD)=%{y}<extra></extra>",
         "legendgroup": "",
         "line": {
          "color": "#636efa",
          "dash": "solid"
         },
         "marker": {
          "symbol": "circle"
         },
         "mode": "lines",
         "name": "",
         "orientation": "v",
         "showlegend": false,
         "type": "scatter",
         "x": {
          "bdata": "6QcAAA==",
          "dtype": "i4"
         },
         "xaxis": "x2",
         "y": {
          "bdata": "AAAAAAAA+H8=",
          "dtype": "f8"
         },
         "yaxis": "y2"
        },
        {
         "hovertemplate": "Mês=Nov<br>Ano=%{x}<br>Preço Médio (USD)=%{y}<extra></extra>",
         "legendgroup": "",
         "line": {
          "color": "#636efa",
          "dash": "solid"
         },
         "marker": {
          "symbol": "circle"
         },
         "mode": "lines",
         "name": "",
         "orientation": "v",
         "showlegend": false,
         "type": "scatter",
         "x": {
          "bdata": "6QcAAA==",
          "dtype": "i4"
         },
         "xaxis": "x3",
         "y": {
          "bdata": "AAAAAAAA+H8=",
          "dtype": "f8"
         },
         "yaxis": "y3"
        },
        {
         "hovertemplate": "Mês=Dec<br>Ano=%{x}<br>Preço Médio (USD)=%{y}<extra></extra>",
         "legendgroup": "",
         "line": {
          "color": "#636efa",
          "dash": "solid"
         },
         "marker": {
          "symbol": "circle"
         },
         "mode": "lines",
         "name": "",
         "orientation": "v",
         "showlegend": false,
         "type": "scatter",
         "x": {
          "bdata": "6QcAAA==",
          "dtype": "i4"
         },
         "xaxis": "x4",
         "y": {
          "bdata": "AAAAAAAA+H8=",
          "dtype": "f8"
         },
         "yaxis": "y4"
        }
       ],
       "layout": {
        "annotations": [
         {
          "font": {},
          "showarrow": false,
          "text": "Mês=Sep",
          "x": 0.1175,
          "xanchor": "center",
          "xref": "paper",
          "y": 0.2866666666666666,
          "yanchor": "bottom",
          "yref": "paper"
         },
         {
          "font": {},
          "showarrow": false,
          "text": "Mês=Oct",
          "x": 0.3725,
          "xanchor": "center",
          "xref": "paper",
          "y": 0.2866666666666666,
          "yanchor": "bottom",
          "yref": "paper"
         },
         {
          "font": {},
          "showarrow": false,
          "text": "Mês=Nov",
          "x": 0.6275,
          "xanchor": "center",
          "xref": "paper",
          "y": 0.2866666666666666,
          "yanchor": "bottom",
          "yref": "paper"
         },
         {
          "font": {},
          "showarrow": false,
          "text": "Mês=Dec",
          "x": 0.8824999999999998,
          "xanchor": "center",
          "xref": "paper",
          "y": 0.2866666666666666,
          "yanchor": "bottom",
          "yref": "paper"
         },
         {
          "font": {},
          "showarrow": false,
          "text": "Mês=May",
          "x": 0.1175,
          "xanchor": "center",
          "xref": "paper",
          "y": 0.6433333333333333,
          "yanchor": "bottom",
          "yref": "paper"
         },
         {
          "font": {},
          "showarrow": false,
          "text": "Mês=Jun",
          "x": 0.3725,
          "xanchor": "center",
          "xref": "paper",
          "y": 0.6433333333333333,
          "yanchor": "bottom",
          "yref": "paper"
         },
         {
          "font": {},
          "showarrow": false,
          "text": "Mês=Jul",
          "x": 0.6275,
          "xanchor": "center",
          "xref": "paper",
          "y": 0.6433333333333333,
          "yanchor": "bottom",
          "yref": "paper"
         },
         {
          "font": {},
          "showarrow": false,
          "text": "Mês=Aug",
          "x": 0.8824999999999998,
          "xanchor": "center",
          "xref": "paper",
          "y": 0.6433333333333333,
          "yanchor": "bottom",
          "yref": "paper"
         },
         {
          "font": {},
          "showarrow": false,
          "text": "Mês=Jan",
          "x": 0.1175,
          "xanchor": "center",
          "xref": "paper",
          "y": 0.9999999999999999,
          "yanchor": "bottom",
          "yref": "paper"
         },
         {
          "font": {},
          "showarrow": false,
          "text": "Mês=Feb",
          "x": 0.3725,
          "xanchor": "center",
          "xref": "paper",
          "y": 0.9999999999999999,
          "yanchor": "bottom",
          "yref": "paper"
         },
         {
          "font": {},
          "showarrow": false,
          "text": "Mês=Mar",
          "x": 0.6275,
          "xanchor": "center",
          "xref": "paper",
          "y": 0.9999999999999999,
          "yanchor": "bottom",
          "yref": "paper"
         },
         {
          "font": {},
          "showarrow": false,
          "text": "Mês=Apr",
          "x": 0.8824999999999998,
          "xanchor": "center",
          "xref": "paper",
          "y": 0.9999999999999999,
          "yanchor": "bottom",
          "yref": "paper"
         }
        ],
        "height": 800,
        "legend": {
         "tracegroupgap": 0
        },
        "template": {
         "data": {
          "bar": [
           {
            "error_x": {
             "color": "#f2f5fa"
            },
            "error_y": {
             "color": "#f2f5fa"
            },
            "marker": {
             "line": {
              "color": "rgb(17,17,17)",
              "width": 0.5
             },
             "pattern": {
              "fillmode": "overlay",
              "size": 10,
              "solidity": 0.2
             }
            },
            "type": "bar"
           }
          ],
          "barpolar": [
           {
            "marker": {
             "line": {
              "color": "rgb(17,17,17)",
              "width": 0.5
             },
             "pattern": {
              "fillmode": "overlay",
              "size": 10,
              "solidity": 0.2
             }
            },
            "type": "barpolar"
           }
          ],
          "carpet": [
           {
            "aaxis": {
             "endlinecolor": "#A2B1C6",
             "gridcolor": "#506784",
             "linecolor": "#506784",
             "minorgridcolor": "#506784",
             "startlinecolor": "#A2B1C6"
            },
            "baxis": {
             "endlinecolor": "#A2B1C6",
             "gridcolor": "#506784",
             "linecolor": "#506784",
             "minorgridcolor": "#506784",
             "startlinecolor": "#A2B1C6"
            },
            "type": "carpet"
           }
          ],
          "choropleth": [
           {
            "colorbar": {
             "outlinewidth": 0,
             "ticks": ""
            },
            "type": "choropleth"
           }
          ],
          "contour": [
           {
            "colorbar": {
             "outlinewidth": 0,
             "ticks": ""
            },
            "colorscale": [
             [
              0,
              "#0d0887"
             ],
             [
              0.1111111111111111,
              "#46039f"
             ],
             [
              0.2222222222222222,
              "#7201a8"
             ],
             [
              0.3333333333333333,
              "#9c179e"
             ],
             [
              0.4444444444444444,
              "#bd3786"
             ],
             [
              0.5555555555555556,
              "#d8576b"
             ],
             [
              0.6666666666666666,
              "#ed7953"
             ],
             [
              0.7777777777777778,
              "#fb9f3a"
             ],
             [
              0.8888888888888888,
              "#fdca26"
             ],
             [
              1,
              "#f0f921"
             ]
            ],
            "type": "contour"
           }
          ],
          "contourcarpet": [
           {
            "colorbar": {
             "outlinewidth": 0,
             "ticks": ""
            },
            "type": "contourcarpet"
           }
          ],
          "heatmap": [
           {
            "colorbar": {
             "outlinewidth": 0,
             "ticks": ""
            },
            "colorscale": [
             [
              0,
              "#0d0887"
             ],
             [
              0.1111111111111111,
              "#46039f"
             ],
             [
              0.2222222222222222,
              "#7201a8"
             ],
             [
              0.3333333333333333,
              "#9c179e"
             ],
             [
              0.4444444444444444,
              "#bd3786"
             ],
             [
              0.5555555555555556,
              "#d8576b"
             ],
             [
              0.6666666666666666,
              "#ed7953"
             ],
             [
              0.7777777777777778,
              "#fb9f3a"
             ],
             [
              0.8888888888888888,
              "#fdca26"
             ],
             [
              1,
              "#f0f921"
             ]
            ],
            "type": "heatmap"
           }
          ],
          "histogram": [
           {
            "marker": {
             "pattern": {
              "fillmode": "overlay",
              "size": 10,
              "solidity": 0.2
             }
            },
            "type": "histogram"
           }
          ],
          "histogram2d": [
           {
            "colorbar": {
             "outlinewidth": 0,
             "ticks": ""
            },
            "colorscale": [
             [
              0,
              "#0d0887"
             ],
             [
              0.1111111111111111,
              "#46039f"
             ],
             [
              0.2222222222222222,
              "#7201a8"
             ],
             [
              0.3333333333333333,
              "#9c179e"
             ],
             [
              0.4444444444444444,
              "#bd3786"
             ],
             [
              0.5555555555555556,
              "#d8576b"
             ],
             [
              0.6666666666666666,
              "#ed7953"
             ],
             [
              0.7777777777777778,
              "#fb9f3a"
             ],
             [
              0.8888888888888888,
              "#fdca26"
             ],
             [
              1,
              "#f0f921"
             ]
            ],
            "type": "histogram2d"
           }
          ],
          "histogram2dcontour": [
           {
            "colorbar": {
             "outlinewidth": 0,
             "ticks": ""
            },
            "colorscale": [
             [
              0,
              "#0d0887"
             ],
             [
              0.1111111111111111,
              "#46039f"
             ],
             [
              0.2222222222222222,
              "#7201a8"
             ],
             [
              0.3333333333333333,
              "#9c179e"
             ],
             [
              0.4444444444444444,
              "#bd3786"
             ],
             [
              0.5555555555555556,
              "#d8576b"
             ],
             [
              0.6666666666666666,
              "#ed7953"
             ],
             [
              0.7777777777777778,
              "#fb9f3a"
             ],
             [
              0.8888888888888888,
              "#fdca26"
             ],
             [
              1,
              "#f0f921"
             ]
            ],
            "type": "histogram2dcontour"
           }
          ],
          "mesh3d": [
           {
            "colorbar": {
             "outlinewidth": 0,
             "ticks": ""
            },
            "type": "mesh3d"
           }
          ],
          "parcoords": [
           {
            "line": {
             "colorbar": {
              "outlinewidth": 0,
              "ticks": ""
             }
            },
            "type": "parcoords"
           }
          ],
          "pie": [
           {
            "automargin": true,
            "type": "pie"
           }
          ],
          "scatter": [
           {
            "marker": {
             "line": {
              "color": "#283442"
             }
            },
            "type": "scatter"
           }
          ],
          "scatter3d": [
           {
            "line": {
             "colorbar": {
              "outlinewidth": 0,
              "ticks": ""
             }
            },
            "marker": {
             "colorbar": {
              "outlinewidth": 0,
              "ticks": ""
             }
            },
            "type": "scatter3d"
           }
          ],
          "scattercarpet": [
           {
            "marker": {
             "colorbar": {
              "outlinewidth": 0,
              "ticks": ""
             }
            },
            "type": "scattercarpet"
           }
          ],
          "scattergeo": [
           {
            "marker": {
             "colorbar": {
              "outlinewidth": 0,
              "ticks": ""
             }
            },
            "type": "scattergeo"
           }
          ],
          "scattergl": [
           {
            "marker": {
             "line": {
              "color": "#283442"
             }
            },
            "type": "scattergl"
           }
          ],
          "scattermap": [
           {
            "marker": {
             "colorbar": {
              "outlinewidth": 0,
              "ticks": ""
             }
            },
            "type": "scattermap"
           }
          ],
          "scattermapbox": [
           {
            "marker": {
             "colorbar": {
              "outlinewidth": 0,
              "ticks": ""
             }
            },
            "type": "scattermapbox"
           }
          ],
          "scatterpolar": [
           {
            "marker": {
             "colorbar": {
              "outlinewidth": 0,
              "ticks": ""
             }
            },
            "type": "scatterpolar"
           }
          ],
          "scatterpolargl": [
           {
            "marker": {
             "colorbar": {
              "outlinewidth": 0,
              "ticks": ""
             }
            },
            "type": "scatterpolargl"
           }
          ],
          "scatterternary": [
           {
            "marker": {
             "colorbar": {
              "outlinewidth": 0,
              "ticks": ""
             }
            },
            "type": "scatterternary"
           }
          ],
          "surface": [
           {
            "colorbar": {
             "outlinewidth": 0,
             "ticks": ""
            },
            "colorscale": [
             [
              0,
              "#0d0887"
             ],
             [
              0.1111111111111111,
              "#46039f"
             ],
             [
              0.2222222222222222,
              "#7201a8"
             ],
             [
              0.3333333333333333,
              "#9c179e"
             ],
             [
              0.4444444444444444,
              "#bd3786"
             ],
             [
              0.5555555555555556,
              "#d8576b"
             ],
             [
              0.6666666666666666,
              "#ed7953"
             ],
             [
              0.7777777777777778,
              "#fb9f3a"
             ],
             [
              0.8888888888888888,
              "#fdca26"
             ],
             [
              1,
              "#f0f921"
             ]
            ],
            "type": "surface"
           }
          ],
          "table": [
           {
            "cells": {
             "fill": {
              "color": "#506784"
             },
             "line": {
              "color": "rgb(17,17,17)"
             }
            },
            "header": {
             "fill": {
              "color": "#2a3f5f"
             },
             "line": {
              "color": "rgb(17,17,17)"
             }
            },
            "type": "table"
           }
          ]
         },
         "layout": {
          "annotationdefaults": {
           "arrowcolor": "#f2f5fa",
           "arrowhead": 0,
           "arrowwidth": 1
          },
          "autotypenumbers": "strict",
          "coloraxis": {
           "colorbar": {
            "outlinewidth": 0,
            "ticks": ""
           }
          },
          "colorscale": {
           "diverging": [
            [
             0,
             "#8e0152"
            ],
            [
             0.1,
             "#c51b7d"
            ],
            [
             0.2,
             "#de77ae"
            ],
            [
             0.3,
             "#f1b6da"
            ],
            [
             0.4,
             "#fde0ef"
            ],
            [
             0.5,
             "#f7f7f7"
            ],
            [
             0.6,
             "#e6f5d0"
            ],
            [
             0.7,
             "#b8e186"
            ],
            [
             0.8,
             "#7fbc41"
            ],
            [
             0.9,
             "#4d9221"
            ],
            [
             1,
             "#276419"
            ]
           ],
           "sequential": [
            [
             0,
             "#0d0887"
            ],
            [
             0.1111111111111111,
             "#46039f"
            ],
            [
             0.2222222222222222,
             "#7201a8"
            ],
            [
             0.3333333333333333,
             "#9c179e"
            ],
            [
             0.4444444444444444,
             "#bd3786"
            ],
            [
             0.5555555555555556,
             "#d8576b"
            ],
            [
             0.6666666666666666,
             "#ed7953"
            ],
            [
             0.7777777777777778,
             "#fb9f3a"
            ],
            [
             0.8888888888888888,
             "#fdca26"
            ],
            [
             1,
             "#f0f921"
            ]
           ],
           "sequentialminus": [
            [
             0,
             "#0d0887"
            ],
            [
             0.1111111111111111,
             "#46039f"
            ],
            [
             0.2222222222222222,
             "#7201a8"
            ],
            [
             0.3333333333333333,
             "#9c179e"
            ],
            [
             0.4444444444444444,
             "#bd3786"
            ],
            [
             0.5555555555555556,
             "#d8576b"
            ],
            [
             0.6666666666666666,
             "#ed7953"
            ],
            [
             0.7777777777777778,
             "#fb9f3a"
            ],
            [
             0.8888888888888888,
             "#fdca26"
            ],
            [
             1,
             "#f0f921"
            ]
           ]
          },
          "colorway": [
           "#636efa",
           "#EF553B",
           "#00cc96",
           "#ab63fa",
           "#FFA15A",
           "#19d3f3",
           "#FF6692",
           "#B6E880",
           "#FF97FF",
           "#FECB52"
          ],
          "font": {
           "color": "#f2f5fa"
          },
          "geo": {
           "bgcolor": "rgb(17,17,17)",
           "lakecolor": "rgb(17,17,17)",
           "landcolor": "rgb(17,17,17)",
           "showlakes": true,
           "showland": true,
           "subunitcolor": "#506784"
          },
          "hoverlabel": {
           "align": "left"
          },
          "hovermode": "closest",
          "mapbox": {
           "style": "dark"
          },
          "paper_bgcolor": "rgb(17,17,17)",
          "plot_bgcolor": "rgb(17,17,17)",
          "polar": {
           "angularaxis": {
            "gridcolor": "#506784",
            "linecolor": "#506784",
            "ticks": ""
           },
           "bgcolor": "rgb(17,17,17)",
           "radialaxis": {
            "gridcolor": "#506784",
            "linecolor": "#506784",
            "ticks": ""
           }
          },
          "scene": {
           "xaxis": {
            "backgroundcolor": "rgb(17,17,17)",
            "gridcolor": "#506784",
            "gridwidth": 2,
            "linecolor": "#506784",
            "showbackground": true,
            "ticks": "",
            "zerolinecolor": "#C8D4E3"
           },
           "yaxis": {
            "backgroundcolor": "rgb(17,17,17)",
            "gridcolor": "#506784",
            "gridwidth": 2,
            "linecolor": "#506784",
            "showbackground": true,
            "ticks": "",
            "zerolinecolor": "#C8D4E3"
           },
           "zaxis": {
            "backgroundcolor": "rgb(17,17,17)",
            "gridcolor": "#506784",
            "gridwidth": 2,
            "linecolor": "#506784",
            "showbackground": true,
            "ticks": "",
            "zerolinecolor": "#C8D4E3"
           }
          },
          "shapedefaults": {
           "line": {
            "color": "#f2f5fa"
           }
          },
          "sliderdefaults": {
           "bgcolor": "#C8D4E3",
           "bordercolor": "rgb(17,17,17)",
           "borderwidth": 1,
           "tickwidth": 0
          },
          "ternary": {
           "aaxis": {
            "gridcolor": "#506784",
            "linecolor": "#506784",
            "ticks": ""
           },
           "baxis": {
            "gridcolor": "#506784",
            "linecolor": "#506784",
            "ticks": ""
           },
           "bgcolor": "rgb(17,17,17)",
           "caxis": {
            "gridcolor": "#506784",
            "linecolor": "#506784",
            "ticks": ""
           }
          },
          "title": {
           "x": 0.05
          },
          "updatemenudefaults": {
           "bgcolor": "#506784",
           "borderwidth": 0
          },
          "xaxis": {
           "automargin": true,
           "gridcolor": "#283442",
           "linecolor": "#506784",
           "ticks": "",
           "title": {
            "standoff": 15
           },
           "zerolinecolor": "#283442",
           "zerolinewidth": 2
          },
          "yaxis": {
           "automargin": true,
           "gridcolor": "#283442",
           "linecolor": "#506784",
           "ticks": "",
           "title": {
            "standoff": 15
           },
           "zerolinecolor": "#283442",
           "zerolinewidth": 2
          }
         }
        },
        "title": {
         "text": "<b>Gráfico de Subséries: Evolução do Preço do Bitcoin por Mês</b>"
        },
        "xaxis": {
         "anchor": "y",
         "domain": [
          0,
          0.235
         ],
         "title": {
          "text": "Ano"
         }
        },
        "xaxis10": {
         "anchor": "y10",
         "domain": [
          0.255,
          0.49
         ],
         "matches": "x",
         "showticklabels": false
        },
        "xaxis11": {
         "anchor": "y11",
         "domain": [
          0.51,
          0.745
         ],
         "matches": "x",
         "showticklabels": false
        },
        "xaxis12": {
         "anchor": "y12",
         "domain": [
          0.7649999999999999,
          0.9999999999999999
         ],
         "matches": "x",
         "showticklabels": false
        },
        "xaxis2": {
         "anchor": "y2",
         "domain": [
          0.255,
          0.49
         ],
         "matches": "x",
         "title": {
          "text": "Ano"
         }
        },
        "xaxis3": {
         "anchor": "y3",
         "domain": [
          0.51,
          0.745
         ],
         "matches": "x",
         "title": {
          "text": "Ano"
         }
        },
        "xaxis4": {
         "anchor": "y4",
         "domain": [
          0.7649999999999999,
          0.9999999999999999
         ],
         "matches": "x",
         "title": {
          "text": "Ano"
         }
        },
        "xaxis5": {
         "anchor": "y5",
         "domain": [
          0,
          0.235
         ],
         "matches": "x",
         "showticklabels": false
        },
        "xaxis6": {
         "anchor": "y6",
         "domain": [
          0.255,
          0.49
         ],
         "matches": "x",
         "showticklabels": false
        },
        "xaxis7": {
         "anchor": "y7",
         "domain": [
          0.51,
          0.745
         ],
         "matches": "x",
         "showticklabels": false
        },
        "xaxis8": {
         "anchor": "y8",
         "domain": [
          0.7649999999999999,
          0.9999999999999999
         ],
         "matches": "x",
         "showticklabels": false
        },
        "xaxis9": {
         "anchor": "y9",
         "domain": [
          0,
          0.235
         ],
         "matches": "x",
         "showticklabels": false
        },
        "yaxis": {
         "anchor": "x",
         "domain": [
          0,
          0.2866666666666666
         ],
         "title": {
          "text": "Preço Médio (USD)"
         }
        },
        "yaxis10": {
         "anchor": "x10",
         "domain": [
          0.7133333333333333,
          0.9999999999999999
         ],
         "matches": "y",
         "showticklabels": false
        },
        "yaxis11": {
         "anchor": "x11",
         "domain": [
          0.7133333333333333,
          0.9999999999999999
         ],
         "matches": "y",
         "showticklabels": false
        },
        "yaxis12": {
         "anchor": "x12",
         "domain": [
          0.7133333333333333,
          0.9999999999999999
         ],
         "matches": "y",
         "showticklabels": false
        },
        "yaxis2": {
         "anchor": "x2",
         "domain": [
          0,
          0.2866666666666666
         ],
         "matches": "y",
         "showticklabels": false
        },
        "yaxis3": {
         "anchor": "x3",
         "domain": [
          0,
          0.2866666666666666
         ],
         "matches": "y",
         "showticklabels": false
        },
        "yaxis4": {
         "anchor": "x4",
         "domain": [
          0,
          0.2866666666666666
         ],
         "matches": "y",
         "showticklabels": false
        },
        "yaxis5": {
         "anchor": "x5",
         "domain": [
          0.35666666666666663,
          0.6433333333333333
         ],
         "matches": "y",
         "title": {
          "text": "Preço Médio (USD)"
         }
        },
        "yaxis6": {
         "anchor": "x6",
         "domain": [
          0.35666666666666663,
          0.6433333333333333
         ],
         "matches": "y",
         "showticklabels": false
        },
        "yaxis7": {
         "anchor": "x7",
         "domain": [
          0.35666666666666663,
          0.6433333333333333
         ],
         "matches": "y",
         "showticklabels": false
        },
        "yaxis8": {
         "anchor": "x8",
         "domain": [
          0.35666666666666663,
          0.6433333333333333
         ],
         "matches": "y",
         "showticklabels": false
        },
        "yaxis9": {
         "anchor": "x9",
         "domain": [
          0.7133333333333333,
          0.9999999999999999
         ],
         "matches": "y",
         "title": {
          "text": "Preço Médio (USD)"
         }
        }
       }
      }
     },
     "metadata": {},
     "output_type": "display_data"
    }
   ],
   "source": [
    "# Exemplo:\n",
    "plot_bitcoin_seasonal_patterns(df_seasonal)"
   ]
  },
  {
   "cell_type": "markdown",
   "metadata": {},
   "source": [
    "##### 🔶 ₿ -----> Teste Estatístico de Interação via ANOVA"
   ]
  },
  {
   "cell_type": "markdown",
   "metadata": {},
   "source": [
    "---\n",
    "\n",
    "\n",
    "ANOVA de Duas Vias com Interação\n",
    "\n",
    "A ANOVA (Análise de Variância) testa se **as médias de um grupo são estatisticamente diferentes** entre si. No caso de **duas variáveis categóricas**, podemos incluir um **termo de interação** para avaliar se o efeito de uma variável depende da outra.\n",
    "\n",
    "---\n",
    "\n",
    "Modelo de regressão com interação:\n",
    "\n",
    "Seja a variável resposta $ Y $ (neste caso, o preço do Bitcoin) e duas variáveis categóricas: mês ($ M $) e ano ($ A $). O modelo com interação é dado por:\n",
    "\n",
    "$\n",
    "Y = \\mu + \\alpha_M + \\beta_A + (\\alpha\\beta)_{M,A} + \\epsilon\n",
    "$\n",
    "\n",
    "Onde:\n",
    "\n",
    "- $ \\mu $: média geral\n",
    "- $ \\alpha_M $: efeito do mês\n",
    "- $ \\beta_A $: efeito do ano\n",
    "- $ (\\alpha\\beta)_{M,A} $: efeito de interação entre mês e ano\n",
    "- $ \\epsilon $: erro aleatório\n",
    "\n",
    "---\n"
   ]
  },
  {
   "cell_type": "code",
   "execution_count": 42,
   "metadata": {},
   "outputs": [
    {
     "name": "stdout",
     "output_type": "stream",
     "text": [
      "                   df        sum_sq       mean_sq   F  PR(>F)\n",
      "C(Mes)            0.0  0.000000e+00           NaN NaN     NaN\n",
      "C(Ano)            0.0  0.000000e+00           NaN NaN     NaN\n",
      "C(Mes):C(Ano)     0.0  0.000000e+00           NaN NaN     NaN\n",
      "Residual       1206.0  7.717903e+09  6.399588e+06 NaN     NaN\n"
     ]
    }
   ],
   "source": [
    "# Criar colunas necessárias\n",
    "df_seasonal[\"block_timestamp\"] = pd.to_datetime(df_seasonal[\"block_timestamp\"])\n",
    "df_seasonal[\"Ano\"] = df_seasonal[\"block_timestamp\"].dt.year.astype(str)  # precisa ser string para categórico\n",
    "df_seasonal[\"Mes\"] = df_seasonal[\"block_timestamp\"].dt.month_name()\n",
    "\n",
    "# ==========================\n",
    "# Modelo com Interação\n",
    "# ==========================\n",
    "modelo_interacao = smf.ols(\"btc_price_usd ~ C(Mes) * C(Ano)\", data=df_seasonal).fit()\n",
    "\n",
    "# ==========================\n",
    "# ANOVA para testar significância da interação\n",
    "# ==========================\n",
    "from statsmodels.stats.anova import anova_lm\n",
    "anova_resultado = anova_lm(modelo_interacao)\n",
    "\n",
    "# Visualizar resultado\n",
    "print(anova_resultado)"
   ]
  },
  {
   "cell_type": "code",
   "execution_count": 43,
   "metadata": {},
   "outputs": [],
   "source": [
    "import pandas as pd\n",
    "import statsmodels.formula.api as smf\n",
    "from statsmodels.stats.anova import anova_lm\n",
    "\n",
    "# ================================================================\n",
    "# EXTRAÇÃO DE FEATURES SAZONAIS A PARTIR DE MÊS E ANO\n",
    "# EXTRACTION OF SEASONAL FEATURES BASED ON MONTH AND YEAR\n",
    "# ================================================================\n",
    "def extract_seasonal_anova_features(\n",
    "    df: pd.DataFrame,\n",
    "    date_col: str = \"block_timestamp\",\n",
    "    target_col: str = \"btc_price_usd\",\n",
    "    block_height: int = None,\n",
    "    block_timestamp: pd.Timestamp = None\n",
    ") -> pd.DataFrame:\n",
    "    \"\"\"\n",
    "    Gera variáveis categóricas de Mês e Ano e realiza ANOVA com interação para identificar sazonalidade.\n",
    "    / Generates categorical Month-Year variables and performs ANOVA to detect seasonality interactions.\n",
    "    \n",
    "    Parâmetros / Parameters:\n",
    "    - df: pd.DataFrame\n",
    "        DataFrame contendo a série temporal / DataFrame containing time series.\n",
    "    - date_col: str\n",
    "        Nome da coluna de data / Name of timestamp column.\n",
    "    - target_col: str\n",
    "        Coluna de valores numéricos alvo / Column with target values.\n",
    "    - block_height: int\n",
    "        Altura do bloco de referência / Reference block height.\n",
    "    - block_timestamp: pd.Timestamp\n",
    "        Timestamp de referência do bloco / Reference block timestamp.\n",
    "\n",
    "    Retorna / Returns:\n",
    "    - pd.DataFrame com colunas: block_height, block_timestamp, anova_p_mes, anova_p_ano, anova_p_interacao /\n",
    "      DataFrame with tracking columns and ANOVA p-values for month, year, and interaction.\n",
    "    \"\"\"\n",
    "    df = df.copy()\n",
    "\n",
    "    # ================================\n",
    "    # EXTRAÇÃO DE MÊS E ANO / EXTRACT MONTH & YEAR\n",
    "    # ================================\n",
    "    df[date_col] = pd.to_datetime(df[date_col])\n",
    "    # --> Garante tipo datetime / Ensures datetime format <--\n",
    "\n",
    "    df[\"Ano\"] = df[date_col].dt.year.astype(str)\n",
    "    df[\"Mes\"] = df[date_col].dt.month_name()\n",
    "    # --> Extrai componentes temporais para ANOVA / Extracts month and year for ANOVA <--\n",
    "\n",
    "    # ================================\n",
    "    # AJUSTE DO MODELO COM INTERAÇÃO / FIT INTERACTION MODEL\n",
    "    # ================================\n",
    "    formula = f\"{target_col} ~ C(Mes) * C(Ano)\"\n",
    "    modelo = smf.ols(formula=formula, data=df).fit()\n",
    "    # --> Ajusta modelo com interação mês x ano / Fit model with month-year interaction <--\n",
    "\n",
    "    # ================================\n",
    "    # ANOVA E P-VALUES / ANOVA AND P-VALUES\n",
    "    # ================================\n",
    "    anova_result = anova_lm(modelo)\n",
    "\n",
    "    p_mes = anova_result.loc[\"C(Mes)\", \"PR(>F)\"] if \"C(Mes)\" in anova_result.index else None\n",
    "    p_ano = anova_result.loc[\"C(Ano)\", \"PR(>F)\"] if \"C(Ano)\" in anova_result.index else None\n",
    "    p_inter = anova_result.loc[\"C(Mes):C(Ano)\", \"PR(>F)\"] if \"C(Mes):C(Ano)\" in anova_result.index else None\n",
    "    # --> P-valores de cada fator e da interação / P-values for month, year and interaction <--\n",
    "\n",
    "    # ================================\n",
    "    # RETORNO DAS FEATURES / FEATURE OUTPUT\n",
    "    # ================================\n",
    "    return pd.DataFrame([{\n",
    "        \"block_height\": block_height,\n",
    "        \"block_timestamp\": block_timestamp,\n",
    "        \"anova_p_mes\": p_mes,\n",
    "        \"anova_p_ano\": p_ano,\n",
    "        \"anova_p_interacao\": p_inter\n",
    "    }])\n",
    "    # --> Retorna como linha única com chaves de rastreio / Returns row with tracking keys <--"
   ]
  },
  {
   "cell_type": "code",
   "execution_count": 44,
   "metadata": {},
   "outputs": [
    {
     "data": {
      "application/vnd.microsoft.datawrangler.viewer.v0+json": {
       "columns": [
        {
         "name": "index",
         "rawType": "int64",
         "type": "integer"
        },
        {
         "name": "block_height",
         "rawType": "object",
         "type": "unknown"
        },
        {
         "name": "block_timestamp",
         "rawType": "object",
         "type": "unknown"
        },
        {
         "name": "anova_p_mes",
         "rawType": "float64",
         "type": "float"
        },
        {
         "name": "anova_p_ano",
         "rawType": "float64",
         "type": "float"
        },
        {
         "name": "anova_p_interacao",
         "rawType": "float64",
         "type": "float"
        }
       ],
       "conversionMethod": "pd.DataFrame",
       "ref": "e72fa364-522c-4635-b9cf-1a13292e9dff",
       "rows": [
        [
         "0",
         null,
         null,
         null,
         null,
         null
        ]
       ],
       "shape": {
        "columns": 5,
        "rows": 1
       }
      },
      "text/html": [
       "<div>\n",
       "<style scoped>\n",
       "    .dataframe tbody tr th:only-of-type {\n",
       "        vertical-align: middle;\n",
       "    }\n",
       "\n",
       "    .dataframe tbody tr th {\n",
       "        vertical-align: top;\n",
       "    }\n",
       "\n",
       "    .dataframe thead th {\n",
       "        text-align: right;\n",
       "    }\n",
       "</style>\n",
       "<table border=\"1\" class=\"dataframe\">\n",
       "  <thead>\n",
       "    <tr style=\"text-align: right;\">\n",
       "      <th></th>\n",
       "      <th>block_height</th>\n",
       "      <th>block_timestamp</th>\n",
       "      <th>anova_p_mes</th>\n",
       "      <th>anova_p_ano</th>\n",
       "      <th>anova_p_interacao</th>\n",
       "    </tr>\n",
       "  </thead>\n",
       "  <tbody>\n",
       "    <tr>\n",
       "      <th>0</th>\n",
       "      <td>None</td>\n",
       "      <td>None</td>\n",
       "      <td>NaN</td>\n",
       "      <td>NaN</td>\n",
       "      <td>NaN</td>\n",
       "    </tr>\n",
       "  </tbody>\n",
       "</table>\n",
       "</div>"
      ],
      "text/plain": [
       "  block_height block_timestamp  anova_p_mes  anova_p_ano  anova_p_interacao\n",
       "0         None            None          NaN          NaN                NaN"
      ]
     },
     "metadata": {},
     "output_type": "display_data"
    }
   ],
   "source": [
    "df_seasonality = extract_seasonal_anova_features(df_seasonal)\n",
    "display(df_seasonality)"
   ]
  },
  {
   "cell_type": "markdown",
   "metadata": {},
   "source": [
    "#### 4.3 Analise Espectral (FFT)"
   ]
  },
  {
   "cell_type": "code",
   "execution_count": 45,
   "metadata": {},
   "outputs": [],
   "source": [
    "# Para df_fft\n",
    "df_fft = df_time_index.resample('d').mean()\n",
    "df_fft = df_fft.sort_index()  # Garantir que está ordenado pelo índice (block_timestamp)"
   ]
  },
  {
   "cell_type": "markdown",
   "metadata": {},
   "source": [
    "##### 🔶 ₿ -----> Frequência Dominante"
   ]
  },
  {
   "cell_type": "markdown",
   "metadata": {},
   "source": [
    "---\n",
    "\n",
    "Transformada Rápida de Fourier (FFT)\n",
    "\n",
    "Dada uma série temporal discreta $ x[n] $ de tamanho $ N $, sua transformada discreta de Fourier é definida por:\n",
    "\n",
    "$\n",
    "X[k] = \\sum_{n=0}^{N-1} x[n] \\cdot e^{-j2\\pi kn/N}\n",
    "$\n",
    "\n",
    "Onde:\n",
    "\n",
    "- $ X[k] $: componente de frequência no índice $( k $)\n",
    "- $ N $: número total de pontos na série\n",
    "- $ j $: unidade imaginária $( j^2 = -1 )$\n",
    "\n",
    "A frequência correspondente a cada índice \\( k \\) é dada por:\n",
    "\n",
    "$\n",
    "f[k] = \\frac{k}{N}\n",
    "$\n",
    "\n",
    "Para obter as **frequências positivas** e suas **amplitudes** (magnitudes):\n",
    "\n",
    "- Frequências positivas:  \n",
    "  $\n",
    "  f = \\text{fft\\_freqs}[f > 0]\n",
    "  $\n",
    "\n",
    "- Magnitudes associadas:  \n",
    "  $\n",
    "  |X[k]| = \\sqrt{\\Re(X[k])^2 + \\Im(X[k])^2}\n",
    "  $\n",
    "\n",
    "---\n",
    "\n",
    "Identificação da Frequência Dominante\n",
    "\n",
    "A **frequência dominante** é aquela cujo valor de \\( |X[k]| \\) (amplitude) é o **máximo** dentre todas as componentes positivas:\n",
    "\n",
    "$\n",
    "f_{\\text{dom}} = f[argmax(|X[k]|)]\n",
    "$\n",
    "\n",
    "---"
   ]
  },
  {
   "cell_type": "code",
   "execution_count": 46,
   "metadata": {},
   "outputs": [],
   "source": [
    "# ================================================================\n",
    "# PREPARAÇÃO DA SÉRIE PARA FFT / PREPARE SERIES FOR FFT\n",
    "# ================================================================\n",
    "def prepare_fft_data(series: pd.Series):\n",
    "    \"\"\"\n",
    "    Pré-processa a série e retorna as frequências e amplitudes positivas.\n",
    "    / Preprocesses the series and returns positive frequencies and magnitudes.\n",
    "    \"\"\"\n",
    "\n",
    "    series = series.dropna().values\n",
    "    # --> Remove valores ausentes e converte para array NumPy / Drops missing values and converts to NumPy array <--\n",
    "\n",
    "    n = len(series)\n",
    "    # --> Define o comprimento da série para cálculo da FFT / Defines series length for FFT calculation <--\n",
    "\n",
    "    fft_vals = np.fft.fft(series)\n",
    "    # --> Calcula os coeficientes da Transformada de Fourier / Computes the Fourier transform coefficients <--\n",
    "\n",
    "    fft_freqs = np.fft.fftfreq(n)\n",
    "    # --> Gera a grade de frequências correspondente / Generates the corresponding frequency grid <--\n",
    "\n",
    "    pos_mask = fft_freqs > 0\n",
    "    # --> Cria uma máscara para manter apenas frequências positivas / Creates mask to retain only positive frequencies <--\n",
    "\n",
    "    freqs = fft_freqs[pos_mask]\n",
    "    # --> Frequências positivas / Positive frequencies <--\n",
    "\n",
    "    magnitudes = np.abs(fft_vals[pos_mask])\n",
    "    # --> Magnitudes (amplitudes absolutas) das componentes positivas / Absolute magnitudes of positive components <--\n",
    "\n",
    "    return freqs, magnitudes\n",
    "    # --> Retorna as frequências e magnitudes para análise espectral / Returns frequencies and magnitudes for spectral analysis <--"
   ]
  },
  {
   "cell_type": "code",
   "execution_count": 47,
   "metadata": {},
   "outputs": [
    {
     "name": "stdout",
     "output_type": "stream",
     "text": [
      "Frequências detectadas: [0.125 0.25  0.375]\n",
      "Magnitudes: [10371.27611555  8121.13286796  1573.09489043]\n"
     ]
    }
   ],
   "source": [
    "freqs, magnitudes = prepare_fft_data(df_fft[\"btc_price_usd\"])\n",
    "\n",
    "print(\"Frequências detectadas:\", freqs[:5])\n",
    "print(\"Magnitudes:\", magnitudes[:5])"
   ]
  },
  {
   "cell_type": "markdown",
   "metadata": {},
   "source": [
    "##### 🔶 ₿ -----> Energia Espectral"
   ]
  },
  {
   "cell_type": "markdown",
   "metadata": {},
   "source": [
    "---\n",
    "\n",
    "Energia Espectral e Razão de Energia\n",
    "\n",
    "Seja uma série temporal transformada via FFT, com magnitudes espectrais $ M_k $, a **energia espectral total** da série é dada por:\n",
    "\n",
    "$\n",
    "E_{\\text{total}} = \\sum_{k=1}^{N} M_k^2\n",
    "$\n",
    "\n",
    "Onde:\n",
    "\n",
    "- $ M_k $: magnitude da componente de frequência $ k $\n",
    "- $ N $: número total de componentes de frequência\n",
    "\n",
    "A **energia top‑K** corresponde à soma das $ K $ maiores contribuições de energia:\n",
    "\n",
    "$\n",
    "E_{\\text{top‑K}} = \\sum_{k \\in \\text{Top‑K}} M_k^2\n",
    "$\n",
    "\n",
    "A **razão de energia espectral** é definida como:\n",
    "\n",
    "$\n",
    "\\text{Razão} = \\frac{E_{\\text{top‑K}}}{E_{\\text{total}}}\n",
    "$\n",
    "\n",
    "---"
   ]
  },
  {
   "cell_type": "code",
   "execution_count": 48,
   "metadata": {},
   "outputs": [],
   "source": [
    "# ================================================================\n",
    "# CÁLCULO DA RAZÃO DE ENERGIA / ENERGY RATIO\n",
    "# ================================================================\n",
    "def calculate_energy_ratio(magnitudes: np.ndarray, top_k: int):\n",
    "    \"\"\"\n",
    "    Calcula a razão entre a energia das top-k amplitudes e a energia total.\n",
    "    / Calculates the ratio between top-k dominant energy and total energy.\n",
    "    \"\"\"\n",
    "\n",
    "    total_energy = np.sum(magnitudes**2)\n",
    "    # --> Calcula a energia total da série (soma dos quadrados das magnitudes) / Computes total energy (sum of squared magnitudes) <--\n",
    "\n",
    "    topk_energy = np.sum(np.sort(magnitudes**2)[-top_k:])\n",
    "    # --> Soma da energia das top-k frequências dominantes / Sum of energy from top-k dominant frequencies <--\n",
    "\n",
    "    return topk_energy / total_energy\n",
    "    # --> Retorna a razão de energia concentrada nas top-k componentes / Returns energy ratio of dominant frequencies <--"
   ]
  },
  {
   "cell_type": "code",
   "execution_count": 49,
   "metadata": {},
   "outputs": [
    {
     "name": "stdout",
     "output_type": "stream",
     "text": [
      "Razão de energia espectral: 1.0\n"
     ]
    }
   ],
   "source": [
    "energy_ratio = calculate_energy_ratio(magnitudes, top_k=3)\n",
    "print(\"Razão de energia espectral:\", energy_ratio)"
   ]
  },
  {
   "cell_type": "markdown",
   "metadata": {},
   "source": [
    "##### 🔶 ₿ -----> Entropia Espectral"
   ]
  },
  {
   "cell_type": "markdown",
   "metadata": {},
   "source": [
    "---\n",
    "\n",
    "Entropia Espectral (Spectral Entropy)\n",
    "\n",
    "A **entropia espectral** quantifica o grau de desordem ou dispersão da energia em diferentes frequências de uma série temporal. Ela é baseada na distribuição normalizada das magnitudes do espectro de Fourier.\n",
    "\n",
    "---\n",
    "\n",
    "Definição formal:\n",
    "\n",
    "Seja $ M_k $ a magnitude da componente de frequência $ k $, a **distribuição de probabilidade espectral** $ P_k $ é definida como:\n",
    "\n",
    "$\n",
    "P_k = \\frac{M_k}{\\sum_{i=1}^{N} M_i}\n",
    "$\n",
    "\n",
    "A entropia espectral é então dada por:\n",
    "\n",
    "$\n",
    "H = - \\sum_{k=1}^{N} P_k \\cdot \\log_2(P_k)\n",
    "$\n",
    "\n",
    "> Obs: Na prática, adiciona-se um termo $ \\varepsilon $ muito pequeno para evitar log de zero:  \n",
    "$\n",
    "H = - \\sum_{k=1}^{N} P_k \\cdot \\log_2(P_k + \\varepsilon)\n",
    "\\quad \\text{com } \\varepsilon = 10^{-12}\n",
    "$\n",
    "\n",
    "---\n",
    "\n",
    "Interpretação:\n",
    "\n",
    "- Baixa entropia espectral: concentração de energia em poucas frequências → sinal mais previsível ou periódico.\n",
    "- Alta entropia espectral: energia distribuída em muitas frequências → sinal mais complexo ou ruído branco.\n",
    "\n",
    "---\n",
    "\n"
   ]
  },
  {
   "cell_type": "code",
   "execution_count": 50,
   "metadata": {},
   "outputs": [],
   "source": [
    "# ================================================================\n",
    "# CÁLCULO DA ENTROPIA ESPECTRAL / SPECTRAL ENTROPY\n",
    "# ================================================================\n",
    "def calculate_spectral_entropy(magnitudes: np.ndarray):\n",
    "    \"\"\"\n",
    "    Calcula a entropia espectral da distribuição de frequência.\n",
    "    / Computes the spectral entropy of the frequency distribution.\n",
    "    \"\"\"\n",
    "\n",
    "    prob_dist = magnitudes / np.sum(magnitudes)\n",
    "    # --> Converte magnitudes em distribuição de probabilidade / Converts magnitudes into a probability distribution <--\n",
    "\n",
    "    return -np.sum(prob_dist * np.log2(prob_dist + 1e-12))\n",
    "    # --> Aplica a fórmula da entropia de Shannon / Applies Shannon entropy formula <--"
   ]
  },
  {
   "cell_type": "code",
   "execution_count": 51,
   "metadata": {},
   "outputs": [],
   "source": [
    "# ================================================================\n",
    "# FUNÇÃO PRINCIPAL / MAIN FEATURE EXTRACTION FUNCTION\n",
    "# ================================================================\n",
    "def extract_fft_features(series: pd.Series, top_k: int = 3) -> dict:\n",
    "    \"\"\"\n",
    "    Extrai features estruturais da série temporal via FFT.\n",
    "    / Extracts structural features from time series using FFT.\n",
    "    \"\"\"\n",
    "\n",
    "    freqs, magnitudes = prepare_fft_data(series)\n",
    "    # --> Pré-processa a série e obtém frequências e magnitudes positivas / Preprocesses the series and gets positive frequencies and magnitudes <--\n",
    "\n",
    "    return {\n",
    "        \"fft_dominant_freq\": freqs[np.argmax(magnitudes)],\n",
    "        # --> Frequência com maior magnitude (componente dominante) / Frequency with highest magnitude (dominant component) <--\n",
    "\n",
    "        \"fft_energy_ratio\": calculate_energy_ratio(magnitudes, top_k),\n",
    "        # --> Razão de energia concentrada nas top-k componentes / Energy ratio from top-k dominant components <--\n",
    "\n",
    "        \"fft_peak_amplitude\": np.max(magnitudes),\n",
    "        # --> Valor da amplitude de pico entre as frequências / Peak amplitude value among all frequencies <--\n",
    "\n",
    "        \"fft_spectral_entropy\": calculate_spectral_entropy(magnitudes)\n",
    "        # --> Entropia espectral (grau de desorganização da energia) / Spectral entropy (energy dispersion measure) <--\n",
    "    }"
   ]
  },
  {
   "cell_type": "code",
   "execution_count": 52,
   "metadata": {},
   "outputs": [
    {
     "name": "stdout",
     "output_type": "stream",
     "text": [
      "Entropia espectral: 1.3082437806928746\n"
     ]
    }
   ],
   "source": [
    "entropy = calculate_spectral_entropy(magnitudes)\n",
    "print(\"Entropia espectral:\", entropy)"
   ]
  },
  {
   "cell_type": "markdown",
   "metadata": {},
   "source": [
    "##### 🔶 ₿ -----> Resultado Geral das Frequências Dominantes e Entropia"
   ]
  },
  {
   "cell_type": "code",
   "execution_count": 53,
   "metadata": {},
   "outputs": [
    {
     "name": "stdout",
     "output_type": "stream",
     "text": [
      "fft_dominant_freq: 0.125\n",
      "fft_energy_ratio: 1.0\n",
      "fft_peak_amplitude: 10371.276115548315\n",
      "fft_spectral_entropy: 1.3082437806928746\n",
      " Ciclo dominante estimado: 8.00 passos\n"
     ]
    },
    {
     "data": {
      "text/plain": [
       "{'fft_dominant_freq': np.float64(0.125),\n",
       " 'fft_energy_ratio': np.float64(1.0),\n",
       " 'fft_peak_amplitude': np.float64(10371.276115548315),\n",
       " 'fft_spectral_entropy': np.float64(1.3082437806928746)}"
      ]
     },
     "execution_count": 53,
     "metadata": {},
     "output_type": "execute_result"
    }
   ],
   "source": [
    "features_fft = extract_fft_features(df_fft[\"btc_price_usd\"], top_k=3)\n",
    "\n",
    "for k, v in features_fft.items():\n",
    "    print(f\"{k}: {v}\")\n",
    "    \n",
    "period_in_steps = 1 / features_fft[\"fft_dominant_freq\"]\n",
    "print(f\" Ciclo dominante estimado: {period_in_steps:.2f} passos\")\n",
    "\n",
    "features_fft"
   ]
  },
  {
   "cell_type": "markdown",
   "metadata": {},
   "source": [
    "##### 🔶 ₿ -----> Features"
   ]
  },
  {
   "cell_type": "code",
   "execution_count": 54,
   "metadata": {},
   "outputs": [],
   "source": [
    "\n",
    "# ================================================================\n",
    "# PRÉ-PROCESSAMENTO PARA FFT / PREPROCESSING FOR FFT\n",
    "# ================================================================\n",
    "def prepare_fft_data(series: pd.Series):\n",
    "    \"\"\"\n",
    "    Pré-processa a série e retorna frequências e magnitudes positivas.\n",
    "    / Preprocesses the series and returns positive frequencies and magnitudes.\n",
    "    \"\"\"\n",
    "    series = series.dropna().values\n",
    "    n = len(series)\n",
    "    fft_vals = np.fft.fft(series)\n",
    "    fft_freqs = np.fft.fftfreq(n)\n",
    "\n",
    "    pos_mask = fft_freqs > 0\n",
    "    # --> Considera apenas frequências positivas / Keep only positive frequencies <--\n",
    "\n",
    "    freqs = fft_freqs[pos_mask]\n",
    "    magnitudes = np.abs(fft_vals[pos_mask])\n",
    "    # --> Calcula módulo das componentes espectrais / Compute magnitude of spectral components <--\n",
    "\n",
    "    return freqs, magnitudes\n",
    "\n",
    "# ================================================================\n",
    "# CÁLCULO DA RAZÃO DE ENERGIA / ENERGY RATIO\n",
    "# ================================================================\n",
    "def calculate_energy_ratio(magnitudes: np.ndarray, top_k: int) -> float:\n",
    "    \"\"\"\n",
    "    Calcula a razão entre a energia das top-k amplitudes e a energia total.\n",
    "    / Calculates the ratio between top-k dominant energy and total energy.\n",
    "    \"\"\"\n",
    "    total_energy = np.sum(magnitudes**2)\n",
    "    # --> Energia total = soma dos quadrados das magnitudes / Total energy = sum of squared magnitudes <--\n",
    "\n",
    "    topk_energy = np.sum(np.sort(magnitudes**2)[-top_k:])\n",
    "    # --> Energia nas k maiores componentes / Energy from top-k dominant components <--\n",
    "\n",
    "    return topk_energy / total_energy\n",
    "    # --> Retorna a razão de concentração energética / Returns energy concentration ratio <--\n",
    "\n",
    "# ================================================================\n",
    "# CÁLCULO DA ENTROPIA ESPECTRAL / SPECTRAL ENTROPY\n",
    "# ================================================================\n",
    "def calculate_spectral_entropy(magnitudes: np.ndarray) -> float:\n",
    "    \"\"\"\n",
    "    Calcula a entropia espectral da distribuição de frequência.\n",
    "    / Computes the spectral entropy of the frequency distribution.\n",
    "    \"\"\"\n",
    "    prob_dist = magnitudes / np.sum(magnitudes)\n",
    "    # --> Distribuição de probabilidade normalizada / Normalized probability distribution <--\n",
    "\n",
    "    return -np.sum(prob_dist * np.log2(prob_dist + 1e-12))\n",
    "    # --> Entropia de Shannon (com estabilidade numérica) / Shannon entropy (with numerical stability) <--\n",
    "\n",
    "# ================================================================\n",
    "# EXTRAÇÃO DE FEATURES FFT COM JANELAS MÓVEIS\n",
    "# ================================================================\n",
    "def extract_fft_features_df(\n",
    "    series: pd.Series,\n",
    "    window_size: int = 60,\n",
    "    step: int = 10,\n",
    "    top_k: int = 3\n",
    ") -> pd.DataFrame:\n",
    "    \"\"\"\n",
    "    Extrai features estruturais da série via FFT e retorna um DataFrame com múltiplas janelas móveis.\n",
    "    / Extracts structural features from time series using FFT and returns a DataFrame with multiple rolling windows.\n",
    "\n",
    "    Parâmetros / Parameters:\n",
    "    - series: pd.Series\n",
    "        Série temporal com índice temporal / Time-indexed numeric series.\n",
    "    - window_size: int\n",
    "        Tamanho da janela móvel (número de pontos) / Size of the rolling window (number of points).\n",
    "    - step: int\n",
    "        Passo entre janelas consecutivas / Step size between consecutive windows.\n",
    "    - top_k: int\n",
    "        Número de componentes principais de frequência / Number of dominant frequency components.\n",
    "\n",
    "    Retorna / Returns:\n",
    "    - pd.DataFrame com features para todas as janelas móveis / DataFrame with features for all rolling windows.\n",
    "    \"\"\"\n",
    "    result_list = []\n",
    "\n",
    "    for i in range(0, len(series) - window_size + 1, step):\n",
    "        window = series.iloc[i:i + window_size]\n",
    "\n",
    "        # Dados de rastreio\n",
    "        block_height = series.index[i + window_size - 1]\n",
    "        block_timestamp = series.index[i + window_size - 1]\n",
    "\n",
    "        # Processamento de FFT\n",
    "        freqs, magnitudes = prepare_fft_data(window)\n",
    "\n",
    "        # Extração das features\n",
    "        features = {\n",
    "            \"block_height\": block_height,\n",
    "            \"block_timestamp\": block_timestamp,\n",
    "            \"fft_dominant_freq\": freqs[np.argmax(magnitudes)],\n",
    "            # --> Frequência dominante (maior pico) / Dominant frequency (highest peak) <--\n",
    "\n",
    "            \"fft_energy_ratio\": calculate_energy_ratio(magnitudes, top_k),\n",
    "            # --> Razão da energia nas top-k frequências / Energy ratio in top-k components <--\n",
    "\n",
    "            \"fft_peak_amplitude\": np.max(magnitudes),\n",
    "            # --> Amplitude máxima / Maximum amplitude <--\n",
    "\n",
    "            \"fft_spectral_entropy\": calculate_spectral_entropy(magnitudes)\n",
    "            # --> Entropia espectral / Spectral entropy <--\n",
    "        }\n",
    "\n",
    "        # Adiciona os resultados para cada janela\n",
    "        result_list.append(features)\n",
    "\n",
    "    # Retorna todos os resultados concatenados em um DataFrame\n",
    "    return pd.DataFrame(result_list)\n",
    "    # --> Retorna as features para todas as janelas móveis / Returns features for all rolling windows <--"
   ]
  },
  {
   "cell_type": "code",
   "execution_count": 55,
   "metadata": {},
   "outputs": [
    {
     "data": {
      "application/vnd.microsoft.datawrangler.viewer.v0+json": {
       "columns": [
        {
         "name": "index",
         "rawType": "int64",
         "type": "integer"
        }
       ],
       "conversionMethod": "pd.DataFrame",
       "ref": "d532223b-251f-4d5c-88bf-c6514538a2b3",
       "rows": [],
       "shape": {
        "columns": 0,
        "rows": 0
       }
      },
      "text/html": [
       "<div>\n",
       "<style scoped>\n",
       "    .dataframe tbody tr th:only-of-type {\n",
       "        vertical-align: middle;\n",
       "    }\n",
       "\n",
       "    .dataframe tbody tr th {\n",
       "        vertical-align: top;\n",
       "    }\n",
       "\n",
       "    .dataframe thead th {\n",
       "        text-align: right;\n",
       "    }\n",
       "</style>\n",
       "<table border=\"1\" class=\"dataframe\">\n",
       "  <thead>\n",
       "    <tr style=\"text-align: right;\">\n",
       "      <th></th>\n",
       "    </tr>\n",
       "  </thead>\n",
       "  <tbody>\n",
       "  </tbody>\n",
       "</table>\n",
       "</div>"
      ],
      "text/plain": [
       "Empty DataFrame\n",
       "Columns: []\n",
       "Index: []"
      ]
     },
     "metadata": {},
     "output_type": "display_data"
    }
   ],
   "source": [
    "# Definindo parâmetros de janela e passo\n",
    "window_size = 60  # Tamanho da janela (exemplo: 60 períodos de dados)\n",
    "step = 10         # Passo de 10 períodos entre as janelas\n",
    "\n",
    "# Chamando a função para extrair as features FFT para a série temporal\n",
    "fft_features_df = extract_fft_features_df(series=df_fft['btc_price_usd'], window_size=window_size, step=step)\n",
    "\n",
    "# Exibindo as primeiras 5 linhas do DataFrame resultante\n",
    "display(fft_features_df.head())"
   ]
  },
  {
   "cell_type": "code",
   "execution_count": 56,
   "metadata": {},
   "outputs": [
    {
     "name": "stdout",
     "output_type": "stream",
     "text": [
      "Coluna 'block_timestamp' não encontrada, criando uma coluna fictícia.\n"
     ]
    },
    {
     "data": {
      "application/vnd.microsoft.datawrangler.viewer.v0+json": {
       "columns": [
        {
         "name": "block_timestamp",
         "rawType": "datetime64[us]",
         "type": "unknown"
        },
        {
         "name": "block_height",
         "rawType": "float64",
         "type": "float"
        },
        {
         "name": "block_timestamp",
         "rawType": "datetime64[ns]",
         "type": "datetime"
        },
        {
         "name": "is_peak",
         "rawType": "int64",
         "type": "integer"
        },
        {
         "name": "is_valley",
         "rawType": "int64",
         "type": "integer"
        }
       ],
       "conversionMethod": "pd.DataFrame",
       "ref": "11fc1d9e-b698-4b49-88d7-370fa33e0620",
       "rows": [
        [
         "2025-04-02 00:00:00",
         "890546.9583333334",
         "2024-01-02 00:00:00",
         "1",
         "0"
        ],
        [
         "2025-04-07 00:00:00",
         "891340.1875",
         "2024-01-07 00:00:00",
         "0",
         "1"
        ]
       ],
       "shape": {
        "columns": 4,
        "rows": 2
       }
      },
      "text/html": [
       "<div>\n",
       "<style scoped>\n",
       "    .dataframe tbody tr th:only-of-type {\n",
       "        vertical-align: middle;\n",
       "    }\n",
       "\n",
       "    .dataframe tbody tr th {\n",
       "        vertical-align: top;\n",
       "    }\n",
       "\n",
       "    .dataframe thead th {\n",
       "        text-align: right;\n",
       "    }\n",
       "</style>\n",
       "<table border=\"1\" class=\"dataframe\">\n",
       "  <thead>\n",
       "    <tr style=\"text-align: right;\">\n",
       "      <th></th>\n",
       "      <th>block_height</th>\n",
       "      <th>block_timestamp</th>\n",
       "      <th>is_peak</th>\n",
       "      <th>is_valley</th>\n",
       "    </tr>\n",
       "    <tr>\n",
       "      <th>block_timestamp</th>\n",
       "      <th></th>\n",
       "      <th></th>\n",
       "      <th></th>\n",
       "      <th></th>\n",
       "    </tr>\n",
       "  </thead>\n",
       "  <tbody>\n",
       "    <tr>\n",
       "      <th>2025-04-02</th>\n",
       "      <td>890546.958333</td>\n",
       "      <td>2024-01-02</td>\n",
       "      <td>1</td>\n",
       "      <td>0</td>\n",
       "    </tr>\n",
       "    <tr>\n",
       "      <th>2025-04-07</th>\n",
       "      <td>891340.187500</td>\n",
       "      <td>2024-01-07</td>\n",
       "      <td>0</td>\n",
       "      <td>1</td>\n",
       "    </tr>\n",
       "  </tbody>\n",
       "</table>\n",
       "</div>"
      ],
      "text/plain": [
       "                  block_height block_timestamp  is_peak  is_valley\n",
       "block_timestamp                                                   \n",
       "2025-04-02       890546.958333      2024-01-02        1          0\n",
       "2025-04-07       891340.187500      2024-01-07        0          1"
      ]
     },
     "metadata": {},
     "output_type": "display_data"
    }
   ],
   "source": [
    "df_peaks = extract_peak_features(df_fft, column=\"btc_price_usd\", distance=8)\n",
    "display(df_peaks.head())"
   ]
  },
  {
   "cell_type": "code",
   "execution_count": 57,
   "metadata": {},
   "outputs": [
    {
     "data": {
      "application/vnd.microsoft.datawrangler.viewer.v0+json": {
       "columns": [
        {
         "name": "index",
         "rawType": "int64",
         "type": "integer"
        },
        {
         "name": "block_height",
         "rawType": "float64",
         "type": "float"
        },
        {
         "name": "block_timestamp",
         "rawType": "datetime64[ns]",
         "type": "datetime"
        },
        {
         "name": "dias_desde_ultimo_vale",
         "rawType": "float64",
         "type": "float"
        },
        {
         "name": "duracao_ultimo_ciclo",
         "rawType": "float64",
         "type": "float"
        },
        {
         "name": "amplitude_ultimo_ciclo",
         "rawType": "float64",
         "type": "float"
        },
        {
         "name": "fase_ciclo",
         "rawType": "float64",
         "type": "float"
        },
        {
         "name": "flag_em_topo",
         "rawType": "int64",
         "type": "integer"
        }
       ],
       "conversionMethod": "pd.DataFrame",
       "ref": "d6f2bf9e-b544-43b1-aee4-1ff83fae35b8",
       "rows": [
        [
         "0",
         "891476.2368421053",
         "2024-01-08 00:00:00",
         null,
         null,
         null,
         null,
         "0"
        ]
       ],
       "shape": {
        "columns": 7,
        "rows": 1
       }
      },
      "text/html": [
       "<div>\n",
       "<style scoped>\n",
       "    .dataframe tbody tr th:only-of-type {\n",
       "        vertical-align: middle;\n",
       "    }\n",
       "\n",
       "    .dataframe tbody tr th {\n",
       "        vertical-align: top;\n",
       "    }\n",
       "\n",
       "    .dataframe thead th {\n",
       "        text-align: right;\n",
       "    }\n",
       "</style>\n",
       "<table border=\"1\" class=\"dataframe\">\n",
       "  <thead>\n",
       "    <tr style=\"text-align: right;\">\n",
       "      <th></th>\n",
       "      <th>block_height</th>\n",
       "      <th>block_timestamp</th>\n",
       "      <th>dias_desde_ultimo_vale</th>\n",
       "      <th>duracao_ultimo_ciclo</th>\n",
       "      <th>amplitude_ultimo_ciclo</th>\n",
       "      <th>fase_ciclo</th>\n",
       "      <th>flag_em_topo</th>\n",
       "    </tr>\n",
       "  </thead>\n",
       "  <tbody>\n",
       "    <tr>\n",
       "      <th>0</th>\n",
       "      <td>891476.236842</td>\n",
       "      <td>2024-01-08</td>\n",
       "      <td>NaN</td>\n",
       "      <td>NaN</td>\n",
       "      <td>NaN</td>\n",
       "      <td>NaN</td>\n",
       "      <td>0</td>\n",
       "    </tr>\n",
       "  </tbody>\n",
       "</table>\n",
       "</div>"
      ],
      "text/plain": [
       "    block_height block_timestamp  dias_desde_ultimo_vale  \\\n",
       "0  891476.236842      2024-01-08                     NaN   \n",
       "\n",
       "   duracao_ultimo_ciclo  amplitude_ultimo_ciclo  fase_ciclo  flag_em_topo  \n",
       "0                   NaN                     NaN         NaN             0  "
      ]
     },
     "metadata": {},
     "output_type": "display_data"
    }
   ],
   "source": [
    "# Janela de exemplo\n",
    "window = df_fft[\"btc_price_usd\"].iloc[-60:]\n",
    "block_height_final = df_fft[\"block_height\"].iloc[-1]\n",
    "timestamp_final = df_fft[\"block_timestamp\"].iloc[-1]\n",
    "\n",
    "# Execução\n",
    "df_ciclico = extract_cyclic_features(\n",
    "    series=window,\n",
    "    block_height=block_height_final,\n",
    "    block_timestamp=timestamp_final,\n",
    "    distance=8\n",
    ")\n",
    "\n",
    "display(df_ciclico)"
   ]
  },
  {
   "cell_type": "code",
   "execution_count": 58,
   "metadata": {},
   "outputs": [],
   "source": [
    "series = df_fft[\"btc_price_usd\"].dropna()\n",
    "# --> Remove valores ausentes da série / Drops missing values from the series <--\n",
    "\n",
    "n = len(series)\n",
    "# --> Número total de observações na série / Total number of observations in the series <--\n",
    "\n",
    "fft_vals = np.fft.fft(series)\n",
    "# --> Aplica a Transformada Rápida de Fourier (FFT) / Applies Fast Fourier Transform (FFT) <--\n",
    "\n",
    "fft_freqs = np.fft.fftfreq(n)\n",
    "# --> Frequências associadas aos coeficientes FFT / Frequencies corresponding to FFT coefficients <--\n",
    "\n",
    "# ===========================\n",
    "# FILTRO: FREQUÊNCIAS POSITIVAS\n",
    "# ===========================\n",
    "\n",
    "mask = fft_freqs > 0\n",
    "fft_freqs = fft_freqs[mask]\n",
    "fft_vals = fft_vals[mask]\n",
    "# --> Mantém apenas as frequências positivas (metade direita do espectro) / Keeps only positive frequencies (right half of the spectrum) <--\n",
    "\n",
    "# ================================\n",
    "# CÁLCULO DA POTÊNCIA / POWER SPECTRUM\n",
    "# ================================\n",
    "\n",
    "power = np.abs(fft_vals)**2\n",
    "# --> Potência espectral (amplitude²) de cada componente harmônico / Spectral power (amplitude²) for each harmonic <--\n",
    "\n",
    "periods = 1 / fft_freqs\n",
    "# --> Converte frequência em período (em unidades de tempo) / Converts frequency to period (in time units) <--\n",
    "\n",
    "# ===================================\n",
    "# FILTRAGEM DE PERÍODOS EXTREMOS\n",
    "# ===================================\n",
    "\n",
    "valid = (periods < 500)\n",
    "periods_filtered = periods[valid]\n",
    "power_filtered = power[valid]\n",
    "# --> Remove períodos muito longos que não são relevantes (ex: acima de 500 unidades) / Filters out long periods (e.g., over 500 units) <--\n",
    "\n",
    "# ===================================\n",
    "# SELEÇÃO DOS PRINCIPAIS PONTOS\n",
    "# ===================================\n",
    "\n",
    "top_peaks = np.argsort(power_filtered)[-3:]\n",
    "# --> Seleciona os índices das 3 maiores potências (frequências dominantes) / Selects indices of the top 3 dominant frequencies <--"
   ]
  },
  {
   "cell_type": "code",
   "execution_count": 59,
   "metadata": {},
   "outputs": [
    {
     "data": {
      "application/vnd.plotly.v1+json": {
       "config": {
        "plotlyServerURL": "https://plot.ly"
       },
       "data": [
        {
         "fill": "tozeroy",
         "fillcolor": "rgba(229, 165, 0, 0.25)",
         "line": {
          "color": "#E57C1F",
          "width": 2
         },
         "mode": "lines",
         "name": "Potência / Power",
         "type": "scatter",
         "x": {
          "bdata": "AAAAAAAAIEAAAAAAAAAQQFVVVVVVVQVA",
          "dtype": "f8"
         },
         "y": {
          "bdata": "NE0PoSWlmUEMDHn44HKPQcEJZMRB4UJB",
          "dtype": "f8"
         }
        },
        {
         "hovertemplate": "<b>1.3h (0.1d)</b><br>Ciclo recorrente a cada 0.1 dias<br>Amplitude média: ±196.64 USD<br>Potência: 2474627.53 bilhões USD²",
         "marker": {
          "color": "white",
          "size": 8
         },
         "mode": "markers+text",
         "showlegend": false,
         "text": [
          "1.3h"
         ],
         "textfont": {
          "color": "white",
          "size": 12
         },
         "textposition": "top center",
         "type": "scatter",
         "x": [
          2.6666666666666665
         ],
         "y": [
          2474627.5343029206
         ]
        },
        {
         "hovertemplate": "<b>2.0h (0.1d)</b><br>Ciclo recorrente a cada 0.1 dias<br>Amplitude média: ±1015.14 USD<br>Potência: 65952799.06 bilhões USD²",
         "marker": {
          "color": "white",
          "size": 8
         },
         "mode": "markers+text",
         "showlegend": false,
         "text": [
          "2.0h"
         ],
         "textfont": {
          "color": "white",
          "size": 12
         },
         "textposition": "top center",
         "type": "scatter",
         "x": [
          4
         ],
         "y": [
          65952799.05910501
         ]
        },
        {
         "hovertemplate": "<b>4.0h (0.2d)</b><br>Ciclo recorrente a cada 0.2 dias<br>Amplitude média: ±1296.41 USD<br>Potência: 107563368.26 bilhões USD²",
         "marker": {
          "color": "white",
          "size": 8
         },
         "mode": "markers+text",
         "showlegend": false,
         "text": [
          "4.0h"
         ],
         "textfont": {
          "color": "white",
          "size": 12
         },
         "textposition": "top center",
         "type": "scatter",
         "x": [
          8
         ],
         "y": [
          107563368.26494294
         ]
        }
       ],
       "layout": {
        "height": 600,
        "images": [
         {
          "sizex": 0.15,
          "sizey": 0.15,
          "source": "/Users/rodrigocampos/Documents/Bitcoin/project/src/visualizations/BTC_black.png",
          "x": 0.008,
          "xanchor": "left",
          "xref": "paper",
          "y": 1.2,
          "yanchor": "top",
          "yref": "paper"
         }
        ],
        "margin": {
         "b": 50,
         "l": 60,
         "r": 40,
         "t": 100
        },
        "template": {
         "data": {
          "bar": [
           {
            "error_x": {
             "color": "#f2f5fa"
            },
            "error_y": {
             "color": "#f2f5fa"
            },
            "marker": {
             "line": {
              "color": "rgb(17,17,17)",
              "width": 0.5
             },
             "pattern": {
              "fillmode": "overlay",
              "size": 10,
              "solidity": 0.2
             }
            },
            "type": "bar"
           }
          ],
          "barpolar": [
           {
            "marker": {
             "line": {
              "color": "rgb(17,17,17)",
              "width": 0.5
             },
             "pattern": {
              "fillmode": "overlay",
              "size": 10,
              "solidity": 0.2
             }
            },
            "type": "barpolar"
           }
          ],
          "carpet": [
           {
            "aaxis": {
             "endlinecolor": "#A2B1C6",
             "gridcolor": "#506784",
             "linecolor": "#506784",
             "minorgridcolor": "#506784",
             "startlinecolor": "#A2B1C6"
            },
            "baxis": {
             "endlinecolor": "#A2B1C6",
             "gridcolor": "#506784",
             "linecolor": "#506784",
             "minorgridcolor": "#506784",
             "startlinecolor": "#A2B1C6"
            },
            "type": "carpet"
           }
          ],
          "choropleth": [
           {
            "colorbar": {
             "outlinewidth": 0,
             "ticks": ""
            },
            "type": "choropleth"
           }
          ],
          "contour": [
           {
            "colorbar": {
             "outlinewidth": 0,
             "ticks": ""
            },
            "colorscale": [
             [
              0,
              "#0d0887"
             ],
             [
              0.1111111111111111,
              "#46039f"
             ],
             [
              0.2222222222222222,
              "#7201a8"
             ],
             [
              0.3333333333333333,
              "#9c179e"
             ],
             [
              0.4444444444444444,
              "#bd3786"
             ],
             [
              0.5555555555555556,
              "#d8576b"
             ],
             [
              0.6666666666666666,
              "#ed7953"
             ],
             [
              0.7777777777777778,
              "#fb9f3a"
             ],
             [
              0.8888888888888888,
              "#fdca26"
             ],
             [
              1,
              "#f0f921"
             ]
            ],
            "type": "contour"
           }
          ],
          "contourcarpet": [
           {
            "colorbar": {
             "outlinewidth": 0,
             "ticks": ""
            },
            "type": "contourcarpet"
           }
          ],
          "heatmap": [
           {
            "colorbar": {
             "outlinewidth": 0,
             "ticks": ""
            },
            "colorscale": [
             [
              0,
              "#0d0887"
             ],
             [
              0.1111111111111111,
              "#46039f"
             ],
             [
              0.2222222222222222,
              "#7201a8"
             ],
             [
              0.3333333333333333,
              "#9c179e"
             ],
             [
              0.4444444444444444,
              "#bd3786"
             ],
             [
              0.5555555555555556,
              "#d8576b"
             ],
             [
              0.6666666666666666,
              "#ed7953"
             ],
             [
              0.7777777777777778,
              "#fb9f3a"
             ],
             [
              0.8888888888888888,
              "#fdca26"
             ],
             [
              1,
              "#f0f921"
             ]
            ],
            "type": "heatmap"
           }
          ],
          "histogram": [
           {
            "marker": {
             "pattern": {
              "fillmode": "overlay",
              "size": 10,
              "solidity": 0.2
             }
            },
            "type": "histogram"
           }
          ],
          "histogram2d": [
           {
            "colorbar": {
             "outlinewidth": 0,
             "ticks": ""
            },
            "colorscale": [
             [
              0,
              "#0d0887"
             ],
             [
              0.1111111111111111,
              "#46039f"
             ],
             [
              0.2222222222222222,
              "#7201a8"
             ],
             [
              0.3333333333333333,
              "#9c179e"
             ],
             [
              0.4444444444444444,
              "#bd3786"
             ],
             [
              0.5555555555555556,
              "#d8576b"
             ],
             [
              0.6666666666666666,
              "#ed7953"
             ],
             [
              0.7777777777777778,
              "#fb9f3a"
             ],
             [
              0.8888888888888888,
              "#fdca26"
             ],
             [
              1,
              "#f0f921"
             ]
            ],
            "type": "histogram2d"
           }
          ],
          "histogram2dcontour": [
           {
            "colorbar": {
             "outlinewidth": 0,
             "ticks": ""
            },
            "colorscale": [
             [
              0,
              "#0d0887"
             ],
             [
              0.1111111111111111,
              "#46039f"
             ],
             [
              0.2222222222222222,
              "#7201a8"
             ],
             [
              0.3333333333333333,
              "#9c179e"
             ],
             [
              0.4444444444444444,
              "#bd3786"
             ],
             [
              0.5555555555555556,
              "#d8576b"
             ],
             [
              0.6666666666666666,
              "#ed7953"
             ],
             [
              0.7777777777777778,
              "#fb9f3a"
             ],
             [
              0.8888888888888888,
              "#fdca26"
             ],
             [
              1,
              "#f0f921"
             ]
            ],
            "type": "histogram2dcontour"
           }
          ],
          "mesh3d": [
           {
            "colorbar": {
             "outlinewidth": 0,
             "ticks": ""
            },
            "type": "mesh3d"
           }
          ],
          "parcoords": [
           {
            "line": {
             "colorbar": {
              "outlinewidth": 0,
              "ticks": ""
             }
            },
            "type": "parcoords"
           }
          ],
          "pie": [
           {
            "automargin": true,
            "type": "pie"
           }
          ],
          "scatter": [
           {
            "marker": {
             "line": {
              "color": "#283442"
             }
            },
            "type": "scatter"
           }
          ],
          "scatter3d": [
           {
            "line": {
             "colorbar": {
              "outlinewidth": 0,
              "ticks": ""
             }
            },
            "marker": {
             "colorbar": {
              "outlinewidth": 0,
              "ticks": ""
             }
            },
            "type": "scatter3d"
           }
          ],
          "scattercarpet": [
           {
            "marker": {
             "colorbar": {
              "outlinewidth": 0,
              "ticks": ""
             }
            },
            "type": "scattercarpet"
           }
          ],
          "scattergeo": [
           {
            "marker": {
             "colorbar": {
              "outlinewidth": 0,
              "ticks": ""
             }
            },
            "type": "scattergeo"
           }
          ],
          "scattergl": [
           {
            "marker": {
             "line": {
              "color": "#283442"
             }
            },
            "type": "scattergl"
           }
          ],
          "scattermap": [
           {
            "marker": {
             "colorbar": {
              "outlinewidth": 0,
              "ticks": ""
             }
            },
            "type": "scattermap"
           }
          ],
          "scattermapbox": [
           {
            "marker": {
             "colorbar": {
              "outlinewidth": 0,
              "ticks": ""
             }
            },
            "type": "scattermapbox"
           }
          ],
          "scatterpolar": [
           {
            "marker": {
             "colorbar": {
              "outlinewidth": 0,
              "ticks": ""
             }
            },
            "type": "scatterpolar"
           }
          ],
          "scatterpolargl": [
           {
            "marker": {
             "colorbar": {
              "outlinewidth": 0,
              "ticks": ""
             }
            },
            "type": "scatterpolargl"
           }
          ],
          "scatterternary": [
           {
            "marker": {
             "colorbar": {
              "outlinewidth": 0,
              "ticks": ""
             }
            },
            "type": "scatterternary"
           }
          ],
          "surface": [
           {
            "colorbar": {
             "outlinewidth": 0,
             "ticks": ""
            },
            "colorscale": [
             [
              0,
              "#0d0887"
             ],
             [
              0.1111111111111111,
              "#46039f"
             ],
             [
              0.2222222222222222,
              "#7201a8"
             ],
             [
              0.3333333333333333,
              "#9c179e"
             ],
             [
              0.4444444444444444,
              "#bd3786"
             ],
             [
              0.5555555555555556,
              "#d8576b"
             ],
             [
              0.6666666666666666,
              "#ed7953"
             ],
             [
              0.7777777777777778,
              "#fb9f3a"
             ],
             [
              0.8888888888888888,
              "#fdca26"
             ],
             [
              1,
              "#f0f921"
             ]
            ],
            "type": "surface"
           }
          ],
          "table": [
           {
            "cells": {
             "fill": {
              "color": "#506784"
             },
             "line": {
              "color": "rgb(17,17,17)"
             }
            },
            "header": {
             "fill": {
              "color": "#2a3f5f"
             },
             "line": {
              "color": "rgb(17,17,17)"
             }
            },
            "type": "table"
           }
          ]
         },
         "layout": {
          "annotationdefaults": {
           "arrowcolor": "#f2f5fa",
           "arrowhead": 0,
           "arrowwidth": 1
          },
          "autotypenumbers": "strict",
          "coloraxis": {
           "colorbar": {
            "outlinewidth": 0,
            "ticks": ""
           }
          },
          "colorscale": {
           "diverging": [
            [
             0,
             "#8e0152"
            ],
            [
             0.1,
             "#c51b7d"
            ],
            [
             0.2,
             "#de77ae"
            ],
            [
             0.3,
             "#f1b6da"
            ],
            [
             0.4,
             "#fde0ef"
            ],
            [
             0.5,
             "#f7f7f7"
            ],
            [
             0.6,
             "#e6f5d0"
            ],
            [
             0.7,
             "#b8e186"
            ],
            [
             0.8,
             "#7fbc41"
            ],
            [
             0.9,
             "#4d9221"
            ],
            [
             1,
             "#276419"
            ]
           ],
           "sequential": [
            [
             0,
             "#0d0887"
            ],
            [
             0.1111111111111111,
             "#46039f"
            ],
            [
             0.2222222222222222,
             "#7201a8"
            ],
            [
             0.3333333333333333,
             "#9c179e"
            ],
            [
             0.4444444444444444,
             "#bd3786"
            ],
            [
             0.5555555555555556,
             "#d8576b"
            ],
            [
             0.6666666666666666,
             "#ed7953"
            ],
            [
             0.7777777777777778,
             "#fb9f3a"
            ],
            [
             0.8888888888888888,
             "#fdca26"
            ],
            [
             1,
             "#f0f921"
            ]
           ],
           "sequentialminus": [
            [
             0,
             "#0d0887"
            ],
            [
             0.1111111111111111,
             "#46039f"
            ],
            [
             0.2222222222222222,
             "#7201a8"
            ],
            [
             0.3333333333333333,
             "#9c179e"
            ],
            [
             0.4444444444444444,
             "#bd3786"
            ],
            [
             0.5555555555555556,
             "#d8576b"
            ],
            [
             0.6666666666666666,
             "#ed7953"
            ],
            [
             0.7777777777777778,
             "#fb9f3a"
            ],
            [
             0.8888888888888888,
             "#fdca26"
            ],
            [
             1,
             "#f0f921"
            ]
           ]
          },
          "colorway": [
           "#636efa",
           "#EF553B",
           "#00cc96",
           "#ab63fa",
           "#FFA15A",
           "#19d3f3",
           "#FF6692",
           "#B6E880",
           "#FF97FF",
           "#FECB52"
          ],
          "font": {
           "color": "#f2f5fa"
          },
          "geo": {
           "bgcolor": "rgb(17,17,17)",
           "lakecolor": "rgb(17,17,17)",
           "landcolor": "rgb(17,17,17)",
           "showlakes": true,
           "showland": true,
           "subunitcolor": "#506784"
          },
          "hoverlabel": {
           "align": "left"
          },
          "hovermode": "closest",
          "mapbox": {
           "style": "dark"
          },
          "paper_bgcolor": "rgb(17,17,17)",
          "plot_bgcolor": "rgb(17,17,17)",
          "polar": {
           "angularaxis": {
            "gridcolor": "#506784",
            "linecolor": "#506784",
            "ticks": ""
           },
           "bgcolor": "rgb(17,17,17)",
           "radialaxis": {
            "gridcolor": "#506784",
            "linecolor": "#506784",
            "ticks": ""
           }
          },
          "scene": {
           "xaxis": {
            "backgroundcolor": "rgb(17,17,17)",
            "gridcolor": "#506784",
            "gridwidth": 2,
            "linecolor": "#506784",
            "showbackground": true,
            "ticks": "",
            "zerolinecolor": "#C8D4E3"
           },
           "yaxis": {
            "backgroundcolor": "rgb(17,17,17)",
            "gridcolor": "#506784",
            "gridwidth": 2,
            "linecolor": "#506784",
            "showbackground": true,
            "ticks": "",
            "zerolinecolor": "#C8D4E3"
           },
           "zaxis": {
            "backgroundcolor": "rgb(17,17,17)",
            "gridcolor": "#506784",
            "gridwidth": 2,
            "linecolor": "#506784",
            "showbackground": true,
            "ticks": "",
            "zerolinecolor": "#C8D4E3"
           }
          },
          "shapedefaults": {
           "line": {
            "color": "#f2f5fa"
           }
          },
          "sliderdefaults": {
           "bgcolor": "#C8D4E3",
           "bordercolor": "rgb(17,17,17)",
           "borderwidth": 1,
           "tickwidth": 0
          },
          "ternary": {
           "aaxis": {
            "gridcolor": "#506784",
            "linecolor": "#506784",
            "ticks": ""
           },
           "baxis": {
            "gridcolor": "#506784",
            "linecolor": "#506784",
            "ticks": ""
           },
           "bgcolor": "rgb(17,17,17)",
           "caxis": {
            "gridcolor": "#506784",
            "linecolor": "#506784",
            "ticks": ""
           }
          },
          "title": {
           "x": 0.05
          },
          "updatemenudefaults": {
           "bgcolor": "#506784",
           "borderwidth": 0
          },
          "xaxis": {
           "automargin": true,
           "gridcolor": "#283442",
           "linecolor": "#506784",
           "ticks": "",
           "title": {
            "standoff": 15
           },
           "zerolinecolor": "#283442",
           "zerolinewidth": 2
          },
          "yaxis": {
           "automargin": true,
           "gridcolor": "#283442",
           "linecolor": "#506784",
           "ticks": "",
           "title": {
            "standoff": 15
           },
           "zerolinecolor": "#283442",
           "zerolinewidth": 2
          }
         }
        },
        "title": {
         "text": "<b><span style='font-size:22px;'>Harmônicos (Ciclos) Dominantes no Preço do Bitcoin</span><br><span style='font-size:14px;'>Detectados via Transformada de Fourier (FFT)</span></b>",
         "x": 0.5,
         "xanchor": "center",
         "y": 0.95,
         "yanchor": "top"
        },
        "xaxis": {
         "tickfont": {
          "size": 12
         },
         "title": {
          "font": {
           "size": 14
          },
          "text": "Período (em passos de 30 min) / Period (in 30-min steps)"
         }
        },
        "yaxis": {
         "tickfont": {
          "size": 12
         },
         "tickformat": ",",
         "title": {
          "font": {
           "size": 14
          },
          "text": "Intensidade do Harmônico (em USD²) / Harmonic Intensity (in USD²)"
         }
        }
       }
      }
     },
     "metadata": {},
     "output_type": "display_data"
    }
   ],
   "source": [
    "plot_fft_spectrum(\n",
    "    periods=periods_filtered,\n",
    "    power=power_filtered,\n",
    "    fft_vals=fft_vals,\n",
    "    n=n,\n",
    "    top_peaks_idx=top_peaks,\n",
    "    image_path=\"/Users/rodrigocampos/Documents/Bitcoin/project/src/visualizations/BTC_black.png\"\n",
    ")"
   ]
  },
  {
   "cell_type": "markdown",
   "metadata": {},
   "source": [
    "##### 🔶 ₿ -----> Reconstrução Cíclica com FFT"
   ]
  },
  {
   "cell_type": "code",
   "execution_count": 60,
   "metadata": {},
   "outputs": [],
   "source": [
    "reconstructed = reconstruct_fft(df_fft[\"btc_price_usd\"], 3)"
   ]
  },
  {
   "cell_type": "code",
   "execution_count": 61,
   "metadata": {},
   "outputs": [],
   "source": [
    "# Série de preços original\n",
    "price_series = df_stl[\"btc_price_usd\"]\n",
    "# --> Série original de preços / Original price series <--\n",
    "\n",
    "# Série centralizada (remoção da tendência via STL ou suavização)\n",
    "price_detrended = price_series - df_stl_dec[\"trend\"]\n",
    "# --> Remove a tendência da série para aplicar a FFT / Removes trend to isolate cyclical components <--"
   ]
  },
  {
   "cell_type": "code",
   "execution_count": 62,
   "metadata": {},
   "outputs": [
    {
     "data": {
      "application/vnd.plotly.v1+json": {
       "config": {
        "plotlyServerURL": "https://plot.ly"
       },
       "data": [
        {
         "fill": "tozeroy",
         "fillcolor": "rgba(229,165,0,0.25)",
         "line": {
          "color": "white",
          "dash": "dot",
          "width": 2
         },
         "name": "Reconstrução FFT (Top Frequências)",
         "type": "scatter",
         "x": [
          "2025-04-01T00:00:00.000000",
          "2025-04-02T00:00:00.000000",
          "2025-04-03T00:00:00.000000",
          "2025-04-04T00:00:00.000000",
          "2025-04-05T00:00:00.000000",
          "2025-04-06T00:00:00.000000",
          "2025-04-07T00:00:00.000000",
          "2025-04-08T00:00:00.000000"
         ],
         "y": {
          "bdata": "0C+W/J6MoEAfIiIiwiilQMCBThvYPIlAwPxiya+HkEDgehSuv3yUQHy4HoUrsoDA2AY6bRqNsMBg8oslD0CpwA==",
          "dtype": "f8"
         }
        },
        {
         "line": {
          "color": "#E57C1F",
          "width": 1.2
         },
         "name": "Série Centralizada",
         "opacity": 0.3,
         "type": "scatter",
         "x": [
          "2025-04-01T00:00:00.000000",
          "2025-04-02T00:00:00.000000",
          "2025-04-03T00:00:00.000000",
          "2025-04-04T00:00:00.000000",
          "2025-04-05T00:00:00.000000",
          "2025-04-06T00:00:00.000000",
          "2025-04-07T00:00:00.000000",
          "2025-04-08T00:00:00.000000"
         ],
         "y": {
          "bdata": "AJLLccLcpcAA5WHBlzClwEDvyEgm26HAYBrYK3OXosDAdinfu36hwMBaLij2sqHAgIdLMMm1m8AANKEiBBSbwMALQ8E2UJDAgAn0Z3oViMAAKazH0jmMwMDlDkPkopHAQJapCrjslcAAGZYnomyUwADz8QUSXIfAAGHDhdKrd0AA5B54JihvQAAaJhvRm3FAAOarf86wc0AAFEDApThnQADPo1AW9X9AABppCIIqgEAAsmYIJkd7QIDVMuxrEYFAAJLHqGpQd0AA9C1AfrqCQADYp1wFG2lAAJTuOzCyUEAA9M5nJXVjQADwtXq8RHPAAEyPypI/b8AAMHpw8+ZTQAAVN17BiXZAgKqEpQJDh0AAife7qVGDQACWb3SpVXZAgKACcL90i0DA+WhaQ3iRQEAUlDNmuJtAoK9Kk2MtpUAg2zxm26inQABL/44KhaRAQHQ7aUIrokBgh0YTQG2nQIAX2yasYptAADo26xfyjkCAiBpWoxCQwACPuMVQQ5TAAE/k7a8WgcAAAG1dYi5DQAD4SCuRP1JAAMSrn+h8ZcAAGLcupchNwABe52irsW7AAGg/ii0yf8AAIOmOgmhOwADE4NBNaGlAAFAbKa4kNkAAIsZYV3xowAAg2U3sqXPAQKWs2ftHlsCAVhBbff6OwIDuoii0GZzAQKN38T58k8BAn2JHml6WwIC0Mz9uyJXAwOSrkdQ3kcAAPeSWYnmSwIBE3MJmOIjAAG+g9XYvd8AA7T2i+mV0wAAsBlh1ZGRAABD5JOdJSEAARvHCH4NwwACwRFbxETXAAKDxxNDLUsAAAtRHCnFhwACjU3AL+XZAAPh98bTib0DAXh9Sf2eTQABl1x8fiJpAQCVZRmGknUAAqLExnAFXwACoDMsPc0VAAMC69YA7b0CAXrRrt7+HQAAAWLEyXcC/ABh96E4hdECAmzfvD3GLQEAgTyO7EZ9AgNE2sBMKmEAA9W5kCvqYQADHn8j04ZtAwBSwTGzNnECAK2cN5mebQICUiz8bSJlAQERlFfFEmEBA9z9nc9ebQMCdkLitPpxAAIQNUmmTl0DAAZeU1fqYQIDkjJvsrZlAwPY5mJnalkAAlfb9NSeYQIAi6uERxphAQJr9ysZGnkAAnCM0FP+bQEDkNOTws5lAQMPWckx0l0AAmdd7YK6PQEDQReK8/JJAgGkHB2SRjUCAxYW3jlmRQEC2FBuY5ZNAwI0ecHQXl0DApCLp/KqUQEAdbGw3lphAwDUucuCklkBAic5qeFObQIACm7bglKBAYFmDblnGoEBAltfrB2CgQABv1hYMO59A4IrxGZVAoEDASADBT9OhQICl2jgWzKFAgBn2enQ+n0DAXchJQ4WeQECdjev/Rp9AAEdFgQpnoECAHxLac5CeQMDBH7JXUp9AwO2/WH4WnkDAz+I9hDyZQABFHyI0/p9AQCQ0AaCQn0DAikU+7M2XQAB7IhOxxHpAgEj1lRVLk8AANUOBjRODwEB2Q9hOQJTAgLhQMc+nkcCAjEbKTtyewMAlwEZplJfAAIO6awnFl8CAaur61EeDwABn/3n9dZPAALbF7BecncAgpMMeOPOjwCBgF8ECrKPA4P1ihjfyscAQ9MXvTmKwwODSxHJdDafAYDwedqQ3psDgUKnbAgOgwKDTjWRfxaHAgBWxK+VbmMAAtXCYnPh7wADSnr0+YnRAAOxZlw9dY8BATNVx+aGRwIDj2A7+nIJAACzd/dRrWEAAanx/g2RowIAdiZWmh4ZAAIlb63fpkECAVJnKFbidQMA/GadQj5JAQBc7vTyLkUDgTvPHZ76lQCCaRV9WOaFAQFd+5WSaoUDA/DUTZUylQGC10XMji6JAgAArNwzZn0Bgez2o3s+gQICUjGFPwJ1AgESPUzIQm0AAalcihNedQODTYVvaJqdAwGtyn+GhpkBAa48myLqnQEBcGbjTeZpAQC1Ys/0XnEAA+G+z0waIQACP9BXupnFAAAjNLX6rhkA=",
          "dtype": "f8"
         }
        }
       ],
       "layout": {
        "height": 500,
        "showlegend": true,
        "template": {
         "data": {
          "bar": [
           {
            "error_x": {
             "color": "#f2f5fa"
            },
            "error_y": {
             "color": "#f2f5fa"
            },
            "marker": {
             "line": {
              "color": "rgb(17,17,17)",
              "width": 0.5
             },
             "pattern": {
              "fillmode": "overlay",
              "size": 10,
              "solidity": 0.2
             }
            },
            "type": "bar"
           }
          ],
          "barpolar": [
           {
            "marker": {
             "line": {
              "color": "rgb(17,17,17)",
              "width": 0.5
             },
             "pattern": {
              "fillmode": "overlay",
              "size": 10,
              "solidity": 0.2
             }
            },
            "type": "barpolar"
           }
          ],
          "carpet": [
           {
            "aaxis": {
             "endlinecolor": "#A2B1C6",
             "gridcolor": "#506784",
             "linecolor": "#506784",
             "minorgridcolor": "#506784",
             "startlinecolor": "#A2B1C6"
            },
            "baxis": {
             "endlinecolor": "#A2B1C6",
             "gridcolor": "#506784",
             "linecolor": "#506784",
             "minorgridcolor": "#506784",
             "startlinecolor": "#A2B1C6"
            },
            "type": "carpet"
           }
          ],
          "choropleth": [
           {
            "colorbar": {
             "outlinewidth": 0,
             "ticks": ""
            },
            "type": "choropleth"
           }
          ],
          "contour": [
           {
            "colorbar": {
             "outlinewidth": 0,
             "ticks": ""
            },
            "colorscale": [
             [
              0,
              "#0d0887"
             ],
             [
              0.1111111111111111,
              "#46039f"
             ],
             [
              0.2222222222222222,
              "#7201a8"
             ],
             [
              0.3333333333333333,
              "#9c179e"
             ],
             [
              0.4444444444444444,
              "#bd3786"
             ],
             [
              0.5555555555555556,
              "#d8576b"
             ],
             [
              0.6666666666666666,
              "#ed7953"
             ],
             [
              0.7777777777777778,
              "#fb9f3a"
             ],
             [
              0.8888888888888888,
              "#fdca26"
             ],
             [
              1,
              "#f0f921"
             ]
            ],
            "type": "contour"
           }
          ],
          "contourcarpet": [
           {
            "colorbar": {
             "outlinewidth": 0,
             "ticks": ""
            },
            "type": "contourcarpet"
           }
          ],
          "heatmap": [
           {
            "colorbar": {
             "outlinewidth": 0,
             "ticks": ""
            },
            "colorscale": [
             [
              0,
              "#0d0887"
             ],
             [
              0.1111111111111111,
              "#46039f"
             ],
             [
              0.2222222222222222,
              "#7201a8"
             ],
             [
              0.3333333333333333,
              "#9c179e"
             ],
             [
              0.4444444444444444,
              "#bd3786"
             ],
             [
              0.5555555555555556,
              "#d8576b"
             ],
             [
              0.6666666666666666,
              "#ed7953"
             ],
             [
              0.7777777777777778,
              "#fb9f3a"
             ],
             [
              0.8888888888888888,
              "#fdca26"
             ],
             [
              1,
              "#f0f921"
             ]
            ],
            "type": "heatmap"
           }
          ],
          "histogram": [
           {
            "marker": {
             "pattern": {
              "fillmode": "overlay",
              "size": 10,
              "solidity": 0.2
             }
            },
            "type": "histogram"
           }
          ],
          "histogram2d": [
           {
            "colorbar": {
             "outlinewidth": 0,
             "ticks": ""
            },
            "colorscale": [
             [
              0,
              "#0d0887"
             ],
             [
              0.1111111111111111,
              "#46039f"
             ],
             [
              0.2222222222222222,
              "#7201a8"
             ],
             [
              0.3333333333333333,
              "#9c179e"
             ],
             [
              0.4444444444444444,
              "#bd3786"
             ],
             [
              0.5555555555555556,
              "#d8576b"
             ],
             [
              0.6666666666666666,
              "#ed7953"
             ],
             [
              0.7777777777777778,
              "#fb9f3a"
             ],
             [
              0.8888888888888888,
              "#fdca26"
             ],
             [
              1,
              "#f0f921"
             ]
            ],
            "type": "histogram2d"
           }
          ],
          "histogram2dcontour": [
           {
            "colorbar": {
             "outlinewidth": 0,
             "ticks": ""
            },
            "colorscale": [
             [
              0,
              "#0d0887"
             ],
             [
              0.1111111111111111,
              "#46039f"
             ],
             [
              0.2222222222222222,
              "#7201a8"
             ],
             [
              0.3333333333333333,
              "#9c179e"
             ],
             [
              0.4444444444444444,
              "#bd3786"
             ],
             [
              0.5555555555555556,
              "#d8576b"
             ],
             [
              0.6666666666666666,
              "#ed7953"
             ],
             [
              0.7777777777777778,
              "#fb9f3a"
             ],
             [
              0.8888888888888888,
              "#fdca26"
             ],
             [
              1,
              "#f0f921"
             ]
            ],
            "type": "histogram2dcontour"
           }
          ],
          "mesh3d": [
           {
            "colorbar": {
             "outlinewidth": 0,
             "ticks": ""
            },
            "type": "mesh3d"
           }
          ],
          "parcoords": [
           {
            "line": {
             "colorbar": {
              "outlinewidth": 0,
              "ticks": ""
             }
            },
            "type": "parcoords"
           }
          ],
          "pie": [
           {
            "automargin": true,
            "type": "pie"
           }
          ],
          "scatter": [
           {
            "marker": {
             "line": {
              "color": "#283442"
             }
            },
            "type": "scatter"
           }
          ],
          "scatter3d": [
           {
            "line": {
             "colorbar": {
              "outlinewidth": 0,
              "ticks": ""
             }
            },
            "marker": {
             "colorbar": {
              "outlinewidth": 0,
              "ticks": ""
             }
            },
            "type": "scatter3d"
           }
          ],
          "scattercarpet": [
           {
            "marker": {
             "colorbar": {
              "outlinewidth": 0,
              "ticks": ""
             }
            },
            "type": "scattercarpet"
           }
          ],
          "scattergeo": [
           {
            "marker": {
             "colorbar": {
              "outlinewidth": 0,
              "ticks": ""
             }
            },
            "type": "scattergeo"
           }
          ],
          "scattergl": [
           {
            "marker": {
             "line": {
              "color": "#283442"
             }
            },
            "type": "scattergl"
           }
          ],
          "scattermap": [
           {
            "marker": {
             "colorbar": {
              "outlinewidth": 0,
              "ticks": ""
             }
            },
            "type": "scattermap"
           }
          ],
          "scattermapbox": [
           {
            "marker": {
             "colorbar": {
              "outlinewidth": 0,
              "ticks": ""
             }
            },
            "type": "scattermapbox"
           }
          ],
          "scatterpolar": [
           {
            "marker": {
             "colorbar": {
              "outlinewidth": 0,
              "ticks": ""
             }
            },
            "type": "scatterpolar"
           }
          ],
          "scatterpolargl": [
           {
            "marker": {
             "colorbar": {
              "outlinewidth": 0,
              "ticks": ""
             }
            },
            "type": "scatterpolargl"
           }
          ],
          "scatterternary": [
           {
            "marker": {
             "colorbar": {
              "outlinewidth": 0,
              "ticks": ""
             }
            },
            "type": "scatterternary"
           }
          ],
          "surface": [
           {
            "colorbar": {
             "outlinewidth": 0,
             "ticks": ""
            },
            "colorscale": [
             [
              0,
              "#0d0887"
             ],
             [
              0.1111111111111111,
              "#46039f"
             ],
             [
              0.2222222222222222,
              "#7201a8"
             ],
             [
              0.3333333333333333,
              "#9c179e"
             ],
             [
              0.4444444444444444,
              "#bd3786"
             ],
             [
              0.5555555555555556,
              "#d8576b"
             ],
             [
              0.6666666666666666,
              "#ed7953"
             ],
             [
              0.7777777777777778,
              "#fb9f3a"
             ],
             [
              0.8888888888888888,
              "#fdca26"
             ],
             [
              1,
              "#f0f921"
             ]
            ],
            "type": "surface"
           }
          ],
          "table": [
           {
            "cells": {
             "fill": {
              "color": "#506784"
             },
             "line": {
              "color": "rgb(17,17,17)"
             }
            },
            "header": {
             "fill": {
              "color": "#2a3f5f"
             },
             "line": {
              "color": "rgb(17,17,17)"
             }
            },
            "type": "table"
           }
          ]
         },
         "layout": {
          "annotationdefaults": {
           "arrowcolor": "#f2f5fa",
           "arrowhead": 0,
           "arrowwidth": 1
          },
          "autotypenumbers": "strict",
          "coloraxis": {
           "colorbar": {
            "outlinewidth": 0,
            "ticks": ""
           }
          },
          "colorscale": {
           "diverging": [
            [
             0,
             "#8e0152"
            ],
            [
             0.1,
             "#c51b7d"
            ],
            [
             0.2,
             "#de77ae"
            ],
            [
             0.3,
             "#f1b6da"
            ],
            [
             0.4,
             "#fde0ef"
            ],
            [
             0.5,
             "#f7f7f7"
            ],
            [
             0.6,
             "#e6f5d0"
            ],
            [
             0.7,
             "#b8e186"
            ],
            [
             0.8,
             "#7fbc41"
            ],
            [
             0.9,
             "#4d9221"
            ],
            [
             1,
             "#276419"
            ]
           ],
           "sequential": [
            [
             0,
             "#0d0887"
            ],
            [
             0.1111111111111111,
             "#46039f"
            ],
            [
             0.2222222222222222,
             "#7201a8"
            ],
            [
             0.3333333333333333,
             "#9c179e"
            ],
            [
             0.4444444444444444,
             "#bd3786"
            ],
            [
             0.5555555555555556,
             "#d8576b"
            ],
            [
             0.6666666666666666,
             "#ed7953"
            ],
            [
             0.7777777777777778,
             "#fb9f3a"
            ],
            [
             0.8888888888888888,
             "#fdca26"
            ],
            [
             1,
             "#f0f921"
            ]
           ],
           "sequentialminus": [
            [
             0,
             "#0d0887"
            ],
            [
             0.1111111111111111,
             "#46039f"
            ],
            [
             0.2222222222222222,
             "#7201a8"
            ],
            [
             0.3333333333333333,
             "#9c179e"
            ],
            [
             0.4444444444444444,
             "#bd3786"
            ],
            [
             0.5555555555555556,
             "#d8576b"
            ],
            [
             0.6666666666666666,
             "#ed7953"
            ],
            [
             0.7777777777777778,
             "#fb9f3a"
            ],
            [
             0.8888888888888888,
             "#fdca26"
            ],
            [
             1,
             "#f0f921"
            ]
           ]
          },
          "colorway": [
           "#636efa",
           "#EF553B",
           "#00cc96",
           "#ab63fa",
           "#FFA15A",
           "#19d3f3",
           "#FF6692",
           "#B6E880",
           "#FF97FF",
           "#FECB52"
          ],
          "font": {
           "color": "#f2f5fa"
          },
          "geo": {
           "bgcolor": "rgb(17,17,17)",
           "lakecolor": "rgb(17,17,17)",
           "landcolor": "rgb(17,17,17)",
           "showlakes": true,
           "showland": true,
           "subunitcolor": "#506784"
          },
          "hoverlabel": {
           "align": "left"
          },
          "hovermode": "closest",
          "mapbox": {
           "style": "dark"
          },
          "paper_bgcolor": "rgb(17,17,17)",
          "plot_bgcolor": "rgb(17,17,17)",
          "polar": {
           "angularaxis": {
            "gridcolor": "#506784",
            "linecolor": "#506784",
            "ticks": ""
           },
           "bgcolor": "rgb(17,17,17)",
           "radialaxis": {
            "gridcolor": "#506784",
            "linecolor": "#506784",
            "ticks": ""
           }
          },
          "scene": {
           "xaxis": {
            "backgroundcolor": "rgb(17,17,17)",
            "gridcolor": "#506784",
            "gridwidth": 2,
            "linecolor": "#506784",
            "showbackground": true,
            "ticks": "",
            "zerolinecolor": "#C8D4E3"
           },
           "yaxis": {
            "backgroundcolor": "rgb(17,17,17)",
            "gridcolor": "#506784",
            "gridwidth": 2,
            "linecolor": "#506784",
            "showbackground": true,
            "ticks": "",
            "zerolinecolor": "#C8D4E3"
           },
           "zaxis": {
            "backgroundcolor": "rgb(17,17,17)",
            "gridcolor": "#506784",
            "gridwidth": 2,
            "linecolor": "#506784",
            "showbackground": true,
            "ticks": "",
            "zerolinecolor": "#C8D4E3"
           }
          },
          "shapedefaults": {
           "line": {
            "color": "#f2f5fa"
           }
          },
          "sliderdefaults": {
           "bgcolor": "#C8D4E3",
           "bordercolor": "rgb(17,17,17)",
           "borderwidth": 1,
           "tickwidth": 0
          },
          "ternary": {
           "aaxis": {
            "gridcolor": "#506784",
            "linecolor": "#506784",
            "ticks": ""
           },
           "baxis": {
            "gridcolor": "#506784",
            "linecolor": "#506784",
            "ticks": ""
           },
           "bgcolor": "rgb(17,17,17)",
           "caxis": {
            "gridcolor": "#506784",
            "linecolor": "#506784",
            "ticks": ""
           }
          },
          "title": {
           "x": 0.05
          },
          "updatemenudefaults": {
           "bgcolor": "#506784",
           "borderwidth": 0
          },
          "xaxis": {
           "automargin": true,
           "gridcolor": "#283442",
           "linecolor": "#506784",
           "ticks": "",
           "title": {
            "standoff": 15
           },
           "zerolinecolor": "#283442",
           "zerolinewidth": 2
          },
          "yaxis": {
           "automargin": true,
           "gridcolor": "#283442",
           "linecolor": "#506784",
           "ticks": "",
           "title": {
            "standoff": 15
           },
           "zerolinecolor": "#283442",
           "zerolinewidth": 2
          }
         }
        },
        "title": {
         "text": "<b><span style='font-size:22px;'>Reconstrução Cíclica com FFT</span><br><span style='font-size:14px;'>Com base nas principais frequências da série</span></b>"
        },
        "xaxis": {
         "title": {
          "text": "Data"
         }
        },
        "yaxis": {
         "title": {
          "text": "Amplitude (Centralizada)"
         }
        }
       }
      }
     },
     "metadata": {},
     "output_type": "display_data"
    }
   ],
   "source": [
    "# ==========================\n",
    "# PLOTAGEM DA RECONSTRUÇÃO FFT\n",
    "# ==========================\n",
    "\n",
    "fig_fft_recon = go.Figure()\n",
    "\n",
    "# --- Série Reconstruída com as principais frequências (FFT) ---\n",
    "fig_fft_recon.add_trace(go.Scatter(\n",
    "    x=df_fft.index,\n",
    "    y=reconstructed,\n",
    "    name=\"Reconstrução FFT (Top Frequências)\",\n",
    "    line=dict(color=\"white\", width=2, dash=\"dot\"),\n",
    "    fill=\"tozeroy\",\n",
    "    fillcolor=\"rgba(229,165,0,0.25)\"\n",
    "))\n",
    "# --> Linha pontilhada branca representando os ciclos reconstruídos via FFT / Dashed white line: cycles reconstructed using FFT <--\n",
    "\n",
    "# --- Série original centralizada (sem tendência) ---\n",
    "fig_fft_recon.add_trace(go.Scatter(\n",
    "    x=df_fft.index,\n",
    "    y=price_detrended,\n",
    "    name=\"Série Centralizada\",\n",
    "    line=dict(color=\"#E57C1F\", width=1.2),\n",
    "    opacity=0.3\n",
    "))\n",
    "# --> Série de preços original com tendência removida (centralizada) / Original series with trend removed (centered) <--\n",
    "\n",
    "# ==========================\n",
    "# LAYOUT DO GRÁFICO\n",
    "# ==========================\n",
    "\n",
    "fig_fft_recon.update_layout(\n",
    "    title=\"<b><span style='font-size:22px;'>Reconstrução Cíclica com FFT</span><br><span style='font-size:14px;'>Com base nas principais frequências da série</span></b>\",\n",
    "    xaxis_title=\"Data\",\n",
    "    yaxis_title=\"Amplitude (Centralizada)\",\n",
    "    template=\"plotly_dark\",\n",
    "    height=500,\n",
    "    showlegend=True\n",
    ")\n",
    "# --> Título, eixos e estilo escuro com preenchimento harmônico / Title, axis, and dark theme with FFT reconstruction fill <--\n",
    "\n",
    "fig_fft_recon.show()\n",
    "# --> Exibe o gráfico final interativo / Displays the final interactive chart <--"
   ]
  },
  {
   "cell_type": "markdown",
   "metadata": {},
   "source": [
    "#### 4.4 Detecção de Padrões Cíclicos"
   ]
  },
  {
   "cell_type": "code",
   "execution_count": 63,
   "metadata": {},
   "outputs": [],
   "source": [
    "\n",
    "\n",
    "# ================================================================\n",
    "# DETECÇÃO DE PADRÕES CÍCLICOS / CYCLE PATTERN DETECTION\n",
    "# ================================================================\n",
    "\n",
    "peaks, _ = find_peaks(series, distance=10)\n",
    "# --> Encontra os índices dos picos com distância mínima entre eles / Finds peak indices with a minimum spacing <--\n",
    "\n",
    "vales, _ = find_peaks(-series, distance=10)\n",
    "# --> Inverte o sinal da série para detectar mínimos como picos / Inverts signal to find valleys as peaks <--"
   ]
  },
  {
   "cell_type": "code",
   "execution_count": 64,
   "metadata": {},
   "outputs": [
    {
     "name": "stderr",
     "output_type": "stream",
     "text": [
      "/var/folders/q4/msgggjcn0c9448__nbm848r00000gn/T/ipykernel_66353/1764611942.py:2: FutureWarning:\n",
      "\n",
      "Series.__getitem__ treating keys as positions is deprecated. In a future version, integer keys will always be treated as labels (consistent with DataFrame behavior). To access a value by position, use `ser.iloc[pos]`\n",
      "\n"
     ]
    }
   ],
   "source": [
    "ciclo_duracoes = np.diff(vales)\n",
    "amplitudes = series[peaks] - series[vales[:len(peaks)]]"
   ]
  },
  {
   "cell_type": "markdown",
   "metadata": {},
   "source": [
    "#### 4.5 Estrutura e Persistência Temporal"
   ]
  },
  {
   "cell_type": "markdown",
   "metadata": {},
   "source": [
    "Coeficiente de Hurst (Memória Longa)\n",
    "\n",
    "O **coeficiente de Hurst** $ H $ é uma medida de **persistência de longo prazo** de uma série temporal. Ele indica se a série tende a:\n",
    "\n",
    "- Reverter à média: $ H < 0.5 $\n",
    "- Ser aleatória (ruído branco): $ H \\approx 0.5 $\n",
    "- Persistir na direção atual: $ H > 0.5 $\n",
    "\n",
    "O cálculo baseia-se no crescimento da variância com o tempo:\n",
    "\n",
    "$\n",
    "\\text{Var}(X_t) \\propto t^{2H}\n",
    "$\n",
    "\n",
    "---\n",
    "\n",
    "Número de Cruzamentos com a Mediana\n",
    "\n",
    "Esta métrica indica **quantas vezes a série cruza sua mediana**. Um número alto sugere comportamento mais **oscilatório**, enquanto um número baixo sugere **persistência ou tendência**.\n",
    "\n",
    "$\n",
    "\\text{crossings} = \\sum_{t=2}^{n} \\mathbf{1}\\{(x_{t-1} - \\text{mediana}) \\cdot (x_t - \\text{mediana}) < 0\\}\n",
    "$\n",
    "\n",
    "---\n",
    "\n",
    "Maior Região de Estagnação\n",
    "\n",
    "Mede o maior segmento contínuo da série com **baixa variação**, representando **zonas de lateralização** ou ausência de movimento relevante.\n",
    "\n",
    "$\n",
    "\\text{flat\\_spot} = \\max\\{\\text{duração de regiões quase constantes}\\}\n",
    "$\n",
    "\n",
    "Esses três recursos ajudam a quantificar o grau de **regularidade, memória e oscilação** da série, podendo ser úteis para detectar **comportamentos anômalos ou regimes de mercado**.\n",
    "\n",
    "---"
   ]
  },
  {
   "cell_type": "code",
   "execution_count": 65,
   "metadata": {},
   "outputs": [],
   "source": [
    "\n",
    "\n",
    "# ================================================================\n",
    "# COEFICIENTE DE HURST / HURST EXPONENT\n",
    "# ================================================================\n",
    "def compute_hurst(series: np.ndarray) -> float:\n",
    "    \"\"\"\n",
    "    Calcula o coeficiente de Hurst (memória longa).\n",
    "    / Computes the Hurst exponent (long memory indicator).\n",
    "    \"\"\"\n",
    "    series = series[~np.isnan(series)]\n",
    "    # --> Remove valores ausentes / Remove NaN values <--\n",
    "\n",
    "    H, _, _ = compute_Hc(series, kind='price')\n",
    "    # --> Estima o coeficiente de Hurst usando o método 'price' / Estimates Hurst exponent with 'price' method <--\n",
    "\n",
    "    return H\n",
    "    # --> Retorna o valor estimado de H / Returns the estimated Hurst exponent <--"
   ]
  },
  {
   "cell_type": "code",
   "execution_count": 66,
   "metadata": {},
   "outputs": [],
   "source": [
    "# ================================================================\n",
    "# CRUZAMENTOS COM A MEDIANA / MEDIAN CROSSINGS\n",
    "# ================================================================\n",
    "def count_median_crossings(series: np.ndarray) -> int:\n",
    "    \"\"\"\n",
    "    Conta quantos cruzamentos com a mediana ocorrem na série.\n",
    "    / Counts how many times the series crosses its median.\n",
    "    \"\"\"\n",
    "    median_val = np.median(series)\n",
    "    # --> Calcula a mediana da série / Computes series median <--\n",
    "\n",
    "    shifted = (series - median_val) > 0\n",
    "    # --> Converte a série para sinais positivos e negativos / Converts series to binary signal above/below median <--\n",
    "\n",
    "    return np.sum(shifted[1:] != shifted[:-1])\n",
    "    # --> Conta mudanças de sinal (cruzamentos) / Counts sign changes (crossings) <--"
   ]
  },
  {
   "cell_type": "code",
   "execution_count": 67,
   "metadata": {},
   "outputs": [],
   "source": [
    "# ================================================================\n",
    "# MAIOR REGIÃO DE ESTAGNAÇÃO / LONGEST FLAT SPOT\n",
    "# ================================================================\n",
    "def longest_flat_spot(series: np.ndarray, tol=1e-6) -> int:\n",
    "    \"\"\"\n",
    "    Encontra a maior sequência de variação mínima (estagnação).\n",
    "    / Finds the longest sequence with minimal variation (stagnation).\n",
    "    \"\"\"\n",
    "    diff = np.abs(np.diff(series))\n",
    "    # --> Calcula a diferença absoluta entre observações consecutivas / Absolute difference between consecutive values <--\n",
    "\n",
    "    flat = diff < tol\n",
    "    # --> Marca onde a variação é menor que a tolerância / Marks where variation is below tolerance <--\n",
    "\n",
    "    max_len = count = 0\n",
    "    # --> Inicializa contadores / Initializes counters <--\n",
    "\n",
    "    for val in flat:\n",
    "        count = count + 1 if val else 0\n",
    "        max_len = max(max_len, count)\n",
    "    # --> Atualiza o comprimento máximo de sequência plana / Updates max length of flat sequence <--\n",
    "\n",
    "    return max_len\n",
    "    # --> Retorna o comprimento da maior região de estagnação / Returns length of longest stagnation segment <--"
   ]
  },
  {
   "cell_type": "code",
   "execution_count": 68,
   "metadata": {},
   "outputs": [
    {
     "name": "stdout",
     "output_type": "stream",
     "text": [
      "[AVISO] Série com apenas 8 pontos. Retornando np.nan.\n",
      "Coeficiente de Hurst: nan\n",
      "Cruzamentos com a mediana: 3\n",
      "Maior região de estagnação: 0\n"
     ]
    }
   ],
   "source": [
    "\n",
    "\n",
    "# ==========================================================\n",
    "# Cálculo do Coeficiente de Hurst com fallback para séries curtas\n",
    "# Compute Hurst Exponent with fallback for short series\n",
    "# ==========================================================\n",
    "def compute_hurst(series, min_length=100):\n",
    "    \"\"\"\n",
    "    Calcula o coeficiente de Hurst se a série tiver pelo menos `min_length` pontos\n",
    "    Computes the Hurst exponent if the series has at least `min_length` points\n",
    "    \"\"\"\n",
    "    series = np.array(series)\n",
    "    series = series[~np.isnan(series)]\n",
    "    # --> Remove valores ausentes / Remove NaN values <--\n",
    "\n",
    "    if len(series) < min_length:\n",
    "        print(f\"[AVISO] Série com apenas {len(series)} pontos. Retornando np.nan.\")\n",
    "        # --> Retorna NaN se a série for muito curta / Returns NaN if the series is too short <--\n",
    "        return np.nan\n",
    "\n",
    "    try:\n",
    "        H, _, _ = compute_Hc(series, kind='price')\n",
    "        # --> Estima o coeficiente de Hurst usando o método 'price' / Estimates Hurst exponent using 'price' method <--\n",
    "        return H\n",
    "    except Exception as e:\n",
    "        print(f\"[ERRO] Falha ao calcular Hurst: {e}\")\n",
    "        # --> Retorna NaN em caso de erro / Returns NaN if Hurst computation fails <--\n",
    "        return np.nan\n",
    "\n",
    "# ==========================================================\n",
    "# Contagem de cruzamentos com a mediana\n",
    "# Count crossings with the median\n",
    "# ==========================================================\n",
    "def count_median_crossings(series):\n",
    "    median = np.median(series)\n",
    "    # --> Calcula a mediana da série / Computes the median of the series <--\n",
    "\n",
    "    shifted = np.roll(series, 1)\n",
    "    # --> Desloca a série para comparar com o valor anterior / Shifts the series to compare with the previous value <--\n",
    "\n",
    "    crossings = (np.sign(series - median) != np.sign(shifted - median)).astype(int)\n",
    "    # --> Detecta mudança de sinal em relação à mediana / Detects sign change with respect to the median <--\n",
    "\n",
    "    return np.sum(crossings[1:])\n",
    "    # --> Soma os cruzamentos, ignorando o primeiro valor deslocado / Sums the crossings, ignoring the first shifted value <--\n",
    "\n",
    "# ==========================================================\n",
    "# Maior sequência com variação abaixo do limite (flat spot)\n",
    "# Longest low-variation sequence (flat spot)\n",
    "# ==========================================================\n",
    "def longest_flat_spot(series, tolerance=1e-5):\n",
    "    diffs = np.abs(np.diff(series))\n",
    "    # --> Calcula a diferença absoluta entre elementos consecutivos / Calculates absolute difference between consecutive elements <--\n",
    "\n",
    "    flat = diffs < tolerance\n",
    "    # --> Marca os pontos com variação muito baixa / Marks points with very low variation <--\n",
    "\n",
    "    max_len = count = 0\n",
    "    for val in flat:\n",
    "        count = count + 1 if val else 0\n",
    "        max_len = max(max_len, count)\n",
    "\n",
    "    return max_len + 1 if max_len > 0 else 0\n",
    "    # --> Retorna o comprimento máximo da sequência plana / Returns the max length of flat region <--\n",
    "\n",
    "# ==========================================================\n",
    "# APLICAÇÃO NA SÉRIE / APPLY TO YOUR SERIES\n",
    "# ==========================================================\n",
    "series_np = df_fft[\"btc_price_usd\"].dropna().values\n",
    "# --> Converte a série para array NumPy e remove NaNs / Converts series to NumPy array and drops NaNs <--\n",
    "\n",
    "hurst_val = compute_hurst(series_np)\n",
    "# --> Calcula o coeficiente de Hurst / Computes Hurst exponent <--\n",
    "\n",
    "crossings = count_median_crossings(series_np)\n",
    "# --> Conta os cruzamentos com a mediana / Counts median crossings <--\n",
    "\n",
    "flat_len = longest_flat_spot(series_np)\n",
    "# --> Calcula a maior sequência com baixa variação / Computes longest flat spot <--\n",
    "\n",
    "print(\"Coeficiente de Hurst:\", hurst_val)\n",
    "# --> Exibe o coeficiente de Hurst / Prints Hurst exponent <--\n",
    "\n",
    "print(\"Cruzamentos com a mediana:\", crossings)\n",
    "# --> Exibe a contagem de cruzamentos / Prints median crossing count <--\n",
    "\n",
    "print(\"Maior região de estagnação:\", flat_len)\n",
    "# --> Exibe o tamanho da maior sequência estagnada / Prints longest flat segment length <--"
   ]
  },
  {
   "cell_type": "code",
   "execution_count": 69,
   "metadata": {},
   "outputs": [
    {
     "data": {
      "application/vnd.microsoft.datawrangler.viewer.v0+json": {
       "columns": [
        {
         "name": "index",
         "rawType": "int64",
         "type": "integer"
        },
        {
         "name": "hurst_exponent",
         "rawType": "float64",
         "type": "float"
        },
        {
         "name": "median_crossings",
         "rawType": "int64",
         "type": "integer"
        },
        {
         "name": "longest_flat_spot",
         "rawType": "int64",
         "type": "integer"
        },
        {
         "name": "block_timestamp",
         "rawType": "datetime64[ns]",
         "type": "datetime"
        },
        {
         "name": "block_height",
         "rawType": "float64",
         "type": "float"
        }
       ],
       "conversionMethod": "pd.DataFrame",
       "ref": "55f8fb0c-2ac4-448f-b6d2-c5ae18f3c5e2",
       "rows": [
        [
         "0",
         null,
         "3",
         "0",
         "2024-01-08 00:00:00",
         "891476.2368421053"
        ]
       ],
       "shape": {
        "columns": 5,
        "rows": 1
       }
      },
      "text/html": [
       "<div>\n",
       "<style scoped>\n",
       "    .dataframe tbody tr th:only-of-type {\n",
       "        vertical-align: middle;\n",
       "    }\n",
       "\n",
       "    .dataframe tbody tr th {\n",
       "        vertical-align: top;\n",
       "    }\n",
       "\n",
       "    .dataframe thead th {\n",
       "        text-align: right;\n",
       "    }\n",
       "</style>\n",
       "<table border=\"1\" class=\"dataframe\">\n",
       "  <thead>\n",
       "    <tr style=\"text-align: right;\">\n",
       "      <th></th>\n",
       "      <th>hurst_exponent</th>\n",
       "      <th>median_crossings</th>\n",
       "      <th>longest_flat_spot</th>\n",
       "      <th>block_timestamp</th>\n",
       "      <th>block_height</th>\n",
       "    </tr>\n",
       "  </thead>\n",
       "  <tbody>\n",
       "    <tr>\n",
       "      <th>0</th>\n",
       "      <td>NaN</td>\n",
       "      <td>3</td>\n",
       "      <td>0</td>\n",
       "      <td>2024-01-08</td>\n",
       "      <td>891476.236842</td>\n",
       "    </tr>\n",
       "  </tbody>\n",
       "</table>\n",
       "</div>"
      ],
      "text/plain": [
       "   hurst_exponent  median_crossings  longest_flat_spot block_timestamp  \\\n",
       "0             NaN                 3                  0      2024-01-08   \n",
       "\n",
       "    block_height  \n",
       "0  891476.236842  "
      ]
     },
     "metadata": {},
     "output_type": "display_data"
    }
   ],
   "source": [
    "# ================================================================\n",
    "# CONSTRUÇÃO DO DATAFRAME DE PERSISTÊNCIA / PERSISTENCE FEATURES\n",
    "# ================================================================\n",
    "\n",
    "df_persistence = pd.DataFrame([{\n",
    "    \"hurst_exponent\": hurst_val,\n",
    "    \"median_crossings\": crossings,\n",
    "    \"longest_flat_spot\": flat_len\n",
    "}])\n",
    "# --> Cria DataFrame com as features de persistência extraídas / Creates DataFrame with extracted persistence features <--\n",
    "\n",
    "# ================================\n",
    "# ADIÇÃO DAS CHAVES TEMPORAIS\n",
    "# ADDING TIMESTAMP AND BLOCK HEIGHT KEYS\n",
    "# ================================\n",
    "df_persistence[\"block_timestamp\"] = df_fft[\"block_timestamp\"].iloc[-1]\n",
    "# --> Adiciona o timestamp da última janela usada / Adds timestamp of the last window used <--\n",
    "\n",
    "df_persistence[\"block_height\"] = df_fft[\"block_height\"].iloc[-1]\n",
    "# --> Adiciona a altura do bloco correspondente / Adds corresponding block height <--\n",
    "\n",
    "# ================================\n",
    "# CONSTRUÇÃO DO DATAFRAME FINAL\n",
    "# FINAL DISPLAY\n",
    "# ================================\n",
    "display(df_persistence)"
   ]
  },
  {
   "cell_type": "markdown",
   "metadata": {},
   "source": [
    "4.6 Estabilidade Local e Heterocedasticidade"
   ]
  },
  {
   "cell_type": "markdown",
   "metadata": {},
   "source": [
    "---\n",
    "\n",
    "Variância de Blocos (var_tiled_var)\n",
    "\n",
    "Divide a série em blocos consecutivos e calcula a variância dentro de cada bloco. A **variabilidade dessas variâncias** indica **instabilidade ao longo do tempo**.\n",
    "\n",
    "$\n",
    "\\text{VarBloco}_i = \\text{Var}(X_{i1}, X_{i2}, ..., X_{im})\n",
    "$\n",
    "\n",
    "---\n",
    "\n",
    "Média de Blocos (var_tiled_mean)\n",
    "\n",
    "Calcula a média de cada bloco e depois mede a **variância entre essas médias**. É útil para identificar **mudanças no nível médio da série ao longo do tempo**.\n",
    "\n",
    "$\n",
    "\\text{MeanBloco}_i = \\frac{1}{m} \\sum_{j=1}^{m} X_{ij}\n",
    "\\quad \\Rightarrow \\quad \\text{Var}\\left( \\text{MeanBloco}_i \\right)\n",
    "$\n",
    "\n",
    "---\n",
    "\n",
    "Teste ARCH (Engle LM)\n",
    "\n",
    "O **teste ARCH** verifica se os resíduos têm **heterocedasticidade condicional**, ou seja, **variância que muda ao longo do tempo**.  \n",
    "É usado para avaliar se modelos como **GARCH** são apropriados.\n",
    "\n",
    "$\n",
    "\\text{H}_0: \\text{Não há efeito ARCH (variância constante)}\n",
    "\\quad \\text{vs} \\quad\n",
    "\\text{H}_1: \\text{Existe heterocedasticidade condicional}\n",
    "$\n",
    "\n",
    "Resultado:\n",
    "\n",
    "- **Estatística LM**\n",
    "- **Valor-p** (se < 0.05, rejeita-se $ H_0 $)\n",
    "\n",
    "---"
   ]
  },
  {
   "cell_type": "code",
   "execution_count": 70,
   "metadata": {},
   "outputs": [],
   "source": [
    "# ================================================================\n",
    "# VARIÂNCIA DAS VARIÂNCIAS POR BLOCO / VARIANCE OF BLOCK-WISE VARIANCES\n",
    "# ================================================================\n",
    "def var_tiled_var(series: np.ndarray, block_size: int = 10) -> float:\n",
    "    \"\"\"\n",
    "    Variância das variâncias por blocos / Variance of block-wise variances.\n",
    "    \"\"\"\n",
    "    if isinstance(series, pd.Series):\n",
    "        series = series.dropna().values\n",
    "    else:\n",
    "        series = series[~np.isnan(series)]\n",
    "    # --> Garante array NumPy e remove NaNs / Ensures NumPy array and drops NaNs <--\n",
    "\n",
    "    trimmed = series[:len(series) // block_size * block_size]\n",
    "    # --> Ajusta o tamanho da série para ser divisível pelo tamanho do bloco / Trims series to be divisible by block size <--\n",
    "\n",
    "    blocks = trimmed.reshape(-1, block_size)\n",
    "    # --> Reshape da série em blocos não sobrepostos / Reshapes series into non-overlapping blocks <--\n",
    "\n",
    "    block_vars = np.var(blocks, axis=1, ddof=1)\n",
    "    # --> Calcula a variância de cada bloco / Computes variance within each block <--\n",
    "\n",
    "    return np.var(block_vars, ddof=1)\n",
    "    # --> Retorna a variância das variâncias dos blocos / Returns variance of block-wise variances <--"
   ]
  },
  {
   "cell_type": "code",
   "execution_count": 71,
   "metadata": {},
   "outputs": [],
   "source": [
    "# ================================================================\n",
    "# VARIÂNCIA DAS MÉDIAS POR BLOCO / VARIANCE OF BLOCK-WISE MEANS\n",
    "# ================================================================\n",
    "def var_tiled_mean(series: np.ndarray, block_size: int = 10) -> float:\n",
    "    \"\"\"\n",
    "    Variância das médias por blocos / Variance of block-wise means.\n",
    "    \"\"\"\n",
    "    if isinstance(series, pd.Series):\n",
    "        series = series.dropna().values\n",
    "    else:\n",
    "        series = series[~np.isnan(series)]\n",
    "    # --> Garante array NumPy e remove NaNs / Ensures NumPy array and drops NaNs <--\n",
    "\n",
    "    trimmed = series[:len(series) // block_size * block_size]\n",
    "    # --> Ajusta o comprimento para ser divisível pelo tamanho do bloco / Trims to fit block size <--\n",
    "\n",
    "    blocks = trimmed.reshape(-1, block_size)\n",
    "    # --> Divide em blocos consecutivos não sobrepostos / Reshapes into consecutive blocks <--\n",
    "\n",
    "    block_means = np.mean(blocks, axis=1)\n",
    "    # --> Calcula a média de cada bloco / Computes mean of each block <--\n",
    "\n",
    "    return np.var(block_means, ddof=1)\n",
    "    # --> Retorna a variância entre as médias dos blocos / Returns variance of block-wise means <--"
   ]
  },
  {
   "cell_type": "code",
   "execution_count": 72,
   "metadata": {},
   "outputs": [],
   "source": [
    "# ================================================================\n",
    "# TESTE DE HETEROCEDASTICIDADE ARCH / ARCH EFFECT TEST (ENGLE LM)\n",
    "# ================================================================\n",
    "def arch_test(series: np.ndarray, lags: int = 12) -> dict:\n",
    "    \"\"\"\n",
    "    Teste de heterocedasticidade ARCH (Engle LM).\n",
    "    / ARCH effect test using Engle's Lagrange Multiplier.\n",
    "    \"\"\"\n",
    "    series = series[~np.isnan(series)]\n",
    "    # --> Remove valores ausentes / Remove NaNs <--\n",
    "\n",
    "    lm_stat, lm_pvalue, _, _ = het_arch(series, nlags=lags)\n",
    "    # --> Executa o teste LM com número definido de lags / Runs ARCH LM test with defined lags <--\n",
    "\n",
    "    return {\n",
    "        \"arch_lm_stat\": lm_stat,\n",
    "        # --> Estatística do teste LM / LM test statistic <--\n",
    "        \"arch_pvalue\": lm_pvalue\n",
    "        # --> Valor-p do teste / p-value from the test <--\n",
    "    }"
   ]
  },
  {
   "cell_type": "code",
   "execution_count": 73,
   "metadata": {},
   "outputs": [],
   "source": [
    "# ================================================================\n",
    "# FUNÇÃO AUXILIAR: VARIÂNCIA ENTRE MÉDIAS DE BLOCOS\n",
    "# AUXILIARY FUNCTION: VARIANCE ACROSS BLOCK MEANS\n",
    "# ================================================================\n",
    "def var_tiled_mean(series, block_size):\n",
    "    series = np.array(series)\n",
    "    series = series[~np.isnan(series)]\n",
    "    # --> Remove NaNs / Drop NaNs <--\n",
    "\n",
    "    if len(series) < block_size:\n",
    "        return np.nan\n",
    "        # --> Série muito curta para blocos / Too short for block splitting <--\n",
    "\n",
    "    num_blocks = len(series) // block_size\n",
    "    blocks = series[:num_blocks * block_size].reshape(num_blocks, block_size)\n",
    "    block_means = blocks.mean(axis=1)\n",
    "    return np.var(block_means)\n",
    "\n",
    "\n",
    "# ================================================================\n",
    "# FUNÇÃO AUXILIAR: VARIÂNCIA ENTRE VARIÂNCIAS DE BLOCOS\n",
    "# AUXILIARY FUNCTION: VARIANCE ACROSS BLOCK VARIANCES\n",
    "# ================================================================\n",
    "def var_tiled_var(series, block_size):\n",
    "    series = np.array(series)\n",
    "    series = series[~np.isnan(series)]\n",
    "    # --> Remove NaNs / Drop NaNs <--\n",
    "\n",
    "    if len(series) < block_size:\n",
    "        return np.nan\n",
    "        # --> Série muito curta para blocos / Too short for block splitting <--\n",
    "\n",
    "    num_blocks = len(series) // block_size\n",
    "    blocks = series[:num_blocks * block_size].reshape(num_blocks, block_size)\n",
    "    block_vars = blocks.var(axis=1)\n",
    "    return np.var(block_vars)\n",
    "\n",
    "\n",
    "# ================================================================\n",
    "# FUNÇÃO AUXILIAR: TESTE ARCH COM PROTEÇÃO\n",
    "# AUXILIARY FUNCTION: ARCH TEST WITH VALIDATION\n",
    "# ================================================================\n",
    "def arch_test(series, lags):\n",
    "    \"\"\"\n",
    "    Executa o teste ARCH se houver observações suficientes.\n",
    "    Runs ARCH test if series is long enough.\n",
    "    \"\"\"\n",
    "    if len(series) <= lags:\n",
    "        print(f\"[AVISO] Série com {len(series)} pontos < número de lags ({lags}). ARCH não será executado.\")\n",
    "        return {\"arch_lm_stat\": np.nan, \"arch_pvalue\": np.nan}\n",
    "        # --> Retorna NaNs se série for curta / Returns NaNs for short series <--\n",
    "\n",
    "    try:\n",
    "        arch_lm_stat, arch_pvalue, _, _ = het_arch(series, maxlag=lags)\n",
    "        return {\"arch_lm_stat\": arch_lm_stat, \"arch_pvalue\": arch_pvalue}\n",
    "        # --> Executa o teste e retorna estatísticas / Runs ARCH test and returns stats <--\n",
    "    except Exception as e:\n",
    "        print(f\"[ERRO] Falha no teste ARCH: {e}\")\n",
    "        return {\"arch_lm_stat\": np.nan, \"arch_pvalue\": np.nan}\n",
    "        # --> Em caso de erro, retorna NaNs / On error, returns NaNs <--\n",
    "\n",
    "# ================================================================\n",
    "# EXTRAÇÃO DE FEATURES DE VOLATILIDADE / VOLATILITY FEATURE EXTRACTION\n",
    "# ================================================================\n",
    "def extract_volatility_features(\n",
    "    series: pd.Series,\n",
    "    block_height: int,\n",
    "    block_timestamp: pd.Timestamp,\n",
    "    block_size: int = 10,\n",
    "    arch_lags: int = 12\n",
    ") -> pd.DataFrame:\n",
    "    \"\"\"\n",
    "    Extrai features de estabilidade local e heterocedasticidade.\n",
    "    / Extracts local variance and heteroskedasticity features.\n",
    "\n",
    "    Parâmetros / Parameters:\n",
    "    - series: pd.Series ou np.ndarray\n",
    "        Série temporal numérica / Numeric time series.\n",
    "    - block_height: int\n",
    "        Altura do bloco associada à janela / Block height for tracking.\n",
    "    - block_timestamp: pd.Timestamp\n",
    "        Timestamp associado à janela / Timestamp for tracking.\n",
    "    - block_size: int\n",
    "        Tamanho dos blocos para análise local / Block size for local analysis.\n",
    "    - arch_lags: int\n",
    "        Número de lags para o teste ARCH / Number of lags for ARCH test.\n",
    "\n",
    "    Retorna / Returns:\n",
    "    - pd.DataFrame com uma linha contendo: block_height, block_timestamp, var_tiled_mean, var_tiled_var, arch_lm_stat, arch_pvalue\n",
    "    / One-row DataFrame with volatility and heteroskedasticity features.\n",
    "    \"\"\"\n",
    "\n",
    "    # ===========================\n",
    "    # PREPARAÇÃO DA SÉRIE / SERIES PREPROCESSING\n",
    "    # ===========================\n",
    "    if isinstance(series, pd.Series):\n",
    "        series = series.dropna().values\n",
    "        # --> Converte pd.Series para array e remove NaNs / Convert Series to array and drop NaNs <--\n",
    "    else:\n",
    "        series = series[~np.isnan(series)]\n",
    "        # --> Remove NaNs de array NumPy / Drop NaNs from NumPy array <--\n",
    "\n",
    "    # ===========================\n",
    "    # CÁLCULO DAS FEATURES / FEATURE EXTRACTION\n",
    "    # ===========================\n",
    "    features = {\n",
    "        \"var_tiled_mean\": var_tiled_mean(series, block_size),\n",
    "        # --> Variância entre médias de blocos / Variance across block means <--\n",
    "\n",
    "        \"var_tiled_var\": var_tiled_var(series, block_size),\n",
    "        # --> Variância entre variâncias de blocos / Variance across block variances <--\n",
    "\n",
    "        **arch_test(series, lags=arch_lags)\n",
    "        # --> Estatísticas do teste ARCH / ARCH test metrics <--\n",
    "    }\n",
    "\n",
    "    # ===========================\n",
    "    # FORMATAÇÃO FINAL / FINAL OUTPUT\n",
    "    # ===========================\n",
    "    features[\"block_height\"] = block_height\n",
    "    features[\"block_timestamp\"] = block_timestamp\n",
    "    # --> Adiciona metadados para rastreio / Adds tracking metadata <--\n",
    "\n",
    "    return pd.DataFrame([features])\n",
    "    # --> Retorna resultado como DataFrame de uma linha / Returns one-row DataFrame with features <--"
   ]
  },
  {
   "cell_type": "code",
   "execution_count": 74,
   "metadata": {},
   "outputs": [
    {
     "name": "stdout",
     "output_type": "stream",
     "text": [
      "[AVISO] Série com 6 pontos < número de lags (12). ARCH não será executado.\n"
     ]
    },
    {
     "data": {
      "application/vnd.microsoft.datawrangler.viewer.v0+json": {
       "columns": [
        {
         "name": "index",
         "rawType": "int64",
         "type": "integer"
        },
        {
         "name": "var_tiled_mean",
         "rawType": "float64",
         "type": "float"
        },
        {
         "name": "var_tiled_var",
         "rawType": "float64",
         "type": "float"
        },
        {
         "name": "arch_lm_stat",
         "rawType": "float64",
         "type": "float"
        },
        {
         "name": "arch_pvalue",
         "rawType": "float64",
         "type": "float"
        },
        {
         "name": "block_height",
         "rawType": "float64",
         "type": "float"
        },
        {
         "name": "block_timestamp",
         "rawType": "datetime64[ns]",
         "type": "datetime"
        }
       ],
       "conversionMethod": "pd.DataFrame",
       "ref": "555ff94e-1d6b-4282-9c61-a12bec43046f",
       "rows": [
        [
         "0",
         null,
         null,
         null,
         null,
         "891345.0",
         "2025-04-07 00:00:00"
        ]
       ],
       "shape": {
        "columns": 6,
        "rows": 1
       }
      },
      "text/html": [
       "<div>\n",
       "<style scoped>\n",
       "    .dataframe tbody tr th:only-of-type {\n",
       "        vertical-align: middle;\n",
       "    }\n",
       "\n",
       "    .dataframe tbody tr th {\n",
       "        vertical-align: top;\n",
       "    }\n",
       "\n",
       "    .dataframe thead th {\n",
       "        text-align: right;\n",
       "    }\n",
       "</style>\n",
       "<table border=\"1\" class=\"dataframe\">\n",
       "  <thead>\n",
       "    <tr style=\"text-align: right;\">\n",
       "      <th></th>\n",
       "      <th>var_tiled_mean</th>\n",
       "      <th>var_tiled_var</th>\n",
       "      <th>arch_lm_stat</th>\n",
       "      <th>arch_pvalue</th>\n",
       "      <th>block_height</th>\n",
       "      <th>block_timestamp</th>\n",
       "    </tr>\n",
       "  </thead>\n",
       "  <tbody>\n",
       "    <tr>\n",
       "      <th>0</th>\n",
       "      <td>NaN</td>\n",
       "      <td>NaN</td>\n",
       "      <td>NaN</td>\n",
       "      <td>NaN</td>\n",
       "      <td>891345.0</td>\n",
       "      <td>2025-04-07</td>\n",
       "    </tr>\n",
       "  </tbody>\n",
       "</table>\n",
       "</div>"
      ],
      "text/plain": [
       "   var_tiled_mean  var_tiled_var  arch_lm_stat  arch_pvalue  block_height  \\\n",
       "0             NaN            NaN           NaN          NaN      891345.0   \n",
       "\n",
       "  block_timestamp  \n",
       "0      2025-04-07  "
      ]
     },
     "metadata": {},
     "output_type": "display_data"
    }
   ],
   "source": [
    "window = df_returns[\"log_return\"].iloc[-96:]\n",
    "block_height_ref = df_returns[\"block_height\"].iloc[-1]\n",
    "block_timestamp_ref = df_returns[\"block_timestamp\"].iloc[-1]\n",
    "\n",
    "df_vol_features = extract_volatility_features(\n",
    "    series=window,\n",
    "    block_height=block_height_ref,\n",
    "    block_timestamp=block_timestamp_ref,\n",
    "    block_size=10,\n",
    "    arch_lags=12\n",
    ")\n",
    "display(df_vol_features)"
   ]
  },
  {
   "cell_type": "markdown",
   "metadata": {},
   "source": [
    "4.7 Mudanças Estruturais e Quebras"
   ]
  },
  {
   "cell_type": "markdown",
   "metadata": {},
   "source": [
    "---\n",
    "\n",
    "\n",
    "Mudança de Nível (shift_level_max)\n",
    "\n",
    "Compara **janelas consecutivas da série** e identifica a maior diferença entre suas médias. É usada para encontrar **saltos ou quedas abruptas** na tendência.\n",
    "\n",
    "$\n",
    "\\text{shift\\_level}_t = \\left| \\text{média}(X_{t:t+w}) - \\text{média}(X_{t+w:t+2w}) \\right|\n",
    "$\n",
    "\n",
    "---\n",
    "\n",
    "Mudança de Variância (shift_var_max)\n",
    "\n",
    "Similar à anterior, mas avalia a **diferença na variância** entre duas janelas consecutivas, revelando mudanças de **volatilidade**.\n",
    "\n",
    "$\n",
    "\\text{shift\\_var}_t = \\left| \\text{var}(X_{t:t+w}) - \\text{var}(X_{t+w:t+2w}) \\right|\n",
    "$\n",
    "\n",
    "---\n",
    "\n",
    "Mudança de Distribuição (KL Divergence)\n",
    "\n",
    "Utiliza a **divergência de Kullback-Leibler** para quantificar o quão diferente é a distribuição de duas janelas consecutivas. Quanto maior, maior a **ruptura distribucional**.\n",
    "\n",
    "$\n",
    "\\text{KL}(P || Q) = \\sum_i P(i) \\log \\left( \\frac{P(i)}{Q(i)} \\right)\n",
    "$\n",
    "\n",
    "- $ P $: distribuição na janela atual  \n",
    "- $ Q $: distribuição na próxima janela  \n",
    "- Resultado: índice do maior KL + valor máximo\n",
    "\n",
    "---"
   ]
  },
  {
   "cell_type": "code",
   "execution_count": 75,
   "metadata": {},
   "outputs": [],
   "source": [
    "# ================================================================\n",
    "# DIVERGÊNCIA DE KULLBACK-LEIBLER / KULLBACK-LEIBLER DIVERGENCE\n",
    "# ================================================================\n",
    "def kl_divergence(p, q):\n",
    "    \"\"\"\n",
    "    Calcula a divergência de KL entre duas distribuições.\n",
    "    / Computes the KL divergence between two distributions.\n",
    "    \"\"\"\n",
    "    p = np.asarray(p) + 1e-12\n",
    "    q = np.asarray(q) + 1e-12\n",
    "    # --> Garante que não há divisão por zero / Ensures no division by zero <--\n",
    "\n",
    "    return np.sum(p * np.log(p / q))\n",
    "    # --> Soma da divergência ponto a ponto / Sum of pointwise divergence <--\n",
    "\n",
    "# ================================================================\n",
    "# MUDANÇAS ESTRUTURAIS NA SÉRIE TEMPORAL / STRUCTURAL SHIFTS IN TIME SERIES\n",
    "# ================================================================\n",
    "def extract_structural_shifts(\n",
    "    series: pd.Series,\n",
    "    block_height: int,\n",
    "    block_timestamp: pd.Timestamp,\n",
    "    window: int = 30,\n",
    "    bins: int = 20\n",
    ") -> pd.DataFrame:\n",
    "    \"\"\"\n",
    "    Detecta rupturas estruturais usando média, variância e divergência KL.\n",
    "    / Detects structural shifts using mean, variance, and KL divergence.\n",
    "    \"\"\"\n",
    "\n",
    "    series = series.dropna().values\n",
    "    # --> Remove valores ausentes e converte para array / Clean and convert to NumPy array <--\n",
    "\n",
    "    n = len(series)\n",
    "    if n < 2 * window:\n",
    "        print(f\"[AVISO] Série com {n} pontos < 2x janela interna ({window}). Retornando linha vazia.\")\n",
    "        return pd.DataFrame([{\n",
    "            \"block_height\": block_height,\n",
    "            \"block_timestamp\": block_timestamp,\n",
    "            \"shift_level_max\": np.nan,\n",
    "            \"shift_var_max\": np.nan,\n",
    "            \"shift_kl_max\": np.nan\n",
    "        }])\n",
    "        # --> Série muito curta: retorna linha com NaNs / Too short: return row with NaNs <--\n",
    "\n",
    "    shift_level = []\n",
    "    shift_var = []\n",
    "    shift_kl = []\n",
    "    # --> Inicializa listas para mudanças / Initialize lists <--\n",
    "\n",
    "    # ================================\n",
    "    # LAÇOS DE JANELAS / LOOP THROUGH WINDOWS\n",
    "    # ================================\n",
    "    for i in range(n - 2 * window):\n",
    "        win1 = series[i : i + window]\n",
    "        win2 = series[i + window : i + 2 * window]\n",
    "        # --> Divide a série em duas janelas consecutivas / Two consecutive windows <--\n",
    "\n",
    "        shift_level.append(np.abs(np.mean(win1) - np.mean(win2)))\n",
    "        shift_var.append(np.abs(np.var(win1) - np.var(win2)))\n",
    "\n",
    "        hist1, _ = np.histogram(win1, bins=bins, density=True)\n",
    "        hist2, _ = np.histogram(win2, bins=bins, density=True)\n",
    "        shift_kl.append(kl_divergence(hist1, hist2))\n",
    "        # --> Divergência KL entre distribuições normalizadas / KL divergence between histograms <--\n",
    "\n",
    "    # ================================\n",
    "    # CRIA DATAFRAME COM RESULTADO AGREGADO / CREATE AGGREGATED RESULT\n",
    "    # ================================\n",
    "    df_shifts = pd.DataFrame([{\n",
    "        \"block_height\": block_height,\n",
    "        \"block_timestamp\": block_timestamp,\n",
    "        \"shift_level_max\": np.max(shift_level) if shift_level else np.nan,\n",
    "        \"shift_var_max\": np.max(shift_var) if shift_var else np.nan,\n",
    "        \"shift_kl_max\": np.max(shift_kl) if shift_kl else np.nan\n",
    "    }])\n",
    "    # --> Agrega máximos das métricas de mudança / Aggregate max values of shift metrics <--\n",
    "\n",
    "    return df_shifts\n",
    "    # --> Retorna DataFrame com uma linha de métricas / Returns one-row DataFrame with metrics <--\n",
    "\n",
    "# ================================================================\n"
   ]
  },
  {
   "cell_type": "code",
   "execution_count": 76,
   "metadata": {},
   "outputs": [
    {
     "name": "stdout",
     "output_type": "stream",
     "text": [
      "[AVISO] Nenhuma janela válida para extrair mudanças estruturais.\n"
     ]
    }
   ],
   "source": [
    "# EXECUÇÃO EM JANELAS DESLIZANTES / SLIDING WINDOW EXECUTION\n",
    "# ================================================================\n",
    "window_size = 60   # --> Tamanho da janela total / Total window size\n",
    "step = 10          # --> Passo entre janelas / Step between windows\n",
    "inner_window = 15  # --> Janela interna para comparação / Internal window size\n",
    "shifts = []        # --> Lista para armazenar resultados / List to store results\n",
    "\n",
    "for i in range(0, len(df_fft) - window_size + 1, step):\n",
    "    sub_series = df_fft[\"btc_price_usd\"].iloc[i:i + window_size]\n",
    "    block_height = df_fft[\"block_height\"].iloc[i + window_size - 1]\n",
    "    block_timestamp = df_fft[\"block_timestamp\"].iloc[i + window_size - 1]\n",
    "    # --> Extrai informações finais da janela / Extract window metadata <--\n",
    "\n",
    "    shift_feats = extract_structural_shifts(\n",
    "        series=sub_series,\n",
    "        block_height=block_height,\n",
    "        block_timestamp=block_timestamp,\n",
    "        window=inner_window  # --> Janela interna de comparação / Inner window size <--\n",
    "    )\n",
    "\n",
    "    shifts.append(shift_feats)\n",
    "\n",
    "# ================================================================\n",
    "# CONSOLIDAÇÃO FINAL / FINAL CONSOLIDATION\n",
    "# ================================================================\n",
    "if shifts:\n",
    "    df_shifts = pd.concat(shifts, ignore_index=True)\n",
    "    df_shifts = df_shifts.sort_values(\"block_timestamp\")\n",
    "    # --> Ordena resultado final / Sort final result <--\n",
    "    display(df_shifts.head())\n",
    "else:\n",
    "    print(\"[AVISO] Nenhuma janela válida para extrair mudanças estruturais.\")\n",
    "    df_shifts = pd.DataFrame()\n",
    "    # --> Se nenhuma janela for válida, retorna DataFrame vazio / If no valid window, return empty DataFrame <--"
   ]
  },
  {
   "cell_type": "markdown",
   "metadata": {},
   "source": [
    "### 5. Análise de Estacionariedade e Transformações"
   ]
  },
  {
   "cell_type": "markdown",
   "metadata": {},
   "source": [
    "#### 5.1 Transformações da Série"
   ]
  },
  {
   "cell_type": "markdown",
   "metadata": {},
   "source": [
    "Diferenciação de Primeira e Segunda Ordem\n",
    "\n",
    "A diferenciação é uma técnica para remover tendência e tornar a série mais estacionária.\n",
    "\n",
    "- **Primeira diferença**:\n",
    "$\n",
    "Z'_t = Z_t - Z_{t-1}\n",
    "$\n",
    "\n",
    "- **Segunda diferença** (após aplicar a primeira):\n",
    "$\n",
    "Z''_t = Z'_t - Z'_{t-1} = Z_t - 2Z_{t-1} + Z_{t-2}\n",
    "$\n",
    "\n",
    "---\n",
    "\n",
    "Comparação: Série Original vs Diferenciada\n",
    "\n",
    "É importante visualizar e comparar:\n",
    "\n",
    "- A série original  \n",
    "- A série com primeira e segunda diferença  \n",
    "- A estabilização da média e da variância\n",
    "\n",
    "---\n",
    "\n",
    "Transformação Box-Cox com \\( \\lambda \\) ótimo via Guerrero\n",
    "\n",
    "A transformação de Box-Cox torna a série **mais simétrica** e **estabiliza a variância**, essencial antes da diferenciação.\n",
    "\n",
    "$\n",
    "Y_t^{(\\lambda)} = \n",
    "\\begin{cases}\n",
    "\\frac{Y_t^\\lambda - 1}{\\lambda}, & \\lambda \\ne 0 \\\\\n",
    "\\ln(Y_t), & \\lambda = 0\n",
    "\\end{cases}\n",
    "$\n",
    "\n",
    "O **método de Guerrero** encontra o valor de \\( \\lambda \\) que minimiza a variância relativa das médias móveis de segmentos consecutivos.\n",
    "\n",
    "---"
   ]
  },
  {
   "cell_type": "code",
   "execution_count": 77,
   "metadata": {},
   "outputs": [],
   "source": [
    "import numpy as np\n",
    "import pandas as pd\n",
    "from statsmodels.tsa.stattools import adfuller\n",
    "from scipy.stats import boxcox, boxcox_normmax\n",
    "from scipy.special import boxcox1p\n",
    "from sktime.transformations.series.boxcox import BoxCoxTransformer\n",
    "\n",
    "# ================================================================\n",
    "# TRANSFORMAÇÃO BOX-COX COM MLE / BOX-COX TRANSFORMATION VIA MLE\n",
    "# ================================================================\n",
    "def boxcox_mle(series: pd.Series) -> tuple:\n",
    "    \"\"\"\n",
    "    Aplica Box-Cox com lambda ótimo via máxima verossimilhança (MLE)\n",
    "    / Applies Box-Cox with optimal lambda via Maximum Likelihood Estimation\n",
    "    \"\"\"\n",
    "    series = series.dropna()\n",
    "    # --> Remove valores ausentes antes de aplicar a transformação / Drop missing values before transformation <--\n",
    "\n",
    "    lambda_opt = boxcox_normmax(series, method=\"mle\")\n",
    "    # --> Estima o lambda ótimo via MLE / Estimate optimal lambda using MLE <--\n",
    "\n",
    "    transformed = boxcox(series, lmbda=lambda_opt)\n",
    "    # --> Aplica a transformação de Box-Cox / Apply Box-Cox transformation <--\n",
    "\n",
    "    return transformed, lambda_opt\n",
    "    # --> Retorna a série transformada e o lambda estimado / Return transformed series and lambda <--\n",
    "\n",
    "# ================================================================\n",
    "# TRANSFORMAÇÕES COMPLETAS DA SÉRIE / COMPLETE SERIES TRANSFORMATION\n",
    "# ================================================================\n",
    "def apply_series_transformations(series: pd.Series, seasonal_period: int = 12) -> dict:\n",
    "    \"\"\"\n",
    "    Aplica transformações: Box-Cox, diferenças de 1ª e 2ª ordem\n",
    "    / Applies Box-Cox, 1st and 2nd order differencing\n",
    "    \"\"\"\n",
    "    series = series[series > 0].dropna()\n",
    "    # --> Remove zeros ou valores negativos e NaNs (Box-Cox exige valores positivos) / Remove zeros, negatives, and NaNs <--\n",
    "\n",
    "    boxcox_series, lambda_opt = boxcox_mle(series)\n",
    "    # --> Aplica a transformação Box-Cox via MLE / Apply Box-Cox transformation using MLE <--\n",
    "\n",
    "    diff1 = pd.Series(np.diff(boxcox_series), index=series.index[1:])\n",
    "    # --> Calcula a 1ª diferença da série transformada / Compute 1st order differencing <--\n",
    "\n",
    "    diff2 = pd.Series(np.diff(diff1), index=series.index[2:])\n",
    "    # --> Calcula a 2ª diferença da série transformada / Compute 2nd order differencing <--\n",
    "\n",
    "    return {\n",
    "        \"original\": series,                                         # Série original / Original series\n",
    "        \"boxcox_transformed\": pd.Series(boxcox_series, index=series.index),  # Série transformada / Transformed series\n",
    "        \"lambda_boxcox\": lambda_opt,                                # Lambda ótimo estimado / Estimated optimal lambda\n",
    "        \"diff_1st\": diff1,                                          # Primeira diferença / First difference\n",
    "        \"diff_2nd\": diff2                                           # Segunda diferença / Second difference\n",
    "    }"
   ]
  },
  {
   "cell_type": "code",
   "execution_count": 78,
   "metadata": {},
   "outputs": [
    {
     "name": "stdout",
     "output_type": "stream",
     "text": [
      "Lambda ótimo: 17.542577311288927\n"
     ]
    }
   ],
   "source": [
    "result = apply_series_transformations(df_fft[\"btc_price_usd\"])\n",
    "print(\"Lambda ótimo:\", result[\"lambda_boxcox\"])\n"
   ]
  },
  {
   "cell_type": "code",
   "execution_count": 79,
   "metadata": {},
   "outputs": [
    {
     "data": {
      "application/vnd.plotly.v1+json": {
       "config": {
        "plotlyServerURL": "https://plot.ly"
       },
       "data": [
        {
         "fillcolor": "rgba(229, 165, 0, 0.1)",
         "line": {
          "color": "#E57C1F",
          "width": 1.5
         },
         "mode": "lines",
         "name": "Original",
         "type": "scatter",
         "x": [
          "2025-04-01T00:00:00.000000",
          "2025-04-02T00:00:00.000000",
          "2025-04-03T00:00:00.000000",
          "2025-04-04T00:00:00.000000",
          "2025-04-05T00:00:00.000000",
          "2025-04-06T00:00:00.000000",
          "2025-04-07T00:00:00.000000",
          "2025-04-08T00:00:00.000000"
         ],
         "xaxis": "x",
         "y": {
          "bdata": "pHA9ChaJ9EDhehQuP8T0QClcj8IqN/RAw/Uo3Bdd9EARERERpFb0QF8s+cWU+fNAuB6Fa9/78kA9Ctej+FDzQA==",
          "dtype": "f8"
         },
         "yaxis": "y"
        },
        {
         "line": {
          "color": "#E57C1F",
          "width": 1.5
         },
         "mode": "lines",
         "name": "1ª Diferença",
         "type": "scatter",
         "x": [
          "2025-04-02T00:00:00.000000",
          "2025-04-03T00:00:00.000000",
          "2025-04-04T00:00:00.000000",
          "2025-04-05T00:00:00.000000",
          "2025-04-06T00:00:00.000000",
          "2025-04-07T00:00:00.000000",
          "2025-04-08T00:00:00.000000"
         ],
         "xaxis": "x2",
         "y": {
          "bdata": "kPTTXvhGeVGAbNnxl6uK0ciVjY0xLmhRAIqU2TpKQdHMJuWVELB60Z0LD13cK4XRmHB3OdzoZFE=",
          "dtype": "f8"
         },
         "yaxis": "y2"
        },
        {
         "line": {
          "color": "#E57C1F",
          "width": 1.5
         },
         "mode": "lines",
         "name": "2ª Diferença",
         "type": "scatter",
         "x": [
          "2025-04-03T00:00:00.000000",
          "2025-04-04T00:00:00.000000",
          "2025-04-05T00:00:00.000000",
          "2025-04-06T00:00:00.000000",
          "2025-04-07T00:00:00.000000",
          "2025-04-08T00:00:00.000000"
         ],
         "xaxis": "x3",
         "y": {
          "bdata": "ZLOhEIqnk9H5aJ4qkluQUUi48kPAgGzRjJWyOsmGeNHc4HFIUE9v0cPnbGsTZopR",
          "dtype": "f8"
         },
         "yaxis": "y3"
        }
       ],
       "layout": {
        "annotations": [
         {
          "font": {
           "size": 16
          },
          "showarrow": false,
          "text": "Série Original",
          "x": 0.5,
          "xanchor": "center",
          "xref": "paper",
          "y": 1,
          "yanchor": "bottom",
          "yref": "paper"
         },
         {
          "font": {
           "size": 16
          },
          "showarrow": false,
          "text": "1ª Diferença",
          "x": 0.5,
          "xanchor": "center",
          "xref": "paper",
          "y": 0.6466666666666667,
          "yanchor": "bottom",
          "yref": "paper"
         },
         {
          "font": {
           "size": 16
          },
          "showarrow": false,
          "text": "2ª Diferença",
          "x": 0.5,
          "xanchor": "center",
          "xref": "paper",
          "y": 0.29333333333333333,
          "yanchor": "bottom",
          "yref": "paper"
         }
        ],
        "height": 800,
        "showlegend": false,
        "template": {
         "data": {
          "bar": [
           {
            "error_x": {
             "color": "#f2f5fa"
            },
            "error_y": {
             "color": "#f2f5fa"
            },
            "marker": {
             "line": {
              "color": "rgb(17,17,17)",
              "width": 0.5
             },
             "pattern": {
              "fillmode": "overlay",
              "size": 10,
              "solidity": 0.2
             }
            },
            "type": "bar"
           }
          ],
          "barpolar": [
           {
            "marker": {
             "line": {
              "color": "rgb(17,17,17)",
              "width": 0.5
             },
             "pattern": {
              "fillmode": "overlay",
              "size": 10,
              "solidity": 0.2
             }
            },
            "type": "barpolar"
           }
          ],
          "carpet": [
           {
            "aaxis": {
             "endlinecolor": "#A2B1C6",
             "gridcolor": "#506784",
             "linecolor": "#506784",
             "minorgridcolor": "#506784",
             "startlinecolor": "#A2B1C6"
            },
            "baxis": {
             "endlinecolor": "#A2B1C6",
             "gridcolor": "#506784",
             "linecolor": "#506784",
             "minorgridcolor": "#506784",
             "startlinecolor": "#A2B1C6"
            },
            "type": "carpet"
           }
          ],
          "choropleth": [
           {
            "colorbar": {
             "outlinewidth": 0,
             "ticks": ""
            },
            "type": "choropleth"
           }
          ],
          "contour": [
           {
            "colorbar": {
             "outlinewidth": 0,
             "ticks": ""
            },
            "colorscale": [
             [
              0,
              "#0d0887"
             ],
             [
              0.1111111111111111,
              "#46039f"
             ],
             [
              0.2222222222222222,
              "#7201a8"
             ],
             [
              0.3333333333333333,
              "#9c179e"
             ],
             [
              0.4444444444444444,
              "#bd3786"
             ],
             [
              0.5555555555555556,
              "#d8576b"
             ],
             [
              0.6666666666666666,
              "#ed7953"
             ],
             [
              0.7777777777777778,
              "#fb9f3a"
             ],
             [
              0.8888888888888888,
              "#fdca26"
             ],
             [
              1,
              "#f0f921"
             ]
            ],
            "type": "contour"
           }
          ],
          "contourcarpet": [
           {
            "colorbar": {
             "outlinewidth": 0,
             "ticks": ""
            },
            "type": "contourcarpet"
           }
          ],
          "heatmap": [
           {
            "colorbar": {
             "outlinewidth": 0,
             "ticks": ""
            },
            "colorscale": [
             [
              0,
              "#0d0887"
             ],
             [
              0.1111111111111111,
              "#46039f"
             ],
             [
              0.2222222222222222,
              "#7201a8"
             ],
             [
              0.3333333333333333,
              "#9c179e"
             ],
             [
              0.4444444444444444,
              "#bd3786"
             ],
             [
              0.5555555555555556,
              "#d8576b"
             ],
             [
              0.6666666666666666,
              "#ed7953"
             ],
             [
              0.7777777777777778,
              "#fb9f3a"
             ],
             [
              0.8888888888888888,
              "#fdca26"
             ],
             [
              1,
              "#f0f921"
             ]
            ],
            "type": "heatmap"
           }
          ],
          "histogram": [
           {
            "marker": {
             "pattern": {
              "fillmode": "overlay",
              "size": 10,
              "solidity": 0.2
             }
            },
            "type": "histogram"
           }
          ],
          "histogram2d": [
           {
            "colorbar": {
             "outlinewidth": 0,
             "ticks": ""
            },
            "colorscale": [
             [
              0,
              "#0d0887"
             ],
             [
              0.1111111111111111,
              "#46039f"
             ],
             [
              0.2222222222222222,
              "#7201a8"
             ],
             [
              0.3333333333333333,
              "#9c179e"
             ],
             [
              0.4444444444444444,
              "#bd3786"
             ],
             [
              0.5555555555555556,
              "#d8576b"
             ],
             [
              0.6666666666666666,
              "#ed7953"
             ],
             [
              0.7777777777777778,
              "#fb9f3a"
             ],
             [
              0.8888888888888888,
              "#fdca26"
             ],
             [
              1,
              "#f0f921"
             ]
            ],
            "type": "histogram2d"
           }
          ],
          "histogram2dcontour": [
           {
            "colorbar": {
             "outlinewidth": 0,
             "ticks": ""
            },
            "colorscale": [
             [
              0,
              "#0d0887"
             ],
             [
              0.1111111111111111,
              "#46039f"
             ],
             [
              0.2222222222222222,
              "#7201a8"
             ],
             [
              0.3333333333333333,
              "#9c179e"
             ],
             [
              0.4444444444444444,
              "#bd3786"
             ],
             [
              0.5555555555555556,
              "#d8576b"
             ],
             [
              0.6666666666666666,
              "#ed7953"
             ],
             [
              0.7777777777777778,
              "#fb9f3a"
             ],
             [
              0.8888888888888888,
              "#fdca26"
             ],
             [
              1,
              "#f0f921"
             ]
            ],
            "type": "histogram2dcontour"
           }
          ],
          "mesh3d": [
           {
            "colorbar": {
             "outlinewidth": 0,
             "ticks": ""
            },
            "type": "mesh3d"
           }
          ],
          "parcoords": [
           {
            "line": {
             "colorbar": {
              "outlinewidth": 0,
              "ticks": ""
             }
            },
            "type": "parcoords"
           }
          ],
          "pie": [
           {
            "automargin": true,
            "type": "pie"
           }
          ],
          "scatter": [
           {
            "marker": {
             "line": {
              "color": "#283442"
             }
            },
            "type": "scatter"
           }
          ],
          "scatter3d": [
           {
            "line": {
             "colorbar": {
              "outlinewidth": 0,
              "ticks": ""
             }
            },
            "marker": {
             "colorbar": {
              "outlinewidth": 0,
              "ticks": ""
             }
            },
            "type": "scatter3d"
           }
          ],
          "scattercarpet": [
           {
            "marker": {
             "colorbar": {
              "outlinewidth": 0,
              "ticks": ""
             }
            },
            "type": "scattercarpet"
           }
          ],
          "scattergeo": [
           {
            "marker": {
             "colorbar": {
              "outlinewidth": 0,
              "ticks": ""
             }
            },
            "type": "scattergeo"
           }
          ],
          "scattergl": [
           {
            "marker": {
             "line": {
              "color": "#283442"
             }
            },
            "type": "scattergl"
           }
          ],
          "scattermap": [
           {
            "marker": {
             "colorbar": {
              "outlinewidth": 0,
              "ticks": ""
             }
            },
            "type": "scattermap"
           }
          ],
          "scattermapbox": [
           {
            "marker": {
             "colorbar": {
              "outlinewidth": 0,
              "ticks": ""
             }
            },
            "type": "scattermapbox"
           }
          ],
          "scatterpolar": [
           {
            "marker": {
             "colorbar": {
              "outlinewidth": 0,
              "ticks": ""
             }
            },
            "type": "scatterpolar"
           }
          ],
          "scatterpolargl": [
           {
            "marker": {
             "colorbar": {
              "outlinewidth": 0,
              "ticks": ""
             }
            },
            "type": "scatterpolargl"
           }
          ],
          "scatterternary": [
           {
            "marker": {
             "colorbar": {
              "outlinewidth": 0,
              "ticks": ""
             }
            },
            "type": "scatterternary"
           }
          ],
          "surface": [
           {
            "colorbar": {
             "outlinewidth": 0,
             "ticks": ""
            },
            "colorscale": [
             [
              0,
              "#0d0887"
             ],
             [
              0.1111111111111111,
              "#46039f"
             ],
             [
              0.2222222222222222,
              "#7201a8"
             ],
             [
              0.3333333333333333,
              "#9c179e"
             ],
             [
              0.4444444444444444,
              "#bd3786"
             ],
             [
              0.5555555555555556,
              "#d8576b"
             ],
             [
              0.6666666666666666,
              "#ed7953"
             ],
             [
              0.7777777777777778,
              "#fb9f3a"
             ],
             [
              0.8888888888888888,
              "#fdca26"
             ],
             [
              1,
              "#f0f921"
             ]
            ],
            "type": "surface"
           }
          ],
          "table": [
           {
            "cells": {
             "fill": {
              "color": "#506784"
             },
             "line": {
              "color": "rgb(17,17,17)"
             }
            },
            "header": {
             "fill": {
              "color": "#2a3f5f"
             },
             "line": {
              "color": "rgb(17,17,17)"
             }
            },
            "type": "table"
           }
          ]
         },
         "layout": {
          "annotationdefaults": {
           "arrowcolor": "#f2f5fa",
           "arrowhead": 0,
           "arrowwidth": 1
          },
          "autotypenumbers": "strict",
          "coloraxis": {
           "colorbar": {
            "outlinewidth": 0,
            "ticks": ""
           }
          },
          "colorscale": {
           "diverging": [
            [
             0,
             "#8e0152"
            ],
            [
             0.1,
             "#c51b7d"
            ],
            [
             0.2,
             "#de77ae"
            ],
            [
             0.3,
             "#f1b6da"
            ],
            [
             0.4,
             "#fde0ef"
            ],
            [
             0.5,
             "#f7f7f7"
            ],
            [
             0.6,
             "#e6f5d0"
            ],
            [
             0.7,
             "#b8e186"
            ],
            [
             0.8,
             "#7fbc41"
            ],
            [
             0.9,
             "#4d9221"
            ],
            [
             1,
             "#276419"
            ]
           ],
           "sequential": [
            [
             0,
             "#0d0887"
            ],
            [
             0.1111111111111111,
             "#46039f"
            ],
            [
             0.2222222222222222,
             "#7201a8"
            ],
            [
             0.3333333333333333,
             "#9c179e"
            ],
            [
             0.4444444444444444,
             "#bd3786"
            ],
            [
             0.5555555555555556,
             "#d8576b"
            ],
            [
             0.6666666666666666,
             "#ed7953"
            ],
            [
             0.7777777777777778,
             "#fb9f3a"
            ],
            [
             0.8888888888888888,
             "#fdca26"
            ],
            [
             1,
             "#f0f921"
            ]
           ],
           "sequentialminus": [
            [
             0,
             "#0d0887"
            ],
            [
             0.1111111111111111,
             "#46039f"
            ],
            [
             0.2222222222222222,
             "#7201a8"
            ],
            [
             0.3333333333333333,
             "#9c179e"
            ],
            [
             0.4444444444444444,
             "#bd3786"
            ],
            [
             0.5555555555555556,
             "#d8576b"
            ],
            [
             0.6666666666666666,
             "#ed7953"
            ],
            [
             0.7777777777777778,
             "#fb9f3a"
            ],
            [
             0.8888888888888888,
             "#fdca26"
            ],
            [
             1,
             "#f0f921"
            ]
           ]
          },
          "colorway": [
           "#636efa",
           "#EF553B",
           "#00cc96",
           "#ab63fa",
           "#FFA15A",
           "#19d3f3",
           "#FF6692",
           "#B6E880",
           "#FF97FF",
           "#FECB52"
          ],
          "font": {
           "color": "#f2f5fa"
          },
          "geo": {
           "bgcolor": "rgb(17,17,17)",
           "lakecolor": "rgb(17,17,17)",
           "landcolor": "rgb(17,17,17)",
           "showlakes": true,
           "showland": true,
           "subunitcolor": "#506784"
          },
          "hoverlabel": {
           "align": "left"
          },
          "hovermode": "closest",
          "mapbox": {
           "style": "dark"
          },
          "paper_bgcolor": "rgb(17,17,17)",
          "plot_bgcolor": "rgb(17,17,17)",
          "polar": {
           "angularaxis": {
            "gridcolor": "#506784",
            "linecolor": "#506784",
            "ticks": ""
           },
           "bgcolor": "rgb(17,17,17)",
           "radialaxis": {
            "gridcolor": "#506784",
            "linecolor": "#506784",
            "ticks": ""
           }
          },
          "scene": {
           "xaxis": {
            "backgroundcolor": "rgb(17,17,17)",
            "gridcolor": "#506784",
            "gridwidth": 2,
            "linecolor": "#506784",
            "showbackground": true,
            "ticks": "",
            "zerolinecolor": "#C8D4E3"
           },
           "yaxis": {
            "backgroundcolor": "rgb(17,17,17)",
            "gridcolor": "#506784",
            "gridwidth": 2,
            "linecolor": "#506784",
            "showbackground": true,
            "ticks": "",
            "zerolinecolor": "#C8D4E3"
           },
           "zaxis": {
            "backgroundcolor": "rgb(17,17,17)",
            "gridcolor": "#506784",
            "gridwidth": 2,
            "linecolor": "#506784",
            "showbackground": true,
            "ticks": "",
            "zerolinecolor": "#C8D4E3"
           }
          },
          "shapedefaults": {
           "line": {
            "color": "#f2f5fa"
           }
          },
          "sliderdefaults": {
           "bgcolor": "#C8D4E3",
           "bordercolor": "rgb(17,17,17)",
           "borderwidth": 1,
           "tickwidth": 0
          },
          "ternary": {
           "aaxis": {
            "gridcolor": "#506784",
            "linecolor": "#506784",
            "ticks": ""
           },
           "baxis": {
            "gridcolor": "#506784",
            "linecolor": "#506784",
            "ticks": ""
           },
           "bgcolor": "rgb(17,17,17)",
           "caxis": {
            "gridcolor": "#506784",
            "linecolor": "#506784",
            "ticks": ""
           }
          },
          "title": {
           "x": 0.05
          },
          "updatemenudefaults": {
           "bgcolor": "#506784",
           "borderwidth": 0
          },
          "xaxis": {
           "automargin": true,
           "gridcolor": "#283442",
           "linecolor": "#506784",
           "ticks": "",
           "title": {
            "standoff": 15
           },
           "zerolinecolor": "#283442",
           "zerolinewidth": 2
          },
          "yaxis": {
           "automargin": true,
           "gridcolor": "#283442",
           "linecolor": "#506784",
           "ticks": "",
           "title": {
            "standoff": 15
           },
           "zerolinecolor": "#283442",
           "zerolinewidth": 2
          }
         }
        },
        "title": {
         "text": "<b><span style=\"font-size:22px;\">Transformações da Série Temporal</span></b>",
         "x": 0.5,
         "xanchor": "center"
        },
        "xaxis": {
         "anchor": "y",
         "domain": [
          0,
          1
         ],
         "matches": "x3",
         "showticklabels": false
        },
        "xaxis2": {
         "anchor": "y2",
         "domain": [
          0,
          1
         ],
         "matches": "x3",
         "showticklabels": false
        },
        "xaxis3": {
         "anchor": "y3",
         "domain": [
          0,
          1
         ],
         "title": {
          "text": "Data"
         }
        },
        "yaxis": {
         "anchor": "x",
         "domain": [
          0.7066666666666667,
          1
         ],
         "title": {
          "text": "Original"
         }
        },
        "yaxis2": {
         "anchor": "x2",
         "domain": [
          0.35333333333333333,
          0.6466666666666667
         ],
         "title": {
          "text": "1ª Diferença"
         }
        },
        "yaxis3": {
         "anchor": "x3",
         "domain": [
          0,
          0.29333333333333333
         ],
         "title": {
          "text": "2ª Diferença"
         }
        }
       }
      }
     },
     "metadata": {},
     "output_type": "display_data"
    }
   ],
   "source": [
    "result = apply_series_transformations(df_fft[\"btc_price_usd\"])\n",
    "plot_transformed_series(result)"
   ]
  },
  {
   "cell_type": "markdown",
   "metadata": {},
   "source": [
    "#### 5.2 Diagnóstico de Estacionariedade"
   ]
  },
  {
   "cell_type": "markdown",
   "metadata": {},
   "source": [
    "---\n",
    "\n",
    "Análise Gráfica de ACF e PACF\n",
    "\n",
    "A **Autocorrelação (ACF)** mostra o quanto a série atual depende de seus próprios lags.  \n",
    "A **Autocorrelação Parcial (PACF)** mostra a correlação dos lags com a série, **removendo a influência dos lags anteriores**.\n",
    "\n",
    "---\n",
    "\n",
    "Teste Dickey-Fuller Aumentado (ADF)\n",
    "\n",
    "Hipóteses:\n",
    "- $ H_0 $: A série **possui raiz unitária** (não estacionária)\n",
    "- $ H_1 $: A série **é estacionária**\n",
    "\n",
    "Estatística de teste:  \n",
    "$\n",
    "\\Delta Z_t = \\alpha + \\beta t + \\gamma Z_{t-1} + \\sum \\delta_i \\Delta Z_{t-i} + \\varepsilon_t\n",
    "$\n",
    "\n",
    "---\n",
    "\n",
    "Teste KPSS\n",
    "\n",
    "Hipóteses:\n",
    "- $ H_0 $: A série **é estacionária**\n",
    "- $ H_1 $: A série **não é estacionária**\n",
    "\n",
    "Complementa o ADF para evitar conclusões enviesadas.\n",
    "\n",
    "---\n",
    "\n",
    "Teste Phillips-Perron (PP)\n",
    "\n",
    "Similar ao ADF, mas **mais robusto à heterocedasticidade e autocorrelação nos resíduos**.\n",
    "\n",
    "---\n",
    "\n",
    "Estimativas Ótimas de Diferença (unitroot_ndiffs)\n",
    "\n",
    "- **unitroot_ndiffs** → número ideal de diferenciações para estacionarizar (não sazonal)\n",
    "- **unitroot_nsdiffs** → número ideal de diferenciações sazonais\n",
    "\n",
    "---\n",
    "\n",
    "Rolling Média e Desvio\n",
    "\n",
    "Verifica se a média e variância **permanecem estáveis ao longo do tempo**, outro indicativo visual de estacionariedade.\n",
    "\n",
    "---"
   ]
  },
  {
   "cell_type": "code",
   "execution_count": 80,
   "metadata": {},
   "outputs": [],
   "source": [
    "import pandas as pd\n",
    "import numpy as np\n",
    "from statsmodels.tsa.stattools import adfuller, kpss\n",
    "\n",
    "# ================================================================\n",
    "# ESTIMATIVA DE NDIFs PELO TESTE ADF / NDIFs ESTIMATION VIA ADF TEST\n",
    "# ================================================================\n",
    "def estimate_ndiffs_adf(series, max_d=3, alpha=0.05):\n",
    "    \"\"\"\n",
    "    Estima o número mínimo de diferenciações necessárias para estacionarizar via ADF.\n",
    "    / Estimates the minimum number of differences needed for stationarity using the ADF test.\n",
    "\n",
    "    Parâmetros / Parameters:\n",
    "    - series: pd.Series\n",
    "        Série temporal a ser testada / Time series to be tested.\n",
    "    - max_d: int\n",
    "        Número máximo de diferenciações permitidas / Maximum number of differences allowed.\n",
    "    - alpha: float\n",
    "        Nível de significância para o teste ADF / Significance level for ADF test.\n",
    "\n",
    "    Retorna / Returns:\n",
    "    - int: número de diferenciações necessárias / Number of differences required.\n",
    "    \"\"\"\n",
    "    for d in range(max_d + 1):\n",
    "        test_series = series if d == 0 else series.diff(d).dropna()\n",
    "        # --> Aplica diferenciação d vezes / Apply differencing d times <--\n",
    "\n",
    "        pval = adfuller(test_series)[1]\n",
    "        # --> Extrai o valor-p do teste ADF / Extract p-value from ADF test <--\n",
    "\n",
    "        if pval < alpha:\n",
    "            return d\n",
    "        # --> Retorna o número de diferenças se a série for estacionária / Return d if stationary <--\n",
    "\n",
    "    return max_d\n",
    "    # --> Retorna o valor máximo se nenhuma diferenciação atender ao critério / Return max_d if no d meets criteria <--"
   ]
  },
  {
   "cell_type": "code",
   "execution_count": 81,
   "metadata": {},
   "outputs": [],
   "source": [
    "from statsmodels.tsa.stattools import adfuller, kpss\n",
    "\n",
    "# ================================================================\n",
    "# DIAGNÓSTICO DE ESTACIONARIEDADE / STATIONARITY DIAGNOSTICS\n",
    "# ================================================================\n",
    "def stationarity_diagnostics(\n",
    "    series: pd.Series,\n",
    "    block_height: int,\n",
    "    block_timestamp: pd.Timestamp\n",
    ") -> pd.DataFrame:\n",
    "    \"\"\"\n",
    "    Executa diagnóstico básico de estacionariedade (ADF, KPSS e ndiffs).\n",
    "    / Performs basic stationarity diagnostics (ADF, KPSS and estimated ndiffs).\n",
    "    \n",
    "    Parâmetros / Parameters:\n",
    "    - series: pd.Series\n",
    "        Série temporal a ser analisada / Time series to be analyzed.\n",
    "    - block_height: int\n",
    "        Altura do bloco associada à janela / Block height for traceability.\n",
    "    - block_timestamp: pd.Timestamp\n",
    "        Timestamp da última observação da janela / Timestamp of the last observation in the window.\n",
    "    \n",
    "    Retorna / Returns:\n",
    "    - pd.DataFrame com uma linha e métricas de estacionariedade /\n",
    "      One-row DataFrame with stationarity diagnostics.\n",
    "    \"\"\"\n",
    "\n",
    "    # -----------------------\n",
    "    # PRÉ-PROCESSAMENTO / PREPROCESSING\n",
    "    # -----------------------\n",
    "    series = series.dropna()\n",
    "    # --> Remove valores ausentes da série / Drop missing values <--\n",
    "\n",
    "    # -----------------------\n",
    "    # TESTE ADF / ADF TEST\n",
    "    # -----------------------\n",
    "    adf_result = adfuller(series)\n",
    "    adf_stat = adf_result[0]\n",
    "    adf_pvalue = adf_result[1]\n",
    "\n",
    "    # -----------------------\n",
    "    # TESTE KPSS / KPSS TEST\n",
    "    # -----------------------\n",
    "    kpss_result = kpss(series, regression=\"c\", nlags=\"legacy\")\n",
    "    kpss_stat = kpss_result[0]\n",
    "    kpss_pvalue = kpss_result[1]\n",
    "\n",
    "    # -----------------------\n",
    "    # ESTIMATIVA DE NDIFs / ESTIMATED DIFFERENCES\n",
    "    # -----------------------\n",
    "    d_est = estimate_ndiffs_adf(series)\n",
    "\n",
    "    # -----------------------\n",
    "    # DATAFRAME DE RESULTADO / RESULT DATAFRAME\n",
    "    # -----------------------\n",
    "    return pd.DataFrame([{\n",
    "        \"block_height\": block_height,\n",
    "        \"block_timestamp\": block_timestamp,\n",
    "        \"ADF_stat\": adf_stat,\n",
    "        \"ADF_pvalue\": adf_pvalue,\n",
    "        \"KPSS_stat\": kpss_stat,\n",
    "        \"KPSS_pvalue\": kpss_pvalue,\n",
    "        \"ndiffs_est_adf\": d_est\n",
    "    }])"
   ]
  },
  {
   "cell_type": "code",
   "execution_count": 82,
   "metadata": {},
   "outputs": [
    {
     "data": {
      "application/vnd.plotly.v1+json": {
       "config": {
        "plotlyServerURL": "https://plot.ly"
       },
       "data": [
        {
         "fill": "tozeroy",
         "fillcolor": "rgba(229, 165, 0, 0.05)",
         "line": {
          "color": "#E57C1F",
          "width": 1.5
         },
         "mode": "lines",
         "name": "Original",
         "type": "scatter",
         "x": [
          "2025-04-01T00:00:00.000000",
          "2025-04-02T00:00:00.000000",
          "2025-04-03T00:00:00.000000",
          "2025-04-04T00:00:00.000000",
          "2025-04-05T00:00:00.000000",
          "2025-04-06T00:00:00.000000",
          "2025-04-07T00:00:00.000000",
          "2025-04-08T00:00:00.000000"
         ],
         "y": {
          "bdata": "LhvpsWM1nVGKGxWwpcWhUaDCztm2LJZRVb24rXo0mVHn3Yi8zamYUc/Bi6hk+ZFRGrdBHfdxfVGeAbvro/aDUQ==",
          "dtype": "f8"
         }
        },
        {
         "line": {
          "color": "cyan",
          "dash": "dot",
          "width": 2
         },
         "mode": "lines",
         "name": "Média Móvel",
         "type": "scatter",
         "x": [
          "2025-04-01T00:00:00.000000",
          "2025-04-02T00:00:00.000000",
          "2025-04-03T00:00:00.000000",
          "2025-04-04T00:00:00.000000",
          "2025-04-05T00:00:00.000000",
          "2025-04-06T00:00:00.000000",
          "2025-04-07T00:00:00.000000",
          "2025-04-08T00:00:00.000000"
         ],
         "y": {
          "bdata": "AAAAAAAA+H8AAAAAAAD4fwAAAAAAAPh/AAAAAAAA+H8AAAAAAAD4fwAAAAAAAPh/AAAAAAAA+H8AAAAAAAD4fw==",
          "dtype": "f8"
         }
        },
        {
         "line": {
          "color": "magenta",
          "dash": "dash",
          "width": 2
         },
         "mode": "lines",
         "name": "Desvio Padrão Móvel",
         "type": "scatter",
         "x": [
          "2025-04-01T00:00:00.000000",
          "2025-04-02T00:00:00.000000",
          "2025-04-03T00:00:00.000000",
          "2025-04-04T00:00:00.000000",
          "2025-04-05T00:00:00.000000",
          "2025-04-06T00:00:00.000000",
          "2025-04-07T00:00:00.000000",
          "2025-04-08T00:00:00.000000"
         ],
         "y": {
          "bdata": "AAAAAAAA+H8AAAAAAAD4fwAAAAAAAPh/AAAAAAAA+H8AAAAAAAD4fwAAAAAAAPh/AAAAAAAA+H8AAAAAAAD4fw==",
          "dtype": "f8"
         }
        }
       ],
       "layout": {
        "annotations": [
         {
          "font": {
           "size": 16
          },
          "showarrow": false,
          "text": "Rolling Média e Desvio - Série Sobreposta",
          "x": 0.5,
          "xanchor": "center",
          "xref": "paper",
          "y": 1,
          "yanchor": "bottom",
          "yref": "paper"
         }
        ],
        "height": 600,
        "legend": {
         "orientation": "v",
         "x": 1.02,
         "xanchor": "left",
         "y": 1,
         "yanchor": "top"
        },
        "showlegend": true,
        "template": {
         "data": {
          "bar": [
           {
            "error_x": {
             "color": "#f2f5fa"
            },
            "error_y": {
             "color": "#f2f5fa"
            },
            "marker": {
             "line": {
              "color": "rgb(17,17,17)",
              "width": 0.5
             },
             "pattern": {
              "fillmode": "overlay",
              "size": 10,
              "solidity": 0.2
             }
            },
            "type": "bar"
           }
          ],
          "barpolar": [
           {
            "marker": {
             "line": {
              "color": "rgb(17,17,17)",
              "width": 0.5
             },
             "pattern": {
              "fillmode": "overlay",
              "size": 10,
              "solidity": 0.2
             }
            },
            "type": "barpolar"
           }
          ],
          "carpet": [
           {
            "aaxis": {
             "endlinecolor": "#A2B1C6",
             "gridcolor": "#506784",
             "linecolor": "#506784",
             "minorgridcolor": "#506784",
             "startlinecolor": "#A2B1C6"
            },
            "baxis": {
             "endlinecolor": "#A2B1C6",
             "gridcolor": "#506784",
             "linecolor": "#506784",
             "minorgridcolor": "#506784",
             "startlinecolor": "#A2B1C6"
            },
            "type": "carpet"
           }
          ],
          "choropleth": [
           {
            "colorbar": {
             "outlinewidth": 0,
             "ticks": ""
            },
            "type": "choropleth"
           }
          ],
          "contour": [
           {
            "colorbar": {
             "outlinewidth": 0,
             "ticks": ""
            },
            "colorscale": [
             [
              0,
              "#0d0887"
             ],
             [
              0.1111111111111111,
              "#46039f"
             ],
             [
              0.2222222222222222,
              "#7201a8"
             ],
             [
              0.3333333333333333,
              "#9c179e"
             ],
             [
              0.4444444444444444,
              "#bd3786"
             ],
             [
              0.5555555555555556,
              "#d8576b"
             ],
             [
              0.6666666666666666,
              "#ed7953"
             ],
             [
              0.7777777777777778,
              "#fb9f3a"
             ],
             [
              0.8888888888888888,
              "#fdca26"
             ],
             [
              1,
              "#f0f921"
             ]
            ],
            "type": "contour"
           }
          ],
          "contourcarpet": [
           {
            "colorbar": {
             "outlinewidth": 0,
             "ticks": ""
            },
            "type": "contourcarpet"
           }
          ],
          "heatmap": [
           {
            "colorbar": {
             "outlinewidth": 0,
             "ticks": ""
            },
            "colorscale": [
             [
              0,
              "#0d0887"
             ],
             [
              0.1111111111111111,
              "#46039f"
             ],
             [
              0.2222222222222222,
              "#7201a8"
             ],
             [
              0.3333333333333333,
              "#9c179e"
             ],
             [
              0.4444444444444444,
              "#bd3786"
             ],
             [
              0.5555555555555556,
              "#d8576b"
             ],
             [
              0.6666666666666666,
              "#ed7953"
             ],
             [
              0.7777777777777778,
              "#fb9f3a"
             ],
             [
              0.8888888888888888,
              "#fdca26"
             ],
             [
              1,
              "#f0f921"
             ]
            ],
            "type": "heatmap"
           }
          ],
          "histogram": [
           {
            "marker": {
             "pattern": {
              "fillmode": "overlay",
              "size": 10,
              "solidity": 0.2
             }
            },
            "type": "histogram"
           }
          ],
          "histogram2d": [
           {
            "colorbar": {
             "outlinewidth": 0,
             "ticks": ""
            },
            "colorscale": [
             [
              0,
              "#0d0887"
             ],
             [
              0.1111111111111111,
              "#46039f"
             ],
             [
              0.2222222222222222,
              "#7201a8"
             ],
             [
              0.3333333333333333,
              "#9c179e"
             ],
             [
              0.4444444444444444,
              "#bd3786"
             ],
             [
              0.5555555555555556,
              "#d8576b"
             ],
             [
              0.6666666666666666,
              "#ed7953"
             ],
             [
              0.7777777777777778,
              "#fb9f3a"
             ],
             [
              0.8888888888888888,
              "#fdca26"
             ],
             [
              1,
              "#f0f921"
             ]
            ],
            "type": "histogram2d"
           }
          ],
          "histogram2dcontour": [
           {
            "colorbar": {
             "outlinewidth": 0,
             "ticks": ""
            },
            "colorscale": [
             [
              0,
              "#0d0887"
             ],
             [
              0.1111111111111111,
              "#46039f"
             ],
             [
              0.2222222222222222,
              "#7201a8"
             ],
             [
              0.3333333333333333,
              "#9c179e"
             ],
             [
              0.4444444444444444,
              "#bd3786"
             ],
             [
              0.5555555555555556,
              "#d8576b"
             ],
             [
              0.6666666666666666,
              "#ed7953"
             ],
             [
              0.7777777777777778,
              "#fb9f3a"
             ],
             [
              0.8888888888888888,
              "#fdca26"
             ],
             [
              1,
              "#f0f921"
             ]
            ],
            "type": "histogram2dcontour"
           }
          ],
          "mesh3d": [
           {
            "colorbar": {
             "outlinewidth": 0,
             "ticks": ""
            },
            "type": "mesh3d"
           }
          ],
          "parcoords": [
           {
            "line": {
             "colorbar": {
              "outlinewidth": 0,
              "ticks": ""
             }
            },
            "type": "parcoords"
           }
          ],
          "pie": [
           {
            "automargin": true,
            "type": "pie"
           }
          ],
          "scatter": [
           {
            "marker": {
             "line": {
              "color": "#283442"
             }
            },
            "type": "scatter"
           }
          ],
          "scatter3d": [
           {
            "line": {
             "colorbar": {
              "outlinewidth": 0,
              "ticks": ""
             }
            },
            "marker": {
             "colorbar": {
              "outlinewidth": 0,
              "ticks": ""
             }
            },
            "type": "scatter3d"
           }
          ],
          "scattercarpet": [
           {
            "marker": {
             "colorbar": {
              "outlinewidth": 0,
              "ticks": ""
             }
            },
            "type": "scattercarpet"
           }
          ],
          "scattergeo": [
           {
            "marker": {
             "colorbar": {
              "outlinewidth": 0,
              "ticks": ""
             }
            },
            "type": "scattergeo"
           }
          ],
          "scattergl": [
           {
            "marker": {
             "line": {
              "color": "#283442"
             }
            },
            "type": "scattergl"
           }
          ],
          "scattermap": [
           {
            "marker": {
             "colorbar": {
              "outlinewidth": 0,
              "ticks": ""
             }
            },
            "type": "scattermap"
           }
          ],
          "scattermapbox": [
           {
            "marker": {
             "colorbar": {
              "outlinewidth": 0,
              "ticks": ""
             }
            },
            "type": "scattermapbox"
           }
          ],
          "scatterpolar": [
           {
            "marker": {
             "colorbar": {
              "outlinewidth": 0,
              "ticks": ""
             }
            },
            "type": "scatterpolar"
           }
          ],
          "scatterpolargl": [
           {
            "marker": {
             "colorbar": {
              "outlinewidth": 0,
              "ticks": ""
             }
            },
            "type": "scatterpolargl"
           }
          ],
          "scatterternary": [
           {
            "marker": {
             "colorbar": {
              "outlinewidth": 0,
              "ticks": ""
             }
            },
            "type": "scatterternary"
           }
          ],
          "surface": [
           {
            "colorbar": {
             "outlinewidth": 0,
             "ticks": ""
            },
            "colorscale": [
             [
              0,
              "#0d0887"
             ],
             [
              0.1111111111111111,
              "#46039f"
             ],
             [
              0.2222222222222222,
              "#7201a8"
             ],
             [
              0.3333333333333333,
              "#9c179e"
             ],
             [
              0.4444444444444444,
              "#bd3786"
             ],
             [
              0.5555555555555556,
              "#d8576b"
             ],
             [
              0.6666666666666666,
              "#ed7953"
             ],
             [
              0.7777777777777778,
              "#fb9f3a"
             ],
             [
              0.8888888888888888,
              "#fdca26"
             ],
             [
              1,
              "#f0f921"
             ]
            ],
            "type": "surface"
           }
          ],
          "table": [
           {
            "cells": {
             "fill": {
              "color": "#506784"
             },
             "line": {
              "color": "rgb(17,17,17)"
             }
            },
            "header": {
             "fill": {
              "color": "#2a3f5f"
             },
             "line": {
              "color": "rgb(17,17,17)"
             }
            },
            "type": "table"
           }
          ]
         },
         "layout": {
          "annotationdefaults": {
           "arrowcolor": "#f2f5fa",
           "arrowhead": 0,
           "arrowwidth": 1
          },
          "autotypenumbers": "strict",
          "coloraxis": {
           "colorbar": {
            "outlinewidth": 0,
            "ticks": ""
           }
          },
          "colorscale": {
           "diverging": [
            [
             0,
             "#8e0152"
            ],
            [
             0.1,
             "#c51b7d"
            ],
            [
             0.2,
             "#de77ae"
            ],
            [
             0.3,
             "#f1b6da"
            ],
            [
             0.4,
             "#fde0ef"
            ],
            [
             0.5,
             "#f7f7f7"
            ],
            [
             0.6,
             "#e6f5d0"
            ],
            [
             0.7,
             "#b8e186"
            ],
            [
             0.8,
             "#7fbc41"
            ],
            [
             0.9,
             "#4d9221"
            ],
            [
             1,
             "#276419"
            ]
           ],
           "sequential": [
            [
             0,
             "#0d0887"
            ],
            [
             0.1111111111111111,
             "#46039f"
            ],
            [
             0.2222222222222222,
             "#7201a8"
            ],
            [
             0.3333333333333333,
             "#9c179e"
            ],
            [
             0.4444444444444444,
             "#bd3786"
            ],
            [
             0.5555555555555556,
             "#d8576b"
            ],
            [
             0.6666666666666666,
             "#ed7953"
            ],
            [
             0.7777777777777778,
             "#fb9f3a"
            ],
            [
             0.8888888888888888,
             "#fdca26"
            ],
            [
             1,
             "#f0f921"
            ]
           ],
           "sequentialminus": [
            [
             0,
             "#0d0887"
            ],
            [
             0.1111111111111111,
             "#46039f"
            ],
            [
             0.2222222222222222,
             "#7201a8"
            ],
            [
             0.3333333333333333,
             "#9c179e"
            ],
            [
             0.4444444444444444,
             "#bd3786"
            ],
            [
             0.5555555555555556,
             "#d8576b"
            ],
            [
             0.6666666666666666,
             "#ed7953"
            ],
            [
             0.7777777777777778,
             "#fb9f3a"
            ],
            [
             0.8888888888888888,
             "#fdca26"
            ],
            [
             1,
             "#f0f921"
            ]
           ]
          },
          "colorway": [
           "#636efa",
           "#EF553B",
           "#00cc96",
           "#ab63fa",
           "#FFA15A",
           "#19d3f3",
           "#FF6692",
           "#B6E880",
           "#FF97FF",
           "#FECB52"
          ],
          "font": {
           "color": "#f2f5fa"
          },
          "geo": {
           "bgcolor": "rgb(17,17,17)",
           "lakecolor": "rgb(17,17,17)",
           "landcolor": "rgb(17,17,17)",
           "showlakes": true,
           "showland": true,
           "subunitcolor": "#506784"
          },
          "hoverlabel": {
           "align": "left"
          },
          "hovermode": "closest",
          "mapbox": {
           "style": "dark"
          },
          "paper_bgcolor": "rgb(17,17,17)",
          "plot_bgcolor": "rgb(17,17,17)",
          "polar": {
           "angularaxis": {
            "gridcolor": "#506784",
            "linecolor": "#506784",
            "ticks": ""
           },
           "bgcolor": "rgb(17,17,17)",
           "radialaxis": {
            "gridcolor": "#506784",
            "linecolor": "#506784",
            "ticks": ""
           }
          },
          "scene": {
           "xaxis": {
            "backgroundcolor": "rgb(17,17,17)",
            "gridcolor": "#506784",
            "gridwidth": 2,
            "linecolor": "#506784",
            "showbackground": true,
            "ticks": "",
            "zerolinecolor": "#C8D4E3"
           },
           "yaxis": {
            "backgroundcolor": "rgb(17,17,17)",
            "gridcolor": "#506784",
            "gridwidth": 2,
            "linecolor": "#506784",
            "showbackground": true,
            "ticks": "",
            "zerolinecolor": "#C8D4E3"
           },
           "zaxis": {
            "backgroundcolor": "rgb(17,17,17)",
            "gridcolor": "#506784",
            "gridwidth": 2,
            "linecolor": "#506784",
            "showbackground": true,
            "ticks": "",
            "zerolinecolor": "#C8D4E3"
           }
          },
          "shapedefaults": {
           "line": {
            "color": "#f2f5fa"
           }
          },
          "sliderdefaults": {
           "bgcolor": "#C8D4E3",
           "bordercolor": "rgb(17,17,17)",
           "borderwidth": 1,
           "tickwidth": 0
          },
          "ternary": {
           "aaxis": {
            "gridcolor": "#506784",
            "linecolor": "#506784",
            "ticks": ""
           },
           "baxis": {
            "gridcolor": "#506784",
            "linecolor": "#506784",
            "ticks": ""
           },
           "bgcolor": "rgb(17,17,17)",
           "caxis": {
            "gridcolor": "#506784",
            "linecolor": "#506784",
            "ticks": ""
           }
          },
          "title": {
           "x": 0.05
          },
          "updatemenudefaults": {
           "bgcolor": "#506784",
           "borderwidth": 0
          },
          "xaxis": {
           "automargin": true,
           "gridcolor": "#283442",
           "linecolor": "#506784",
           "ticks": "",
           "title": {
            "standoff": 15
           },
           "zerolinecolor": "#283442",
           "zerolinewidth": 2
          },
          "yaxis": {
           "automargin": true,
           "gridcolor": "#283442",
           "linecolor": "#506784",
           "ticks": "",
           "title": {
            "standoff": 15
           },
           "zerolinecolor": "#283442",
           "zerolinewidth": 2
          }
         }
        },
        "title": {
         "text": "<b><span style=\"font-size:22px;\">Rolling Média e Desvio - Box-Cox Transformada</span></b>",
         "x": 0.5,
         "xanchor": "center",
         "y": 0.93
        },
        "xaxis": {
         "anchor": "y",
         "domain": [
          0,
          1
         ],
         "title": {
          "text": "Data"
         }
        },
        "yaxis": {
         "anchor": "x",
         "domain": [
          0,
          1
         ],
         "title": {
          "text": "Valor"
         }
        }
       }
      }
     },
     "metadata": {},
     "output_type": "display_data"
    }
   ],
   "source": [
    "from scipy.stats import boxcox\n",
    "\n",
    "# Aplica Box-Cox\n",
    "df_transf = df_fft.copy()\n",
    "df_transf[\"boxcox_transformed\"], _ = boxcox(df_transf[\"btc_price_usd\"].dropna() + 1)\n",
    "\n",
    "# Plota diagnósticos com a coluna criada\n",
    "plot_rolling_diagnostics_overlay(\n",
    "    series=df_transf[\"boxcox_transformed\"],\n",
    "    window=30,\n",
    "    title=\"Rolling Média e Desvio - Box-Cox Transformada\"\n",
    ")"
   ]
  },
  {
   "cell_type": "markdown",
   "metadata": {},
   "source": [
    "##### 🔶 ₿ -----> Diferenciação da Série"
   ]
  },
  {
   "cell_type": "code",
   "execution_count": 83,
   "metadata": {},
   "outputs": [],
   "source": [
    "# ============================\n",
    "# CONFIGURAÇÕES DE PARÂMETROS\n",
    "# ============================\n",
    "resample_freq = 'h'            # Frequência: 'h' (hora), 'd' (dia), 'W' (semana) / Resampling frequency\n",
    "nlags_option = 'auto'          # 'manual', 'serie_longa', 'auto' / Method to determine number of lags for ACF\n",
    "manual_nlags = 30              # Lag manual, se escolhido / Manual lag count if selected\n",
    "date_range_start = None        # Ex: \"2023-01-01\" / Optional start date filter\n",
    "date_range_end = None          # Ex: \"2023-03-01\" / Optional end date filter\n",
    "\n",
    "# ===========================\n",
    "# PRÉ-PROCESSAMENTO DA SÉRIE\n",
    "# ===========================\n",
    "\n",
    "df_diff = df_features_temp.toPandas()\n",
    "# --> Converte o DataFrame PySpark para Pandas / Converts PySpark DataFrame to Pandas <--\n",
    "\n",
    "df_diff[\"block_timestamp\"] = pd.to_datetime(df_diff[\"block_timestamp\"])\n",
    "# --> Garante que o campo de tempo seja do tipo datetime / Ensures timestamp field is datetime type <--\n",
    "\n",
    "df_diff = df_diff.sort_values(\"block_timestamp\")\n",
    "# --> Ordena o DataFrame pelo tempo / Sorts the DataFrame by timestamp <--\n",
    "\n",
    "df_diff.set_index('block_timestamp', inplace=True)\n",
    "# --> Define o índice como timestamp (necessário para o resample) / Sets timestamp as index (needed for resample) <--\n",
    "\n",
    "df_diff = df_diff.resample('d').mean()\n",
    "# --> Reamostra os dados com frequência horária, calculando a média por hora / Resamples data to hourly frequency, taking the mean per hour <--\n",
    "\n",
    "\n",
    "# ========================================\n",
    "# FILTRO DE INTERVALO DE DATAS (OPCIONAL)\n",
    "# ========================================\n",
    "if date_range_start and date_range_end:\n",
    "    df_diff = df_diff.loc[date_range_start:date_range_end]\n",
    "# --> Filtra o DataFrame por intervalo de datas, se fornecido / Filters data by date range if defined <--\n",
    "\n",
    "# =========================\n",
    "# DIFERENCIAÇÃO (1ª ordem)\n",
    "# =========================\n",
    "df_diff[\"btc_price_diff\"] = df_diff[\"btc_price_usd\"].diff()\n",
    "# --> Aplica diferenciação de 1ª ordem: Y(t) = Z(t) - Z(t-1) / First-order differencing <--\n",
    "\n",
    "df_diff_stationary = df_diff.dropna()\n",
    "# --> Remove os valores nulos gerados pela diferenciação / Drops NaNs from differencing <--\n",
    "\n",
    "# ============================\n",
    "# BUFFER VISUAL PARA GRÁFICOS\n",
    "# ============================\n",
    "y_min = df_diff[\"btc_price_usd\"].min() * 0.98\n",
    "y_max = df_diff[\"btc_price_usd\"].max() * 1.02\n",
    "# --> Define um intervalo visual com 2% de margem no eixo Y / Adds 2% buffer for Y-axis range <--"
   ]
  },
  {
   "cell_type": "markdown",
   "metadata": {},
   "source": [
    "##### 🔶 ₿ -----> Modelagem Matemática"
   ]
  },
  {
   "cell_type": "markdown",
   "metadata": {},
   "source": [
    "---\n",
    "Condições de Estacionariedade de segunda ordem (Fraca)\n",
    "\n",
    "Uma série temporal $ \\ Z(t) \\ $ é dita **fracamente estacionária** se satisfaz:\n",
    "\n",
    "1. Média constante:  \n",
    "   $\n",
    "   \\mathbb{E}[Z(t)] = \\mu\n",
    "   $\n",
    "\n",
    "2. Variância constante:  \n",
    "   $\n",
    "   \\text{Var}(Z(t)) = \\sigma^2\n",
    "   $\n",
    "\n",
    "3. Autocovariância depende apenas do lag \\( k \\):  \n",
    "   $\n",
    "   \\gamma(k) = \\text{Cov}(Z(t), Z(t+k)) = \\mathbb{E}[(Z(t) - \\mu)(Z(t+k) - \\mu)]\n",
    "   $\n",
    "---   "
   ]
  },
  {
   "cell_type": "markdown",
   "metadata": {},
   "source": [
    "##### 🔶 ₿ -----> Plotagem da Série Original e Diferenciada"
   ]
  },
  {
   "cell_type": "code",
   "execution_count": 84,
   "metadata": {},
   "outputs": [
    {
     "data": {
      "application/vnd.plotly.v1+json": {
       "config": {
        "plotlyServerURL": "https://plot.ly"
       },
       "data": [
        {
         "line": {
          "color": "#E57C1F",
          "width": 1.5
         },
         "mode": "lines",
         "name": "Preço BTC",
         "type": "scatter",
         "x": [
          "2025-04-01T00:00:00.000000",
          "2025-04-02T00:00:00.000000",
          "2025-04-03T00:00:00.000000",
          "2025-04-04T00:00:00.000000",
          "2025-04-05T00:00:00.000000",
          "2025-04-06T00:00:00.000000",
          "2025-04-07T00:00:00.000000",
          "2025-04-08T00:00:00.000000"
         ],
         "xaxis": "x",
         "y": {
          "bdata": "avjbFAeJ9EDug9JEfcj0QNlXJ9XwNfRAP6Jrm8hZ9EDI34D8RVf0QITMMIXK3vNAGHvJYysH80AIQTay5k/zQA==",
          "dtype": "f8"
         },
         "yaxis": "y"
        },
        {
         "line": {
          "color": "#1FADE5",
          "width": 1.5
         },
         "mode": "lines",
         "name": "Δ Preço BTC",
         "type": "scatter",
         "x": [
          "2025-04-02T00:00:00.000000",
          "2025-04-03T00:00:00.000000",
          "2025-04-04T00:00:00.000000",
          "2025-04-05T00:00:00.000000",
          "2025-04-06T00:00:00.000000",
          "2025-04-07T00:00:00.000000",
          "2025-04-08T00:00:00.000000"
         ],
         "xaxis": "x2",
         "y": {
          "bdata": "AMJF+xe7j0CggmX1jVGiwAAzJSLj64FAALgTVvcURMAA0QTU3R6ewIAt6izk86rAAHwxm9MukkA=",
          "dtype": "f8"
         },
         "yaxis": "y2"
        }
       ],
       "layout": {
        "annotations": [
         {
          "font": {
           "size": 16
          },
          "showarrow": false,
          "text": "Série Temporal do Preço do Bitcoin (Não Estacionária)",
          "x": 0.5,
          "xanchor": "center",
          "xref": "paper",
          "y": 1,
          "yanchor": "bottom",
          "yref": "paper"
         },
         {
          "font": {
           "size": 16
          },
          "showarrow": false,
          "text": "Série Temporal Diferenciada (Estacionária Aproximadamente)",
          "x": 0.5,
          "xanchor": "center",
          "xref": "paper",
          "y": 0.46,
          "yanchor": "bottom",
          "yref": "paper"
         }
        ],
        "height": 800,
        "showlegend": false,
        "template": {
         "data": {
          "bar": [
           {
            "error_x": {
             "color": "#f2f5fa"
            },
            "error_y": {
             "color": "#f2f5fa"
            },
            "marker": {
             "line": {
              "color": "rgb(17,17,17)",
              "width": 0.5
             },
             "pattern": {
              "fillmode": "overlay",
              "size": 10,
              "solidity": 0.2
             }
            },
            "type": "bar"
           }
          ],
          "barpolar": [
           {
            "marker": {
             "line": {
              "color": "rgb(17,17,17)",
              "width": 0.5
             },
             "pattern": {
              "fillmode": "overlay",
              "size": 10,
              "solidity": 0.2
             }
            },
            "type": "barpolar"
           }
          ],
          "carpet": [
           {
            "aaxis": {
             "endlinecolor": "#A2B1C6",
             "gridcolor": "#506784",
             "linecolor": "#506784",
             "minorgridcolor": "#506784",
             "startlinecolor": "#A2B1C6"
            },
            "baxis": {
             "endlinecolor": "#A2B1C6",
             "gridcolor": "#506784",
             "linecolor": "#506784",
             "minorgridcolor": "#506784",
             "startlinecolor": "#A2B1C6"
            },
            "type": "carpet"
           }
          ],
          "choropleth": [
           {
            "colorbar": {
             "outlinewidth": 0,
             "ticks": ""
            },
            "type": "choropleth"
           }
          ],
          "contour": [
           {
            "colorbar": {
             "outlinewidth": 0,
             "ticks": ""
            },
            "colorscale": [
             [
              0,
              "#0d0887"
             ],
             [
              0.1111111111111111,
              "#46039f"
             ],
             [
              0.2222222222222222,
              "#7201a8"
             ],
             [
              0.3333333333333333,
              "#9c179e"
             ],
             [
              0.4444444444444444,
              "#bd3786"
             ],
             [
              0.5555555555555556,
              "#d8576b"
             ],
             [
              0.6666666666666666,
              "#ed7953"
             ],
             [
              0.7777777777777778,
              "#fb9f3a"
             ],
             [
              0.8888888888888888,
              "#fdca26"
             ],
             [
              1,
              "#f0f921"
             ]
            ],
            "type": "contour"
           }
          ],
          "contourcarpet": [
           {
            "colorbar": {
             "outlinewidth": 0,
             "ticks": ""
            },
            "type": "contourcarpet"
           }
          ],
          "heatmap": [
           {
            "colorbar": {
             "outlinewidth": 0,
             "ticks": ""
            },
            "colorscale": [
             [
              0,
              "#0d0887"
             ],
             [
              0.1111111111111111,
              "#46039f"
             ],
             [
              0.2222222222222222,
              "#7201a8"
             ],
             [
              0.3333333333333333,
              "#9c179e"
             ],
             [
              0.4444444444444444,
              "#bd3786"
             ],
             [
              0.5555555555555556,
              "#d8576b"
             ],
             [
              0.6666666666666666,
              "#ed7953"
             ],
             [
              0.7777777777777778,
              "#fb9f3a"
             ],
             [
              0.8888888888888888,
              "#fdca26"
             ],
             [
              1,
              "#f0f921"
             ]
            ],
            "type": "heatmap"
           }
          ],
          "histogram": [
           {
            "marker": {
             "pattern": {
              "fillmode": "overlay",
              "size": 10,
              "solidity": 0.2
             }
            },
            "type": "histogram"
           }
          ],
          "histogram2d": [
           {
            "colorbar": {
             "outlinewidth": 0,
             "ticks": ""
            },
            "colorscale": [
             [
              0,
              "#0d0887"
             ],
             [
              0.1111111111111111,
              "#46039f"
             ],
             [
              0.2222222222222222,
              "#7201a8"
             ],
             [
              0.3333333333333333,
              "#9c179e"
             ],
             [
              0.4444444444444444,
              "#bd3786"
             ],
             [
              0.5555555555555556,
              "#d8576b"
             ],
             [
              0.6666666666666666,
              "#ed7953"
             ],
             [
              0.7777777777777778,
              "#fb9f3a"
             ],
             [
              0.8888888888888888,
              "#fdca26"
             ],
             [
              1,
              "#f0f921"
             ]
            ],
            "type": "histogram2d"
           }
          ],
          "histogram2dcontour": [
           {
            "colorbar": {
             "outlinewidth": 0,
             "ticks": ""
            },
            "colorscale": [
             [
              0,
              "#0d0887"
             ],
             [
              0.1111111111111111,
              "#46039f"
             ],
             [
              0.2222222222222222,
              "#7201a8"
             ],
             [
              0.3333333333333333,
              "#9c179e"
             ],
             [
              0.4444444444444444,
              "#bd3786"
             ],
             [
              0.5555555555555556,
              "#d8576b"
             ],
             [
              0.6666666666666666,
              "#ed7953"
             ],
             [
              0.7777777777777778,
              "#fb9f3a"
             ],
             [
              0.8888888888888888,
              "#fdca26"
             ],
             [
              1,
              "#f0f921"
             ]
            ],
            "type": "histogram2dcontour"
           }
          ],
          "mesh3d": [
           {
            "colorbar": {
             "outlinewidth": 0,
             "ticks": ""
            },
            "type": "mesh3d"
           }
          ],
          "parcoords": [
           {
            "line": {
             "colorbar": {
              "outlinewidth": 0,
              "ticks": ""
             }
            },
            "type": "parcoords"
           }
          ],
          "pie": [
           {
            "automargin": true,
            "type": "pie"
           }
          ],
          "scatter": [
           {
            "marker": {
             "line": {
              "color": "#283442"
             }
            },
            "type": "scatter"
           }
          ],
          "scatter3d": [
           {
            "line": {
             "colorbar": {
              "outlinewidth": 0,
              "ticks": ""
             }
            },
            "marker": {
             "colorbar": {
              "outlinewidth": 0,
              "ticks": ""
             }
            },
            "type": "scatter3d"
           }
          ],
          "scattercarpet": [
           {
            "marker": {
             "colorbar": {
              "outlinewidth": 0,
              "ticks": ""
             }
            },
            "type": "scattercarpet"
           }
          ],
          "scattergeo": [
           {
            "marker": {
             "colorbar": {
              "outlinewidth": 0,
              "ticks": ""
             }
            },
            "type": "scattergeo"
           }
          ],
          "scattergl": [
           {
            "marker": {
             "line": {
              "color": "#283442"
             }
            },
            "type": "scattergl"
           }
          ],
          "scattermap": [
           {
            "marker": {
             "colorbar": {
              "outlinewidth": 0,
              "ticks": ""
             }
            },
            "type": "scattermap"
           }
          ],
          "scattermapbox": [
           {
            "marker": {
             "colorbar": {
              "outlinewidth": 0,
              "ticks": ""
             }
            },
            "type": "scattermapbox"
           }
          ],
          "scatterpolar": [
           {
            "marker": {
             "colorbar": {
              "outlinewidth": 0,
              "ticks": ""
             }
            },
            "type": "scatterpolar"
           }
          ],
          "scatterpolargl": [
           {
            "marker": {
             "colorbar": {
              "outlinewidth": 0,
              "ticks": ""
             }
            },
            "type": "scatterpolargl"
           }
          ],
          "scatterternary": [
           {
            "marker": {
             "colorbar": {
              "outlinewidth": 0,
              "ticks": ""
             }
            },
            "type": "scatterternary"
           }
          ],
          "surface": [
           {
            "colorbar": {
             "outlinewidth": 0,
             "ticks": ""
            },
            "colorscale": [
             [
              0,
              "#0d0887"
             ],
             [
              0.1111111111111111,
              "#46039f"
             ],
             [
              0.2222222222222222,
              "#7201a8"
             ],
             [
              0.3333333333333333,
              "#9c179e"
             ],
             [
              0.4444444444444444,
              "#bd3786"
             ],
             [
              0.5555555555555556,
              "#d8576b"
             ],
             [
              0.6666666666666666,
              "#ed7953"
             ],
             [
              0.7777777777777778,
              "#fb9f3a"
             ],
             [
              0.8888888888888888,
              "#fdca26"
             ],
             [
              1,
              "#f0f921"
             ]
            ],
            "type": "surface"
           }
          ],
          "table": [
           {
            "cells": {
             "fill": {
              "color": "#506784"
             },
             "line": {
              "color": "rgb(17,17,17)"
             }
            },
            "header": {
             "fill": {
              "color": "#2a3f5f"
             },
             "line": {
              "color": "rgb(17,17,17)"
             }
            },
            "type": "table"
           }
          ]
         },
         "layout": {
          "annotationdefaults": {
           "arrowcolor": "#f2f5fa",
           "arrowhead": 0,
           "arrowwidth": 1
          },
          "autotypenumbers": "strict",
          "coloraxis": {
           "colorbar": {
            "outlinewidth": 0,
            "ticks": ""
           }
          },
          "colorscale": {
           "diverging": [
            [
             0,
             "#8e0152"
            ],
            [
             0.1,
             "#c51b7d"
            ],
            [
             0.2,
             "#de77ae"
            ],
            [
             0.3,
             "#f1b6da"
            ],
            [
             0.4,
             "#fde0ef"
            ],
            [
             0.5,
             "#f7f7f7"
            ],
            [
             0.6,
             "#e6f5d0"
            ],
            [
             0.7,
             "#b8e186"
            ],
            [
             0.8,
             "#7fbc41"
            ],
            [
             0.9,
             "#4d9221"
            ],
            [
             1,
             "#276419"
            ]
           ],
           "sequential": [
            [
             0,
             "#0d0887"
            ],
            [
             0.1111111111111111,
             "#46039f"
            ],
            [
             0.2222222222222222,
             "#7201a8"
            ],
            [
             0.3333333333333333,
             "#9c179e"
            ],
            [
             0.4444444444444444,
             "#bd3786"
            ],
            [
             0.5555555555555556,
             "#d8576b"
            ],
            [
             0.6666666666666666,
             "#ed7953"
            ],
            [
             0.7777777777777778,
             "#fb9f3a"
            ],
            [
             0.8888888888888888,
             "#fdca26"
            ],
            [
             1,
             "#f0f921"
            ]
           ],
           "sequentialminus": [
            [
             0,
             "#0d0887"
            ],
            [
             0.1111111111111111,
             "#46039f"
            ],
            [
             0.2222222222222222,
             "#7201a8"
            ],
            [
             0.3333333333333333,
             "#9c179e"
            ],
            [
             0.4444444444444444,
             "#bd3786"
            ],
            [
             0.5555555555555556,
             "#d8576b"
            ],
            [
             0.6666666666666666,
             "#ed7953"
            ],
            [
             0.7777777777777778,
             "#fb9f3a"
            ],
            [
             0.8888888888888888,
             "#fdca26"
            ],
            [
             1,
             "#f0f921"
            ]
           ]
          },
          "colorway": [
           "#636efa",
           "#EF553B",
           "#00cc96",
           "#ab63fa",
           "#FFA15A",
           "#19d3f3",
           "#FF6692",
           "#B6E880",
           "#FF97FF",
           "#FECB52"
          ],
          "font": {
           "color": "#f2f5fa"
          },
          "geo": {
           "bgcolor": "rgb(17,17,17)",
           "lakecolor": "rgb(17,17,17)",
           "landcolor": "rgb(17,17,17)",
           "showlakes": true,
           "showland": true,
           "subunitcolor": "#506784"
          },
          "hoverlabel": {
           "align": "left"
          },
          "hovermode": "closest",
          "mapbox": {
           "style": "dark"
          },
          "paper_bgcolor": "rgb(17,17,17)",
          "plot_bgcolor": "rgb(17,17,17)",
          "polar": {
           "angularaxis": {
            "gridcolor": "#506784",
            "linecolor": "#506784",
            "ticks": ""
           },
           "bgcolor": "rgb(17,17,17)",
           "radialaxis": {
            "gridcolor": "#506784",
            "linecolor": "#506784",
            "ticks": ""
           }
          },
          "scene": {
           "xaxis": {
            "backgroundcolor": "rgb(17,17,17)",
            "gridcolor": "#506784",
            "gridwidth": 2,
            "linecolor": "#506784",
            "showbackground": true,
            "ticks": "",
            "zerolinecolor": "#C8D4E3"
           },
           "yaxis": {
            "backgroundcolor": "rgb(17,17,17)",
            "gridcolor": "#506784",
            "gridwidth": 2,
            "linecolor": "#506784",
            "showbackground": true,
            "ticks": "",
            "zerolinecolor": "#C8D4E3"
           },
           "zaxis": {
            "backgroundcolor": "rgb(17,17,17)",
            "gridcolor": "#506784",
            "gridwidth": 2,
            "linecolor": "#506784",
            "showbackground": true,
            "ticks": "",
            "zerolinecolor": "#C8D4E3"
           }
          },
          "shapedefaults": {
           "line": {
            "color": "#f2f5fa"
           }
          },
          "sliderdefaults": {
           "bgcolor": "#C8D4E3",
           "bordercolor": "rgb(17,17,17)",
           "borderwidth": 1,
           "tickwidth": 0
          },
          "ternary": {
           "aaxis": {
            "gridcolor": "#506784",
            "linecolor": "#506784",
            "ticks": ""
           },
           "baxis": {
            "gridcolor": "#506784",
            "linecolor": "#506784",
            "ticks": ""
           },
           "bgcolor": "rgb(17,17,17)",
           "caxis": {
            "gridcolor": "#506784",
            "linecolor": "#506784",
            "ticks": ""
           }
          },
          "title": {
           "x": 0.05
          },
          "updatemenudefaults": {
           "bgcolor": "#506784",
           "borderwidth": 0
          },
          "xaxis": {
           "automargin": true,
           "gridcolor": "#283442",
           "linecolor": "#506784",
           "ticks": "",
           "title": {
            "standoff": 15
           },
           "zerolinecolor": "#283442",
           "zerolinewidth": 2
          },
          "yaxis": {
           "automargin": true,
           "gridcolor": "#283442",
           "linecolor": "#506784",
           "ticks": "",
           "title": {
            "standoff": 15
           },
           "zerolinecolor": "#283442",
           "zerolinewidth": 2
          }
         }
        },
        "title": {
         "text": "<b>Série Temporal do Bitcoin: Original vs Estacionária</b>",
         "x": 0.5,
         "xanchor": "center",
         "y": 0.95,
         "yanchor": "top"
        },
        "xaxis": {
         "anchor": "y",
         "domain": [
          0,
          1
         ],
         "matches": "x2",
         "showticklabels": false
        },
        "xaxis2": {
         "anchor": "y2",
         "domain": [
          0,
          1
         ],
         "tickformat": "%d/%m\n%Y",
         "title": {
          "text": "Data"
         }
        },
        "yaxis": {
         "anchor": "x",
         "domain": [
          0.54,
          1
         ],
         "range": [
          76379.9376248276,
          86830.3858883721
         ],
         "title": {
          "text": "Valor do Bitcoin - USD"
         }
        },
        "yaxis2": {
         "anchor": "x2",
         "domain": [
          0,
          0.46
         ],
         "title": {
          "text": "Δ Valor do Bitcoin"
         }
        }
       }
      }
     },
     "metadata": {},
     "output_type": "display_data"
    }
   ],
   "source": [
    "plot_series_comparativa(\n",
    "    df_graph=df_diff.reset_index(),  # <-- devolve 'block_timestamp' como coluna\n",
    "    df_graph_stationary=df_diff_stationary.reset_index(),  # <-- idem\n",
    "    y_min=y_min,\n",
    "    y_max=y_max\n",
    ")"
   ]
  },
  {
   "cell_type": "markdown",
   "metadata": {},
   "source": [
    "#### 5.2 Diagnóstico de Estacionariedade"
   ]
  },
  {
   "cell_type": "markdown",
   "metadata": {},
   "source": [
    "##### 🔶 ₿ -----> Modelagem Matemática"
   ]
  },
  {
   "cell_type": "markdown",
   "metadata": {},
   "source": [
    "---\n",
    "Função de Autocorrelação (ACF)\n",
    "\n",
    "\n",
    "Dada uma série temporal $Z(t)$ com média $\\mu$ e variância $\\sigma^2$, a ACF no lag $k$ é definida como:\n",
    "\n",
    "$\n",
    "\\rho(k) = \\frac{\\gamma(k)}{\\gamma(0)} = \\frac{\\mathbb{E}[(Z(t) - \\mu)(Z(t+k) - \\mu)]}{\\sigma^2}\n",
    "$\n",
    "\n",
    "Onde:  \n",
    "$\\rho(k)$ é o valor da ACF no lag $k$   \n",
    "$\\gamma(k)$ é a função de autocovariância no lag $k$  \n",
    "$\\gamma(0) = \\text{Var}(Z(t)) = \\sigma^2$  \n",
    "\n",
    "---"
   ]
  },
  {
   "cell_type": "markdown",
   "metadata": {},
   "source": [
    "##### 🔶 ₿ -----> Análise de Autocorrelação (ACF)"
   ]
  },
  {
   "cell_type": "code",
   "execution_count": 85,
   "metadata": {},
   "outputs": [],
   "source": [
    "df_acf = df_features_temp.toPandas()\n",
    "# --> Converte o DataFrame do PySpark para Pandas / Converts PySpark DataFrame to Pandas <--\n",
    "\n",
    "df_acf[\"block_timestamp\"] = pd.to_datetime(df_acf[\"block_timestamp\"])\n",
    "# --> Garante que o campo de timestamp seja do tipo datetime / Ensures that 'block_timestamp' is in datetime format <--\n",
    "\n",
    "df_acf = df_acf.sort_values(\"block_timestamp\")\n",
    "# --> Ordena os dados cronologicamente / Sorts the data by timestamp <--\n",
    "\n",
    "df_acf.set_index('block_timestamp', inplace=True)\n",
    "# --> Define 'block_timestamp' como índice do DataFrame (necessário para o resample) / Sets 'block_timestamp' as DataFrame index (required for resampling) <--\n",
    "\n",
    "df_acf = df_acf.resample('h').mean()\n",
    "# --> Reamostra os dados com frequência horária, calculando a média por hora / Resamples data to hourly frequency, taking the mean per hour <--"
   ]
  },
  {
   "cell_type": "markdown",
   "metadata": {},
   "source": [
    "##### 🔶 ₿ -----> Diferenciação da Série"
   ]
  },
  {
   "cell_type": "code",
   "execution_count": 86,
   "metadata": {},
   "outputs": [],
   "source": [
    "# =======================\n",
    "# CONFIGURAÇÕES INICIAIS\n",
    "# =======================\n",
    "\n",
    "resample_freq = 'd'           # 'h' = hora, 'd' = dia, 'W' = semana / frequency of resampling\n",
    "nlags_option = 'serie_longa'  # Opções: 'manual', 'auto', 'serie_longa' / lag selection mode\n",
    "manual_nlags = 150            # Lag manual, se escolhido / manual lag value\n",
    "date_range_start = None       # Ex: \"2023-01-15\" / optional start date\n",
    "date_range_end = None         # Ex: \"2023-02-15\" / optional end date\n",
    "\n",
    "# ===============\n",
    "# PROCESSAMENTO\n",
    "# ===============\n",
    "\n",
    "df_acf = df_features_temp.toPandas()\n",
    "# --> Converte o DataFrame PySpark para Pandas / Converts PySpark DataFrame to Pandas <--\n",
    "\n",
    "df_acf[\"block_timestamp\"] = pd.to_datetime(df_acf[\"block_timestamp\"])\n",
    "# --> Garante que o campo de tempo seja datetime / Ensures the timestamp is datetime <--\n",
    "\n",
    "df_acf = df_acf.sort_values(\"block_timestamp\").set_index(\"block_timestamp\")\n",
    "# --> Ordena os dados cronologicamente e define o índice / Sorts data chronologically and sets index <--\n",
    "\n",
    "df_acf = df_acf.resample(resample_freq).mean()\n",
    "# --> Reamostra a série conforme a frequência (diária neste caso) / Resamples the series (daily in this case) <--\n",
    "\n",
    "if date_range_start and date_range_end:\n",
    "    df_acf = df_acf.loc[date_range_start:date_range_end]\n",
    "# --> Aplica filtro por intervalo de datas, se definido / Filters by date range, if defined <--\n",
    "\n",
    "# Série diferenciada\n",
    "serie_diff = df_acf[\"btc_price_usd\"].diff().dropna()  # Y(t) = Z(t) - Z(t - 1)\n",
    "# --> Aplica diferenciação de primeira ordem para obter série estacionária / Applies first-order differencing <--\n",
    "\n",
    "# Seleção do número de defasagens\n",
    "if nlags_option == 'manual':\n",
    "    nlags = manual_nlags\n",
    "    # --> Define lag manualmente / Uses manual lag value <--\n",
    "elif nlags_option == 'serie_longa':\n",
    "    nlags = len(serie_diff) // 4\n",
    "    # --> Lag proporcional para séries longas / Uses one-fourth of the series length <--\n",
    "elif nlags_option == 'auto':\n",
    "    nlags = len(serie_diff)\n",
    "    # --> Usa o comprimento total da série como nlags / Uses full length of the series <--\n",
    "else:\n",
    "    nlags = len(serie_diff)\n",
    "    # --> Valor padrão / Default fallback value <--"
   ]
  },
  {
   "cell_type": "markdown",
   "metadata": {},
   "source": [
    "##### 🔶 ₿ -----> Análise Gráfica da ACF"
   ]
  },
  {
   "cell_type": "code",
   "execution_count": 87,
   "metadata": {},
   "outputs": [
    {
     "data": {
      "application/vnd.plotly.v1+json": {
       "config": {
        "plotlyServerURL": "https://plot.ly"
       },
       "data": [
        {
         "marker": {
          "color": "#E57C1F"
         },
         "name": "ACF",
         "type": "bar",
         "x": [
          1
         ],
         "y": {
          "bdata": "G+08Ij4o1b8=",
          "dtype": "f8"
         }
        }
       ],
       "layout": {
        "height": 500,
        "shapes": [
         {
          "line": {
           "color": "blue",
           "dash": "dash"
          },
          "type": "line",
          "x0": 1,
          "x1": 1,
          "y0": 0.7408103670980853,
          "y1": 0.7408103670980853
         },
         {
          "line": {
           "color": "blue",
           "dash": "dash"
          },
          "type": "line",
          "x0": 1,
          "x1": 1,
          "y0": -0.7408103670980853,
          "y1": -0.7408103670980853
         }
        ],
        "template": {
         "data": {
          "bar": [
           {
            "error_x": {
             "color": "#f2f5fa"
            },
            "error_y": {
             "color": "#f2f5fa"
            },
            "marker": {
             "line": {
              "color": "rgb(17,17,17)",
              "width": 0.5
             },
             "pattern": {
              "fillmode": "overlay",
              "size": 10,
              "solidity": 0.2
             }
            },
            "type": "bar"
           }
          ],
          "barpolar": [
           {
            "marker": {
             "line": {
              "color": "rgb(17,17,17)",
              "width": 0.5
             },
             "pattern": {
              "fillmode": "overlay",
              "size": 10,
              "solidity": 0.2
             }
            },
            "type": "barpolar"
           }
          ],
          "carpet": [
           {
            "aaxis": {
             "endlinecolor": "#A2B1C6",
             "gridcolor": "#506784",
             "linecolor": "#506784",
             "minorgridcolor": "#506784",
             "startlinecolor": "#A2B1C6"
            },
            "baxis": {
             "endlinecolor": "#A2B1C6",
             "gridcolor": "#506784",
             "linecolor": "#506784",
             "minorgridcolor": "#506784",
             "startlinecolor": "#A2B1C6"
            },
            "type": "carpet"
           }
          ],
          "choropleth": [
           {
            "colorbar": {
             "outlinewidth": 0,
             "ticks": ""
            },
            "type": "choropleth"
           }
          ],
          "contour": [
           {
            "colorbar": {
             "outlinewidth": 0,
             "ticks": ""
            },
            "colorscale": [
             [
              0,
              "#0d0887"
             ],
             [
              0.1111111111111111,
              "#46039f"
             ],
             [
              0.2222222222222222,
              "#7201a8"
             ],
             [
              0.3333333333333333,
              "#9c179e"
             ],
             [
              0.4444444444444444,
              "#bd3786"
             ],
             [
              0.5555555555555556,
              "#d8576b"
             ],
             [
              0.6666666666666666,
              "#ed7953"
             ],
             [
              0.7777777777777778,
              "#fb9f3a"
             ],
             [
              0.8888888888888888,
              "#fdca26"
             ],
             [
              1,
              "#f0f921"
             ]
            ],
            "type": "contour"
           }
          ],
          "contourcarpet": [
           {
            "colorbar": {
             "outlinewidth": 0,
             "ticks": ""
            },
            "type": "contourcarpet"
           }
          ],
          "heatmap": [
           {
            "colorbar": {
             "outlinewidth": 0,
             "ticks": ""
            },
            "colorscale": [
             [
              0,
              "#0d0887"
             ],
             [
              0.1111111111111111,
              "#46039f"
             ],
             [
              0.2222222222222222,
              "#7201a8"
             ],
             [
              0.3333333333333333,
              "#9c179e"
             ],
             [
              0.4444444444444444,
              "#bd3786"
             ],
             [
              0.5555555555555556,
              "#d8576b"
             ],
             [
              0.6666666666666666,
              "#ed7953"
             ],
             [
              0.7777777777777778,
              "#fb9f3a"
             ],
             [
              0.8888888888888888,
              "#fdca26"
             ],
             [
              1,
              "#f0f921"
             ]
            ],
            "type": "heatmap"
           }
          ],
          "histogram": [
           {
            "marker": {
             "pattern": {
              "fillmode": "overlay",
              "size": 10,
              "solidity": 0.2
             }
            },
            "type": "histogram"
           }
          ],
          "histogram2d": [
           {
            "colorbar": {
             "outlinewidth": 0,
             "ticks": ""
            },
            "colorscale": [
             [
              0,
              "#0d0887"
             ],
             [
              0.1111111111111111,
              "#46039f"
             ],
             [
              0.2222222222222222,
              "#7201a8"
             ],
             [
              0.3333333333333333,
              "#9c179e"
             ],
             [
              0.4444444444444444,
              "#bd3786"
             ],
             [
              0.5555555555555556,
              "#d8576b"
             ],
             [
              0.6666666666666666,
              "#ed7953"
             ],
             [
              0.7777777777777778,
              "#fb9f3a"
             ],
             [
              0.8888888888888888,
              "#fdca26"
             ],
             [
              1,
              "#f0f921"
             ]
            ],
            "type": "histogram2d"
           }
          ],
          "histogram2dcontour": [
           {
            "colorbar": {
             "outlinewidth": 0,
             "ticks": ""
            },
            "colorscale": [
             [
              0,
              "#0d0887"
             ],
             [
              0.1111111111111111,
              "#46039f"
             ],
             [
              0.2222222222222222,
              "#7201a8"
             ],
             [
              0.3333333333333333,
              "#9c179e"
             ],
             [
              0.4444444444444444,
              "#bd3786"
             ],
             [
              0.5555555555555556,
              "#d8576b"
             ],
             [
              0.6666666666666666,
              "#ed7953"
             ],
             [
              0.7777777777777778,
              "#fb9f3a"
             ],
             [
              0.8888888888888888,
              "#fdca26"
             ],
             [
              1,
              "#f0f921"
             ]
            ],
            "type": "histogram2dcontour"
           }
          ],
          "mesh3d": [
           {
            "colorbar": {
             "outlinewidth": 0,
             "ticks": ""
            },
            "type": "mesh3d"
           }
          ],
          "parcoords": [
           {
            "line": {
             "colorbar": {
              "outlinewidth": 0,
              "ticks": ""
             }
            },
            "type": "parcoords"
           }
          ],
          "pie": [
           {
            "automargin": true,
            "type": "pie"
           }
          ],
          "scatter": [
           {
            "marker": {
             "line": {
              "color": "#283442"
             }
            },
            "type": "scatter"
           }
          ],
          "scatter3d": [
           {
            "line": {
             "colorbar": {
              "outlinewidth": 0,
              "ticks": ""
             }
            },
            "marker": {
             "colorbar": {
              "outlinewidth": 0,
              "ticks": ""
             }
            },
            "type": "scatter3d"
           }
          ],
          "scattercarpet": [
           {
            "marker": {
             "colorbar": {
              "outlinewidth": 0,
              "ticks": ""
             }
            },
            "type": "scattercarpet"
           }
          ],
          "scattergeo": [
           {
            "marker": {
             "colorbar": {
              "outlinewidth": 0,
              "ticks": ""
             }
            },
            "type": "scattergeo"
           }
          ],
          "scattergl": [
           {
            "marker": {
             "line": {
              "color": "#283442"
             }
            },
            "type": "scattergl"
           }
          ],
          "scattermap": [
           {
            "marker": {
             "colorbar": {
              "outlinewidth": 0,
              "ticks": ""
             }
            },
            "type": "scattermap"
           }
          ],
          "scattermapbox": [
           {
            "marker": {
             "colorbar": {
              "outlinewidth": 0,
              "ticks": ""
             }
            },
            "type": "scattermapbox"
           }
          ],
          "scatterpolar": [
           {
            "marker": {
             "colorbar": {
              "outlinewidth": 0,
              "ticks": ""
             }
            },
            "type": "scatterpolar"
           }
          ],
          "scatterpolargl": [
           {
            "marker": {
             "colorbar": {
              "outlinewidth": 0,
              "ticks": ""
             }
            },
            "type": "scatterpolargl"
           }
          ],
          "scatterternary": [
           {
            "marker": {
             "colorbar": {
              "outlinewidth": 0,
              "ticks": ""
             }
            },
            "type": "scatterternary"
           }
          ],
          "surface": [
           {
            "colorbar": {
             "outlinewidth": 0,
             "ticks": ""
            },
            "colorscale": [
             [
              0,
              "#0d0887"
             ],
             [
              0.1111111111111111,
              "#46039f"
             ],
             [
              0.2222222222222222,
              "#7201a8"
             ],
             [
              0.3333333333333333,
              "#9c179e"
             ],
             [
              0.4444444444444444,
              "#bd3786"
             ],
             [
              0.5555555555555556,
              "#d8576b"
             ],
             [
              0.6666666666666666,
              "#ed7953"
             ],
             [
              0.7777777777777778,
              "#fb9f3a"
             ],
             [
              0.8888888888888888,
              "#fdca26"
             ],
             [
              1,
              "#f0f921"
             ]
            ],
            "type": "surface"
           }
          ],
          "table": [
           {
            "cells": {
             "fill": {
              "color": "#506784"
             },
             "line": {
              "color": "rgb(17,17,17)"
             }
            },
            "header": {
             "fill": {
              "color": "#2a3f5f"
             },
             "line": {
              "color": "rgb(17,17,17)"
             }
            },
            "type": "table"
           }
          ]
         },
         "layout": {
          "annotationdefaults": {
           "arrowcolor": "#f2f5fa",
           "arrowhead": 0,
           "arrowwidth": 1
          },
          "autotypenumbers": "strict",
          "coloraxis": {
           "colorbar": {
            "outlinewidth": 0,
            "ticks": ""
           }
          },
          "colorscale": {
           "diverging": [
            [
             0,
             "#8e0152"
            ],
            [
             0.1,
             "#c51b7d"
            ],
            [
             0.2,
             "#de77ae"
            ],
            [
             0.3,
             "#f1b6da"
            ],
            [
             0.4,
             "#fde0ef"
            ],
            [
             0.5,
             "#f7f7f7"
            ],
            [
             0.6,
             "#e6f5d0"
            ],
            [
             0.7,
             "#b8e186"
            ],
            [
             0.8,
             "#7fbc41"
            ],
            [
             0.9,
             "#4d9221"
            ],
            [
             1,
             "#276419"
            ]
           ],
           "sequential": [
            [
             0,
             "#0d0887"
            ],
            [
             0.1111111111111111,
             "#46039f"
            ],
            [
             0.2222222222222222,
             "#7201a8"
            ],
            [
             0.3333333333333333,
             "#9c179e"
            ],
            [
             0.4444444444444444,
             "#bd3786"
            ],
            [
             0.5555555555555556,
             "#d8576b"
            ],
            [
             0.6666666666666666,
             "#ed7953"
            ],
            [
             0.7777777777777778,
             "#fb9f3a"
            ],
            [
             0.8888888888888888,
             "#fdca26"
            ],
            [
             1,
             "#f0f921"
            ]
           ],
           "sequentialminus": [
            [
             0,
             "#0d0887"
            ],
            [
             0.1111111111111111,
             "#46039f"
            ],
            [
             0.2222222222222222,
             "#7201a8"
            ],
            [
             0.3333333333333333,
             "#9c179e"
            ],
            [
             0.4444444444444444,
             "#bd3786"
            ],
            [
             0.5555555555555556,
             "#d8576b"
            ],
            [
             0.6666666666666666,
             "#ed7953"
            ],
            [
             0.7777777777777778,
             "#fb9f3a"
            ],
            [
             0.8888888888888888,
             "#fdca26"
            ],
            [
             1,
             "#f0f921"
            ]
           ]
          },
          "colorway": [
           "#636efa",
           "#EF553B",
           "#00cc96",
           "#ab63fa",
           "#FFA15A",
           "#19d3f3",
           "#FF6692",
           "#B6E880",
           "#FF97FF",
           "#FECB52"
          ],
          "font": {
           "color": "#f2f5fa"
          },
          "geo": {
           "bgcolor": "rgb(17,17,17)",
           "lakecolor": "rgb(17,17,17)",
           "landcolor": "rgb(17,17,17)",
           "showlakes": true,
           "showland": true,
           "subunitcolor": "#506784"
          },
          "hoverlabel": {
           "align": "left"
          },
          "hovermode": "closest",
          "mapbox": {
           "style": "dark"
          },
          "paper_bgcolor": "rgb(17,17,17)",
          "plot_bgcolor": "rgb(17,17,17)",
          "polar": {
           "angularaxis": {
            "gridcolor": "#506784",
            "linecolor": "#506784",
            "ticks": ""
           },
           "bgcolor": "rgb(17,17,17)",
           "radialaxis": {
            "gridcolor": "#506784",
            "linecolor": "#506784",
            "ticks": ""
           }
          },
          "scene": {
           "xaxis": {
            "backgroundcolor": "rgb(17,17,17)",
            "gridcolor": "#506784",
            "gridwidth": 2,
            "linecolor": "#506784",
            "showbackground": true,
            "ticks": "",
            "zerolinecolor": "#C8D4E3"
           },
           "yaxis": {
            "backgroundcolor": "rgb(17,17,17)",
            "gridcolor": "#506784",
            "gridwidth": 2,
            "linecolor": "#506784",
            "showbackground": true,
            "ticks": "",
            "zerolinecolor": "#C8D4E3"
           },
           "zaxis": {
            "backgroundcolor": "rgb(17,17,17)",
            "gridcolor": "#506784",
            "gridwidth": 2,
            "linecolor": "#506784",
            "showbackground": true,
            "ticks": "",
            "zerolinecolor": "#C8D4E3"
           }
          },
          "shapedefaults": {
           "line": {
            "color": "#f2f5fa"
           }
          },
          "sliderdefaults": {
           "bgcolor": "#C8D4E3",
           "bordercolor": "rgb(17,17,17)",
           "borderwidth": 1,
           "tickwidth": 0
          },
          "ternary": {
           "aaxis": {
            "gridcolor": "#506784",
            "linecolor": "#506784",
            "ticks": ""
           },
           "baxis": {
            "gridcolor": "#506784",
            "linecolor": "#506784",
            "ticks": ""
           },
           "bgcolor": "rgb(17,17,17)",
           "caxis": {
            "gridcolor": "#506784",
            "linecolor": "#506784",
            "ticks": ""
           }
          },
          "title": {
           "x": 0.05
          },
          "updatemenudefaults": {
           "bgcolor": "#506784",
           "borderwidth": 0
          },
          "xaxis": {
           "automargin": true,
           "gridcolor": "#283442",
           "linecolor": "#506784",
           "ticks": "",
           "title": {
            "standoff": 15
           },
           "zerolinecolor": "#283442",
           "zerolinewidth": 2
          },
          "yaxis": {
           "automargin": true,
           "gridcolor": "#283442",
           "linecolor": "#506784",
           "ticks": "",
           "title": {
            "standoff": 15
           },
           "zerolinecolor": "#283442",
           "zerolinewidth": 2
          }
         }
        },
        "title": {
         "text": "ACF da Série Diferenciada — Lag: serie_longa (1)"
        },
        "xaxis": {
         "title": {
          "text": "Defasagem (Lag)"
         }
        },
        "yaxis": {
         "title": {
          "text": "Autocorrelação"
         }
        }
       }
      }
     },
     "metadata": {},
     "output_type": "display_data"
    }
   ],
   "source": [
    "plot_acf_diferenciada(serie_diff, nlags, nlags_option)"
   ]
  },
  {
   "cell_type": "code",
   "execution_count": 88,
   "metadata": {},
   "outputs": [],
   "source": [
    "import numpy as np\n",
    "import pandas as pd\n",
    "from statsmodels.tsa.stattools import acf, pacf\n",
    "\n",
    "# ================================================================\n",
    "# EXTRAÇÃO DE ACF E PACF COM RASTREABILIDADE TEMPORAL\n",
    "# ACF & PACF EXTRACTION WITH TRACEABILITY\n",
    "# ================================================================\n",
    "def extract_acf_pacf_features(\n",
    "    series: pd.Series,\n",
    "    block_height: pd.Series,\n",
    "    block_timestamp: pd.Series,\n",
    "    window: int = 24\n",
    ") -> pd.DataFrame:\n",
    "    \"\"\"\n",
    "    Extrai autocorrelações (ACF e PACF) em janelas móveis, com rastreabilidade temporal.\n",
    "    / Extracts autocorrelation and partial autocorrelation in rolling windows with temporal traceability.\n",
    "\n",
    "    Parâmetros / Parameters:\n",
    "    - series: pd.Series\n",
    "        Série temporal (ex: log-return) / Time series (e.g., log return).\n",
    "    - block_height: pd.Series\n",
    "        Altura do bloco para rastreamento / Block height for traceability.\n",
    "    - block_timestamp: pd.Series\n",
    "        Timestamp para rastreamento / Block timestamp for traceability.\n",
    "    - window: int\n",
    "        Tamanho da janela rolling / Rolling window size.\n",
    "\n",
    "    Retorna / Returns:\n",
    "    - pd.DataFrame com colunas: block_height, block_timestamp, acf_1, acf_5, acf_10, pacf_1\n",
    "    \"\"\"\n",
    "\n",
    "    # -----------------------\n",
    "    # Funções auxiliares para calcular ACF e PACF em cada janela\n",
    "    # / Helper functions to compute ACF and PACF for a given window\n",
    "    # -----------------------\n",
    "    def calc_acf(x, lag):\n",
    "        try:\n",
    "            return acf(x, nlags=lag, fft=False)[lag]\n",
    "        except Exception:\n",
    "            return np.nan\n",
    "\n",
    "    def calc_pacf(x, lag):\n",
    "        try:\n",
    "            return pacf(x, nlags=lag)[lag]\n",
    "        except Exception:\n",
    "            return np.nan\n",
    "\n",
    "    # -----------------------\n",
    "    # Inicializa DataFrame de resultados\n",
    "    # / Initialize output DataFrame\n",
    "    # -----------------------\n",
    "    results = []\n",
    "\n",
    "    for i in range(window, len(series)):\n",
    "        window_series = series.iloc[i - window:i]\n",
    "        bh = block_height.iloc[i]\n",
    "        ts = block_timestamp.iloc[i]\n",
    "\n",
    "        result = {\n",
    "            \"block_height\": bh,\n",
    "            \"block_timestamp\": ts,\n",
    "            \"acf_1\": calc_acf(window_series, 1),\n",
    "            \"acf_5\": calc_acf(window_series, 5),\n",
    "            \"acf_10\": calc_acf(window_series, 10),\n",
    "            \"pacf_1\": calc_pacf(window_series, 1)\n",
    "        }\n",
    "        results.append(result)\n",
    "\n",
    "    # -----------------------\n",
    "    # Converte lista em DataFrame final\n",
    "    # / Convert result list into final DataFrame\n",
    "    # -----------------------\n",
    "    return pd.DataFrame(results)"
   ]
  },
  {
   "cell_type": "code",
   "execution_count": 89,
   "metadata": {},
   "outputs": [
    {
     "data": {
      "application/vnd.microsoft.datawrangler.viewer.v0+json": {
       "columns": [
        {
         "name": "index",
         "rawType": "int64",
         "type": "integer"
        }
       ],
       "conversionMethod": "pd.DataFrame",
       "ref": "68dd1819-0069-4f9b-858d-d1090661dc88",
       "rows": [],
       "shape": {
        "columns": 0,
        "rows": 0
       }
      },
      "text/html": [
       "<div>\n",
       "<style scoped>\n",
       "    .dataframe tbody tr th:only-of-type {\n",
       "        vertical-align: middle;\n",
       "    }\n",
       "\n",
       "    .dataframe tbody tr th {\n",
       "        vertical-align: top;\n",
       "    }\n",
       "\n",
       "    .dataframe thead th {\n",
       "        text-align: right;\n",
       "    }\n",
       "</style>\n",
       "<table border=\"1\" class=\"dataframe\">\n",
       "  <thead>\n",
       "    <tr style=\"text-align: right;\">\n",
       "      <th></th>\n",
       "    </tr>\n",
       "  </thead>\n",
       "  <tbody>\n",
       "  </tbody>\n",
       "</table>\n",
       "</div>"
      ],
      "text/plain": [
       "Empty DataFrame\n",
       "Columns: []\n",
       "Index: []"
      ]
     },
     "metadata": {},
     "output_type": "display_data"
    }
   ],
   "source": [
    "df_acf_pacf = extract_acf_pacf_features(\n",
    "    series=df_returns[\"log_return\"],\n",
    "    block_height=df_returns[\"block_height\"],\n",
    "    block_timestamp=df_returns[\"block_timestamp\"],\n",
    "    window=48\n",
    ")\n",
    "\n",
    "display(df_acf_pacf.head())"
   ]
  },
  {
   "cell_type": "markdown",
   "metadata": {},
   "source": [
    "##### 🔶 ₿ -----> Lembrete"
   ]
  },
  {
   "cell_type": "markdown",
   "metadata": {},
   "source": [
    "---\n",
    "Teste de Dickey-Fuller Aumentado (ADF)\n",
    "\n",
    "O Teste ADF verifica se uma série temporal possui raiz unitária, ou seja, se não é estacionária.\n",
    "\n",
    "A equação testada é:\n",
    "\n",
    "$\n",
    "\\Delta Z_t = \\alpha + \\beta t + \\gamma Z_{t-1} + \\sum_{i=1}^{p} \\delta_i \\Delta Z_{t-i} + \\varepsilon_t\n",
    "$\n",
    "\n",
    "Onde:\n",
    "$Z_t$ → valor da série no tempo $t$  \n",
    "$\\Delta Z_t = Z_t - Z_{t-1}$ → primeira diferença  \n",
    "$\\alpha$ → constante (termo de tendência)  \n",
    "$\\beta t$ → tendência determinística (opcional)  \n",
    "  \n",
    "$\\gamma$ → parâmetro-chave:  \n",
    "Se $\\gamma = 0$, a série tem raiz unitária (não estacionária)  \n",
    "Se $\\gamma < 0$, a série é estacionária  \n",
    "$\\sum \\delta_i \\Delta Z_{t-i}$ → componentes autorregressivos adicionais (lags)  \n",
    "$\\varepsilon_t$ → erro branco (white noise)  \n",
    "\n",
    "⸻\n",
    "\n",
    "Interpretação\n",
    "\t•\tHipótese nula ($H_0$): a série possui raiz unitária ⇒ não é estacionária\n",
    "\t•\tHipótese alternativa ($H_1$): a série é estacionária\n",
    "\n",
    "Se p-valor < 0.05, rejeita-se $H_0$ ⇒ a série é estacionária.\n",
    "\n",
    "---"
   ]
  },
  {
   "cell_type": "markdown",
   "metadata": {},
   "source": [
    "##### 🔶 ₿ -----> Teste de Dickey-Fuller Aumentado (ADF)"
   ]
  },
  {
   "cell_type": "code",
   "execution_count": 90,
   "metadata": {},
   "outputs": [
    {
     "name": "stdout",
     "output_type": "stream",
     "text": [
      "[AVISO] Série muito curta para ADF (n = 7). Retornando NaNs.\n",
      "ADF: nan\n",
      "p-valor: nan\n",
      "Usou até nan lags\n"
     ]
    }
   ],
   "source": [
    "# ================================================================\n",
    "# TESTE DE ESTACIONARIEDADE (ADF) COM SUPORTE A SÉRIES CURTAS\n",
    "# ADF STATIONARITY TEST WITH SHORT SERIES SUPPORT\n",
    "# ================================================================\n",
    "def run_adf_test(series: pd.Series) -> dict:\n",
    "    \"\"\"\n",
    "    Executa o teste de Dickey-Fuller Aumentado com proteção para séries curtas.\n",
    "    / Runs Augmented Dickey-Fuller test with safe handling for short series.\n",
    "    \n",
    "    Retorna / Returns:\n",
    "    - dicionário com estatística, p-valor e número de lags usados.\n",
    "    / dictionary with test statistic, p-value, and number of lags used.\n",
    "    \"\"\"\n",
    "    series = series.dropna()\n",
    "    # --> Remove NaNs gerados pela diferenciação / Drop NaNs from differenced series <--\n",
    "\n",
    "    if len(series) < 20:\n",
    "        print(f\"[AVISO] Série muito curta para ADF (n = {len(series)}). Retornando NaNs.\")\n",
    "        return {\"adf_stat\": np.nan, \"p_value\": np.nan, \"used_lags\": np.nan}\n",
    "        # --> Evita execução do teste ADF com séries curtas / Prevents running ADF on short series <--\n",
    "\n",
    "    try:\n",
    "        resultado = adfuller(series)\n",
    "        return {\n",
    "            \"adf_stat\": resultado[0],\n",
    "            \"p_value\": resultado[1],\n",
    "            \"used_lags\": resultado[2]\n",
    "        }\n",
    "        # --> Retorna os resultados principais do teste ADF / Returns ADF main outputs <--\n",
    "    except Exception as e:\n",
    "        print(f\"[ERRO] Falha no teste ADF: {e}\")\n",
    "        return {\"adf_stat\": np.nan, \"p_value\": np.nan, \"used_lags\": np.nan}\n",
    "        # --> Em caso de erro inesperado / In case of error, return NaNs <--\n",
    "\n",
    "# ================================================================\n",
    "# PRÉ-PROCESSAMENTO DA SÉRIE PARA DIFERENCIAÇÃO\n",
    "# PREPROCESSING SERIES FOR DIFFERENCING\n",
    "# ================================================================\n",
    "df_acf[\"btc_price_diff\"] = df_acf[\"btc_price_usd\"].diff()\n",
    "# --> Aplica diferenciação de primeira ordem para tornar a série estacionária / Applies first-order differencing to stabilize the series <--\n",
    "\n",
    "df_acf_stationary = df_acf.dropna()\n",
    "# --> Remove os valores NaN resultantes da diferenciação / Drops NaN values from differencing <--\n",
    "\n",
    "# ================================================================\n",
    "# EXECUÇÃO DO TESTE ADF / RUNNING THE ADF TEST\n",
    "# ================================================================\n",
    "resultado_adf = run_adf_test(df_acf_stationary[\"btc_price_diff\"])\n",
    "# --> Executa o teste de estacionariedade com validação / Runs ADF test with safe fallback <--\n",
    "\n",
    "# ================================================================\n",
    "# RESULTADOS / RESULTS\n",
    "# ================================================================\n",
    "print(\"ADF:\", resultado_adf[\"adf_stat\"])\n",
    "# --> Estatística do teste ADF (quanto mais negativa, mais estacionária a série) / ADF test statistic <--\n",
    "\n",
    "print(\"p-valor:\", resultado_adf[\"p_value\"])\n",
    "# --> p-valor do teste ADF (menor que 0.05 sugere estacionariedade) / ADF p-value <--\n",
    "\n",
    "print(\"Usou até\", resultado_adf[\"used_lags\"], \"lags\")\n",
    "# --> Número de defasagens consideradas no modelo ADF / Number of lags used in ADF model <--"
   ]
  },
  {
   "cell_type": "markdown",
   "metadata": {},
   "source": [
    "##### 🔶 ₿ -----> Lembrete"
   ]
  },
  {
   "cell_type": "markdown",
   "metadata": {},
   "source": [
    "---\n",
    "Diagnóstico Visual de Estacionariedade — Média e Desvio Padrão Móveis\n",
    "\n",
    "A série $Z(t)$ é transformada por diferenciação para análise de estacionariedade. Em seguida, calcula-se:\n",
    "\t1.\tMédia Móvel (Rolling Mean):  \n",
    "\n",
    "$\n",
    "\\mu_t^{(w)} = \\frac{1}{w} \\sum_{i=0}^{w-1} Z(t - i)  \n",
    "$\n",
    "\n",
    "2.\tDesvio Padrão Móvel (Rolling Std): \n",
    "\n",
    "$\n",
    "\\sigma_t^{(w)} = \\sqrt{ \\frac{1}{w} \\sum_{i=0}^{w-1} \\left(Z(t - i) - \\mu_t^{(w)}\\right)^2 }  \n",
    "$\n",
    "\n",
    "Onde:\n",
    "$w$ = janela de tempo\n",
    "$\\mu_t^{(w)}$ = média móvel no tempo $t$  \n",
    "$\\sigma_t^{(w)}$ = desvio padrão móvel no tempo $t$  \n",
    "\n",
    "⸻\n",
    "\n",
    "Interpretação\n",
    "\n",
    "Se ao longo do tempo:  \n",
    "A média $\\mu_t^{(w)}$ se mantém aproximadamente constante, e  \n",
    "O desvio padrão $\\sigma_t^{(w)}$ também permanece estável,  \n",
    "\n",
    "Então a série diferenciada tende a ser fracamente estacionária (segunda ordem), o que é essencial para aplicar modelos como ARIMA, SARIMA ou GARCH.\n",
    "\n",
    "---"
   ]
  },
  {
   "cell_type": "markdown",
   "metadata": {},
   "source": [
    "##### 🔶 ₿ -----> Diagnóstico Visual de Estacionariedade — Média e Desvio Padrão Móveis"
   ]
  },
  {
   "cell_type": "code",
   "execution_count": 91,
   "metadata": {},
   "outputs": [],
   "source": [
    "# =============================\n",
    "#  CONFIGURAÇÕES DE PARÂMETROS\n",
    "# =============================\n",
    "resample_freq = 'h'           # 'h' (hora), 'd' (dia), 'W' (semana)\n",
    "window_size = 30              # Tamanho da janela de média/desvio / Rolling window size\n",
    "date_range_start = None       # Ex: \"2023-01-01\"\n",
    "date_range_end = None         # Ex: \"2023-03-01\"\n",
    "\n",
    "# ===============\n",
    "#  PROCESSAMENTO\n",
    "# ===============\n",
    "\n",
    "df_Rolling = df_features_temp.toPandas()\n",
    "# --> Converte o DataFrame PySpark para Pandas / Converts PySpark DataFrame to Pandas <--\n",
    "\n",
    "df_Rolling[\"block_timestamp\"] = pd.to_datetime(df_Rolling[\"block_timestamp\"])\n",
    "# --> Garante que o campo de tempo seja do tipo datetime / Ensures timestamp is datetime type <--\n",
    "\n",
    "df_Rolling = df_Rolling.sort_values(\"block_timestamp\")\n",
    "# --> Ordena os dados por tempo crescente / Sorts data by time ascending <--\n",
    "\n",
    "df_Rolling = df_Rolling.set_index(\"block_timestamp\").resample(resample_freq).mean()\n",
    "# --> Reamostra os dados com base na frequência definida (ex: 'h' para hora) / Resamples the data based on the defined frequency <--\n",
    "\n",
    "if date_range_start and date_range_end:\n",
    "    df_Rolling = df_Rolling.loc[date_range_start:date_range_end]\n",
    "# --> Filtra a série pelo intervalo de datas, se definido / Filters series by date range if provided <--\n",
    "\n",
    "df_Rolling[\"block_timestamp\"] = df_Rolling.index\n",
    "# --> Restaura a coluna de timestamp para uso em gráficos / Restores timestamp column for plotting <--\n",
    "\n",
    "df_Rolling[\"btc_price_diff\"] = df_Rolling[\"btc_price_usd\"].diff()\n",
    "# --> Aplica diferenciação de primeira ordem / Applies first-order differencing <--\n",
    "\n",
    "df_Rolling = df_Rolling.dropna()\n",
    "# --> Remove os valores nulos gerados pela diferenciação / Drops NaN values caused by differencing <--\n",
    "\n",
    "# =================================\n",
    "#  CÁLCULO DE MÉDIA E DESVIO MÓVEL\n",
    "# =================================\n",
    "\n",
    "rolling_mean = df_Rolling[\"btc_price_diff\"].rolling(window=window_size).mean()\n",
    "# --> Calcula a média móvel com janela definida / Computes rolling mean with defined window <--\n",
    "\n",
    "rolling_std = df_Rolling[\"btc_price_diff\"].rolling(window=window_size).std()\n",
    "# --> Calcula o desvio padrão móvel com janela definida / Computes rolling standard deviation <--"
   ]
  },
  {
   "cell_type": "code",
   "execution_count": 92,
   "metadata": {},
   "outputs": [
    {
     "data": {
      "application/vnd.plotly.v1+json": {
       "config": {
        "plotlyServerURL": "https://plot.ly"
       },
       "data": [
        {
         "line": {
          "color": "#E57C1F",
          "width": 1.5
         },
         "mode": "lines",
         "name": "Δ Preço BTC",
         "type": "scatter",
         "x": [
          "2025-04-01T01:00:00.000000",
          "2025-04-01T02:00:00.000000",
          "2025-04-01T03:00:00.000000",
          "2025-04-01T04:00:00.000000",
          "2025-04-01T05:00:00.000000",
          "2025-04-01T06:00:00.000000",
          "2025-04-01T07:00:00.000000",
          "2025-04-01T08:00:00.000000",
          "2025-04-01T09:00:00.000000",
          "2025-04-01T10:00:00.000000",
          "2025-04-01T11:00:00.000000",
          "2025-04-01T12:00:00.000000",
          "2025-04-01T13:00:00.000000",
          "2025-04-01T14:00:00.000000",
          "2025-04-01T15:00:00.000000",
          "2025-04-01T16:00:00.000000",
          "2025-04-01T17:00:00.000000",
          "2025-04-01T18:00:00.000000",
          "2025-04-01T19:00:00.000000",
          "2025-04-01T20:00:00.000000",
          "2025-04-01T21:00:00.000000",
          "2025-04-01T22:00:00.000000",
          "2025-04-01T23:00:00.000000",
          "2025-04-02T00:00:00.000000",
          "2025-04-02T01:00:00.000000",
          "2025-04-02T02:00:00.000000",
          "2025-04-02T03:00:00.000000",
          "2025-04-02T04:00:00.000000",
          "2025-04-02T05:00:00.000000",
          "2025-04-02T06:00:00.000000",
          "2025-04-02T07:00:00.000000",
          "2025-04-02T08:00:00.000000",
          "2025-04-02T09:00:00.000000",
          "2025-04-02T10:00:00.000000",
          "2025-04-02T11:00:00.000000",
          "2025-04-02T12:00:00.000000",
          "2025-04-02T13:00:00.000000",
          "2025-04-02T14:00:00.000000",
          "2025-04-02T15:00:00.000000",
          "2025-04-02T16:00:00.000000",
          "2025-04-02T17:00:00.000000",
          "2025-04-02T18:00:00.000000",
          "2025-04-02T19:00:00.000000",
          "2025-04-02T20:00:00.000000",
          "2025-04-02T21:00:00.000000",
          "2025-04-02T22:00:00.000000",
          "2025-04-02T23:00:00.000000",
          "2025-04-03T00:00:00.000000",
          "2025-04-03T01:00:00.000000",
          "2025-04-03T02:00:00.000000",
          "2025-04-03T03:00:00.000000",
          "2025-04-03T04:00:00.000000",
          "2025-04-03T05:00:00.000000",
          "2025-04-03T06:00:00.000000",
          "2025-04-03T07:00:00.000000",
          "2025-04-03T08:00:00.000000",
          "2025-04-03T09:00:00.000000",
          "2025-04-03T10:00:00.000000",
          "2025-04-03T11:00:00.000000",
          "2025-04-03T12:00:00.000000",
          "2025-04-03T13:00:00.000000",
          "2025-04-03T14:00:00.000000",
          "2025-04-03T15:00:00.000000",
          "2025-04-03T16:00:00.000000",
          "2025-04-03T17:00:00.000000",
          "2025-04-03T18:00:00.000000",
          "2025-04-03T19:00:00.000000",
          "2025-04-03T20:00:00.000000",
          "2025-04-03T21:00:00.000000",
          "2025-04-03T22:00:00.000000",
          "2025-04-03T23:00:00.000000",
          "2025-04-04T00:00:00.000000",
          "2025-04-04T01:00:00.000000",
          "2025-04-04T02:00:00.000000",
          "2025-04-04T03:00:00.000000",
          "2025-04-04T04:00:00.000000",
          "2025-04-04T05:00:00.000000",
          "2025-04-04T06:00:00.000000",
          "2025-04-04T07:00:00.000000",
          "2025-04-04T08:00:00.000000",
          "2025-04-04T09:00:00.000000",
          "2025-04-04T10:00:00.000000",
          "2025-04-04T11:00:00.000000",
          "2025-04-04T12:00:00.000000",
          "2025-04-04T13:00:00.000000",
          "2025-04-04T14:00:00.000000",
          "2025-04-04T15:00:00.000000",
          "2025-04-04T16:00:00.000000",
          "2025-04-04T17:00:00.000000",
          "2025-04-04T18:00:00.000000",
          "2025-04-04T19:00:00.000000",
          "2025-04-04T20:00:00.000000",
          "2025-04-04T21:00:00.000000",
          "2025-04-04T22:00:00.000000",
          "2025-04-04T23:00:00.000000",
          "2025-04-05T00:00:00.000000",
          "2025-04-05T01:00:00.000000",
          "2025-04-05T02:00:00.000000",
          "2025-04-05T03:00:00.000000",
          "2025-04-05T04:00:00.000000",
          "2025-04-05T05:00:00.000000",
          "2025-04-05T06:00:00.000000",
          "2025-04-05T07:00:00.000000",
          "2025-04-05T08:00:00.000000",
          "2025-04-05T09:00:00.000000",
          "2025-04-05T10:00:00.000000",
          "2025-04-05T11:00:00.000000",
          "2025-04-05T12:00:00.000000",
          "2025-04-05T13:00:00.000000",
          "2025-04-05T14:00:00.000000",
          "2025-04-05T15:00:00.000000",
          "2025-04-05T16:00:00.000000",
          "2025-04-05T17:00:00.000000",
          "2025-04-05T18:00:00.000000",
          "2025-04-05T19:00:00.000000",
          "2025-04-05T20:00:00.000000",
          "2025-04-05T21:00:00.000000",
          "2025-04-05T22:00:00.000000",
          "2025-04-05T23:00:00.000000",
          "2025-04-06T00:00:00.000000",
          "2025-04-06T01:00:00.000000",
          "2025-04-06T02:00:00.000000",
          "2025-04-06T03:00:00.000000",
          "2025-04-06T04:00:00.000000",
          "2025-04-06T05:00:00.000000",
          "2025-04-06T06:00:00.000000",
          "2025-04-06T07:00:00.000000",
          "2025-04-06T08:00:00.000000",
          "2025-04-06T09:00:00.000000",
          "2025-04-06T10:00:00.000000",
          "2025-04-06T11:00:00.000000",
          "2025-04-06T12:00:00.000000",
          "2025-04-06T13:00:00.000000",
          "2025-04-06T14:00:00.000000",
          "2025-04-06T15:00:00.000000",
          "2025-04-06T16:00:00.000000",
          "2025-04-06T17:00:00.000000",
          "2025-04-06T18:00:00.000000",
          "2025-04-06T19:00:00.000000",
          "2025-04-06T20:00:00.000000",
          "2025-04-06T21:00:00.000000",
          "2025-04-06T22:00:00.000000",
          "2025-04-06T23:00:00.000000",
          "2025-04-07T00:00:00.000000",
          "2025-04-07T01:00:00.000000",
          "2025-04-07T02:00:00.000000",
          "2025-04-07T03:00:00.000000",
          "2025-04-07T04:00:00.000000",
          "2025-04-07T05:00:00.000000",
          "2025-04-07T06:00:00.000000",
          "2025-04-07T07:00:00.000000",
          "2025-04-07T08:00:00.000000",
          "2025-04-07T09:00:00.000000",
          "2025-04-07T10:00:00.000000",
          "2025-04-07T11:00:00.000000",
          "2025-04-07T12:00:00.000000",
          "2025-04-07T13:00:00.000000",
          "2025-04-07T14:00:00.000000",
          "2025-04-07T15:00:00.000000",
          "2025-04-07T16:00:00.000000",
          "2025-04-07T17:00:00.000000",
          "2025-04-07T18:00:00.000000",
          "2025-04-07T19:00:00.000000",
          "2025-04-07T20:00:00.000000",
          "2025-04-07T21:00:00.000000",
          "2025-04-07T22:00:00.000000",
          "2025-04-07T23:00:00.000000",
          "2025-04-08T00:00:00.000000",
          "2025-04-08T01:00:00.000000",
          "2025-04-08T02:00:00.000000",
          "2025-04-08T03:00:00.000000",
          "2025-04-08T04:00:00.000000",
          "2025-04-08T05:00:00.000000",
          "2025-04-08T06:00:00.000000",
          "2025-04-08T07:00:00.000000",
          "2025-04-08T08:00:00.000000",
          "2025-04-08T09:00:00.000000",
          "2025-04-08T10:00:00.000000",
          "2025-04-08T11:00:00.000000",
          "2025-04-08T12:00:00.000000",
          "2025-04-08T13:00:00.000000",
          "2025-04-08T14:00:00.000000",
          "2025-04-08T15:00:00.000000",
          "2025-04-08T16:00:00.000000",
          "2025-04-08T17:00:00.000000",
          "2025-04-08T18:00:00.000000"
         ],
         "xaxis": "x",
         "y": {
          "bdata": "ALBH4Xp0SUAAzczMzHh4QADYo3A9KmDAAJDC9ShMWkAAcD0K16NOwAC4HoXrjXxAAIDrUbgeFUAAH4XrUW6EQACE61G4xm1AAGZmZmb2ZMAAZmZmZkpwwAApXI/CWXPAAMD1KFxvTkAAAAAAAGSAQIBmZmZmDJFAAJDC9SiUZMAAAHsUrkcFwAAAexSuR/2/AArXo3CNZMAA9ihcjyZyQABwPQrXIz3AAAAAAAAAXcAAaGZmZqZSQABej8L1CGrAAOxRuB7lZ0AACtejcBl7wAAoXI/CJWXAAHgUrkfhSkAA7FG4HjF/wABAMzMzMzdAAHA9CtdnckAAzszMzLxuQACF61G4ynVAACCF61EoZMAAo3A9Cn9ywAD1KFyPYn5AAM7MzMyMaUAAKVyPwmeDQIAehetRLIxAAKRwPQqrcUAApHA9Ck97wAD2KFyP/nTAgLgehevvg0DAzMzMzAOUwIDrUbge64jA4MzMzMwKoMAAZmZmZvZywICZmZmZW4ZAAFyPwvU2gUAAAFyPwvXgPwAehetRbHHAAFC4HoWrU0AASOF6FG5rwAApXI/C7XHAADQzMzNTeUAAFK5H4eJsQADiehSuv2rAALgehetZb8AASOF6FO5iwIBH4XoU4JHAAArXo3AZeUCAwvUoXDmKwACF61G4NoBAABSuR+Eia8AAANejcD0UQAAUrkfhOnBAAGRmZmY2XMAACtejcG13QABI4XoUOndAAOB6FK5HKEAAXI/C9ZB8QAAghetRYGLAABSuR+GSdcAA9ihcj1pqQACE61G4jlXAAIjrUbgOWMAAcT0K17d9QAAehetR+GHAgOtRuB7fjUAAhetRuJp6QACE61G4HmVAAIXrUbiLn8AANDMzM1NaQADqUbgeLWZAAM3MzMwIfkAA4XoUrq2IwABH4XoURnJAAPYoXI9ugEDAehSuR96QQABSuB6FE37AACCF61H4O0AAkML1KCRjQAAQrkfhOjlAAFC4HoXrXsAAFK5H4VplwAAAAAAAEFnAAHA9CtcTaEAAQArXo3AlwADsUbge/XTAAKhwPQo3SkAAQLgehesbQABI4XoUXmvAAPgoXI9iRkAAAJqZmZnxPwDXo3A9lnNAAD4K16MYZ8AA4noUri9nwAAAAAAAyGbAgPUoXI9ogMAAmpmZmYlkQAAAAAAAFHPAAEbhehQeYEAAPgrXoxhgQAA+CtejaGVAADQzMzNrZ8AAFq5H4WprQABSuB6Fa2PAAClcj8LJcEAA9Shcj151QACA61G4niDAAChcj8KVVcAAcD0K1+NgwADgehSuZ0RAAHoUrkfBY0AAsEfherRIwAAzMzMzb3TAADwK16OAWMAAwPUoXI8bwADgehSuR0NAAPYoXI/SacAA8Chcj4IywACuR+F6rGLAAOxRuB79d8AASOF6FE52QACYmZmZGVrAgArXo3DzgcDAR+F6FFWSwEBmZmZmNZvAgBSuR+EOgUCAj8L1KOKHwAC4HoXrwVVAAArXo3DjjMAA/////yd4QABACtej8FbAAD4K16PEiUCAHoXrUSKGwADNzMzMyobAgJmZmZkTh8AA8FG4HiVGwOAoXI9C2KDAAFK4HoX/c0BA4XoUri6SQABwPQrX4zpAgD0K16NShkAAFa5H4RJzwICZmZmZ3YNAgD0K16MdkECA61G4Hq2FQIDMzMzMiIHAwJmZmZl2kMCAj8L1KLCZQIDXo3A9EILAABSuR+FOd8CAcD0K1x+KQACuR+F6lHFAAEjhehQch0AAzczMzNKIwABI4XoUJmLAwHA9CtewmECAcD0K15WEwABQ4XoUrj/AAK5H4XqMeEAAKVyPwg17wADNzMzM+HnAADBcj8K1QEAAuR6F64F0wACamZmZiW/AADQzMzNjWEAASOF6FGqOQABcj8L1WGLAADAzMzMTTkBAXI/C9TyWwAAgrkfhOjdAwHA9CtdVkcCAuB6F67WBwAAVrkfhqnZA",
          "dtype": "f8"
         },
         "yaxis": "y"
        },
        {
         "line": {
          "color": "blue",
          "width": 2
         },
         "mode": "lines",
         "name": "Média Móvel",
         "type": "scatter",
         "x": [
          "2025-04-01T01:00:00.000000",
          "2025-04-01T02:00:00.000000",
          "2025-04-01T03:00:00.000000",
          "2025-04-01T04:00:00.000000",
          "2025-04-01T05:00:00.000000",
          "2025-04-01T06:00:00.000000",
          "2025-04-01T07:00:00.000000",
          "2025-04-01T08:00:00.000000",
          "2025-04-01T09:00:00.000000",
          "2025-04-01T10:00:00.000000",
          "2025-04-01T11:00:00.000000",
          "2025-04-01T12:00:00.000000",
          "2025-04-01T13:00:00.000000",
          "2025-04-01T14:00:00.000000",
          "2025-04-01T15:00:00.000000",
          "2025-04-01T16:00:00.000000",
          "2025-04-01T17:00:00.000000",
          "2025-04-01T18:00:00.000000",
          "2025-04-01T19:00:00.000000",
          "2025-04-01T20:00:00.000000",
          "2025-04-01T21:00:00.000000",
          "2025-04-01T22:00:00.000000",
          "2025-04-01T23:00:00.000000",
          "2025-04-02T00:00:00.000000",
          "2025-04-02T01:00:00.000000",
          "2025-04-02T02:00:00.000000",
          "2025-04-02T03:00:00.000000",
          "2025-04-02T04:00:00.000000",
          "2025-04-02T05:00:00.000000",
          "2025-04-02T06:00:00.000000",
          "2025-04-02T07:00:00.000000",
          "2025-04-02T08:00:00.000000",
          "2025-04-02T09:00:00.000000",
          "2025-04-02T10:00:00.000000",
          "2025-04-02T11:00:00.000000",
          "2025-04-02T12:00:00.000000",
          "2025-04-02T13:00:00.000000",
          "2025-04-02T14:00:00.000000",
          "2025-04-02T15:00:00.000000",
          "2025-04-02T16:00:00.000000",
          "2025-04-02T17:00:00.000000",
          "2025-04-02T18:00:00.000000",
          "2025-04-02T19:00:00.000000",
          "2025-04-02T20:00:00.000000",
          "2025-04-02T21:00:00.000000",
          "2025-04-02T22:00:00.000000",
          "2025-04-02T23:00:00.000000",
          "2025-04-03T00:00:00.000000",
          "2025-04-03T01:00:00.000000",
          "2025-04-03T02:00:00.000000",
          "2025-04-03T03:00:00.000000",
          "2025-04-03T04:00:00.000000",
          "2025-04-03T05:00:00.000000",
          "2025-04-03T06:00:00.000000",
          "2025-04-03T07:00:00.000000",
          "2025-04-03T08:00:00.000000",
          "2025-04-03T09:00:00.000000",
          "2025-04-03T10:00:00.000000",
          "2025-04-03T11:00:00.000000",
          "2025-04-03T12:00:00.000000",
          "2025-04-03T13:00:00.000000",
          "2025-04-03T14:00:00.000000",
          "2025-04-03T15:00:00.000000",
          "2025-04-03T16:00:00.000000",
          "2025-04-03T17:00:00.000000",
          "2025-04-03T18:00:00.000000",
          "2025-04-03T19:00:00.000000",
          "2025-04-03T20:00:00.000000",
          "2025-04-03T21:00:00.000000",
          "2025-04-03T22:00:00.000000",
          "2025-04-03T23:00:00.000000",
          "2025-04-04T00:00:00.000000",
          "2025-04-04T01:00:00.000000",
          "2025-04-04T02:00:00.000000",
          "2025-04-04T03:00:00.000000",
          "2025-04-04T04:00:00.000000",
          "2025-04-04T05:00:00.000000",
          "2025-04-04T06:00:00.000000",
          "2025-04-04T07:00:00.000000",
          "2025-04-04T08:00:00.000000",
          "2025-04-04T09:00:00.000000",
          "2025-04-04T10:00:00.000000",
          "2025-04-04T11:00:00.000000",
          "2025-04-04T12:00:00.000000",
          "2025-04-04T13:00:00.000000",
          "2025-04-04T14:00:00.000000",
          "2025-04-04T15:00:00.000000",
          "2025-04-04T16:00:00.000000",
          "2025-04-04T17:00:00.000000",
          "2025-04-04T18:00:00.000000",
          "2025-04-04T19:00:00.000000",
          "2025-04-04T20:00:00.000000",
          "2025-04-04T21:00:00.000000",
          "2025-04-04T22:00:00.000000",
          "2025-04-04T23:00:00.000000",
          "2025-04-05T00:00:00.000000",
          "2025-04-05T01:00:00.000000",
          "2025-04-05T02:00:00.000000",
          "2025-04-05T03:00:00.000000",
          "2025-04-05T04:00:00.000000",
          "2025-04-05T05:00:00.000000",
          "2025-04-05T06:00:00.000000",
          "2025-04-05T07:00:00.000000",
          "2025-04-05T08:00:00.000000",
          "2025-04-05T09:00:00.000000",
          "2025-04-05T10:00:00.000000",
          "2025-04-05T11:00:00.000000",
          "2025-04-05T12:00:00.000000",
          "2025-04-05T13:00:00.000000",
          "2025-04-05T14:00:00.000000",
          "2025-04-05T15:00:00.000000",
          "2025-04-05T16:00:00.000000",
          "2025-04-05T17:00:00.000000",
          "2025-04-05T18:00:00.000000",
          "2025-04-05T19:00:00.000000",
          "2025-04-05T20:00:00.000000",
          "2025-04-05T21:00:00.000000",
          "2025-04-05T22:00:00.000000",
          "2025-04-05T23:00:00.000000",
          "2025-04-06T00:00:00.000000",
          "2025-04-06T01:00:00.000000",
          "2025-04-06T02:00:00.000000",
          "2025-04-06T03:00:00.000000",
          "2025-04-06T04:00:00.000000",
          "2025-04-06T05:00:00.000000",
          "2025-04-06T06:00:00.000000",
          "2025-04-06T07:00:00.000000",
          "2025-04-06T08:00:00.000000",
          "2025-04-06T09:00:00.000000",
          "2025-04-06T10:00:00.000000",
          "2025-04-06T11:00:00.000000",
          "2025-04-06T12:00:00.000000",
          "2025-04-06T13:00:00.000000",
          "2025-04-06T14:00:00.000000",
          "2025-04-06T15:00:00.000000",
          "2025-04-06T16:00:00.000000",
          "2025-04-06T17:00:00.000000",
          "2025-04-06T18:00:00.000000",
          "2025-04-06T19:00:00.000000",
          "2025-04-06T20:00:00.000000",
          "2025-04-06T21:00:00.000000",
          "2025-04-06T22:00:00.000000",
          "2025-04-06T23:00:00.000000",
          "2025-04-07T00:00:00.000000",
          "2025-04-07T01:00:00.000000",
          "2025-04-07T02:00:00.000000",
          "2025-04-07T03:00:00.000000",
          "2025-04-07T04:00:00.000000",
          "2025-04-07T05:00:00.000000",
          "2025-04-07T06:00:00.000000",
          "2025-04-07T07:00:00.000000",
          "2025-04-07T08:00:00.000000",
          "2025-04-07T09:00:00.000000",
          "2025-04-07T10:00:00.000000",
          "2025-04-07T11:00:00.000000",
          "2025-04-07T12:00:00.000000",
          "2025-04-07T13:00:00.000000",
          "2025-04-07T14:00:00.000000",
          "2025-04-07T15:00:00.000000",
          "2025-04-07T16:00:00.000000",
          "2025-04-07T17:00:00.000000",
          "2025-04-07T18:00:00.000000",
          "2025-04-07T19:00:00.000000",
          "2025-04-07T20:00:00.000000",
          "2025-04-07T21:00:00.000000",
          "2025-04-07T22:00:00.000000",
          "2025-04-07T23:00:00.000000",
          "2025-04-08T00:00:00.000000",
          "2025-04-08T01:00:00.000000",
          "2025-04-08T02:00:00.000000",
          "2025-04-08T03:00:00.000000",
          "2025-04-08T04:00:00.000000",
          "2025-04-08T05:00:00.000000",
          "2025-04-08T06:00:00.000000",
          "2025-04-08T07:00:00.000000",
          "2025-04-08T08:00:00.000000",
          "2025-04-08T09:00:00.000000",
          "2025-04-08T10:00:00.000000",
          "2025-04-08T11:00:00.000000",
          "2025-04-08T12:00:00.000000",
          "2025-04-08T13:00:00.000000",
          "2025-04-08T14:00:00.000000",
          "2025-04-08T15:00:00.000000",
          "2025-04-08T16:00:00.000000",
          "2025-04-08T17:00:00.000000",
          "2025-04-08T18:00:00.000000"
         ],
         "xaxis": "x",
         "y": {
          "bdata": "AAAAAAAA+H8AAAAAAAD4fwAAAAAAAPh/AAAAAAAA+H8AAAAAAAD4fwAAAAAAAPh/AAAAAAAA+H8AAAAAAAD4fwAAAAAAAPh/AAAAAAAA+H8AAAAAAAD4fwAAAAAAAPh/AAAAAAAA+H8AAAAAAAD4fwAAAAAAAPh/AAAAAAAA+H8AAAAAAAD4fwAAAAAAAPh/AAAAAAAA+H8AAAAAAAD4fwAAAAAAAPh/AAAAAAAA+H8AAAAAAAD4fwAAAAAAAPh/AAAAAAAA+H8AAAAAAAD4fwAAAAAAAPh/AAAAAAAA+H8AAAAAAAD4f2buNReS5khAzezDZ9j1TECr4uzDZ4hKQCI8mCfqP1FAzdAi2/kOTkARKVyPwiVKQJp9+Ay7okpAZiZ4ME/0TUDNPFH/RmhNQDMVZx8+O1RAd8taHRP8V0B3B/NE/YNWQIlScfbhS1ZAVY2XbhIbW0ARDbsC5B5IQKuqqqqqai3Aq4zelrVqU8AzNV66SexVwESA3Gsu5E/AzTxR/0b4Q8Cr+jdCGc1IwIn8Yskv9kzAdzvfT423ScDeKRVnH55OwEQoo7dl7U/AM4/C9ShcTMDNeOkmMUhBwLyzD59hB0LAiRSuR+EaR8BE8GCeqE9BwFXHBA/mYVLAMxm9LWt9UcDNWh0TPIhawHevuZA0HVnAIiZ4ME+UWcAiBFYOLRJXwFVVVVVV9VjAIiIiIiKaW8C8K0DuNaddwLyuALnXCGHAvBHK6G0pYsBE8GCeqN9cwO8mMQisTFvAVZx9+Ay/YcBV/0Yoow9XwM0i2/l+IlHAZmZmZmZmCsB3PzVeuqk2QDPTvxHK6BfAzUx+seQXHkDN9Las1bE1QIkcWmQ7T0JAIu41F5KmQMDNbKDTBno2wO8u3SQGARzAqwoezBP1EcAiXrpJDEJDwFWNl24SozXAACA+w64AEUAi6t8IZaRGQLyHz7Ar2FBAZt6WtTp2S0Dv8Bl2BQBWQFXJL5b84lFAAMi95kKqUkBmukkMAjNRQKui/o1QZkxAADptoNO+UEB3W9bqmBBLQM00XrpJjD5ARLx0kxjkP0DNnDbQaeMwQEQkTak4+yxAZr6fGi99O0CJaJHtfH80QETUvxHK6EBA3mWtjgnePkCayehtWashQACAThvoNB5A75a1OiboRMAR2c73U0NJwERkO99PlVDAM1OcffgMFUBmRuF6FC4YQACgYVeAXBdAVTVeuklsMMCJwMqhRTYxQADALWt1TAJA7665kDQlGcAAAAAAAOA+wN49w64AOS7AVSW/WPLrMsAR4XoUroc8wFV9+Ay7AjzAVYXrUbieMsCJKOrfCCUtwHcv3SQGITbAERERERHRP8Ca8dJNYrA/wM1k9LasNTPAM0t+seTXO8CJILByaLE8wLw7mCfqXzrAAFTjpZtURMCJoNMGOs08wGa+nxovXUXAvLu7u7vbS8AA5F5zISlWwM0VIPeak2HAvPUoXI86WsC8rNUxwftgwLy5kDSlsl7AInpb1uq8Y8BEfIZdAapiwFXuNReSwmPAZoQyelsWX8DvNReSpmhjwLyBThvozGXAzXa+nxr/acBVnH34DJtrwFWrY4IHR3LAMxeSplRuccAi95oLSXNtwCIiIiIigm3AzeqY4MEwa8CaqH8jlEFswJpuEoPAPmjAvGWtjgmKY8ARSVMqzp5gwFVImlJxHmPARIts5/ulZsDvtqzVMXFfwHcDnTbQgWHAEfVvhDJ2YcCJov6NUO5ewIlKxdmHt1vAEb0ta3XEUMDNeOkmMThLwAAAOEIZvfO/ieDBPFGfQECrirMPn2FCQLxn2BUgZ0BAAJKmVJwtU0Az95oLSbNIQCIadgXITUNA7y4kTal4KEBExCCwcug4QDP/RiijZ0RAEfeaC0krUUDNVscED6ZZQHeTGARWMmVA77as1TEdZEC891PjpatSQKtwPQrXo1JAABBYObSIK0BE5BdLfjEUQACgjN6WNRDA",
          "dtype": "f8"
         },
         "yaxis": "y"
        },
        {
         "line": {
          "color": "#1FADE5",
          "width": 2
         },
         "mode": "lines",
         "name": "Desvio Padrão Móvel",
         "type": "scatter",
         "x": [
          "2025-04-01T01:00:00.000000",
          "2025-04-01T02:00:00.000000",
          "2025-04-01T03:00:00.000000",
          "2025-04-01T04:00:00.000000",
          "2025-04-01T05:00:00.000000",
          "2025-04-01T06:00:00.000000",
          "2025-04-01T07:00:00.000000",
          "2025-04-01T08:00:00.000000",
          "2025-04-01T09:00:00.000000",
          "2025-04-01T10:00:00.000000",
          "2025-04-01T11:00:00.000000",
          "2025-04-01T12:00:00.000000",
          "2025-04-01T13:00:00.000000",
          "2025-04-01T14:00:00.000000",
          "2025-04-01T15:00:00.000000",
          "2025-04-01T16:00:00.000000",
          "2025-04-01T17:00:00.000000",
          "2025-04-01T18:00:00.000000",
          "2025-04-01T19:00:00.000000",
          "2025-04-01T20:00:00.000000",
          "2025-04-01T21:00:00.000000",
          "2025-04-01T22:00:00.000000",
          "2025-04-01T23:00:00.000000",
          "2025-04-02T00:00:00.000000",
          "2025-04-02T01:00:00.000000",
          "2025-04-02T02:00:00.000000",
          "2025-04-02T03:00:00.000000",
          "2025-04-02T04:00:00.000000",
          "2025-04-02T05:00:00.000000",
          "2025-04-02T06:00:00.000000",
          "2025-04-02T07:00:00.000000",
          "2025-04-02T08:00:00.000000",
          "2025-04-02T09:00:00.000000",
          "2025-04-02T10:00:00.000000",
          "2025-04-02T11:00:00.000000",
          "2025-04-02T12:00:00.000000",
          "2025-04-02T13:00:00.000000",
          "2025-04-02T14:00:00.000000",
          "2025-04-02T15:00:00.000000",
          "2025-04-02T16:00:00.000000",
          "2025-04-02T17:00:00.000000",
          "2025-04-02T18:00:00.000000",
          "2025-04-02T19:00:00.000000",
          "2025-04-02T20:00:00.000000",
          "2025-04-02T21:00:00.000000",
          "2025-04-02T22:00:00.000000",
          "2025-04-02T23:00:00.000000",
          "2025-04-03T00:00:00.000000",
          "2025-04-03T01:00:00.000000",
          "2025-04-03T02:00:00.000000",
          "2025-04-03T03:00:00.000000",
          "2025-04-03T04:00:00.000000",
          "2025-04-03T05:00:00.000000",
          "2025-04-03T06:00:00.000000",
          "2025-04-03T07:00:00.000000",
          "2025-04-03T08:00:00.000000",
          "2025-04-03T09:00:00.000000",
          "2025-04-03T10:00:00.000000",
          "2025-04-03T11:00:00.000000",
          "2025-04-03T12:00:00.000000",
          "2025-04-03T13:00:00.000000",
          "2025-04-03T14:00:00.000000",
          "2025-04-03T15:00:00.000000",
          "2025-04-03T16:00:00.000000",
          "2025-04-03T17:00:00.000000",
          "2025-04-03T18:00:00.000000",
          "2025-04-03T19:00:00.000000",
          "2025-04-03T20:00:00.000000",
          "2025-04-03T21:00:00.000000",
          "2025-04-03T22:00:00.000000",
          "2025-04-03T23:00:00.000000",
          "2025-04-04T00:00:00.000000",
          "2025-04-04T01:00:00.000000",
          "2025-04-04T02:00:00.000000",
          "2025-04-04T03:00:00.000000",
          "2025-04-04T04:00:00.000000",
          "2025-04-04T05:00:00.000000",
          "2025-04-04T06:00:00.000000",
          "2025-04-04T07:00:00.000000",
          "2025-04-04T08:00:00.000000",
          "2025-04-04T09:00:00.000000",
          "2025-04-04T10:00:00.000000",
          "2025-04-04T11:00:00.000000",
          "2025-04-04T12:00:00.000000",
          "2025-04-04T13:00:00.000000",
          "2025-04-04T14:00:00.000000",
          "2025-04-04T15:00:00.000000",
          "2025-04-04T16:00:00.000000",
          "2025-04-04T17:00:00.000000",
          "2025-04-04T18:00:00.000000",
          "2025-04-04T19:00:00.000000",
          "2025-04-04T20:00:00.000000",
          "2025-04-04T21:00:00.000000",
          "2025-04-04T22:00:00.000000",
          "2025-04-04T23:00:00.000000",
          "2025-04-05T00:00:00.000000",
          "2025-04-05T01:00:00.000000",
          "2025-04-05T02:00:00.000000",
          "2025-04-05T03:00:00.000000",
          "2025-04-05T04:00:00.000000",
          "2025-04-05T05:00:00.000000",
          "2025-04-05T06:00:00.000000",
          "2025-04-05T07:00:00.000000",
          "2025-04-05T08:00:00.000000",
          "2025-04-05T09:00:00.000000",
          "2025-04-05T10:00:00.000000",
          "2025-04-05T11:00:00.000000",
          "2025-04-05T12:00:00.000000",
          "2025-04-05T13:00:00.000000",
          "2025-04-05T14:00:00.000000",
          "2025-04-05T15:00:00.000000",
          "2025-04-05T16:00:00.000000",
          "2025-04-05T17:00:00.000000",
          "2025-04-05T18:00:00.000000",
          "2025-04-05T19:00:00.000000",
          "2025-04-05T20:00:00.000000",
          "2025-04-05T21:00:00.000000",
          "2025-04-05T22:00:00.000000",
          "2025-04-05T23:00:00.000000",
          "2025-04-06T00:00:00.000000",
          "2025-04-06T01:00:00.000000",
          "2025-04-06T02:00:00.000000",
          "2025-04-06T03:00:00.000000",
          "2025-04-06T04:00:00.000000",
          "2025-04-06T05:00:00.000000",
          "2025-04-06T06:00:00.000000",
          "2025-04-06T07:00:00.000000",
          "2025-04-06T08:00:00.000000",
          "2025-04-06T09:00:00.000000",
          "2025-04-06T10:00:00.000000",
          "2025-04-06T11:00:00.000000",
          "2025-04-06T12:00:00.000000",
          "2025-04-06T13:00:00.000000",
          "2025-04-06T14:00:00.000000",
          "2025-04-06T15:00:00.000000",
          "2025-04-06T16:00:00.000000",
          "2025-04-06T17:00:00.000000",
          "2025-04-06T18:00:00.000000",
          "2025-04-06T19:00:00.000000",
          "2025-04-06T20:00:00.000000",
          "2025-04-06T21:00:00.000000",
          "2025-04-06T22:00:00.000000",
          "2025-04-06T23:00:00.000000",
          "2025-04-07T00:00:00.000000",
          "2025-04-07T01:00:00.000000",
          "2025-04-07T02:00:00.000000",
          "2025-04-07T03:00:00.000000",
          "2025-04-07T04:00:00.000000",
          "2025-04-07T05:00:00.000000",
          "2025-04-07T06:00:00.000000",
          "2025-04-07T07:00:00.000000",
          "2025-04-07T08:00:00.000000",
          "2025-04-07T09:00:00.000000",
          "2025-04-07T10:00:00.000000",
          "2025-04-07T11:00:00.000000",
          "2025-04-07T12:00:00.000000",
          "2025-04-07T13:00:00.000000",
          "2025-04-07T14:00:00.000000",
          "2025-04-07T15:00:00.000000",
          "2025-04-07T16:00:00.000000",
          "2025-04-07T17:00:00.000000",
          "2025-04-07T18:00:00.000000",
          "2025-04-07T19:00:00.000000",
          "2025-04-07T20:00:00.000000",
          "2025-04-07T21:00:00.000000",
          "2025-04-07T22:00:00.000000",
          "2025-04-07T23:00:00.000000",
          "2025-04-08T00:00:00.000000",
          "2025-04-08T01:00:00.000000",
          "2025-04-08T02:00:00.000000",
          "2025-04-08T03:00:00.000000",
          "2025-04-08T04:00:00.000000",
          "2025-04-08T05:00:00.000000",
          "2025-04-08T06:00:00.000000",
          "2025-04-08T07:00:00.000000",
          "2025-04-08T08:00:00.000000",
          "2025-04-08T09:00:00.000000",
          "2025-04-08T10:00:00.000000",
          "2025-04-08T11:00:00.000000",
          "2025-04-08T12:00:00.000000",
          "2025-04-08T13:00:00.000000",
          "2025-04-08T14:00:00.000000",
          "2025-04-08T15:00:00.000000",
          "2025-04-08T16:00:00.000000",
          "2025-04-08T17:00:00.000000",
          "2025-04-08T18:00:00.000000"
         ],
         "xaxis": "x",
         "y": {
          "bdata": "AAAAAAAA+H8AAAAAAAD4fwAAAAAAAPh/AAAAAAAA+H8AAAAAAAD4fwAAAAAAAPh/AAAAAAAA+H8AAAAAAAD4fwAAAAAAAPh/AAAAAAAA+H8AAAAAAAD4fwAAAAAAAPh/AAAAAAAA+H8AAAAAAAD4fwAAAAAAAPh/AAAAAAAA+H8AAAAAAAD4fwAAAAAAAPh/AAAAAAAA+H8AAAAAAAD4fwAAAAAAAPh/AAAAAAAA+H8AAAAAAAD4fwAAAAAAAPh/AAAAAAAA+H8AAAAAAAD4fwAAAAAAAPh/AAAAAAAA+H8AAAAAAAD4f2OOpoXIrXRA3dGmydXddEDBS3fVGJ50QIkEo3PXxHRAfSlwpKXtdEBw56wKrkd1QGIwVYuEW3VA49zN9gFrdUBkrjw1YUx1QIMM48Y9TXdAM5bS95U4d0AxrHpuI6t3QAr5yUPrundAD3qio5WJeECySGUNPbV8QFw27nz5h3tA8Ms+t+cEgkC7cxwaBA+CQNOz2iTToIJApmFAO0bxgkCA3OuZHNiCQOWO+z2K44JAvTQ0Pb3mgkDNF5ta5eiCQFzfZwaF74JAjKHXSVMSg0BSmDbjlgGDQIFKJrvDBINA/sjoZa4Mg0CGjHDeqd+CQFE1gyd25oNAREELhOb5g0CdGzLvqFqEQJVpK0o5gYRAQzQpskiDhEAAgrzfMH2EQPdQR0FPUIRAGEQbPfQ7hEBRv57bVPuDQBWDOnCSSYNAwWCi9pgmg0D+l4eGzF6DQD7gB7ruU4NAyzBb8C/bgkCayV5ZL7WBQAUyjrpHNoFA15AH8G4+eUBT++kQLY95QP/rqZ4tRXhAOCSCNyPoeUAikNL1hVd6QEivM8kSJnpAWQLWLGyOgUAnMxlcxImBQBY/TvOhgIFAq0PnXUCRgUABFwFxlxCCQBQxDupMIYJA7R+zavpWgkCXV4JXpE6DQOoxzN1rRoJAfECDMkQrgkA4cMpv2GOBQBW75neMNIFAkPEPTyMpgUApd2GGxzaBQHsXXKO6M4FAbTtQ7FswgUAumZEHzRiBQF9ikxWCIYFAzZxXnYchgUAuXxWlP/KAQKTiPA2D+YBAhK7UtXnXgEDHYH2fqs6AQD8OoBVY4IBAAMxjfyfogEAUNQGTxL2AQPeAI98owYBAw1aA/SQMgECzzcUN7Ld/QGH2eePtvH9AUqaYc/fddUB/WFZdFuJ1QKE5UzV14HVAK+e6vTM+dUCI2q0WYVRzQDmg92k4JXNA8nKaCKdockDrg51Ob9prQPUds9WjvmlA2bDJkRbGaUCL6tAlZ5NpQD7UAvyMmGlABEsmAr7VaUDHFuiH05hpQE5FFaMmg2pAex2iquURakApq4K0XBJqQNUsXYXBGWlADOQTQYZlaUAz36uLaGJpQEADRX3xJmlAe84WqwpfakCWL0HKrOFrQKIWsNWkuWpAMjyWzpc0bUDEWMWHN1xzQDAi52zKB3tAPMfaT2G7e0CfuPtizId8QKjoduZgkXxA1dEGdqPRfUA79+i2PEt+QGThAY4ZEX5AEQqOIrgKgECW/FQxkT6AQFtxS25CkoBAt1dT4BupgEDYshrj5V+AQPN8PZWxr4NAvvEJrs32g0DnKGbOlZaFQLVCUf4VlYVAXn1Op3wmhkAOr49uDiKGQNCPTCYSqYZA2bajs5W2h0CK3qzRnjGIQOgqSFDZSohArHC2c4TUiED0Xc1Nt+uKQJLAcbJSC4tAd3tDvX4Ki0BdqO9u1HiLQPiLYG6vkYtAiGEVoc3Xi0CGQhytrGqLQIiGlFsfj4lAqn1elrzyikC+BkqnfNmKQPJZzgTC2YpA5Qw7MtFQikB9Aiys7GeKQLpyQ/ZQh4pAUafL7sAeikAeHjGXD9uJQL++GjM8h4lAOaHsEHEciUBMKMv1cp+JQHKZ8DYL9oVAoEMRGYPzhUDmuX/6pemGQG8KJXO36YZA/ZmByU2Nh0D3wFv9yreHQJ1iTj4ahodA",
          "dtype": "f8"
         },
         "yaxis": "y"
        }
       ],
       "layout": {
        "annotations": [
         {
          "font": {
           "size": 16
          },
          "showarrow": false,
          "text": "Rolling Mean e Std — Diagnóstico de Estacionariedade",
          "x": 0.5,
          "xanchor": "center",
          "xref": "paper",
          "y": 1,
          "yanchor": "bottom",
          "yref": "paper"
         }
        ],
        "height": 500,
        "legend": {
         "bgcolor": "rgba(0,0,0,0)",
         "bordercolor": "gray",
         "borderwidth": 1,
         "x": 0.99,
         "xanchor": "right",
         "y": 1.5,
         "yanchor": "top"
        },
        "template": {
         "data": {
          "bar": [
           {
            "error_x": {
             "color": "#f2f5fa"
            },
            "error_y": {
             "color": "#f2f5fa"
            },
            "marker": {
             "line": {
              "color": "rgb(17,17,17)",
              "width": 0.5
             },
             "pattern": {
              "fillmode": "overlay",
              "size": 10,
              "solidity": 0.2
             }
            },
            "type": "bar"
           }
          ],
          "barpolar": [
           {
            "marker": {
             "line": {
              "color": "rgb(17,17,17)",
              "width": 0.5
             },
             "pattern": {
              "fillmode": "overlay",
              "size": 10,
              "solidity": 0.2
             }
            },
            "type": "barpolar"
           }
          ],
          "carpet": [
           {
            "aaxis": {
             "endlinecolor": "#A2B1C6",
             "gridcolor": "#506784",
             "linecolor": "#506784",
             "minorgridcolor": "#506784",
             "startlinecolor": "#A2B1C6"
            },
            "baxis": {
             "endlinecolor": "#A2B1C6",
             "gridcolor": "#506784",
             "linecolor": "#506784",
             "minorgridcolor": "#506784",
             "startlinecolor": "#A2B1C6"
            },
            "type": "carpet"
           }
          ],
          "choropleth": [
           {
            "colorbar": {
             "outlinewidth": 0,
             "ticks": ""
            },
            "type": "choropleth"
           }
          ],
          "contour": [
           {
            "colorbar": {
             "outlinewidth": 0,
             "ticks": ""
            },
            "colorscale": [
             [
              0,
              "#0d0887"
             ],
             [
              0.1111111111111111,
              "#46039f"
             ],
             [
              0.2222222222222222,
              "#7201a8"
             ],
             [
              0.3333333333333333,
              "#9c179e"
             ],
             [
              0.4444444444444444,
              "#bd3786"
             ],
             [
              0.5555555555555556,
              "#d8576b"
             ],
             [
              0.6666666666666666,
              "#ed7953"
             ],
             [
              0.7777777777777778,
              "#fb9f3a"
             ],
             [
              0.8888888888888888,
              "#fdca26"
             ],
             [
              1,
              "#f0f921"
             ]
            ],
            "type": "contour"
           }
          ],
          "contourcarpet": [
           {
            "colorbar": {
             "outlinewidth": 0,
             "ticks": ""
            },
            "type": "contourcarpet"
           }
          ],
          "heatmap": [
           {
            "colorbar": {
             "outlinewidth": 0,
             "ticks": ""
            },
            "colorscale": [
             [
              0,
              "#0d0887"
             ],
             [
              0.1111111111111111,
              "#46039f"
             ],
             [
              0.2222222222222222,
              "#7201a8"
             ],
             [
              0.3333333333333333,
              "#9c179e"
             ],
             [
              0.4444444444444444,
              "#bd3786"
             ],
             [
              0.5555555555555556,
              "#d8576b"
             ],
             [
              0.6666666666666666,
              "#ed7953"
             ],
             [
              0.7777777777777778,
              "#fb9f3a"
             ],
             [
              0.8888888888888888,
              "#fdca26"
             ],
             [
              1,
              "#f0f921"
             ]
            ],
            "type": "heatmap"
           }
          ],
          "histogram": [
           {
            "marker": {
             "pattern": {
              "fillmode": "overlay",
              "size": 10,
              "solidity": 0.2
             }
            },
            "type": "histogram"
           }
          ],
          "histogram2d": [
           {
            "colorbar": {
             "outlinewidth": 0,
             "ticks": ""
            },
            "colorscale": [
             [
              0,
              "#0d0887"
             ],
             [
              0.1111111111111111,
              "#46039f"
             ],
             [
              0.2222222222222222,
              "#7201a8"
             ],
             [
              0.3333333333333333,
              "#9c179e"
             ],
             [
              0.4444444444444444,
              "#bd3786"
             ],
             [
              0.5555555555555556,
              "#d8576b"
             ],
             [
              0.6666666666666666,
              "#ed7953"
             ],
             [
              0.7777777777777778,
              "#fb9f3a"
             ],
             [
              0.8888888888888888,
              "#fdca26"
             ],
             [
              1,
              "#f0f921"
             ]
            ],
            "type": "histogram2d"
           }
          ],
          "histogram2dcontour": [
           {
            "colorbar": {
             "outlinewidth": 0,
             "ticks": ""
            },
            "colorscale": [
             [
              0,
              "#0d0887"
             ],
             [
              0.1111111111111111,
              "#46039f"
             ],
             [
              0.2222222222222222,
              "#7201a8"
             ],
             [
              0.3333333333333333,
              "#9c179e"
             ],
             [
              0.4444444444444444,
              "#bd3786"
             ],
             [
              0.5555555555555556,
              "#d8576b"
             ],
             [
              0.6666666666666666,
              "#ed7953"
             ],
             [
              0.7777777777777778,
              "#fb9f3a"
             ],
             [
              0.8888888888888888,
              "#fdca26"
             ],
             [
              1,
              "#f0f921"
             ]
            ],
            "type": "histogram2dcontour"
           }
          ],
          "mesh3d": [
           {
            "colorbar": {
             "outlinewidth": 0,
             "ticks": ""
            },
            "type": "mesh3d"
           }
          ],
          "parcoords": [
           {
            "line": {
             "colorbar": {
              "outlinewidth": 0,
              "ticks": ""
             }
            },
            "type": "parcoords"
           }
          ],
          "pie": [
           {
            "automargin": true,
            "type": "pie"
           }
          ],
          "scatter": [
           {
            "marker": {
             "line": {
              "color": "#283442"
             }
            },
            "type": "scatter"
           }
          ],
          "scatter3d": [
           {
            "line": {
             "colorbar": {
              "outlinewidth": 0,
              "ticks": ""
             }
            },
            "marker": {
             "colorbar": {
              "outlinewidth": 0,
              "ticks": ""
             }
            },
            "type": "scatter3d"
           }
          ],
          "scattercarpet": [
           {
            "marker": {
             "colorbar": {
              "outlinewidth": 0,
              "ticks": ""
             }
            },
            "type": "scattercarpet"
           }
          ],
          "scattergeo": [
           {
            "marker": {
             "colorbar": {
              "outlinewidth": 0,
              "ticks": ""
             }
            },
            "type": "scattergeo"
           }
          ],
          "scattergl": [
           {
            "marker": {
             "line": {
              "color": "#283442"
             }
            },
            "type": "scattergl"
           }
          ],
          "scattermap": [
           {
            "marker": {
             "colorbar": {
              "outlinewidth": 0,
              "ticks": ""
             }
            },
            "type": "scattermap"
           }
          ],
          "scattermapbox": [
           {
            "marker": {
             "colorbar": {
              "outlinewidth": 0,
              "ticks": ""
             }
            },
            "type": "scattermapbox"
           }
          ],
          "scatterpolar": [
           {
            "marker": {
             "colorbar": {
              "outlinewidth": 0,
              "ticks": ""
             }
            },
            "type": "scatterpolar"
           }
          ],
          "scatterpolargl": [
           {
            "marker": {
             "colorbar": {
              "outlinewidth": 0,
              "ticks": ""
             }
            },
            "type": "scatterpolargl"
           }
          ],
          "scatterternary": [
           {
            "marker": {
             "colorbar": {
              "outlinewidth": 0,
              "ticks": ""
             }
            },
            "type": "scatterternary"
           }
          ],
          "surface": [
           {
            "colorbar": {
             "outlinewidth": 0,
             "ticks": ""
            },
            "colorscale": [
             [
              0,
              "#0d0887"
             ],
             [
              0.1111111111111111,
              "#46039f"
             ],
             [
              0.2222222222222222,
              "#7201a8"
             ],
             [
              0.3333333333333333,
              "#9c179e"
             ],
             [
              0.4444444444444444,
              "#bd3786"
             ],
             [
              0.5555555555555556,
              "#d8576b"
             ],
             [
              0.6666666666666666,
              "#ed7953"
             ],
             [
              0.7777777777777778,
              "#fb9f3a"
             ],
             [
              0.8888888888888888,
              "#fdca26"
             ],
             [
              1,
              "#f0f921"
             ]
            ],
            "type": "surface"
           }
          ],
          "table": [
           {
            "cells": {
             "fill": {
              "color": "#506784"
             },
             "line": {
              "color": "rgb(17,17,17)"
             }
            },
            "header": {
             "fill": {
              "color": "#2a3f5f"
             },
             "line": {
              "color": "rgb(17,17,17)"
             }
            },
            "type": "table"
           }
          ]
         },
         "layout": {
          "annotationdefaults": {
           "arrowcolor": "#f2f5fa",
           "arrowhead": 0,
           "arrowwidth": 1
          },
          "autotypenumbers": "strict",
          "coloraxis": {
           "colorbar": {
            "outlinewidth": 0,
            "ticks": ""
           }
          },
          "colorscale": {
           "diverging": [
            [
             0,
             "#8e0152"
            ],
            [
             0.1,
             "#c51b7d"
            ],
            [
             0.2,
             "#de77ae"
            ],
            [
             0.3,
             "#f1b6da"
            ],
            [
             0.4,
             "#fde0ef"
            ],
            [
             0.5,
             "#f7f7f7"
            ],
            [
             0.6,
             "#e6f5d0"
            ],
            [
             0.7,
             "#b8e186"
            ],
            [
             0.8,
             "#7fbc41"
            ],
            [
             0.9,
             "#4d9221"
            ],
            [
             1,
             "#276419"
            ]
           ],
           "sequential": [
            [
             0,
             "#0d0887"
            ],
            [
             0.1111111111111111,
             "#46039f"
            ],
            [
             0.2222222222222222,
             "#7201a8"
            ],
            [
             0.3333333333333333,
             "#9c179e"
            ],
            [
             0.4444444444444444,
             "#bd3786"
            ],
            [
             0.5555555555555556,
             "#d8576b"
            ],
            [
             0.6666666666666666,
             "#ed7953"
            ],
            [
             0.7777777777777778,
             "#fb9f3a"
            ],
            [
             0.8888888888888888,
             "#fdca26"
            ],
            [
             1,
             "#f0f921"
            ]
           ],
           "sequentialminus": [
            [
             0,
             "#0d0887"
            ],
            [
             0.1111111111111111,
             "#46039f"
            ],
            [
             0.2222222222222222,
             "#7201a8"
            ],
            [
             0.3333333333333333,
             "#9c179e"
            ],
            [
             0.4444444444444444,
             "#bd3786"
            ],
            [
             0.5555555555555556,
             "#d8576b"
            ],
            [
             0.6666666666666666,
             "#ed7953"
            ],
            [
             0.7777777777777778,
             "#fb9f3a"
            ],
            [
             0.8888888888888888,
             "#fdca26"
            ],
            [
             1,
             "#f0f921"
            ]
           ]
          },
          "colorway": [
           "#636efa",
           "#EF553B",
           "#00cc96",
           "#ab63fa",
           "#FFA15A",
           "#19d3f3",
           "#FF6692",
           "#B6E880",
           "#FF97FF",
           "#FECB52"
          ],
          "font": {
           "color": "#f2f5fa"
          },
          "geo": {
           "bgcolor": "rgb(17,17,17)",
           "lakecolor": "rgb(17,17,17)",
           "landcolor": "rgb(17,17,17)",
           "showlakes": true,
           "showland": true,
           "subunitcolor": "#506784"
          },
          "hoverlabel": {
           "align": "left"
          },
          "hovermode": "closest",
          "mapbox": {
           "style": "dark"
          },
          "paper_bgcolor": "rgb(17,17,17)",
          "plot_bgcolor": "rgb(17,17,17)",
          "polar": {
           "angularaxis": {
            "gridcolor": "#506784",
            "linecolor": "#506784",
            "ticks": ""
           },
           "bgcolor": "rgb(17,17,17)",
           "radialaxis": {
            "gridcolor": "#506784",
            "linecolor": "#506784",
            "ticks": ""
           }
          },
          "scene": {
           "xaxis": {
            "backgroundcolor": "rgb(17,17,17)",
            "gridcolor": "#506784",
            "gridwidth": 2,
            "linecolor": "#506784",
            "showbackground": true,
            "ticks": "",
            "zerolinecolor": "#C8D4E3"
           },
           "yaxis": {
            "backgroundcolor": "rgb(17,17,17)",
            "gridcolor": "#506784",
            "gridwidth": 2,
            "linecolor": "#506784",
            "showbackground": true,
            "ticks": "",
            "zerolinecolor": "#C8D4E3"
           },
           "zaxis": {
            "backgroundcolor": "rgb(17,17,17)",
            "gridcolor": "#506784",
            "gridwidth": 2,
            "linecolor": "#506784",
            "showbackground": true,
            "ticks": "",
            "zerolinecolor": "#C8D4E3"
           }
          },
          "shapedefaults": {
           "line": {
            "color": "#f2f5fa"
           }
          },
          "sliderdefaults": {
           "bgcolor": "#C8D4E3",
           "bordercolor": "rgb(17,17,17)",
           "borderwidth": 1,
           "tickwidth": 0
          },
          "ternary": {
           "aaxis": {
            "gridcolor": "#506784",
            "linecolor": "#506784",
            "ticks": ""
           },
           "baxis": {
            "gridcolor": "#506784",
            "linecolor": "#506784",
            "ticks": ""
           },
           "bgcolor": "rgb(17,17,17)",
           "caxis": {
            "gridcolor": "#506784",
            "linecolor": "#506784",
            "ticks": ""
           }
          },
          "title": {
           "x": 0.05
          },
          "updatemenudefaults": {
           "bgcolor": "#506784",
           "borderwidth": 0
          },
          "xaxis": {
           "automargin": true,
           "gridcolor": "#283442",
           "linecolor": "#506784",
           "ticks": "",
           "title": {
            "standoff": 15
           },
           "zerolinecolor": "#283442",
           "zerolinewidth": 2
          },
          "yaxis": {
           "automargin": true,
           "gridcolor": "#283442",
           "linecolor": "#506784",
           "ticks": "",
           "title": {
            "standoff": 15
           },
           "zerolinecolor": "#283442",
           "zerolinewidth": 2
          }
         }
        },
        "title": {
         "text": "<b>Rolling Mean & Std da Série Diferenciada</b>",
         "x": 0.5,
         "xanchor": "center",
         "y": 0.85,
         "yanchor": "top"
        },
        "xaxis": {
         "anchor": "y",
         "domain": [
          0,
          1
         ],
         "title": {
          "text": "Data"
         }
        },
        "yaxis": {
         "anchor": "x",
         "domain": [
          0,
          1
         ],
         "title": {
          "text": "Valor"
         }
        }
       }
      }
     },
     "metadata": {},
     "output_type": "display_data"
    }
   ],
   "source": [
    "plot_rolling_mean_std(df_Rolling, rolling_mean, rolling_std)"
   ]
  },
  {
   "cell_type": "markdown",
   "metadata": {},
   "source": [
    "##### 🔶 ₿ -----> Lembrete"
   ]
  },
  {
   "cell_type": "markdown",
   "metadata": {},
   "source": [
    "---\n",
    "Teste KPSS — Validação de Estacionariedade  \n",
    "\n",
    "O teste KPSS (Kwiatkowski–Phillips–Schmidt–Shin) avalia a hipótese nula de que a série é estacionária (em nível ou tendência).  \n",
    "\n",
    "A série temporal $Z_t$ é modelada como:  \n",
    "\n",
    "$\n",
    "Z_t = r_t + u_t  \n",
    "$\n",
    "\n",
    "Onde:\n",
    "$r_t$ é uma tendência determinística (constante ou linear)\n",
    "$u_t$ é um processo estacionário\n",
    "\n",
    "⸻\n",
    "\n",
    "Estatística do teste:\n",
    "\n",
    "$\n",
    "\\text{KPSS} = \\frac{1}{T^2} \\sum_{t=1}^{T} S_t^2 \\bigg/ \\hat{\\sigma}^2  \n",
    "$\n",
    "\n",
    "Com:\n",
    "$S_t = \\sum_{i=1}^{t} \\hat{u}_i$: soma acumulada dos resíduos  \n",
    "$\\hat{\\sigma}^2$: estimativa da variância dos resíduos via Newey-West  \n",
    "$T$: número total de observações  \n",
    "\n",
    "---"
   ]
  },
  {
   "cell_type": "markdown",
   "metadata": {},
   "source": [
    "##### 🔶 ₿ -----> Teste KPSS — Teste de Raiz Unitária"
   ]
  },
  {
   "cell_type": "code",
   "execution_count": 93,
   "metadata": {},
   "outputs": [
    {
     "name": "stdout",
     "output_type": "stream",
     "text": [
      "KPSS Estatística: 0.3159038695948172\n",
      "p-valor: 0.1\n"
     ]
    }
   ],
   "source": [
    "# =================================\n",
    "# TESTE DE ESTACIONARIEDADE (KPSS)\n",
    "# =================================\n",
    "\n",
    "# Suprimir apenas o InterpolationWarning\n",
    "from statsmodels.tools.sm_exceptions import InterpolationWarning\n",
    "\n",
    "with warnings.catch_warnings():\n",
    "    warnings.simplefilter(\"ignore\", InterpolationWarning)\n",
    "    # --> Suprime o aviso de interpolação gerado pelo KPSS / Suppresses interpolation warning from KPSS <--\n",
    "\n",
    "    stat, p_value, lags, crit = kpss(df_acf[\"btc_price_diff\"].dropna(), regression='c')\n",
    "    # --> Executa o teste KPSS na série diferenciada com tendência constante ('c') / Runs KPSS test with constant trend assumption <--\n",
    "\n",
    "print(\"KPSS Estatística:\", stat)\n",
    "# --> Estatística do teste KPSS (valores maiores indicam evidência contra estacionariedade) \n",
    "# --> KPSS test statistic (higher values indicate non-stationarity) <--\n",
    "\n",
    "print(\"p-valor:\", p_value)\n",
    "# --> p-valor do teste KPSS (p < 0.05 indica rejeição da estacionariedade) / KPSS p-value (p < 0.05 suggests non-stationarity) <--"
   ]
  },
  {
   "cell_type": "markdown",
   "metadata": {},
   "source": [
    "##### 🔶 ₿ -----> Lembrete"
   ]
  },
  {
   "cell_type": "markdown",
   "metadata": {},
   "source": [
    "---\n",
    "Função de Autocorrelação Parcial (PACF)  \n",
    "\n",
    "A Função de Autocorrelação Parcial (PACF) mede a correlação entre os valores da série temporal com uma defasagem k, eliminando a influência dos lags intermediários.  \n",
    "\n",
    "Ou seja, a PACF no lag k representa a correlação entre Z(t) e Z(t-k) condicionada aos valores entre eles Z(t-1), Z(t-2), …, Z(t-k+1).  \n",
    "\n",
    "Para uma série temporal Z(t), a PACF no lag k é definida como o coeficiente \\phi_{kk} na regressão linear:  \n",
    "\n",
    "$\n",
    "Z(t) = \\phi_{k1}Z(t-1) + \\phi_{k2}Z(t-2) + \\cdots + \\phi_{kk}Z(t-k) + \\varepsilon_t  \n",
    "$\n",
    "\n",
    "Onde:  \n",
    "$\\phi_{kk}$ é a autocorrelação parcial no lag k   \n",
    "$\\varepsilon_t$ é o erro branco (resíduo aleatório)  \n",
    "\n",
    "A PACF ajuda a identificar a ordem p de um modelo AR(p), pois mostra claramente até onde as correlações são significativas sem efeito indireto de lags intermediários.  \n",
    "\n",
    "---"
   ]
  },
  {
   "cell_type": "markdown",
   "metadata": {},
   "source": [
    "##### 🔶 ₿ -----> Verificação de Autocorrelação/Padrões com ACF x PACF"
   ]
  },
  {
   "cell_type": "code",
   "execution_count": 94,
   "metadata": {},
   "outputs": [
    {
     "data": {
      "application/vnd.plotly.v1+json": {
       "config": {
        "plotlyServerURL": "https://plot.ly"
       },
       "data": [
        {
         "marker": {
          "color": "#E57C1F"
         },
         "name": "ACF",
         "type": "bar",
         "x": [
          1,
          2,
          3,
          4,
          5,
          6,
          7,
          8,
          9,
          10,
          11,
          12,
          13,
          14,
          15,
          16,
          17,
          18,
          19,
          20,
          21,
          22,
          23,
          24,
          25,
          26,
          27,
          28,
          29,
          30,
          31,
          32,
          33,
          34,
          35,
          36,
          37,
          38,
          39,
          40,
          41,
          42,
          43,
          44,
          45,
          46
         ],
         "xaxis": "x",
         "y": {
          "bdata": "C2eVCbkGcj/Ne/J2YR+YP6l41nJpRK+/5gqWFxhDpj8lziWWTQF/v3SF+Q/j2La/0E24MqH7t78iVVy7NaezP+KmcZVvipA/BdH8kBBRrz90nH/s09mrv7sOTMSjsL4/yzX07TGQqD+zw9r9bW6lv2Bq7JKmg6m/1gogECBtqb92tUPogGSjP9dxcK2dzqg/ay2dvN0Kzb8eNOxW8TKDPzCvYekJ6Lu/V/JOFwGhrj+yKLDMCXWmv5nZeR49jo6/lMV0vhBElD+7UzWKPSytvxffAMgtx5W/hCvWSfSksr/7/2Hm2Jmev51SB5DGj3K/KetMGz/Pt78H7FDeR5mZv34fXYDR36K/cqkK0Fq/rD82M/thCt2tP6MZVDKRj7Q/r0yTw03el7+cZ569kcGiP0lZDot4bqa/gr+iojRStT+NNEXBpgecP+Hm4NsKmG4/3EsaDJrSvr9eliTho5OSP+jGoapC9Zy/RJfbZbs+lz8=",
          "dtype": "f8"
         },
         "yaxis": "y"
        },
        {
         "marker": {
          "color": "#1FADE5"
         },
         "name": "PACF",
         "type": "bar",
         "x": [
          1,
          2,
          3,
          4,
          5,
          6,
          7,
          8,
          9,
          10,
          11,
          12,
          13,
          14,
          15,
          16,
          17,
          18,
          19,
          20,
          21,
          22,
          23,
          24,
          25,
          26,
          27,
          28,
          29,
          30,
          31,
          32,
          33,
          34,
          35,
          36,
          37,
          38,
          39,
          40,
          41,
          42,
          43,
          44,
          45,
          46
         ],
         "xaxis": "x2",
         "y": {
          "bdata": "O3jm0Kofcj9lWG6Ffl2YP4078pGy56+/n/G6AcHipj89VBPdh252vwsSW4WFRbm/0naqXNtht78SPuWJy8C1P4Um6EGmVYQ/jLYCPwhqrT+Offw48jGmv8axnmgSQb0/Tj6rmYT5pT+a0f8jdIyuv9SHX781Kpa/tEw3d2L1qL8Kbe+fWOGiPxQfp4d3aq8/zfYJgd1wzr8bDNLE4fBUP65V+3GqgMG/c7/L81s3kj+ozDjx+P+Rv4oZIZgFapS/dg+ais9jdL9DXziQxc+/vzt6c3EiWHa/HEOwDLWytr+AiOFgEBNlv/pA/J/gfKy/lYfeFLxosb+BeWwZHvCbvwIFdEf9OrC/RWsD7Q/ErD90if4P25CMP8KQsbMf1sI/HSsegAS/pL9Gz7B/0ayPPwoej7E+25+/ytv9L1A6rz/l0S//h3DBP/xTN3IpQ6i/pRHlHcVGwL/BcUPzdohwv/lexs9YQLm/gXP9UHq8jD8=",
          "dtype": "f8"
         },
         "yaxis": "y2"
        }
       ],
       "layout": {
        "annotations": [
         {
          "font": {
           "size": 16
          },
          "showarrow": false,
          "text": "ACF da Série Diferenciada — Lag: serie_longa (46)",
          "x": 0.5,
          "xanchor": "center",
          "xref": "paper",
          "y": 1,
          "yanchor": "bottom",
          "yref": "paper"
         },
         {
          "font": {
           "size": 16
          },
          "showarrow": false,
          "text": "PACF da Série Diferenciada — Lag: serie_longa (46)",
          "x": 0.5,
          "xanchor": "center",
          "xref": "paper",
          "y": 0.375,
          "yanchor": "bottom",
          "yref": "paper"
         }
        ],
        "height": 800,
        "shapes": [
         {
          "line": {
           "color": "blue",
           "dash": "dash"
          },
          "type": "line",
          "x0": 1,
          "x1": 46,
          "xref": "x",
          "y0": 0.14371417272092624,
          "y1": 0.14371417272092624,
          "yref": "y"
         },
         {
          "line": {
           "color": "blue",
           "dash": "dash"
          },
          "type": "line",
          "x0": 1,
          "x1": 46,
          "xref": "x",
          "y0": -0.14371417272092624,
          "y1": -0.14371417272092624,
          "yref": "y"
         },
         {
          "line": {
           "color": "blue",
           "dash": "dash"
          },
          "type": "line",
          "x0": 1,
          "x1": 46,
          "xref": "x2",
          "y0": 0.14371417272092624,
          "y1": 0.14371417272092624,
          "yref": "y2"
         },
         {
          "line": {
           "color": "blue",
           "dash": "dash"
          },
          "type": "line",
          "x0": 1,
          "x1": 46,
          "xref": "x2",
          "y0": -0.14371417272092624,
          "y1": -0.14371417272092624,
          "yref": "y2"
         }
        ],
        "showlegend": false,
        "template": {
         "data": {
          "bar": [
           {
            "error_x": {
             "color": "#f2f5fa"
            },
            "error_y": {
             "color": "#f2f5fa"
            },
            "marker": {
             "line": {
              "color": "rgb(17,17,17)",
              "width": 0.5
             },
             "pattern": {
              "fillmode": "overlay",
              "size": 10,
              "solidity": 0.2
             }
            },
            "type": "bar"
           }
          ],
          "barpolar": [
           {
            "marker": {
             "line": {
              "color": "rgb(17,17,17)",
              "width": 0.5
             },
             "pattern": {
              "fillmode": "overlay",
              "size": 10,
              "solidity": 0.2
             }
            },
            "type": "barpolar"
           }
          ],
          "carpet": [
           {
            "aaxis": {
             "endlinecolor": "#A2B1C6",
             "gridcolor": "#506784",
             "linecolor": "#506784",
             "minorgridcolor": "#506784",
             "startlinecolor": "#A2B1C6"
            },
            "baxis": {
             "endlinecolor": "#A2B1C6",
             "gridcolor": "#506784",
             "linecolor": "#506784",
             "minorgridcolor": "#506784",
             "startlinecolor": "#A2B1C6"
            },
            "type": "carpet"
           }
          ],
          "choropleth": [
           {
            "colorbar": {
             "outlinewidth": 0,
             "ticks": ""
            },
            "type": "choropleth"
           }
          ],
          "contour": [
           {
            "colorbar": {
             "outlinewidth": 0,
             "ticks": ""
            },
            "colorscale": [
             [
              0,
              "#0d0887"
             ],
             [
              0.1111111111111111,
              "#46039f"
             ],
             [
              0.2222222222222222,
              "#7201a8"
             ],
             [
              0.3333333333333333,
              "#9c179e"
             ],
             [
              0.4444444444444444,
              "#bd3786"
             ],
             [
              0.5555555555555556,
              "#d8576b"
             ],
             [
              0.6666666666666666,
              "#ed7953"
             ],
             [
              0.7777777777777778,
              "#fb9f3a"
             ],
             [
              0.8888888888888888,
              "#fdca26"
             ],
             [
              1,
              "#f0f921"
             ]
            ],
            "type": "contour"
           }
          ],
          "contourcarpet": [
           {
            "colorbar": {
             "outlinewidth": 0,
             "ticks": ""
            },
            "type": "contourcarpet"
           }
          ],
          "heatmap": [
           {
            "colorbar": {
             "outlinewidth": 0,
             "ticks": ""
            },
            "colorscale": [
             [
              0,
              "#0d0887"
             ],
             [
              0.1111111111111111,
              "#46039f"
             ],
             [
              0.2222222222222222,
              "#7201a8"
             ],
             [
              0.3333333333333333,
              "#9c179e"
             ],
             [
              0.4444444444444444,
              "#bd3786"
             ],
             [
              0.5555555555555556,
              "#d8576b"
             ],
             [
              0.6666666666666666,
              "#ed7953"
             ],
             [
              0.7777777777777778,
              "#fb9f3a"
             ],
             [
              0.8888888888888888,
              "#fdca26"
             ],
             [
              1,
              "#f0f921"
             ]
            ],
            "type": "heatmap"
           }
          ],
          "histogram": [
           {
            "marker": {
             "pattern": {
              "fillmode": "overlay",
              "size": 10,
              "solidity": 0.2
             }
            },
            "type": "histogram"
           }
          ],
          "histogram2d": [
           {
            "colorbar": {
             "outlinewidth": 0,
             "ticks": ""
            },
            "colorscale": [
             [
              0,
              "#0d0887"
             ],
             [
              0.1111111111111111,
              "#46039f"
             ],
             [
              0.2222222222222222,
              "#7201a8"
             ],
             [
              0.3333333333333333,
              "#9c179e"
             ],
             [
              0.4444444444444444,
              "#bd3786"
             ],
             [
              0.5555555555555556,
              "#d8576b"
             ],
             [
              0.6666666666666666,
              "#ed7953"
             ],
             [
              0.7777777777777778,
              "#fb9f3a"
             ],
             [
              0.8888888888888888,
              "#fdca26"
             ],
             [
              1,
              "#f0f921"
             ]
            ],
            "type": "histogram2d"
           }
          ],
          "histogram2dcontour": [
           {
            "colorbar": {
             "outlinewidth": 0,
             "ticks": ""
            },
            "colorscale": [
             [
              0,
              "#0d0887"
             ],
             [
              0.1111111111111111,
              "#46039f"
             ],
             [
              0.2222222222222222,
              "#7201a8"
             ],
             [
              0.3333333333333333,
              "#9c179e"
             ],
             [
              0.4444444444444444,
              "#bd3786"
             ],
             [
              0.5555555555555556,
              "#d8576b"
             ],
             [
              0.6666666666666666,
              "#ed7953"
             ],
             [
              0.7777777777777778,
              "#fb9f3a"
             ],
             [
              0.8888888888888888,
              "#fdca26"
             ],
             [
              1,
              "#f0f921"
             ]
            ],
            "type": "histogram2dcontour"
           }
          ],
          "mesh3d": [
           {
            "colorbar": {
             "outlinewidth": 0,
             "ticks": ""
            },
            "type": "mesh3d"
           }
          ],
          "parcoords": [
           {
            "line": {
             "colorbar": {
              "outlinewidth": 0,
              "ticks": ""
             }
            },
            "type": "parcoords"
           }
          ],
          "pie": [
           {
            "automargin": true,
            "type": "pie"
           }
          ],
          "scatter": [
           {
            "marker": {
             "line": {
              "color": "#283442"
             }
            },
            "type": "scatter"
           }
          ],
          "scatter3d": [
           {
            "line": {
             "colorbar": {
              "outlinewidth": 0,
              "ticks": ""
             }
            },
            "marker": {
             "colorbar": {
              "outlinewidth": 0,
              "ticks": ""
             }
            },
            "type": "scatter3d"
           }
          ],
          "scattercarpet": [
           {
            "marker": {
             "colorbar": {
              "outlinewidth": 0,
              "ticks": ""
             }
            },
            "type": "scattercarpet"
           }
          ],
          "scattergeo": [
           {
            "marker": {
             "colorbar": {
              "outlinewidth": 0,
              "ticks": ""
             }
            },
            "type": "scattergeo"
           }
          ],
          "scattergl": [
           {
            "marker": {
             "line": {
              "color": "#283442"
             }
            },
            "type": "scattergl"
           }
          ],
          "scattermap": [
           {
            "marker": {
             "colorbar": {
              "outlinewidth": 0,
              "ticks": ""
             }
            },
            "type": "scattermap"
           }
          ],
          "scattermapbox": [
           {
            "marker": {
             "colorbar": {
              "outlinewidth": 0,
              "ticks": ""
             }
            },
            "type": "scattermapbox"
           }
          ],
          "scatterpolar": [
           {
            "marker": {
             "colorbar": {
              "outlinewidth": 0,
              "ticks": ""
             }
            },
            "type": "scatterpolar"
           }
          ],
          "scatterpolargl": [
           {
            "marker": {
             "colorbar": {
              "outlinewidth": 0,
              "ticks": ""
             }
            },
            "type": "scatterpolargl"
           }
          ],
          "scatterternary": [
           {
            "marker": {
             "colorbar": {
              "outlinewidth": 0,
              "ticks": ""
             }
            },
            "type": "scatterternary"
           }
          ],
          "surface": [
           {
            "colorbar": {
             "outlinewidth": 0,
             "ticks": ""
            },
            "colorscale": [
             [
              0,
              "#0d0887"
             ],
             [
              0.1111111111111111,
              "#46039f"
             ],
             [
              0.2222222222222222,
              "#7201a8"
             ],
             [
              0.3333333333333333,
              "#9c179e"
             ],
             [
              0.4444444444444444,
              "#bd3786"
             ],
             [
              0.5555555555555556,
              "#d8576b"
             ],
             [
              0.6666666666666666,
              "#ed7953"
             ],
             [
              0.7777777777777778,
              "#fb9f3a"
             ],
             [
              0.8888888888888888,
              "#fdca26"
             ],
             [
              1,
              "#f0f921"
             ]
            ],
            "type": "surface"
           }
          ],
          "table": [
           {
            "cells": {
             "fill": {
              "color": "#506784"
             },
             "line": {
              "color": "rgb(17,17,17)"
             }
            },
            "header": {
             "fill": {
              "color": "#2a3f5f"
             },
             "line": {
              "color": "rgb(17,17,17)"
             }
            },
            "type": "table"
           }
          ]
         },
         "layout": {
          "annotationdefaults": {
           "arrowcolor": "#f2f5fa",
           "arrowhead": 0,
           "arrowwidth": 1
          },
          "autotypenumbers": "strict",
          "coloraxis": {
           "colorbar": {
            "outlinewidth": 0,
            "ticks": ""
           }
          },
          "colorscale": {
           "diverging": [
            [
             0,
             "#8e0152"
            ],
            [
             0.1,
             "#c51b7d"
            ],
            [
             0.2,
             "#de77ae"
            ],
            [
             0.3,
             "#f1b6da"
            ],
            [
             0.4,
             "#fde0ef"
            ],
            [
             0.5,
             "#f7f7f7"
            ],
            [
             0.6,
             "#e6f5d0"
            ],
            [
             0.7,
             "#b8e186"
            ],
            [
             0.8,
             "#7fbc41"
            ],
            [
             0.9,
             "#4d9221"
            ],
            [
             1,
             "#276419"
            ]
           ],
           "sequential": [
            [
             0,
             "#0d0887"
            ],
            [
             0.1111111111111111,
             "#46039f"
            ],
            [
             0.2222222222222222,
             "#7201a8"
            ],
            [
             0.3333333333333333,
             "#9c179e"
            ],
            [
             0.4444444444444444,
             "#bd3786"
            ],
            [
             0.5555555555555556,
             "#d8576b"
            ],
            [
             0.6666666666666666,
             "#ed7953"
            ],
            [
             0.7777777777777778,
             "#fb9f3a"
            ],
            [
             0.8888888888888888,
             "#fdca26"
            ],
            [
             1,
             "#f0f921"
            ]
           ],
           "sequentialminus": [
            [
             0,
             "#0d0887"
            ],
            [
             0.1111111111111111,
             "#46039f"
            ],
            [
             0.2222222222222222,
             "#7201a8"
            ],
            [
             0.3333333333333333,
             "#9c179e"
            ],
            [
             0.4444444444444444,
             "#bd3786"
            ],
            [
             0.5555555555555556,
             "#d8576b"
            ],
            [
             0.6666666666666666,
             "#ed7953"
            ],
            [
             0.7777777777777778,
             "#fb9f3a"
            ],
            [
             0.8888888888888888,
             "#fdca26"
            ],
            [
             1,
             "#f0f921"
            ]
           ]
          },
          "colorway": [
           "#636efa",
           "#EF553B",
           "#00cc96",
           "#ab63fa",
           "#FFA15A",
           "#19d3f3",
           "#FF6692",
           "#B6E880",
           "#FF97FF",
           "#FECB52"
          ],
          "font": {
           "color": "#f2f5fa"
          },
          "geo": {
           "bgcolor": "rgb(17,17,17)",
           "lakecolor": "rgb(17,17,17)",
           "landcolor": "rgb(17,17,17)",
           "showlakes": true,
           "showland": true,
           "subunitcolor": "#506784"
          },
          "hoverlabel": {
           "align": "left"
          },
          "hovermode": "closest",
          "mapbox": {
           "style": "dark"
          },
          "paper_bgcolor": "rgb(17,17,17)",
          "plot_bgcolor": "rgb(17,17,17)",
          "polar": {
           "angularaxis": {
            "gridcolor": "#506784",
            "linecolor": "#506784",
            "ticks": ""
           },
           "bgcolor": "rgb(17,17,17)",
           "radialaxis": {
            "gridcolor": "#506784",
            "linecolor": "#506784",
            "ticks": ""
           }
          },
          "scene": {
           "xaxis": {
            "backgroundcolor": "rgb(17,17,17)",
            "gridcolor": "#506784",
            "gridwidth": 2,
            "linecolor": "#506784",
            "showbackground": true,
            "ticks": "",
            "zerolinecolor": "#C8D4E3"
           },
           "yaxis": {
            "backgroundcolor": "rgb(17,17,17)",
            "gridcolor": "#506784",
            "gridwidth": 2,
            "linecolor": "#506784",
            "showbackground": true,
            "ticks": "",
            "zerolinecolor": "#C8D4E3"
           },
           "zaxis": {
            "backgroundcolor": "rgb(17,17,17)",
            "gridcolor": "#506784",
            "gridwidth": 2,
            "linecolor": "#506784",
            "showbackground": true,
            "ticks": "",
            "zerolinecolor": "#C8D4E3"
           }
          },
          "shapedefaults": {
           "line": {
            "color": "#f2f5fa"
           }
          },
          "sliderdefaults": {
           "bgcolor": "#C8D4E3",
           "bordercolor": "rgb(17,17,17)",
           "borderwidth": 1,
           "tickwidth": 0
          },
          "ternary": {
           "aaxis": {
            "gridcolor": "#506784",
            "linecolor": "#506784",
            "ticks": ""
           },
           "baxis": {
            "gridcolor": "#506784",
            "linecolor": "#506784",
            "ticks": ""
           },
           "bgcolor": "rgb(17,17,17)",
           "caxis": {
            "gridcolor": "#506784",
            "linecolor": "#506784",
            "ticks": ""
           }
          },
          "title": {
           "x": 0.05
          },
          "updatemenudefaults": {
           "bgcolor": "#506784",
           "borderwidth": 0
          },
          "xaxis": {
           "automargin": true,
           "gridcolor": "#283442",
           "linecolor": "#506784",
           "ticks": "",
           "title": {
            "standoff": 15
           },
           "zerolinecolor": "#283442",
           "zerolinewidth": 2
          },
          "yaxis": {
           "automargin": true,
           "gridcolor": "#283442",
           "linecolor": "#506784",
           "ticks": "",
           "title": {
            "standoff": 15
           },
           "zerolinecolor": "#283442",
           "zerolinewidth": 2
          }
         }
        },
        "xaxis": {
         "anchor": "y",
         "domain": [
          0,
          1
         ]
        },
        "xaxis2": {
         "anchor": "y2",
         "domain": [
          0,
          1
         ],
         "title": {
          "text": "Defasagem (Lag)"
         }
        },
        "yaxis": {
         "anchor": "x",
         "domain": [
          0.625,
          1
         ],
         "title": {
          "text": "Autocorrelação"
         }
        },
        "yaxis2": {
         "anchor": "x2",
         "domain": [
          0,
          0.375
         ],
         "title": {
          "text": "Autocorrelação Parcial"
         }
        }
       }
      }
     },
     "metadata": {},
     "output_type": "display_data"
    }
   ],
   "source": [
    "plot_acf_pacf(df_features_temp, resample_freq='h', nlags_option='serie_longa', manual_nlags=150, \n",
    "                  date_range_start=None, date_range_end=None)"
   ]
  },
  {
   "cell_type": "code",
   "execution_count": 95,
   "metadata": {},
   "outputs": [
    {
     "name": "stdout",
     "output_type": "stream",
     "text": [
      "[AVISO] Nenhuma janela válida para calcular estacionariedade.\n"
     ]
    }
   ],
   "source": [
    "# ================================================================\n",
    "# PARÂMETROS GERAIS / GENERAL PARAMETERS\n",
    "# ================================================================\n",
    "window_size = 60     # --> Tamanho da janela deslizante / Sliding window size <--\n",
    "step = 10            # --> Passo da janela / Window step <--\n",
    "stationarity_results = []  # --> Lista para armazenar resultados / List to store results <--\n",
    "\n",
    "# ================================================================\n",
    "# LOOP DE EXTRAÇÃO / FEATURE EXTRACTION LOOP\n",
    "# ================================================================\n",
    "for i in range(0, len(df_fft) - window_size + 1, step):\n",
    "    # Subconjunto da série para análise local\n",
    "    # / Local series slice for feature extraction\n",
    "    janela = df_fft[\"btc_price_usd\"].iloc[i:i + window_size]\n",
    "\n",
    "    # Dados de rastreio associados à última posição da janela\n",
    "    # / Metadata from the end of the window\n",
    "    block_height = df_fft[\"block_height\"].iloc[i + window_size - 1]\n",
    "    block_timestamp = df_fft[\"block_timestamp\"].iloc[i + window_size - 1]\n",
    "\n",
    "    # ================================\n",
    "    # SUPRESSÃO DE WARNINGS / WARNING SUPPRESSION\n",
    "    # ================================\n",
    "    with warnings.catch_warnings():\n",
    "        warnings.simplefilter(\"ignore\", category=InterpolationWarning)\n",
    "        warnings.simplefilter(\"ignore\", category=UserWarning)\n",
    "\n",
    "        try:\n",
    "            # ================================\n",
    "            # CÁLCULO DAS FEATURES DE ESTACIONARIEDADE\n",
    "            # STATIONARITY FEATURE EXTRACTION\n",
    "            # ================================\n",
    "            result = stationarity_diagnostics(\n",
    "                series=janela,\n",
    "                block_height=block_height,\n",
    "                block_timestamp=block_timestamp\n",
    "            )\n",
    "            # --> Executa função de extração robusta para séries curtas e longas / Calls robust function with short/long support <--\n",
    "\n",
    "        except Exception as e:\n",
    "            print(f\"[ERRO] Falha ao extrair métricas na janela {i}:{i+window_size} — {e}\")\n",
    "            # --> Em caso de falha, cria linha com NaNs / On failure, fallback to NaN <--\n",
    "            result = pd.DataFrame([{\n",
    "                \"block_height\": block_height,\n",
    "                \"block_timestamp\": block_timestamp,\n",
    "                \"adf_stat\": np.nan,\n",
    "                \"adf_pvalue\": np.nan,\n",
    "                \"kpss_stat\": np.nan,\n",
    "                \"kpss_pvalue\": np.nan\n",
    "            }])\n",
    "\n",
    "    stationarity_results.append(result)\n",
    "\n",
    "# ================================================================\n",
    "# CONSOLIDAÇÃO FINAL / FINAL CONSOLIDATION\n",
    "# ================================================================\n",
    "if stationarity_results:\n",
    "    stationarity = pd.concat(stationarity_results, ignore_index=True)\n",
    "    # --> Concatena todos os DataFrames extraídos / Concatenates all result DataFrames <--\n",
    "    display(stationarity.head())\n",
    "else:\n",
    "    print(\"[AVISO] Nenhuma janela válida para calcular estacionariedade.\")\n",
    "    stationarity = pd.DataFrame()\n",
    "    # --> Retorna DataFrame vazio se nada foi extraído / Returns empty DataFrame if no extraction succeeded <--"
   ]
  },
  {
   "cell_type": "markdown",
   "metadata": {},
   "source": [
    "### 6. Pré-Modelagem e Ajustes Estatísticos"
   ]
  },
  {
   "cell_type": "markdown",
   "metadata": {},
   "source": [
    "#### 6.1 Modelos Lineares de Benchmark"
   ]
  },
  {
   "cell_type": "markdown",
   "metadata": {},
   "source": [
    "##### 🔶 ₿ -----> Grid Search - ARIMA"
   ]
  },
  {
   "cell_type": "code",
   "execution_count": 96,
   "metadata": {},
   "outputs": [
    {
     "name": "stdout",
     "output_type": "stream",
     "text": [
      "Melhor ordem (p,d,q): (0, 1, 1)\n",
      "Menor AIC: 112.67\n"
     ]
    }
   ],
   "source": [
    "# Suprime warnings de modelos que não convergem\n",
    "warnings.filterwarnings(\"ignore\")\n",
    "# --> Suprime avisos durante o ajuste de modelos, especialmente de convergência / Suppresses warnings (e.g., convergence) during model fitting <--\n",
    "\n",
    "# ==============\n",
    "# CONFIGURAÇÕES\n",
    "# ==============\n",
    "\n",
    "p_range = range(0, 4)  # Ex: 0 a 3\n",
    "d = 1                  # Grau de diferenciação fixo\n",
    "q_range = range(0, 4)\n",
    "\n",
    "melhor_aic = float(\"inf\")\n",
    "# --> Inicializa o melhor AIC com infinito para garantir substituição / Initializes best AIC as infinity for comparison <--\n",
    "\n",
    "melhor_ordem = None\n",
    "melhor_modelo = None\n",
    "# --> Armazena a melhor ordem (p,d,q) e o melhor modelo ajustado / Stores best order and model instance <--\n",
    "\n",
    "# ====================\n",
    "# GRID SEARCH (p,d,q)\n",
    "# ====================\n",
    "\n",
    "for p in p_range:\n",
    "    for q in q_range:\n",
    "        try:\n",
    "            modelo = ARIMA(serie_diff, order=(p, d, q)).fit()\n",
    "            # --> Ajusta o modelo ARIMA para combinação atual de (p,d,q) / Fits ARIMA model for current (p,d,q) combination <--\n",
    "\n",
    "            aic = modelo.aic\n",
    "            # --> Extrai o valor de AIC do modelo ajustado / Retrieves AIC from fitted model <--\n",
    "\n",
    "            if aic < melhor_aic:\n",
    "                melhor_aic = aic\n",
    "                melhor_ordem = (p, d, q)\n",
    "                melhor_modelo = modelo\n",
    "            # --> Atualiza se o AIC for o menor encontrado até agora / Updates best model if AIC is lower <--\n",
    "\n",
    "        except Exception:\n",
    "            continue\n",
    "        # --> Ignora erros em modelos que não convergem / Skips models that raise errors <--\n",
    "\n",
    "# ==========\n",
    "# RESULTADO\n",
    "# ==========\n",
    "\n",
    "print(f\"Melhor ordem (p,d,q): {melhor_ordem}\")\n",
    "# --> Exibe a melhor combinação de parâmetros encontrada / Prints best order (p,d,q) found <--\n",
    "\n",
    "print(f\"Menor AIC: {melhor_aic:.2f}\")\n",
    "# --> Exibe o menor valor de AIC alcançado / Prints lowest AIC achieved <--"
   ]
  },
  {
   "cell_type": "markdown",
   "metadata": {},
   "source": [
    "##### 🔶 ₿ -----> Modelagem Matemática"
   ]
  },
  {
   "cell_type": "markdown",
   "metadata": {},
   "source": [
    "---\n",
    "Modelagem Matemática — ARIMA (p, d, q)\n",
    "\n",
    "O modelo ARIMA (AutoRegressive Integrated Moving Average) é uma combinação de três componentes:  \n",
    "p: número de termos autorregressivos (AR)  \n",
    "d: número de diferenciações necessárias para tornar a série estacionária  \n",
    "q: número de termos de média móvel (MA)  \n",
    "\n",
    "⸻\n",
    "\n",
    "A fórmula geral do modelo ARIMA(p, d, q) é:  \n",
    "\n",
    "$\n",
    "\\phi(B)(1 - B)^d Z_t = \\theta(B) \\varepsilon_t\n",
    "$\n",
    "\n",
    "Onde:  \n",
    "$Z_t$: valor da série temporal no tempo t  \n",
    "$B$: operador defasagem (lag), ou seja BZ_t = Z_{t-1}  \n",
    "$(1 - B)^d$: parte de diferenciação (para tornar estacionária)  \n",
    "$\\varepsilon_t$: termo de erro (ruído branco)  \n",
    "$\\phi(B) = 1 - \\phi_1 B - \\phi_2 B^2 - \\dots - \\phi_p B^p$: parte AR  \n",
    "$\\theta(B) = 1 + \\theta_1 B + \\theta_2 B^2 + \\dots + \\theta_q B^q$: parte MA  \n",
    "\n",
    "⸻\n",
    "\n",
    "Interpretação:  \n",
    "Se $d = 1$, estamos modelando a primeira diferença da série $ Y_t = Z_t - Z_{t-1}$.  \n",
    "O ARIMA então busca capturar padrões no comportamento das variações, não dos valores absolutos.  \n",
    "Um bom modelo resulta em resíduos não correlacionados, ou seja, ruído branco.  \n",
    "\n",
    "---"
   ]
  },
  {
   "cell_type": "markdown",
   "metadata": {},
   "source": [
    "##### 🔶 ₿ -----> ARIMA"
   ]
  },
  {
   "cell_type": "code",
   "execution_count": 97,
   "metadata": {},
   "outputs": [
    {
     "name": "stdout",
     "output_type": "stream",
     "text": [
      "                               SARIMAX Results                                \n",
      "==============================================================================\n",
      "Dep. Variable:          btc_price_usd   No. Observations:                    7\n",
      "Model:                 ARIMA(0, 1, 1)   Log Likelihood                 -54.334\n",
      "Date:                Wed, 09 Apr 2025   AIC                            112.669\n",
      "Time:                        12:34:42   BIC                            112.252\n",
      "Sample:                    04-02-2025   HQIC                           111.002\n",
      "                         - 04-08-2025                                         \n",
      "Covariance Type:                  opg                                         \n",
      "==============================================================================\n",
      "                 coef    std err          z      P>|z|      [0.025      0.975]\n",
      "------------------------------------------------------------------------------\n",
      "ma.L1         -1.0000      1.068     -0.937      0.349      -3.093       1.093\n",
      "sigma2       3.36e+06   3.18e-07   1.06e+13      0.000    3.36e+06    3.36e+06\n",
      "===================================================================================\n",
      "Ljung-Box (L1) (Q):                   0.93   Jarque-Bera (JB):                 0.61\n",
      "Prob(Q):                              0.34   Prob(JB):                         0.74\n",
      "Heteroskedasticity (H):               1.81   Skew:                             0.16\n",
      "Prob(H) (two-sided):                  0.71   Kurtosis:                         1.48\n",
      "===================================================================================\n",
      "\n",
      "Warnings:\n",
      "[1] Covariance matrix calculated using the outer product of gradients (complex-step).\n",
      "[2] Covariance matrix is singular or near-singular, with condition number 7.14e+28. Standard errors may be unstable.\n"
     ]
    }
   ],
   "source": [
    "p, d, q = melhor_ordem  # Ex: (1, 1, 1)\n",
    "# --> Atribui os melhores parâmetros encontrados pelo Grid Search / Assigns best (p,d,q) from Grid Search <--\n",
    "\n",
    "# Ajustar modelo ARIMA com a série diferenciada\n",
    "modelo = ARIMA(serie_diff, order=(p, d, q))\n",
    "# --> Inicializa o modelo ARIMA com a série diferenciada e a ordem selecionada / Initializes ARIMA model with differenced series and selected order <--\n",
    "\n",
    "modelo_ajustado = modelo.fit()\n",
    "# --> Ajusta o modelo aos dados / Fits the model to the data <--\n",
    "\n",
    "print(modelo_ajustado.summary())\n",
    "# --> Mostra o resumo estatístico completo do modelo ARIMA ajustado / Displays full statistical summary of the fitted ARIMA model <--"
   ]
  },
  {
   "cell_type": "markdown",
   "metadata": {},
   "source": [
    "##### 🔶 ₿ -----> Extração de Camadas Extraídas - ARIMA"
   ]
  },
  {
   "cell_type": "code",
   "execution_count": 98,
   "metadata": {},
   "outputs": [
    {
     "data": {
      "application/vnd.plotly.v1+json": {
       "config": {
        "plotlyServerURL": "https://plot.ly"
       },
       "data": [
        {
         "line": {
          "color": "#FFA726",
          "width": 1
         },
         "name": "Série Diferenciada",
         "type": "scatter",
         "x": [
          "2025-04-02T00:00:00.000000",
          "2025-04-03T00:00:00.000000",
          "2025-04-04T00:00:00.000000",
          "2025-04-05T00:00:00.000000",
          "2025-04-06T00:00:00.000000",
          "2025-04-07T00:00:00.000000",
          "2025-04-08T00:00:00.000000"
         ],
         "xaxis": "x",
         "y": {
          "bdata": "AMJF+xe7j0CggmX1jVGiwAAzJSLj64FAALgTVvcURMAA0QTU3R6ewIAt6izk86rAAHwxm9MukkA=",
          "dtype": "f8"
         },
         "yaxis": "y"
        },
        {
         "line": {
          "color": "#26C6DA",
          "width": 1
         },
         "name": "Previsão ARIMA",
         "type": "scatter",
         "x": [
          "2025-04-02T00:00:00.000000",
          "2025-04-03T00:00:00.000000",
          "2025-04-04T00:00:00.000000",
          "2025-04-05T00:00:00.000000",
          "2025-04-06T00:00:00.000000",
          "2025-04-07T00:00:00.000000",
          "2025-04-08T00:00:00.000000"
         ],
         "xaxis": "x",
         "y": {
          "bdata": "HNI88cTL9EB9N12ccMj0QCtQ0XG7M/RAHBHAdVta9EBBrKoVOlf0QPlsG7j53PNAWAofPvID80A=",
          "dtype": "f8"
         },
         "yaxis": "y"
        },
        {
         "line": {
          "color": "#FF7043",
          "width": 1
         },
         "name": "Resíduos",
         "type": "scatter",
         "x": [
          "2025-04-02T00:00:00.000000",
          "2025-04-03T00:00:00.000000",
          "2025-04-04T00:00:00.000000",
          "2025-04-05T00:00:00.000000",
          "2025-04-06T00:00:00.000000",
          "2025-04-07T00:00:00.000000",
          "2025-04-08T00:00:00.000000"
         ],
         "xaxis": "x2",
         "y": {
          "bdata": "AHBxUmM9SsCA9Lvm+E+iwAAKKc2UBoNAAKCK+cmrSMBA73ce5BuewCA8PorKuarAAKzNBR39kkA=",
          "dtype": "f8"
         },
         "yaxis": "y2"
        },
        {
         "line": {
          "color": "#AB47BC",
          "width": 1
         },
         "name": "Original",
         "type": "scatter",
         "x": [
          "2025-04-01T00:00:00.000000",
          "2025-04-02T00:00:00.000000",
          "2025-04-03T00:00:00.000000",
          "2025-04-04T00:00:00.000000",
          "2025-04-05T00:00:00.000000",
          "2025-04-06T00:00:00.000000",
          "2025-04-07T00:00:00.000000",
          "2025-04-08T00:00:00.000000"
         ],
         "xaxis": "x3",
         "y": {
          "bdata": "avjbFAeJ9EDug9JEfcj0QNlXJ9XwNfRAP6Jrm8hZ9EDI34D8RVf0QITMMIXK3vNAGHvJYysH80AIQTay5k/zQA==",
          "dtype": "f8"
         },
         "yaxis": "y3"
        }
       ],
       "layout": {
        "annotations": [
         {
          "font": {
           "size": 16
          },
          "showarrow": false,
          "text": "Série Diferenciada vs Ajustada (ARIMA)",
          "x": 0.5,
          "xanchor": "center",
          "xref": "paper",
          "y": 1,
          "yanchor": "bottom",
          "yref": "paper"
         },
         {
          "font": {
           "size": 16
          },
          "showarrow": false,
          "text": "Resíduos do Modelo ARIMA",
          "x": 0.5,
          "xanchor": "center",
          "xref": "paper",
          "y": 0.6499999999999999,
          "yanchor": "bottom",
          "yref": "paper"
         },
         {
          "font": {
           "size": 16
          },
          "showarrow": false,
          "text": "Série Original",
          "x": 0.5,
          "xanchor": "center",
          "xref": "paper",
          "y": 0.3,
          "yanchor": "bottom",
          "yref": "paper"
         }
        ],
        "height": 900,
        "showlegend": true,
        "template": {
         "data": {
          "bar": [
           {
            "error_x": {
             "color": "#f2f5fa"
            },
            "error_y": {
             "color": "#f2f5fa"
            },
            "marker": {
             "line": {
              "color": "rgb(17,17,17)",
              "width": 0.5
             },
             "pattern": {
              "fillmode": "overlay",
              "size": 10,
              "solidity": 0.2
             }
            },
            "type": "bar"
           }
          ],
          "barpolar": [
           {
            "marker": {
             "line": {
              "color": "rgb(17,17,17)",
              "width": 0.5
             },
             "pattern": {
              "fillmode": "overlay",
              "size": 10,
              "solidity": 0.2
             }
            },
            "type": "barpolar"
           }
          ],
          "carpet": [
           {
            "aaxis": {
             "endlinecolor": "#A2B1C6",
             "gridcolor": "#506784",
             "linecolor": "#506784",
             "minorgridcolor": "#506784",
             "startlinecolor": "#A2B1C6"
            },
            "baxis": {
             "endlinecolor": "#A2B1C6",
             "gridcolor": "#506784",
             "linecolor": "#506784",
             "minorgridcolor": "#506784",
             "startlinecolor": "#A2B1C6"
            },
            "type": "carpet"
           }
          ],
          "choropleth": [
           {
            "colorbar": {
             "outlinewidth": 0,
             "ticks": ""
            },
            "type": "choropleth"
           }
          ],
          "contour": [
           {
            "colorbar": {
             "outlinewidth": 0,
             "ticks": ""
            },
            "colorscale": [
             [
              0,
              "#0d0887"
             ],
             [
              0.1111111111111111,
              "#46039f"
             ],
             [
              0.2222222222222222,
              "#7201a8"
             ],
             [
              0.3333333333333333,
              "#9c179e"
             ],
             [
              0.4444444444444444,
              "#bd3786"
             ],
             [
              0.5555555555555556,
              "#d8576b"
             ],
             [
              0.6666666666666666,
              "#ed7953"
             ],
             [
              0.7777777777777778,
              "#fb9f3a"
             ],
             [
              0.8888888888888888,
              "#fdca26"
             ],
             [
              1,
              "#f0f921"
             ]
            ],
            "type": "contour"
           }
          ],
          "contourcarpet": [
           {
            "colorbar": {
             "outlinewidth": 0,
             "ticks": ""
            },
            "type": "contourcarpet"
           }
          ],
          "heatmap": [
           {
            "colorbar": {
             "outlinewidth": 0,
             "ticks": ""
            },
            "colorscale": [
             [
              0,
              "#0d0887"
             ],
             [
              0.1111111111111111,
              "#46039f"
             ],
             [
              0.2222222222222222,
              "#7201a8"
             ],
             [
              0.3333333333333333,
              "#9c179e"
             ],
             [
              0.4444444444444444,
              "#bd3786"
             ],
             [
              0.5555555555555556,
              "#d8576b"
             ],
             [
              0.6666666666666666,
              "#ed7953"
             ],
             [
              0.7777777777777778,
              "#fb9f3a"
             ],
             [
              0.8888888888888888,
              "#fdca26"
             ],
             [
              1,
              "#f0f921"
             ]
            ],
            "type": "heatmap"
           }
          ],
          "histogram": [
           {
            "marker": {
             "pattern": {
              "fillmode": "overlay",
              "size": 10,
              "solidity": 0.2
             }
            },
            "type": "histogram"
           }
          ],
          "histogram2d": [
           {
            "colorbar": {
             "outlinewidth": 0,
             "ticks": ""
            },
            "colorscale": [
             [
              0,
              "#0d0887"
             ],
             [
              0.1111111111111111,
              "#46039f"
             ],
             [
              0.2222222222222222,
              "#7201a8"
             ],
             [
              0.3333333333333333,
              "#9c179e"
             ],
             [
              0.4444444444444444,
              "#bd3786"
             ],
             [
              0.5555555555555556,
              "#d8576b"
             ],
             [
              0.6666666666666666,
              "#ed7953"
             ],
             [
              0.7777777777777778,
              "#fb9f3a"
             ],
             [
              0.8888888888888888,
              "#fdca26"
             ],
             [
              1,
              "#f0f921"
             ]
            ],
            "type": "histogram2d"
           }
          ],
          "histogram2dcontour": [
           {
            "colorbar": {
             "outlinewidth": 0,
             "ticks": ""
            },
            "colorscale": [
             [
              0,
              "#0d0887"
             ],
             [
              0.1111111111111111,
              "#46039f"
             ],
             [
              0.2222222222222222,
              "#7201a8"
             ],
             [
              0.3333333333333333,
              "#9c179e"
             ],
             [
              0.4444444444444444,
              "#bd3786"
             ],
             [
              0.5555555555555556,
              "#d8576b"
             ],
             [
              0.6666666666666666,
              "#ed7953"
             ],
             [
              0.7777777777777778,
              "#fb9f3a"
             ],
             [
              0.8888888888888888,
              "#fdca26"
             ],
             [
              1,
              "#f0f921"
             ]
            ],
            "type": "histogram2dcontour"
           }
          ],
          "mesh3d": [
           {
            "colorbar": {
             "outlinewidth": 0,
             "ticks": ""
            },
            "type": "mesh3d"
           }
          ],
          "parcoords": [
           {
            "line": {
             "colorbar": {
              "outlinewidth": 0,
              "ticks": ""
             }
            },
            "type": "parcoords"
           }
          ],
          "pie": [
           {
            "automargin": true,
            "type": "pie"
           }
          ],
          "scatter": [
           {
            "marker": {
             "line": {
              "color": "#283442"
             }
            },
            "type": "scatter"
           }
          ],
          "scatter3d": [
           {
            "line": {
             "colorbar": {
              "outlinewidth": 0,
              "ticks": ""
             }
            },
            "marker": {
             "colorbar": {
              "outlinewidth": 0,
              "ticks": ""
             }
            },
            "type": "scatter3d"
           }
          ],
          "scattercarpet": [
           {
            "marker": {
             "colorbar": {
              "outlinewidth": 0,
              "ticks": ""
             }
            },
            "type": "scattercarpet"
           }
          ],
          "scattergeo": [
           {
            "marker": {
             "colorbar": {
              "outlinewidth": 0,
              "ticks": ""
             }
            },
            "type": "scattergeo"
           }
          ],
          "scattergl": [
           {
            "marker": {
             "line": {
              "color": "#283442"
             }
            },
            "type": "scattergl"
           }
          ],
          "scattermap": [
           {
            "marker": {
             "colorbar": {
              "outlinewidth": 0,
              "ticks": ""
             }
            },
            "type": "scattermap"
           }
          ],
          "scattermapbox": [
           {
            "marker": {
             "colorbar": {
              "outlinewidth": 0,
              "ticks": ""
             }
            },
            "type": "scattermapbox"
           }
          ],
          "scatterpolar": [
           {
            "marker": {
             "colorbar": {
              "outlinewidth": 0,
              "ticks": ""
             }
            },
            "type": "scatterpolar"
           }
          ],
          "scatterpolargl": [
           {
            "marker": {
             "colorbar": {
              "outlinewidth": 0,
              "ticks": ""
             }
            },
            "type": "scatterpolargl"
           }
          ],
          "scatterternary": [
           {
            "marker": {
             "colorbar": {
              "outlinewidth": 0,
              "ticks": ""
             }
            },
            "type": "scatterternary"
           }
          ],
          "surface": [
           {
            "colorbar": {
             "outlinewidth": 0,
             "ticks": ""
            },
            "colorscale": [
             [
              0,
              "#0d0887"
             ],
             [
              0.1111111111111111,
              "#46039f"
             ],
             [
              0.2222222222222222,
              "#7201a8"
             ],
             [
              0.3333333333333333,
              "#9c179e"
             ],
             [
              0.4444444444444444,
              "#bd3786"
             ],
             [
              0.5555555555555556,
              "#d8576b"
             ],
             [
              0.6666666666666666,
              "#ed7953"
             ],
             [
              0.7777777777777778,
              "#fb9f3a"
             ],
             [
              0.8888888888888888,
              "#fdca26"
             ],
             [
              1,
              "#f0f921"
             ]
            ],
            "type": "surface"
           }
          ],
          "table": [
           {
            "cells": {
             "fill": {
              "color": "#506784"
             },
             "line": {
              "color": "rgb(17,17,17)"
             }
            },
            "header": {
             "fill": {
              "color": "#2a3f5f"
             },
             "line": {
              "color": "rgb(17,17,17)"
             }
            },
            "type": "table"
           }
          ]
         },
         "layout": {
          "annotationdefaults": {
           "arrowcolor": "#f2f5fa",
           "arrowhead": 0,
           "arrowwidth": 1
          },
          "autotypenumbers": "strict",
          "coloraxis": {
           "colorbar": {
            "outlinewidth": 0,
            "ticks": ""
           }
          },
          "colorscale": {
           "diverging": [
            [
             0,
             "#8e0152"
            ],
            [
             0.1,
             "#c51b7d"
            ],
            [
             0.2,
             "#de77ae"
            ],
            [
             0.3,
             "#f1b6da"
            ],
            [
             0.4,
             "#fde0ef"
            ],
            [
             0.5,
             "#f7f7f7"
            ],
            [
             0.6,
             "#e6f5d0"
            ],
            [
             0.7,
             "#b8e186"
            ],
            [
             0.8,
             "#7fbc41"
            ],
            [
             0.9,
             "#4d9221"
            ],
            [
             1,
             "#276419"
            ]
           ],
           "sequential": [
            [
             0,
             "#0d0887"
            ],
            [
             0.1111111111111111,
             "#46039f"
            ],
            [
             0.2222222222222222,
             "#7201a8"
            ],
            [
             0.3333333333333333,
             "#9c179e"
            ],
            [
             0.4444444444444444,
             "#bd3786"
            ],
            [
             0.5555555555555556,
             "#d8576b"
            ],
            [
             0.6666666666666666,
             "#ed7953"
            ],
            [
             0.7777777777777778,
             "#fb9f3a"
            ],
            [
             0.8888888888888888,
             "#fdca26"
            ],
            [
             1,
             "#f0f921"
            ]
           ],
           "sequentialminus": [
            [
             0,
             "#0d0887"
            ],
            [
             0.1111111111111111,
             "#46039f"
            ],
            [
             0.2222222222222222,
             "#7201a8"
            ],
            [
             0.3333333333333333,
             "#9c179e"
            ],
            [
             0.4444444444444444,
             "#bd3786"
            ],
            [
             0.5555555555555556,
             "#d8576b"
            ],
            [
             0.6666666666666666,
             "#ed7953"
            ],
            [
             0.7777777777777778,
             "#fb9f3a"
            ],
            [
             0.8888888888888888,
             "#fdca26"
            ],
            [
             1,
             "#f0f921"
            ]
           ]
          },
          "colorway": [
           "#636efa",
           "#EF553B",
           "#00cc96",
           "#ab63fa",
           "#FFA15A",
           "#19d3f3",
           "#FF6692",
           "#B6E880",
           "#FF97FF",
           "#FECB52"
          ],
          "font": {
           "color": "#f2f5fa"
          },
          "geo": {
           "bgcolor": "rgb(17,17,17)",
           "lakecolor": "rgb(17,17,17)",
           "landcolor": "rgb(17,17,17)",
           "showlakes": true,
           "showland": true,
           "subunitcolor": "#506784"
          },
          "hoverlabel": {
           "align": "left"
          },
          "hovermode": "closest",
          "mapbox": {
           "style": "dark"
          },
          "paper_bgcolor": "rgb(17,17,17)",
          "plot_bgcolor": "rgb(17,17,17)",
          "polar": {
           "angularaxis": {
            "gridcolor": "#506784",
            "linecolor": "#506784",
            "ticks": ""
           },
           "bgcolor": "rgb(17,17,17)",
           "radialaxis": {
            "gridcolor": "#506784",
            "linecolor": "#506784",
            "ticks": ""
           }
          },
          "scene": {
           "xaxis": {
            "backgroundcolor": "rgb(17,17,17)",
            "gridcolor": "#506784",
            "gridwidth": 2,
            "linecolor": "#506784",
            "showbackground": true,
            "ticks": "",
            "zerolinecolor": "#C8D4E3"
           },
           "yaxis": {
            "backgroundcolor": "rgb(17,17,17)",
            "gridcolor": "#506784",
            "gridwidth": 2,
            "linecolor": "#506784",
            "showbackground": true,
            "ticks": "",
            "zerolinecolor": "#C8D4E3"
           },
           "zaxis": {
            "backgroundcolor": "rgb(17,17,17)",
            "gridcolor": "#506784",
            "gridwidth": 2,
            "linecolor": "#506784",
            "showbackground": true,
            "ticks": "",
            "zerolinecolor": "#C8D4E3"
           }
          },
          "shapedefaults": {
           "line": {
            "color": "#f2f5fa"
           }
          },
          "sliderdefaults": {
           "bgcolor": "#C8D4E3",
           "bordercolor": "rgb(17,17,17)",
           "borderwidth": 1,
           "tickwidth": 0
          },
          "ternary": {
           "aaxis": {
            "gridcolor": "#506784",
            "linecolor": "#506784",
            "ticks": ""
           },
           "baxis": {
            "gridcolor": "#506784",
            "linecolor": "#506784",
            "ticks": ""
           },
           "bgcolor": "rgb(17,17,17)",
           "caxis": {
            "gridcolor": "#506784",
            "linecolor": "#506784",
            "ticks": ""
           }
          },
          "title": {
           "x": 0.05
          },
          "updatemenudefaults": {
           "bgcolor": "#506784",
           "borderwidth": 0
          },
          "xaxis": {
           "automargin": true,
           "gridcolor": "#283442",
           "linecolor": "#506784",
           "ticks": "",
           "title": {
            "standoff": 15
           },
           "zerolinecolor": "#283442",
           "zerolinewidth": 2
          },
          "yaxis": {
           "automargin": true,
           "gridcolor": "#283442",
           "linecolor": "#506784",
           "ticks": "",
           "title": {
            "standoff": 15
           },
           "zerolinecolor": "#283442",
           "zerolinewidth": 2
          }
         }
        },
        "title": {
         "text": "<b>Visualização das Camadas Extraídas pelo Modelo ARIMA</b>"
        },
        "xaxis": {
         "anchor": "y",
         "domain": [
          0,
          1
         ],
         "matches": "x3",
         "showticklabels": false
        },
        "xaxis2": {
         "anchor": "y2",
         "domain": [
          0,
          1
         ],
         "matches": "x3",
         "showticklabels": false
        },
        "xaxis3": {
         "anchor": "y3",
         "domain": [
          0,
          1
         ],
         "title": {
          "text": "Data"
         }
        },
        "yaxis": {
         "anchor": "x",
         "domain": [
          0.7,
          1
         ],
         "title": {
          "text": "Valor"
         }
        },
        "yaxis2": {
         "anchor": "x2",
         "domain": [
          0.35,
          0.6499999999999999
         ],
         "title": {
          "text": "Resíduo"
         }
        },
        "yaxis3": {
         "anchor": "x3",
         "domain": [
          0,
          0.3
         ],
         "title": {
          "text": "Preço BTC (USD)"
         }
        }
       }
      }
     },
     "metadata": {},
     "output_type": "display_data"
    }
   ],
   "source": [
    "plot_arima_layers(df_acf, p, d, q)"
   ]
  },
  {
   "cell_type": "code",
   "execution_count": 99,
   "metadata": {},
   "outputs": [
    {
     "name": "stdout",
     "output_type": "stream",
     "text": [
      "[AVISO] Nenhuma janela ARIMA válida foi processada.\n"
     ]
    },
    {
     "data": {
      "application/vnd.microsoft.datawrangler.viewer.v0+json": {
       "columns": [
        {
         "name": "index",
         "rawType": "int64",
         "type": "integer"
        }
       ],
       "conversionMethod": "pd.DataFrame",
       "ref": "0a9131a2-37c3-4daf-be0e-ff35be25a200",
       "rows": [],
       "shape": {
        "columns": 0,
        "rows": 0
       }
      },
      "text/html": [
       "<div>\n",
       "<style scoped>\n",
       "    .dataframe tbody tr th:only-of-type {\n",
       "        vertical-align: middle;\n",
       "    }\n",
       "\n",
       "    .dataframe tbody tr th {\n",
       "        vertical-align: top;\n",
       "    }\n",
       "\n",
       "    .dataframe thead th {\n",
       "        text-align: right;\n",
       "    }\n",
       "</style>\n",
       "<table border=\"1\" class=\"dataframe\">\n",
       "  <thead>\n",
       "    <tr style=\"text-align: right;\">\n",
       "      <th></th>\n",
       "    </tr>\n",
       "  </thead>\n",
       "  <tbody>\n",
       "  </tbody>\n",
       "</table>\n",
       "</div>"
      ],
      "text/plain": [
       "Empty DataFrame\n",
       "Columns: []\n",
       "Index: []"
      ]
     },
     "metadata": {},
     "output_type": "display_data"
    }
   ],
   "source": [
    "# Seleciona uma janela da série de preços\n",
    "janela = df_fft[\"btc_price_usd\"].iloc[-60:]\n",
    "\n",
    "# Define as chaves de rastreio (último ponto da janela)\n",
    "block_height = df_fft[\"block_height\"].iloc[-1]\n",
    "block_timestamp = df_fft[\"block_timestamp\"].iloc[-1]\n",
    "\n",
    "# Executa a extração ARIMA com rastreabilidade\n",
    "df_arima_features = extract_arima_features(\n",
    "    series=janela,\n",
    "    block_height=block_height,\n",
    "    block_timestamp=block_timestamp,\n",
    "    order=(1, 1, 1)\n",
    ")\n",
    "\n",
    "# Visualiza o resultado\n",
    "display(df_arima_features.tail())"
   ]
  },
  {
   "cell_type": "code",
   "execution_count": 100,
   "metadata": {},
   "outputs": [
    {
     "data": {
      "application/vnd.microsoft.datawrangler.viewer.v0+json": {
       "columns": [
        {
         "name": "block_timestamp",
         "rawType": "datetime64[us]",
         "type": "unknown"
        },
        {
         "name": "block_height",
         "rawType": "float64",
         "type": "float"
        },
        {
         "name": "block_timestamp",
         "rawType": "datetime64[ns]",
         "type": "datetime"
        },
        {
         "name": "rolling_mean",
         "rawType": "float64",
         "type": "float"
        },
        {
         "name": "rolling_std",
         "rawType": "float64",
         "type": "float"
        },
        {
         "name": "stationarity_zscore",
         "rawType": "float64",
         "type": "float"
        },
        {
         "name": "is_regime_change",
         "rawType": "int64",
         "type": "integer"
        }
       ],
       "conversionMethod": "pd.DataFrame",
       "ref": "ddec77a8-c177-47dc-ba7b-3f8cb53c4bea",
       "rows": [
        [
         "2025-04-04 00:00:00",
         "890876.0",
         "2024-01-04 00:00:00",
         null,
         null,
         null,
         "0"
        ],
        [
         "2025-04-05 00:00:00",
         "891049.125",
         "2024-01-05 00:00:00",
         null,
         null,
         null,
         "0"
        ],
        [
         "2025-04-06 00:00:00",
         "891191.3125",
         "2024-01-06 00:00:00",
         null,
         null,
         null,
         "0"
        ],
        [
         "2025-04-07 00:00:00",
         "891340.1875",
         "2024-01-07 00:00:00",
         null,
         null,
         null,
         "0"
        ],
        [
         "2025-04-08 00:00:00",
         "891476.2368421053",
         "2024-01-08 00:00:00",
         null,
         null,
         null,
         "0"
        ]
       ],
       "shape": {
        "columns": 6,
        "rows": 5
       }
      },
      "text/html": [
       "<div>\n",
       "<style scoped>\n",
       "    .dataframe tbody tr th:only-of-type {\n",
       "        vertical-align: middle;\n",
       "    }\n",
       "\n",
       "    .dataframe tbody tr th {\n",
       "        vertical-align: top;\n",
       "    }\n",
       "\n",
       "    .dataframe thead th {\n",
       "        text-align: right;\n",
       "    }\n",
       "</style>\n",
       "<table border=\"1\" class=\"dataframe\">\n",
       "  <thead>\n",
       "    <tr style=\"text-align: right;\">\n",
       "      <th></th>\n",
       "      <th>block_height</th>\n",
       "      <th>block_timestamp</th>\n",
       "      <th>rolling_mean</th>\n",
       "      <th>rolling_std</th>\n",
       "      <th>stationarity_zscore</th>\n",
       "      <th>is_regime_change</th>\n",
       "    </tr>\n",
       "    <tr>\n",
       "      <th>block_timestamp</th>\n",
       "      <th></th>\n",
       "      <th></th>\n",
       "      <th></th>\n",
       "      <th></th>\n",
       "      <th></th>\n",
       "      <th></th>\n",
       "    </tr>\n",
       "  </thead>\n",
       "  <tbody>\n",
       "    <tr>\n",
       "      <th>2025-04-04</th>\n",
       "      <td>890876.000000</td>\n",
       "      <td>2024-01-04</td>\n",
       "      <td>NaN</td>\n",
       "      <td>NaN</td>\n",
       "      <td>NaN</td>\n",
       "      <td>0</td>\n",
       "    </tr>\n",
       "    <tr>\n",
       "      <th>2025-04-05</th>\n",
       "      <td>891049.125000</td>\n",
       "      <td>2024-01-05</td>\n",
       "      <td>NaN</td>\n",
       "      <td>NaN</td>\n",
       "      <td>NaN</td>\n",
       "      <td>0</td>\n",
       "    </tr>\n",
       "    <tr>\n",
       "      <th>2025-04-06</th>\n",
       "      <td>891191.312500</td>\n",
       "      <td>2024-01-06</td>\n",
       "      <td>NaN</td>\n",
       "      <td>NaN</td>\n",
       "      <td>NaN</td>\n",
       "      <td>0</td>\n",
       "    </tr>\n",
       "    <tr>\n",
       "      <th>2025-04-07</th>\n",
       "      <td>891340.187500</td>\n",
       "      <td>2024-01-07</td>\n",
       "      <td>NaN</td>\n",
       "      <td>NaN</td>\n",
       "      <td>NaN</td>\n",
       "      <td>0</td>\n",
       "    </tr>\n",
       "    <tr>\n",
       "      <th>2025-04-08</th>\n",
       "      <td>891476.236842</td>\n",
       "      <td>2024-01-08</td>\n",
       "      <td>NaN</td>\n",
       "      <td>NaN</td>\n",
       "      <td>NaN</td>\n",
       "      <td>0</td>\n",
       "    </tr>\n",
       "  </tbody>\n",
       "</table>\n",
       "</div>"
      ],
      "text/plain": [
       "                  block_height block_timestamp  rolling_mean  rolling_std  \\\n",
       "block_timestamp                                                             \n",
       "2025-04-04       890876.000000      2024-01-04           NaN          NaN   \n",
       "2025-04-05       891049.125000      2024-01-05           NaN          NaN   \n",
       "2025-04-06       891191.312500      2024-01-06           NaN          NaN   \n",
       "2025-04-07       891340.187500      2024-01-07           NaN          NaN   \n",
       "2025-04-08       891476.236842      2024-01-08           NaN          NaN   \n",
       "\n",
       "                 stationarity_zscore  is_regime_change  \n",
       "block_timestamp                                         \n",
       "2025-04-04                       NaN                 0  \n",
       "2025-04-05                       NaN                 0  \n",
       "2025-04-06                       NaN                 0  \n",
       "2025-04-07                       NaN                 0  \n",
       "2025-04-08                       NaN                 0  "
      ]
     },
     "metadata": {},
     "output_type": "display_data"
    }
   ],
   "source": [
    "df_regime = extract_regime_features(df_fft, col=\"btc_price_usd\", window=48)\n",
    "display(df_regime.tail())"
   ]
  },
  {
   "cell_type": "markdown",
   "metadata": {},
   "source": [
    "#### 6.2 Diagnosticos de Residuos"
   ]
  },
  {
   "cell_type": "markdown",
   "metadata": {},
   "source": [
    "##### 🔶 ₿ -----> ACF dos Resíduos"
   ]
  },
  {
   "cell_type": "code",
   "execution_count": 101,
   "metadata": {},
   "outputs": [
    {
     "data": {
      "application/vnd.plotly.v1+json": {
       "config": {
        "plotlyServerURL": "https://plot.ly"
       },
       "data": [
        {
         "marker": {
          "color": "#E57C1F"
         },
         "name": "ACF dos Resíduos",
         "type": "bar",
         "x": [
          1,
          2,
          3,
          4,
          5,
          6
         ],
         "y": {
          "bdata": "XREXNpVC2r8NFfu0q9POv8w5HNhYC7M/9ldOD8du1D9mf2XE9ifZv8BpSR+JRcM/",
          "dtype": "f8"
         }
        }
       ],
       "layout": {
        "height": 500,
        "shapes": [
         {
          "line": {
           "color": "blue",
           "dash": "dash"
          },
          "type": "line",
          "x0": 1,
          "x1": 40,
          "y0": 0.7408103670980853,
          "y1": 0.7408103670980853
         },
         {
          "line": {
           "color": "blue",
           "dash": "dash"
          },
          "type": "line",
          "x0": 1,
          "x1": 40,
          "y0": -0.7408103670980853,
          "y1": -0.7408103670980853
         }
        ],
        "template": {
         "data": {
          "bar": [
           {
            "error_x": {
             "color": "#f2f5fa"
            },
            "error_y": {
             "color": "#f2f5fa"
            },
            "marker": {
             "line": {
              "color": "rgb(17,17,17)",
              "width": 0.5
             },
             "pattern": {
              "fillmode": "overlay",
              "size": 10,
              "solidity": 0.2
             }
            },
            "type": "bar"
           }
          ],
          "barpolar": [
           {
            "marker": {
             "line": {
              "color": "rgb(17,17,17)",
              "width": 0.5
             },
             "pattern": {
              "fillmode": "overlay",
              "size": 10,
              "solidity": 0.2
             }
            },
            "type": "barpolar"
           }
          ],
          "carpet": [
           {
            "aaxis": {
             "endlinecolor": "#A2B1C6",
             "gridcolor": "#506784",
             "linecolor": "#506784",
             "minorgridcolor": "#506784",
             "startlinecolor": "#A2B1C6"
            },
            "baxis": {
             "endlinecolor": "#A2B1C6",
             "gridcolor": "#506784",
             "linecolor": "#506784",
             "minorgridcolor": "#506784",
             "startlinecolor": "#A2B1C6"
            },
            "type": "carpet"
           }
          ],
          "choropleth": [
           {
            "colorbar": {
             "outlinewidth": 0,
             "ticks": ""
            },
            "type": "choropleth"
           }
          ],
          "contour": [
           {
            "colorbar": {
             "outlinewidth": 0,
             "ticks": ""
            },
            "colorscale": [
             [
              0,
              "#0d0887"
             ],
             [
              0.1111111111111111,
              "#46039f"
             ],
             [
              0.2222222222222222,
              "#7201a8"
             ],
             [
              0.3333333333333333,
              "#9c179e"
             ],
             [
              0.4444444444444444,
              "#bd3786"
             ],
             [
              0.5555555555555556,
              "#d8576b"
             ],
             [
              0.6666666666666666,
              "#ed7953"
             ],
             [
              0.7777777777777778,
              "#fb9f3a"
             ],
             [
              0.8888888888888888,
              "#fdca26"
             ],
             [
              1,
              "#f0f921"
             ]
            ],
            "type": "contour"
           }
          ],
          "contourcarpet": [
           {
            "colorbar": {
             "outlinewidth": 0,
             "ticks": ""
            },
            "type": "contourcarpet"
           }
          ],
          "heatmap": [
           {
            "colorbar": {
             "outlinewidth": 0,
             "ticks": ""
            },
            "colorscale": [
             [
              0,
              "#0d0887"
             ],
             [
              0.1111111111111111,
              "#46039f"
             ],
             [
              0.2222222222222222,
              "#7201a8"
             ],
             [
              0.3333333333333333,
              "#9c179e"
             ],
             [
              0.4444444444444444,
              "#bd3786"
             ],
             [
              0.5555555555555556,
              "#d8576b"
             ],
             [
              0.6666666666666666,
              "#ed7953"
             ],
             [
              0.7777777777777778,
              "#fb9f3a"
             ],
             [
              0.8888888888888888,
              "#fdca26"
             ],
             [
              1,
              "#f0f921"
             ]
            ],
            "type": "heatmap"
           }
          ],
          "histogram": [
           {
            "marker": {
             "pattern": {
              "fillmode": "overlay",
              "size": 10,
              "solidity": 0.2
             }
            },
            "type": "histogram"
           }
          ],
          "histogram2d": [
           {
            "colorbar": {
             "outlinewidth": 0,
             "ticks": ""
            },
            "colorscale": [
             [
              0,
              "#0d0887"
             ],
             [
              0.1111111111111111,
              "#46039f"
             ],
             [
              0.2222222222222222,
              "#7201a8"
             ],
             [
              0.3333333333333333,
              "#9c179e"
             ],
             [
              0.4444444444444444,
              "#bd3786"
             ],
             [
              0.5555555555555556,
              "#d8576b"
             ],
             [
              0.6666666666666666,
              "#ed7953"
             ],
             [
              0.7777777777777778,
              "#fb9f3a"
             ],
             [
              0.8888888888888888,
              "#fdca26"
             ],
             [
              1,
              "#f0f921"
             ]
            ],
            "type": "histogram2d"
           }
          ],
          "histogram2dcontour": [
           {
            "colorbar": {
             "outlinewidth": 0,
             "ticks": ""
            },
            "colorscale": [
             [
              0,
              "#0d0887"
             ],
             [
              0.1111111111111111,
              "#46039f"
             ],
             [
              0.2222222222222222,
              "#7201a8"
             ],
             [
              0.3333333333333333,
              "#9c179e"
             ],
             [
              0.4444444444444444,
              "#bd3786"
             ],
             [
              0.5555555555555556,
              "#d8576b"
             ],
             [
              0.6666666666666666,
              "#ed7953"
             ],
             [
              0.7777777777777778,
              "#fb9f3a"
             ],
             [
              0.8888888888888888,
              "#fdca26"
             ],
             [
              1,
              "#f0f921"
             ]
            ],
            "type": "histogram2dcontour"
           }
          ],
          "mesh3d": [
           {
            "colorbar": {
             "outlinewidth": 0,
             "ticks": ""
            },
            "type": "mesh3d"
           }
          ],
          "parcoords": [
           {
            "line": {
             "colorbar": {
              "outlinewidth": 0,
              "ticks": ""
             }
            },
            "type": "parcoords"
           }
          ],
          "pie": [
           {
            "automargin": true,
            "type": "pie"
           }
          ],
          "scatter": [
           {
            "marker": {
             "line": {
              "color": "#283442"
             }
            },
            "type": "scatter"
           }
          ],
          "scatter3d": [
           {
            "line": {
             "colorbar": {
              "outlinewidth": 0,
              "ticks": ""
             }
            },
            "marker": {
             "colorbar": {
              "outlinewidth": 0,
              "ticks": ""
             }
            },
            "type": "scatter3d"
           }
          ],
          "scattercarpet": [
           {
            "marker": {
             "colorbar": {
              "outlinewidth": 0,
              "ticks": ""
             }
            },
            "type": "scattercarpet"
           }
          ],
          "scattergeo": [
           {
            "marker": {
             "colorbar": {
              "outlinewidth": 0,
              "ticks": ""
             }
            },
            "type": "scattergeo"
           }
          ],
          "scattergl": [
           {
            "marker": {
             "line": {
              "color": "#283442"
             }
            },
            "type": "scattergl"
           }
          ],
          "scattermap": [
           {
            "marker": {
             "colorbar": {
              "outlinewidth": 0,
              "ticks": ""
             }
            },
            "type": "scattermap"
           }
          ],
          "scattermapbox": [
           {
            "marker": {
             "colorbar": {
              "outlinewidth": 0,
              "ticks": ""
             }
            },
            "type": "scattermapbox"
           }
          ],
          "scatterpolar": [
           {
            "marker": {
             "colorbar": {
              "outlinewidth": 0,
              "ticks": ""
             }
            },
            "type": "scatterpolar"
           }
          ],
          "scatterpolargl": [
           {
            "marker": {
             "colorbar": {
              "outlinewidth": 0,
              "ticks": ""
             }
            },
            "type": "scatterpolargl"
           }
          ],
          "scatterternary": [
           {
            "marker": {
             "colorbar": {
              "outlinewidth": 0,
              "ticks": ""
             }
            },
            "type": "scatterternary"
           }
          ],
          "surface": [
           {
            "colorbar": {
             "outlinewidth": 0,
             "ticks": ""
            },
            "colorscale": [
             [
              0,
              "#0d0887"
             ],
             [
              0.1111111111111111,
              "#46039f"
             ],
             [
              0.2222222222222222,
              "#7201a8"
             ],
             [
              0.3333333333333333,
              "#9c179e"
             ],
             [
              0.4444444444444444,
              "#bd3786"
             ],
             [
              0.5555555555555556,
              "#d8576b"
             ],
             [
              0.6666666666666666,
              "#ed7953"
             ],
             [
              0.7777777777777778,
              "#fb9f3a"
             ],
             [
              0.8888888888888888,
              "#fdca26"
             ],
             [
              1,
              "#f0f921"
             ]
            ],
            "type": "surface"
           }
          ],
          "table": [
           {
            "cells": {
             "fill": {
              "color": "#506784"
             },
             "line": {
              "color": "rgb(17,17,17)"
             }
            },
            "header": {
             "fill": {
              "color": "#2a3f5f"
             },
             "line": {
              "color": "rgb(17,17,17)"
             }
            },
            "type": "table"
           }
          ]
         },
         "layout": {
          "annotationdefaults": {
           "arrowcolor": "#f2f5fa",
           "arrowhead": 0,
           "arrowwidth": 1
          },
          "autotypenumbers": "strict",
          "coloraxis": {
           "colorbar": {
            "outlinewidth": 0,
            "ticks": ""
           }
          },
          "colorscale": {
           "diverging": [
            [
             0,
             "#8e0152"
            ],
            [
             0.1,
             "#c51b7d"
            ],
            [
             0.2,
             "#de77ae"
            ],
            [
             0.3,
             "#f1b6da"
            ],
            [
             0.4,
             "#fde0ef"
            ],
            [
             0.5,
             "#f7f7f7"
            ],
            [
             0.6,
             "#e6f5d0"
            ],
            [
             0.7,
             "#b8e186"
            ],
            [
             0.8,
             "#7fbc41"
            ],
            [
             0.9,
             "#4d9221"
            ],
            [
             1,
             "#276419"
            ]
           ],
           "sequential": [
            [
             0,
             "#0d0887"
            ],
            [
             0.1111111111111111,
             "#46039f"
            ],
            [
             0.2222222222222222,
             "#7201a8"
            ],
            [
             0.3333333333333333,
             "#9c179e"
            ],
            [
             0.4444444444444444,
             "#bd3786"
            ],
            [
             0.5555555555555556,
             "#d8576b"
            ],
            [
             0.6666666666666666,
             "#ed7953"
            ],
            [
             0.7777777777777778,
             "#fb9f3a"
            ],
            [
             0.8888888888888888,
             "#fdca26"
            ],
            [
             1,
             "#f0f921"
            ]
           ],
           "sequentialminus": [
            [
             0,
             "#0d0887"
            ],
            [
             0.1111111111111111,
             "#46039f"
            ],
            [
             0.2222222222222222,
             "#7201a8"
            ],
            [
             0.3333333333333333,
             "#9c179e"
            ],
            [
             0.4444444444444444,
             "#bd3786"
            ],
            [
             0.5555555555555556,
             "#d8576b"
            ],
            [
             0.6666666666666666,
             "#ed7953"
            ],
            [
             0.7777777777777778,
             "#fb9f3a"
            ],
            [
             0.8888888888888888,
             "#fdca26"
            ],
            [
             1,
             "#f0f921"
            ]
           ]
          },
          "colorway": [
           "#636efa",
           "#EF553B",
           "#00cc96",
           "#ab63fa",
           "#FFA15A",
           "#19d3f3",
           "#FF6692",
           "#B6E880",
           "#FF97FF",
           "#FECB52"
          ],
          "font": {
           "color": "#f2f5fa"
          },
          "geo": {
           "bgcolor": "rgb(17,17,17)",
           "lakecolor": "rgb(17,17,17)",
           "landcolor": "rgb(17,17,17)",
           "showlakes": true,
           "showland": true,
           "subunitcolor": "#506784"
          },
          "hoverlabel": {
           "align": "left"
          },
          "hovermode": "closest",
          "mapbox": {
           "style": "dark"
          },
          "paper_bgcolor": "rgb(17,17,17)",
          "plot_bgcolor": "rgb(17,17,17)",
          "polar": {
           "angularaxis": {
            "gridcolor": "#506784",
            "linecolor": "#506784",
            "ticks": ""
           },
           "bgcolor": "rgb(17,17,17)",
           "radialaxis": {
            "gridcolor": "#506784",
            "linecolor": "#506784",
            "ticks": ""
           }
          },
          "scene": {
           "xaxis": {
            "backgroundcolor": "rgb(17,17,17)",
            "gridcolor": "#506784",
            "gridwidth": 2,
            "linecolor": "#506784",
            "showbackground": true,
            "ticks": "",
            "zerolinecolor": "#C8D4E3"
           },
           "yaxis": {
            "backgroundcolor": "rgb(17,17,17)",
            "gridcolor": "#506784",
            "gridwidth": 2,
            "linecolor": "#506784",
            "showbackground": true,
            "ticks": "",
            "zerolinecolor": "#C8D4E3"
           },
           "zaxis": {
            "backgroundcolor": "rgb(17,17,17)",
            "gridcolor": "#506784",
            "gridwidth": 2,
            "linecolor": "#506784",
            "showbackground": true,
            "ticks": "",
            "zerolinecolor": "#C8D4E3"
           }
          },
          "shapedefaults": {
           "line": {
            "color": "#f2f5fa"
           }
          },
          "sliderdefaults": {
           "bgcolor": "#C8D4E3",
           "bordercolor": "rgb(17,17,17)",
           "borderwidth": 1,
           "tickwidth": 0
          },
          "ternary": {
           "aaxis": {
            "gridcolor": "#506784",
            "linecolor": "#506784",
            "ticks": ""
           },
           "baxis": {
            "gridcolor": "#506784",
            "linecolor": "#506784",
            "ticks": ""
           },
           "bgcolor": "rgb(17,17,17)",
           "caxis": {
            "gridcolor": "#506784",
            "linecolor": "#506784",
            "ticks": ""
           }
          },
          "title": {
           "x": 0.05
          },
          "updatemenudefaults": {
           "bgcolor": "#506784",
           "borderwidth": 0
          },
          "xaxis": {
           "automargin": true,
           "gridcolor": "#283442",
           "linecolor": "#506784",
           "ticks": "",
           "title": {
            "standoff": 15
           },
           "zerolinecolor": "#283442",
           "zerolinewidth": 2
          },
          "yaxis": {
           "automargin": true,
           "gridcolor": "#283442",
           "linecolor": "#506784",
           "ticks": "",
           "title": {
            "standoff": 15
           },
           "zerolinecolor": "#283442",
           "zerolinewidth": 2
          }
         }
        },
        "title": {
         "text": "ACF dos Resíduos do Modelo ARIMA"
        },
        "xaxis": {
         "title": {
          "text": "Defasagem (Lag)"
         }
        },
        "yaxis": {
         "title": {
          "text": "Autocorrelação"
         }
        }
       }
      }
     },
     "metadata": {},
     "output_type": "display_data"
    }
   ],
   "source": [
    "plot_acf_residuos(modelo_ajustado, nlags=40)"
   ]
  },
  {
   "cell_type": "markdown",
   "metadata": {},
   "source": [
    "##### 🔶 ₿ -----> Teste de LJUNG-BOX"
   ]
  },
  {
   "cell_type": "code",
   "execution_count": 102,
   "metadata": {},
   "outputs": [
    {
     "name": "stdout",
     "output_type": "stream",
     "text": [
      "[AVISO] Série de resíduos muito curta (n = 7) para 10 lags. Retornando NaNs.\n",
      "Resultado do Teste de Ljung-Box:\n",
      "Estatística: nan\n",
      "p-valor: nan\n"
     ]
    }
   ],
   "source": [
    "# ================================================================\n",
    "# TESTE DE LJUNG-BOX PARA RESÍDUOS / LJUNG-BOX TEST FOR RESIDUALS\n",
    "# ================================================================\n",
    "def run_ljung_box_test(residuals, lags=10):\n",
    "    \"\"\"\n",
    "    Executa o teste de Ljung-Box com tratamento para séries curtas.\n",
    "    / Runs Ljung-Box test with fallback for short residual series.\n",
    "\n",
    "    Parâmetros / Parameters:\n",
    "    - residuals: pd.Series ou np.array\n",
    "        Série de resíduos do modelo ajustado / Residual series from fitted model\n",
    "    - lags: int\n",
    "        Número de defasagens para o teste / Number of lags in the test\n",
    "\n",
    "    Retorna / Returns:\n",
    "    - dict com estatística e p-valor do teste\n",
    "    / dict with test statistic and p-value\n",
    "    \"\"\"\n",
    "    residuals = pd.Series(residuals).dropna()\n",
    "    # --> Remove valores ausentes dos resíduos / Drop NaNs from residuals <--\n",
    "\n",
    "    if len(residuals) <= lags:\n",
    "        print(f\"[AVISO] Série de resíduos muito curta (n = {len(residuals)}) para {lags} lags. Retornando NaNs.\")\n",
    "        return {\"lb_stat\": np.nan, \"p_value\": np.nan}\n",
    "        # --> Série insuficiente para o teste / Not enough residuals for the test <--\n",
    "\n",
    "    try:\n",
    "        ljung_result = acorr_ljungbox(residuals, lags=[lags], return_df=True)\n",
    "        return {\n",
    "            \"lb_stat\": ljung_result[\"lb_stat\"].iloc[0],\n",
    "            \"p_value\": ljung_result[\"lb_pvalue\"].iloc[0]\n",
    "        }\n",
    "        # --> Executa e retorna os resultados / Run test and return result <--\n",
    "    except Exception as e:\n",
    "        print(f\"[ERRO] Falha no teste de Ljung-Box: {e}\")\n",
    "        return {\"lb_stat\": np.nan, \"p_value\": np.nan}\n",
    "        # --> Em caso de falha, retorna NaNs / On failure, return NaNs <--\n",
    "\n",
    "# ================================================================\n",
    "# EXEMPLO DE APLICAÇÃO / APPLICATION EXAMPLE\n",
    "# ================================================================\n",
    "residuos = modelo_ajustado.resid.dropna()\n",
    "# --> Obtém os resíduos do modelo e remove valores nulos / Extracts residuals and drops NaN values <--\n",
    "\n",
    "ljung_result = run_ljung_box_test(residuos, lags=10)\n",
    "# --> Executa o teste de Ljung-Box com fallback para séries curtas / Runs Ljung-Box with fallback <--\n",
    "\n",
    "print(\"Resultado do Teste de Ljung-Box:\")\n",
    "print(f\"Estatística: {ljung_result['lb_stat']}\")\n",
    "print(f\"p-valor: {ljung_result['p_value']}\")\n",
    "# --> Exibe estatísticas e p-valor para autocorrelação conjunta / Shows p-value for joint autocorrelation <--\n",
    "\n",
    "# ================================\n",
    "# INTERPRETAÇÃO / INTERPRETATION\n",
    "# ================================\n",
    "# Se p-valor > 0.05 → resíduos não têm autocorrelação → modelo é adequado.\n",
    "# Se p-valor < 0.05 → evidência de autocorrelação nos resíduos → modelo pode ser melhorado."
   ]
  },
  {
   "cell_type": "markdown",
   "metadata": {},
   "source": [
    "##### 🔶 ₿ -----> Histograma dos resíduos + Curva Normal"
   ]
  },
  {
   "cell_type": "code",
   "execution_count": 103,
   "metadata": {},
   "outputs": [
    {
     "data": {
      "application/vnd.plotly.v1+json": {
       "config": {
        "plotlyServerURL": "https://plot.ly"
       },
       "data": [
        {
         "histnorm": "probability density",
         "marker": {
          "color": "rgba(229, 165, 0, 0.6)",
          "line": {
           "color": "#E57C1F",
           "width": 1.2
          }
         },
         "name": "Resíduos",
         "nbinsx": 50,
         "type": "histogram",
         "x": {
          "bdata": "AMJF+xe7j0C2y05mfMymwJUYcCM3dZBANOarKeEJZEB2ApzOY4ObwPj2rErfQ6fA9Rq26hg3oEA=",
          "dtype": "f8"
         }
        },
        {
         "line": {
          "color": "white",
          "width": 2
         },
         "name": "Distribuição Normal",
         "type": "scatter",
         "x": {
          "bdata": "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",
          "dtype": "f8"
         },
         "y": {
          "bdata": "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",
          "dtype": "f8"
         }
        }
       ],
       "layout": {
        "height": 500,
        "template": {
         "data": {
          "bar": [
           {
            "error_x": {
             "color": "#f2f5fa"
            },
            "error_y": {
             "color": "#f2f5fa"
            },
            "marker": {
             "line": {
              "color": "rgb(17,17,17)",
              "width": 0.5
             },
             "pattern": {
              "fillmode": "overlay",
              "size": 10,
              "solidity": 0.2
             }
            },
            "type": "bar"
           }
          ],
          "barpolar": [
           {
            "marker": {
             "line": {
              "color": "rgb(17,17,17)",
              "width": 0.5
             },
             "pattern": {
              "fillmode": "overlay",
              "size": 10,
              "solidity": 0.2
             }
            },
            "type": "barpolar"
           }
          ],
          "carpet": [
           {
            "aaxis": {
             "endlinecolor": "#A2B1C6",
             "gridcolor": "#506784",
             "linecolor": "#506784",
             "minorgridcolor": "#506784",
             "startlinecolor": "#A2B1C6"
            },
            "baxis": {
             "endlinecolor": "#A2B1C6",
             "gridcolor": "#506784",
             "linecolor": "#506784",
             "minorgridcolor": "#506784",
             "startlinecolor": "#A2B1C6"
            },
            "type": "carpet"
           }
          ],
          "choropleth": [
           {
            "colorbar": {
             "outlinewidth": 0,
             "ticks": ""
            },
            "type": "choropleth"
           }
          ],
          "contour": [
           {
            "colorbar": {
             "outlinewidth": 0,
             "ticks": ""
            },
            "colorscale": [
             [
              0,
              "#0d0887"
             ],
             [
              0.1111111111111111,
              "#46039f"
             ],
             [
              0.2222222222222222,
              "#7201a8"
             ],
             [
              0.3333333333333333,
              "#9c179e"
             ],
             [
              0.4444444444444444,
              "#bd3786"
             ],
             [
              0.5555555555555556,
              "#d8576b"
             ],
             [
              0.6666666666666666,
              "#ed7953"
             ],
             [
              0.7777777777777778,
              "#fb9f3a"
             ],
             [
              0.8888888888888888,
              "#fdca26"
             ],
             [
              1,
              "#f0f921"
             ]
            ],
            "type": "contour"
           }
          ],
          "contourcarpet": [
           {
            "colorbar": {
             "outlinewidth": 0,
             "ticks": ""
            },
            "type": "contourcarpet"
           }
          ],
          "heatmap": [
           {
            "colorbar": {
             "outlinewidth": 0,
             "ticks": ""
            },
            "colorscale": [
             [
              0,
              "#0d0887"
             ],
             [
              0.1111111111111111,
              "#46039f"
             ],
             [
              0.2222222222222222,
              "#7201a8"
             ],
             [
              0.3333333333333333,
              "#9c179e"
             ],
             [
              0.4444444444444444,
              "#bd3786"
             ],
             [
              0.5555555555555556,
              "#d8576b"
             ],
             [
              0.6666666666666666,
              "#ed7953"
             ],
             [
              0.7777777777777778,
              "#fb9f3a"
             ],
             [
              0.8888888888888888,
              "#fdca26"
             ],
             [
              1,
              "#f0f921"
             ]
            ],
            "type": "heatmap"
           }
          ],
          "histogram": [
           {
            "marker": {
             "pattern": {
              "fillmode": "overlay",
              "size": 10,
              "solidity": 0.2
             }
            },
            "type": "histogram"
           }
          ],
          "histogram2d": [
           {
            "colorbar": {
             "outlinewidth": 0,
             "ticks": ""
            },
            "colorscale": [
             [
              0,
              "#0d0887"
             ],
             [
              0.1111111111111111,
              "#46039f"
             ],
             [
              0.2222222222222222,
              "#7201a8"
             ],
             [
              0.3333333333333333,
              "#9c179e"
             ],
             [
              0.4444444444444444,
              "#bd3786"
             ],
             [
              0.5555555555555556,
              "#d8576b"
             ],
             [
              0.6666666666666666,
              "#ed7953"
             ],
             [
              0.7777777777777778,
              "#fb9f3a"
             ],
             [
              0.8888888888888888,
              "#fdca26"
             ],
             [
              1,
              "#f0f921"
             ]
            ],
            "type": "histogram2d"
           }
          ],
          "histogram2dcontour": [
           {
            "colorbar": {
             "outlinewidth": 0,
             "ticks": ""
            },
            "colorscale": [
             [
              0,
              "#0d0887"
             ],
             [
              0.1111111111111111,
              "#46039f"
             ],
             [
              0.2222222222222222,
              "#7201a8"
             ],
             [
              0.3333333333333333,
              "#9c179e"
             ],
             [
              0.4444444444444444,
              "#bd3786"
             ],
             [
              0.5555555555555556,
              "#d8576b"
             ],
             [
              0.6666666666666666,
              "#ed7953"
             ],
             [
              0.7777777777777778,
              "#fb9f3a"
             ],
             [
              0.8888888888888888,
              "#fdca26"
             ],
             [
              1,
              "#f0f921"
             ]
            ],
            "type": "histogram2dcontour"
           }
          ],
          "mesh3d": [
           {
            "colorbar": {
             "outlinewidth": 0,
             "ticks": ""
            },
            "type": "mesh3d"
           }
          ],
          "parcoords": [
           {
            "line": {
             "colorbar": {
              "outlinewidth": 0,
              "ticks": ""
             }
            },
            "type": "parcoords"
           }
          ],
          "pie": [
           {
            "automargin": true,
            "type": "pie"
           }
          ],
          "scatter": [
           {
            "marker": {
             "line": {
              "color": "#283442"
             }
            },
            "type": "scatter"
           }
          ],
          "scatter3d": [
           {
            "line": {
             "colorbar": {
              "outlinewidth": 0,
              "ticks": ""
             }
            },
            "marker": {
             "colorbar": {
              "outlinewidth": 0,
              "ticks": ""
             }
            },
            "type": "scatter3d"
           }
          ],
          "scattercarpet": [
           {
            "marker": {
             "colorbar": {
              "outlinewidth": 0,
              "ticks": ""
             }
            },
            "type": "scattercarpet"
           }
          ],
          "scattergeo": [
           {
            "marker": {
             "colorbar": {
              "outlinewidth": 0,
              "ticks": ""
             }
            },
            "type": "scattergeo"
           }
          ],
          "scattergl": [
           {
            "marker": {
             "line": {
              "color": "#283442"
             }
            },
            "type": "scattergl"
           }
          ],
          "scattermap": [
           {
            "marker": {
             "colorbar": {
              "outlinewidth": 0,
              "ticks": ""
             }
            },
            "type": "scattermap"
           }
          ],
          "scattermapbox": [
           {
            "marker": {
             "colorbar": {
              "outlinewidth": 0,
              "ticks": ""
             }
            },
            "type": "scattermapbox"
           }
          ],
          "scatterpolar": [
           {
            "marker": {
             "colorbar": {
              "outlinewidth": 0,
              "ticks": ""
             }
            },
            "type": "scatterpolar"
           }
          ],
          "scatterpolargl": [
           {
            "marker": {
             "colorbar": {
              "outlinewidth": 0,
              "ticks": ""
             }
            },
            "type": "scatterpolargl"
           }
          ],
          "scatterternary": [
           {
            "marker": {
             "colorbar": {
              "outlinewidth": 0,
              "ticks": ""
             }
            },
            "type": "scatterternary"
           }
          ],
          "surface": [
           {
            "colorbar": {
             "outlinewidth": 0,
             "ticks": ""
            },
            "colorscale": [
             [
              0,
              "#0d0887"
             ],
             [
              0.1111111111111111,
              "#46039f"
             ],
             [
              0.2222222222222222,
              "#7201a8"
             ],
             [
              0.3333333333333333,
              "#9c179e"
             ],
             [
              0.4444444444444444,
              "#bd3786"
             ],
             [
              0.5555555555555556,
              "#d8576b"
             ],
             [
              0.6666666666666666,
              "#ed7953"
             ],
             [
              0.7777777777777778,
              "#fb9f3a"
             ],
             [
              0.8888888888888888,
              "#fdca26"
             ],
             [
              1,
              "#f0f921"
             ]
            ],
            "type": "surface"
           }
          ],
          "table": [
           {
            "cells": {
             "fill": {
              "color": "#506784"
             },
             "line": {
              "color": "rgb(17,17,17)"
             }
            },
            "header": {
             "fill": {
              "color": "#2a3f5f"
             },
             "line": {
              "color": "rgb(17,17,17)"
             }
            },
            "type": "table"
           }
          ]
         },
         "layout": {
          "annotationdefaults": {
           "arrowcolor": "#f2f5fa",
           "arrowhead": 0,
           "arrowwidth": 1
          },
          "autotypenumbers": "strict",
          "coloraxis": {
           "colorbar": {
            "outlinewidth": 0,
            "ticks": ""
           }
          },
          "colorscale": {
           "diverging": [
            [
             0,
             "#8e0152"
            ],
            [
             0.1,
             "#c51b7d"
            ],
            [
             0.2,
             "#de77ae"
            ],
            [
             0.3,
             "#f1b6da"
            ],
            [
             0.4,
             "#fde0ef"
            ],
            [
             0.5,
             "#f7f7f7"
            ],
            [
             0.6,
             "#e6f5d0"
            ],
            [
             0.7,
             "#b8e186"
            ],
            [
             0.8,
             "#7fbc41"
            ],
            [
             0.9,
             "#4d9221"
            ],
            [
             1,
             "#276419"
            ]
           ],
           "sequential": [
            [
             0,
             "#0d0887"
            ],
            [
             0.1111111111111111,
             "#46039f"
            ],
            [
             0.2222222222222222,
             "#7201a8"
            ],
            [
             0.3333333333333333,
             "#9c179e"
            ],
            [
             0.4444444444444444,
             "#bd3786"
            ],
            [
             0.5555555555555556,
             "#d8576b"
            ],
            [
             0.6666666666666666,
             "#ed7953"
            ],
            [
             0.7777777777777778,
             "#fb9f3a"
            ],
            [
             0.8888888888888888,
             "#fdca26"
            ],
            [
             1,
             "#f0f921"
            ]
           ],
           "sequentialminus": [
            [
             0,
             "#0d0887"
            ],
            [
             0.1111111111111111,
             "#46039f"
            ],
            [
             0.2222222222222222,
             "#7201a8"
            ],
            [
             0.3333333333333333,
             "#9c179e"
            ],
            [
             0.4444444444444444,
             "#bd3786"
            ],
            [
             0.5555555555555556,
             "#d8576b"
            ],
            [
             0.6666666666666666,
             "#ed7953"
            ],
            [
             0.7777777777777778,
             "#fb9f3a"
            ],
            [
             0.8888888888888888,
             "#fdca26"
            ],
            [
             1,
             "#f0f921"
            ]
           ]
          },
          "colorway": [
           "#636efa",
           "#EF553B",
           "#00cc96",
           "#ab63fa",
           "#FFA15A",
           "#19d3f3",
           "#FF6692",
           "#B6E880",
           "#FF97FF",
           "#FECB52"
          ],
          "font": {
           "color": "#f2f5fa"
          },
          "geo": {
           "bgcolor": "rgb(17,17,17)",
           "lakecolor": "rgb(17,17,17)",
           "landcolor": "rgb(17,17,17)",
           "showlakes": true,
           "showland": true,
           "subunitcolor": "#506784"
          },
          "hoverlabel": {
           "align": "left"
          },
          "hovermode": "closest",
          "mapbox": {
           "style": "dark"
          },
          "paper_bgcolor": "rgb(17,17,17)",
          "plot_bgcolor": "rgb(17,17,17)",
          "polar": {
           "angularaxis": {
            "gridcolor": "#506784",
            "linecolor": "#506784",
            "ticks": ""
           },
           "bgcolor": "rgb(17,17,17)",
           "radialaxis": {
            "gridcolor": "#506784",
            "linecolor": "#506784",
            "ticks": ""
           }
          },
          "scene": {
           "xaxis": {
            "backgroundcolor": "rgb(17,17,17)",
            "gridcolor": "#506784",
            "gridwidth": 2,
            "linecolor": "#506784",
            "showbackground": true,
            "ticks": "",
            "zerolinecolor": "#C8D4E3"
           },
           "yaxis": {
            "backgroundcolor": "rgb(17,17,17)",
            "gridcolor": "#506784",
            "gridwidth": 2,
            "linecolor": "#506784",
            "showbackground": true,
            "ticks": "",
            "zerolinecolor": "#C8D4E3"
           },
           "zaxis": {
            "backgroundcolor": "rgb(17,17,17)",
            "gridcolor": "#506784",
            "gridwidth": 2,
            "linecolor": "#506784",
            "showbackground": true,
            "ticks": "",
            "zerolinecolor": "#C8D4E3"
           }
          },
          "shapedefaults": {
           "line": {
            "color": "#f2f5fa"
           }
          },
          "sliderdefaults": {
           "bgcolor": "#C8D4E3",
           "bordercolor": "rgb(17,17,17)",
           "borderwidth": 1,
           "tickwidth": 0
          },
          "ternary": {
           "aaxis": {
            "gridcolor": "#506784",
            "linecolor": "#506784",
            "ticks": ""
           },
           "baxis": {
            "gridcolor": "#506784",
            "linecolor": "#506784",
            "ticks": ""
           },
           "bgcolor": "rgb(17,17,17)",
           "caxis": {
            "gridcolor": "#506784",
            "linecolor": "#506784",
            "ticks": ""
           }
          },
          "title": {
           "x": 0.05
          },
          "updatemenudefaults": {
           "bgcolor": "#506784",
           "borderwidth": 0
          },
          "xaxis": {
           "automargin": true,
           "gridcolor": "#283442",
           "linecolor": "#506784",
           "ticks": "",
           "title": {
            "standoff": 15
           },
           "zerolinecolor": "#283442",
           "zerolinewidth": 2
          },
          "yaxis": {
           "automargin": true,
           "gridcolor": "#283442",
           "linecolor": "#506784",
           "ticks": "",
           "title": {
            "standoff": 15
           },
           "zerolinecolor": "#283442",
           "zerolinewidth": 2
          }
         }
        },
        "title": {
         "text": "Distribuição dos Resíduos vs Normal"
        },
        "xaxis": {
         "title": {
          "text": "Valor dos Resíduos"
         }
        },
        "yaxis": {
         "title": {
          "text": "Densidade"
         }
        }
       }
      }
     },
     "metadata": {},
     "output_type": "display_data"
    },
    {
     "data": {
      "application/vnd.plotly.v1+json": {
       "config": {
        "plotlyServerURL": "https://plot.ly"
       },
       "data": [
        {
         "line": {
          "color": "orange"
         },
         "mode": "lines",
         "name": "Resíduos",
         "type": "scatter",
         "x": [
          "2025-04-02T00:00:00.000000",
          "2025-04-03T00:00:00.000000",
          "2025-04-04T00:00:00.000000",
          "2025-04-05T00:00:00.000000",
          "2025-04-06T00:00:00.000000",
          "2025-04-07T00:00:00.000000",
          "2025-04-08T00:00:00.000000"
         ],
         "y": {
          "bdata": "AMJF+xe7j0C2y05mfMymwJUYcCM3dZBANOarKeEJZEB2ApzOY4ObwPj2rErfQ6fA9Rq26hg3oEA=",
          "dtype": "f8"
         }
        }
       ],
       "layout": {
        "height": 500,
        "shapes": [
         {
          "line": {
           "color": "white",
           "dash": "dash"
          },
          "type": "line",
          "x0": "2025-04-02T00:00:00",
          "x1": "2025-04-08T00:00:00",
          "y0": 0,
          "y1": 0
         }
        ],
        "template": {
         "data": {
          "bar": [
           {
            "error_x": {
             "color": "#f2f5fa"
            },
            "error_y": {
             "color": "#f2f5fa"
            },
            "marker": {
             "line": {
              "color": "rgb(17,17,17)",
              "width": 0.5
             },
             "pattern": {
              "fillmode": "overlay",
              "size": 10,
              "solidity": 0.2
             }
            },
            "type": "bar"
           }
          ],
          "barpolar": [
           {
            "marker": {
             "line": {
              "color": "rgb(17,17,17)",
              "width": 0.5
             },
             "pattern": {
              "fillmode": "overlay",
              "size": 10,
              "solidity": 0.2
             }
            },
            "type": "barpolar"
           }
          ],
          "carpet": [
           {
            "aaxis": {
             "endlinecolor": "#A2B1C6",
             "gridcolor": "#506784",
             "linecolor": "#506784",
             "minorgridcolor": "#506784",
             "startlinecolor": "#A2B1C6"
            },
            "baxis": {
             "endlinecolor": "#A2B1C6",
             "gridcolor": "#506784",
             "linecolor": "#506784",
             "minorgridcolor": "#506784",
             "startlinecolor": "#A2B1C6"
            },
            "type": "carpet"
           }
          ],
          "choropleth": [
           {
            "colorbar": {
             "outlinewidth": 0,
             "ticks": ""
            },
            "type": "choropleth"
           }
          ],
          "contour": [
           {
            "colorbar": {
             "outlinewidth": 0,
             "ticks": ""
            },
            "colorscale": [
             [
              0,
              "#0d0887"
             ],
             [
              0.1111111111111111,
              "#46039f"
             ],
             [
              0.2222222222222222,
              "#7201a8"
             ],
             [
              0.3333333333333333,
              "#9c179e"
             ],
             [
              0.4444444444444444,
              "#bd3786"
             ],
             [
              0.5555555555555556,
              "#d8576b"
             ],
             [
              0.6666666666666666,
              "#ed7953"
             ],
             [
              0.7777777777777778,
              "#fb9f3a"
             ],
             [
              0.8888888888888888,
              "#fdca26"
             ],
             [
              1,
              "#f0f921"
             ]
            ],
            "type": "contour"
           }
          ],
          "contourcarpet": [
           {
            "colorbar": {
             "outlinewidth": 0,
             "ticks": ""
            },
            "type": "contourcarpet"
           }
          ],
          "heatmap": [
           {
            "colorbar": {
             "outlinewidth": 0,
             "ticks": ""
            },
            "colorscale": [
             [
              0,
              "#0d0887"
             ],
             [
              0.1111111111111111,
              "#46039f"
             ],
             [
              0.2222222222222222,
              "#7201a8"
             ],
             [
              0.3333333333333333,
              "#9c179e"
             ],
             [
              0.4444444444444444,
              "#bd3786"
             ],
             [
              0.5555555555555556,
              "#d8576b"
             ],
             [
              0.6666666666666666,
              "#ed7953"
             ],
             [
              0.7777777777777778,
              "#fb9f3a"
             ],
             [
              0.8888888888888888,
              "#fdca26"
             ],
             [
              1,
              "#f0f921"
             ]
            ],
            "type": "heatmap"
           }
          ],
          "histogram": [
           {
            "marker": {
             "pattern": {
              "fillmode": "overlay",
              "size": 10,
              "solidity": 0.2
             }
            },
            "type": "histogram"
           }
          ],
          "histogram2d": [
           {
            "colorbar": {
             "outlinewidth": 0,
             "ticks": ""
            },
            "colorscale": [
             [
              0,
              "#0d0887"
             ],
             [
              0.1111111111111111,
              "#46039f"
             ],
             [
              0.2222222222222222,
              "#7201a8"
             ],
             [
              0.3333333333333333,
              "#9c179e"
             ],
             [
              0.4444444444444444,
              "#bd3786"
             ],
             [
              0.5555555555555556,
              "#d8576b"
             ],
             [
              0.6666666666666666,
              "#ed7953"
             ],
             [
              0.7777777777777778,
              "#fb9f3a"
             ],
             [
              0.8888888888888888,
              "#fdca26"
             ],
             [
              1,
              "#f0f921"
             ]
            ],
            "type": "histogram2d"
           }
          ],
          "histogram2dcontour": [
           {
            "colorbar": {
             "outlinewidth": 0,
             "ticks": ""
            },
            "colorscale": [
             [
              0,
              "#0d0887"
             ],
             [
              0.1111111111111111,
              "#46039f"
             ],
             [
              0.2222222222222222,
              "#7201a8"
             ],
             [
              0.3333333333333333,
              "#9c179e"
             ],
             [
              0.4444444444444444,
              "#bd3786"
             ],
             [
              0.5555555555555556,
              "#d8576b"
             ],
             [
              0.6666666666666666,
              "#ed7953"
             ],
             [
              0.7777777777777778,
              "#fb9f3a"
             ],
             [
              0.8888888888888888,
              "#fdca26"
             ],
             [
              1,
              "#f0f921"
             ]
            ],
            "type": "histogram2dcontour"
           }
          ],
          "mesh3d": [
           {
            "colorbar": {
             "outlinewidth": 0,
             "ticks": ""
            },
            "type": "mesh3d"
           }
          ],
          "parcoords": [
           {
            "line": {
             "colorbar": {
              "outlinewidth": 0,
              "ticks": ""
             }
            },
            "type": "parcoords"
           }
          ],
          "pie": [
           {
            "automargin": true,
            "type": "pie"
           }
          ],
          "scatter": [
           {
            "marker": {
             "line": {
              "color": "#283442"
             }
            },
            "type": "scatter"
           }
          ],
          "scatter3d": [
           {
            "line": {
             "colorbar": {
              "outlinewidth": 0,
              "ticks": ""
             }
            },
            "marker": {
             "colorbar": {
              "outlinewidth": 0,
              "ticks": ""
             }
            },
            "type": "scatter3d"
           }
          ],
          "scattercarpet": [
           {
            "marker": {
             "colorbar": {
              "outlinewidth": 0,
              "ticks": ""
             }
            },
            "type": "scattercarpet"
           }
          ],
          "scattergeo": [
           {
            "marker": {
             "colorbar": {
              "outlinewidth": 0,
              "ticks": ""
             }
            },
            "type": "scattergeo"
           }
          ],
          "scattergl": [
           {
            "marker": {
             "line": {
              "color": "#283442"
             }
            },
            "type": "scattergl"
           }
          ],
          "scattermap": [
           {
            "marker": {
             "colorbar": {
              "outlinewidth": 0,
              "ticks": ""
             }
            },
            "type": "scattermap"
           }
          ],
          "scattermapbox": [
           {
            "marker": {
             "colorbar": {
              "outlinewidth": 0,
              "ticks": ""
             }
            },
            "type": "scattermapbox"
           }
          ],
          "scatterpolar": [
           {
            "marker": {
             "colorbar": {
              "outlinewidth": 0,
              "ticks": ""
             }
            },
            "type": "scatterpolar"
           }
          ],
          "scatterpolargl": [
           {
            "marker": {
             "colorbar": {
              "outlinewidth": 0,
              "ticks": ""
             }
            },
            "type": "scatterpolargl"
           }
          ],
          "scatterternary": [
           {
            "marker": {
             "colorbar": {
              "outlinewidth": 0,
              "ticks": ""
             }
            },
            "type": "scatterternary"
           }
          ],
          "surface": [
           {
            "colorbar": {
             "outlinewidth": 0,
             "ticks": ""
            },
            "colorscale": [
             [
              0,
              "#0d0887"
             ],
             [
              0.1111111111111111,
              "#46039f"
             ],
             [
              0.2222222222222222,
              "#7201a8"
             ],
             [
              0.3333333333333333,
              "#9c179e"
             ],
             [
              0.4444444444444444,
              "#bd3786"
             ],
             [
              0.5555555555555556,
              "#d8576b"
             ],
             [
              0.6666666666666666,
              "#ed7953"
             ],
             [
              0.7777777777777778,
              "#fb9f3a"
             ],
             [
              0.8888888888888888,
              "#fdca26"
             ],
             [
              1,
              "#f0f921"
             ]
            ],
            "type": "surface"
           }
          ],
          "table": [
           {
            "cells": {
             "fill": {
              "color": "#506784"
             },
             "line": {
              "color": "rgb(17,17,17)"
             }
            },
            "header": {
             "fill": {
              "color": "#2a3f5f"
             },
             "line": {
              "color": "rgb(17,17,17)"
             }
            },
            "type": "table"
           }
          ]
         },
         "layout": {
          "annotationdefaults": {
           "arrowcolor": "#f2f5fa",
           "arrowhead": 0,
           "arrowwidth": 1
          },
          "autotypenumbers": "strict",
          "coloraxis": {
           "colorbar": {
            "outlinewidth": 0,
            "ticks": ""
           }
          },
          "colorscale": {
           "diverging": [
            [
             0,
             "#8e0152"
            ],
            [
             0.1,
             "#c51b7d"
            ],
            [
             0.2,
             "#de77ae"
            ],
            [
             0.3,
             "#f1b6da"
            ],
            [
             0.4,
             "#fde0ef"
            ],
            [
             0.5,
             "#f7f7f7"
            ],
            [
             0.6,
             "#e6f5d0"
            ],
            [
             0.7,
             "#b8e186"
            ],
            [
             0.8,
             "#7fbc41"
            ],
            [
             0.9,
             "#4d9221"
            ],
            [
             1,
             "#276419"
            ]
           ],
           "sequential": [
            [
             0,
             "#0d0887"
            ],
            [
             0.1111111111111111,
             "#46039f"
            ],
            [
             0.2222222222222222,
             "#7201a8"
            ],
            [
             0.3333333333333333,
             "#9c179e"
            ],
            [
             0.4444444444444444,
             "#bd3786"
            ],
            [
             0.5555555555555556,
             "#d8576b"
            ],
            [
             0.6666666666666666,
             "#ed7953"
            ],
            [
             0.7777777777777778,
             "#fb9f3a"
            ],
            [
             0.8888888888888888,
             "#fdca26"
            ],
            [
             1,
             "#f0f921"
            ]
           ],
           "sequentialminus": [
            [
             0,
             "#0d0887"
            ],
            [
             0.1111111111111111,
             "#46039f"
            ],
            [
             0.2222222222222222,
             "#7201a8"
            ],
            [
             0.3333333333333333,
             "#9c179e"
            ],
            [
             0.4444444444444444,
             "#bd3786"
            ],
            [
             0.5555555555555556,
             "#d8576b"
            ],
            [
             0.6666666666666666,
             "#ed7953"
            ],
            [
             0.7777777777777778,
             "#fb9f3a"
            ],
            [
             0.8888888888888888,
             "#fdca26"
            ],
            [
             1,
             "#f0f921"
            ]
           ]
          },
          "colorway": [
           "#636efa",
           "#EF553B",
           "#00cc96",
           "#ab63fa",
           "#FFA15A",
           "#19d3f3",
           "#FF6692",
           "#B6E880",
           "#FF97FF",
           "#FECB52"
          ],
          "font": {
           "color": "#f2f5fa"
          },
          "geo": {
           "bgcolor": "rgb(17,17,17)",
           "lakecolor": "rgb(17,17,17)",
           "landcolor": "rgb(17,17,17)",
           "showlakes": true,
           "showland": true,
           "subunitcolor": "#506784"
          },
          "hoverlabel": {
           "align": "left"
          },
          "hovermode": "closest",
          "mapbox": {
           "style": "dark"
          },
          "paper_bgcolor": "rgb(17,17,17)",
          "plot_bgcolor": "rgb(17,17,17)",
          "polar": {
           "angularaxis": {
            "gridcolor": "#506784",
            "linecolor": "#506784",
            "ticks": ""
           },
           "bgcolor": "rgb(17,17,17)",
           "radialaxis": {
            "gridcolor": "#506784",
            "linecolor": "#506784",
            "ticks": ""
           }
          },
          "scene": {
           "xaxis": {
            "backgroundcolor": "rgb(17,17,17)",
            "gridcolor": "#506784",
            "gridwidth": 2,
            "linecolor": "#506784",
            "showbackground": true,
            "ticks": "",
            "zerolinecolor": "#C8D4E3"
           },
           "yaxis": {
            "backgroundcolor": "rgb(17,17,17)",
            "gridcolor": "#506784",
            "gridwidth": 2,
            "linecolor": "#506784",
            "showbackground": true,
            "ticks": "",
            "zerolinecolor": "#C8D4E3"
           },
           "zaxis": {
            "backgroundcolor": "rgb(17,17,17)",
            "gridcolor": "#506784",
            "gridwidth": 2,
            "linecolor": "#506784",
            "showbackground": true,
            "ticks": "",
            "zerolinecolor": "#C8D4E3"
           }
          },
          "shapedefaults": {
           "line": {
            "color": "#f2f5fa"
           }
          },
          "sliderdefaults": {
           "bgcolor": "#C8D4E3",
           "bordercolor": "rgb(17,17,17)",
           "borderwidth": 1,
           "tickwidth": 0
          },
          "ternary": {
           "aaxis": {
            "gridcolor": "#506784",
            "linecolor": "#506784",
            "ticks": ""
           },
           "baxis": {
            "gridcolor": "#506784",
            "linecolor": "#506784",
            "ticks": ""
           },
           "bgcolor": "rgb(17,17,17)",
           "caxis": {
            "gridcolor": "#506784",
            "linecolor": "#506784",
            "ticks": ""
           }
          },
          "title": {
           "x": 0.05
          },
          "updatemenudefaults": {
           "bgcolor": "#506784",
           "borderwidth": 0
          },
          "xaxis": {
           "automargin": true,
           "gridcolor": "#283442",
           "linecolor": "#506784",
           "ticks": "",
           "title": {
            "standoff": 15
           },
           "zerolinecolor": "#283442",
           "zerolinewidth": 2
          },
          "yaxis": {
           "automargin": true,
           "gridcolor": "#283442",
           "linecolor": "#506784",
           "ticks": "",
           "title": {
            "standoff": 15
           },
           "zerolinecolor": "#283442",
           "zerolinewidth": 2
          }
         }
        },
        "title": {
         "text": "Resíduos ao Longo do Tempo"
        },
        "xaxis": {
         "title": {
          "text": "Data"
         }
        },
        "yaxis": {
         "title": {
          "text": "Valor do Resíduo"
         }
        }
       }
      }
     },
     "metadata": {},
     "output_type": "display_data"
    }
   ],
   "source": [
    "plot_residuos_analysis(residuos)"
   ]
  },
  {
   "cell_type": "markdown",
   "metadata": {},
   "source": [
    "### 7. Consolidação das Features Temporais"
   ]
  }
 ],
 "metadata": {
  "kernelspec": {
   "display_name": "Python (venv)",
   "language": "python",
   "name": "venv"
  },
  "language_info": {
   "codemirror_mode": {
    "name": "ipython",
    "version": 3
   },
   "file_extension": ".py",
   "mimetype": "text/x-python",
   "name": "python",
   "nbconvert_exporter": "python",
   "pygments_lexer": "ipython3",
   "version": "3.13.2"
  }
 },
 "nbformat": 4,
 "nbformat_minor": 2
}
